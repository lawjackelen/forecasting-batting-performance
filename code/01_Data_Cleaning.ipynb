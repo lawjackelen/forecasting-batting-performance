{
 "cells": [
  {
   "cell_type": "markdown",
   "id": "753d97e9",
   "metadata": {},
   "source": [
    "# Imports"
   ]
  },
  {
   "cell_type": "code",
   "execution_count": 38,
   "id": "e8e85f96",
   "metadata": {
    "ExecuteTime": {
     "end_time": "2022-07-15T04:53:37.941099Z",
     "start_time": "2022-07-15T04:53:37.917099Z"
    }
   },
   "outputs": [
    {
     "data": {
      "text/html": [
       "<style>table {align:left;display:block} </style>"
      ],
      "text/plain": [
       "<IPython.core.display.HTML object>"
      ]
     },
     "execution_count": 38,
     "metadata": {},
     "output_type": "execute_result"
    }
   ],
   "source": [
    "import pandas as pd\n",
    "import numpy as np\n",
    "import matplotlib.pyplot as plt\n",
    "import seaborn as sns\n",
    "\n",
    "from IPython.core.display import HTML\n",
    "table_css = 'table {align:left;display:block} '\n",
    "HTML('<style>{}</style>'.format(table_css))"
   ]
  },
  {
   "cell_type": "code",
   "execution_count": 39,
   "id": "75b88f99",
   "metadata": {
    "ExecuteTime": {
     "end_time": "2022-07-15T04:53:39.778376Z",
     "start_time": "2022-07-15T04:53:37.944099Z"
    }
   },
   "outputs": [],
   "source": [
    "batting = pd.read_csv('../data/war_daily_bat.txt')\n",
    "positions = pd.read_csv('../data/majors_appearances.csv')\n",
    "schedules = pd.read_csv('../data/baseballdatabank-master/baseballdatabank-master/core/Teams.csv')"
   ]
  },
  {
   "cell_type": "code",
   "execution_count": 40,
   "id": "9054ebc4",
   "metadata": {
    "ExecuteTime": {
     "end_time": "2022-07-15T04:53:39.793770Z",
     "start_time": "2022-07-15T04:53:39.778376Z"
    }
   },
   "outputs": [],
   "source": [
    "# pythonize columns\n",
    "batting.columns = [col.lower() for col in batting.columns]\n",
    "positions.columns = [col.lower() for col in positions.columns]\n",
    "schedules.columns = [col.lower() for col in schedules.columns]"
   ]
  },
  {
   "cell_type": "code",
   "execution_count": 41,
   "id": "68aec299",
   "metadata": {
    "ExecuteTime": {
     "end_time": "2022-07-15T04:53:39.809081Z",
     "start_time": "2022-07-15T04:53:39.798081Z"
    }
   },
   "outputs": [],
   "source": [
    "# reduce schedules to the effective columns\n",
    "schedules = schedules[['yearid','g','teamidbr']]\n",
    "schedules.rename(columns={'yearid': 'year_id',\n",
    "                          'g': 'gp',\n",
    "                          'teamidbr': 'team_id'},\n",
    "                 inplace=True)"
   ]
  },
  {
   "cell_type": "code",
   "execution_count": 42,
   "id": "b67fbd03",
   "metadata": {
    "ExecuteTime": {
     "end_time": "2022-07-15T04:53:39.920087Z",
     "start_time": "2022-07-15T04:53:39.813081Z"
    }
   },
   "outputs": [],
   "source": [
    "# drop columns not needed for this analysis\n",
    "batting.drop(['salary','ops_plus'], axis=1, inplace=True)\n",
    "positions.drop(['how_acquired','total_season','total_league'], axis=1, inplace=True)\n"
   ]
  },
  {
   "cell_type": "markdown",
   "id": "6e3eb3da",
   "metadata": {},
   "source": [
    "\n",
    "|Dataset| # Records | # of Columns|  \n",
    "| ---------------------------------- | ----------- |---|\n",
    "|**batting**| 119,681       |47|\n",
    "|**positions**|120,131|26|\n",
    "|**schedules**|2,985|3|"
   ]
  },
  {
   "cell_type": "markdown",
   "id": "be8288bd",
   "metadata": {},
   "source": [
    "# Data Dictionary\n",
    "## Player variables\n",
    "| Column | *dtype* | Description |\n",
    "| :-- | :-- | :-- |\n",
    "| name_common | *str* | Name of player |\n",
    "| age | *float* | Player’s age at midnight of June 30th of that year |\n",
    "| mlb_id | *float* | UID for player in baseball-reference database |\n",
    "| player_id | *str* | String-based UID generated as a function of name_common in baseball-reference database |\n",
    "| year_id | *int* | Year the season took place |\n",
    "| team_ID | *str* | Abbreviation for the team the season was played for, each team will get a different record if multiple teams were played for within the same year |\n",
    "| stint_ID | *int* | Order of team played for. 1 for first team, 2 for second, etc. |\n",
    "| lg_ID | *str* | Abbreviation for the league the team played for was in |\n",
    "| G | *int* | This includes all times that the player appeared on the lineup card. Pitchers in non-DH games that appeared on the lineup card but didn't bat will still have a game in this column. |\n",
    "| pitcher | *bool* | Indicator for player is a pitcher. |\n",
    "\n",
    "\n",
    "--------------------\n",
    "\n",
    "\n",
    "## Batter-side variables\n",
    "| Column | *dtype* | Description |\n",
    "| :-- | :-- | :-- |\n",
    "| PA | *float* | When available, we use actual plate appearances from play-by-play game accounts. Otherwise estimated using AB + BB + HBP + SF + SH, which excludes catcher interferences. |\n",
    "| Inn | *float* | Innings played |\n",
    "\n",
    "\n",
    "-------------------\n",
    "\n",
    "\n",
    "## Position variables\n",
    "| Column | *dtype* | Description |\n",
    "| :-- | :-- | :-- |\n",
    "| G_all | *int* | Total Games |\n",
    "| G_batting | *int* | Games which a PA position occurred |\n",
    "| GS_defense | *float* | Games started in which a position was played |\n",
    "| G_defense | *float* | Games in which a position was played |\n",
    "| G_p | *int* | Games in which the pitcher position was played |\n",
    "| G_c | *int* | Games in which the catcger position was played |\n",
    "| G_1b | *int* | Games in which the first base position was played |\n",
    "| G_2b | *int* | Games in which the second base position was played |\n",
    "| G_3b | *int* | Games in which the third base position was played |\n",
    "| G_ss | *int* | Games in which the short stop position was played |\n",
    "| G_lf | *int* | Games in which the left field position was played |\n",
    "| G_cf | *int* | Games in which the center field position was played |\n",
    "| G_rf | *int* | Games in which the right field position was played |\n",
    "| G_of | *int* | Games in which any outfield position was played |\n",
    "| G_dh | *int* | Games in which the designated hitter position was played |\n",
    "| G_ph | *int* | Games in which the player was a pinch hitter |\n",
    "| G_pr | *int* | Games in which the player was a pinch runner |\n",
    "\n",
    "\n",
    "--------------------\n",
    "\n",
    "\n",
    "## Runs variables\n",
    "| Column | *dtype* | Description |\n",
    "| :-- | :-- | :-- |\n",
    "| runs_bat | *float* | Number of runs better or worse than average the player was as a hitter. This is based on a modified version of wRAA. |\n",
    "| runs_br | *float* | Number of runs better or worse than average the player was for all baserunning events. SB, CS, PB, WP, Defensive Indifference. |\n",
    "| runs_dp | *float* | Number of runs better or worse than average the player was at avoiding grounding into double plays. |\n",
    "| runs_field | *float* | Fielding Range Plus/Minus Runs Saved based on BIS-trained scorer observations and batted ball timing to determine the velocity of each batted ball. |\n",
    "| runs_infield | *float* | double plays and bunts |\n",
    "| runs_outfield | *float* | outfield arms |\n",
    "| runs_catcher | *float* | catcher defense |\n",
    "| runs_good_plays | *float* | home run saving catches |\n",
    "| runs_defense | *float* | Number of runs better or worse than average the player was for all fielding. Fielding of balls in play, turning double plays, outfield arms and catcher defense are all included. |\n",
    "| runs_position | *float* | Number of runs above or below average due to positional differences. Positions like C, SS, and 2B get a bonus. Positions like 1B, DH, LF get a penalty. |\n",
    "| runs_position_p | *float* | Positional adjustment for pitchers because they bat as well and need a fielding adjustment |\n",
    "| runs_above_avg | *float* | Runs from Replacement Level - Number of runs an average player is better than a replacement player. Replacement is set for a .294 team winning percentage. |\n",
    "| runs_above_avg_off | *float* | Number of batting runs an average player is better than the batting runs of a replacement player. (no runs defense) |\n",
    "| runs_above_avg_def | *float* | Number of fielding runs an average player is better than the fielding runs of a replacement player. (runs defense AND runs position) ... adding off and def does double count runs position FYI |\n",
    "\n",
    "--------------------\n",
    "\n",
    "\n",
    "## WAA variables\n",
    "| Column | *dtype* | Description |\n",
    "| :-- | :-- | :-- |\n",
    "| WAA | *float* | Wins Above Avg - This is the wins added by this player above that of an average player. We compute the waaW-L% using a PythagenPat conversion and then subtract .500 and multiply by the number of games |\n",
    "| WAA_off | *float* | Offensive Wins Above Average |\n",
    "| WAA_def | *float* | Defensive Wins Above Average |\n",
    "\n",
    "\n",
    "--------------------\n",
    "\n",
    "\n",
    "## Pythagorean\n",
    "| Column | *dtype* | Description |\n",
    "| :-- | :-- | :-- |\n",
    "| teamRpG | *float* | an avg team runs scored with this player |\n",
    "| oppRpG | *float* |  an avg team runs allowed with this player |\n",
    "| pyth_exponent | *float* |  pythagenpat exponent based on run environment for avg teams where pythagenpat = ((rs + ra)/g)^.285 |\n",
    "| waa_win_perc | *float* | Win-Loss% w/ Avg. Team - This is the win-loss of an otherwise average team in ONLY the games this player played in. For example, for a pitcher this would only consider the games the pitcher threw |\n",
    "| waa_win_perc_off | *float* | just for offense |\n",
    "| waa_win_perc_def | *float* |  just for defense |"
   ]
  },
  {
   "cell_type": "markdown",
   "id": "4d0c5d97",
   "metadata": {},
   "source": [
    "The amount of data, as well as the amount of variables, will allow us to proceed with our project. The breakout of WAR, WAA, and runs by their respective portions should give be able to give us a deeper dive into modeling WAR against a baseline of the player's career average war.\n",
    "\n",
    "The nature of the batting, pitching, and positions tables will make trending across years simple since each row represents one or part of one season. There will be little unpacking to create a year-by-year trend line for a players WAR or other stats.\n",
    "\n",
    "The process for what's next:\n",
    "  1.  Maintain separation between **Batters** and **Pitchers** by utilizing `pitcher` bool in **Batters**.<br><br>\n",
    "  2.  Identify appropriate positional designations based on distributions within **Positions**\n",
    "*  A certain example would be to identify solo-position players by year based on a threshold of X% being played at that one position<br><br>\n",
    "  3.  Add the positional designation to **Batters** to have an additional variable for grouping and finding similar players<br><br>\n",
    "  4.  Create look-back values for the previous year's WAR values, two year's values, third year's values, etc.\n"
   ]
  },
  {
   "cell_type": "markdown",
   "id": "6726d789",
   "metadata": {},
   "source": [
    "# Data Munge"
   ]
  },
  {
   "cell_type": "markdown",
   "id": "115198f0",
   "metadata": {},
   "source": [
    "## Years and Eras"
   ]
  },
  {
   "cell_type": "markdown",
   "id": "6118e9a6",
   "metadata": {},
   "source": [
    "Baseball fans, reporters, historians, and statisticians tend to agree that there are different eras for baseball. They have names like \"dead-ball era\", \"live-ball era\", \"post-war\", \"steroid era\", etc. The lively debate online is not whether they exist but the lines of demarcation between the eras.\n",
    "\n",
    "For this analysis, we will examine the league starting in the \"expansion era\" which is commonly described as starting in 1962 due to the increase in the number of teams in the league. This will have a few benefits:\n",
    "  1.  The number of teams will be at least 20\n",
    "  2.  It excludes years with sparse game information, allowing for better data completeness\n",
    "  3.  The schedule was standardized to 162 games by this point\n",
    "  \n",
    "On the other side, the data will end in 2019 due to a shortened season in 2020 because of the COVID-19 pandemic."
   ]
  },
  {
   "cell_type": "code",
   "execution_count": 43,
   "id": "30eed7d2",
   "metadata": {
    "ExecuteTime": {
     "end_time": "2022-07-15T04:53:40.016083Z",
     "start_time": "2022-07-15T04:53:39.923081Z"
    }
   },
   "outputs": [],
   "source": [
    "# remove pre-1962 and post-2019 data\n",
    "batting = batting[(batting.year_id > 1961) & (batting.year_id < 2020)]\n",
    "positions = positions[(positions.year_id > 1961) & (positions.year_id < 2020)]\n",
    "schedules = schedules[(schedules.year_id > 1961) & (schedules.year_id < 2020)]"
   ]
  },
  {
   "cell_type": "markdown",
   "id": "09b9c690",
   "metadata": {},
   "source": [
    "\n",
    "|Dataset| # Records | # of Columns|  \n",
    "| ---------------------------------- | ----------- |---|\n",
    "|**batting**| 65,444       |47|\n",
    "|**positions**|65,445|26|\n",
    "|**schedules**|1,548|3|"
   ]
  },
  {
   "cell_type": "markdown",
   "id": "93d6df66",
   "metadata": {},
   "source": [
    "### Incomplete/Non-full Seasons"
   ]
  },
  {
   "cell_type": "markdown",
   "id": "7c9c5ef5",
   "metadata": {},
   "source": [
    "1962:\n",
    "-  all teams 162 except Dodgers & Giants (165)\n",
    "\n",
    "1972:\n",
    "-  Det, NYM, STL, MTL, PHI, CLE, MIL (156)\n",
    "-  Oak, LAD, CHC, SFG, NYY, BOS, Cal,pit (155)\n",
    "-  Cin, Bal, Min, Atl KC, CWS, Tex (154)\n",
    "-  Hou, SD (153)\n",
    "\n",
    "1981: Strike\n",
    "-  SFG (111)\n",
    "-  CAL, LAD, HOU, SDP (110)\n",
    "-  MIL, DET, OAK, SEA, MIN (109)\n",
    "-  BOS, MTL, CIN (108)\n",
    "-  NYY, PHI (107)\n",
    "-  TOR, CWS, ATL (106)\n",
    "-  BAL, TEX (105)\n",
    "-  CLE, KC, NYM, CHC (103)\n",
    "-  STL, PIT (102)\n",
    "\n",
    "1994: Strike\n",
    "-  COL, SDP (117)\n",
    "-  TOR, BOS, DET, KCR, MIL, CAL, PHI, FLA, HOU, SFG (115)\n",
    "-  TEX, OAK, MTL, ATL, CIN, PIT, STL, LAD (114)\n",
    "-  NYY, CWS, CLE, MIN, NYM, CHC (113)\n",
    "-  BAL, SEA (112)\n",
    "\n",
    "1995:\n",
    "-  Strike-shortened, all 144"
   ]
  },
  {
   "cell_type": "code",
   "execution_count": 44,
   "id": "fe82303a",
   "metadata": {
    "ExecuteTime": {
     "end_time": "2022-07-15T04:53:40.112080Z",
     "start_time": "2022-07-15T04:53:40.019081Z"
    },
    "scrolled": true
   },
   "outputs": [],
   "source": [
    "# merge batting and schedules to get the number of games a team_id played per\n",
    "# year_id\n",
    "batting = pd.merge(batting, schedules,\n",
    "                   on = ['year_id','team_id'])\n",
    "\n",
    "batting.rename(columns={'gp': 'team_gp'},\n",
    "               inplace=True)"
   ]
  },
  {
   "cell_type": "markdown",
   "id": "f4f07ae1",
   "metadata": {},
   "source": [
    "## Null Values - Batting"
   ]
  },
  {
   "cell_type": "code",
   "execution_count": 45,
   "id": "de5b1d3e",
   "metadata": {
    "ExecuteTime": {
     "end_time": "2022-07-15T04:53:40.255082Z",
     "start_time": "2022-07-15T04:53:40.115081Z"
    }
   },
   "outputs": [
    {
     "data": {
      "text/html": [
       "<div>\n",
       "<style scoped>\n",
       "    .dataframe tbody tr th:only-of-type {\n",
       "        vertical-align: middle;\n",
       "    }\n",
       "\n",
       "    .dataframe tbody tr th {\n",
       "        vertical-align: top;\n",
       "    }\n",
       "\n",
       "    .dataframe thead th {\n",
       "        text-align: right;\n",
       "    }\n",
       "</style>\n",
       "<table border=\"1\" class=\"dataframe\">\n",
       "  <thead>\n",
       "    <tr style=\"text-align: right;\">\n",
       "      <th></th>\n",
       "      <th># of Nulls</th>\n",
       "    </tr>\n",
       "  </thead>\n",
       "  <tbody>\n",
       "    <tr>\n",
       "      <th>runs_good_plays</th>\n",
       "      <td>41336</td>\n",
       "    </tr>\n",
       "    <tr>\n",
       "      <th>war</th>\n",
       "      <td>8234</td>\n",
       "    </tr>\n",
       "    <tr>\n",
       "      <th>war_off</th>\n",
       "      <td>8234</td>\n",
       "    </tr>\n",
       "    <tr>\n",
       "      <th>war_rep</th>\n",
       "      <td>8234</td>\n",
       "    </tr>\n",
       "    <tr>\n",
       "      <th>opprpg_rep</th>\n",
       "      <td>7799</td>\n",
       "    </tr>\n",
       "    <tr>\n",
       "      <th>waa_win_perc_def</th>\n",
       "      <td>7799</td>\n",
       "    </tr>\n",
       "    <tr>\n",
       "      <th>waa_win_perc_off</th>\n",
       "      <td>7799</td>\n",
       "    </tr>\n",
       "    <tr>\n",
       "      <th>waa_win_perc</th>\n",
       "      <td>7799</td>\n",
       "    </tr>\n",
       "    <tr>\n",
       "      <th>pyth_exponent_rep</th>\n",
       "      <td>7799</td>\n",
       "    </tr>\n",
       "    <tr>\n",
       "      <th>pyth_exponent</th>\n",
       "      <td>7799</td>\n",
       "    </tr>\n",
       "    <tr>\n",
       "      <th>waa_win_perc_rep</th>\n",
       "      <td>7799</td>\n",
       "    </tr>\n",
       "    <tr>\n",
       "      <th>teamrpg</th>\n",
       "      <td>7799</td>\n",
       "    </tr>\n",
       "    <tr>\n",
       "      <th>waa</th>\n",
       "      <td>7799</td>\n",
       "    </tr>\n",
       "    <tr>\n",
       "      <th>war_def</th>\n",
       "      <td>7799</td>\n",
       "    </tr>\n",
       "    <tr>\n",
       "      <th>waa_def</th>\n",
       "      <td>7799</td>\n",
       "    </tr>\n",
       "    <tr>\n",
       "      <th>waa_off</th>\n",
       "      <td>7799</td>\n",
       "    </tr>\n",
       "    <tr>\n",
       "      <th>pitcher</th>\n",
       "      <td>435</td>\n",
       "    </tr>\n",
       "  </tbody>\n",
       "</table>\n",
       "</div>"
      ],
      "text/plain": [
       "                   # of Nulls\n",
       "runs_good_plays         41336\n",
       "war                      8234\n",
       "war_off                  8234\n",
       "war_rep                  8234\n",
       "opprpg_rep               7799\n",
       "waa_win_perc_def         7799\n",
       "waa_win_perc_off         7799\n",
       "waa_win_perc             7799\n",
       "pyth_exponent_rep        7799\n",
       "pyth_exponent            7799\n",
       "waa_win_perc_rep         7799\n",
       "teamrpg                  7799\n",
       "waa                      7799\n",
       "war_def                  7799\n",
       "waa_def                  7799\n",
       "waa_off                  7799\n",
       "pitcher                   435"
      ]
     },
     "execution_count": 45,
     "metadata": {},
     "output_type": "execute_result"
    }
   ],
   "source": [
    "batting[batting.columns[batting.isnull().any()]].isnull().sum()\\\n",
    "                                            .to_frame(\"# of Nulls\")\\\n",
    "                                            .sort_values('# of Nulls',\n",
    "                                                         ascending = False)"
   ]
  },
  {
   "cell_type": "markdown",
   "id": "94cf3db3",
   "metadata": {},
   "source": [
    "### `runs_good_plays` nulls"
   ]
  },
  {
   "cell_type": "code",
   "execution_count": 46,
   "id": "95d0e85b",
   "metadata": {
    "ExecuteTime": {
     "end_time": "2022-07-15T04:53:40.638679Z",
     "start_time": "2022-07-15T04:53:40.258081Z"
    }
   },
   "outputs": [
    {
     "data": {
      "image/png": "[encoded data removed]",
      "text/plain": [
       "<Figure size 460.8x345.6 with 1 Axes>"
      ]
     },
     "metadata": {
      "needs_background": "light"
     },
     "output_type": "display_data"
    }
   ],
   "source": [
    "fig, ax = plt.subplots(1, 1, figsize = (6.4,4.8))\n",
    "ax.plot(batting.isnull().groupby(batting['year_id']).sum().runs_good_plays)\n",
    "ax.set_title('Count of Nulls for runs_good_plays')\n",
    "ax.set_ylabel('# of Nulls')\n",
    "ax.set_xlabel('year_id');"
   ]
  },
  {
   "cell_type": "markdown",
   "id": "c7d8dc0c",
   "metadata": {},
   "source": [
    "`runs_good_plays` only has values from 2003 onward. Baseball-Reference changed their fielding/defense runs values from TZR (total zone rating) to DRS (defensive runs saved) in 2003. `runs_good_plays` is a variable only present in DRS.\n",
    "\n",
    "This brings up a watershed moment for fielding, we know:\n",
    "```python\n",
    "runs_defense = runs_field + runs_infield + runs_outfield + runs_catcher + runs_good_plays\n",
    "```\n",
    "The way each of those components is calculated is changed by whether it was a TZR or DRS measurement. For this reason, they cannot be compared at this level of detail if the analysis is to include years before and after 2003, and must be dropped."
   ]
  },
  {
   "cell_type": "code",
   "execution_count": 47,
   "id": "70008222",
   "metadata": {
    "ExecuteTime": {
     "end_time": "2022-07-15T04:53:40.686610Z",
     "start_time": "2022-07-15T04:53:40.643609Z"
    }
   },
   "outputs": [],
   "source": [
    "# drop everything except runs_defense\n",
    "batting.drop(['runs_field',\n",
    "              'runs_infield',\n",
    "              'runs_outfield',\n",
    "              'runs_catcher',\n",
    "              'runs_good_plays'], axis=1, inplace=True)"
   ]
  },
  {
   "cell_type": "markdown",
   "id": "31f0b071",
   "metadata": {},
   "source": [
    "### `WAR` nulls"
   ]
  },
  {
   "cell_type": "code",
   "execution_count": 48,
   "id": "992b40f4",
   "metadata": {
    "ExecuteTime": {
     "end_time": "2022-07-15T04:53:40.718678Z",
     "start_time": "2022-07-15T04:53:40.689611Z"
    }
   },
   "outputs": [
    {
     "data": {
      "text/plain": [
       "war  war_off  war_rep\n",
       "NaN  NaN      NaN        8234\n",
       "dtype: int64"
      ]
     },
     "execution_count": 48,
     "metadata": {},
     "output_type": "execute_result"
    }
   ],
   "source": [
    "batting[batting.war.isnull()][['war','war_off','war_rep']].value_counts(dropna=False)"
   ]
  },
  {
   "cell_type": "markdown",
   "id": "2e962ac7",
   "metadata": {},
   "source": [
    "all `WAR` nulls coincide with at least one nulls for `war_off`, `war_rep`"
   ]
  },
  {
   "cell_type": "markdown",
   "id": "243e1d0b",
   "metadata": {},
   "source": [
    "A brief review of WAR:\n",
    "\n",
    "WAR stands for Wins Above Replacement and is calculated by determining the number of runs a player is responsible for and then extrapolating that to the number of runs that is above the average league player. This is called WAA. Translating from WAA to WAR includes a calculation called WAR_rep which is meant to represent the gap between an average player and a replacement one.\n",
    "\n",
    "```Python\n",
    "runs_above_avg = runs_bat + runs_br + runs_dp + runs_defense + runs_pos\n",
    "f(runs_above_avg | year season played) = WAA\n",
    "g(runs_above_avg | year season played) = WAR_rep\n",
    "WAR = WAR_rep + WAA\n",
    "```\n",
    "\n",
    "At the end of the day, runs, WAA, and WAR can all be decomposed\n",
    "```python\n",
    "runs_above_avg = runs_above_avg_off + runs_above_avg_def - runs_pos\n",
    "WAA = WAA_off + WAA_def - WAA_position\n",
    "WAR = WAR_off + WAR_def - WAR_pos, where WAR_off = WAA_off + WAR_rep\n",
    "```"
   ]
  },
  {
   "cell_type": "markdown",
   "id": "666abd13",
   "metadata": {},
   "source": [
    "Our dataset does not include WAA_position or WAR_position, but they can be inferred"
   ]
  },
  {
   "cell_type": "code",
   "execution_count": 49,
   "id": "62b95292",
   "metadata": {
    "ExecuteTime": {
     "end_time": "2022-07-15T04:53:40.734628Z",
     "start_time": "2022-07-15T04:53:40.720608Z"
    }
   },
   "outputs": [],
   "source": [
    "# generate WAA_pos\n",
    "batting['waa_pos'] = batting.waa_off + batting.waa_def - batting.waa\n",
    "\n",
    "# generate WAR_pos\n",
    "batting['war_pos'] = batting.waa_pos"
   ]
  },
  {
   "cell_type": "markdown",
   "id": "f5b4e49b",
   "metadata": {},
   "source": [
    "This brings us to an issue:\n",
    "How can WAA_pos = WAR_pos and WAA_def = WAR_def? Why isn't the translation occurring between these steps?\n",
    "\n",
    "Unfortunately, we are black-boxed here. WAR_rep is an adjustment to center WAR to the amount of wins available in the league, but this adjustment should apply to both off and def. For this reason, refocus not on WAR but on WAA."
   ]
  },
  {
   "cell_type": "code",
   "execution_count": 50,
   "id": "7aadd7dd",
   "metadata": {
    "ExecuteTime": {
     "end_time": "2022-07-15T04:53:40.798608Z",
     "start_time": "2022-07-15T04:53:40.736608Z"
    }
   },
   "outputs": [],
   "source": [
    "# drop WAR from batting\n",
    "batting.drop(['runs_replacement','runs_above_rep','war','war_def','war_off',\n",
    "              'war_rep','opprppa_rep','opprpg_rep','pyth_exponent_rep',\n",
    "              'waa_win_perc_rep','war_pos'],\n",
    "             axis = 1,\n",
    "             inplace=True)"
   ]
  },
  {
   "cell_type": "markdown",
   "id": "359a4f45",
   "metadata": {},
   "source": [
    "### `pitcher` nulls"
   ]
  },
  {
   "cell_type": "markdown",
   "id": "29f6370a",
   "metadata": {},
   "source": [
    "The `pitcher` flag is to identify players in the batting dataset that were not primarily batters, but rather pitchers. For the purposes of this analysis, we only want non-pitchers! But before we can filter them out, we need to fill the nulls."
   ]
  },
  {
   "cell_type": "code",
   "execution_count": 51,
   "id": "5e249233",
   "metadata": {
    "ExecuteTime": {
     "end_time": "2022-07-15T04:53:41.290661Z",
     "start_time": "2022-07-15T04:53:40.800608Z"
    }
   },
   "outputs": [
    {
     "data": {
      "image/png": "[encoded data removed]",
      "text/plain": [
       "<Figure size 460.8x345.6 with 1 Axes>"
      ]
     },
     "metadata": {
      "needs_background": "light"
     },
     "output_type": "display_data"
    }
   ],
   "source": [
    "fig, ax = plt.subplots(1, 1, figsize = (6.4,4.8))\n",
    "ax.plot(batting.isnull().groupby(batting['year_id']).sum().pitcher)\n",
    "ax.set_title('Count of Nulls for pitcher')\n",
    "ax.set_ylabel('# of Nulls')\n",
    "ax.set_xlabel('year_id');"
   ]
  },
  {
   "cell_type": "markdown",
   "id": "156f490d",
   "metadata": {},
   "source": [
    "**Observation** No years that indicate a clear end or beginning of the nulls in the dataset."
   ]
  },
  {
   "cell_type": "code",
   "execution_count": 52,
   "id": "3d6aed6c",
   "metadata": {
    "ExecuteTime": {
     "end_time": "2022-07-15T04:53:41.321654Z",
     "start_time": "2022-07-15T04:53:41.293657Z"
    }
   },
   "outputs": [
    {
     "data": {
      "text/plain": [
       "count    435.0\n",
       "mean       0.0\n",
       "std        0.0\n",
       "min        0.0\n",
       "25%        0.0\n",
       "50%        0.0\n",
       "75%        0.0\n",
       "max        0.0\n",
       "Name: runs_position_p, dtype: float64"
      ]
     },
     "execution_count": 52,
     "metadata": {},
     "output_type": "execute_result"
    }
   ],
   "source": [
    "batting[batting.pitcher.isnull()].runs_position_p.describe()"
   ]
  },
  {
   "cell_type": "markdown",
   "id": "45913570",
   "metadata": {},
   "source": [
    "None of these nulls logged runs_position for p. Good indicator that they are most likely not pitchers."
   ]
  },
  {
   "cell_type": "code",
   "execution_count": 53,
   "id": "2547a985",
   "metadata": {
    "ExecuteTime": {
     "end_time": "2022-07-15T04:53:41.559126Z",
     "start_time": "2022-07-15T04:53:41.323654Z"
    }
   },
   "outputs": [],
   "source": [
    "# aggregate positions db by player-year to determine the true position of \n",
    "# the players\n",
    "pos_agg = positions\\\n",
    "            .groupby(['year_id','player_id']).sum().reset_index()"
   ]
  },
  {
   "cell_type": "code",
   "execution_count": 54,
   "id": "deec5989",
   "metadata": {
    "ExecuteTime": {
     "end_time": "2022-07-15T04:53:41.607058Z",
     "start_time": "2022-07-15T04:53:41.561056Z"
    }
   },
   "outputs": [],
   "source": [
    "# aggregate batting db by player-year to create the same level-of-detail with\n",
    "# the positions table\n",
    "bat_pos_agg = pos_agg.merge(batting[batting.pitcher.isnull()],\n",
    "                 on=['year_id','player_id'])"
   ]
  },
  {
   "cell_type": "code",
   "execution_count": 55,
   "id": "10e70963",
   "metadata": {
    "ExecuteTime": {
     "end_time": "2022-07-15T04:53:41.655062Z",
     "start_time": "2022-07-15T04:53:41.610057Z"
    }
   },
   "outputs": [
    {
     "data": {
      "text/html": [
       "<div>\n",
       "<style scoped>\n",
       "    .dataframe tbody tr th:only-of-type {\n",
       "        vertical-align: middle;\n",
       "    }\n",
       "\n",
       "    .dataframe tbody tr th {\n",
       "        vertical-align: top;\n",
       "    }\n",
       "\n",
       "    .dataframe thead th {\n",
       "        text-align: right;\n",
       "    }\n",
       "</style>\n",
       "<table border=\"1\" class=\"dataframe\">\n",
       "  <thead>\n",
       "    <tr style=\"text-align: right;\">\n",
       "      <th></th>\n",
       "      <th>year_id</th>\n",
       "      <th>player_id</th>\n",
       "      <th>experience</th>\n",
       "      <th>g_all</th>\n",
       "      <th>gs</th>\n",
       "      <th>g_batting</th>\n",
       "      <th>gs_defense</th>\n",
       "      <th>g_defense</th>\n",
       "      <th>g_p</th>\n",
       "      <th>g_c</th>\n",
       "      <th>...</th>\n",
       "      <th>teamrpg</th>\n",
       "      <th>opprpg</th>\n",
       "      <th>pyth_exponent</th>\n",
       "      <th>waa_win_perc</th>\n",
       "      <th>waa_win_perc_off</th>\n",
       "      <th>waa_win_perc_def</th>\n",
       "      <th>tob_lg</th>\n",
       "      <th>tb_lg</th>\n",
       "      <th>team_gp</th>\n",
       "      <th>waa_pos</th>\n",
       "    </tr>\n",
       "  </thead>\n",
       "  <tbody>\n",
       "    <tr>\n",
       "      <th>380</th>\n",
       "      <td>2008</td>\n",
       "      <td>owingmi01</td>\n",
       "      <td>4</td>\n",
       "      <td>40</td>\n",
       "      <td>18.0</td>\n",
       "      <td>39</td>\n",
       "      <td>18.0</td>\n",
       "      <td>22.0</td>\n",
       "      <td>22</td>\n",
       "      <td>0</td>\n",
       "      <td>...</td>\n",
       "      <td>4.89936</td>\n",
       "      <td>4.64186</td>\n",
       "      <td>1.902</td>\n",
       "      <td>0.5256</td>\n",
       "      <td>0.5256</td>\n",
       "      <td>0.5003</td>\n",
       "      <td>1.367</td>\n",
       "      <td>1.720</td>\n",
       "      <td>162</td>\n",
       "      <td>0.0</td>\n",
       "    </tr>\n",
       "    <tr>\n",
       "      <th>427</th>\n",
       "      <td>2019</td>\n",
       "      <td>altheaa01</td>\n",
       "      <td>18</td>\n",
       "      <td>49</td>\n",
       "      <td>8.0</td>\n",
       "      <td>49</td>\n",
       "      <td>8.0</td>\n",
       "      <td>32.0</td>\n",
       "      <td>1</td>\n",
       "      <td>0</td>\n",
       "      <td>...</td>\n",
       "      <td>4.44014</td>\n",
       "      <td>4.72014</td>\n",
       "      <td>1.880</td>\n",
       "      <td>0.4713</td>\n",
       "      <td>0.4713</td>\n",
       "      <td>0.5000</td>\n",
       "      <td>0.324</td>\n",
       "      <td>0.435</td>\n",
       "      <td>162</td>\n",
       "      <td>0.0</td>\n",
       "    </tr>\n",
       "  </tbody>\n",
       "</table>\n",
       "<p>2 rows × 56 columns</p>\n",
       "</div>"
      ],
      "text/plain": [
       "     year_id  player_id  experience  g_all    gs  g_batting  gs_defense  \\\n",
       "380     2008  owingmi01           4     40  18.0         39        18.0   \n",
       "427     2019  altheaa01          18     49   8.0         49         8.0   \n",
       "\n",
       "     g_defense  g_p  g_c  ...  teamrpg   opprpg  pyth_exponent  waa_win_perc  \\\n",
       "380       22.0   22    0  ...  4.89936  4.64186          1.902        0.5256   \n",
       "427       32.0    1    0  ...  4.44014  4.72014          1.880        0.4713   \n",
       "\n",
       "     waa_win_perc_off  waa_win_perc_def  tob_lg  tb_lg  team_gp  waa_pos  \n",
       "380            0.5256            0.5003   1.367  1.720      162      0.0  \n",
       "427            0.4713            0.5000   0.324  0.435      162      0.0  \n",
       "\n",
       "[2 rows x 56 columns]"
      ]
     },
     "execution_count": 55,
     "metadata": {},
     "output_type": "execute_result"
    }
   ],
   "source": [
    "bat_pos_agg[bat_pos_agg.g_p>0]"
   ]
  },
  {
   "cell_type": "markdown",
   "id": "4106db93",
   "metadata": {},
   "source": [
    "Only 2 of the 435 nulls have any games at pitcher and can be consider 'N' for `pitcher`\n",
    "\n",
    "Looking the remaining two players up on baseball-reference, owingmi01 is a pitcher and altheaa01 is not a pitcher"
   ]
  },
  {
   "cell_type": "code",
   "execution_count": 56,
   "id": "b4e1afdb",
   "metadata": {
    "ExecuteTime": {
     "end_time": "2022-07-15T04:53:41.687122Z",
     "start_time": "2022-07-15T04:53:41.658056Z"
    }
   },
   "outputs": [],
   "source": [
    "# update owingmi01\n",
    "batting.loc[(batting['year_id']==2008) & \n",
    "            (batting['player_id']=='owingmi01') &\n",
    "            (batting['stint_id']==2),\n",
    "            'pitcher'] = 'Y'\n",
    "\n",
    "# update altheaa01\n",
    "batting.loc[(batting['year_id']==2019) & \n",
    "            (batting['player_id']=='altheaa01') &\n",
    "            (batting['stint_id']==2),\n",
    "            'pitcher'] = 'N'"
   ]
  },
  {
   "cell_type": "code",
   "execution_count": 57,
   "id": "140e2058",
   "metadata": {
    "ExecuteTime": {
     "end_time": "2022-07-15T04:53:41.799054Z",
     "start_time": "2022-07-15T04:53:41.690056Z"
    }
   },
   "outputs": [],
   "source": [
    "# now every remaining null is 'N'\n",
    "batting['pitcher'] = batting['pitcher'].map(lambda x: 'N' if pd.isnull(x) else x)"
   ]
  },
  {
   "cell_type": "code",
   "execution_count": 58,
   "id": "d7e12d35",
   "metadata": {
    "ExecuteTime": {
     "end_time": "2022-07-15T04:53:41.847061Z",
     "start_time": "2022-07-15T04:53:41.802055Z"
    }
   },
   "outputs": [],
   "source": [
    "# we only care about non-pitchers. Drop the pitchers\n",
    "batting = batting[batting.pitcher == 'N']"
   ]
  },
  {
   "cell_type": "code",
   "execution_count": 59,
   "id": "6aa35143",
   "metadata": {
    "ExecuteTime": {
     "end_time": "2022-07-15T04:53:41.879105Z",
     "start_time": "2022-07-15T04:53:41.850055Z"
    }
   },
   "outputs": [],
   "source": [
    "# no longer need these pitcher attributes\n",
    "batting.drop(['pitcher','runs_position_p'], axis=1, inplace=True)"
   ]
  },
  {
   "cell_type": "code",
   "execution_count": 60,
   "id": "c359a716",
   "metadata": {
    "ExecuteTime": {
     "end_time": "2022-07-15T04:53:41.926588Z",
     "start_time": "2022-07-15T04:53:41.882587Z"
    }
   },
   "outputs": [
    {
     "data": {
      "text/html": [
       "<div>\n",
       "<style scoped>\n",
       "    .dataframe tbody tr th:only-of-type {\n",
       "        vertical-align: middle;\n",
       "    }\n",
       "\n",
       "    .dataframe tbody tr th {\n",
       "        vertical-align: top;\n",
       "    }\n",
       "\n",
       "    .dataframe thead th {\n",
       "        text-align: right;\n",
       "    }\n",
       "</style>\n",
       "<table border=\"1\" class=\"dataframe\">\n",
       "  <thead>\n",
       "    <tr style=\"text-align: right;\">\n",
       "      <th></th>\n",
       "      <th># of Nulls</th>\n",
       "    </tr>\n",
       "  </thead>\n",
       "  <tbody>\n",
       "  </tbody>\n",
       "</table>\n",
       "</div>"
      ],
      "text/plain": [
       "Empty DataFrame\n",
       "Columns: [# of Nulls]\n",
       "Index: []"
      ]
     },
     "execution_count": 60,
     "metadata": {},
     "output_type": "execute_result"
    }
   ],
   "source": [
    "batting[batting.columns[batting.isnull().any()]].isnull().sum()\\\n",
    "                                            .to_frame(\"# of Nulls\")\\\n",
    "                                            .sort_values('# of Nulls',\n",
    "                                                         ascending = False)"
   ]
  },
  {
   "cell_type": "markdown",
   "id": "d636d290",
   "metadata": {},
   "source": [
    "And we are done with nulls for batting!"
   ]
  },
  {
   "cell_type": "markdown",
   "id": "ba951cd0",
   "metadata": {},
   "source": [
    "## Null Values - Positions"
   ]
  },
  {
   "cell_type": "code",
   "execution_count": 61,
   "id": "ef92bbaa",
   "metadata": {
    "ExecuteTime": {
     "end_time": "2022-07-15T04:53:42.006023Z",
     "start_time": "2022-07-15T04:53:41.930587Z"
    }
   },
   "outputs": [
    {
     "data": {
      "text/html": [
       "<div>\n",
       "<style scoped>\n",
       "    .dataframe tbody tr th:only-of-type {\n",
       "        vertical-align: middle;\n",
       "    }\n",
       "\n",
       "    .dataframe tbody tr th {\n",
       "        vertical-align: top;\n",
       "    }\n",
       "\n",
       "    .dataframe thead th {\n",
       "        text-align: right;\n",
       "    }\n",
       "</style>\n",
       "<table border=\"1\" class=\"dataframe\">\n",
       "  <thead>\n",
       "    <tr style=\"text-align: right;\">\n",
       "      <th></th>\n",
       "      <th># of Nulls</th>\n",
       "    </tr>\n",
       "  </thead>\n",
       "  <tbody>\n",
       "    <tr>\n",
       "      <th>war_pitch</th>\n",
       "      <td>34307</td>\n",
       "    </tr>\n",
       "    <tr>\n",
       "      <th>war_bat</th>\n",
       "      <td>8235</td>\n",
       "    </tr>\n",
       "  </tbody>\n",
       "</table>\n",
       "</div>"
      ],
      "text/plain": [
       "           # of Nulls\n",
       "war_pitch       34307\n",
       "war_bat          8235"
      ]
     },
     "execution_count": 61,
     "metadata": {},
     "output_type": "execute_result"
    }
   ],
   "source": [
    "positions[positions.columns[positions.isnull().any()]].isnull().sum()\\\n",
    "                                            .to_frame(\"# of Nulls\")\\\n",
    "                                            .sort_values('# of Nulls',\n",
    "                                                         ascending = False)"
   ]
  },
  {
   "cell_type": "markdown",
   "id": "963ca5b2",
   "metadata": {},
   "source": [
    "As discussed, we are no longer using war, so these can be dropped."
   ]
  },
  {
   "cell_type": "code",
   "execution_count": 62,
   "id": "b0f6dc65",
   "metadata": {
    "ExecuteTime": {
     "end_time": "2022-07-15T04:53:42.038024Z",
     "start_time": "2022-07-15T04:53:42.008024Z"
    }
   },
   "outputs": [],
   "source": [
    "positions.drop(['war_pitch','war_bat'],\n",
    "               axis=1,\n",
    "               inplace=True)"
   ]
  },
  {
   "cell_type": "code",
   "execution_count": 63,
   "id": "f6d234c1",
   "metadata": {
    "ExecuteTime": {
     "end_time": "2022-07-15T04:53:42.102028Z",
     "start_time": "2022-07-15T04:53:42.041025Z"
    }
   },
   "outputs": [
    {
     "data": {
      "text/html": [
       "<div>\n",
       "<style scoped>\n",
       "    .dataframe tbody tr th:only-of-type {\n",
       "        vertical-align: middle;\n",
       "    }\n",
       "\n",
       "    .dataframe tbody tr th {\n",
       "        vertical-align: top;\n",
       "    }\n",
       "\n",
       "    .dataframe thead th {\n",
       "        text-align: right;\n",
       "    }\n",
       "</style>\n",
       "<table border=\"1\" class=\"dataframe\">\n",
       "  <thead>\n",
       "    <tr style=\"text-align: right;\">\n",
       "      <th></th>\n",
       "      <th># of Nulls</th>\n",
       "    </tr>\n",
       "  </thead>\n",
       "  <tbody>\n",
       "  </tbody>\n",
       "</table>\n",
       "</div>"
      ],
      "text/plain": [
       "Empty DataFrame\n",
       "Columns: [# of Nulls]\n",
       "Index: []"
      ]
     },
     "execution_count": 63,
     "metadata": {},
     "output_type": "execute_result"
    }
   ],
   "source": [
    "positions[positions.columns[positions.isnull().any()]].isnull().sum()\\\n",
    "                                            .to_frame(\"# of Nulls\")\\\n",
    "                                            .sort_values('# of Nulls',\n",
    "                                                         ascending = False)"
   ]
  },
  {
   "cell_type": "markdown",
   "id": "ef57b07c",
   "metadata": {},
   "source": [
    "No more nulls!"
   ]
  },
  {
   "cell_type": "markdown",
   "id": "8bf77a24",
   "metadata": {},
   "source": [
    "# EDA"
   ]
  },
  {
   "cell_type": "markdown",
   "id": "26202206",
   "metadata": {},
   "source": [
    "## Batting -- Pre-Stint Aggregation"
   ]
  },
  {
   "cell_type": "markdown",
   "id": "7d431621",
   "metadata": {},
   "source": [
    "Let's cleanup our dataset of unique identifiers that we won't be using"
   ]
  },
  {
   "cell_type": "code",
   "execution_count": 64,
   "id": "71a494ef",
   "metadata": {
    "ExecuteTime": {
     "end_time": "2022-07-15T04:53:42.134029Z",
     "start_time": "2022-07-15T04:53:42.106023Z"
    }
   },
   "outputs": [],
   "source": [
    "# drop uids\n",
    "batting.drop(['mlb_id','team_id'],\n",
    "     axis=1,\n",
    "     inplace=True)"
   ]
  },
  {
   "cell_type": "markdown",
   "id": "25a1027f",
   "metadata": {},
   "source": [
    "### `lg_id`"
   ]
  },
  {
   "cell_type": "code",
   "execution_count": 65,
   "id": "e229497a",
   "metadata": {
    "ExecuteTime": {
     "end_time": "2022-07-15T04:53:42.181333Z",
     "start_time": "2022-07-15T04:53:42.144024Z"
    }
   },
   "outputs": [],
   "source": [
    "lg_id_counts = batting.groupby(['year_id','lg_id']).count().reset_index('lg_id')[['lg_id','name_common']]"
   ]
  },
  {
   "cell_type": "code",
   "execution_count": 66,
   "id": "62f015fd",
   "metadata": {
    "ExecuteTime": {
     "end_time": "2022-07-15T04:53:42.229326Z",
     "start_time": "2022-07-15T04:53:42.183327Z"
    }
   },
   "outputs": [],
   "source": [
    "# https://stackoverflow.com/questions/35678874/normalize-rows-of-pandas-data-frame-by-their-sums\n",
    "lg_id_counts = batting.groupby(['year_id','lg_id']).count().unstack(1).name_common\n",
    "lg_id_counts = lg_id_counts.div(lg_id_counts.sum(axis=1), axis=0)"
   ]
  },
  {
   "cell_type": "code",
   "execution_count": 67,
   "id": "b0dd57d5",
   "metadata": {
    "ExecuteTime": {
     "end_time": "2022-07-15T04:53:42.915836Z",
     "start_time": "2022-07-15T04:53:42.231327Z"
    }
   },
   "outputs": [
    {
     "data": {
      "image/png": "[encoded data removed]",
      "text/plain": [
       "<Figure size 504x360 with 1 Axes>"
      ]
     },
     "metadata": {
      "needs_background": "light"
     },
     "output_type": "display_data"
    }
   ],
   "source": [
    "plt.figure(figsize=(7,5))\n",
    "plt.bar(lg_id_counts.index,\n",
    "        lg_id_counts.NL,\n",
    "        label = 'National League')\n",
    "plt.bar(lg_id_counts.index,\n",
    "        lg_id_counts.AL,\n",
    "        bottom = lg_id_counts.NL,\n",
    "        label = 'American League')\n",
    "\n",
    "plt.legend(bbox_to_anchor=(1., 1.))\n",
    "plt.axhline(y=0.5,\n",
    "            color='red',\n",
    "            linewidth=5)\n",
    "plt.title('AL # of Batters vs NL');"
   ]
  },
  {
   "cell_type": "markdown",
   "id": "d30ddacc",
   "metadata": {},
   "source": [
    "The implementation of the designated hitter caused the imbalance between leagues to shift toward there being more batters in the National League because a DH was now batting for what was around 5 starting pitchers."
   ]
  },
  {
   "cell_type": "markdown",
   "id": "168eff6b",
   "metadata": {},
   "source": [
    "### `teamrpg`"
   ]
  },
  {
   "cell_type": "markdown",
   "id": "600af910",
   "metadata": {},
   "source": [
    "`waa_pg` is determined through many helper variables that attempt to adjust to the league environment at the time.\n",
    "\n",
    "`teamrpg` is a calculation of how a player affected an average team's run production, where the average team is calculated for the year and league. However, looking at `teamrpg` will already include the waa effect of a player and doesn't tell us the environment in which the waa was achieved."
   ]
  },
  {
   "cell_type": "code",
   "execution_count": 68,
   "id": "02808d6e",
   "metadata": {
    "ExecuteTime": {
     "end_time": "2022-07-15T04:53:47.195688Z",
     "start_time": "2022-07-15T04:53:42.918838Z"
    }
   },
   "outputs": [
    {
     "data": {
      "image/png": "[encoded data removed]",
      "text/plain": [
       "<Figure size 432x288 with 1 Axes>"
      ]
     },
     "metadata": {
      "needs_background": "light"
     },
     "output_type": "display_data"
    }
   ],
   "source": [
    "sns.regplot(x='teamrpg', y='waa', data = batting,\n",
    "            scatter_kws={'alpha': 0.2},\n",
    "            line_kws={'color': 'red'}).set(title = 'Team Runs Per Game');"
   ]
  },
  {
   "cell_type": "markdown",
   "id": "2c061d8c",
   "metadata": {},
   "source": [
    "This *includes* the team runs per game with the player's runs added.\n",
    "\n",
    "However, we can remove a player's impact from the theoretical average team to get a figure for what an average team looked like that season."
   ]
  },
  {
   "cell_type": "code",
   "execution_count": 69,
   "id": "56a330e0",
   "metadata": {
    "ExecuteTime": {
     "end_time": "2022-07-15T04:53:47.211784Z",
     "start_time": "2022-07-15T04:53:47.198785Z"
    }
   },
   "outputs": [],
   "source": [
    "# multiply teamrpg by the number of games that team played\n",
    "teamrpg_total = batting.teamrpg*batting.team_gp\n",
    "\n",
    "# calculate the total number of runs a player earned\n",
    "runs_off = (batting.runs_bat + batting.runs_br + batting.runs_dp \\\n",
    "           + batting.runs_position)\n",
    "\n",
    "# scale that number of runs to a full season\n",
    "runs_off_season = runs_off * batting.team_gp / batting.g\n",
    "\n",
    "# subtract the scaled number from the total number of team runs\n",
    "# divide by the games in the season to get back to a per-game basis\n",
    "batting['teamrpg_avg'] = (teamrpg_total - runs_off_season)/batting.team_gp"
   ]
  },
  {
   "cell_type": "code",
   "execution_count": 70,
   "id": "759dcb6f",
   "metadata": {
    "ExecuteTime": {
     "end_time": "2022-07-15T04:53:51.191784Z",
     "start_time": "2022-07-15T04:53:47.214807Z"
    }
   },
   "outputs": [
    {
     "data": {
      "image/png": "[encoded data removed]",
      "text/plain": [
       "<Figure size 432x288 with 1 Axes>"
      ]
     },
     "metadata": {
      "needs_background": "light"
     },
     "output_type": "display_data"
    }
   ],
   "source": [
    "sns.regplot(x='teamrpg_avg', y='waa', data = batting,\n",
    "            scatter_kws={'alpha': 0.2},\n",
    "            line_kws={'color': 'red'}).set(title = 'Avg Team Runs Per Game');"
   ]
  },
  {
   "cell_type": "markdown",
   "id": "910f544a",
   "metadata": {},
   "source": [
    "Each band of values for `teamrpg_avg` is an instance of year_id and lg_id"
   ]
  },
  {
   "cell_type": "markdown",
   "id": "3aad47ce",
   "metadata": {},
   "source": [
    "### `opprpg`"
   ]
  },
  {
   "cell_type": "code",
   "execution_count": 72,
   "id": "f3b79b7c",
   "metadata": {
    "ExecuteTime": {
     "end_time": "2022-07-15T04:54:13.919371Z",
     "start_time": "2022-07-15T04:54:09.962783Z"
    },
    "scrolled": true
   },
   "outputs": [
    {
     "data": {
      "image/png": "[encoded data removed]",
      "text/plain": [
       "<Figure size 432x288 with 1 Axes>"
      ]
     },
     "metadata": {
      "needs_background": "light"
     },
     "output_type": "display_data"
    }
   ],
   "source": [
    "sns.regplot(x='opprpg', y='waa', data = batting,\n",
    "            scatter_kws={'alpha': 0.2},\n",
    "            line_kws={'color': 'red'}).set(title = 'Avg Team Runs Per Game');"
   ]
  },
  {
   "cell_type": "markdown",
   "id": "91e042ba",
   "metadata": {},
   "source": [
    "`opprpg` does not require translation to get to the average team value. Here just as in teamrpg_avg, each band of values for `opprpg` is an instance of year_id and lg_id"
   ]
  },
  {
   "cell_type": "markdown",
   "id": "ce9b1c13",
   "metadata": {},
   "source": [
    "### `pyth_exponent`"
   ]
  },
  {
   "cell_type": "markdown",
   "id": "e5149fbc",
   "metadata": {},
   "source": [
    "`pyth_exponent` is a function of `teamrpg` and `opprpg`. This does not provide value as it contains a player's effect. However, substituting `teamrpg_avg` and recalculating can give an additional insight into how the year's environment was."
   ]
  },
  {
   "cell_type": "code",
   "execution_count": 73,
   "id": "a8a8231d",
   "metadata": {
    "ExecuteTime": {
     "end_time": "2022-07-15T04:54:17.790039Z",
     "start_time": "2022-07-15T04:54:17.766969Z"
    }
   },
   "outputs": [],
   "source": [
    "batting['pyth_exponent_avg'] =\\\n",
    "((batting.teamrpg_avg + batting.opprpg)*batting.team_gp)**.285"
   ]
  },
  {
   "cell_type": "code",
   "execution_count": 74,
   "id": "e2f89259",
   "metadata": {
    "ExecuteTime": {
     "end_time": "2022-07-15T04:54:21.659448Z",
     "start_time": "2022-07-15T04:54:17.792970Z"
    }
   },
   "outputs": [
    {
     "data": {
      "image/png": "[encoded data removed]",
      "text/plain": [
       "<Figure size 432x288 with 1 Axes>"
      ]
     },
     "metadata": {
      "needs_background": "light"
     },
     "output_type": "display_data"
    }
   ],
   "source": [
    "sns.regplot(x='pyth_exponent_avg', y='waa', data = batting,\n",
    "            scatter_kws={'alpha': 0.2},\n",
    "            line_kws={'color': 'red'}).set(title = 'pyth_exponent_avg');"
   ]
  },
  {
   "cell_type": "markdown",
   "id": "0618c160",
   "metadata": {},
   "source": [
    "Once again, each band is an instance of season and league."
   ]
  },
  {
   "cell_type": "markdown",
   "id": "76bbda28",
   "metadata": {},
   "source": [
    "**Conclusion** `teamrpg_avg`, `opprpg`, and `pyth_exponent_avg` all do the same thing: describe the environment of the season.\n",
    "\n",
    "The calculation for `pyth_exponent_avg` is:  $\\ \\ \\ \\ \\ (teamrpg\\_avg+opprpg)^{0.285}$\n",
    "\n",
    "The most translatable metric of these three to use is `opprpg` as it is untransformed by player (unlike `teamrpg_avg`) and is not an exponential function of two existing metrics in our dataset (`pyth_exponent_avg`)."
   ]
  },
  {
   "cell_type": "code",
   "execution_count": 75,
   "id": "07528348",
   "metadata": {
    "ExecuteTime": {
     "end_time": "2022-07-15T04:54:21.675463Z",
     "start_time": "2022-07-15T04:54:21.662449Z"
    }
   },
   "outputs": [
    {
     "data": {
      "text/plain": [
       "Index(['name_common', 'age', 'player_id', 'year_id', 'stint_id', 'lg_id', 'pa',\n",
       "       'g', 'inn', 'runs_bat', 'runs_br', 'runs_dp', 'runs_defense',\n",
       "       'runs_position', 'runs_above_avg', 'runs_above_avg_off',\n",
       "       'runs_above_avg_def', 'waa', 'waa_off', 'waa_def', 'teamrpg', 'opprpg',\n",
       "       'pyth_exponent', 'waa_win_perc', 'waa_win_perc_off', 'waa_win_perc_def',\n",
       "       'tob_lg', 'tb_lg', 'team_gp', 'waa_pos', 'teamrpg_avg',\n",
       "       'pyth_exponent_avg'],\n",
       "      dtype='object')"
      ]
     },
     "execution_count": 75,
     "metadata": {},
     "output_type": "execute_result"
    }
   ],
   "source": [
    "batting.columns"
   ]
  },
  {
   "cell_type": "code",
   "execution_count": 76,
   "id": "d81709b9",
   "metadata": {
    "ExecuteTime": {
     "end_time": "2022-07-15T04:54:21.723449Z",
     "start_time": "2022-07-15T04:54:21.680449Z"
    }
   },
   "outputs": [],
   "source": [
    "# drop\n",
    "batting.drop(['teamrpg','pyth_exponent', 'teamrpg_avg','pyth_exponent_avg'],\n",
    "             axis=1, inplace=True)"
   ]
  },
  {
   "cell_type": "markdown",
   "id": "33d0b373",
   "metadata": {},
   "source": [
    "## Batting -- Stint Aggregation"
   ]
  },
  {
   "cell_type": "markdown",
   "id": "4cc51bcd",
   "metadata": {},
   "source": [
    "When a batter switches teams during a season, they receive a new entry in the batting database. These are kept track in the `stint_id` feature."
   ]
  },
  {
   "cell_type": "code",
   "execution_count": 77,
   "id": "01a28367",
   "metadata": {
    "ExecuteTime": {
     "end_time": "2022-07-15T04:54:21.994826Z",
     "start_time": "2022-07-15T04:54:21.725449Z"
    }
   },
   "outputs": [
    {
     "data": {
      "image/png": "[encoded data removed]",
      "text/plain": [
       "<Figure size 432x288 with 1 Axes>"
      ]
     },
     "metadata": {
      "needs_background": "light"
     },
     "output_type": "display_data"
    }
   ],
   "source": [
    "plt.bar(batting.groupby('stint_id').count().reset_index().stint_id,\n",
    "       batting.groupby('stint_id').count().reset_index().g)\n",
    "plt.xticks(range(1,5))\n",
    "plt.bar_label(plt.gca().containers[0]);"
   ]
  },
  {
   "cell_type": "markdown",
   "id": "14d83ae8",
   "metadata": {},
   "source": [
    "**Observation** Some players switched teams as many as 3 times (for a total of 4 teams) in a season! This means that each player-year combination can be split across that many years.\""
   ]
  },
  {
   "cell_type": "markdown",
   "id": "389d0eee",
   "metadata": {},
   "source": [
    "The level-of-detail we want for this analysis is player-year. To accomplish this, we need to aggregate together `stint_id`"
   ]
  },
  {
   "cell_type": "markdown",
   "id": "d152aaa1",
   "metadata": {},
   "source": [
    "**Aggregations:**\n",
    "\n",
    "Take Max value of attribute (should be the same across stints)\n",
    "-  name_common, age, player_id, year_id\n",
    "\n",
    "Take Sum of rows (additive aggregate features)\n",
    "-  pa, g, inn, runs_bat, runs_br, runs_dp, runs_defense, runs_position, runs_above_avg, runs_above_avg_off, runs_above_avg_def, waa, waa_off, waa_def, waa_pos\n",
    "\n",
    "Drop (won't be needed)\n",
    "-  ops_plus, tob_lg, tb_lg, , waa_win_perc_off, waa_win_perc_def, waa_win_perc\n",
    "\n",
    "Weighted average of rows (games as factor)\n",
    "-  teamrpg, opprpg, team_gp\n",
    "\n",
    "Recalculate\n",
    "-  pyth_exponent"
   ]
  },
  {
   "cell_type": "code",
   "execution_count": null,
   "id": "6955a2fe",
   "metadata": {
    "ExecuteTime": {
     "start_time": "2022-07-15T04:54:17.807Z"
    }
   },
   "outputs": [],
   "source": [
    "# create the segment that uses max as aggregate\n",
    "batting_agg = batting.groupby(['player_id','year_id']).max()\\\n",
    "                [['name_common', 'age']]"
   ]
  },
  {
   "cell_type": "code",
   "execution_count": null,
   "id": "c0d05a15",
   "metadata": {
    "ExecuteTime": {
     "start_time": "2022-07-15T04:54:17.813Z"
    }
   },
   "outputs": [],
   "source": [
    "# create the segment that uses sum as aggregate\n",
    "batting_sum = batting.groupby(['player_id','year_id']).sum()\\\n",
    "                [['pa', 'g', 'inn', 'runs_bat', 'runs_br', 'runs_dp',\n",
    "                  'runs_defense', 'runs_position','runs_above_avg',\n",
    "                  'runs_above_avg_off', 'runs_above_avg_def', 'waa',\n",
    "                  'waa_off', 'waa_def','waa_pos']]"
   ]
  },
  {
   "cell_type": "code",
   "execution_count": null,
   "id": "1390225a",
   "metadata": {
    "ExecuteTime": {
     "start_time": "2022-07-15T04:54:17.819Z"
    }
   },
   "outputs": [],
   "source": [
    "# create the segment that uses weighted avg as aggregate\n",
    "batting_weight = batting[['player_id','year_id','stint_id','g',\n",
    "                          'opprpg','team_gp']]\n",
    "\n",
    "# for our look-up functions to work, we will need stint_id to be descending\n",
    "batting_weight = batting_weight.sort_values('stint_id', ascending=False)"
   ]
  },
  {
   "cell_type": "code",
   "execution_count": null,
   "id": "df5e5fe3",
   "metadata": {
    "ExecuteTime": {
     "start_time": "2022-07-15T04:54:17.826Z"
    }
   },
   "outputs": [],
   "source": [
    "# decompose opprpg to use g for weighted avg\n",
    "batting_weight['opprpg_decomp'] =\\\n",
    "    batting_weight['opprpg']*batting_weight['g']"
   ]
  },
  {
   "cell_type": "code",
   "execution_count": null,
   "id": "dc2a2632",
   "metadata": {
    "ExecuteTime": {
     "start_time": "2022-07-15T04:54:17.833Z"
    }
   },
   "outputs": [],
   "source": [
    "# for up to 4 stints by player-year, calculate the total number of games\n",
    "# played by the player and store that in stint_id = 1\n",
    "batting_weight['total_games'] = pd.DataFrame(\n",
    "    [batting_weight.groupby(['player_id','year_id'])['g'].shift(i)\n",
    "     for i in range(0,4)]).T.sum(axis=1)"
   ]
  },
  {
   "cell_type": "code",
   "execution_count": null,
   "id": "b8a502db",
   "metadata": {
    "ExecuteTime": {
     "start_time": "2022-07-15T04:54:17.840Z"
    }
   },
   "outputs": [],
   "source": [
    "# similar to total_games, sum up opprpg_recomp for\n",
    "# each player-year and store sum in stint_id = 1\n",
    "# then divide it by total_games to get the weighted average in row of stint_id=1\n",
    "\n",
    "batting_weight['opprpg_recomp'] = pd.DataFrame(\n",
    "    [batting_weight.groupby(['player_id','year_id'])['opprpg_decomp'].shift(i)\n",
    "     for i in range(0,4)]).T.sum(axis=1)/batting_weight['total_games']"
   ]
  },
  {
   "cell_type": "code",
   "execution_count": null,
   "id": "2a39bab9",
   "metadata": {
    "ExecuteTime": {
     "start_time": "2022-07-15T04:54:17.848Z"
    }
   },
   "outputs": [],
   "source": [
    "# once again create a weighted average to determine the appropriate\n",
    "# value for team_gp \n",
    "batting_weight['team_gp_decomp'] =  batting_weight.team_gp * batting_weight.g\n",
    "\n",
    "batting_weight['team_gp_recomp'] = pd.DataFrame(\n",
    "    [batting_weight.groupby(['player_id','year_id'])['team_gp_decomp'].shift(i)\n",
    "     for i in range(0,4)]).T.sum(axis=1)/batting_weight.total_games"
   ]
  },
  {
   "cell_type": "code",
   "execution_count": null,
   "id": "5d76db6a",
   "metadata": {
    "ExecuteTime": {
     "start_time": "2022-07-15T04:54:17.855Z"
    }
   },
   "outputs": [],
   "source": [
    "# all of our weighted averages are stored in lines where\n",
    "# stint_id is 1. Keep only these rows.\n",
    "batting_weight = batting_weight[batting_weight.stint_id == 1]\n",
    "\n",
    "\n",
    "# update to keep only columns that needed to be weight averaged\n",
    "batting_weight = batting_weight[['player_id','year_id','opprpg_recomp',\n",
    "                                 'team_gp_recomp']]\n",
    "\n",
    "# rename\n",
    "batting_weight.rename(columns={'opprpg_recomp': 'opprpg',\n",
    "                               'team_gp_recomp': 'team_gp'},\n",
    "                      inplace=True)"
   ]
  },
  {
   "cell_type": "code",
   "execution_count": null,
   "id": "6521b351",
   "metadata": {
    "ExecuteTime": {
     "start_time": "2022-07-15T04:54:17.863Z"
    }
   },
   "outputs": [],
   "source": [
    "batting = pd.merge(batting_agg, batting_sum,\n",
    "                      on = ['player_id','year_id'])\n",
    "batting = pd.merge(batting, batting_weight,\n",
    "                      on = ['player_id','year_id'])\n",
    "\n",
    "batting = batting.reindex(columns=['name_common','age','player_id','year_id',\n",
    "                                   'pa','g','team_gp','inn','runs_bat',\n",
    "                                   'runs_br','runs_dp','runs_defense',\n",
    "                                   'runs_position','runs_above_avg',\n",
    "                                   'runs_above_avg_off','runs_above_avg_def',\n",
    "                                   'waa','waa_off','waa_def','waa_pos', \n",
    "                                   'opprpg'])"
   ]
  },
  {
   "cell_type": "markdown",
   "id": "a2e073bc",
   "metadata": {},
   "source": [
    "## Batting -- Generate Rate Values"
   ]
  },
  {
   "cell_type": "markdown",
   "id": "12f6832f",
   "metadata": {},
   "source": [
    "### `year_id`"
   ]
  },
  {
   "cell_type": "code",
   "execution_count": null,
   "id": "462694e9",
   "metadata": {
    "ExecuteTime": {
     "start_time": "2022-07-15T04:54:17.874Z"
    }
   },
   "outputs": [],
   "source": [
    "plt.hist(batting.year_id);"
   ]
  },
  {
   "cell_type": "markdown",
   "id": "c835e064",
   "metadata": {},
   "source": [
    "**Observation** As expected, there are not `year_id` values with a substantial amount of fewer players. The increase from the 1980's toward the present can be explained by increased player usage from the farm system and more cycling of players to take advantage of match-ups identified through analytics.\n",
    "\n",
    "This will be a key part of our data index."
   ]
  },
  {
   "cell_type": "markdown",
   "id": "afcbefda",
   "metadata": {},
   "source": [
    "### `PA`"
   ]
  },
  {
   "cell_type": "markdown",
   "id": "9e2a0dee",
   "metadata": {},
   "source": [
    "Plate Appearances (PA) indicate the number of times a batter was eligible to get a result at the plate, or in other words, the number of times the players was a batter.\n",
    "\n",
    "\n"
   ]
  },
  {
   "cell_type": "code",
   "execution_count": null,
   "id": "4d200874",
   "metadata": {
    "ExecuteTime": {
     "start_time": "2022-07-15T04:54:17.888Z"
    }
   },
   "outputs": [],
   "source": [
    "plt.hist(batting.pa);"
   ]
  },
  {
   "cell_type": "markdown",
   "id": "4723c8c3",
   "metadata": {},
   "source": [
    "Runs and Wins are cumulative, but we will want to eventually get them down to a rate stat to compare seasons with different numbers of games. Since 1957, baseball requires 3.1 `PA` per team game played in order to qualify for league leaders for rate stats like batting average. This should be instituted here as well which will also protect against outliers of players who performed really well or really poor for a short burst of time."
   ]
  },
  {
   "cell_type": "code",
   "execution_count": null,
   "id": "63a0fc97",
   "metadata": {
    "ExecuteTime": {
     "start_time": "2022-07-15T04:54:17.897Z"
    }
   },
   "outputs": [],
   "source": [
    "batting['pa_per_team_gp'] = batting.pa/batting.team_gp"
   ]
  },
  {
   "cell_type": "code",
   "execution_count": null,
   "id": "1faeb022",
   "metadata": {
    "ExecuteTime": {
     "start_time": "2022-07-15T04:54:17.905Z"
    }
   },
   "outputs": [],
   "source": [
    "batting = batting[batting.pa_per_team_gp >= 3.1*2/3]"
   ]
  },
  {
   "cell_type": "code",
   "execution_count": null,
   "id": "15f476ec",
   "metadata": {
    "ExecuteTime": {
     "start_time": "2022-07-15T04:54:17.913Z"
    }
   },
   "outputs": [],
   "source": [
    "plt.hist(batting.pa);"
   ]
  },
  {
   "cell_type": "markdown",
   "id": "29350357",
   "metadata": {},
   "source": [
    "Looking much better! As an aggregate function this won't be super useful. This will be dropped in favor of a PA per game feature later."
   ]
  },
  {
   "cell_type": "markdown",
   "id": "53e5364f",
   "metadata": {},
   "source": [
    "### `g`"
   ]
  },
  {
   "cell_type": "code",
   "execution_count": null,
   "id": "46050838",
   "metadata": {
    "ExecuteTime": {
     "start_time": "2022-07-15T04:54:17.924Z"
    }
   },
   "outputs": [],
   "source": [
    "plt.hist(batting.g);"
   ]
  },
  {
   "cell_type": "markdown",
   "id": "4a689a59",
   "metadata": {},
   "source": [
    "**Observation** There are some players that had 80-90 game seasons while still qualifying for the PA requirement. This requirement supersedes any game number requirement that may be had.\n",
    "\n",
    "Keep this column to use to generate per-game rates."
   ]
  },
  {
   "cell_type": "code",
   "execution_count": null,
   "id": "8147383d",
   "metadata": {
    "ExecuteTime": {
     "start_time": "2022-07-15T04:54:17.934Z"
    }
   },
   "outputs": [],
   "source": [
    "# generate per game rates for accumulative stats\n",
    "for i in ['pa','inn','runs_bat', 'runs_br', 'runs_dp', 'runs_defense',\n",
    "          'runs_position', 'runs_above_avg','runs_above_avg_off',\n",
    "          'runs_above_avg_def', 'waa', 'waa_off','waa_def', 'waa_pos']:\n",
    "    \n",
    "    batting[i] = batting[i] / batting['g']\n",
    "    batting.rename(columns={i:i+'_pg'}, inplace=True)"
   ]
  },
  {
   "cell_type": "markdown",
   "id": "a4c84019",
   "metadata": {},
   "source": [
    "## Target Variable `waa_pg`"
   ]
  },
  {
   "cell_type": "markdown",
   "id": "48664392",
   "metadata": {},
   "source": [
    "We have finally arrived at our actual target! A per_game rate of `WAA`"
   ]
  },
  {
   "cell_type": "code",
   "execution_count": null,
   "id": "eb0722cc",
   "metadata": {
    "ExecuteTime": {
     "start_time": "2022-07-15T04:54:17.946Z"
    }
   },
   "outputs": [],
   "source": [
    "plt.hist(batting.waa_pg, bins=20);"
   ]
  },
  {
   "cell_type": "markdown",
   "id": "12d85585",
   "metadata": {},
   "source": [
    "This is approximately symmetric! This will be really fun to explore."
   ]
  },
  {
   "cell_type": "markdown",
   "id": "13dcbf44",
   "metadata": {},
   "source": [
    "WAA can be decomposed into the offensive and defensive component, `waa_off_pg` and `waa_def_pg` respectively. Along with a positional adjustment, `WAA` is a linear combination of these features:\n",
    "  `waa_pg` = `waa_off_pg` + `waa_df_pg` - `waa_pos_pg`\n",
    "\n",
    "Each of these features are made up of the underlying runs features. Since we only care about total WAA, the offensive and defensive components can be disregarded as their signal will be capture both by `waa_pg` and the underlying runs that formulate them."
   ]
  },
  {
   "cell_type": "code",
   "execution_count": null,
   "id": "7fc3b2a3",
   "metadata": {
    "ExecuteTime": {
     "start_time": "2022-07-15T04:54:17.958Z"
    }
   },
   "outputs": [],
   "source": [
    "# drop\n",
    "batting.drop(['waa_off_pg', 'waa_def_pg', 'waa_pos_pg'],\n",
    "             axis = 1,\n",
    "             inplace=True)"
   ]
  },
  {
   "cell_type": "markdown",
   "id": "17652a94",
   "metadata": {},
   "source": [
    "## Batting -- EDA with Target"
   ]
  },
  {
   "cell_type": "markdown",
   "id": "484aac8b",
   "metadata": {},
   "source": [
    "### `age`"
   ]
  },
  {
   "cell_type": "code",
   "execution_count": null,
   "id": "e50465c5",
   "metadata": {
    "ExecuteTime": {
     "start_time": "2022-07-15T04:54:17.970Z"
    }
   },
   "outputs": [],
   "source": [
    "fig, ax = plt.subplots(1,2,figsize=(15,7))\n",
    "\n",
    "ax[0].scatter(batting.age, batting.waa_pg, alpha=0.1)\n",
    "ax[0].plot(batting.groupby('age').waa_pg.median(),\n",
    "         color = 'red')\n",
    "ax[0].set_xticks(range(17,51,2))\n",
    "\n",
    "ax[1].bar(batting.groupby('age').sum().index, batting.groupby('age').count().waa_pg)\n",
    "ax[1].set_xticks(range(17,51,2));"
   ]
  },
  {
   "cell_type": "markdown",
   "id": "853387a8",
   "metadata": {},
   "source": [
    "**Observation** The `waa_pg` of a player goes down as they age. The distribution has small amounts on the early side, that are disrupting the curve. Remove these outliers. Same for ages over 38."
   ]
  },
  {
   "cell_type": "code",
   "execution_count": null,
   "id": "de2cb452",
   "metadata": {
    "ExecuteTime": {
     "start_time": "2022-07-15T04:54:17.979Z"
    }
   },
   "outputs": [],
   "source": [
    "batting = batting[(batting.age>20) & (batting.age<39)]"
   ]
  },
  {
   "cell_type": "code",
   "execution_count": null,
   "id": "99d64430",
   "metadata": {
    "ExecuteTime": {
     "start_time": "2022-07-15T04:54:17.987Z"
    }
   },
   "outputs": [],
   "source": [
    "fig, ax = plt.subplots(1,2,figsize=(15,7))\n",
    "\n",
    "ax[0].scatter(batting.age, batting.waa_pg, alpha=0.1, color='thistle')\n",
    "ax[0].plot(batting.groupby('age').waa_pg.median(),\n",
    "         color = 'red')\n",
    "ax[0].set_xticks(range(17,51,2))\n",
    "\n",
    "ax[1].bar(batting.groupby('age').sum().index, batting.groupby('age').count().waa_pg, color='thistle')\n",
    "ax[1].set_xticks(range(17,51,2));"
   ]
  },
  {
   "cell_type": "markdown",
   "id": "c0a1ff75",
   "metadata": {},
   "source": [
    "### `percent_team_gp`"
   ]
  },
  {
   "cell_type": "code",
   "execution_count": null,
   "id": "cf203cb1",
   "metadata": {
    "ExecuteTime": {
     "start_time": "2022-07-15T04:54:17.997Z"
    }
   },
   "outputs": [],
   "source": [
    "batting['percent_team_gp'] = batting.g / batting.team_gp"
   ]
  },
  {
   "cell_type": "markdown",
   "id": "4b2ed56e",
   "metadata": {},
   "source": [
    "Now we can see how many of the season's games a player played!"
   ]
  },
  {
   "cell_type": "code",
   "execution_count": null,
   "id": "c6b9f059",
   "metadata": {
    "ExecuteTime": {
     "start_time": "2022-07-15T04:54:18.008Z"
    }
   },
   "outputs": [],
   "source": [
    "plt.scatter(batting.percent_team_gp,\n",
    "            batting.waa_pg,\n",
    "            alpha = 0.2)\n",
    "plt.axvline(x=1, color='red');"
   ]
  },
  {
   "cell_type": "markdown",
   "id": "0db5f31b",
   "metadata": {},
   "source": [
    "**Observation** There are a number of players who appeared in more than 100% of their team games. This can be possible if a player changed teams in the season where the first team had played more games than the second\n",
    "\n",
    "There is a lose positive correlation between `percent_team_gp` and `waa_pg`. This could indicate that players who tend to play a higher percentage of games are bound to be better overall."
   ]
  },
  {
   "cell_type": "code",
   "execution_count": null,
   "id": "bc1991de",
   "metadata": {
    "ExecuteTime": {
     "start_time": "2022-07-15T04:54:18.018Z"
    }
   },
   "outputs": [],
   "source": [
    "batting.corr().loc['waa_pg','percent_team_gp']"
   ]
  },
  {
   "cell_type": "markdown",
   "id": "1c26c87f",
   "metadata": {},
   "source": [
    "This is in line with what we see in the graph."
   ]
  },
  {
   "cell_type": "markdown",
   "id": "639b13f1",
   "metadata": {},
   "source": [
    "### `inn_pg`"
   ]
  },
  {
   "cell_type": "code",
   "execution_count": null,
   "id": "5f79ec91",
   "metadata": {
    "ExecuteTime": {
     "start_time": "2022-07-15T04:54:18.030Z"
    }
   },
   "outputs": [],
   "source": [
    "sns.regplot(x='inn_pg', y='waa_pg',\n",
    "            data = batting,\n",
    "            scatter_kws={'alpha': 0.2,\n",
    "                         'color': 'rebeccapurple'},\n",
    "            line_kws={'color': 'red'})\\\n",
    ".set(title='Inn per Game vs WAA per Game\\nCorr: '+\\\n",
    "            str(round(batting.corr().loc['waa_pg','inn_pg'],4)));"
   ]
  },
  {
   "cell_type": "markdown",
   "id": "fd3e4db8",
   "metadata": {},
   "source": [
    "**Observation** Similar to `percent_team_gp`, players who play a larger average number of innings per game would tend to be better overall. This can be seen through the loose positive correlation."
   ]
  },
  {
   "cell_type": "markdown",
   "id": "d13438d5",
   "metadata": {},
   "source": [
    "### runs variables"
   ]
  },
  {
   "cell_type": "markdown",
   "id": "75741098",
   "metadata": {},
   "source": [
    "Runs are the building blocks of wins and they can be added many different ways besides just the bat.\n",
    "\n",
    "The dataset currently has a few redundancies:\n",
    "  -  `runs_above_avg_pg`: This is the linear combination `runs_bat_pg` + `runs_br_pg` + `runs_dp_pg` + `runs_defense_pg` + `runs_position_pg`\n",
    "  -  `runs_above_avg_off_pg`: This is the linear combination `runs_bat_pg` + `runs_br_pg` + `runs_dp_pg` + `runs_position_pg`\n",
    "  -  `runs_above_avg_def_pg`: This is the linear combination `runs_defense_pg` + `runs_position_pg`"
   ]
  },
  {
   "cell_type": "code",
   "execution_count": null,
   "id": "20aad16e",
   "metadata": {
    "ExecuteTime": {
     "start_time": "2022-07-15T04:54:18.042Z"
    }
   },
   "outputs": [],
   "source": [
    "# drop the combination features\n",
    "batting.drop(['runs_above_avg_pg', \n",
    "              'runs_above_avg_off_pg', \n",
    "              'runs_above_avg_def_pg'],\n",
    "            axis = 1,\n",
    "            inplace=True)"
   ]
  },
  {
   "cell_type": "code",
   "execution_count": null,
   "id": "84d1bf88",
   "metadata": {
    "ExecuteTime": {
     "start_time": "2022-07-15T04:54:18.050Z"
    }
   },
   "outputs": [],
   "source": [
    "fig, ax = plt.subplots(2,2, figsize=(15,10))\n",
    "\n",
    "sns.regplot(x='runs_bat_pg', y='waa_pg', data = batting,\n",
    "            scatter_kws={'alpha': 0.2},\n",
    "            line_kws={'color': 'red'},\n",
    "            ax = ax[0][0]).set(title = 'Runs-Batting per Game')\n",
    "\n",
    "sns.regplot(x='runs_br_pg', y='waa_pg', data = batting,\n",
    "            scatter_kws={'alpha': 0.2,\n",
    "                         'color': 'rebeccapurple'},\n",
    "            line_kws={'color': 'red'},\n",
    "            ax = ax[0][1]).set(title = 'Runs-Baserunning per Game')\n",
    "\n",
    "sns.regplot(x='runs_dp_pg', y='waa_pg', data = batting,\n",
    "            scatter_kws={'alpha': 0.2,\n",
    "                         'color': 'green'},\n",
    "            line_kws={'color': 'red'},\n",
    "            ax = ax[1][0]).set(title = 'Runs-Double-Plays per Game')\n",
    "\n",
    "sns.regplot(x='runs_defense_pg', y='waa_pg', data = batting,\n",
    "            scatter_kws={'alpha': 0.2,\n",
    "                         'color': 'red'},\n",
    "            line_kws={'color': 'blue'},\n",
    "            ax = ax[1][1]).set(title = 'Runs-Defense per Game')\n",
    "\n",
    "plt.tight_layout();"
   ]
  },
  {
   "cell_type": "markdown",
   "id": "33a11cef",
   "metadata": {},
   "source": [
    "**Observation** These four segments of the overall runs_above_avg_pg metric are pretty straightforward. It's a cumulative measure, so the better you do, the more runs you get, the more WAA you will have. \n",
    "\n",
    "One way to see the importance of each part is to look at the steepness of the line; here `runs_bat_pg` and `runs_defense_pg` are the most steep followed by `runs_br_pg` and lastly `runs_dp_pg`. The second thing to keep in mind is the scale of the x-axis, the range of runs offered by `runs_bat_pg` and `runs_defense_pg` are similar, while the other two are a factor of 10 smaller.\n",
    "\n",
    "Another way to visualize this is to graph them all together"
   ]
  },
  {
   "cell_type": "code",
   "execution_count": null,
   "id": "4a32e9e8",
   "metadata": {
    "ExecuteTime": {
     "start_time": "2022-07-15T04:54:18.059Z"
    }
   },
   "outputs": [],
   "source": [
    "fig, ax = plt.subplots(1,2,figsize=(20,10))\n",
    "\n",
    "ax[0].scatter(batting.runs_bat_pg, batting.waa_pg,\n",
    "            alpha = 0.2,\n",
    "            label = 'runs_bat_pg')\n",
    "ax[0].scatter(batting.runs_br_pg, batting.waa_pg,\n",
    "            alpha = 0.2, color = 'rebeccapurple',\n",
    "            label = 'runs_br_pg')\n",
    "ax[0].scatter(batting.runs_dp_pg, batting.waa_pg,\n",
    "            alpha = 0.2, color = 'green',\n",
    "            label = 'runs_dp_pg')\n",
    "ax[0].legend()\n",
    "\n",
    "ax[1].scatter(batting.runs_bat_pg, batting.waa_pg,\n",
    "            alpha = 0.2,\n",
    "            label = 'runs_bat_pg')\n",
    "ax[1].scatter(batting.runs_defense_pg, batting.waa_pg,\n",
    "            alpha = 0.2, color = 'red',\n",
    "            label = 'runs_defense_pg')\n",
    "ax[1].legend();"
   ]
  },
  {
   "cell_type": "markdown",
   "id": "1455cce2",
   "metadata": {},
   "source": [
    "**Observation** The range of `runs_br_pg` and `runs_dp_pg` are very narrow compared to `runs_bat_pg` and `runs_defense_pg`."
   ]
  },
  {
   "cell_type": "markdown",
   "id": "e1b125ae",
   "metadata": {},
   "source": [
    "### `runs_position_pg`"
   ]
  },
  {
   "cell_type": "code",
   "execution_count": null,
   "id": "d7882a72",
   "metadata": {
    "ExecuteTime": {
     "start_time": "2022-07-15T04:54:18.070Z"
    }
   },
   "outputs": [],
   "source": [
    "sns.regplot(x='runs_position_pg', y='waa_pg', data = batting,\n",
    "            scatter_kws={'alpha': 0.2,\n",
    "                         'color': 'grey'},\n",
    "            line_kws={'color': 'blue'}).set(title = 'Runs-Position per Game');"
   ]
  },
  {
   "cell_type": "markdown",
   "id": "9c9909fc",
   "metadata": {},
   "source": [
    "**Observation** Unlike the other portions of runs, `runs_position_pg` is uncorrelated with `waa_pg`. This makes sense when considering what `runs_position_pg` is calculated on.\n",
    "\n",
    "Each position, regardless of performance, will get a runs amount. In the graph above, several clusters can be made out."
   ]
  },
  {
   "cell_type": "code",
   "execution_count": null,
   "id": "168f4177",
   "metadata": {
    "ExecuteTime": {
     "start_time": "2022-07-15T04:54:18.080Z"
    }
   },
   "outputs": [],
   "source": [
    "fig, ax = plt.subplots(1,1,figsize=(7,5))\n",
    "\n",
    "ax.scatter(batting.runs_position_pg, batting.waa_pg,\n",
    "            alpha= 0.2,\n",
    "            color= 'grey')\n",
    "ax.set_title('Runs-Position Blobs')\n",
    "ax.axhspan(xmin = 0,\n",
    "           xmax = .20,\n",
    "           ymin = batting.waa_pg.min(),\n",
    "           ymax = batting.waa_pg.max(),\n",
    "           color = 'yellow',\n",
    "           alpha = 0.1)\n",
    "ax.axhspan(xmin = .20,\n",
    "           xmax = .50,\n",
    "           ymin = batting.waa_pg.min(),\n",
    "           ymax = batting.waa_pg.max(),\n",
    "           color = 'blue',\n",
    "           alpha = 0.1)\n",
    "ax.axhspan(xmin = .50,\n",
    "           xmax = .80,\n",
    "           ymin = batting.waa_pg.min(),\n",
    "           ymax = batting.waa_pg.max(),\n",
    "           color = 'green',\n",
    "           alpha = 0.1)\n",
    "ax.axhspan(xmin = .80,\n",
    "           xmax = 1,\n",
    "           ymin = batting.waa_pg.min(),\n",
    "           ymax = batting.waa_pg.max(),\n",
    "           color = 'red',\n",
    "           alpha = 0.1)"
   ]
  },
  {
   "cell_type": "markdown",
   "id": "665784ff",
   "metadata": {},
   "source": [
    "The blue section could be split again, as the green, but the point is that each of these has a range of `waa_pg` values. This indicates that each positional adjustment has a range of `waa_pg` values.\n",
    "\n",
    "Intuitively, this makes sense, an outfielder can generate as many `waa_pg` as a catcher, but the underlying `runs_position_pg` will be much different! The baseball-reference formula *adds* runs by virtue of being a catcher, while it *removes* runs by virtue of being an outfielder."
   ]
  },
  {
   "cell_type": "markdown",
   "id": "7a6153e6",
   "metadata": {},
   "source": [
    "## Batting -- Feature Generation"
   ]
  },
  {
   "cell_type": "code",
   "execution_count": null,
   "id": "d645a791",
   "metadata": {
    "ExecuteTime": {
     "start_time": "2022-07-15T04:54:18.091Z"
    }
   },
   "outputs": [],
   "source": [
    "# create inn_per_team_gp\n",
    "batting['inn_per_team_gp'] = batting.inn_pg * batting.g / batting.team_gp"
   ]
  },
  {
   "cell_type": "markdown",
   "id": "99e2537d",
   "metadata": {},
   "source": [
    "## Batting -- Final Touches"
   ]
  },
  {
   "cell_type": "code",
   "execution_count": null,
   "id": "4b97bd86",
   "metadata": {
    "ExecuteTime": {
     "start_time": "2022-07-15T04:54:18.101Z"
    }
   },
   "outputs": [],
   "source": [
    "# reorder\n",
    "batting = batting.reindex(columns=\\\n",
    "                    ['waa_pg',\n",
    "                     'player_id','year_id','name_common', 'age',\n",
    "                     'g','team_gp','pa_pg','inn_pg', \n",
    "                     'runs_bat_pg', 'runs_br_pg', 'runs_dp_pg',\n",
    "                     'runs_defense_pg','runs_position_pg', \n",
    "                     'opprpg',\n",
    "                     'percent_team_gp', 'pa_per_team_gp','inn_per_team_gp'])"
   ]
  },
  {
   "cell_type": "markdown",
   "id": "a7faa103",
   "metadata": {},
   "source": [
    "## Positions"
   ]
  },
  {
   "cell_type": "markdown",
   "id": "e72c6dd1",
   "metadata": {},
   "source": [
    "### Getting Shares"
   ]
  },
  {
   "cell_type": "markdown",
   "id": "e37e8b88",
   "metadata": {},
   "source": [
    "`runs_position_pg` introduced the idea of a position-based weight being applied toward WAA. While that feature by itself does a good job encapsulating the effect, let's add some signal for the positions these players are playing in order to get those weights."
   ]
  },
  {
   "cell_type": "markdown",
   "id": "fafe0c38",
   "metadata": {
    "ExecuteTime": {
     "end_time": "2022-07-04T21:43:58.446284Z",
     "start_time": "2022-07-04T21:43:58.376298Z"
    }
   },
   "source": [
    "Right off the bat, we can drop `war`, `team_id`, and `lg_id`"
   ]
  },
  {
   "cell_type": "code",
   "execution_count": null,
   "id": "b6e60a19",
   "metadata": {
    "ExecuteTime": {
     "start_time": "2022-07-15T04:54:18.118Z"
    }
   },
   "outputs": [],
   "source": [
    "# drop\n",
    "positions.drop(['war','lg_id','team_id'], axis=1, inplace=True)"
   ]
  },
  {
   "cell_type": "markdown",
   "id": "7baa4b4c",
   "metadata": {},
   "source": [
    "A player receives a new line for each team played per season. Need to aggregate by `experience` similar to `stint_id` in batting."
   ]
  },
  {
   "cell_type": "code",
   "execution_count": null,
   "id": "e7bc05be",
   "metadata": {
    "ExecuteTime": {
     "start_time": "2022-07-15T04:54:18.128Z"
    }
   },
   "outputs": [],
   "source": [
    "positions = positions.groupby(['player_id','year_id']).sum()\\\n",
    "                [['g_all', 'gs', 'g_batting','gs_defense', 'g_defense',\n",
    "                  'g_p', 'g_c', 'g_1b', 'g_2b', 'g_3b', 'g_ss','g_lf', 'g_cf',\n",
    "                  'g_rf', 'g_of', 'g_dh', 'g_ph', 'g_pr']].reset_index()"
   ]
  },
  {
   "cell_type": "markdown",
   "id": "0498eb4d",
   "metadata": {},
   "source": [
    "Ultimately, we are interested in the amount of time spent at each *defensive* position. To accomplish this, divide each positional feature by `g_all` to get a percentage.\n",
    "\n",
    "Note: a player can play multiple positions in a game. These percentages will sum up to more than 1 at first and will also treat 1 inning at 1B and 8 innings at RF as the same weight."
   ]
  },
  {
   "cell_type": "code",
   "execution_count": null,
   "id": "a20e0c76",
   "metadata": {
    "ExecuteTime": {
     "start_time": "2022-07-15T04:54:18.137Z"
    }
   },
   "outputs": [],
   "source": [
    "positions.drop(['g_ph','g_pr','g_of','gs', 'g_batting', 'gs_defense','g_defense']\n",
    "               , axis=1,\n",
    "               inplace=True)\n",
    "\n",
    "for i in ['g_p', 'g_c', 'g_1b', 'g_2b', 'g_3b', 'g_ss','g_lf', 'g_cf',\n",
    "          'g_rf', 'g_dh']:\n",
    "    \n",
    "    positions[i] = positions[i] / positions.g_all\n",
    "    positions.rename(columns={i: i+'_share'},\n",
    "                     inplace=True)"
   ]
  },
  {
   "cell_type": "markdown",
   "id": "95fa905f",
   "metadata": {},
   "source": [
    "One last caveat, since we removed pitchers from the batting dataset, we don't really care about `g_p` anymore. Batters can have appearances as pitchers during blowouts, etc, but those effects will be measured in their pitching war/waa."
   ]
  },
  {
   "cell_type": "code",
   "execution_count": null,
   "id": "41ec19ab",
   "metadata": {
    "ExecuteTime": {
     "start_time": "2022-07-15T04:54:18.145Z"
    }
   },
   "outputs": [],
   "source": [
    "positions.drop('g_p_share', axis=1, inplace=True)\n"
   ]
  },
  {
   "cell_type": "code",
   "execution_count": null,
   "id": "483a38d1",
   "metadata": {
    "ExecuteTime": {
     "start_time": "2022-07-15T04:54:18.152Z"
    }
   },
   "outputs": [],
   "source": [
    "# normalize all g_*_share columns to sum to 1\n",
    "share_cols = ['g_c_share', 'g_1b_share',\n",
    "       'g_2b_share', 'g_3b_share', 'g_ss_share', 'g_lf_share', 'g_cf_share',\n",
    "       'g_rf_share', 'g_dh_share']\n",
    "\n",
    "\n",
    "g_share_sum = positions[share_cols].sum(axis=1)\n",
    "\n",
    "for i in share_cols:\n",
    "    positions[i] = positions[i] / g_share_sum"
   ]
  },
  {
   "cell_type": "code",
   "execution_count": null,
   "id": "f4543e68",
   "metadata": {
    "ExecuteTime": {
     "start_time": "2022-07-15T04:54:18.159Z"
    }
   },
   "outputs": [],
   "source": [
    "# duplicative\n",
    "positions.drop('g_all', axis=1, inplace=True)\n",
    "\n",
    "# merge\n",
    "batpos = pd.merge(batting,positions,\n",
    "             on = ['year_id','player_id'])"
   ]
  },
  {
   "cell_type": "markdown",
   "id": "5e8fd92f",
   "metadata": {
    "ExecuteTime": {
     "end_time": "2022-07-04T22:10:35.881922Z",
     "start_time": "2022-07-04T22:10:35.826925Z"
    }
   },
   "source": [
    "### `_share` check"
   ]
  },
  {
   "cell_type": "markdown",
   "id": "30b43e87",
   "metadata": {},
   "source": [
    "With pitchers from `positions` not carried over via the merge/join, confirm that every batter has a sum `g_*_share` equal to 1 "
   ]
  },
  {
   "cell_type": "code",
   "execution_count": null,
   "id": "70ee861f",
   "metadata": {
    "ExecuteTime": {
     "start_time": "2022-07-15T04:54:18.171Z"
    }
   },
   "outputs": [],
   "source": [
    "g_share_sum = batpos[share_cols].sum(axis=1)\n",
    "g_share_sum.value_counts(normalize=True)"
   ]
  },
  {
   "cell_type": "markdown",
   "id": "e521362b",
   "metadata": {},
   "source": [
    "**Observation** All batters have a `g_*_share` value of 1 within a rounding error"
   ]
  },
  {
   "cell_type": "markdown",
   "id": "066bfb7b",
   "metadata": {},
   "source": [
    "### `share` overview"
   ]
  },
  {
   "cell_type": "code",
   "execution_count": null,
   "id": "ba531675",
   "metadata": {
    "ExecuteTime": {
     "start_time": "2022-07-15T04:54:18.182Z"
    },
    "code_folding": []
   },
   "outputs": [],
   "source": [
    "sns.regplot(x='g_c_share', y='waa_pg',\n",
    "            data = batpos,\n",
    "            scatter_kws={'alpha': 0.2},\n",
    "            line_kws={'color': 'red'})\\\n",
    ".set(title='Catcher % vs WAA\\nCorr: '+\\\n",
    "            str(round(batpos.corr().loc['waa_pg','g_c_share'],4)));"
   ]
  },
  {
   "cell_type": "markdown",
   "id": "53d5040a",
   "metadata": {},
   "source": [
    "**Observation** Playing catcher tends to increase `waa_pg`"
   ]
  },
  {
   "cell_type": "code",
   "execution_count": null,
   "id": "ef0e851c",
   "metadata": {
    "ExecuteTime": {
     "start_time": "2022-07-15T04:54:18.194Z"
    },
    "code_folding": [
     1
    ]
   },
   "outputs": [],
   "source": [
    "fig, ax = plt.subplots(1,2,figsize=(14,4.8))\n",
    "sns.regplot(x='g_1b_share', y='waa_pg',\n",
    "            data = batpos,\n",
    "            scatter_kws={'alpha': 0.2},\n",
    "            line_kws={'color': 'red'},\n",
    "            ax = ax[0])\\\n",
    ".set(title='1B % vs WAA\\nCorr: '+\\\n",
    "            str(round(batpos.corr().loc['waa_pg','g_1b_share'],4)))\n",
    "\n",
    "sns.regplot(x='g_3b_share', y='waa_pg',\n",
    "            data = batpos,\n",
    "            scatter_kws={'alpha': 0.2,\n",
    "                         'color': 'rebeccapurple'},\n",
    "            line_kws={'color': 'red'},\n",
    "            ax = ax[1])\\\n",
    ".set(title='3B % vs WAA\\nCorr: '+\\\n",
    "            str(round(batpos.corr().loc['waa_pg','g_3b_share'],4)));"
   ]
  },
  {
   "cell_type": "markdown",
   "id": "1939b7f9",
   "metadata": {},
   "source": [
    "**Observation** Playing 1B tends to have a negative effect on `waa_pg`, playing 3B tends to have a positive effect on `waa_pg`"
   ]
  },
  {
   "cell_type": "code",
   "execution_count": null,
   "id": "cb816bcd",
   "metadata": {
    "ExecuteTime": {
     "start_time": "2022-07-15T04:54:18.203Z"
    },
    "code_folding": [
     1,
     9
    ]
   },
   "outputs": [],
   "source": [
    "fig, ax = plt.subplots(1,2,figsize=(14,4.8))\n",
    "sns.regplot(x='g_2b_share', y='waa_pg',\n",
    "            data = batpos,\n",
    "            scatter_kws={'alpha': 0.2,\n",
    "                         'color': 'green'},\n",
    "            line_kws={'color': 'red'},\n",
    "            ax = ax[0])\\\n",
    ".set(title='2B % vs WAA\\nCorr: '+\\\n",
    "            str(round(batpos.corr().loc['waa_pg','g_2b_share'],4)))\n",
    "\n",
    "sns.regplot(x='g_ss_share', y='waa_pg',\n",
    "            data = batpos,\n",
    "            scatter_kws={'alpha': 0.2,\n",
    "                         'color': 'red'},\n",
    "            line_kws={'color': 'blue'},\n",
    "            ax = ax[1])\\\n",
    ".set(title='SS % vs WAA\\nCorr: '+\\\n",
    "            str(round(batpos.corr().loc['waa_pg','g_ss_share'],4)));"
   ]
  },
  {
   "cell_type": "markdown",
   "id": "664af41d",
   "metadata": {},
   "source": [
    "**Observation** Playing both 2B and SS tend to have a negative effect on `waa_pg`, with SS having a slightly more negative effect."
   ]
  },
  {
   "cell_type": "code",
   "execution_count": null,
   "id": "038e643c",
   "metadata": {
    "ExecuteTime": {
     "start_time": "2022-07-15T04:54:18.213Z"
    },
    "code_folding": [
     1,
     8
    ]
   },
   "outputs": [],
   "source": [
    "fig, ax = plt.subplots(1,2,figsize=(14,4.8))\n",
    "sns.regplot(x='g_lf_share', y='waa_pg',\n",
    "            data = batpos,\n",
    "            scatter_kws={'alpha': 0.2},\n",
    "            line_kws={'color': 'red'},\n",
    "            ax = ax[0])\\\n",
    ".set(title='LF % vs WAA\\nCorr: '+\\\n",
    "            str(round(batpos.corr().loc['waa_pg','g_lf_share'],4)))\n",
    "\n",
    "sns.regplot(x='g_rf_share', y='waa_pg',\n",
    "            data = batpos,\n",
    "            scatter_kws={'alpha': 0.2,\n",
    "                         'color': 'rebeccapurple'},\n",
    "            line_kws={'color': 'red'},\n",
    "            ax = ax[1])\\\n",
    ".set(title='RF % vs WAA\\nCorr: '+\\\n",
    "            str(round(batpos.corr().loc['waa_pg','g_rf_share'],4)));"
   ]
  },
  {
   "cell_type": "markdown",
   "id": "8615510d",
   "metadata": {},
   "source": [
    "**Observation** Playing LF or RF tend to have no effect on `waa_pg`"
   ]
  },
  {
   "cell_type": "code",
   "execution_count": null,
   "id": "ff95330a",
   "metadata": {
    "ExecuteTime": {
     "start_time": "2022-07-15T04:54:18.223Z"
    },
    "code_folding": []
   },
   "outputs": [],
   "source": [
    "sns.regplot(x='g_cf_share', y='waa_pg',\n",
    "            data = batpos,\n",
    "            scatter_kws={'alpha': 0.2,\n",
    "                         'color': 'green'},\n",
    "            line_kws={'color': 'red'})\\\n",
    ".set(title='CF % vs WAA\\nCorr: '+\\\n",
    "            str(round(batpos.corr().loc['waa_pg','g_cf_share'],4)));"
   ]
  },
  {
   "cell_type": "markdown",
   "id": "c97e7938",
   "metadata": {},
   "source": [
    "**Observation** Playing CF or the generalized OF tend to have a positive effect on `waa_pg`\n",
    "\n",
    "\n",
    "Since LF and RF are so close in their relationships with `waa_pg`, combine them into `waa_cof_share` where cof means corner infield."
   ]
  },
  {
   "cell_type": "code",
   "execution_count": null,
   "id": "5c1fc44a",
   "metadata": {
    "ExecuteTime": {
     "start_time": "2022-07-15T04:54:18.233Z"
    }
   },
   "outputs": [],
   "source": [
    "batpos['g_cof_share'] = batpos['g_lf_share']+batpos['g_rf_share']\n",
    "batpos.drop(['g_lf_share','g_rf_share'],\n",
    "            axis=1,\n",
    "            inplace=True)"
   ]
  },
  {
   "cell_type": "code",
   "execution_count": null,
   "id": "3b3b076f",
   "metadata": {
    "ExecuteTime": {
     "start_time": "2022-07-15T04:54:18.240Z"
    }
   },
   "outputs": [],
   "source": [
    "sns.regplot(x='g_cof_share', y='waa_pg',\n",
    "            data = batpos,\n",
    "            scatter_kws={'alpha': 0.2,\n",
    "                         'color': 'red'},\n",
    "            line_kws={'color': 'blue'})\\\n",
    ".set(title='LF/RF % vs WAA\\nCorr: '+\\\n",
    "            str(round(batpos.corr().loc['waa_pg','g_cof_share'],4)));"
   ]
  },
  {
   "cell_type": "markdown",
   "id": "5f897184",
   "metadata": {},
   "source": [
    "**Observation** when combined, the correlation is greater than either of the individual positions."
   ]
  },
  {
   "cell_type": "code",
   "execution_count": null,
   "id": "49559f1a",
   "metadata": {
    "ExecuteTime": {
     "start_time": "2022-07-15T04:54:18.249Z"
    },
    "code_folding": [
     0
    ]
   },
   "outputs": [],
   "source": [
    "sns.regplot(x='g_dh_share', y='waa_pg',\n",
    "            data = batpos,\n",
    "            scatter_kws={'alpha': 0.2},\n",
    "            line_kws={'color': 'red'})\\\n",
    ".set(title='DH % vs WAA\\nCorr: '+\\\n",
    "            str(round(batpos.corr().loc['waa_pg','g_dh_share'],4)));"
   ]
  },
  {
   "cell_type": "markdown",
   "id": "00eb2413",
   "metadata": {},
   "source": [
    "**Observation** Playing DH has quite a stark negative effect on `waa_pg`"
   ]
  },
  {
   "cell_type": "markdown",
   "id": "a1ddd9bd",
   "metadata": {},
   "source": [
    "# Exports"
   ]
  },
  {
   "cell_type": "markdown",
   "id": "08e06ffb",
   "metadata": {
    "ExecuteTime": {
     "end_time": "2022-07-05T02:02:41.813493Z",
     "start_time": "2022-07-05T02:02:41.801492Z"
    }
   },
   "source": [
    "Final shape of our dataset after EDA:\n",
    "\n",
    "7771 rows, 27 features, 1 target"
   ]
  },
  {
   "cell_type": "code",
   "execution_count": null,
   "id": "4b8477e8",
   "metadata": {
    "ExecuteTime": {
     "start_time": "2022-07-15T04:54:18.262Z"
    }
   },
   "outputs": [],
   "source": [
    "sns.regplot(x='opprpg', y='waa_pg', data = batpos,\n",
    "            scatter_kws={'alpha': 0.2},\n",
    "            line_kws={'color': 'red'}).set(title = 'Avg Opponent Runs Per Game');"
   ]
  },
  {
   "cell_type": "code",
   "execution_count": 98,
   "id": "78fb3da5",
   "metadata": {
    "ExecuteTime": {
     "end_time": "2022-07-14T18:05:41.665303Z",
     "start_time": "2022-07-14T18:05:40.962259Z"
    }
   },
   "outputs": [],
   "source": [
    "batpos.to_csv('../data/batpos_eda.csv', index=False)"
   ]
  },
  {
   "cell_type": "code",
   "execution_count": null,
   "id": "c497f493",
   "metadata": {},
   "outputs": [],
   "source": []
  }
 ],
 "metadata": {
  "kernelspec": {
   "display_name": "Python 3 (ipykernel)",
   "language": "python",
   "name": "python3"
  },
  "language_info": {
   "codemirror_mode": {
    "name": "ipython",
    "version": 3
   },
   "file_extension": ".py",
   "mimetype": "text/x-python",
   "name": "python",
   "nbconvert_exporter": "python",
   "pygments_lexer": "ipython3",
   "version": "3.9.12"
  },
  "toc": {
   "base_numbering": 1,
   "nav_menu": {},
   "number_sections": true,
   "sideBar": true,
   "skip_h1_title": false,
   "title_cell": "Table of Contents",
   "title_sidebar": "Contents",
   "toc_cell": false,
   "toc_position": {
    "height": "calc(100% - 180px)",
    "left": "10px",
    "top": "150px",
    "width": "266.634px"
   },
   "toc_section_display": true,
   "toc_window_display": true
  }
 },
 "nbformat": 4,
 "nbformat_minor": 5
}
