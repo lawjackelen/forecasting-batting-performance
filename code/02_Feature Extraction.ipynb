{
 "cells": [
  {
   "cell_type": "markdown",
   "id": "193915cf",
   "metadata": {},
   "source": [
    "# Imports"
   ]
  },
  {
   "cell_type": "code",
   "execution_count": 1,
   "id": "8ae8334d",
   "metadata": {
    "ExecuteTime": {
     "end_time": "2022-07-06T02:30:52.108387Z",
     "start_time": "2022-07-06T02:30:51.298774Z"
    }
   },
   "outputs": [],
   "source": [
    "import pandas as pd\n",
    "import numpy as np\n",
    "np.random.seed(2121)"
   ]
  },
  {
   "cell_type": "code",
   "execution_count": 2,
   "id": "f5075123",
   "metadata": {
    "ExecuteTime": {
     "end_time": "2022-07-06T02:30:52.219026Z",
     "start_time": "2022-07-06T02:30:52.108387Z"
    }
   },
   "outputs": [],
   "source": [
    "batpos = pd.read_csv('../data/batpos_eda.csv')"
   ]
  },
  {
   "cell_type": "markdown",
   "id": "d145d862",
   "metadata": {},
   "source": [
    "# Lookbacks"
   ]
  },
  {
   "cell_type": "markdown",
   "id": "2547f563",
   "metadata": {},
   "source": [
    "The nature of our dataset is that a player's performance will be across multiple lines in our dataset. We are interested in players who have a consecutive set of years in the database so we can look into their historical performance to make inferences.\n",
    "\n",
    "A few approaches will be made to see how our dataset changes (in number of rows) for lookback windows of 2, 3, and 5 years."
   ]
  },
  {
   "cell_type": "markdown",
   "id": "678fb2f9",
   "metadata": {},
   "source": [
    "## Calculate lookback loss"
   ]
  },
  {
   "cell_type": "code",
   "execution_count": 3,
   "id": "158a3baa",
   "metadata": {
    "ExecuteTime": {
     "end_time": "2022-07-06T02:30:52.251096Z",
     "start_time": "2022-07-06T02:30:52.221026Z"
    }
   },
   "outputs": [],
   "source": [
    "batpos = batpos.sort_values(['player_id','year_id'])"
   ]
  },
  {
   "cell_type": "code",
   "execution_count": 4,
   "id": "46f8a4d6",
   "metadata": {
    "ExecuteTime": {
     "end_time": "2022-07-06T02:30:52.267059Z",
     "start_time": "2022-07-06T02:30:52.255028Z"
    }
   },
   "outputs": [],
   "source": [
    "def lookback_counts(yr):\n",
    "    '''returns the count of rows remaining in the df using a lookback\n",
    "       value of yr where the yrs must be non-null and consecutive'''\n",
    "    \n",
    "    # create our working df\n",
    "    _yrlookback =\\\n",
    "        pd.Series(\n",
    "            pd.DataFrame(\n",
    "                    [batpos.groupby('player_id')['year_id'].shift(i)\n",
    "                     for i in range(1,yr+1)]).T.values.tolist(),\n",
    "        name='_yr_lookback')\n",
    "    \n",
    "    df = batpos.join(_yrlookback)\n",
    "    \n",
    "     \n",
    "    # remove rows where _yr_lookback array includes a nan\n",
    "    # create mask to count nulls\n",
    "    null_count = df['_yr_lookback']\\\n",
    "                    .map(lambda x: sum([1 if pd.isnull(i) else 0 for i in x]))\n",
    "\n",
    "    # use mask to keep only rows with mask value 0\n",
    "    df = df.loc[null_count==0]\n",
    "    \n",
    "     # remove rows where _yr_lookback years aren't consecutive\n",
    "    consec = df.apply(lambda row:\n",
    "                 [row.year_id - x for x in row['_yr_lookback']] \n",
    "                      == list(range(1,yr+1))\n",
    "                    , axis = 1)\n",
    "\n",
    "    # use mask to keep only rows with mask value 0\n",
    "    df = df.loc[consec]\n",
    "    \n",
    "    return df.shape[0], df"
   ]
  },
  {
   "cell_type": "markdown",
   "id": "3e78da69",
   "metadata": {},
   "source": [
    "## Lookback comparisions"
   ]
  },
  {
   "cell_type": "code",
   "execution_count": 5,
   "id": "38610abb",
   "metadata": {
    "ExecuteTime": {
     "end_time": "2022-07-06T02:30:53.793126Z",
     "start_time": "2022-07-06T02:30:52.270027Z"
    }
   },
   "outputs": [
    {
     "name": "stdout",
     "output_type": "stream",
     "text": [
      "Lookback Loss\n",
      "\n",
      "2 year lookback: 3627 rows\n",
      "0.47 of original\n",
      "\n",
      "3 year lookback: 2638 rows\n",
      "0.34 of original\n",
      "\n",
      "5 year lookback: 1411 rows\n",
      "0.18 of original\n",
      "\n"
     ]
    }
   ],
   "source": [
    "lb2 = lookback_counts(2)\n",
    "lb3 = lookback_counts(3)\n",
    "lb5 = lookback_counts(5)\n",
    "rows = batpos.shape[0]\n",
    "\n",
    "print('Lookback Loss\\n')\n",
    "print('2 year lookback: {} rows\\n{:.2f} of original\\n'.format(lb2[0],\n",
    "                                                            lb2[0]/rows))\n",
    "print('3 year lookback: {} rows\\n{:.2f} of original\\n'.format(lb3[0],\n",
    "                                                            lb3[0]/rows))\n",
    "print('5 year lookback: {} rows\\n{:.2f} of original\\n'.format(lb5[0],\n",
    "                                                            lb5[0]/rows))"
   ]
  },
  {
   "cell_type": "markdown",
   "id": "f9d75aa5",
   "metadata": {},
   "source": [
    "## Lookback Feature Extraction"
   ]
  },
  {
   "cell_type": "code",
   "execution_count": 6,
   "id": "bd32dc00",
   "metadata": {
    "ExecuteTime": {
     "end_time": "2022-07-06T02:30:53.824130Z",
     "start_time": "2022-07-06T02:30:53.796125Z"
    }
   },
   "outputs": [
    {
     "data": {
      "text/plain": [
       "Index(['waa_pg', 'player_id', 'year_id', 'name_common', 'age', 'g', 'team_gp',\n",
       "       'pa_pg', 'inn_pg', 'runs_bat_pg', 'runs_br_pg', 'runs_dp_pg',\n",
       "       'runs_defense_pg', 'runs_position_pg', 'teamrpg_avg', 'opprpg',\n",
       "       'pyth_exponent_avg', 'percent_team_gp', 'pa_per_team_gp',\n",
       "       'inn_per_team_gp', 'g_c_share', 'g_1b_share', 'g_2b_share',\n",
       "       'g_3b_share', 'g_ss_share', 'g_cf_share', 'g_dh_share', 'g_cof_share'],\n",
       "      dtype='object')"
      ]
     },
     "execution_count": 6,
     "metadata": {},
     "output_type": "execute_result"
    }
   ],
   "source": [
    "batpos.columns"
   ]
  },
  {
   "cell_type": "code",
   "execution_count": 7,
   "id": "14d71434",
   "metadata": {
    "ExecuteTime": {
     "end_time": "2022-07-06T02:30:57.327431Z",
     "start_time": "2022-07-06T02:30:53.826125Z"
    }
   },
   "outputs": [],
   "source": [
    "# create lookbacks for everything except our player vars, and age\n",
    "cols = ['waa_pg','g', 'team_gp',\n",
    "       'pa_pg', 'inn_pg', 'runs_bat_pg', 'runs_br_pg', 'runs_dp_pg',\n",
    "       'runs_defense_pg', 'runs_position_pg', 'teamrpg_avg', 'opprpg',\n",
    "       'pyth_exponent_avg', 'percent_team_gp', 'pa_per_team_gp',\n",
    "       'inn_per_team_gp', 'g_c_share', 'g_1b_share', 'g_2b_share',\n",
    "       'g_3b_share', 'g_ss_share', 'g_cf_share', 'g_dh_share', 'g_cof_share']\n",
    "\n",
    "for c in cols:\n",
    "    batpos[c+'_lookback'] =\\\n",
    "    pd.DataFrame(\n",
    "            [batpos.groupby('player_id')[c].shift(i)\n",
    "             for i in range(1,4)]).T.values.tolist()\n",
    "    \n",
    "    if c != 'waa_pg':\n",
    "        batpos.drop(c, axis=1, inplace=True)"
   ]
  },
  {
   "cell_type": "code",
   "execution_count": 8,
   "id": "6268f5c1",
   "metadata": {
    "ExecuteTime": {
     "end_time": "2022-07-06T02:30:57.405437Z",
     "start_time": "2022-07-06T02:30:57.330431Z"
    }
   },
   "outputs": [],
   "source": [
    "# using the df from our 3-year lookback, merge with batpos to mask it\n",
    "\n",
    "batpos = pd.merge(lb3[1][['player_id','year_id']], batpos,\n",
    "                 on = ['player_id', 'year_id'])\n",
    "\n",
    "# reorder\n",
    "batpos = batpos.iloc[:,[2]].join(batpos.iloc[:,0:2]).join(batpos.iloc[:,3:])"
   ]
  },
  {
   "cell_type": "code",
   "execution_count": 9,
   "id": "34650b06",
   "metadata": {
    "ExecuteTime": {
     "end_time": "2022-07-06T02:30:57.499437Z",
     "start_time": "2022-07-06T02:30:57.408434Z"
    }
   },
   "outputs": [
    {
     "data": {
      "text/html": [
       "<div>\n",
       "<style scoped>\n",
       "    .dataframe tbody tr th:only-of-type {\n",
       "        vertical-align: middle;\n",
       "    }\n",
       "\n",
       "    .dataframe tbody tr th {\n",
       "        vertical-align: top;\n",
       "    }\n",
       "\n",
       "    .dataframe thead th {\n",
       "        text-align: right;\n",
       "    }\n",
       "</style>\n",
       "<table border=\"1\" class=\"dataframe\">\n",
       "  <thead>\n",
       "    <tr style=\"text-align: right;\">\n",
       "      <th></th>\n",
       "      <th>waa_pg</th>\n",
       "      <th>player_id</th>\n",
       "      <th>year_id</th>\n",
       "      <th>name_common</th>\n",
       "      <th>age</th>\n",
       "      <th>waa_pg_lookback</th>\n",
       "      <th>g_lookback</th>\n",
       "      <th>team_gp_lookback</th>\n",
       "      <th>pa_pg_lookback</th>\n",
       "      <th>inn_pg_lookback</th>\n",
       "      <th>...</th>\n",
       "      <th>pa_per_team_gp_lookback</th>\n",
       "      <th>inn_per_team_gp_lookback</th>\n",
       "      <th>g_c_share_lookback</th>\n",
       "      <th>g_1b_share_lookback</th>\n",
       "      <th>g_2b_share_lookback</th>\n",
       "      <th>g_3b_share_lookback</th>\n",
       "      <th>g_ss_share_lookback</th>\n",
       "      <th>g_cf_share_lookback</th>\n",
       "      <th>g_dh_share_lookback</th>\n",
       "      <th>g_cof_share_lookback</th>\n",
       "    </tr>\n",
       "  </thead>\n",
       "  <tbody>\n",
       "    <tr>\n",
       "      <th>0</th>\n",
       "      <td>0.036000</td>\n",
       "      <td>aaronha01</td>\n",
       "      <td>1965</td>\n",
       "      <td>Henry Aaron</td>\n",
       "      <td>31.0</td>\n",
       "      <td>[0.0306206896551724, 0.0398757763975155, 0.038...</td>\n",
       "      <td>[145.0, 161.0, 156.0]</td>\n",
       "      <td>[162.0, 163.0, 162.0]</td>\n",
       "      <td>[4.372413793103449, 4.434782608695652, 4.27564...</td>\n",
       "      <td>[8.50551724137931, 8.98136645962733, 8.5942307...</td>\n",
       "      <td>...</td>\n",
       "      <td>[3.91358024691358, 4.380368098159509, 4.117283...</td>\n",
       "      <td>[7.612962962962962, 8.871165644171779, 8.27592...</td>\n",
       "      <td>[0.0, 0.0, 0.0]</td>\n",
       "      <td>[0.0, 0.0, 0.0064516129032258]</td>\n",
       "      <td>[0.0733333333333333, 0.0, 0.0]</td>\n",
       "      <td>[0.0, 0.0, 0.0]</td>\n",
       "      <td>[0.0, 0.0, 0.0]</td>\n",
       "      <td>[0.0, 0.0, 0.535483870967742]</td>\n",
       "      <td>[0.0, 0.0, 0.0]</td>\n",
       "      <td>[0.9266666666666666, 1.0, 0.4580645161290322]</td>\n",
       "    </tr>\n",
       "    <tr>\n",
       "      <th>1</th>\n",
       "      <td>0.034367</td>\n",
       "      <td>aaronha01</td>\n",
       "      <td>1966</td>\n",
       "      <td>Henry Aaron</td>\n",
       "      <td>32.0</td>\n",
       "      <td>[0.036, 0.0306206896551724, 0.0398757763975155]</td>\n",
       "      <td>[150.0, 145.0, 161.0]</td>\n",
       "      <td>[162.0, 162.0, 163.0]</td>\n",
       "      <td>[4.26, 4.372413793103449, 4.434782608695652]</td>\n",
       "      <td>[8.728666666666667, 8.50551724137931, 8.981366...</td>\n",
       "      <td>...</td>\n",
       "      <td>[3.9444444444444446, 3.91358024691358, 4.38036...</td>\n",
       "      <td>[8.0820987654321, 7.612962962962962, 8.8711656...</td>\n",
       "      <td>[0.0, 0.0, 0.0]</td>\n",
       "      <td>[0.0, 0.0, 0.0]</td>\n",
       "      <td>[0.0, 0.0733333333333333, 0.0]</td>\n",
       "      <td>[0.0, 0.0, 0.0]</td>\n",
       "      <td>[0.0, 0.0, 0.0]</td>\n",
       "      <td>[0.0, 0.0, 0.0]</td>\n",
       "      <td>[0.0, 0.0, 0.0]</td>\n",
       "      <td>[1.0, 0.9266666666666666, 1.0]</td>\n",
       "    </tr>\n",
       "    <tr>\n",
       "      <th>2</th>\n",
       "      <td>0.039613</td>\n",
       "      <td>aaronha01</td>\n",
       "      <td>1967</td>\n",
       "      <td>Henry Aaron</td>\n",
       "      <td>33.0</td>\n",
       "      <td>[0.0343670886075949, 0.036, 0.0306206896551724]</td>\n",
       "      <td>[158.0, 150.0, 145.0]</td>\n",
       "      <td>[163.0, 162.0, 162.0]</td>\n",
       "      <td>[4.354430379746836, 4.26, 4.372413793103449]</td>\n",
       "      <td>[8.596835443037975, 8.728666666666667, 8.50551...</td>\n",
       "      <td>...</td>\n",
       "      <td>[4.220858895705521, 3.9444444444444446, 3.9135...</td>\n",
       "      <td>[8.333128834355827, 8.0820987654321, 7.6129629...</td>\n",
       "      <td>[0.0, 0.0, 0.0]</td>\n",
       "      <td>[0.0, 0.0, 0.0]</td>\n",
       "      <td>[0.0121212121212121, 0.0, 0.0733333333333333]</td>\n",
       "      <td>[0.0, 0.0, 0.0]</td>\n",
       "      <td>[0.0, 0.0, 0.0]</td>\n",
       "      <td>[0.0303030303030303, 0.0, 0.0]</td>\n",
       "      <td>[0.0, 0.0, 0.0]</td>\n",
       "      <td>[0.9575757575757576, 1.0, 0.9266666666666666]</td>\n",
       "    </tr>\n",
       "    <tr>\n",
       "      <th>3</th>\n",
       "      <td>0.027437</td>\n",
       "      <td>aaronha01</td>\n",
       "      <td>1968</td>\n",
       "      <td>Henry Aaron</td>\n",
       "      <td>34.0</td>\n",
       "      <td>[0.0396129032258064, 0.0343670886075949, 0.036]</td>\n",
       "      <td>[155.0, 158.0, 150.0]</td>\n",
       "      <td>[162.0, 163.0, 162.0]</td>\n",
       "      <td>[4.316129032258065, 4.354430379746836, 4.26]</td>\n",
       "      <td>[8.703225806451613, 8.596835443037975, 8.72866...</td>\n",
       "      <td>...</td>\n",
       "      <td>[4.12962962962963, 4.220858895705521, 3.944444...</td>\n",
       "      <td>[8.32716049382716, 8.333128834355827, 8.082098...</td>\n",
       "      <td>[0.0, 0.0, 0.0]</td>\n",
       "      <td>[0.0, 0.0, 0.0]</td>\n",
       "      <td>[0.0064935064935064, 0.0121212121212121, 0.0]</td>\n",
       "      <td>[0.0, 0.0, 0.0]</td>\n",
       "      <td>[0.0, 0.0, 0.0]</td>\n",
       "      <td>[0.0714285714285714, 0.0303030303030303, 0.0]</td>\n",
       "      <td>[0.0, 0.0, 0.0]</td>\n",
       "      <td>[0.922077922077922, 0.9575757575757576, 1.0]</td>\n",
       "    </tr>\n",
       "    <tr>\n",
       "      <th>4</th>\n",
       "      <td>0.040136</td>\n",
       "      <td>aaronha01</td>\n",
       "      <td>1969</td>\n",
       "      <td>Henry Aaron</td>\n",
       "      <td>35.0</td>\n",
       "      <td>[0.0274374999999999, 0.0396129032258064, 0.034...</td>\n",
       "      <td>[160.0, 155.0, 158.0]</td>\n",
       "      <td>[163.0, 162.0, 163.0]</td>\n",
       "      <td>[4.225, 4.316129032258065, 4.354430379746836]</td>\n",
       "      <td>[8.714375, 8.703225806451613, 8.596835443037975]</td>\n",
       "      <td>...</td>\n",
       "      <td>[4.147239263803681, 4.12962962962963, 4.220858...</td>\n",
       "      <td>[8.553987730061351, 8.32716049382716, 8.333128...</td>\n",
       "      <td>[0.0, 0.0, 0.0]</td>\n",
       "      <td>[0.0848484848484848, 0.0, 0.0]</td>\n",
       "      <td>[0.0, 0.0064935064935064, 0.0121212121212121]</td>\n",
       "      <td>[0.0, 0.0, 0.0]</td>\n",
       "      <td>[0.0, 0.0, 0.0]</td>\n",
       "      <td>[0.0, 0.0714285714285714, 0.0303030303030303]</td>\n",
       "      <td>[0.0, 0.0, 0.0]</td>\n",
       "      <td>[0.9151515151515152, 0.922077922077922, 0.9575...</td>\n",
       "    </tr>\n",
       "  </tbody>\n",
       "</table>\n",
       "<p>5 rows × 29 columns</p>\n",
       "</div>"
      ],
      "text/plain": [
       "     waa_pg  player_id  year_id  name_common   age  \\\n",
       "0  0.036000  aaronha01     1965  Henry Aaron  31.0   \n",
       "1  0.034367  aaronha01     1966  Henry Aaron  32.0   \n",
       "2  0.039613  aaronha01     1967  Henry Aaron  33.0   \n",
       "3  0.027437  aaronha01     1968  Henry Aaron  34.0   \n",
       "4  0.040136  aaronha01     1969  Henry Aaron  35.0   \n",
       "\n",
       "                                     waa_pg_lookback             g_lookback  \\\n",
       "0  [0.0306206896551724, 0.0398757763975155, 0.038...  [145.0, 161.0, 156.0]   \n",
       "1    [0.036, 0.0306206896551724, 0.0398757763975155]  [150.0, 145.0, 161.0]   \n",
       "2    [0.0343670886075949, 0.036, 0.0306206896551724]  [158.0, 150.0, 145.0]   \n",
       "3    [0.0396129032258064, 0.0343670886075949, 0.036]  [155.0, 158.0, 150.0]   \n",
       "4  [0.0274374999999999, 0.0396129032258064, 0.034...  [160.0, 155.0, 158.0]   \n",
       "\n",
       "        team_gp_lookback                                     pa_pg_lookback  \\\n",
       "0  [162.0, 163.0, 162.0]  [4.372413793103449, 4.434782608695652, 4.27564...   \n",
       "1  [162.0, 162.0, 163.0]       [4.26, 4.372413793103449, 4.434782608695652]   \n",
       "2  [163.0, 162.0, 162.0]       [4.354430379746836, 4.26, 4.372413793103449]   \n",
       "3  [162.0, 163.0, 162.0]       [4.316129032258065, 4.354430379746836, 4.26]   \n",
       "4  [163.0, 162.0, 163.0]      [4.225, 4.316129032258065, 4.354430379746836]   \n",
       "\n",
       "                                     inn_pg_lookback  ...  \\\n",
       "0  [8.50551724137931, 8.98136645962733, 8.5942307...  ...   \n",
       "1  [8.728666666666667, 8.50551724137931, 8.981366...  ...   \n",
       "2  [8.596835443037975, 8.728666666666667, 8.50551...  ...   \n",
       "3  [8.703225806451613, 8.596835443037975, 8.72866...  ...   \n",
       "4   [8.714375, 8.703225806451613, 8.596835443037975]  ...   \n",
       "\n",
       "                             pa_per_team_gp_lookback  \\\n",
       "0  [3.91358024691358, 4.380368098159509, 4.117283...   \n",
       "1  [3.9444444444444446, 3.91358024691358, 4.38036...   \n",
       "2  [4.220858895705521, 3.9444444444444446, 3.9135...   \n",
       "3  [4.12962962962963, 4.220858895705521, 3.944444...   \n",
       "4  [4.147239263803681, 4.12962962962963, 4.220858...   \n",
       "\n",
       "                            inn_per_team_gp_lookback g_c_share_lookback  \\\n",
       "0  [7.612962962962962, 8.871165644171779, 8.27592...    [0.0, 0.0, 0.0]   \n",
       "1  [8.0820987654321, 7.612962962962962, 8.8711656...    [0.0, 0.0, 0.0]   \n",
       "2  [8.333128834355827, 8.0820987654321, 7.6129629...    [0.0, 0.0, 0.0]   \n",
       "3  [8.32716049382716, 8.333128834355827, 8.082098...    [0.0, 0.0, 0.0]   \n",
       "4  [8.553987730061351, 8.32716049382716, 8.333128...    [0.0, 0.0, 0.0]   \n",
       "\n",
       "              g_1b_share_lookback  \\\n",
       "0  [0.0, 0.0, 0.0064516129032258]   \n",
       "1                 [0.0, 0.0, 0.0]   \n",
       "2                 [0.0, 0.0, 0.0]   \n",
       "3                 [0.0, 0.0, 0.0]   \n",
       "4  [0.0848484848484848, 0.0, 0.0]   \n",
       "\n",
       "                             g_2b_share_lookback g_3b_share_lookback  \\\n",
       "0                 [0.0733333333333333, 0.0, 0.0]     [0.0, 0.0, 0.0]   \n",
       "1                 [0.0, 0.0733333333333333, 0.0]     [0.0, 0.0, 0.0]   \n",
       "2  [0.0121212121212121, 0.0, 0.0733333333333333]     [0.0, 0.0, 0.0]   \n",
       "3  [0.0064935064935064, 0.0121212121212121, 0.0]     [0.0, 0.0, 0.0]   \n",
       "4  [0.0, 0.0064935064935064, 0.0121212121212121]     [0.0, 0.0, 0.0]   \n",
       "\n",
       "  g_ss_share_lookback                            g_cf_share_lookback  \\\n",
       "0     [0.0, 0.0, 0.0]                  [0.0, 0.0, 0.535483870967742]   \n",
       "1     [0.0, 0.0, 0.0]                                [0.0, 0.0, 0.0]   \n",
       "2     [0.0, 0.0, 0.0]                 [0.0303030303030303, 0.0, 0.0]   \n",
       "3     [0.0, 0.0, 0.0]  [0.0714285714285714, 0.0303030303030303, 0.0]   \n",
       "4     [0.0, 0.0, 0.0]  [0.0, 0.0714285714285714, 0.0303030303030303]   \n",
       "\n",
       "  g_dh_share_lookback                               g_cof_share_lookback  \n",
       "0     [0.0, 0.0, 0.0]      [0.9266666666666666, 1.0, 0.4580645161290322]  \n",
       "1     [0.0, 0.0, 0.0]                     [1.0, 0.9266666666666666, 1.0]  \n",
       "2     [0.0, 0.0, 0.0]      [0.9575757575757576, 1.0, 0.9266666666666666]  \n",
       "3     [0.0, 0.0, 0.0]       [0.922077922077922, 0.9575757575757576, 1.0]  \n",
       "4     [0.0, 0.0, 0.0]  [0.9151515151515152, 0.922077922077922, 0.9575...  \n",
       "\n",
       "[5 rows x 29 columns]"
      ]
     },
     "execution_count": 9,
     "metadata": {},
     "output_type": "execute_result"
    }
   ],
   "source": [
    "batpos.head()"
   ]
  }
 ],
 "metadata": {
  "kernelspec": {
   "display_name": "Python 3 (ipykernel)",
   "language": "python",
   "name": "python3"
  },
  "language_info": {
   "codemirror_mode": {
    "name": "ipython",
    "version": 3
   },
   "file_extension": ".py",
   "mimetype": "text/x-python",
   "name": "python",
   "nbconvert_exporter": "python",
   "pygments_lexer": "ipython3",
   "version": "3.9.12"
  },
  "toc": {
   "base_numbering": 1,
   "nav_menu": {},
   "number_sections": true,
   "sideBar": true,
   "skip_h1_title": false,
   "title_cell": "Table of Contents",
   "title_sidebar": "Contents",
   "toc_cell": false,
   "toc_position": {
    "height": "calc(100% - 180px)",
    "left": "10px",
    "top": "150px",
    "width": "384px"
   },
   "toc_section_display": true,
   "toc_window_display": true
  }
 },
 "nbformat": 4,
 "nbformat_minor": 5
}
