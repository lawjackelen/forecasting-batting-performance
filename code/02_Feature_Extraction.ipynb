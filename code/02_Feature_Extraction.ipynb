{
 "cells": [
  {
   "cell_type": "markdown",
   "id": "193915cf",
   "metadata": {},
   "source": [
    "# Imports"
   ]
  },
  {
   "cell_type": "code",
   "execution_count": 1,
   "id": "8ae8334d",
   "metadata": {
    "ExecuteTime": {
     "end_time": "2022-07-14T18:08:13.281181Z",
     "start_time": "2022-07-14T18:08:10.815080Z"
    }
   },
   "outputs": [],
   "source": [
    "import pandas as pd\n",
    "import numpy as np\n",
    "np.random.seed(2121)\n",
    "\n",
    "import matplotlib.pyplot as plt"
   ]
  },
  {
   "cell_type": "code",
   "execution_count": 2,
   "id": "f5075123",
   "metadata": {
    "ExecuteTime": {
     "end_time": "2022-07-14T18:08:13.423190Z",
     "start_time": "2022-07-14T18:08:13.285192Z"
    }
   },
   "outputs": [],
   "source": [
    "batpos = pd.read_csv('../data/batpos_eda.csv')"
   ]
  },
  {
   "cell_type": "markdown",
   "id": "d145d862",
   "metadata": {},
   "source": [
    "# Lookbacks"
   ]
  },
  {
   "cell_type": "markdown",
   "id": "2547f563",
   "metadata": {},
   "source": [
    "The nature of our dataset is that a player's performance will be across multiple lines in our dataset. We are interested in players who have a consecutive set of years in the database so we can look into their historical performance to make inferences.\n",
    "\n",
    "A few approaches will be made to see how our dataset changes (in number of rows) for lookback windows of 2, 3, and 5 years."
   ]
  },
  {
   "cell_type": "markdown",
   "id": "678fb2f9",
   "metadata": {},
   "source": [
    "## Calculate lookback loss"
   ]
  },
  {
   "cell_type": "code",
   "execution_count": 3,
   "id": "158a3baa",
   "metadata": {
    "ExecuteTime": {
     "end_time": "2022-07-14T18:08:13.455200Z",
     "start_time": "2022-07-14T18:08:13.426191Z"
    }
   },
   "outputs": [],
   "source": [
    "# sort df by player-year to ensure proper shifting\n",
    "batpos = batpos.sort_values(['player_id','year_id'])"
   ]
  },
  {
   "cell_type": "code",
   "execution_count": 4,
   "id": "46f8a4d6",
   "metadata": {
    "ExecuteTime": {
     "end_time": "2022-07-14T18:08:13.471191Z",
     "start_time": "2022-07-14T18:08:13.459190Z"
    }
   },
   "outputs": [],
   "source": [
    "def lookback_counts(yr):\n",
    "    '''returns the count of rows remaining in the df using a lookback\n",
    "       value of yr where the yrs must be non-null and consecutive'''\n",
    "    \n",
    "    # create our working df\n",
    "    _yrlookback =\\\n",
    "        pd.Series(\n",
    "            pd.DataFrame(\n",
    "                    [batpos.groupby('player_id')['year_id'].shift(i)\n",
    "                     for i in range(1,yr+1)]).T.values.tolist(),\n",
    "        name='_yr_lookback')\n",
    "    \n",
    "    df = batpos.join(_yrlookback)\n",
    "    \n",
    "     \n",
    "    # remove rows where _yr_lookback array includes a nan\n",
    "    # create mask to count nulls\n",
    "    null_count = df['_yr_lookback']\\\n",
    "                    .map(lambda x: sum([1 if pd.isnull(i) else 0 for i in x]))\n",
    "\n",
    "    # use mask to keep only rows with mask value 0\n",
    "    df = df.loc[null_count==0]\n",
    "    \n",
    "     # remove rows where _yr_lookback years aren't consecutive\n",
    "    consec = df.apply(lambda row:\n",
    "                 [row.year_id - x for x in row['_yr_lookback']] \n",
    "                      == list(range(1,yr+1))\n",
    "                    , axis = 1)\n",
    "\n",
    "    # use mask to keep only rows with mask value 0\n",
    "    df = df.loc[consec]\n",
    "    \n",
    "    return df.shape[0], df"
   ]
  },
  {
   "cell_type": "markdown",
   "id": "3e78da69",
   "metadata": {},
   "source": [
    "## Lookback comparisions"
   ]
  },
  {
   "cell_type": "markdown",
   "id": "5c21a061",
   "metadata": {},
   "source": [
    "The longer our lookback, the fewer players we can expect to have in our dataset. To qualify for a specific lookback window, the player must have that number of consecutive years +1 in the dataset."
   ]
  },
  {
   "cell_type": "code",
   "execution_count": 5,
   "id": "38610abb",
   "metadata": {
    "ExecuteTime": {
     "end_time": "2022-07-14T18:08:17.624105Z",
     "start_time": "2022-07-14T18:08:13.474195Z"
    }
   },
   "outputs": [
    {
     "name": "stdout",
     "output_type": "stream",
     "text": [
      "Lookback Loss\n",
      "\n",
      "2 year lookback: 7268 rows\n",
      "0.57 of original\n",
      "1388 players total\n",
      "\n",
      "3 year lookback: 5694 rows\n",
      "0.45 of original\n",
      "1159 players total\n",
      "\n",
      "5 year lookback: 3460 rows\n",
      "0.27 of original\n",
      "776 players total\n",
      "\n",
      "10 year lookback: 813 rows\n",
      "0.06 of original\n",
      "248 players total\n",
      "\n"
     ]
    }
   ],
   "source": [
    "lb2 = lookback_counts(2) # 2year\n",
    "lb3 = lookback_counts(3) # 3\n",
    "lb5 = lookback_counts(5) # 5\n",
    "lb6 = lookback_counts(6) #6\n",
    "lb10 = lookback_counts(10) #10 \n",
    "rows = batpos.shape[0] #players we started with\n",
    "\n",
    "print('Lookback Loss\\n')\n",
    "\n",
    "print(f'2 year lookback: {lb2[0]} rows\\n'+\\\n",
    "      f'{lb2[0]/rows:.2f} of original\\n'+\\\n",
    "      f'{lb2[1].name_common.unique().shape[0]} players total\\n')\n",
    "\n",
    "print(f'3 year lookback: {lb3[0]} rows\\n'+\\\n",
    "      f'{lb3[0]/rows:.2f} of original\\n'+\\\n",
    "      f'{lb3[1].name_common.unique().shape[0]} players total\\n')\n",
    "\n",
    "print(f'5 year lookback: {lb5[0]} rows\\n'+\\\n",
    "      f'{lb5[0]/rows:.2f} of original\\n'+\\\n",
    "      f'{lb5[1].name_common.unique().shape[0]} players total\\n')\n",
    "\n",
    "print(f'10 year lookback: {lb10[0]} rows\\n'+\\\n",
    "      f'{lb10[0]/rows:.2f} of original\\n'+\\\n",
    "      f'{lb10[1].name_common.unique().shape[0]} players total\\n')\n"
   ]
  },
  {
   "cell_type": "markdown",
   "id": "f9d75aa5",
   "metadata": {},
   "source": [
    "## Lookback Feature Extraction"
   ]
  },
  {
   "cell_type": "markdown",
   "id": "9805d5b7",
   "metadata": {},
   "source": [
    "### Standard Lookback approach (3-year)"
   ]
  },
  {
   "cell_type": "code",
   "execution_count": 6,
   "id": "9c3de3fe",
   "metadata": {
    "ExecuteTime": {
     "end_time": "2022-07-14T18:08:17.640104Z",
     "start_time": "2022-07-14T18:08:17.627132Z"
    }
   },
   "outputs": [],
   "source": [
    "batpos_ex = batpos.copy()"
   ]
  },
  {
   "cell_type": "code",
   "execution_count": 7,
   "id": "2c369970",
   "metadata": {
    "ExecuteTime": {
     "end_time": "2022-07-14T18:08:32.610673Z",
     "start_time": "2022-07-14T18:08:17.643106Z"
    }
   },
   "outputs": [],
   "source": [
    "# create lookbacks for everything except our player vars, and age\n",
    "cols = ['waa_pg','g', 'team_gp',\n",
    "       'pa_pg', 'inn_pg', 'runs_bat_pg', 'runs_br_pg', 'runs_dp_pg',\n",
    "       'runs_defense_pg', 'runs_position_pg','opprpg',\n",
    "       'percent_team_gp', 'pa_per_team_gp',\n",
    "       'inn_per_team_gp', 'g_c_share', 'g_1b_share', 'g_2b_share',\n",
    "       'g_3b_share', 'g_ss_share', 'g_cf_share', 'g_dh_share', 'g_cof_share']\n",
    "\n",
    "for c in cols:\n",
    "    for i in range(1,4):\n",
    "        batpos_ex[c+'_'+str(i)+'yr'] =\\\n",
    "        pd.DataFrame(\n",
    "                [batpos_ex.groupby('player_id')[c].shift(i)]).T\n",
    "    \n",
    "#     if c != 'waa_pg':\n",
    "#         batpos_ex.drop(c, axis=1, inplace=True)"
   ]
  },
  {
   "cell_type": "code",
   "execution_count": 8,
   "id": "2a2fb751",
   "metadata": {
    "ExecuteTime": {
     "end_time": "2022-07-14T18:08:32.720667Z",
     "start_time": "2022-07-14T18:08:32.617668Z"
    }
   },
   "outputs": [
    {
     "data": {
      "text/html": [
       "<div>\n",
       "<style scoped>\n",
       "    .dataframe tbody tr th:only-of-type {\n",
       "        vertical-align: middle;\n",
       "    }\n",
       "\n",
       "    .dataframe tbody tr th {\n",
       "        vertical-align: top;\n",
       "    }\n",
       "\n",
       "    .dataframe thead th {\n",
       "        text-align: right;\n",
       "    }\n",
       "</style>\n",
       "<table border=\"1\" class=\"dataframe\">\n",
       "  <thead>\n",
       "    <tr style=\"text-align: right;\">\n",
       "      <th></th>\n",
       "      <th>waa_pg</th>\n",
       "      <th>player_id</th>\n",
       "      <th>year_id</th>\n",
       "      <th>name_common</th>\n",
       "      <th>age</th>\n",
       "      <th>g</th>\n",
       "      <th>team_gp</th>\n",
       "      <th>pa_pg</th>\n",
       "      <th>inn_pg</th>\n",
       "      <th>runs_bat_pg</th>\n",
       "      <th>...</th>\n",
       "      <th>g_ss_share_3yr</th>\n",
       "      <th>g_cf_share_1yr</th>\n",
       "      <th>g_cf_share_2yr</th>\n",
       "      <th>g_cf_share_3yr</th>\n",
       "      <th>g_dh_share_1yr</th>\n",
       "      <th>g_dh_share_2yr</th>\n",
       "      <th>g_dh_share_3yr</th>\n",
       "      <th>g_cof_share_1yr</th>\n",
       "      <th>g_cof_share_2yr</th>\n",
       "      <th>g_cof_share_3yr</th>\n",
       "    </tr>\n",
       "  </thead>\n",
       "  <tbody>\n",
       "    <tr>\n",
       "      <th>0</th>\n",
       "      <td>0.038526</td>\n",
       "      <td>aaronha01</td>\n",
       "      <td>1962</td>\n",
       "      <td>Henry Aaron</td>\n",
       "      <td>28.0</td>\n",
       "      <td>156</td>\n",
       "      <td>162.0</td>\n",
       "      <td>4.275641</td>\n",
       "      <td>8.594231</td>\n",
       "      <td>0.364038</td>\n",
       "      <td>...</td>\n",
       "      <td>NaN</td>\n",
       "      <td>NaN</td>\n",
       "      <td>NaN</td>\n",
       "      <td>NaN</td>\n",
       "      <td>NaN</td>\n",
       "      <td>NaN</td>\n",
       "      <td>NaN</td>\n",
       "      <td>NaN</td>\n",
       "      <td>NaN</td>\n",
       "      <td>NaN</td>\n",
       "    </tr>\n",
       "    <tr>\n",
       "      <th>1</th>\n",
       "      <td>0.039876</td>\n",
       "      <td>aaronha01</td>\n",
       "      <td>1963</td>\n",
       "      <td>Henry Aaron</td>\n",
       "      <td>29.0</td>\n",
       "      <td>161</td>\n",
       "      <td>163.0</td>\n",
       "      <td>4.434783</td>\n",
       "      <td>8.981366</td>\n",
       "      <td>0.381925</td>\n",
       "      <td>...</td>\n",
       "      <td>NaN</td>\n",
       "      <td>0.535484</td>\n",
       "      <td>NaN</td>\n",
       "      <td>NaN</td>\n",
       "      <td>0.000000</td>\n",
       "      <td>NaN</td>\n",
       "      <td>NaN</td>\n",
       "      <td>0.458065</td>\n",
       "      <td>NaN</td>\n",
       "      <td>NaN</td>\n",
       "    </tr>\n",
       "    <tr>\n",
       "      <th>2</th>\n",
       "      <td>0.030621</td>\n",
       "      <td>aaronha01</td>\n",
       "      <td>1964</td>\n",
       "      <td>Henry Aaron</td>\n",
       "      <td>30.0</td>\n",
       "      <td>145</td>\n",
       "      <td>162.0</td>\n",
       "      <td>4.372414</td>\n",
       "      <td>8.505517</td>\n",
       "      <td>0.262552</td>\n",
       "      <td>...</td>\n",
       "      <td>NaN</td>\n",
       "      <td>0.000000</td>\n",
       "      <td>0.535484</td>\n",
       "      <td>NaN</td>\n",
       "      <td>0.000000</td>\n",
       "      <td>0.000000</td>\n",
       "      <td>NaN</td>\n",
       "      <td>1.000000</td>\n",
       "      <td>0.458065</td>\n",
       "      <td>NaN</td>\n",
       "    </tr>\n",
       "    <tr>\n",
       "      <th>3</th>\n",
       "      <td>0.036000</td>\n",
       "      <td>aaronha01</td>\n",
       "      <td>1965</td>\n",
       "      <td>Henry Aaron</td>\n",
       "      <td>31.0</td>\n",
       "      <td>150</td>\n",
       "      <td>162.0</td>\n",
       "      <td>4.260000</td>\n",
       "      <td>8.728667</td>\n",
       "      <td>0.287333</td>\n",
       "      <td>...</td>\n",
       "      <td>0.0</td>\n",
       "      <td>0.000000</td>\n",
       "      <td>0.000000</td>\n",
       "      <td>0.535484</td>\n",
       "      <td>0.000000</td>\n",
       "      <td>0.000000</td>\n",
       "      <td>0.000000</td>\n",
       "      <td>0.926667</td>\n",
       "      <td>1.000000</td>\n",
       "      <td>0.458065</td>\n",
       "    </tr>\n",
       "    <tr>\n",
       "      <th>4</th>\n",
       "      <td>0.034367</td>\n",
       "      <td>aaronha01</td>\n",
       "      <td>1966</td>\n",
       "      <td>Henry Aaron</td>\n",
       "      <td>32.0</td>\n",
       "      <td>158</td>\n",
       "      <td>163.0</td>\n",
       "      <td>4.354430</td>\n",
       "      <td>8.596835</td>\n",
       "      <td>0.225886</td>\n",
       "      <td>...</td>\n",
       "      <td>0.0</td>\n",
       "      <td>0.000000</td>\n",
       "      <td>0.000000</td>\n",
       "      <td>0.000000</td>\n",
       "      <td>0.000000</td>\n",
       "      <td>0.000000</td>\n",
       "      <td>0.000000</td>\n",
       "      <td>1.000000</td>\n",
       "      <td>0.926667</td>\n",
       "      <td>1.000000</td>\n",
       "    </tr>\n",
       "    <tr>\n",
       "      <th>...</th>\n",
       "      <td>...</td>\n",
       "      <td>...</td>\n",
       "      <td>...</td>\n",
       "      <td>...</td>\n",
       "      <td>...</td>\n",
       "      <td>...</td>\n",
       "      <td>...</td>\n",
       "      <td>...</td>\n",
       "      <td>...</td>\n",
       "      <td>...</td>\n",
       "      <td>...</td>\n",
       "      <td>...</td>\n",
       "      <td>...</td>\n",
       "      <td>...</td>\n",
       "      <td>...</td>\n",
       "      <td>...</td>\n",
       "      <td>...</td>\n",
       "      <td>...</td>\n",
       "      <td>...</td>\n",
       "      <td>...</td>\n",
       "      <td>...</td>\n",
       "    </tr>\n",
       "    <tr>\n",
       "      <th>12721</th>\n",
       "      <td>-0.009389</td>\n",
       "      <td>zuninmi01</td>\n",
       "      <td>2014</td>\n",
       "      <td>Mike Zunino</td>\n",
       "      <td>23.0</td>\n",
       "      <td>131</td>\n",
       "      <td>162.0</td>\n",
       "      <td>3.633588</td>\n",
       "      <td>8.625954</td>\n",
       "      <td>-0.072595</td>\n",
       "      <td>...</td>\n",
       "      <td>NaN</td>\n",
       "      <td>NaN</td>\n",
       "      <td>NaN</td>\n",
       "      <td>NaN</td>\n",
       "      <td>NaN</td>\n",
       "      <td>NaN</td>\n",
       "      <td>NaN</td>\n",
       "      <td>NaN</td>\n",
       "      <td>NaN</td>\n",
       "      <td>NaN</td>\n",
       "    </tr>\n",
       "    <tr>\n",
       "      <th>12722</th>\n",
       "      <td>-0.018304</td>\n",
       "      <td>zuninmi01</td>\n",
       "      <td>2015</td>\n",
       "      <td>Mike Zunino</td>\n",
       "      <td>24.0</td>\n",
       "      <td>112</td>\n",
       "      <td>162.0</td>\n",
       "      <td>3.446429</td>\n",
       "      <td>8.211607</td>\n",
       "      <td>-0.224018</td>\n",
       "      <td>...</td>\n",
       "      <td>NaN</td>\n",
       "      <td>0.000000</td>\n",
       "      <td>NaN</td>\n",
       "      <td>NaN</td>\n",
       "      <td>0.007634</td>\n",
       "      <td>NaN</td>\n",
       "      <td>NaN</td>\n",
       "      <td>0.000000</td>\n",
       "      <td>NaN</td>\n",
       "      <td>NaN</td>\n",
       "    </tr>\n",
       "    <tr>\n",
       "      <th>12723</th>\n",
       "      <td>0.015403</td>\n",
       "      <td>zuninmi01</td>\n",
       "      <td>2017</td>\n",
       "      <td>Mike Zunino</td>\n",
       "      <td>26.0</td>\n",
       "      <td>124</td>\n",
       "      <td>162.0</td>\n",
       "      <td>3.508065</td>\n",
       "      <td>8.161290</td>\n",
       "      <td>0.100887</td>\n",
       "      <td>...</td>\n",
       "      <td>NaN</td>\n",
       "      <td>0.000000</td>\n",
       "      <td>0.000000</td>\n",
       "      <td>NaN</td>\n",
       "      <td>0.000000</td>\n",
       "      <td>0.007634</td>\n",
       "      <td>NaN</td>\n",
       "      <td>0.000000</td>\n",
       "      <td>0.000000</td>\n",
       "      <td>NaN</td>\n",
       "    </tr>\n",
       "    <tr>\n",
       "      <th>12724</th>\n",
       "      <td>0.004336</td>\n",
       "      <td>zuninmi01</td>\n",
       "      <td>2018</td>\n",
       "      <td>Mike Zunino</td>\n",
       "      <td>27.0</td>\n",
       "      <td>113</td>\n",
       "      <td>162.0</td>\n",
       "      <td>3.584071</td>\n",
       "      <td>8.236283</td>\n",
       "      <td>-0.076903</td>\n",
       "      <td>...</td>\n",
       "      <td>0.0</td>\n",
       "      <td>0.000000</td>\n",
       "      <td>0.000000</td>\n",
       "      <td>0.000000</td>\n",
       "      <td>0.016393</td>\n",
       "      <td>0.000000</td>\n",
       "      <td>0.007634</td>\n",
       "      <td>0.000000</td>\n",
       "      <td>0.000000</td>\n",
       "      <td>0.000000</td>\n",
       "    </tr>\n",
       "    <tr>\n",
       "      <th>12725</th>\n",
       "      <td>-0.006129</td>\n",
       "      <td>zupcibo01</td>\n",
       "      <td>1992</td>\n",
       "      <td>Bob Zupcic</td>\n",
       "      <td>25.0</td>\n",
       "      <td>124</td>\n",
       "      <td>162.0</td>\n",
       "      <td>3.483871</td>\n",
       "      <td>7.728226</td>\n",
       "      <td>-0.064516</td>\n",
       "      <td>...</td>\n",
       "      <td>NaN</td>\n",
       "      <td>NaN</td>\n",
       "      <td>NaN</td>\n",
       "      <td>NaN</td>\n",
       "      <td>NaN</td>\n",
       "      <td>NaN</td>\n",
       "      <td>NaN</td>\n",
       "      <td>NaN</td>\n",
       "      <td>NaN</td>\n",
       "      <td>NaN</td>\n",
       "    </tr>\n",
       "  </tbody>\n",
       "</table>\n",
       "<p>12726 rows × 92 columns</p>\n",
       "</div>"
      ],
      "text/plain": [
       "         waa_pg  player_id  year_id  name_common   age    g  team_gp  \\\n",
       "0      0.038526  aaronha01     1962  Henry Aaron  28.0  156    162.0   \n",
       "1      0.039876  aaronha01     1963  Henry Aaron  29.0  161    163.0   \n",
       "2      0.030621  aaronha01     1964  Henry Aaron  30.0  145    162.0   \n",
       "3      0.036000  aaronha01     1965  Henry Aaron  31.0  150    162.0   \n",
       "4      0.034367  aaronha01     1966  Henry Aaron  32.0  158    163.0   \n",
       "...         ...        ...      ...          ...   ...  ...      ...   \n",
       "12721 -0.009389  zuninmi01     2014  Mike Zunino  23.0  131    162.0   \n",
       "12722 -0.018304  zuninmi01     2015  Mike Zunino  24.0  112    162.0   \n",
       "12723  0.015403  zuninmi01     2017  Mike Zunino  26.0  124    162.0   \n",
       "12724  0.004336  zuninmi01     2018  Mike Zunino  27.0  113    162.0   \n",
       "12725 -0.006129  zupcibo01     1992   Bob Zupcic  25.0  124    162.0   \n",
       "\n",
       "          pa_pg    inn_pg  runs_bat_pg  ...  g_ss_share_3yr  g_cf_share_1yr  \\\n",
       "0      4.275641  8.594231     0.364038  ...             NaN             NaN   \n",
       "1      4.434783  8.981366     0.381925  ...             NaN        0.535484   \n",
       "2      4.372414  8.505517     0.262552  ...             NaN        0.000000   \n",
       "3      4.260000  8.728667     0.287333  ...             0.0        0.000000   \n",
       "4      4.354430  8.596835     0.225886  ...             0.0        0.000000   \n",
       "...         ...       ...          ...  ...             ...             ...   \n",
       "12721  3.633588  8.625954    -0.072595  ...             NaN             NaN   \n",
       "12722  3.446429  8.211607    -0.224018  ...             NaN        0.000000   \n",
       "12723  3.508065  8.161290     0.100887  ...             NaN        0.000000   \n",
       "12724  3.584071  8.236283    -0.076903  ...             0.0        0.000000   \n",
       "12725  3.483871  7.728226    -0.064516  ...             NaN             NaN   \n",
       "\n",
       "       g_cf_share_2yr  g_cf_share_3yr  g_dh_share_1yr  g_dh_share_2yr  \\\n",
       "0                 NaN             NaN             NaN             NaN   \n",
       "1                 NaN             NaN        0.000000             NaN   \n",
       "2            0.535484             NaN        0.000000        0.000000   \n",
       "3            0.000000        0.535484        0.000000        0.000000   \n",
       "4            0.000000        0.000000        0.000000        0.000000   \n",
       "...               ...             ...             ...             ...   \n",
       "12721             NaN             NaN             NaN             NaN   \n",
       "12722             NaN             NaN        0.007634             NaN   \n",
       "12723        0.000000             NaN        0.000000        0.007634   \n",
       "12724        0.000000        0.000000        0.016393        0.000000   \n",
       "12725             NaN             NaN             NaN             NaN   \n",
       "\n",
       "       g_dh_share_3yr  g_cof_share_1yr  g_cof_share_2yr  g_cof_share_3yr  \n",
       "0                 NaN              NaN              NaN              NaN  \n",
       "1                 NaN         0.458065              NaN              NaN  \n",
       "2                 NaN         1.000000         0.458065              NaN  \n",
       "3            0.000000         0.926667         1.000000         0.458065  \n",
       "4            0.000000         1.000000         0.926667         1.000000  \n",
       "...               ...              ...              ...              ...  \n",
       "12721             NaN              NaN              NaN              NaN  \n",
       "12722             NaN         0.000000              NaN              NaN  \n",
       "12723             NaN         0.000000         0.000000              NaN  \n",
       "12724        0.007634         0.000000         0.000000         0.000000  \n",
       "12725             NaN              NaN              NaN              NaN  \n",
       "\n",
       "[12726 rows x 92 columns]"
      ]
     },
     "execution_count": 8,
     "metadata": {},
     "output_type": "execute_result"
    }
   ],
   "source": [
    "batpos_ex"
   ]
  },
  {
   "cell_type": "code",
   "execution_count": 9,
   "id": "8bcbbcad",
   "metadata": {
    "ExecuteTime": {
     "end_time": "2022-07-14T18:08:32.816667Z",
     "start_time": "2022-07-14T18:08:32.726668Z"
    }
   },
   "outputs": [],
   "source": [
    "# using the df from our 3-year lookback, merge with batpos to mask it\n",
    "\n",
    "batpos_ex = pd.merge(lb3[1][['player_id','year_id']], batpos_ex,\n",
    "                 on = ['player_id', 'year_id'])\n",
    "\n",
    "# reorder\n",
    "batpos_ex = batpos_ex.iloc[:,[2]]\\\n",
    "                    .join(batpos_ex.iloc[:,0:2])\\\n",
    "                    .join(batpos_ex.iloc[:,3:])"
   ]
  },
  {
   "cell_type": "markdown",
   "id": "95651111",
   "metadata": {},
   "source": [
    "### Time-Series* Approach"
   ]
  },
  {
   "cell_type": "code",
   "execution_count": 10,
   "id": "dcf4c483",
   "metadata": {
    "ExecuteTime": {
     "end_time": "2022-07-14T18:08:32.832668Z",
     "start_time": "2022-07-14T18:08:32.821668Z"
    }
   },
   "outputs": [],
   "source": [
    "batpos_time = batpos.copy()"
   ]
  },
  {
   "cell_type": "code",
   "execution_count": 11,
   "id": "405a184c",
   "metadata": {
    "ExecuteTime": {
     "end_time": "2022-07-14T18:08:32.863666Z",
     "start_time": "2022-07-14T18:08:32.835667Z"
    }
   },
   "outputs": [],
   "source": [
    "batpos_time.set_index(['player_id','year_id'],\n",
    "                      inplace=True)"
   ]
  },
  {
   "cell_type": "code",
   "execution_count": 12,
   "id": "8cf884a0",
   "metadata": {
    "ExecuteTime": {
     "end_time": "2022-07-14T18:08:32.895709Z",
     "start_time": "2022-07-14T18:08:32.866668Z"
    }
   },
   "outputs": [],
   "source": [
    "# create a df of a single player only\n",
    "aaron = batpos_time[batpos_time.name_common == 'Henry Aaron']\n",
    "\n",
    "# reset index to just 'year id'\n",
    "aaron.reset_index(inplace=True)\n",
    "aaron.set_index('year_id',inplace=True)\n",
    "\n",
    "# remove string vals\n",
    "aaron = aaron.drop(['player_id','name_common'], axis=1)"
   ]
  },
  {
   "cell_type": "code",
   "execution_count": 13,
   "id": "ee6a441f",
   "metadata": {
    "ExecuteTime": {
     "end_time": "2022-07-14T18:08:32.927667Z",
     "start_time": "2022-07-14T18:08:32.900703Z"
    }
   },
   "outputs": [],
   "source": [
    "# date format index\n",
    "aaron.index = pd.to_datetime(aaron.index, format = '%Y' )"
   ]
  },
  {
   "cell_type": "code",
   "execution_count": 14,
   "id": "8513d6d1",
   "metadata": {
    "ExecuteTime": {
     "end_time": "2022-07-14T18:08:32.959667Z",
     "start_time": "2022-07-14T18:08:32.931666Z"
    }
   },
   "outputs": [],
   "source": [
    "# create shift fir waa_pg\n",
    "for i in range(1,4):\n",
    "    aaron['waa_pg_lag_'+str(i)] = aaron.waa_pg.shift(i)"
   ]
  },
  {
   "cell_type": "code",
   "execution_count": 15,
   "id": "be847369",
   "metadata": {
    "ExecuteTime": {
     "end_time": "2022-07-14T18:08:32.975731Z",
     "start_time": "2022-07-14T18:08:32.962667Z"
    }
   },
   "outputs": [],
   "source": [
    "# # drop rows that don't have appropriate lookback data\n",
    "# aaron.dropna(inplace=True)"
   ]
  },
  {
   "cell_type": "code",
   "execution_count": 16,
   "id": "5bf6c3d0",
   "metadata": {
    "ExecuteTime": {
     "end_time": "2022-07-14T18:08:34.281828Z",
     "start_time": "2022-07-14T18:08:32.978667Z"
    }
   },
   "outputs": [],
   "source": [
    "from statsmodels.tsa.seasonal import seasonal_decompose\n",
    "from statsmodels.graphics.tsaplots import plot_acf, plot_pacf"
   ]
  },
  {
   "cell_type": "code",
   "execution_count": 17,
   "id": "21c8828f",
   "metadata": {
    "ExecuteTime": {
     "end_time": "2022-07-14T18:08:34.329754Z",
     "start_time": "2022-07-14T18:08:34.284745Z"
    }
   },
   "outputs": [],
   "source": [
    "decomp = seasonal_decompose(aaron['waa_pg'],)"
   ]
  },
  {
   "cell_type": "code",
   "execution_count": 18,
   "id": "77d48c1b",
   "metadata": {
    "ExecuteTime": {
     "end_time": "2022-07-14T18:08:35.621973Z",
     "start_time": "2022-07-14T18:08:34.334743Z"
    }
   },
   "outputs": [
    {
     "data": {
      "image/png": "[encoded data removed]",
      "text/plain": [
       "<Figure size 720x360 with 4 Axes>"
      ]
     },
     "metadata": {
      "needs_background": "light"
     },
     "output_type": "display_data"
    }
   ],
   "source": [
    "decomp.plot()\n",
    "fig = plt.gcf()\n",
    "fig.set_size_inches(10,5);"
   ]
  },
  {
   "cell_type": "code",
   "execution_count": 19,
   "id": "150b7d98",
   "metadata": {
    "ExecuteTime": {
     "end_time": "2022-07-14T18:08:35.859988Z",
     "start_time": "2022-07-14T18:08:35.624974Z"
    }
   },
   "outputs": [
    {
     "data": {
      "image/png": "[encoded data removed]",
      "text/plain": [
       "<Figure size 432x288 with 1 Axes>"
      ]
     },
     "metadata": {
      "needs_background": "light"
     },
     "output_type": "display_data"
    }
   ],
   "source": [
    "plot_acf(aaron['waa_pg'], lags =5);"
   ]
  },
  {
   "cell_type": "code",
   "execution_count": 20,
   "id": "58b15ae2",
   "metadata": {
    "ExecuteTime": {
     "end_time": "2022-07-14T18:08:36.082972Z",
     "start_time": "2022-07-14T18:08:35.862973Z"
    },
    "scrolled": true
   },
   "outputs": [
    {
     "name": "stderr",
     "output_type": "stream",
     "text": [
      "C:\\Users\\Larry\\anaconda3\\lib\\site-packages\\statsmodels\\graphics\\tsaplots.py:348: FutureWarning: The default method 'yw' can produce PACF values outside of the [-1,1] interval. After 0.13, the default will change tounadjusted Yule-Walker ('ywm'). You can use this method now by setting method='ywm'.\n",
      "  warnings.warn(\n"
     ]
    },
    {
     "data": {
      "image/png": "[encoded data removed]",
      "text/plain": [
       "<Figure size 432x288 with 1 Axes>"
      ]
     },
     "metadata": {
      "needs_background": "light"
     },
     "output_type": "display_data"
    }
   ],
   "source": [
    "plot_pacf(aaron['waa_pg'], lags =4);"
   ]
  },
  {
   "cell_type": "markdown",
   "id": "6ee55be5",
   "metadata": {},
   "source": [
    "### NN approach (5-year)"
   ]
  },
  {
   "cell_type": "code",
   "execution_count": 24,
   "id": "df051786",
   "metadata": {
    "ExecuteTime": {
     "end_time": "2022-07-14T18:09:11.498937Z",
     "start_time": "2022-07-14T18:09:11.486971Z"
    }
   },
   "outputs": [],
   "source": [
    "batpos_nn = batpos.copy()"
   ]
  },
  {
   "cell_type": "code",
   "execution_count": 25,
   "id": "a52c9ca6",
   "metadata": {
    "ExecuteTime": {
     "end_time": "2022-07-14T18:09:35.455673Z",
     "start_time": "2022-07-14T18:09:11.663986Z"
    }
   },
   "outputs": [],
   "source": [
    "# create lookbacks for everything except our player vars, and age\n",
    "cols = ['waa_pg','g', 'team_gp',\n",
    "       'pa_pg', 'inn_pg', 'runs_bat_pg', 'runs_br_pg', 'runs_dp_pg',\n",
    "       'runs_defense_pg', 'runs_position_pg',  'opprpg',\n",
    "        'percent_team_gp', 'pa_per_team_gp',\n",
    "       'inn_per_team_gp', 'g_c_share', 'g_1b_share', 'g_2b_share',\n",
    "       'g_3b_share', 'g_ss_share', 'g_cf_share', 'g_dh_share', 'g_cof_share']\n",
    "\n",
    "for c in cols:\n",
    "    for i in range(1,6):\n",
    "        batpos_nn[c+'_'+str(i)+'yr'] =\\\n",
    "        pd.DataFrame(\n",
    "                [batpos_nn.groupby('player_id')[c].shift(i)]).T\n",
    "    \n",
    "    if c != 'waa_pg':\n",
    "        batpos_nn.drop(c, axis=1, inplace=True)"
   ]
  },
  {
   "cell_type": "code",
   "execution_count": 26,
   "id": "a1da2faf",
   "metadata": {
    "ExecuteTime": {
     "end_time": "2022-07-14T18:09:37.147055Z",
     "start_time": "2022-07-14T18:09:37.094031Z"
    }
   },
   "outputs": [],
   "source": [
    "# using the df from our 5-year lookback, merge with batpos to mask it\n",
    "\n",
    "batpos_nn = pd.merge(lb3[1][['player_id','year_id']], batpos_nn,\n",
    "                 on = ['player_id', 'year_id'])\n",
    "\n",
    "# reorder\n",
    "batpos_nn = batpos_nn.iloc[:,[2]]\\\n",
    "                    .join(batpos_nn.iloc[:,0:2])\\\n",
    "                    .join(batpos_nn.iloc[:,3:])"
   ]
  },
  {
   "cell_type": "code",
   "execution_count": 27,
   "id": "92847ab5",
   "metadata": {
    "ExecuteTime": {
     "end_time": "2022-07-14T18:09:37.434189Z",
     "start_time": "2022-07-14T18:09:37.406189Z"
    }
   },
   "outputs": [],
   "source": [
    "batpos_nn.dropna(inplace=True)"
   ]
  },
  {
   "cell_type": "code",
   "execution_count": 28,
   "id": "23d05ea8",
   "metadata": {
    "ExecuteTime": {
     "end_time": "2022-07-14T18:09:37.656949Z",
     "start_time": "2022-07-14T18:09:37.605951Z"
    }
   },
   "outputs": [
    {
     "data": {
      "text/html": [
       "<div>\n",
       "<style scoped>\n",
       "    .dataframe tbody tr th:only-of-type {\n",
       "        vertical-align: middle;\n",
       "    }\n",
       "\n",
       "    .dataframe tbody tr th {\n",
       "        vertical-align: top;\n",
       "    }\n",
       "\n",
       "    .dataframe thead th {\n",
       "        text-align: right;\n",
       "    }\n",
       "</style>\n",
       "<table border=\"1\" class=\"dataframe\">\n",
       "  <thead>\n",
       "    <tr style=\"text-align: right;\">\n",
       "      <th></th>\n",
       "      <th>waa_pg</th>\n",
       "      <th>player_id</th>\n",
       "      <th>year_id</th>\n",
       "      <th>name_common</th>\n",
       "      <th>age</th>\n",
       "      <th>waa_pg_1yr</th>\n",
       "      <th>waa_pg_2yr</th>\n",
       "      <th>waa_pg_3yr</th>\n",
       "      <th>waa_pg_4yr</th>\n",
       "      <th>waa_pg_5yr</th>\n",
       "      <th>...</th>\n",
       "      <th>g_dh_share_1yr</th>\n",
       "      <th>g_dh_share_2yr</th>\n",
       "      <th>g_dh_share_3yr</th>\n",
       "      <th>g_dh_share_4yr</th>\n",
       "      <th>g_dh_share_5yr</th>\n",
       "      <th>g_cof_share_1yr</th>\n",
       "      <th>g_cof_share_2yr</th>\n",
       "      <th>g_cof_share_3yr</th>\n",
       "      <th>g_cof_share_4yr</th>\n",
       "      <th>g_cof_share_5yr</th>\n",
       "    </tr>\n",
       "  </thead>\n",
       "  <tbody>\n",
       "    <tr>\n",
       "      <th>2</th>\n",
       "      <td>0.039613</td>\n",
       "      <td>aaronha01</td>\n",
       "      <td>1967</td>\n",
       "      <td>Henry Aaron</td>\n",
       "      <td>33.0</td>\n",
       "      <td>0.034367</td>\n",
       "      <td>0.036000</td>\n",
       "      <td>0.030621</td>\n",
       "      <td>0.039876</td>\n",
       "      <td>0.038526</td>\n",
       "      <td>...</td>\n",
       "      <td>0.000000</td>\n",
       "      <td>0.000000</td>\n",
       "      <td>0.000000</td>\n",
       "      <td>0.000000</td>\n",
       "      <td>0.000000</td>\n",
       "      <td>0.957576</td>\n",
       "      <td>1.000000</td>\n",
       "      <td>0.926667</td>\n",
       "      <td>1.000000</td>\n",
       "      <td>0.458065</td>\n",
       "    </tr>\n",
       "    <tr>\n",
       "      <th>3</th>\n",
       "      <td>0.027437</td>\n",
       "      <td>aaronha01</td>\n",
       "      <td>1968</td>\n",
       "      <td>Henry Aaron</td>\n",
       "      <td>34.0</td>\n",
       "      <td>0.039613</td>\n",
       "      <td>0.034367</td>\n",
       "      <td>0.036000</td>\n",
       "      <td>0.030621</td>\n",
       "      <td>0.039876</td>\n",
       "      <td>...</td>\n",
       "      <td>0.000000</td>\n",
       "      <td>0.000000</td>\n",
       "      <td>0.000000</td>\n",
       "      <td>0.000000</td>\n",
       "      <td>0.000000</td>\n",
       "      <td>0.922078</td>\n",
       "      <td>0.957576</td>\n",
       "      <td>1.000000</td>\n",
       "      <td>0.926667</td>\n",
       "      <td>1.000000</td>\n",
       "    </tr>\n",
       "    <tr>\n",
       "      <th>4</th>\n",
       "      <td>0.040136</td>\n",
       "      <td>aaronha01</td>\n",
       "      <td>1969</td>\n",
       "      <td>Henry Aaron</td>\n",
       "      <td>35.0</td>\n",
       "      <td>0.027437</td>\n",
       "      <td>0.039613</td>\n",
       "      <td>0.034367</td>\n",
       "      <td>0.036000</td>\n",
       "      <td>0.030621</td>\n",
       "      <td>...</td>\n",
       "      <td>0.000000</td>\n",
       "      <td>0.000000</td>\n",
       "      <td>0.000000</td>\n",
       "      <td>0.000000</td>\n",
       "      <td>0.000000</td>\n",
       "      <td>0.915152</td>\n",
       "      <td>0.922078</td>\n",
       "      <td>0.957576</td>\n",
       "      <td>1.000000</td>\n",
       "      <td>0.926667</td>\n",
       "    </tr>\n",
       "    <tr>\n",
       "      <th>5</th>\n",
       "      <td>0.019933</td>\n",
       "      <td>aaronha01</td>\n",
       "      <td>1970</td>\n",
       "      <td>Henry Aaron</td>\n",
       "      <td>36.0</td>\n",
       "      <td>0.040136</td>\n",
       "      <td>0.027437</td>\n",
       "      <td>0.039613</td>\n",
       "      <td>0.034367</td>\n",
       "      <td>0.036000</td>\n",
       "      <td>...</td>\n",
       "      <td>0.000000</td>\n",
       "      <td>0.000000</td>\n",
       "      <td>0.000000</td>\n",
       "      <td>0.000000</td>\n",
       "      <td>0.000000</td>\n",
       "      <td>0.972973</td>\n",
       "      <td>0.915152</td>\n",
       "      <td>0.922078</td>\n",
       "      <td>0.957576</td>\n",
       "      <td>1.000000</td>\n",
       "    </tr>\n",
       "    <tr>\n",
       "      <th>6</th>\n",
       "      <td>0.037698</td>\n",
       "      <td>aaronha01</td>\n",
       "      <td>1971</td>\n",
       "      <td>Henry Aaron</td>\n",
       "      <td>37.0</td>\n",
       "      <td>0.019933</td>\n",
       "      <td>0.040136</td>\n",
       "      <td>0.027437</td>\n",
       "      <td>0.039613</td>\n",
       "      <td>0.034367</td>\n",
       "      <td>...</td>\n",
       "      <td>0.000000</td>\n",
       "      <td>0.000000</td>\n",
       "      <td>0.000000</td>\n",
       "      <td>0.000000</td>\n",
       "      <td>0.000000</td>\n",
       "      <td>0.919118</td>\n",
       "      <td>0.972973</td>\n",
       "      <td>0.915152</td>\n",
       "      <td>0.922078</td>\n",
       "      <td>0.957576</td>\n",
       "    </tr>\n",
       "    <tr>\n",
       "      <th>...</th>\n",
       "      <td>...</td>\n",
       "      <td>...</td>\n",
       "      <td>...</td>\n",
       "      <td>...</td>\n",
       "      <td>...</td>\n",
       "      <td>...</td>\n",
       "      <td>...</td>\n",
       "      <td>...</td>\n",
       "      <td>...</td>\n",
       "      <td>...</td>\n",
       "      <td>...</td>\n",
       "      <td>...</td>\n",
       "      <td>...</td>\n",
       "      <td>...</td>\n",
       "      <td>...</td>\n",
       "      <td>...</td>\n",
       "      <td>...</td>\n",
       "      <td>...</td>\n",
       "      <td>...</td>\n",
       "      <td>...</td>\n",
       "      <td>...</td>\n",
       "    </tr>\n",
       "    <tr>\n",
       "      <th>5689</th>\n",
       "      <td>0.015137</td>\n",
       "      <td>zobribe01</td>\n",
       "      <td>2014</td>\n",
       "      <td>Ben Zobrist</td>\n",
       "      <td>33.0</td>\n",
       "      <td>0.018471</td>\n",
       "      <td>0.021274</td>\n",
       "      <td>0.033654</td>\n",
       "      <td>0.014901</td>\n",
       "      <td>0.042697</td>\n",
       "      <td>...</td>\n",
       "      <td>0.010417</td>\n",
       "      <td>0.022222</td>\n",
       "      <td>0.017442</td>\n",
       "      <td>0.000000</td>\n",
       "      <td>0.005435</td>\n",
       "      <td>0.223958</td>\n",
       "      <td>0.394444</td>\n",
       "      <td>0.220930</td>\n",
       "      <td>0.550265</td>\n",
       "      <td>0.369565</td>\n",
       "    </tr>\n",
       "    <tr>\n",
       "      <th>5690</th>\n",
       "      <td>0.004762</td>\n",
       "      <td>zobribe01</td>\n",
       "      <td>2015</td>\n",
       "      <td>Ben Zobrist</td>\n",
       "      <td>34.0</td>\n",
       "      <td>0.015137</td>\n",
       "      <td>0.018471</td>\n",
       "      <td>0.021274</td>\n",
       "      <td>0.033654</td>\n",
       "      <td>0.014901</td>\n",
       "      <td>...</td>\n",
       "      <td>0.043956</td>\n",
       "      <td>0.010417</td>\n",
       "      <td>0.022222</td>\n",
       "      <td>0.017442</td>\n",
       "      <td>0.000000</td>\n",
       "      <td>0.313187</td>\n",
       "      <td>0.223958</td>\n",
       "      <td>0.394444</td>\n",
       "      <td>0.220930</td>\n",
       "      <td>0.550265</td>\n",
       "    </tr>\n",
       "    <tr>\n",
       "      <th>5691</th>\n",
       "      <td>0.009932</td>\n",
       "      <td>zobribe01</td>\n",
       "      <td>2016</td>\n",
       "      <td>Ben Zobrist</td>\n",
       "      <td>35.0</td>\n",
       "      <td>0.004762</td>\n",
       "      <td>0.015137</td>\n",
       "      <td>0.018471</td>\n",
       "      <td>0.021274</td>\n",
       "      <td>0.033654</td>\n",
       "      <td>...</td>\n",
       "      <td>0.046512</td>\n",
       "      <td>0.043956</td>\n",
       "      <td>0.010417</td>\n",
       "      <td>0.022222</td>\n",
       "      <td>0.017442</td>\n",
       "      <td>0.387597</td>\n",
       "      <td>0.313187</td>\n",
       "      <td>0.223958</td>\n",
       "      <td>0.394444</td>\n",
       "      <td>0.220930</td>\n",
       "    </tr>\n",
       "    <tr>\n",
       "      <th>5692</th>\n",
       "      <td>-0.011406</td>\n",
       "      <td>zobribe01</td>\n",
       "      <td>2017</td>\n",
       "      <td>Ben Zobrist</td>\n",
       "      <td>36.0</td>\n",
       "      <td>0.009932</td>\n",
       "      <td>0.004762</td>\n",
       "      <td>0.015137</td>\n",
       "      <td>0.018471</td>\n",
       "      <td>0.021274</td>\n",
       "      <td>...</td>\n",
       "      <td>0.000000</td>\n",
       "      <td>0.046512</td>\n",
       "      <td>0.043956</td>\n",
       "      <td>0.010417</td>\n",
       "      <td>0.022222</td>\n",
       "      <td>0.296512</td>\n",
       "      <td>0.387597</td>\n",
       "      <td>0.313187</td>\n",
       "      <td>0.223958</td>\n",
       "      <td>0.394444</td>\n",
       "    </tr>\n",
       "    <tr>\n",
       "      <th>5693</th>\n",
       "      <td>0.013381</td>\n",
       "      <td>zobribe01</td>\n",
       "      <td>2018</td>\n",
       "      <td>Ben Zobrist</td>\n",
       "      <td>37.0</td>\n",
       "      <td>-0.011406</td>\n",
       "      <td>0.009932</td>\n",
       "      <td>0.004762</td>\n",
       "      <td>0.015137</td>\n",
       "      <td>0.018471</td>\n",
       "      <td>...</td>\n",
       "      <td>0.000000</td>\n",
       "      <td>0.000000</td>\n",
       "      <td>0.046512</td>\n",
       "      <td>0.043956</td>\n",
       "      <td>0.010417</td>\n",
       "      <td>0.427673</td>\n",
       "      <td>0.296512</td>\n",
       "      <td>0.387597</td>\n",
       "      <td>0.313187</td>\n",
       "      <td>0.223958</td>\n",
       "    </tr>\n",
       "  </tbody>\n",
       "</table>\n",
       "<p>3795 rows × 115 columns</p>\n",
       "</div>"
      ],
      "text/plain": [
       "        waa_pg  player_id  year_id  name_common   age  waa_pg_1yr  waa_pg_2yr  \\\n",
       "2     0.039613  aaronha01     1967  Henry Aaron  33.0    0.034367    0.036000   \n",
       "3     0.027437  aaronha01     1968  Henry Aaron  34.0    0.039613    0.034367   \n",
       "4     0.040136  aaronha01     1969  Henry Aaron  35.0    0.027437    0.039613   \n",
       "5     0.019933  aaronha01     1970  Henry Aaron  36.0    0.040136    0.027437   \n",
       "6     0.037698  aaronha01     1971  Henry Aaron  37.0    0.019933    0.040136   \n",
       "...        ...        ...      ...          ...   ...         ...         ...   \n",
       "5689  0.015137  zobribe01     2014  Ben Zobrist  33.0    0.018471    0.021274   \n",
       "5690  0.004762  zobribe01     2015  Ben Zobrist  34.0    0.015137    0.018471   \n",
       "5691  0.009932  zobribe01     2016  Ben Zobrist  35.0    0.004762    0.015137   \n",
       "5692 -0.011406  zobribe01     2017  Ben Zobrist  36.0    0.009932    0.004762   \n",
       "5693  0.013381  zobribe01     2018  Ben Zobrist  37.0   -0.011406    0.009932   \n",
       "\n",
       "      waa_pg_3yr  waa_pg_4yr  waa_pg_5yr  ...  g_dh_share_1yr  g_dh_share_2yr  \\\n",
       "2       0.030621    0.039876    0.038526  ...        0.000000        0.000000   \n",
       "3       0.036000    0.030621    0.039876  ...        0.000000        0.000000   \n",
       "4       0.034367    0.036000    0.030621  ...        0.000000        0.000000   \n",
       "5       0.039613    0.034367    0.036000  ...        0.000000        0.000000   \n",
       "6       0.027437    0.039613    0.034367  ...        0.000000        0.000000   \n",
       "...          ...         ...         ...  ...             ...             ...   \n",
       "5689    0.033654    0.014901    0.042697  ...        0.010417        0.022222   \n",
       "5690    0.021274    0.033654    0.014901  ...        0.043956        0.010417   \n",
       "5691    0.018471    0.021274    0.033654  ...        0.046512        0.043956   \n",
       "5692    0.015137    0.018471    0.021274  ...        0.000000        0.046512   \n",
       "5693    0.004762    0.015137    0.018471  ...        0.000000        0.000000   \n",
       "\n",
       "      g_dh_share_3yr  g_dh_share_4yr  g_dh_share_5yr  g_cof_share_1yr  \\\n",
       "2           0.000000        0.000000        0.000000         0.957576   \n",
       "3           0.000000        0.000000        0.000000         0.922078   \n",
       "4           0.000000        0.000000        0.000000         0.915152   \n",
       "5           0.000000        0.000000        0.000000         0.972973   \n",
       "6           0.000000        0.000000        0.000000         0.919118   \n",
       "...              ...             ...             ...              ...   \n",
       "5689        0.017442        0.000000        0.005435         0.223958   \n",
       "5690        0.022222        0.017442        0.000000         0.313187   \n",
       "5691        0.010417        0.022222        0.017442         0.387597   \n",
       "5692        0.043956        0.010417        0.022222         0.296512   \n",
       "5693        0.046512        0.043956        0.010417         0.427673   \n",
       "\n",
       "      g_cof_share_2yr  g_cof_share_3yr  g_cof_share_4yr  g_cof_share_5yr  \n",
       "2            1.000000         0.926667         1.000000         0.458065  \n",
       "3            0.957576         1.000000         0.926667         1.000000  \n",
       "4            0.922078         0.957576         1.000000         0.926667  \n",
       "5            0.915152         0.922078         0.957576         1.000000  \n",
       "6            0.972973         0.915152         0.922078         0.957576  \n",
       "...               ...              ...              ...              ...  \n",
       "5689         0.394444         0.220930         0.550265         0.369565  \n",
       "5690         0.223958         0.394444         0.220930         0.550265  \n",
       "5691         0.313187         0.223958         0.394444         0.220930  \n",
       "5692         0.387597         0.313187         0.223958         0.394444  \n",
       "5693         0.296512         0.387597         0.313187         0.223958  \n",
       "\n",
       "[3795 rows x 115 columns]"
      ]
     },
     "execution_count": 28,
     "metadata": {},
     "output_type": "execute_result"
    }
   ],
   "source": [
    "batpos_nn"
   ]
  },
  {
   "cell_type": "markdown",
   "id": "19ab9d9f",
   "metadata": {},
   "source": [
    "# Exports"
   ]
  },
  {
   "cell_type": "code",
   "execution_count": 29,
   "id": "6b85a694",
   "metadata": {
    "ExecuteTime": {
     "end_time": "2022-07-14T18:09:42.206724Z",
     "start_time": "2022-07-14T18:09:40.159733Z"
    }
   },
   "outputs": [],
   "source": [
    "batpos_ex.to_csv('../data/batpos_feature_extracted.csv',index=False)\n",
    "batpos_nn.to_csv('../data/batpos_nn.csv', index=False)"
   ]
  }
 ],
 "metadata": {
  "kernelspec": {
   "display_name": "Python 3 (ipykernel)",
   "language": "python",
   "name": "python3"
  },
  "language_info": {
   "codemirror_mode": {
    "name": "ipython",
    "version": 3
   },
   "file_extension": ".py",
   "mimetype": "text/x-python",
   "name": "python",
   "nbconvert_exporter": "python",
   "pygments_lexer": "ipython3",
   "version": "3.9.12"
  },
  "toc": {
   "base_numbering": 1,
   "nav_menu": {},
   "number_sections": true,
   "sideBar": true,
   "skip_h1_title": false,
   "title_cell": "Table of Contents",
   "title_sidebar": "Contents",
   "toc_cell": false,
   "toc_position": {
    "height": "calc(100% - 180px)",
    "left": "10px",
    "top": "150px",
    "width": "384px"
   },
   "toc_section_display": true,
   "toc_window_display": true
  }
 },
 "nbformat": 4,
 "nbformat_minor": 5
}
