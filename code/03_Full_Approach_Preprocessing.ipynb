{
 "cells": [
  {
   "cell_type": "markdown",
   "id": "474a5308",
   "metadata": {},
   "source": [
    "# Imports"
   ]
  },
  {
   "cell_type": "code",
   "execution_count": 1,
   "id": "013dfaba",
   "metadata": {
    "ExecuteTime": {
     "end_time": "2022-07-17T19:00:23.207206Z",
     "start_time": "2022-07-17T19:00:20.293229Z"
    }
   },
   "outputs": [],
   "source": [
    "import pandas as pd\n",
    "import numpy as np\n",
    "np.random.seed(2121)\n",
    "\n",
    "import matplotlib.pyplot as plt\n",
    "\n",
    "from sklearn.model_selection import train_test_split\n",
    "from sklearn.preprocessing import StandardScaler\n",
    "from sklearn.feature_selection import RFECV\n",
    "from sklearn.linear_model import BayesianRidge\n",
    "from sklearn.decomposition import PCA"
   ]
  },
  {
   "cell_type": "code",
   "execution_count": 2,
   "id": "040658af",
   "metadata": {
    "ExecuteTime": {
     "end_time": "2022-07-17T19:00:23.332391Z",
     "start_time": "2022-07-17T19:00:23.207206Z"
    }
   },
   "outputs": [],
   "source": [
    "batpos = pd.read_csv('../data/batpos_full_feature_extracted.csv')\n"
   ]
  },
  {
   "cell_type": "code",
   "execution_count": 3,
   "id": "6c68ad24",
   "metadata": {
    "ExecuteTime": {
     "end_time": "2022-07-17T19:00:23.348369Z",
     "start_time": "2022-07-17T19:00:23.334368Z"
    }
   },
   "outputs": [],
   "source": [
    "# no longer need our player identifiers\n",
    "batpos.drop(['name_common', 'player_id']\n",
    "            , axis=1, inplace=True)"
   ]
  },
  {
   "cell_type": "markdown",
   "id": "a26f005d",
   "metadata": {},
   "source": [
    "# Train-Test Split"
   ]
  },
  {
   "cell_type": "markdown",
   "id": "fe460960",
   "metadata": {},
   "source": [
    "As always, train-test split our data"
   ]
  },
  {
   "cell_type": "code",
   "execution_count": 4,
   "id": "9c400541",
   "metadata": {
    "ExecuteTime": {
     "end_time": "2022-07-17T19:00:23.380424Z",
     "start_time": "2022-07-17T19:00:23.352369Z"
    }
   },
   "outputs": [],
   "source": [
    "target = 'waa_pg'\n",
    "\n",
    "y = batpos[target]\n",
    "X = batpos[[col for col in batpos.columns if col != target]]\n",
    "\n",
    "X_train, X_test, y_train, y_test =\\\n",
    "    train_test_split(X, y,\n",
    "                     test_size=0.2,\n",
    "                     shuffle=True,\n",
    "                     random_state = 1212)"
   ]
  },
  {
   "cell_type": "markdown",
   "id": "f10d5294",
   "metadata": {},
   "source": [
    "After splitting, store X_test before standard scaling, etc. for baseline calculations in the modeling workbook."
   ]
  },
  {
   "cell_type": "code",
   "execution_count": 5,
   "id": "2ecdf348",
   "metadata": {
    "ExecuteTime": {
     "end_time": "2022-07-17T19:00:23.476503Z",
     "start_time": "2022-07-17T19:00:23.382436Z"
    }
   },
   "outputs": [],
   "source": [
    "X_test.to_csv('../data/X_test_full_for_baseline.csv')"
   ]
  },
  {
   "cell_type": "markdown",
   "id": "8bce97fd",
   "metadata": {},
   "source": [
    "# Standard Scale"
   ]
  },
  {
   "cell_type": "markdown",
   "id": "cd8d0b4b",
   "metadata": {},
   "source": [
    "Preprocess using standard scaling."
   ]
  },
  {
   "cell_type": "code",
   "execution_count": 6,
   "id": "7ce54b35",
   "metadata": {
    "ExecuteTime": {
     "end_time": "2022-07-17T19:00:23.508436Z",
     "start_time": "2022-07-17T19:00:23.478435Z"
    }
   },
   "outputs": [],
   "source": [
    "# initialize\n",
    "ss = StandardScaler()\n",
    "\n",
    "# fit on Train\n",
    "X_train_ss = pd.DataFrame(ss.fit_transform(X_train),\n",
    "                          columns = X_train.columns,\n",
    "                          index = X_train.index)\n",
    "\n",
    "# transform test\n",
    "X_test_ss = pd.DataFrame(ss.transform(X_test),\n",
    "                         columns = X_test.columns,\n",
    "                         index = X_test.index)"
   ]
  },
  {
   "cell_type": "markdown",
   "id": "77940c9c",
   "metadata": {},
   "source": [
    "# RFE"
   ]
  },
  {
   "cell_type": "markdown",
   "id": "c415fd0b",
   "metadata": {},
   "source": [
    "Right now we have 71 features in our dataset. Let's get that decreased to at least the best 20 using RFE."
   ]
  },
  {
   "cell_type": "code",
   "execution_count": 7,
   "id": "9abf88e7",
   "metadata": {
    "ExecuteTime": {
     "end_time": "2022-07-17T19:00:26.294362Z",
     "start_time": "2022-07-17T19:00:23.511433Z"
    }
   },
   "outputs": [
    {
     "name": "stdout",
     "output_type": "stream",
     "text": [
      "# of Columns Kept: 39\n",
      "# of Columns Dropped: 32\n"
     ]
    }
   ],
   "source": [
    "rfecv = RFECV(\n",
    "            estimator=BayesianRidge(),\n",
    "            step = 1,\n",
    "            cv = 5,\n",
    "            scoring='r2',\n",
    "            min_features_to_select=20)\n",
    "\n",
    "rfecv.fit(X_train_ss,y_train)\n",
    "\n",
    "cols_to_keep = X_train_ss.T[rfecv.ranking_==1].T.columns\n",
    "cols_to_pc = X_train_ss.T[rfecv.ranking_!=1].T.columns\n",
    "\n",
    "print(f'# of Columns Kept: {len(cols_to_keep)}')\n",
    "print(f'# of Columns Dropped: {len(cols_to_pc)}')"
   ]
  },
  {
   "cell_type": "markdown",
   "id": "c0078c1e",
   "metadata": {},
   "source": [
    "**Note** Normally SelectKBest() would be used to get the *best* 20 features, but I wanted the best 20 plus any other features that can improve it beyond that. The default estimator for SelectKBest() is BayesianRidge(), so that was used for RFE."
   ]
  },
  {
   "cell_type": "code",
   "execution_count": 8,
   "id": "af233c66",
   "metadata": {
    "ExecuteTime": {
     "end_time": "2022-07-17T19:00:26.564234Z",
     "start_time": "2022-07-17T19:00:26.294362Z"
    }
   },
   "outputs": [
    {
     "data": {
      "image/png": "[encoded data removed]",
      "text/plain": [
       "<Figure size 432x288 with 1 Axes>"
      ]
     },
     "metadata": {
      "needs_background": "light"
     },
     "output_type": "display_data"
    }
   ],
   "source": [
    "# https://scikit-learn.org/stable/auto_examples/feature_selection/plot_rfe_with_cross_validation.html#sphx-glr-auto-examples-feature-selection-plot-rfe-with-cross-validation-py\n",
    "# Plot number of features VS. cross-validation scores\n",
    "plt.figure()\n",
    "plt.xlabel(\"Number of features selected\")\n",
    "plt.ylabel(\"Cross validation score (accuracy)\")\n",
    "plt.plot(\n",
    "    range(20, len(rfecv.cv_results_['mean_test_score'])+20),\n",
    "    rfecv.cv_results_['mean_test_score']\n",
    ")\n",
    "plt.show()"
   ]
  },
  {
   "cell_type": "markdown",
   "id": "fe786404",
   "metadata": {},
   "source": [
    "**Observation** X=39 has the highest peak."
   ]
  },
  {
   "cell_type": "markdown",
   "id": "eac8c053",
   "metadata": {},
   "source": [
    "## Removed Features"
   ]
  },
  {
   "cell_type": "markdown",
   "id": "37e2eaf0",
   "metadata": {},
   "source": [
    "During cleaning and EDA, a lot of features were earmarked for expected dropping. Let's examine the features dropped through RFE."
   ]
  },
  {
   "cell_type": "code",
   "execution_count": 9,
   "id": "01189983",
   "metadata": {
    "ExecuteTime": {
     "end_time": "2022-07-17T19:00:26.579326Z",
     "start_time": "2022-07-17T19:00:26.566234Z"
    },
    "scrolled": false
   },
   "outputs": [
    {
     "name": "stdout",
     "output_type": "stream",
     "text": [
      "g_1b_share_1yr, g_1yr, g_2b_share_1yr, g_2b_share_2yr, g_2b_share_3yr\n",
      "g_3b_share_1yr, g_3b_share_2yr, g_3b_share_3yr, g_cf_share_2yr, g_dh_share_2yr\n",
      "g_of_1yr, g_of_2yr, g_of_3yr, g_ss_share_1yr, g_ss_share_2yr\n",
      "g_ss_share_3yr, inn_per_team_gp_3yr, inn_pg_3yr, opprpg_1yr, opprpg_3yr\n",
      "pa_per_team_gp_1yr, pa_per_team_gp_3yr, pa_pg_2yr, percent_team_gp_1yr, percent_team_gp_2yr\n",
      "percent_team_gp_3yr, runs_br_pg_2yr, runs_br_pg_3yr, runs_defense_pg_3yr, runs_dp_pg_1yr\n",
      "runs_position_pg_3yr, team_gp_2yr\n"
     ]
    }
   ],
   "source": [
    "for i in range(0,35,5):\n",
    "    print(', '.join(cols_to_pc.sort_values()[i:i+5]))"
   ]
  },
  {
   "cell_type": "markdown",
   "id": "6f9274fc",
   "metadata": {},
   "source": [
    "-  Expected `g_*yr` features to be dropped. Only `g_1yr` was dropped.\n",
    "-  Expected `team_gp_*yr` features to be dropped. Only `team_gp_2yr` was dropped.\n",
    "-  Expected `runs_position_pg_*yr` features to be dropped. Only `runs_position_pg_3yr` was dropped.\n",
    "-  Expected `opprpg_*yr` features to be dropped. Only `opprpg_2yr` **was not** dropped.\n",
    "-  Expected `percent_team_gp_*yr` features to be dropped. All were!\n",
    "-  Expected `inn_pg_*yr` features to be dropped. Only `inn_pg_3yr` was dropped.\n",
    "\n",
    "\n",
    "-  Expected *all* positional features to be dropped. All 2B, 3B, OF, and SS were dropped. Portions of 1B, CF, and DH were. Catcher was the highest positively correlated position to `waa_pg` so that makes some sense. CF only dropping one position was surprising.\n",
    "\n",
    "\n",
    "-  Surprisingly, `runs_defense_pg_3yr` was dropped. That was a feature I would've expected to stay given it's relationship with `waa_pg`."
   ]
  },
  {
   "cell_type": "markdown",
   "id": "3a86a6cb",
   "metadata": {},
   "source": [
    "# PCA"
   ]
  },
  {
   "cell_type": "markdown",
   "id": "98323332",
   "metadata": {},
   "source": [
    "32 features were dropped during RFE. Instead of losing the signal completely from those features, add some of it back using 5 PCA features!"
   ]
  },
  {
   "cell_type": "code",
   "execution_count": 10,
   "id": "405f6c02",
   "metadata": {
    "ExecuteTime": {
     "end_time": "2022-07-17T19:00:26.610235Z",
     "start_time": "2022-07-17T19:00:26.584233Z"
    }
   },
   "outputs": [
    {
     "name": "stdout",
     "output_type": "stream",
     "text": [
      "PC 0: 4.85 --> 15.16% --> 15.16%\n",
      "PC 1: 3.95 --> 12.35% --> 27.51%\n",
      "PC 2: 3.73 --> 11.64% --> 39.15%\n",
      "PC 3: 3.16 --> 9.88% --> 49.03%\n",
      "PC 4: 2.50 --> 7.81% --> 56.84%\n"
     ]
    }
   ],
   "source": [
    "pca = PCA().fit(X_train_ss[cols_to_pc])\n",
    "\n",
    "cum_var_exp = np.cumsum(pca.explained_variance_ratio_) * 100\n",
    "\n",
    "for i, l in enumerate(pca.explained_variance_[:5]):\n",
    "    print('PC {}: {:.2f} --> {:.2f}% --> {:.2f}%'.format(i, l,\n",
    "                                             l * 100 / sum(pca.explained_variance_),\n",
    "                                             cum_var_exp[i]))"
   ]
  },
  {
   "cell_type": "markdown",
   "id": "ee75c973",
   "metadata": {},
   "source": [
    "56.84% of the variance from the removed features can be explained in 5 PCA features!"
   ]
  },
  {
   "cell_type": "code",
   "execution_count": 11,
   "id": "bc9a76ac",
   "metadata": {
    "ExecuteTime": {
     "end_time": "2022-07-17T19:00:26.908871Z",
     "start_time": "2022-07-17T19:00:26.613232Z"
    }
   },
   "outputs": [
    {
     "data": {
      "image/png": "[encoded data removed]",
      "text/plain": [
       "<Figure size 648x504 with 1 Axes>"
      ]
     },
     "metadata": {
      "needs_background": "light"
     },
     "output_type": "display_data"
    }
   ],
   "source": [
    "plt.figure(figsize=(9,7))\n",
    "component_number = range(1, len(cols_to_pc)+1)\n",
    "plt.plot(component_number, cum_var_exp, lw=7)\n",
    "plt.axhline(y=0, linewidth=5, color='grey', ls='dashed')\n",
    "plt.axhline(y=100, linewidth=3, color='grey', ls='dashed')\n",
    "ax = plt.gca()\n",
    "ax.set_xlim([1,19])\n",
    "ax.set_ylim([-5,105])\n",
    "ax.set_ylabel('cumulative variance explained', fontsize=16)\n",
    "ax.set_xlabel('component #', fontsize=16)  \n",
    "ax.set_title('component vs cumulative variance explained\\n', fontsize=20)\n",
    "ax.axhline(y=np.cumsum(pca.explained_variance_ratio_)[4]*100, c='r', label='Intersection when x=5')\n",
    "ax.axvline(x=5,  c='r')\n",
    "ax.legend();"
   ]
  },
  {
   "cell_type": "code",
   "execution_count": 12,
   "id": "71962c9f",
   "metadata": {
    "ExecuteTime": {
     "end_time": "2022-07-17T19:00:26.940787Z",
     "start_time": "2022-07-17T19:00:26.911790Z"
    }
   },
   "outputs": [],
   "source": [
    "# create dataframes for first 5 pca features\n",
    "pca_df_train = pd.DataFrame(pca.transform(X_train_ss[cols_to_pc])[:,:5],\n",
    "                     columns = ['pc_' + str(i) for i in range(5)],\n",
    "                     index = X_train_ss.index)\n",
    "\n",
    "pca_df_test = pd.DataFrame(pca.transform(X_test_ss[cols_to_pc])[:,:5],\n",
    "                     columns = ['pc_' + str(i) for i in range(5)],\n",
    "                     index = X_test_ss.index)"
   ]
  },
  {
   "cell_type": "code",
   "execution_count": 13,
   "id": "4f03bdf7",
   "metadata": {
    "ExecuteTime": {
     "end_time": "2022-07-17T19:00:26.956788Z",
     "start_time": "2022-07-17T19:00:26.943789Z"
    }
   },
   "outputs": [],
   "source": [
    "# update train and test to include pca\n",
    "X_train_ss = pd.concat([X_train_ss[cols_to_keep], pca_df_train], axis=1)\n",
    "X_test_ss = pd.concat([X_test_ss[cols_to_keep], pca_df_test], axis=1)"
   ]
  },
  {
   "cell_type": "markdown",
   "id": "6b097065",
   "metadata": {},
   "source": [
    "# Export"
   ]
  },
  {
   "cell_type": "code",
   "execution_count": 14,
   "id": "d8e47108",
   "metadata": {
    "ExecuteTime": {
     "end_time": "2022-07-17T19:00:26.988786Z",
     "start_time": "2022-07-17T19:00:26.958788Z"
    }
   },
   "outputs": [],
   "source": [
    "# consolidate test and train files\n",
    "test = pd.merge(X_test_ss,y_test,left_index=True, right_index=True)\n",
    "train = pd.merge(X_train_ss,y_train,left_index=True, right_index=True)\n",
    "\n",
    "# add flag to train\n",
    "train['is_train'] = 1\n",
    "\n",
    "# concat train and test, fill is_train with 0 in test\n",
    "batpos_preprocessed = pd.concat([test,train]).fillna(0)"
   ]
  },
  {
   "cell_type": "code",
   "execution_count": 15,
   "id": "42c6d3ba",
   "metadata": {
    "ExecuteTime": {
     "end_time": "2022-07-17T19:00:27.400475Z",
     "start_time": "2022-07-17T19:00:26.991786Z"
    }
   },
   "outputs": [],
   "source": [
    "batpos_preprocessed.to_csv('../data/batpos_full_preprocessed.csv')"
   ]
  }
 ],
 "metadata": {
  "kernelspec": {
   "display_name": "Python 3 (ipykernel)",
   "language": "python",
   "name": "python3"
  },
  "language_info": {
   "codemirror_mode": {
    "name": "ipython",
    "version": 3
   },
   "file_extension": ".py",
   "mimetype": "text/x-python",
   "name": "python",
   "nbconvert_exporter": "python",
   "pygments_lexer": "ipython3",
   "version": "3.9.12"
  },
  "toc": {
   "base_numbering": 1,
   "nav_menu": {},
   "number_sections": false,
   "sideBar": true,
   "skip_h1_title": false,
   "title_cell": "Table of Contents",
   "title_sidebar": "Contents",
   "toc_cell": false,
   "toc_position": {},
   "toc_section_display": true,
   "toc_window_display": true
  }
 },
 "nbformat": 4,
 "nbformat_minor": 5
}
