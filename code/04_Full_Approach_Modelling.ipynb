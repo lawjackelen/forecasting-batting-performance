{
 "cells": [
  {
   "cell_type": "markdown",
   "id": "0e59ce52",
   "metadata": {},
   "source": [
    "# Imports"
   ]
  },
  {
   "cell_type": "code",
   "execution_count": 42,
   "id": "cb04d650",
   "metadata": {
    "ExecuteTime": {
     "end_time": "2022-07-17T19:46:27.236780Z",
     "start_time": "2022-07-17T19:46:27.216674Z"
    }
   },
   "outputs": [],
   "source": [
    "import numpy as np\n",
    "import pandas as pd\n",
    "np.random.seed(2121)\n",
    "\n",
    "from sklearn.model_selection import GridSearchCV, cross_val_score\n",
    "from sklearn.linear_model import LinearRegression, LassoCV, Lasso\n",
    "from sklearn.metrics import r2_score\n",
    "from sklearn.ensemble import RandomForestRegressor\n",
    "from sklearn.svm import SVR"
   ]
  },
  {
   "cell_type": "code",
   "execution_count": 21,
   "id": "c1f38dc8",
   "metadata": {
    "ExecuteTime": {
     "end_time": "2022-07-17T19:01:54.274763Z",
     "start_time": "2022-07-17T19:01:54.196231Z"
    }
   },
   "outputs": [],
   "source": [
    "batpos = pd.read_csv('../data/batpos_full_preprocessed.csv')\n",
    "baseline = pd.read_csv('../data/X_test_full_for_baseline.csv')"
   ]
  },
  {
   "cell_type": "code",
   "execution_count": 22,
   "id": "8aa2e336",
   "metadata": {
    "ExecuteTime": {
     "end_time": "2022-07-17T19:01:55.883632Z",
     "start_time": "2022-07-17T19:01:55.869632Z"
    }
   },
   "outputs": [],
   "source": [
    "# set our index\n",
    "for df in [batpos,baseline]:\n",
    "    df.set_index('Unnamed: 0', inplace=True)\n",
    "    df.index.name = None"
   ]
  },
  {
   "cell_type": "code",
   "execution_count": 23,
   "id": "ff57293b",
   "metadata": {
    "ExecuteTime": {
     "end_time": "2022-07-17T19:01:56.399592Z",
     "start_time": "2022-07-17T19:01:56.372711Z"
    }
   },
   "outputs": [],
   "source": [
    "# decompose into X and y, test and train\n",
    "target = 'waa_pg'\n",
    "\n",
    "y_train = batpos[batpos.is_train==1][target]\n",
    "X_train = batpos[batpos.is_train==1]\\\n",
    "            [[c for c in batpos.columns if c != target]]\n",
    "\n",
    "y_test = batpos[batpos.is_train==0][target]\n",
    "X_test = batpos[batpos.is_train==0]\\\n",
    "            [[c for c in batpos.columns if c != target]]"
   ]
  },
  {
   "cell_type": "markdown",
   "id": "01d35e7a",
   "metadata": {},
   "source": [
    "# Baseline"
   ]
  },
  {
   "cell_type": "markdown",
   "id": "4c78936c",
   "metadata": {},
   "source": [
    "Our baseline for modeling will be a more intuitive feeling one: the weighted average of the past three `waa_pg`. If asking how a player would perform, it would be reasonable to look closest at the last year, but also take the previous years into account with a marginal impact."
   ]
  },
  {
   "cell_type": "code",
   "execution_count": 24,
   "id": "cc5f1cb8",
   "metadata": {
    "ExecuteTime": {
     "end_time": "2022-07-17T19:02:01.368782Z",
     "start_time": "2022-07-17T19:02:01.357716Z"
    }
   },
   "outputs": [],
   "source": [
    "baseline = (baseline['waa_pg_1yr']*3 + baseline['waa_pg_2yr']*2\\\n",
    "                + baseline['waa_pg_3yr'])/6"
   ]
  },
  {
   "cell_type": "code",
   "execution_count": 26,
   "id": "802ec57f",
   "metadata": {
    "ExecuteTime": {
     "end_time": "2022-07-17T19:02:08.523139Z",
     "start_time": "2022-07-17T19:02:08.509140Z"
    }
   },
   "outputs": [
    {
     "data": {
      "text/plain": [
       "0.2958886964785129"
      ]
     },
     "execution_count": 26,
     "metadata": {},
     "output_type": "execute_result"
    }
   ],
   "source": [
    "# calculate baseline score\n",
    "r2_score(y_test, baseline)"
   ]
  },
  {
   "cell_type": "markdown",
   "id": "e9ff170b",
   "metadata": {},
   "source": [
    "**Note** Our baseline value is <span style='color:blue'><u>**29.59%**</u></span>"
   ]
  },
  {
   "cell_type": "markdown",
   "id": "b65f15b6",
   "metadata": {},
   "source": [
    "# Linear Regression"
   ]
  },
  {
   "cell_type": "markdown",
   "id": "28783491",
   "metadata": {},
   "source": [
    "Start with a simple Linear Regression with no normalization."
   ]
  },
  {
   "cell_type": "code",
   "execution_count": 27,
   "id": "c15b50ab",
   "metadata": {
    "ExecuteTime": {
     "end_time": "2022-07-17T19:26:59.826112Z",
     "start_time": "2022-07-17T19:26:59.767401Z"
    }
   },
   "outputs": [
    {
     "data": {
      "text/plain": [
       "0.39017970554780557"
      ]
     },
     "execution_count": 27,
     "metadata": {},
     "output_type": "execute_result"
    }
   ],
   "source": [
    "# initialize\n",
    "lr = LinearRegression()\n",
    "\n",
    "# fit\n",
    "lr.fit(X_train, y_train)\n",
    "\n",
    "# score\n",
    "lr.score(X_test,y_test)"
   ]
  },
  {
   "cell_type": "markdown",
   "id": "d2cd850e",
   "metadata": {},
   "source": [
    "## Lasso Regularization"
   ]
  },
  {
   "cell_type": "code",
   "execution_count": 32,
   "id": "6ca8b753",
   "metadata": {
    "ExecuteTime": {
     "end_time": "2022-07-17T19:43:18.250254Z",
     "start_time": "2022-07-17T19:43:16.640461Z"
    }
   },
   "outputs": [
    {
     "name": "stdout",
     "output_type": "stream",
     "text": [
      "Best Alpha: 0.0003\n",
      "CV Score: 0.3661\n"
     ]
    }
   ],
   "source": [
    "# initialize\n",
    "lasso_cv = LassoCV()\n",
    "\n",
    "# cv\n",
    "scores = cross_val_score(lasso_cv, X_train, y_train)\n",
    "\n",
    "# fit\n",
    "lasso_cv.fit(X_train, y_train)\n",
    "\n",
    "# best attributes\n",
    "print(f'Best Alpha: {lasso_cv.alpha_:.4f}')\n",
    "print(f'CV Score: {scores.mean():.4f}')"
   ]
  },
  {
   "cell_type": "code",
   "execution_count": 33,
   "id": "91140ead",
   "metadata": {
    "ExecuteTime": {
     "end_time": "2022-07-17T19:43:29.365985Z",
     "start_time": "2022-07-17T19:43:29.344911Z"
    }
   },
   "outputs": [
    {
     "data": {
      "text/plain": [
       "0.3935131050271592"
      ]
     },
     "execution_count": 33,
     "metadata": {},
     "output_type": "execute_result"
    }
   ],
   "source": [
    "# generate features to select\n",
    "lasso_cv.score(X_test,y_test)"
   ]
  },
  {
   "cell_type": "code",
   "execution_count": 38,
   "id": "12650431",
   "metadata": {
    "ExecuteTime": {
     "end_time": "2022-07-17T19:45:19.266666Z",
     "start_time": "2022-07-17T19:45:19.256597Z"
    }
   },
   "outputs": [],
   "source": [
    "lasso_cols = [col for col, coef in zip(X_train.columns, lasso_cv.coef_) if coef]"
   ]
  },
  {
   "cell_type": "code",
   "execution_count": 39,
   "id": "c683313f",
   "metadata": {
    "ExecuteTime": {
     "end_time": "2022-07-17T19:45:47.052949Z",
     "start_time": "2022-07-17T19:45:47.025950Z"
    }
   },
   "outputs": [
    {
     "data": {
      "text/plain": [
       "LinearRegression()"
      ]
     },
     "execution_count": 39,
     "metadata": {},
     "output_type": "execute_result"
    }
   ],
   "source": [
    "lr.fit(X_train[lasso_cols], y_train)"
   ]
  },
  {
   "cell_type": "code",
   "execution_count": 41,
   "id": "dd53b38a",
   "metadata": {
    "ExecuteTime": {
     "end_time": "2022-07-17T19:46:03.941159Z",
     "start_time": "2022-07-17T19:46:03.924159Z"
    }
   },
   "outputs": [
    {
     "data": {
      "text/plain": [
       "0.3914652994341199"
      ]
     },
     "execution_count": 41,
     "metadata": {},
     "output_type": "execute_result"
    }
   ],
   "source": [
    "lr.score(X_test[lasso_cols],y_test)"
   ]
  },
  {
   "cell_type": "code",
   "execution_count": 43,
   "id": "8f515d01",
   "metadata": {
    "ExecuteTime": {
     "end_time": "2022-07-17T19:46:41.553790Z",
     "start_time": "2022-07-17T19:46:41.543789Z"
    }
   },
   "outputs": [],
   "source": [
    "lasso = Lasso(alpha=lasso_cv.alpha_)"
   ]
  },
  {
   "cell_type": "code",
   "execution_count": 44,
   "id": "7d632962",
   "metadata": {
    "ExecuteTime": {
     "end_time": "2022-07-17T19:46:48.967698Z",
     "start_time": "2022-07-17T19:46:48.951697Z"
    }
   },
   "outputs": [
    {
     "data": {
      "text/plain": [
       "Lasso(alpha=0.00029650414105832014)"
      ]
     },
     "execution_count": 44,
     "metadata": {},
     "output_type": "execute_result"
    }
   ],
   "source": [
    "lasso.fit(X_train, y_train)"
   ]
  },
  {
   "cell_type": "code",
   "execution_count": 45,
   "id": "9f5a2e18",
   "metadata": {
    "ExecuteTime": {
     "end_time": "2022-07-17T19:46:56.574776Z",
     "start_time": "2022-07-17T19:46:56.552706Z"
    }
   },
   "outputs": [
    {
     "data": {
      "text/plain": [
       "0.3935131050271592"
      ]
     },
     "execution_count": 45,
     "metadata": {},
     "output_type": "execute_result"
    }
   ],
   "source": [
    "lasso.score(X_test, y_test)"
   ]
  },
  {
   "cell_type": "markdown",
   "id": "4d842d63",
   "metadata": {
    "ExecuteTime": {
     "end_time": "2022-07-09T18:56:18.207747Z",
     "start_time": "2022-07-09T18:56:18.194747Z"
    }
   },
   "source": [
    "# Random Forest"
   ]
  },
  {
   "cell_type": "code",
   "execution_count": 49,
   "id": "7882139f",
   "metadata": {
    "ExecuteTime": {
     "end_time": "2022-07-17T19:51:50.734615Z",
     "start_time": "2022-07-17T19:51:45.171535Z"
    }
   },
   "outputs": [
    {
     "data": {
      "text/plain": [
       "0.3517548672173675"
      ]
     },
     "execution_count": 49,
     "metadata": {},
     "output_type": "execute_result"
    }
   ],
   "source": [
    "# initialize\n",
    "rf = RandomForestRegressor()\n",
    "\n",
    "# fit\n",
    "rf.fit(X_train, y_train)\n",
    "\n",
    "# score\n",
    "rf.score(X_test,y_test)"
   ]
  },
  {
   "cell_type": "code",
   "execution_count": 51,
   "id": "9f63eb59",
   "metadata": {
    "ExecuteTime": {
     "end_time": "2022-07-17T19:54:24.983264Z",
     "start_time": "2022-07-17T19:54:24.961262Z"
    }
   },
   "outputs": [],
   "source": [
    "from sklearn.experimental import enable_halving_search_cv  # noqa\n",
    "from sklearn.model_selection import HalvingGridSearchCV"
   ]
  },
  {
   "cell_type": "code",
   "execution_count": 63,
   "id": "2271d9bd",
   "metadata": {
    "ExecuteTime": {
     "end_time": "2022-07-17T20:09:04.088463Z",
     "start_time": "2022-07-17T20:05:10.829510Z"
    },
    "collapsed": true
   },
   "outputs": [
    {
     "name": "stdout",
     "output_type": "stream",
     "text": [
      "n_iterations: 4\n",
      "n_required_iterations: 4\n",
      "n_possible_iterations: 5\n",
      "min_resources_: 50\n",
      "max_resources_: 1000\n",
      "aggressive_elimination: False\n",
      "factor: 2\n",
      "----------\n",
      "iter: 0\n",
      "n_candidates: 9\n",
      "n_resources: 50\n",
      "Fitting 5 folds for each of 9 candidates, totalling 45 fits\n",
      "[CV 1/5] END max_depth=3, min_samples_split=2, n_estimators=50;, score=(train=0.390, test=0.266) total time=   0.5s\n",
      "[CV 2/5] END max_depth=3, min_samples_split=2, n_estimators=50;, score=(train=0.369, test=0.356) total time=   0.5s\n",
      "[CV 3/5] END max_depth=3, min_samples_split=2, n_estimators=50;, score=(train=0.382, test=0.333) total time=   0.5s\n",
      "[CV 4/5] END max_depth=3, min_samples_split=2, n_estimators=50;, score=(train=0.377, test=0.348) total time=   0.5s\n",
      "[CV 5/5] END max_depth=3, min_samples_split=2, n_estimators=50;, score=(train=0.376, test=0.324) total time=   0.5s\n",
      "[CV 1/5] END max_depth=3, min_samples_split=5, n_estimators=50;, score=(train=0.390, test=0.266) total time=   0.5s\n",
      "[CV 2/5] END max_depth=3, min_samples_split=5, n_estimators=50;, score=(train=0.369, test=0.356) total time=   0.5s\n",
      "[CV 3/5] END max_depth=3, min_samples_split=5, n_estimators=50;, score=(train=0.382, test=0.333) total time=   0.5s\n",
      "[CV 4/5] END max_depth=3, min_samples_split=5, n_estimators=50;, score=(train=0.377, test=0.348) total time=   0.5s\n",
      "[CV 5/5] END max_depth=3, min_samples_split=5, n_estimators=50;, score=(train=0.376, test=0.324) total time=   0.5s\n",
      "[CV 1/5] END max_depth=3, min_samples_split=10, n_estimators=50;, score=(train=0.390, test=0.266) total time=   0.5s\n",
      "[CV 2/5] END max_depth=3, min_samples_split=10, n_estimators=50;, score=(train=0.369, test=0.356) total time=   0.5s\n",
      "[CV 3/5] END max_depth=3, min_samples_split=10, n_estimators=50;, score=(train=0.382, test=0.333) total time=   0.5s\n",
      "[CV 4/5] END max_depth=3, min_samples_split=10, n_estimators=50;, score=(train=0.377, test=0.348) total time=   0.5s\n",
      "[CV 5/5] END max_depth=3, min_samples_split=10, n_estimators=50;, score=(train=0.376, test=0.324) total time=   0.5s\n",
      "[CV 1/5] END max_depth=5, min_samples_split=2, n_estimators=50;, score=(train=0.498, test=0.263) total time=   0.8s\n",
      "[CV 2/5] END max_depth=5, min_samples_split=2, n_estimators=50;, score=(train=0.485, test=0.364) total time=   0.9s\n",
      "[CV 3/5] END max_depth=5, min_samples_split=2, n_estimators=50;, score=(train=0.499, test=0.342) total time=   0.9s\n",
      "[CV 4/5] END max_depth=5, min_samples_split=2, n_estimators=50;, score=(train=0.496, test=0.338) total time=   0.8s\n",
      "[CV 5/5] END max_depth=5, min_samples_split=2, n_estimators=50;, score=(train=0.492, test=0.333) total time=   0.8s\n",
      "[CV 1/5] END max_depth=5, min_samples_split=5, n_estimators=50;, score=(train=0.498, test=0.263) total time=   0.8s\n",
      "[CV 2/5] END max_depth=5, min_samples_split=5, n_estimators=50;, score=(train=0.484, test=0.365) total time=   0.8s\n",
      "[CV 3/5] END max_depth=5, min_samples_split=5, n_estimators=50;, score=(train=0.498, test=0.343) total time=   0.9s\n",
      "[CV 4/5] END max_depth=5, min_samples_split=5, n_estimators=50;, score=(train=0.495, test=0.338) total time=   0.8s\n",
      "[CV 5/5] END max_depth=5, min_samples_split=5, n_estimators=50;, score=(train=0.491, test=0.334) total time=   0.9s\n",
      "[CV 1/5] END max_depth=5, min_samples_split=10, n_estimators=50;, score=(train=0.494, test=0.264) total time=   0.9s\n",
      "[CV 2/5] END max_depth=5, min_samples_split=10, n_estimators=50;, score=(train=0.480, test=0.366) total time=   0.8s\n",
      "[CV 3/5] END max_depth=5, min_samples_split=10, n_estimators=50;, score=(train=0.496, test=0.343) total time=   0.8s\n",
      "[CV 4/5] END max_depth=5, min_samples_split=10, n_estimators=50;, score=(train=0.492, test=0.338) total time=   0.8s\n",
      "[CV 5/5] END max_depth=5, min_samples_split=10, n_estimators=50;, score=(train=0.488, test=0.334) total time=   0.8s\n",
      "[CV 1/5] END max_depth=10, min_samples_split=2, n_estimators=50;, score=(train=0.790, test=0.262) total time=   1.6s\n",
      "[CV 2/5] END max_depth=10, min_samples_split=2, n_estimators=50;, score=(train=0.783, test=0.353) total time=   1.6s\n",
      "[CV 3/5] END max_depth=10, min_samples_split=2, n_estimators=50;, score=(train=0.796, test=0.333) total time=   1.6s\n",
      "[CV 4/5] END max_depth=10, min_samples_split=2, n_estimators=50;, score=(train=0.801, test=0.314) total time=   1.5s\n",
      "[CV 5/5] END max_depth=10, min_samples_split=2, n_estimators=50;, score=(train=0.798, test=0.324) total time=   1.6s\n",
      "[CV 1/5] END max_depth=10, min_samples_split=5, n_estimators=50;, score=(train=0.777, test=0.257) total time=   1.5s\n",
      "[CV 2/5] END max_depth=10, min_samples_split=5, n_estimators=50;, score=(train=0.771, test=0.353) total time=   1.5s\n",
      "[CV 3/5] END max_depth=10, min_samples_split=5, n_estimators=50;, score=(train=0.784, test=0.333) total time=   1.5s\n",
      "[CV 4/5] END max_depth=10, min_samples_split=5, n_estimators=50;, score=(train=0.786, test=0.316) total time=   1.5s\n",
      "[CV 5/5] END max_depth=10, min_samples_split=5, n_estimators=50;, score=(train=0.784, test=0.324) total time=   1.5s\n",
      "[CV 1/5] END max_depth=10, min_samples_split=10, n_estimators=50;, score=(train=0.743, test=0.260) total time=   1.4s\n",
      "[CV 2/5] END max_depth=10, min_samples_split=10, n_estimators=50;, score=(train=0.737, test=0.355) total time=   1.4s\n",
      "[CV 3/5] END max_depth=10, min_samples_split=10, n_estimators=50;, score=(train=0.747, test=0.340) total time=   1.5s\n",
      "[CV 4/5] END max_depth=10, min_samples_split=10, n_estimators=50;, score=(train=0.751, test=0.315) total time=   1.4s\n",
      "[CV 5/5] END max_depth=10, min_samples_split=10, n_estimators=50;, score=(train=0.750, test=0.322) total time=   1.5s\n",
      "----------\n",
      "iter: 1\n",
      "n_candidates: 5\n",
      "n_resources: 100\n",
      "Fitting 5 folds for each of 5 candidates, totalling 25 fits\n",
      "[CV 1/5] END max_depth=3, min_samples_split=5, n_estimators=100;, score=(train=0.391, test=0.266) total time=   1.2s\n",
      "[CV 2/5] END max_depth=3, min_samples_split=5, n_estimators=100;, score=(train=0.370, test=0.360) total time=   1.1s\n",
      "[CV 3/5] END max_depth=3, min_samples_split=5, n_estimators=100;, score=(train=0.382, test=0.333) total time=   1.1s\n",
      "[CV 4/5] END max_depth=3, min_samples_split=5, n_estimators=100;, score=(train=0.379, test=0.350) total time=   1.1s\n",
      "[CV 5/5] END max_depth=3, min_samples_split=5, n_estimators=100;, score=(train=0.377, test=0.327) total time=   1.2s\n",
      "[CV 1/5] END max_depth=3, min_samples_split=10, n_estimators=100;, score=(train=0.391, test=0.266) total time=   1.2s\n",
      "[CV 2/5] END max_depth=3, min_samples_split=10, n_estimators=100;, score=(train=0.370, test=0.360) total time=   1.1s\n",
      "[CV 3/5] END max_depth=3, min_samples_split=10, n_estimators=100;, score=(train=0.382, test=0.333) total time=   1.1s\n",
      "[CV 4/5] END max_depth=3, min_samples_split=10, n_estimators=100;, score=(train=0.379, test=0.350) total time=   1.1s\n",
      "[CV 5/5] END max_depth=3, min_samples_split=10, n_estimators=100;, score=(train=0.377, test=0.327) total time=   1.1s\n",
      "[CV 1/5] END max_depth=5, min_samples_split=2, n_estimators=100;, score=(train=0.500, test=0.268) total time=   1.8s\n",
      "[CV 2/5] END max_depth=5, min_samples_split=2, n_estimators=100;, score=(train=0.489, test=0.373) total time=   1.9s\n",
      "[CV 3/5] END max_depth=5, min_samples_split=2, n_estimators=100;, score=(train=0.500, test=0.343) total time=   1.8s\n",
      "[CV 4/5] END max_depth=5, min_samples_split=2, n_estimators=100;, score=(train=0.498, test=0.343) total time=   1.8s\n",
      "[CV 5/5] END max_depth=5, min_samples_split=2, n_estimators=100;, score=(train=0.494, test=0.332) total time=   1.8s\n",
      "[CV 1/5] END max_depth=5, min_samples_split=5, n_estimators=100;, score=(train=0.499, test=0.267) total time=   1.8s\n",
      "[CV 2/5] END max_depth=5, min_samples_split=5, n_estimators=100;, score=(train=0.488, test=0.373) total time=   1.8s\n",
      "[CV 3/5] END max_depth=5, min_samples_split=5, n_estimators=100;, score=(train=0.499, test=0.343) total time=   1.8s\n",
      "[CV 4/5] END max_depth=5, min_samples_split=5, n_estimators=100;, score=(train=0.498, test=0.343) total time=   1.7s\n",
      "[CV 5/5] END max_depth=5, min_samples_split=5, n_estimators=100;, score=(train=0.493, test=0.333) total time=   1.8s\n",
      "[CV 1/5] END max_depth=5, min_samples_split=10, n_estimators=100;, score=(train=0.496, test=0.267) total time=   1.8s\n",
      "[CV 2/5] END max_depth=5, min_samples_split=10, n_estimators=100;, score=(train=0.485, test=0.374) total time=   1.8s\n"
     ]
    },
    {
     "name": "stdout",
     "output_type": "stream",
     "text": [
      "[CV 3/5] END max_depth=5, min_samples_split=10, n_estimators=100;, score=(train=0.496, test=0.343) total time=   1.8s\n",
      "[CV 4/5] END max_depth=5, min_samples_split=10, n_estimators=100;, score=(train=0.495, test=0.343) total time=   1.8s\n",
      "[CV 5/5] END max_depth=5, min_samples_split=10, n_estimators=100;, score=(train=0.490, test=0.333) total time=   1.8s\n",
      "----------\n",
      "iter: 2\n",
      "n_candidates: 3\n",
      "n_resources: 200\n",
      "Fitting 5 folds for each of 3 candidates, totalling 15 fits\n",
      "[CV 1/5] END max_depth=5, min_samples_split=2, n_estimators=200;, score=(train=0.501, test=0.266) total time=   3.7s\n",
      "[CV 2/5] END max_depth=5, min_samples_split=2, n_estimators=200;, score=(train=0.490, test=0.374) total time=   3.7s\n",
      "[CV 3/5] END max_depth=5, min_samples_split=2, n_estimators=200;, score=(train=0.499, test=0.345) total time=   3.6s\n",
      "[CV 4/5] END max_depth=5, min_samples_split=2, n_estimators=200;, score=(train=0.498, test=0.346) total time=   3.7s\n",
      "[CV 5/5] END max_depth=5, min_samples_split=2, n_estimators=200;, score=(train=0.496, test=0.335) total time=   3.7s\n",
      "[CV 1/5] END max_depth=5, min_samples_split=10, n_estimators=200;, score=(train=0.497, test=0.265) total time=   3.7s\n",
      "[CV 2/5] END max_depth=5, min_samples_split=10, n_estimators=200;, score=(train=0.486, test=0.374) total time=   3.7s\n",
      "[CV 3/5] END max_depth=5, min_samples_split=10, n_estimators=200;, score=(train=0.495, test=0.344) total time=   3.7s\n",
      "[CV 4/5] END max_depth=5, min_samples_split=10, n_estimators=200;, score=(train=0.495, test=0.346) total time=   3.6s\n",
      "[CV 5/5] END max_depth=5, min_samples_split=10, n_estimators=200;, score=(train=0.492, test=0.334) total time=   3.7s\n",
      "[CV 1/5] END max_depth=5, min_samples_split=5, n_estimators=200;, score=(train=0.500, test=0.265) total time=   3.7s\n",
      "[CV 2/5] END max_depth=5, min_samples_split=5, n_estimators=200;, score=(train=0.489, test=0.374) total time=   3.6s\n",
      "[CV 3/5] END max_depth=5, min_samples_split=5, n_estimators=200;, score=(train=0.498, test=0.344) total time=   3.6s\n",
      "[CV 4/5] END max_depth=5, min_samples_split=5, n_estimators=200;, score=(train=0.498, test=0.346) total time=   3.6s\n",
      "[CV 5/5] END max_depth=5, min_samples_split=5, n_estimators=200;, score=(train=0.495, test=0.335) total time=   3.8s\n",
      "----------\n",
      "iter: 3\n",
      "n_candidates: 2\n",
      "n_resources: 400\n",
      "Fitting 5 folds for each of 2 candidates, totalling 10 fits\n",
      "[CV 1/5] END max_depth=5, min_samples_split=5, n_estimators=400;, score=(train=0.501, test=0.268) total time=   7.6s\n",
      "[CV 2/5] END max_depth=5, min_samples_split=5, n_estimators=400;, score=(train=0.490, test=0.373) total time=   7.6s\n",
      "[CV 3/5] END max_depth=5, min_samples_split=5, n_estimators=400;, score=(train=0.498, test=0.343) total time=   7.5s\n",
      "[CV 4/5] END max_depth=5, min_samples_split=5, n_estimators=400;, score=(train=0.498, test=0.345) total time=   7.4s\n",
      "[CV 5/5] END max_depth=5, min_samples_split=5, n_estimators=400;, score=(train=0.496, test=0.334) total time=   7.5s\n",
      "[CV 1/5] END max_depth=5, min_samples_split=2, n_estimators=400;, score=(train=0.502, test=0.269) total time=   7.5s\n",
      "[CV 2/5] END max_depth=5, min_samples_split=2, n_estimators=400;, score=(train=0.491, test=0.373) total time=   7.4s\n",
      "[CV 3/5] END max_depth=5, min_samples_split=2, n_estimators=400;, score=(train=0.499, test=0.343) total time=   7.6s\n",
      "[CV 4/5] END max_depth=5, min_samples_split=2, n_estimators=400;, score=(train=0.499, test=0.345) total time=   7.4s\n",
      "[CV 5/5] END max_depth=5, min_samples_split=2, n_estimators=400;, score=(train=0.497, test=0.334) total time=   7.5s\n"
     ]
    },
    {
     "data": {
      "text/plain": [
       "HalvingGridSearchCV(estimator=RandomForestRegressor(random_state=1212),\n",
       "                    factor=2, max_resources=1000, min_resources=50,\n",
       "                    param_grid={'max_depth': [3, 5, 10],\n",
       "                                'min_samples_split': [2, 5, 10]},\n",
       "                    resource='n_estimators', verbose=3)"
      ]
     },
     "execution_count": 63,
     "metadata": {},
     "output_type": "execute_result"
    }
   ],
   "source": [
    "param_grid = {'max_depth': [3,5,10],\n",
    "              'min_samples_split': [2,5,10]}\n",
    "\n",
    "rf = RandomForestRegressor(random_state=1212)\n",
    "\n",
    "sh = HalvingGridSearchCV(rf, param_grid, cv=5,\n",
    "                         factor=2, resource='n_estimators',\n",
    "                         min_resources=50,\n",
    "                         max_resources=1000, verbose=3)\n",
    "\n",
    "sh.fit(X_train, y_train)"
   ]
  },
  {
   "cell_type": "code",
   "execution_count": 64,
   "id": "0f36151c",
   "metadata": {
    "ExecuteTime": {
     "end_time": "2022-07-17T20:09:06.560196Z",
     "start_time": "2022-07-17T20:09:06.554195Z"
    }
   },
   "outputs": [
    {
     "data": {
      "text/plain": [
       "{'max_depth': 5, 'min_samples_split': 2, 'n_estimators': 400}"
      ]
     },
     "execution_count": 64,
     "metadata": {},
     "output_type": "execute_result"
    }
   ],
   "source": [
    "sh.best_params_"
   ]
  },
  {
   "cell_type": "code",
   "execution_count": 65,
   "id": "c1067b55",
   "metadata": {
    "ExecuteTime": {
     "end_time": "2022-07-17T20:10:47.988627Z",
     "start_time": "2022-07-17T20:10:38.522350Z"
    }
   },
   "outputs": [
    {
     "data": {
      "text/plain": [
       "0.3598561648249313"
      ]
     },
     "execution_count": 65,
     "metadata": {},
     "output_type": "execute_result"
    }
   ],
   "source": [
    "# initialize\n",
    "rf = RandomForestRegressor(n_estimators=400,\n",
    "                           max_depth=5,\n",
    "                           min_samples_split=2)\n",
    "\n",
    "# fit\n",
    "rf.fit(X_train, y_train)\n",
    "\n",
    "# score\n",
    "rf.score(X_test,y_test)"
   ]
  },
  {
   "cell_type": "code",
   "execution_count": 66,
   "id": "1355cf49",
   "metadata": {
    "ExecuteTime": {
     "end_time": "2022-07-17T20:11:06.230503Z",
     "start_time": "2022-07-17T20:11:06.154528Z"
    }
   },
   "outputs": [
    {
     "data": {
      "text/html": [
       "<div>\n",
       "<style scoped>\n",
       "    .dataframe tbody tr th:only-of-type {\n",
       "        vertical-align: middle;\n",
       "    }\n",
       "\n",
       "    .dataframe tbody tr th {\n",
       "        vertical-align: top;\n",
       "    }\n",
       "\n",
       "    .dataframe thead th {\n",
       "        text-align: right;\n",
       "    }\n",
       "</style>\n",
       "<table border=\"1\" class=\"dataframe\">\n",
       "  <thead>\n",
       "    <tr style=\"text-align: right;\">\n",
       "      <th></th>\n",
       "      <th>0</th>\n",
       "    </tr>\n",
       "  </thead>\n",
       "  <tbody>\n",
       "    <tr>\n",
       "      <th>waa_pg_1yr</th>\n",
       "      <td>0.498273</td>\n",
       "    </tr>\n",
       "    <tr>\n",
       "      <th>waa_pg_2yr</th>\n",
       "      <td>0.251163</td>\n",
       "    </tr>\n",
       "    <tr>\n",
       "      <th>waa_pg_3yr</th>\n",
       "      <td>0.043511</td>\n",
       "    </tr>\n",
       "    <tr>\n",
       "      <th>age</th>\n",
       "      <td>0.022621</td>\n",
       "    </tr>\n",
       "    <tr>\n",
       "      <th>runs_dp_pg_2yr</th>\n",
       "      <td>0.011742</td>\n",
       "    </tr>\n",
       "    <tr>\n",
       "      <th>runs_bat_pg_3yr</th>\n",
       "      <td>0.011106</td>\n",
       "    </tr>\n",
       "    <tr>\n",
       "      <th>runs_defense_pg_1yr</th>\n",
       "      <td>0.010519</td>\n",
       "    </tr>\n",
       "    <tr>\n",
       "      <th>runs_bat_pg_1yr</th>\n",
       "      <td>0.010134</td>\n",
       "    </tr>\n",
       "    <tr>\n",
       "      <th>runs_bat_pg_2yr</th>\n",
       "      <td>0.008247</td>\n",
       "    </tr>\n",
       "    <tr>\n",
       "      <th>runs_br_pg_1yr</th>\n",
       "      <td>0.008006</td>\n",
       "    </tr>\n",
       "  </tbody>\n",
       "</table>\n",
       "</div>"
      ],
      "text/plain": [
       "                            0\n",
       "waa_pg_1yr           0.498273\n",
       "waa_pg_2yr           0.251163\n",
       "waa_pg_3yr           0.043511\n",
       "age                  0.022621\n",
       "runs_dp_pg_2yr       0.011742\n",
       "runs_bat_pg_3yr      0.011106\n",
       "runs_defense_pg_1yr  0.010519\n",
       "runs_bat_pg_1yr      0.010134\n",
       "runs_bat_pg_2yr      0.008247\n",
       "runs_br_pg_1yr       0.008006"
      ]
     },
     "execution_count": 66,
     "metadata": {},
     "output_type": "execute_result"
    }
   ],
   "source": [
    "pd.DataFrame(rf.feature_importances_, index=X_train.columns).sort_values(0,ascending=False).head(10)"
   ]
  },
  {
   "cell_type": "markdown",
   "id": "0316406b",
   "metadata": {},
   "source": [
    "# SVM"
   ]
  },
  {
   "cell_type": "code",
   "execution_count": 68,
   "id": "e3da9c63",
   "metadata": {
    "ExecuteTime": {
     "end_time": "2022-07-17T20:13:44.177532Z",
     "start_time": "2022-07-17T20:13:44.145501Z"
    }
   },
   "outputs": [
    {
     "data": {
      "text/plain": [
       "-0.02602472079240159"
      ]
     },
     "execution_count": 68,
     "metadata": {},
     "output_type": "execute_result"
    }
   ],
   "source": [
    "# initialize\n",
    "svr = SVR()\n",
    "\n",
    "# fit\n",
    "svr.fit(X_train, y_train)\n",
    "\n",
    "# score\n",
    "svr.score(X_test,y_test)"
   ]
  },
  {
   "cell_type": "code",
   "execution_count": 81,
   "id": "84c4ea26",
   "metadata": {
    "ExecuteTime": {
     "end_time": "2022-07-17T20:19:45.379841Z",
     "start_time": "2022-07-17T20:19:22.416657Z"
    },
    "scrolled": true
   },
   "outputs": [
    {
     "name": "stdout",
     "output_type": "stream",
     "text": [
      "Fitting 5 folds for each of 18 candidates, totalling 90 fits\n",
      "[CV 1/5] END C=0.001, epsilon=0.001, gamma=scale;, score=0.279 total time=   0.4s\n",
      "[CV 2/5] END C=0.001, epsilon=0.001, gamma=scale;, score=0.337 total time=   0.4s\n",
      "[CV 3/5] END C=0.001, epsilon=0.001, gamma=scale;, score=0.290 total time=   0.4s\n",
      "[CV 4/5] END C=0.001, epsilon=0.001, gamma=scale;, score=0.311 total time=   0.4s\n",
      "[CV 5/5] END C=0.001, epsilon=0.001, gamma=scale;, score=0.291 total time=   0.3s\n",
      "[CV 1/5] END C=0.001, epsilon=0.001, gamma=auto;, score=0.261 total time=   0.3s\n",
      "[CV 2/5] END C=0.001, epsilon=0.001, gamma=auto;, score=0.315 total time=   0.4s\n",
      "[CV 3/5] END C=0.001, epsilon=0.001, gamma=auto;, score=0.269 total time=   0.3s\n",
      "[CV 4/5] END C=0.001, epsilon=0.001, gamma=auto;, score=0.288 total time=   0.4s\n",
      "[CV 5/5] END C=0.001, epsilon=0.001, gamma=auto;, score=0.271 total time=   0.3s\n",
      "[CV 1/5] END C=0.001, epsilon=0.01, gamma=scale;, score=0.264 total time=   0.1s\n",
      "[CV 2/5] END C=0.001, epsilon=0.01, gamma=scale;, score=0.308 total time=   0.1s\n",
      "[CV 3/5] END C=0.001, epsilon=0.01, gamma=scale;, score=0.274 total time=   0.1s\n",
      "[CV 4/5] END C=0.001, epsilon=0.01, gamma=scale;, score=0.300 total time=   0.1s\n",
      "[CV 5/5] END C=0.001, epsilon=0.01, gamma=scale;, score=0.282 total time=   0.1s\n",
      "[CV 1/5] END .C=0.001, epsilon=0.01, gamma=auto;, score=0.241 total time=   0.1s\n",
      "[CV 2/5] END .C=0.001, epsilon=0.01, gamma=auto;, score=0.281 total time=   0.1s\n",
      "[CV 3/5] END .C=0.001, epsilon=0.01, gamma=auto;, score=0.251 total time=   0.1s\n",
      "[CV 4/5] END .C=0.001, epsilon=0.01, gamma=auto;, score=0.279 total time=   0.1s\n",
      "[CV 5/5] END .C=0.001, epsilon=0.01, gamma=auto;, score=0.258 total time=   0.1s\n",
      "[CV 1/5] END C=0.001, epsilon=0.1, gamma=scale;, score=-0.023 total time=   0.0s\n",
      "[CV 2/5] END C=0.001, epsilon=0.1, gamma=scale;, score=-0.035 total time=   0.0s\n",
      "[CV 3/5] END C=0.001, epsilon=0.1, gamma=scale;, score=-0.118 total time=   0.0s\n",
      "[CV 4/5] END C=0.001, epsilon=0.1, gamma=scale;, score=-0.078 total time=   0.0s\n",
      "[CV 5/5] END C=0.001, epsilon=0.1, gamma=scale;, score=-0.018 total time=   0.0s\n",
      "[CV 1/5] END .C=0.001, epsilon=0.1, gamma=auto;, score=-0.023 total time=   0.0s\n",
      "[CV 2/5] END .C=0.001, epsilon=0.1, gamma=auto;, score=-0.035 total time=   0.0s\n",
      "[CV 3/5] END .C=0.001, epsilon=0.1, gamma=auto;, score=-0.118 total time=   0.0s\n",
      "[CV 4/5] END .C=0.001, epsilon=0.1, gamma=auto;, score=-0.078 total time=   0.0s\n",
      "[CV 5/5] END .C=0.001, epsilon=0.1, gamma=auto;, score=-0.018 total time=   0.0s\n",
      "[CV 1/5] END C=0.01, epsilon=0.001, gamma=scale;, score=0.263 total time=   0.4s\n",
      "[CV 2/5] END C=0.01, epsilon=0.001, gamma=scale;, score=0.358 total time=   0.4s\n",
      "[CV 3/5] END C=0.01, epsilon=0.001, gamma=scale;, score=0.294 total time=   0.4s\n",
      "[CV 4/5] END C=0.01, epsilon=0.001, gamma=scale;, score=0.307 total time=   0.4s\n",
      "[CV 5/5] END C=0.01, epsilon=0.001, gamma=scale;, score=0.282 total time=   0.4s\n",
      "[CV 1/5] END .C=0.01, epsilon=0.001, gamma=auto;, score=0.245 total time=   0.4s\n",
      "[CV 2/5] END .C=0.01, epsilon=0.001, gamma=auto;, score=0.345 total time=   0.4s\n",
      "[CV 3/5] END .C=0.01, epsilon=0.001, gamma=auto;, score=0.284 total time=   0.4s\n",
      "[CV 4/5] END .C=0.01, epsilon=0.001, gamma=auto;, score=0.302 total time=   0.4s\n",
      "[CV 5/5] END .C=0.01, epsilon=0.001, gamma=auto;, score=0.273 total time=   0.4s\n",
      "[CV 1/5] END .C=0.01, epsilon=0.01, gamma=scale;, score=0.293 total time=   0.1s\n",
      "[CV 2/5] END .C=0.01, epsilon=0.01, gamma=scale;, score=0.368 total time=   0.1s\n",
      "[CV 3/5] END .C=0.01, epsilon=0.01, gamma=scale;, score=0.314 total time=   0.1s\n",
      "[CV 4/5] END .C=0.01, epsilon=0.01, gamma=scale;, score=0.319 total time=   0.1s\n",
      "[CV 5/5] END .C=0.01, epsilon=0.01, gamma=scale;, score=0.336 total time=   0.1s\n",
      "[CV 1/5] END ..C=0.01, epsilon=0.01, gamma=auto;, score=0.283 total time=   0.1s\n",
      "[CV 2/5] END ..C=0.01, epsilon=0.01, gamma=auto;, score=0.356 total time=   0.1s\n",
      "[CV 3/5] END ..C=0.01, epsilon=0.01, gamma=auto;, score=0.302 total time=   0.1s\n",
      "[CV 4/5] END ..C=0.01, epsilon=0.01, gamma=auto;, score=0.314 total time=   0.1s\n",
      "[CV 5/5] END ..C=0.01, epsilon=0.01, gamma=auto;, score=0.326 total time=   0.1s\n",
      "[CV 1/5] END .C=0.01, epsilon=0.1, gamma=scale;, score=-0.023 total time=   0.0s\n",
      "[CV 2/5] END .C=0.01, epsilon=0.1, gamma=scale;, score=-0.035 total time=   0.0s\n",
      "[CV 3/5] END .C=0.01, epsilon=0.1, gamma=scale;, score=-0.118 total time=   0.0s\n",
      "[CV 4/5] END .C=0.01, epsilon=0.1, gamma=scale;, score=-0.078 total time=   0.0s\n",
      "[CV 5/5] END .C=0.01, epsilon=0.1, gamma=scale;, score=-0.018 total time=   0.0s\n",
      "[CV 1/5] END ..C=0.01, epsilon=0.1, gamma=auto;, score=-0.023 total time=   0.0s\n",
      "[CV 2/5] END ..C=0.01, epsilon=0.1, gamma=auto;, score=-0.035 total time=   0.0s\n",
      "[CV 3/5] END ..C=0.01, epsilon=0.1, gamma=auto;, score=-0.118 total time=   0.0s\n",
      "[CV 4/5] END ..C=0.01, epsilon=0.1, gamma=auto;, score=-0.078 total time=   0.0s\n",
      "[CV 5/5] END ..C=0.01, epsilon=0.1, gamma=auto;, score=-0.018 total time=   0.0s\n",
      "[CV 1/5] END .C=0.1, epsilon=0.001, gamma=scale;, score=0.005 total time=   0.5s\n",
      "[CV 2/5] END .C=0.1, epsilon=0.001, gamma=scale;, score=0.218 total time=   0.5s\n",
      "[CV 3/5] END .C=0.1, epsilon=0.001, gamma=scale;, score=0.152 total time=   0.5s\n",
      "[CV 4/5] END .C=0.1, epsilon=0.001, gamma=scale;, score=0.133 total time=   0.5s\n",
      "[CV 5/5] END .C=0.1, epsilon=0.001, gamma=scale;, score=0.146 total time=   0.6s\n",
      "[CV 1/5] END .C=0.1, epsilon=0.001, gamma=auto;, score=-0.035 total time=   0.5s\n",
      "[CV 2/5] END ..C=0.1, epsilon=0.001, gamma=auto;, score=0.191 total time=   0.5s\n",
      "[CV 3/5] END ..C=0.1, epsilon=0.001, gamma=auto;, score=0.136 total time=   0.5s\n",
      "[CV 4/5] END ..C=0.1, epsilon=0.001, gamma=auto;, score=0.120 total time=   0.5s\n",
      "[CV 5/5] END ..C=0.1, epsilon=0.001, gamma=auto;, score=0.137 total time=   0.5s\n",
      "[CV 1/5] END ..C=0.1, epsilon=0.01, gamma=scale;, score=0.164 total time=   0.2s\n",
      "[CV 2/5] END ..C=0.1, epsilon=0.01, gamma=scale;, score=0.273 total time=   0.2s\n",
      "[CV 3/5] END ..C=0.1, epsilon=0.01, gamma=scale;, score=0.243 total time=   0.2s\n",
      "[CV 4/5] END ..C=0.1, epsilon=0.01, gamma=scale;, score=0.230 total time=   0.2s\n",
      "[CV 5/5] END ..C=0.1, epsilon=0.01, gamma=scale;, score=0.253 total time=   0.2s\n",
      "[CV 1/5] END ...C=0.1, epsilon=0.01, gamma=auto;, score=0.151 total time=   0.2s\n",
      "[CV 2/5] END ...C=0.1, epsilon=0.01, gamma=auto;, score=0.261 total time=   0.2s\n",
      "[CV 3/5] END ...C=0.1, epsilon=0.01, gamma=auto;, score=0.237 total time=   0.2s\n",
      "[CV 4/5] END ...C=0.1, epsilon=0.01, gamma=auto;, score=0.224 total time=   0.2s\n",
      "[CV 5/5] END ...C=0.1, epsilon=0.01, gamma=auto;, score=0.242 total time=   0.2s\n",
      "[CV 1/5] END ..C=0.1, epsilon=0.1, gamma=scale;, score=-0.023 total time=   0.0s\n",
      "[CV 2/5] END ..C=0.1, epsilon=0.1, gamma=scale;, score=-0.035 total time=   0.0s\n",
      "[CV 3/5] END ..C=0.1, epsilon=0.1, gamma=scale;, score=-0.118 total time=   0.0s\n",
      "[CV 4/5] END ..C=0.1, epsilon=0.1, gamma=scale;, score=-0.078 total time=   0.0s\n",
      "[CV 5/5] END ..C=0.1, epsilon=0.1, gamma=scale;, score=-0.018 total time=   0.0s\n",
      "[CV 1/5] END ...C=0.1, epsilon=0.1, gamma=auto;, score=-0.023 total time=   0.0s\n",
      "[CV 2/5] END ...C=0.1, epsilon=0.1, gamma=auto;, score=-0.035 total time=   0.0s\n",
      "[CV 3/5] END ...C=0.1, epsilon=0.1, gamma=auto;, score=-0.118 total time=   0.0s\n",
      "[CV 4/5] END ...C=0.1, epsilon=0.1, gamma=auto;, score=-0.078 total time=   0.0s\n",
      "[CV 5/5] END ...C=0.1, epsilon=0.1, gamma=auto;, score=-0.018 total time=   0.0s\n"
     ]
    },
    {
     "data": {
      "text/plain": [
       "GridSearchCV(cv=5, estimator=SVR(),\n",
       "             param_grid={'C': array([0.001, 0.01 , 0.1  ]),\n",
       "                         'epsilon': array([0.001, 0.01 , 0.1  ]),\n",
       "                         'gamma': ['scale', 'auto']},\n",
       "             verbose=3)"
      ]
     },
     "execution_count": 81,
     "metadata": {},
     "output_type": "execute_result"
    }
   ],
   "source": [
    "param_grid = {'epsilon': np.logspace(-3,-1,3),\n",
    "              'C': np.logspace(-3,-1,3),\n",
    "              'gamma': ['scale','auto']}\n",
    "\n",
    "svr = SVR()\n",
    "\n",
    "gs = GridSearchCV(svr, param_grid, cv=5,\n",
    "                  verbose=3)\n",
    "\n",
    "gs.fit(X_train, y_train)"
   ]
  },
  {
   "cell_type": "code",
   "execution_count": 82,
   "id": "665f3795",
   "metadata": {
    "ExecuteTime": {
     "end_time": "2022-07-17T20:19:49.289271Z",
     "start_time": "2022-07-17T20:19:49.283270Z"
    }
   },
   "outputs": [
    {
     "data": {
      "text/plain": [
       "{'C': 0.01, 'epsilon': 0.01, 'gamma': 'scale'}"
      ]
     },
     "execution_count": 82,
     "metadata": {},
     "output_type": "execute_result"
    }
   ],
   "source": [
    "gs.best_params_"
   ]
  },
  {
   "cell_type": "code",
   "execution_count": 83,
   "id": "e919aa5c",
   "metadata": {
    "ExecuteTime": {
     "end_time": "2022-07-17T20:19:51.536553Z",
     "start_time": "2022-07-17T20:19:51.522485Z"
    }
   },
   "outputs": [
    {
     "data": {
      "text/plain": [
       "0.32589192875336814"
      ]
     },
     "execution_count": 83,
     "metadata": {},
     "output_type": "execute_result"
    }
   ],
   "source": [
    "gs.best_score_"
   ]
  },
  {
   "cell_type": "code",
   "execution_count": 84,
   "id": "a0aade55",
   "metadata": {
    "ExecuteTime": {
     "end_time": "2022-07-17T20:20:27.132249Z",
     "start_time": "2022-07-17T20:20:26.730591Z"
    }
   },
   "outputs": [
    {
     "data": {
      "text/plain": [
       "0.34022866463091095"
      ]
     },
     "execution_count": 84,
     "metadata": {},
     "output_type": "execute_result"
    }
   ],
   "source": [
    "# initialize\n",
    "svr = SVR(C=0.01, epsilon = 0.01, gamma = 'scale')\n",
    "\n",
    "# fit\n",
    "svr.fit(X_train, y_train)\n",
    "\n",
    "# score\n",
    "svr.score(X_test,y_test)"
   ]
  }
 ],
 "metadata": {
  "kernelspec": {
   "display_name": "Python 3 (ipykernel)",
   "language": "python",
   "name": "python3"
  },
  "language_info": {
   "codemirror_mode": {
    "name": "ipython",
    "version": 3
   },
   "file_extension": ".py",
   "mimetype": "text/x-python",
   "name": "python",
   "nbconvert_exporter": "python",
   "pygments_lexer": "ipython3",
   "version": "3.9.12"
  },
  "toc": {
   "base_numbering": 1,
   "nav_menu": {},
   "number_sections": false,
   "sideBar": true,
   "skip_h1_title": false,
   "title_cell": "Table of Contents",
   "title_sidebar": "Contents",
   "toc_cell": false,
   "toc_position": {},
   "toc_section_display": true,
   "toc_window_display": false
  }
 },
 "nbformat": 4,
 "nbformat_minor": 5
}
