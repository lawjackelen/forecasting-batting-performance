{
 "cells": [
  {
   "cell_type": "markdown",
   "id": "0e59ce52",
   "metadata": {},
   "source": [
    "# Imports"
   ]
  },
  {
   "cell_type": "code",
   "execution_count": 1,
   "id": "cb04d650",
   "metadata": {
    "ExecuteTime": {
     "end_time": "2022-07-20T08:02:28.645424Z",
     "start_time": "2022-07-20T08:02:25.349939Z"
    }
   },
   "outputs": [],
   "source": [
    "import numpy as np\n",
    "import pandas as pd\n",
    "np.random.seed(2121)\n",
    "\n",
    "import matplotlib.pyplot as plt\n",
    "\n",
    "from sklearn.model_selection import GridSearchCV, cross_val_score\n",
    "from sklearn.linear_model import LinearRegression, LassoCV, Lasso\n",
    "from sklearn.metrics import r2_score\n",
    "from sklearn.ensemble import RandomForestRegressor\n",
    "from sklearn.svm import SVR\n",
    "\n",
    "from sklearn.experimental import enable_halving_search_cv  # noqa\n",
    "from sklearn.model_selection import HalvingGridSearchCV"
   ]
  },
  {
   "cell_type": "code",
   "execution_count": 2,
   "id": "c1f38dc8",
   "metadata": {
    "ExecuteTime": {
     "end_time": "2022-07-20T08:02:28.739429Z",
     "start_time": "2022-07-20T08:02:28.648422Z"
    }
   },
   "outputs": [],
   "source": [
    "batpos = pd.read_csv('../data/batpos_full_preprocessed.csv')\n",
    "baseline = pd.read_csv('../data/X_test_full_for_baseline.csv')"
   ]
  },
  {
   "cell_type": "code",
   "execution_count": 3,
   "id": "8aa2e336",
   "metadata": {
    "ExecuteTime": {
     "end_time": "2022-07-20T08:02:28.755423Z",
     "start_time": "2022-07-20T08:02:28.741424Z"
    }
   },
   "outputs": [],
   "source": [
    "# set our index\n",
    "for df in [batpos,baseline]:\n",
    "    df.set_index('Unnamed: 0', inplace=True)\n",
    "    df.index.name = None"
   ]
  },
  {
   "cell_type": "code",
   "execution_count": 4,
   "id": "ff57293b",
   "metadata": {
    "ExecuteTime": {
     "end_time": "2022-07-20T08:02:28.787422Z",
     "start_time": "2022-07-20T08:02:28.759424Z"
    }
   },
   "outputs": [],
   "source": [
    "# decompose into X and y, test and train\n",
    "target = 'waa_pg'\n",
    "\n",
    "y_train = batpos[batpos.is_train==1][target]\n",
    "X_train = batpos[batpos.is_train==1]\\\n",
    "            [[c for c in batpos.columns if c != target]]\n",
    "\n",
    "y_test = batpos[batpos.is_train==0][target]\n",
    "X_test = batpos[batpos.is_train==0]\\\n",
    "            [[c for c in batpos.columns if c != target]]"
   ]
  },
  {
   "cell_type": "code",
   "execution_count": 5,
   "id": "b721b4ee",
   "metadata": {
    "ExecuteTime": {
     "end_time": "2022-07-20T08:02:28.803494Z",
     "start_time": "2022-07-20T08:02:28.790423Z"
    }
   },
   "outputs": [],
   "source": [
    "def add_identity(axes, *line_args, **line_kwargs):\n",
    "    identity, = axes.plot([], [], *line_args, **line_kwargs, label = 'Actual = Predicted')\n",
    "    def callback(axes):\n",
    "        low_x, high_x = axes.get_xlim()\n",
    "        low_y, high_y = axes.get_ylim()\n",
    "        low = max(low_x, low_y)\n",
    "        high = min(high_x, high_y)\n",
    "        identity.set_data([low, high], [low, high])\n",
    "    callback(axes)\n",
    "    axes.callbacks.connect('xlim_changed', callback)\n",
    "    axes.callbacks.connect('ylim_changed', callback)\n",
    "    return axes\n",
    "\n",
    "# source:\n",
    "# https://stackoverflow.com/questions/22104256/does-matplotlib-have-a-function-for-drawing-diagonal-lines-in-axis-coordinates"
   ]
  },
  {
   "cell_type": "markdown",
   "id": "01d35e7a",
   "metadata": {},
   "source": [
    "# Baseline"
   ]
  },
  {
   "cell_type": "markdown",
   "id": "4c78936c",
   "metadata": {},
   "source": [
    "Our baseline for modeling will be a more intuitive feeling one: the weighted average of the past three `waa_pg`. If asking how a player would perform, it would be reasonable to look closest at the last year, but also take the previous years into account with a marginal impact."
   ]
  },
  {
   "cell_type": "code",
   "execution_count": 6,
   "id": "cc5f1cb8",
   "metadata": {
    "ExecuteTime": {
     "end_time": "2022-07-20T08:02:28.819493Z",
     "start_time": "2022-07-20T08:02:28.806423Z"
    }
   },
   "outputs": [],
   "source": [
    "baseline1 = (baseline['waa_pg_1yr']*3 + baseline['waa_pg_2yr']*2\\\n",
    "                + baseline['waa_pg_3yr'])/6"
   ]
  },
  {
   "cell_type": "code",
   "execution_count": 7,
   "id": "802ec57f",
   "metadata": {
    "ExecuteTime": {
     "end_time": "2022-07-20T08:02:28.835507Z",
     "start_time": "2022-07-20T08:02:28.822423Z"
    }
   },
   "outputs": [
    {
     "data": {
      "text/plain": [
       "0.2958886964785129"
      ]
     },
     "execution_count": 7,
     "metadata": {},
     "output_type": "execute_result"
    }
   ],
   "source": [
    "# calculate baseline score\n",
    "r2_score(y_test, baseline1)"
   ]
  },
  {
   "cell_type": "markdown",
   "id": "e9ff170b",
   "metadata": {},
   "source": [
    "**Note** Our baseline value is <span style='color:blue'><u>**29.59%**</u></span>"
   ]
  },
  {
   "cell_type": "markdown",
   "id": "5b41b41a",
   "metadata": {},
   "source": [
    "A different baseline that can be looked at is the straight average"
   ]
  },
  {
   "cell_type": "code",
   "execution_count": 8,
   "id": "fa4961cd",
   "metadata": {
    "ExecuteTime": {
     "end_time": "2022-07-20T08:02:28.851492Z",
     "start_time": "2022-07-20T08:02:28.837423Z"
    }
   },
   "outputs": [],
   "source": [
    "baseline2 = (baseline['waa_pg_1yr'] + baseline['waa_pg_2yr']\\\n",
    "                + baseline['waa_pg_3yr'])/3"
   ]
  },
  {
   "cell_type": "code",
   "execution_count": 9,
   "id": "39226553",
   "metadata": {
    "ExecuteTime": {
     "end_time": "2022-07-20T08:02:28.867425Z",
     "start_time": "2022-07-20T08:02:28.853424Z"
    }
   },
   "outputs": [
    {
     "data": {
      "text/plain": [
       "0.2983743417468937"
      ]
     },
     "execution_count": 9,
     "metadata": {},
     "output_type": "execute_result"
    }
   ],
   "source": [
    "# calculate baseline score\n",
    "r2_score(y_test, baseline2)"
   ]
  },
  {
   "cell_type": "markdown",
   "id": "2882589b",
   "metadata": {},
   "source": [
    "Lastly, just using the previous years value."
   ]
  },
  {
   "cell_type": "code",
   "execution_count": 10,
   "id": "d33f62b8",
   "metadata": {
    "ExecuteTime": {
     "end_time": "2022-07-20T08:02:28.899424Z",
     "start_time": "2022-07-20T08:02:28.874422Z"
    }
   },
   "outputs": [
    {
     "data": {
      "text/plain": [
       "0.059750008955404055"
      ]
     },
     "execution_count": 10,
     "metadata": {},
     "output_type": "execute_result"
    }
   ],
   "source": [
    "r2_score(y_test, baseline['waa_pg_1yr'])"
   ]
  },
  {
   "cell_type": "markdown",
   "id": "b65f15b6",
   "metadata": {},
   "source": [
    "# Linear Regression"
   ]
  },
  {
   "cell_type": "markdown",
   "id": "28783491",
   "metadata": {},
   "source": [
    "Start with a simple Linear Regression with no normalization."
   ]
  },
  {
   "cell_type": "code",
   "execution_count": 11,
   "id": "c15b50ab",
   "metadata": {
    "ExecuteTime": {
     "end_time": "2022-07-20T08:02:28.947422Z",
     "start_time": "2022-07-20T08:02:28.901422Z"
    }
   },
   "outputs": [
    {
     "data": {
      "text/plain": [
       "0.39017970554780557"
      ]
     },
     "execution_count": 11,
     "metadata": {},
     "output_type": "execute_result"
    }
   ],
   "source": [
    "# initialize\n",
    "lr = LinearRegression()\n",
    "\n",
    "# fit\n",
    "lr.fit(X_train, y_train)\n",
    "\n",
    "# score\n",
    "lr.score(X_test,y_test)"
   ]
  },
  {
   "cell_type": "markdown",
   "id": "d2cd850e",
   "metadata": {},
   "source": [
    "## Lasso Regularization"
   ]
  },
  {
   "cell_type": "code",
   "execution_count": 12,
   "id": "6ca8b753",
   "metadata": {
    "ExecuteTime": {
     "end_time": "2022-07-20T08:02:30.625423Z",
     "start_time": "2022-07-20T08:02:28.950422Z"
    }
   },
   "outputs": [
    {
     "name": "stdout",
     "output_type": "stream",
     "text": [
      "Best Alpha: 0.0003\n",
      "CV Score: 0.3661\n"
     ]
    }
   ],
   "source": [
    "# initialize\n",
    "lasso_cv = LassoCV()\n",
    "\n",
    "# cv\n",
    "scores = cross_val_score(lasso_cv, X_train, y_train)\n",
    "\n",
    "# fit\n",
    "lasso_cv.fit(X_train, y_train)\n",
    "\n",
    "# best attributes\n",
    "print(f'Best Alpha: {lasso_cv.alpha_:.4f}')\n",
    "print(f'CV Score: {scores.mean():.4f}')"
   ]
  },
  {
   "cell_type": "code",
   "execution_count": 13,
   "id": "91140ead",
   "metadata": {
    "ExecuteTime": {
     "end_time": "2022-07-20T08:02:30.641424Z",
     "start_time": "2022-07-20T08:02:30.628423Z"
    }
   },
   "outputs": [
    {
     "data": {
      "text/plain": [
       "0.3935131050271592"
      ]
     },
     "execution_count": 13,
     "metadata": {},
     "output_type": "execute_result"
    }
   ],
   "source": [
    "# generate features to select\n",
    "lasso_cv.score(X_test,y_test)"
   ]
  },
  {
   "cell_type": "code",
   "execution_count": 14,
   "id": "12650431",
   "metadata": {
    "ExecuteTime": {
     "end_time": "2022-07-20T08:02:30.657422Z",
     "start_time": "2022-07-20T08:02:30.648457Z"
    }
   },
   "outputs": [],
   "source": [
    "lasso_cols = [col for col, coef in zip(X_train.columns, lasso_cv.coef_) if coef]"
   ]
  },
  {
   "cell_type": "code",
   "execution_count": 15,
   "id": "c683313f",
   "metadata": {
    "ExecuteTime": {
     "end_time": "2022-07-20T08:02:30.689421Z",
     "start_time": "2022-07-20T08:02:30.660424Z"
    }
   },
   "outputs": [
    {
     "data": {
      "text/plain": [
       "0.3914652994341199"
      ]
     },
     "execution_count": 15,
     "metadata": {},
     "output_type": "execute_result"
    }
   ],
   "source": [
    "lr.fit(X_train[lasso_cols], y_train)\n",
    "\n",
    "lr.score(X_test[lasso_cols],y_test)"
   ]
  },
  {
   "cell_type": "markdown",
   "id": "e7b9a716",
   "metadata": {},
   "source": [
    "Lasso feature selection increases our models score!"
   ]
  },
  {
   "cell_type": "markdown",
   "id": "4d842d63",
   "metadata": {
    "ExecuteTime": {
     "end_time": "2022-07-09T18:56:18.207747Z",
     "start_time": "2022-07-09T18:56:18.194747Z"
    }
   },
   "source": [
    "# Random Forest"
   ]
  },
  {
   "cell_type": "code",
   "execution_count": 16,
   "id": "7882139f",
   "metadata": {
    "ExecuteTime": {
     "end_time": "2022-07-20T08:02:36.931495Z",
     "start_time": "2022-07-20T08:02:30.692423Z"
    }
   },
   "outputs": [
    {
     "data": {
      "text/plain": [
       "0.3594083911535262"
      ]
     },
     "execution_count": 16,
     "metadata": {},
     "output_type": "execute_result"
    }
   ],
   "source": [
    "# initialize\n",
    "rf = RandomForestRegressor()\n",
    "\n",
    "# fit\n",
    "rf.fit(X_train, y_train)\n",
    "\n",
    "# score\n",
    "rf.score(X_test,y_test)"
   ]
  },
  {
   "cell_type": "markdown",
   "id": "da6ea668",
   "metadata": {},
   "source": [
    "**RUN THIS ONLY IF YOU WANT TO WAIT**"
   ]
  },
  {
   "cell_type": "code",
   "execution_count": 17,
   "id": "2271d9bd",
   "metadata": {
    "ExecuteTime": {
     "end_time": "2022-07-20T08:02:36.949423Z",
     "start_time": "2022-07-20T08:02:36.934507Z"
    }
   },
   "outputs": [],
   "source": [
    "# param_grid = {'max_depth': [3,5,10],\n",
    "#               'min_samples_split': [2,5,10]}\n",
    "\n",
    "# rf = RandomForestRegressor(random_state=1212)\n",
    "\n",
    "# sh = HalvingGridSearchCV(rf, param_grid, cv=5,\n",
    "#                          factor=2, resource='n_estimators',\n",
    "#                          min_resources=50,\n",
    "#                          max_resources=1000, verbose=3)\n",
    "\n",
    "# sh.fit(X_train, y_train)"
   ]
  },
  {
   "cell_type": "code",
   "execution_count": 18,
   "id": "0f36151c",
   "metadata": {
    "ExecuteTime": {
     "end_time": "2022-07-20T08:02:36.977421Z",
     "start_time": "2022-07-20T08:02:36.956513Z"
    },
    "scrolled": true
   },
   "outputs": [],
   "source": [
    "# sh.best_params_"
   ]
  },
  {
   "cell_type": "markdown",
   "id": "128f6d7f",
   "metadata": {},
   "source": [
    "The results from the HGS are {'max_depth': 5, 'min_samples_split': 2, 'n_estimators': 400}"
   ]
  },
  {
   "cell_type": "code",
   "execution_count": 19,
   "id": "c1067b55",
   "metadata": {
    "ExecuteTime": {
     "end_time": "2022-07-20T08:02:47.205502Z",
     "start_time": "2022-07-20T08:02:36.983423Z"
    }
   },
   "outputs": [
    {
     "data": {
      "text/plain": [
       "0.3571247651873789"
      ]
     },
     "execution_count": 19,
     "metadata": {},
     "output_type": "execute_result"
    }
   ],
   "source": [
    "# initialize\n",
    "rf = RandomForestRegressor(n_estimators=400,\n",
    "                           max_depth=5,\n",
    "                           min_samples_split=2)\n",
    "\n",
    "# fit\n",
    "rf.fit(X_train, y_train)\n",
    "\n",
    "# score\n",
    "rf.score(X_test,y_test)"
   ]
  },
  {
   "cell_type": "markdown",
   "id": "b892a299",
   "metadata": {},
   "source": [
    "Our model actually got a lower score after the halving grid search!"
   ]
  },
  {
   "cell_type": "markdown",
   "id": "0316406b",
   "metadata": {},
   "source": [
    "# SVM"
   ]
  },
  {
   "cell_type": "code",
   "execution_count": 20,
   "id": "e3da9c63",
   "metadata": {
    "ExecuteTime": {
     "end_time": "2022-07-20T08:02:47.269423Z",
     "start_time": "2022-07-20T08:02:47.209569Z"
    }
   },
   "outputs": [
    {
     "data": {
      "text/plain": [
       "-0.02602472079240159"
      ]
     },
     "execution_count": 20,
     "metadata": {},
     "output_type": "execute_result"
    }
   ],
   "source": [
    "# initialize\n",
    "svr = SVR()\n",
    "\n",
    "# fit\n",
    "svr.fit(X_train, y_train)\n",
    "\n",
    "# score\n",
    "svr.score(X_test,y_test)"
   ]
  },
  {
   "cell_type": "markdown",
   "id": "65eba5b7",
   "metadata": {},
   "source": [
    "**RUN THIS ONLY IF YOU WANT TO WAIT**"
   ]
  },
  {
   "cell_type": "code",
   "execution_count": 21,
   "id": "84c4ea26",
   "metadata": {
    "ExecuteTime": {
     "end_time": "2022-07-20T08:02:47.285424Z",
     "start_time": "2022-07-20T08:02:47.272436Z"
    },
    "scrolled": true
   },
   "outputs": [],
   "source": [
    "# param_grid = {'epsilon': np.logspace(-3,-1,3),\n",
    "#               'C': np.logspace(-3,-1,3),\n",
    "#               'gamma': ['scale','auto']}\n",
    "\n",
    "# svr = SVR()\n",
    "\n",
    "# gs = GridSearchCV(svr, param_grid, cv=5,\n",
    "#                   verbose=3)\n",
    "\n",
    "# gs.fit(X_train, y_train)"
   ]
  },
  {
   "cell_type": "code",
   "execution_count": 22,
   "id": "665f3795",
   "metadata": {
    "ExecuteTime": {
     "end_time": "2022-07-20T08:02:47.301428Z",
     "start_time": "2022-07-20T08:02:47.287423Z"
    }
   },
   "outputs": [],
   "source": [
    "# gs.best_params_"
   ]
  },
  {
   "cell_type": "markdown",
   "id": "43f0b1e6",
   "metadata": {},
   "source": [
    "Best params were {'C': 0.01, 'epsilon': 0.01, 'gamma': 'scale'}"
   ]
  },
  {
   "cell_type": "code",
   "execution_count": 23,
   "id": "a0aade55",
   "metadata": {
    "ExecuteTime": {
     "end_time": "2022-07-20T08:02:47.682934Z",
     "start_time": "2022-07-20T08:02:47.304428Z"
    }
   },
   "outputs": [
    {
     "data": {
      "text/plain": [
       "0.34022866463091095"
      ]
     },
     "execution_count": 23,
     "metadata": {},
     "output_type": "execute_result"
    }
   ],
   "source": [
    "# initialize\n",
    "svr = SVR(C=0.01, epsilon = 0.01, gamma = 'scale')\n",
    "\n",
    "# fit\n",
    "svr.fit(X_train, y_train)\n",
    "\n",
    "# score\n",
    "svr.score(X_test,y_test)"
   ]
  },
  {
   "cell_type": "markdown",
   "id": "60fe44df",
   "metadata": {},
   "source": [
    "The worst model so far. Grid search did help improve the score though drastically!"
   ]
  },
  {
   "cell_type": "markdown",
   "id": "4cb24296",
   "metadata": {},
   "source": [
    "# Results"
   ]
  },
  {
   "cell_type": "markdown",
   "id": "bbef1e24",
   "metadata": {},
   "source": [
    "The Linear Regression using Lasso Feature Selection scored the highest among the models."
   ]
  },
  {
   "cell_type": "code",
   "execution_count": 24,
   "id": "b678033c",
   "metadata": {
    "ExecuteTime": {
     "end_time": "2022-07-20T08:02:47.762864Z",
     "start_time": "2022-07-20T08:02:47.684864Z"
    }
   },
   "outputs": [],
   "source": [
    "# import our un-standard scaled dataframe to convert standard devs to units if needed\n",
    "\n",
    "batpos_full = pd.read_csv('../data/batpos_full_feature_extracted.csv')"
   ]
  },
  {
   "cell_type": "code",
   "execution_count": 25,
   "id": "1e19c940",
   "metadata": {
    "ExecuteTime": {
     "end_time": "2022-07-20T08:02:47.826874Z",
     "start_time": "2022-07-20T08:02:47.764864Z"
    }
   },
   "outputs": [],
   "source": [
    "# generate std and mean list for our coef df\n",
    "std_lst=[]\n",
    "mean_lst=[]\n",
    "for c in lasso_cols:\n",
    "    try:\n",
    "        std_lst.append(batpos_full[c].describe()['std'])\n",
    "        mean_lst.append(batpos_full[c].describe()['mean'])\n",
    "    except: \n",
    "        std_lst.append(np.nan)\n",
    "        mean_lst.append(np.nan)\n",
    "\n",
    "coef_df = pd.concat([pd.Series(lr.coef_, index=lasso_cols, name='coef'),\n",
    "                     pd.Series(std_lst, index=lasso_cols, name='std'),\n",
    "                     pd.Series(mean_lst, index=lasso_cols, name='mean')],\n",
    "              axis=1).sort_values(by='coef', ascending=False)"
   ]
  },
  {
   "cell_type": "code",
   "execution_count": 26,
   "id": "6fc08758",
   "metadata": {
    "ExecuteTime": {
     "end_time": "2022-07-20T08:02:47.858864Z",
     "start_time": "2022-07-20T08:02:47.829865Z"
    }
   },
   "outputs": [
    {
     "data": {
      "text/html": [
       "<div>\n",
       "<style scoped>\n",
       "    .dataframe tbody tr th:only-of-type {\n",
       "        vertical-align: middle;\n",
       "    }\n",
       "\n",
       "    .dataframe tbody tr th {\n",
       "        vertical-align: top;\n",
       "    }\n",
       "\n",
       "    .dataframe thead th {\n",
       "        text-align: right;\n",
       "    }\n",
       "</style>\n",
       "<table border=\"1\" class=\"dataframe\">\n",
       "  <thead>\n",
       "    <tr style=\"text-align: right;\">\n",
       "      <th></th>\n",
       "      <th>coef</th>\n",
       "      <th>std</th>\n",
       "      <th>mean</th>\n",
       "    </tr>\n",
       "  </thead>\n",
       "  <tbody>\n",
       "    <tr>\n",
       "      <th>waa_pg_1yr</th>\n",
       "      <td>0.003937</td>\n",
       "      <td>0.014730</td>\n",
       "      <td>0.010942</td>\n",
       "    </tr>\n",
       "    <tr>\n",
       "      <th>waa_pg_2yr</th>\n",
       "      <td>0.003771</td>\n",
       "      <td>0.014291</td>\n",
       "      <td>0.011743</td>\n",
       "    </tr>\n",
       "    <tr>\n",
       "      <th>waa_pg_3yr</th>\n",
       "      <td>0.001398</td>\n",
       "      <td>0.013975</td>\n",
       "      <td>0.012090</td>\n",
       "    </tr>\n",
       "    <tr>\n",
       "      <th>runs_bat_pg_3yr</th>\n",
       "      <td>0.001133</td>\n",
       "      <td>0.129549</td>\n",
       "      <td>0.097450</td>\n",
       "    </tr>\n",
       "    <tr>\n",
       "      <th>runs_bat_pg_1yr</th>\n",
       "      <td>0.000713</td>\n",
       "      <td>0.132802</td>\n",
       "      <td>0.096474</td>\n",
       "    </tr>\n",
       "    <tr>\n",
       "      <th>g_c_share_1yr</th>\n",
       "      <td>0.000685</td>\n",
       "      <td>0.179132</td>\n",
       "      <td>0.036409</td>\n",
       "    </tr>\n",
       "    <tr>\n",
       "      <th>runs_dp_pg_2yr</th>\n",
       "      <td>0.000659</td>\n",
       "      <td>0.010386</td>\n",
       "      <td>-0.000259</td>\n",
       "    </tr>\n",
       "    <tr>\n",
       "      <th>runs_br_pg_1yr</th>\n",
       "      <td>0.000458</td>\n",
       "      <td>0.020036</td>\n",
       "      <td>0.006157</td>\n",
       "    </tr>\n",
       "    <tr>\n",
       "      <th>pc_3</th>\n",
       "      <td>0.000078</td>\n",
       "      <td>NaN</td>\n",
       "      <td>NaN</td>\n",
       "    </tr>\n",
       "    <tr>\n",
       "      <th>pc_0</th>\n",
       "      <td>-0.000271</td>\n",
       "      <td>NaN</td>\n",
       "      <td>NaN</td>\n",
       "    </tr>\n",
       "    <tr>\n",
       "      <th>g_dh_share_1yr</th>\n",
       "      <td>-0.000386</td>\n",
       "      <td>0.141955</td>\n",
       "      <td>0.041206</td>\n",
       "    </tr>\n",
       "    <tr>\n",
       "      <th>team_gp_3yr</th>\n",
       "      <td>-0.000392</td>\n",
       "      <td>9.657230</td>\n",
       "      <td>159.641791</td>\n",
       "    </tr>\n",
       "    <tr>\n",
       "      <th>inn_pg_2yr</th>\n",
       "      <td>-0.000655</td>\n",
       "      <td>0.279957</td>\n",
       "      <td>8.578830</td>\n",
       "    </tr>\n",
       "    <tr>\n",
       "      <th>age</th>\n",
       "      <td>-0.002046</td>\n",
       "      <td>3.275586</td>\n",
       "      <td>30.292898</td>\n",
       "    </tr>\n",
       "  </tbody>\n",
       "</table>\n",
       "</div>"
      ],
      "text/plain": [
       "                     coef       std        mean\n",
       "waa_pg_1yr       0.003937  0.014730    0.010942\n",
       "waa_pg_2yr       0.003771  0.014291    0.011743\n",
       "waa_pg_3yr       0.001398  0.013975    0.012090\n",
       "runs_bat_pg_3yr  0.001133  0.129549    0.097450\n",
       "runs_bat_pg_1yr  0.000713  0.132802    0.096474\n",
       "g_c_share_1yr    0.000685  0.179132    0.036409\n",
       "runs_dp_pg_2yr   0.000659  0.010386   -0.000259\n",
       "runs_br_pg_1yr   0.000458  0.020036    0.006157\n",
       "pc_3             0.000078       NaN         NaN\n",
       "pc_0            -0.000271       NaN         NaN\n",
       "g_dh_share_1yr  -0.000386  0.141955    0.041206\n",
       "team_gp_3yr     -0.000392  9.657230  159.641791\n",
       "inn_pg_2yr      -0.000655  0.279957    8.578830\n",
       "age             -0.002046  3.275586   30.292898"
      ]
     },
     "execution_count": 26,
     "metadata": {},
     "output_type": "execute_result"
    }
   ],
   "source": [
    "coef_df"
   ]
  },
  {
   "cell_type": "markdown",
   "id": "442fbaaa",
   "metadata": {},
   "source": [
    "The most important features by far are the waa_pg_\\*_yr variables. They have similar standard deviations to one another so it is fair to say that `waa_pg_1yr` is 1.2 times more impactful than `waa_pg_2yr` and 1.5 times more than `waa_pg_3yr`.\n",
    "\n",
    "`age` is the most negatively impactful feature with a per-year effect around the effect of 0.18 standard deviations of `waa_pg_1yr`"
   ]
  },
  {
   "cell_type": "code",
   "execution_count": 27,
   "id": "d5e4c6db",
   "metadata": {
    "ExecuteTime": {
     "end_time": "2022-07-20T08:02:48.194927Z",
     "start_time": "2022-07-20T08:02:47.864866Z"
    }
   },
   "outputs": [
    {
     "data": {
      "image/png": "[encoded data removed]",
      "text/plain": [
       "<Figure size 1080x576 with 1 Axes>"
      ]
     },
     "metadata": {
      "needs_background": "light"
     },
     "output_type": "display_data"
    }
   ],
   "source": [
    "predictions  =  lr.predict(X_test[lasso_cols])\n",
    "\n",
    "# Plot the model\n",
    "figure, ax = plt.subplots(1,1,figsize=(15,8))\n",
    "\n",
    "\n",
    "ax.scatter(predictions, y_test, alpha = 0.2, color='teal', label = 'WAA per Game')\n",
    "ax.set_title('Model Performance\\n')\n",
    "ax.set_xlabel(\"Predicted Values\")\n",
    "ax.set_ylabel(\"Actual Values\")\n",
    "add_identity(ax, color = 'r', ls='--')\n",
    "ax.legend();"
   ]
  },
  {
   "cell_type": "markdown",
   "id": "2e37a594",
   "metadata": {},
   "source": [
    "**Observation** This is very blobby unfortunately. A model score of 39% does not make this completely unsurprising. Some missed signal around predicted 0.02 to 0.03 and actual 0.04 and 0.06."
   ]
  },
  {
   "cell_type": "markdown",
   "id": "4de3e444",
   "metadata": {},
   "source": [
    "# Conclusions"
   ]
  },
  {
   "cell_type": "markdown",
   "id": "7baf194a",
   "metadata": {},
   "source": [
    "So many things can be added to this model to try and capture additional noise. The most surprising thing was the poor performance of the RDF models. It would seem that the previous 3 years of a player's career would be a good indicator for future performance, but it just wasn't the case. Looking deeper into the nuts and bolts of the normalizing that Baseball-Reference does could also help tighten the model--there may be more at play with the league environmental variables beyond just the average amount of runs being scored per game. Applying more statsitics could also help; there may be some signal captured by including more traditional metrics like RBIs and HRs.\n",
    "\n",
    "Future work on this would include adding pitchers as well as adding the ability to forecast beyond one year. This would allow for evaluation of players over a more traditionally-lengthed contract like 2-3 years."
   ]
  }
 ],
 "metadata": {
  "kernelspec": {
   "display_name": "Python 3 (ipykernel)",
   "language": "python",
   "name": "python3"
  },
  "language_info": {
   "codemirror_mode": {
    "name": "ipython",
    "version": 3
   },
   "file_extension": ".py",
   "mimetype": "text/x-python",
   "name": "python",
   "nbconvert_exporter": "python",
   "pygments_lexer": "ipython3",
   "version": "3.9.12"
  },
  "toc": {
   "base_numbering": 1,
   "nav_menu": {},
   "number_sections": false,
   "sideBar": true,
   "skip_h1_title": false,
   "title_cell": "Table of Contents",
   "title_sidebar": "Contents",
   "toc_cell": false,
   "toc_position": {},
   "toc_section_display": true,
   "toc_window_display": false
  }
 },
 "nbformat": 4,
 "nbformat_minor": 5
}
