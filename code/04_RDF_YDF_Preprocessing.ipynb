{
 "cells": [
  {
   "cell_type": "markdown",
   "id": "474a5308",
   "metadata": {},
   "source": [
    "# Imports"
   ]
  },
  {
   "cell_type": "code",
   "execution_count": 66,
   "id": "013dfaba",
   "metadata": {
    "ExecuteTime": {
     "end_time": "2022-07-14T18:46:32.862970Z",
     "start_time": "2022-07-14T18:46:32.855943Z"
    }
   },
   "outputs": [],
   "source": [
    "import pandas as pd\n",
    "import numpy as np\n",
    "np.random.seed(2121)\n",
    "\n",
    "import matplotlib.pyplot as plt\n",
    "\n",
    "from sklearn.model_selection import train_test_split\n",
    "from sklearn.preprocessing import StandardScaler\n",
    "from sklearn.feature_selection import RFECV\n",
    "from sklearn.linear_model import BayesianRidge\n",
    "from sklearn.decomposition import PCA\n",
    "from sklearn.pipeline import Pipeline"
   ]
  },
  {
   "cell_type": "code",
   "execution_count": 67,
   "id": "040658af",
   "metadata": {
    "ExecuteTime": {
     "end_time": "2022-07-14T18:46:33.214109Z",
     "start_time": "2022-07-14T18:46:33.050103Z"
    }
   },
   "outputs": [],
   "source": [
    "rdf = pd.read_csv('../data/rdf.csv')\n",
    "ydf = pd.read_csv('../data/ydf.csv')"
   ]
  },
  {
   "cell_type": "code",
   "execution_count": 68,
   "id": "395ef5a5",
   "metadata": {
    "ExecuteTime": {
     "end_time": "2022-07-14T18:46:33.230106Z",
     "start_time": "2022-07-14T18:46:33.218103Z"
    }
   },
   "outputs": [],
   "source": [
    "rdf.set_index('Unnamed: 0', inplace=True)\n",
    "rdf.index.name = None\n",
    "\n",
    "ydf.set_index('Unnamed: 0', inplace=True)\n",
    "ydf.index.name = None"
   ]
  },
  {
   "cell_type": "code",
   "execution_count": 69,
   "id": "6c68ad24",
   "metadata": {
    "ExecuteTime": {
     "end_time": "2022-07-14T18:46:33.342117Z",
     "start_time": "2022-07-14T18:46:33.326103Z"
    }
   },
   "outputs": [],
   "source": [
    "rdf.drop(['name_common', 'player_id'], axis=1, inplace=True)\n",
    "ydf.drop(['name_common', 'player_id'], axis=1, inplace=True)"
   ]
  },
  {
   "cell_type": "markdown",
   "id": "84e1522d",
   "metadata": {},
   "source": [
    "# Train-Test Split"
   ]
  },
  {
   "cell_type": "code",
   "execution_count": 70,
   "id": "96cfda8d",
   "metadata": {
    "ExecuteTime": {
     "end_time": "2022-07-14T18:46:33.595991Z",
     "start_time": "2022-07-14T18:46:33.586961Z"
    }
   },
   "outputs": [],
   "source": [
    "rdf_target = 'runs_total_pg'\n",
    "ydf_target = 'opprpg'"
   ]
  },
  {
   "cell_type": "code",
   "execution_count": 71,
   "id": "fd18af3b",
   "metadata": {
    "ExecuteTime": {
     "end_time": "2022-07-14T18:46:34.102109Z",
     "start_time": "2022-07-14T18:46:34.078111Z"
    }
   },
   "outputs": [],
   "source": [
    "rdf_y = rdf[rdf_target]\n",
    "rdf_X = rdf[[col for col in rdf.columns if col != rdf_target]]\n",
    "\n",
    "ydf_y = ydf[ydf_target]\n",
    "ydf_X = ydf[[col for col in ydf.columns if col != ydf_target]]"
   ]
  },
  {
   "cell_type": "code",
   "execution_count": 72,
   "id": "7b1ec77a",
   "metadata": {
    "ExecuteTime": {
     "end_time": "2022-07-14T18:46:34.260222Z",
     "start_time": "2022-07-14T18:46:34.239294Z"
    }
   },
   "outputs": [],
   "source": [
    "rdf_X_train, rdf_X_test, rdf_y_train, rdf_y_test,\\\n",
    "ydf_X_train, ydf_X_test, ydf_y_train, ydf_y_test =\\\n",
    "    train_test_split(rdf_X, rdf_y,\n",
    "                     ydf_X, ydf_y,\n",
    "                     test_size=0.2,\n",
    "                     shuffle=True,\n",
    "                     random_state = 1212)"
   ]
  },
  {
   "cell_type": "markdown",
   "id": "8bce97fd",
   "metadata": {},
   "source": [
    "## Standard Scale"
   ]
  },
  {
   "cell_type": "code",
   "execution_count": 73,
   "id": "7ce54b35",
   "metadata": {
    "ExecuteTime": {
     "end_time": "2022-07-14T18:46:34.576811Z",
     "start_time": "2022-07-14T18:46:34.525811Z"
    }
   },
   "outputs": [],
   "source": [
    "# initialize\n",
    "ss = StandardScaler()\n",
    "\n",
    "# fit on Train\n",
    "rdf_X_train_ss = pd.DataFrame(ss.fit_transform(rdf_X_train),\n",
    "                              columns = rdf_X_train.columns,\n",
    "                              index = rdf_X_train.index)\n",
    "\n",
    "# transform test\n",
    "rdf_X_test_ss = pd.DataFrame(ss.transform(rdf_X_test),\n",
    "                         columns = rdf_X_test.columns,\n",
    "                         index = rdf_X_test.index)\n",
    "\n",
    "# fit on Train\n",
    "ydf_X_train_ss = pd.DataFrame(ss.fit_transform(ydf_X_train),\n",
    "                              columns = ydf_X_train.columns,\n",
    "                              index = ydf_X_train.index)\n",
    "\n",
    "# transform test\n",
    "ydf_X_test_ss = pd.DataFrame(ss.transform(ydf_X_test),\n",
    "                         columns = ydf_X_test.columns,\n",
    "                         index = ydf_X_test.index)"
   ]
  },
  {
   "cell_type": "markdown",
   "id": "770be2fd",
   "metadata": {},
   "source": [
    "# RFE"
   ]
  },
  {
   "cell_type": "code",
   "execution_count": 94,
   "id": "688602d3",
   "metadata": {
    "ExecuteTime": {
     "end_time": "2022-07-14T18:58:51.419547Z",
     "start_time": "2022-07-14T18:58:47.156630Z"
    }
   },
   "outputs": [
    {
     "name": "stdout",
     "output_type": "stream",
     "text": [
      "# of Columns Kept: 20\n",
      "# of Columns Dropped: 42\n"
     ]
    }
   ],
   "source": [
    "rfecv = RFECV(\n",
    "            estimator=BayesianRidge(),\n",
    "            step = 1,\n",
    "            cv = 5,\n",
    "            scoring='r2',\n",
    "            min_features_to_select = 20)\n",
    "\n",
    "rfecv.fit(rdf_X_train_ss,rdf_y_train)\n",
    "\n",
    "rdf_cols_to_keep = rdf_X_train_ss.T[rfecv.ranking_==1].T.columns\n",
    "rdf_cols_to_pc = rdf_X_train_ss.T[rfecv.ranking_!=1].T.columns\n",
    "\n",
    "print(f'# of Columns Kept: {len(rdf_cols_to_keep)}')\n",
    "print(f'# of Columns Dropped: {len(rdf_cols_to_pc)}')"
   ]
  },
  {
   "cell_type": "code",
   "execution_count": 99,
   "id": "67d27dfa",
   "metadata": {
    "ExecuteTime": {
     "end_time": "2022-07-14T20:19:26.840272Z",
     "start_time": "2022-07-14T20:19:26.620500Z"
    }
   },
   "outputs": [
    {
     "data": {
      "image/png": "[encoded data removed]",
      "text/plain": [
       "<Figure size 432x288 with 1 Axes>"
      ]
     },
     "metadata": {
      "needs_background": "light"
     },
     "output_type": "display_data"
    }
   ],
   "source": [
    "# Plot number of features VS. cross-validation scores\n",
    "plt.figure()\n",
    "plt.xlabel(\"Number of features selected\")\n",
    "plt.ylabel(\"Cross validation score (accuracy)\")\n",
    "plt.plot(\n",
    "    range(1, len(rfecv.cv_results_['mean_test_score'])+1),\n",
    "    rfecv.cv_results_['mean_test_score'],\n",
    ")\n",
    "plt.ylim(0.2,0.4)\n",
    "plt.show()"
   ]
  },
  {
   "cell_type": "markdown",
   "id": "4f09fa08",
   "metadata": {},
   "source": [
    "# PCA"
   ]
  },
  {
   "cell_type": "code",
   "execution_count": 112,
   "id": "7fda27b7",
   "metadata": {
    "ExecuteTime": {
     "end_time": "2022-07-14T20:25:36.796966Z",
     "start_time": "2022-07-14T20:25:36.741967Z"
    }
   },
   "outputs": [
    {
     "name": "stdout",
     "output_type": "stream",
     "text": [
      "PC 0: 7.54 --> 17.95%\n",
      "PC 1: 4.37 --> 10.40%\n",
      "PC 2: 3.60 --> 8.57%\n",
      "PC 3: 3.24 --> 7.71%\n",
      "PC 4: 3.04 --> 7.23%\n"
     ]
    }
   ],
   "source": [
    "pca = PCA().fit(rdf_X_train_ss[rdf_cols_to_pc])\n",
    "\n",
    "for i, l in enumerate(pca.explained_variance_[:5]):\n",
    "    print('PC {}: {:.2f} --> {:.2f}%'.format(i, l,\n",
    "                                             l * 100 / sum(pca.explained_variance_)))"
   ]
  },
  {
   "cell_type": "code",
   "execution_count": 113,
   "id": "7a91e437",
   "metadata": {
    "ExecuteTime": {
     "end_time": "2022-07-14T20:25:38.562380Z",
     "start_time": "2022-07-14T20:25:38.269717Z"
    }
   },
   "outputs": [
    {
     "data": {
      "image/png": "[encoded data removed]",
      "text/plain": [
       "<Figure size 648x504 with 1 Axes>"
      ]
     },
     "metadata": {
      "needs_background": "light"
     },
     "output_type": "display_data"
    }
   ],
   "source": [
    "cum_var_exp = np.cumsum(pca.explained_variance_ratio_) * 100\n",
    "plt.figure(figsize=(9,7))\n",
    "component_number = range(1, len(rdf_cols_to_pc)+1)\n",
    "plt.plot(component_number, cum_var_exp, lw=7)\n",
    "plt.axhline(y=0, linewidth=5, color='grey', ls='dashed')\n",
    "plt.axhline(y=100, linewidth=3, color='grey', ls='dashed')\n",
    "ax = plt.gca()\n",
    "ax.set_xlim([1,19])\n",
    "ax.set_ylim([-5,105])\n",
    "ax.set_ylabel('cumulative variance explained', fontsize=16)\n",
    "ax.set_xlabel('component #', fontsize=16)  \n",
    "ax.set_title('component vs cumulative variance explained\\n', fontsize=20)\n",
    "ax.axhline(y=np.cumsum(pca.explained_variance_ratio_)[4]*100, c='r', label='Intersection when x=5')\n",
    "ax.axvline(x=5,  c='r')\n",
    "ax.legend();"
   ]
  },
  {
   "cell_type": "code",
   "execution_count": 116,
   "id": "32126008",
   "metadata": {
    "ExecuteTime": {
     "end_time": "2022-07-14T20:27:03.965049Z",
     "start_time": "2022-07-14T20:27:03.933050Z"
    }
   },
   "outputs": [],
   "source": [
    "rdf_pca_train = pd.DataFrame(pca.transform(rdf_X_train_ss[rdf_cols_to_pc])[:,:5],\n",
    "                     columns = ['pc_' + str(i) for i in range(5)],\n",
    "                     index = rdf_X_train_ss.index)\n",
    "\n",
    "rdf_pca_test = pd.DataFrame(pca.transform(rdf_X_test_ss[rdf_cols_to_pc])[:,:5],\n",
    "                     columns = ['pc_' + str(i) for i in range(5)],\n",
    "                     index = rdf_X_test_ss.index)"
   ]
  },
  {
   "cell_type": "code",
   "execution_count": 117,
   "id": "b2632688",
   "metadata": {
    "ExecuteTime": {
     "end_time": "2022-07-14T20:27:54.284038Z",
     "start_time": "2022-07-14T20:27:54.262035Z"
    }
   },
   "outputs": [],
   "source": [
    "rdf_X_train_ss = pd.concat([rdf_X_train_ss[rdf_cols_to_keep], rdf_pca_train], axis=1)\n",
    "rdf_X_test_ss = pd.concat([rdf_X_test_ss[rdf_cols_to_keep], rdf_pca_test], axis=1)"
   ]
  },
  {
   "cell_type": "markdown",
   "id": "fffa9fe4",
   "metadata": {},
   "source": [
    "# Exports"
   ]
  },
  {
   "cell_type": "code",
   "execution_count": 119,
   "id": "19fe9be2",
   "metadata": {
    "ExecuteTime": {
     "end_time": "2022-07-14T20:29:57.034138Z",
     "start_time": "2022-07-14T20:29:56.437218Z"
    }
   },
   "outputs": [],
   "source": [
    "rdf_X_train_ss.to_csv('../data/rdf_x_train_preprocessed.csv')\n",
    "rdf_y_train.to_csv('../data/rdf_y_train_preprocessed.csv')\n",
    "\n",
    "rdf_X_test_ss.to_csv('../data/rdf_x_test_preprocessed.csv')\n",
    "rdf_y_test.to_csv('../data/rdf_y_test_preprocessed.csv')\n",
    "\n",
    "ydf_X_train_ss.to_csv('../data/ydf_x_train_preprocessed.csv')\n",
    "ydf_y_train.to_csv('../data/ydf_y_train_preprocessed.csv')\n",
    "\n",
    "ydf_X_test_ss.to_csv('../data/ydf_x_test_preprocessed.csv')\n",
    "ydf_y_test.to_csv('../data/ydf_y_test_preprocessed.csv')"
   ]
  }
 ],
 "metadata": {
  "kernelspec": {
   "display_name": "Python 3 (ipykernel)",
   "language": "python",
   "name": "python3"
  },
  "language_info": {
   "codemirror_mode": {
    "name": "ipython",
    "version": 3
   },
   "file_extension": ".py",
   "mimetype": "text/x-python",
   "name": "python",
   "nbconvert_exporter": "python",
   "pygments_lexer": "ipython3",
   "version": "3.9.12"
  },
  "toc": {
   "base_numbering": 1,
   "nav_menu": {},
   "number_sections": false,
   "sideBar": true,
   "skip_h1_title": false,
   "title_cell": "Table of Contents",
   "title_sidebar": "Contents",
   "toc_cell": false,
   "toc_position": {},
   "toc_section_display": true,
   "toc_window_display": false
  }
 },
 "nbformat": 4,
 "nbformat_minor": 5
}
