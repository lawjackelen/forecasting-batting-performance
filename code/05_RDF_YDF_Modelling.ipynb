{
 "cells": [
  {
   "cell_type": "markdown",
   "id": "b677737f",
   "metadata": {},
   "source": [
    "# Imports"
   ]
  },
  {
   "cell_type": "code",
   "execution_count": 1,
   "id": "a3c062ac",
   "metadata": {
    "ExecuteTime": {
     "end_time": "2022-07-14T23:17:07.930597Z",
     "start_time": "2022-07-14T23:17:05.892370Z"
    }
   },
   "outputs": [],
   "source": [
    "import pandas as pd\n",
    "import numpy as np\n",
    "np.random.seed(2121)\n",
    "\n",
    "from sklearn.linear_model import LinearRegression, LassoCV\n",
    "from sklearn.model_selection import GridSearchCV, cross_val_score\n",
    "from sklearn.ensemble import RandomForestRegressor\n",
    "from sklearn.svm import SVR"
   ]
  },
  {
   "cell_type": "code",
   "execution_count": 2,
   "id": "ef686586",
   "metadata": {
    "ExecuteTime": {
     "end_time": "2022-07-14T23:17:08.545486Z",
     "start_time": "2022-07-14T23:17:08.379513Z"
    }
   },
   "outputs": [],
   "source": [
    "# import files\n",
    "rdf_X_train = pd.read_csv('../data/rdf_x_train_preprocessed.csv')\n",
    "rdf_y_train = pd.read_csv('../data/rdf_y_train_preprocessed.csv')\n",
    "\n",
    "rdf_X_test = pd.read_csv('../data/rdf_x_test_preprocessed.csv')\n",
    "rdf_y_test = pd.read_csv('../data/rdf_y_test_preprocessed.csv')\n",
    "\n",
    "ydf_X_train = pd.read_csv('../data/ydf_x_train_preprocessed.csv')\n",
    "ydf_y_train = pd.read_csv('../data/ydf_y_train_preprocessed.csv')\n",
    "\n",
    "ydf_X_test = pd.read_csv('../data/ydf_x_test_preprocessed.csv')\n",
    "ydf_y_test = pd.read_csv('../data/ydf_y_test_preprocessed.csv')"
   ]
  },
  {
   "cell_type": "code",
   "execution_count": 3,
   "id": "b8e42192",
   "metadata": {
    "ExecuteTime": {
     "end_time": "2022-07-14T23:17:08.702909Z",
     "start_time": "2022-07-14T23:17:08.681834Z"
    }
   },
   "outputs": [],
   "source": [
    "# set index and clear index name\n",
    "for i in [rdf_X_train,rdf_y_train,rdf_X_test,rdf_y_test,\\\n",
    "          ydf_X_train,ydf_y_train,ydf_X_test,ydf_y_test]:\n",
    "    \n",
    "    i.set_index('Unnamed: 0', inplace=True)\n",
    "    i.index.name=None"
   ]
  },
  {
   "cell_type": "markdown",
   "id": "17c26085",
   "metadata": {},
   "source": [
    "# Linear Regression"
   ]
  },
  {
   "cell_type": "markdown",
   "id": "2606179f",
   "metadata": {},
   "source": [
    "## Linear Regression (no regularization)"
   ]
  },
  {
   "cell_type": "code",
   "execution_count": 4,
   "id": "03628ae9",
   "metadata": {
    "ExecuteTime": {
     "end_time": "2022-07-14T23:17:10.529497Z",
     "start_time": "2022-07-14T23:17:10.467497Z"
    }
   },
   "outputs": [
    {
     "name": "stdout",
     "output_type": "stream",
     "text": [
      "Train Score: 0.3709\n",
      "Test Score: 0.3486\n"
     ]
    }
   ],
   "source": [
    "# initialize\n",
    "lr_rdf = LinearRegression(n_jobs=-1)\n",
    "\n",
    "# fit\n",
    "lr_rdf.fit(rdf_X_train, rdf_y_train)\n",
    "\n",
    "# score\n",
    "print(f'Train Score: {lr_rdf.score(rdf_X_train, rdf_y_train):.4f}')\n",
    "print(f'Test Score: {lr_rdf.score(rdf_X_test, rdf_y_test):.4f}')"
   ]
  },
  {
   "cell_type": "code",
   "execution_count": 5,
   "id": "ebef9fe2",
   "metadata": {
    "ExecuteTime": {
     "end_time": "2022-07-14T23:17:11.301476Z",
     "start_time": "2022-07-14T23:17:11.275477Z"
    }
   },
   "outputs": [
    {
     "name": "stdout",
     "output_type": "stream",
     "text": [
      "Train Score: 0.5910\n",
      "Test Score: 0.5893\n"
     ]
    }
   ],
   "source": [
    "# initialize\n",
    "lr_ydf = LinearRegression(n_jobs=-1)\n",
    "\n",
    "# fit\n",
    "lr_ydf.fit(ydf_X_train, ydf_y_train)\n",
    "\n",
    "# score\n",
    "print(f'Train Score: {lr_ydf.score(ydf_X_train, ydf_y_train):.4f}')\n",
    "print(f'Test Score: {lr_ydf.score(ydf_X_test, ydf_y_test):.4f}')"
   ]
  },
  {
   "cell_type": "markdown",
   "id": "86062a18",
   "metadata": {},
   "source": [
    "## Linear Regression (Lasso)"
   ]
  },
  {
   "cell_type": "code",
   "execution_count": 6,
   "id": "dc53ea4a",
   "metadata": {
    "ExecuteTime": {
     "end_time": "2022-07-14T23:17:14.212034Z",
     "start_time": "2022-07-14T23:17:13.930033Z"
    }
   },
   "outputs": [
    {
     "name": "stdout",
     "output_type": "stream",
     "text": [
      "Best Alpha: 0.0008\n",
      "Train Score: 0.3692\n",
      "Test Score: 0.3474\n"
     ]
    }
   ],
   "source": [
    "lasso_cv_rdf = LassoCV(n_jobs=-1,\n",
    "                       cv=5,\n",
    "                       max_iter=10000)\n",
    "\n",
    "lasso_cv_rdf.fit(rdf_X_train, rdf_y_train.values.ravel())\n",
    "\n",
    "print(f'Best Alpha: {lasso_cv_rdf.alpha_:.4f}')\n",
    "print(f'Train Score: {lasso_cv_rdf.score(rdf_X_train, rdf_y_train):.4f}')\n",
    "print(f'Test Score: {lasso_cv_rdf.score(rdf_X_test, rdf_y_test):.4f}')"
   ]
  },
  {
   "cell_type": "code",
   "execution_count": 7,
   "id": "ff1adbfe",
   "metadata": {
    "ExecuteTime": {
     "end_time": "2022-07-14T23:17:15.407595Z",
     "start_time": "2022-07-14T23:17:15.244080Z"
    }
   },
   "outputs": [
    {
     "name": "stdout",
     "output_type": "stream",
     "text": [
      "Best Alpha: 0.0003\n",
      "Train Score: 0.5910\n",
      "Test Score: 0.5893\n"
     ]
    }
   ],
   "source": [
    "lasso_cv_ydf = LassoCV(n_jobs=-1,\n",
    "                       cv=5)\n",
    "\n",
    "lasso_cv_ydf.fit(ydf_X_train, ydf_y_train.values.ravel())\n",
    "\n",
    "print(f'Best Alpha: {lasso_cv_ydf.alpha_:.4f}')\n",
    "print(f'Train Score: {lasso_cv_ydf.score(ydf_X_train, ydf_y_train):.4f}')\n",
    "print(f'Test Score: {lasso_cv_ydf.score(ydf_X_test, ydf_y_test):.4f}')"
   ]
  },
  {
   "cell_type": "markdown",
   "id": "81ae0149",
   "metadata": {},
   "source": [
    "# Random Forest"
   ]
  },
  {
   "cell_type": "code",
   "execution_count": 60,
   "id": "71e92f18",
   "metadata": {
    "ExecuteTime": {
     "end_time": "2022-07-14T21:48:22.873408Z",
     "start_time": "2022-07-14T21:48:22.863393Z"
    }
   },
   "outputs": [],
   "source": [
    "param_grid = {\n",
    "    'max_features': [5,10,15,25],\n",
    "    'max_depth': [3,5,10,None],\n",
    "    'min_samples_leaf': [1,2,3,5]}"
   ]
  },
  {
   "cell_type": "code",
   "execution_count": 61,
   "id": "78dfbff4",
   "metadata": {
    "ExecuteTime": {
     "end_time": "2022-07-14T21:48:23.286710Z",
     "start_time": "2022-07-14T21:48:23.270709Z"
    }
   },
   "outputs": [],
   "source": [
    "rf_rdf = RandomForestRegressor(n_jobs=-1,\n",
    "                               n_estimators=100,\n",
    "                               random_state=1212)"
   ]
  },
  {
   "cell_type": "code",
   "execution_count": 62,
   "id": "077f682a",
   "metadata": {
    "ExecuteTime": {
     "end_time": "2022-07-14T21:48:24.091728Z",
     "start_time": "2022-07-14T21:48:24.078717Z"
    }
   },
   "outputs": [],
   "source": [
    "clf = GridSearchCV(rf_rdf, param_grid, verbose=3)"
   ]
  },
  {
   "cell_type": "code",
   "execution_count": 63,
   "id": "68d2727f",
   "metadata": {
    "ExecuteTime": {
     "end_time": "2022-07-14T21:51:42.433938Z",
     "start_time": "2022-07-14T21:48:24.537368Z"
    }
   },
   "outputs": [
    {
     "name": "stdout",
     "output_type": "stream",
     "text": [
      "Fitting 5 folds for each of 64 candidates, totalling 320 fits\n",
      "[CV 1/5] END max_depth=3, max_features=5, min_samples_leaf=1;, score=0.208 total time=   6.1s\n",
      "[CV 2/5] END max_depth=3, max_features=5, min_samples_leaf=1;, score=0.217 total time=   0.2s\n",
      "[CV 3/5] END max_depth=3, max_features=5, min_samples_leaf=1;, score=0.225 total time=   0.2s\n",
      "[CV 4/5] END max_depth=3, max_features=5, min_samples_leaf=1;, score=0.219 total time=   0.2s\n",
      "[CV 5/5] END max_depth=3, max_features=5, min_samples_leaf=1;, score=0.219 total time=   0.2s\n",
      "[CV 1/5] END max_depth=3, max_features=5, min_samples_leaf=2;, score=0.208 total time=   0.1s\n",
      "[CV 2/5] END max_depth=3, max_features=5, min_samples_leaf=2;, score=0.218 total time=   0.2s\n",
      "[CV 3/5] END max_depth=3, max_features=5, min_samples_leaf=2;, score=0.226 total time=   0.2s\n",
      "[CV 4/5] END max_depth=3, max_features=5, min_samples_leaf=2;, score=0.219 total time=   0.1s\n",
      "[CV 5/5] END max_depth=3, max_features=5, min_samples_leaf=2;, score=0.219 total time=   0.2s\n",
      "[CV 1/5] END max_depth=3, max_features=5, min_samples_leaf=3;, score=0.208 total time=   0.1s\n",
      "[CV 2/5] END max_depth=3, max_features=5, min_samples_leaf=3;, score=0.218 total time=   0.2s\n",
      "[CV 3/5] END max_depth=3, max_features=5, min_samples_leaf=3;, score=0.226 total time=   0.1s\n",
      "[CV 4/5] END max_depth=3, max_features=5, min_samples_leaf=3;, score=0.219 total time=   0.2s\n",
      "[CV 5/5] END max_depth=3, max_features=5, min_samples_leaf=3;, score=0.219 total time=   0.2s\n",
      "[CV 1/5] END max_depth=3, max_features=5, min_samples_leaf=5;, score=0.208 total time=   0.2s\n",
      "[CV 2/5] END max_depth=3, max_features=5, min_samples_leaf=5;, score=0.218 total time=   0.2s\n",
      "[CV 3/5] END max_depth=3, max_features=5, min_samples_leaf=5;, score=0.226 total time=   0.2s\n",
      "[CV 4/5] END max_depth=3, max_features=5, min_samples_leaf=5;, score=0.219 total time=   0.2s\n",
      "[CV 5/5] END max_depth=3, max_features=5, min_samples_leaf=5;, score=0.219 total time=   0.2s\n",
      "[CV 1/5] END max_depth=3, max_features=10, min_samples_leaf=1;, score=0.224 total time=   0.2s\n",
      "[CV 2/5] END max_depth=3, max_features=10, min_samples_leaf=1;, score=0.236 total time=   0.2s\n",
      "[CV 3/5] END max_depth=3, max_features=10, min_samples_leaf=1;, score=0.239 total time=   0.2s\n",
      "[CV 4/5] END max_depth=3, max_features=10, min_samples_leaf=1;, score=0.243 total time=   0.2s\n",
      "[CV 5/5] END max_depth=3, max_features=10, min_samples_leaf=1;, score=0.255 total time=   0.2s\n",
      "[CV 1/5] END max_depth=3, max_features=10, min_samples_leaf=2;, score=0.224 total time=   0.2s\n",
      "[CV 2/5] END max_depth=3, max_features=10, min_samples_leaf=2;, score=0.236 total time=   0.2s\n",
      "[CV 3/5] END max_depth=3, max_features=10, min_samples_leaf=2;, score=0.239 total time=   0.2s\n",
      "[CV 4/5] END max_depth=3, max_features=10, min_samples_leaf=2;, score=0.243 total time=   0.2s\n",
      "[CV 5/5] END max_depth=3, max_features=10, min_samples_leaf=2;, score=0.255 total time=   0.2s\n",
      "[CV 1/5] END max_depth=3, max_features=10, min_samples_leaf=3;, score=0.223 total time=   0.2s\n",
      "[CV 2/5] END max_depth=3, max_features=10, min_samples_leaf=3;, score=0.237 total time=   0.2s\n",
      "[CV 3/5] END max_depth=3, max_features=10, min_samples_leaf=3;, score=0.239 total time=   0.2s\n",
      "[CV 4/5] END max_depth=3, max_features=10, min_samples_leaf=3;, score=0.243 total time=   0.2s\n",
      "[CV 5/5] END max_depth=3, max_features=10, min_samples_leaf=3;, score=0.255 total time=   0.2s\n",
      "[CV 1/5] END max_depth=3, max_features=10, min_samples_leaf=5;, score=0.224 total time=   0.2s\n",
      "[CV 2/5] END max_depth=3, max_features=10, min_samples_leaf=5;, score=0.237 total time=   0.2s\n",
      "[CV 3/5] END max_depth=3, max_features=10, min_samples_leaf=5;, score=0.239 total time=   0.2s\n",
      "[CV 4/5] END max_depth=3, max_features=10, min_samples_leaf=5;, score=0.243 total time=   0.2s\n",
      "[CV 5/5] END max_depth=3, max_features=10, min_samples_leaf=5;, score=0.255 total time=   0.2s\n",
      "[CV 1/5] END max_depth=3, max_features=15, min_samples_leaf=1;, score=0.227 total time=   0.3s\n",
      "[CV 2/5] END max_depth=3, max_features=15, min_samples_leaf=1;, score=0.243 total time=   0.3s\n",
      "[CV 3/5] END max_depth=3, max_features=15, min_samples_leaf=1;, score=0.239 total time=   0.3s\n",
      "[CV 4/5] END max_depth=3, max_features=15, min_samples_leaf=1;, score=0.246 total time=   0.3s\n",
      "[CV 5/5] END max_depth=3, max_features=15, min_samples_leaf=1;, score=0.259 total time=   0.3s\n",
      "[CV 1/5] END max_depth=3, max_features=15, min_samples_leaf=2;, score=0.227 total time=   0.3s\n",
      "[CV 2/5] END max_depth=3, max_features=15, min_samples_leaf=2;, score=0.244 total time=   0.3s\n",
      "[CV 3/5] END max_depth=3, max_features=15, min_samples_leaf=2;, score=0.239 total time=   0.3s\n",
      "[CV 4/5] END max_depth=3, max_features=15, min_samples_leaf=2;, score=0.246 total time=   0.3s\n",
      "[CV 5/5] END max_depth=3, max_features=15, min_samples_leaf=2;, score=0.259 total time=   0.3s\n",
      "[CV 1/5] END max_depth=3, max_features=15, min_samples_leaf=3;, score=0.227 total time=   0.3s\n",
      "[CV 2/5] END max_depth=3, max_features=15, min_samples_leaf=3;, score=0.244 total time=   0.3s\n",
      "[CV 3/5] END max_depth=3, max_features=15, min_samples_leaf=3;, score=0.239 total time=   0.3s\n",
      "[CV 4/5] END max_depth=3, max_features=15, min_samples_leaf=3;, score=0.246 total time=   0.3s\n",
      "[CV 5/5] END max_depth=3, max_features=15, min_samples_leaf=3;, score=0.259 total time=   0.3s\n",
      "[CV 1/5] END max_depth=3, max_features=15, min_samples_leaf=5;, score=0.227 total time=   0.3s\n",
      "[CV 2/5] END max_depth=3, max_features=15, min_samples_leaf=5;, score=0.244 total time=   0.3s\n",
      "[CV 3/5] END max_depth=3, max_features=15, min_samples_leaf=5;, score=0.240 total time=   0.3s\n",
      "[CV 4/5] END max_depth=3, max_features=15, min_samples_leaf=5;, score=0.247 total time=   0.3s\n",
      "[CV 5/5] END max_depth=3, max_features=15, min_samples_leaf=5;, score=0.259 total time=   0.3s\n",
      "[CV 1/5] END max_depth=3, max_features=25, min_samples_leaf=1;, score=0.219 total time=   0.4s\n",
      "[CV 2/5] END max_depth=3, max_features=25, min_samples_leaf=1;, score=0.237 total time=   0.4s\n",
      "[CV 3/5] END max_depth=3, max_features=25, min_samples_leaf=1;, score=0.234 total time=   0.4s\n",
      "[CV 4/5] END max_depth=3, max_features=25, min_samples_leaf=1;, score=0.234 total time=   0.4s\n",
      "[CV 5/5] END max_depth=3, max_features=25, min_samples_leaf=1;, score=0.250 total time=   0.4s\n",
      "[CV 1/5] END max_depth=3, max_features=25, min_samples_leaf=2;, score=0.220 total time=   0.4s\n",
      "[CV 2/5] END max_depth=3, max_features=25, min_samples_leaf=2;, score=0.238 total time=   0.4s\n",
      "[CV 3/5] END max_depth=3, max_features=25, min_samples_leaf=2;, score=0.234 total time=   0.4s\n",
      "[CV 4/5] END max_depth=3, max_features=25, min_samples_leaf=2;, score=0.234 total time=   0.4s\n",
      "[CV 5/5] END max_depth=3, max_features=25, min_samples_leaf=2;, score=0.250 total time=   0.4s\n",
      "[CV 1/5] END max_depth=3, max_features=25, min_samples_leaf=3;, score=0.220 total time=   0.4s\n",
      "[CV 2/5] END max_depth=3, max_features=25, min_samples_leaf=3;, score=0.238 total time=   0.4s\n",
      "[CV 3/5] END max_depth=3, max_features=25, min_samples_leaf=3;, score=0.235 total time=   0.4s\n",
      "[CV 4/5] END max_depth=3, max_features=25, min_samples_leaf=3;, score=0.235 total time=   0.4s\n",
      "[CV 5/5] END max_depth=3, max_features=25, min_samples_leaf=3;, score=0.250 total time=   0.4s\n",
      "[CV 1/5] END max_depth=3, max_features=25, min_samples_leaf=5;, score=0.220 total time=   0.4s\n",
      "[CV 2/5] END max_depth=3, max_features=25, min_samples_leaf=5;, score=0.239 total time=   0.4s\n",
      "[CV 3/5] END max_depth=3, max_features=25, min_samples_leaf=5;, score=0.235 total time=   0.4s\n",
      "[CV 4/5] END max_depth=3, max_features=25, min_samples_leaf=5;, score=0.235 total time=   0.4s\n",
      "[CV 5/5] END max_depth=3, max_features=25, min_samples_leaf=5;, score=0.250 total time=   0.4s\n",
      "[CV 1/5] END max_depth=5, max_features=5, min_samples_leaf=1;, score=0.268 total time=   0.2s\n",
      "[CV 2/5] END max_depth=5, max_features=5, min_samples_leaf=1;, score=0.274 total time=   0.2s\n",
      "[CV 3/5] END max_depth=5, max_features=5, min_samples_leaf=1;, score=0.284 total time=   0.2s\n",
      "[CV 4/5] END max_depth=5, max_features=5, min_samples_leaf=1;, score=0.271 total time=   0.2s\n",
      "[CV 5/5] END max_depth=5, max_features=5, min_samples_leaf=1;, score=0.275 total time=   0.2s\n",
      "[CV 1/5] END max_depth=5, max_features=5, min_samples_leaf=2;, score=0.268 total time=   0.2s\n"
     ]
    },
    {
     "name": "stdout",
     "output_type": "stream",
     "text": [
      "[CV 2/5] END max_depth=5, max_features=5, min_samples_leaf=2;, score=0.274 total time=   0.2s\n",
      "[CV 3/5] END max_depth=5, max_features=5, min_samples_leaf=2;, score=0.284 total time=   0.2s\n",
      "[CV 4/5] END max_depth=5, max_features=5, min_samples_leaf=2;, score=0.275 total time=   0.2s\n",
      "[CV 5/5] END max_depth=5, max_features=5, min_samples_leaf=2;, score=0.276 total time=   0.2s\n",
      "[CV 1/5] END max_depth=5, max_features=5, min_samples_leaf=3;, score=0.270 total time=   0.2s\n",
      "[CV 2/5] END max_depth=5, max_features=5, min_samples_leaf=3;, score=0.274 total time=   0.2s\n",
      "[CV 3/5] END max_depth=5, max_features=5, min_samples_leaf=3;, score=0.285 total time=   0.2s\n",
      "[CV 4/5] END max_depth=5, max_features=5, min_samples_leaf=3;, score=0.273 total time=   0.2s\n",
      "[CV 5/5] END max_depth=5, max_features=5, min_samples_leaf=3;, score=0.276 total time=   0.2s\n",
      "[CV 1/5] END max_depth=5, max_features=5, min_samples_leaf=5;, score=0.271 total time=   0.2s\n",
      "[CV 2/5] END max_depth=5, max_features=5, min_samples_leaf=5;, score=0.274 total time=   0.2s\n",
      "[CV 3/5] END max_depth=5, max_features=5, min_samples_leaf=5;, score=0.286 total time=   0.2s\n",
      "[CV 4/5] END max_depth=5, max_features=5, min_samples_leaf=5;, score=0.274 total time=   0.2s\n",
      "[CV 5/5] END max_depth=5, max_features=5, min_samples_leaf=5;, score=0.274 total time=   0.2s\n",
      "[CV 1/5] END max_depth=5, max_features=10, min_samples_leaf=1;, score=0.288 total time=   0.3s\n",
      "[CV 2/5] END max_depth=5, max_features=10, min_samples_leaf=1;, score=0.292 total time=   0.3s\n",
      "[CV 3/5] END max_depth=5, max_features=10, min_samples_leaf=1;, score=0.293 total time=   0.3s\n",
      "[CV 4/5] END max_depth=5, max_features=10, min_samples_leaf=1;, score=0.289 total time=   0.3s\n",
      "[CV 5/5] END max_depth=5, max_features=10, min_samples_leaf=1;, score=0.304 total time=   0.3s\n",
      "[CV 1/5] END max_depth=5, max_features=10, min_samples_leaf=2;, score=0.288 total time=   0.3s\n",
      "[CV 2/5] END max_depth=5, max_features=10, min_samples_leaf=2;, score=0.289 total time=   0.3s\n",
      "[CV 3/5] END max_depth=5, max_features=10, min_samples_leaf=2;, score=0.294 total time=   0.3s\n",
      "[CV 4/5] END max_depth=5, max_features=10, min_samples_leaf=2;, score=0.290 total time=   0.3s\n",
      "[CV 5/5] END max_depth=5, max_features=10, min_samples_leaf=2;, score=0.304 total time=   0.3s\n",
      "[CV 1/5] END max_depth=5, max_features=10, min_samples_leaf=3;, score=0.287 total time=   0.3s\n",
      "[CV 2/5] END max_depth=5, max_features=10, min_samples_leaf=3;, score=0.292 total time=   0.3s\n",
      "[CV 3/5] END max_depth=5, max_features=10, min_samples_leaf=3;, score=0.296 total time=   0.3s\n",
      "[CV 4/5] END max_depth=5, max_features=10, min_samples_leaf=3;, score=0.291 total time=   0.3s\n",
      "[CV 5/5] END max_depth=5, max_features=10, min_samples_leaf=3;, score=0.302 total time=   0.3s\n",
      "[CV 1/5] END max_depth=5, max_features=10, min_samples_leaf=5;, score=0.289 total time=   0.3s\n",
      "[CV 2/5] END max_depth=5, max_features=10, min_samples_leaf=5;, score=0.291 total time=   0.3s\n",
      "[CV 3/5] END max_depth=5, max_features=10, min_samples_leaf=5;, score=0.296 total time=   0.3s\n",
      "[CV 4/5] END max_depth=5, max_features=10, min_samples_leaf=5;, score=0.292 total time=   0.3s\n",
      "[CV 5/5] END max_depth=5, max_features=10, min_samples_leaf=5;, score=0.303 total time=   0.3s\n",
      "[CV 1/5] END max_depth=5, max_features=15, min_samples_leaf=1;, score=0.289 total time=   0.4s\n",
      "[CV 2/5] END max_depth=5, max_features=15, min_samples_leaf=1;, score=0.297 total time=   0.4s\n",
      "[CV 3/5] END max_depth=5, max_features=15, min_samples_leaf=1;, score=0.295 total time=   0.4s\n",
      "[CV 4/5] END max_depth=5, max_features=15, min_samples_leaf=1;, score=0.294 total time=   0.4s\n",
      "[CV 5/5] END max_depth=5, max_features=15, min_samples_leaf=1;, score=0.307 total time=   0.4s\n",
      "[CV 1/5] END max_depth=5, max_features=15, min_samples_leaf=2;, score=0.290 total time=   0.4s\n",
      "[CV 2/5] END max_depth=5, max_features=15, min_samples_leaf=2;, score=0.297 total time=   0.4s\n",
      "[CV 3/5] END max_depth=5, max_features=15, min_samples_leaf=2;, score=0.298 total time=   0.4s\n",
      "[CV 4/5] END max_depth=5, max_features=15, min_samples_leaf=2;, score=0.296 total time=   0.4s\n",
      "[CV 5/5] END max_depth=5, max_features=15, min_samples_leaf=2;, score=0.308 total time=   0.4s\n",
      "[CV 1/5] END max_depth=5, max_features=15, min_samples_leaf=3;, score=0.289 total time=   0.5s\n",
      "[CV 2/5] END max_depth=5, max_features=15, min_samples_leaf=3;, score=0.298 total time=   0.4s\n",
      "[CV 3/5] END max_depth=5, max_features=15, min_samples_leaf=3;, score=0.297 total time=   0.4s\n",
      "[CV 4/5] END max_depth=5, max_features=15, min_samples_leaf=3;, score=0.294 total time=   0.4s\n",
      "[CV 5/5] END max_depth=5, max_features=15, min_samples_leaf=3;, score=0.308 total time=   0.4s\n",
      "[CV 1/5] END max_depth=5, max_features=15, min_samples_leaf=5;, score=0.290 total time=   0.4s\n",
      "[CV 2/5] END max_depth=5, max_features=15, min_samples_leaf=5;, score=0.300 total time=   0.4s\n",
      "[CV 3/5] END max_depth=5, max_features=15, min_samples_leaf=5;, score=0.297 total time=   0.4s\n",
      "[CV 4/5] END max_depth=5, max_features=15, min_samples_leaf=5;, score=0.293 total time=   0.4s\n",
      "[CV 5/5] END max_depth=5, max_features=15, min_samples_leaf=5;, score=0.305 total time=   0.4s\n",
      "[CV 1/5] END max_depth=5, max_features=25, min_samples_leaf=1;, score=0.281 total time=   0.7s\n",
      "[CV 2/5] END max_depth=5, max_features=25, min_samples_leaf=1;, score=0.294 total time=   0.6s\n",
      "[CV 3/5] END max_depth=5, max_features=25, min_samples_leaf=1;, score=0.295 total time=   0.6s\n",
      "[CV 4/5] END max_depth=5, max_features=25, min_samples_leaf=1;, score=0.287 total time=   0.6s\n",
      "[CV 5/5] END max_depth=5, max_features=25, min_samples_leaf=1;, score=0.302 total time=   0.6s\n",
      "[CV 1/5] END max_depth=5, max_features=25, min_samples_leaf=2;, score=0.281 total time=   0.6s\n",
      "[CV 2/5] END max_depth=5, max_features=25, min_samples_leaf=2;, score=0.295 total time=   0.6s\n",
      "[CV 3/5] END max_depth=5, max_features=25, min_samples_leaf=2;, score=0.294 total time=   0.6s\n",
      "[CV 4/5] END max_depth=5, max_features=25, min_samples_leaf=2;, score=0.288 total time=   0.6s\n",
      "[CV 5/5] END max_depth=5, max_features=25, min_samples_leaf=2;, score=0.303 total time=   0.6s\n",
      "[CV 1/5] END max_depth=5, max_features=25, min_samples_leaf=3;, score=0.282 total time=   0.6s\n",
      "[CV 2/5] END max_depth=5, max_features=25, min_samples_leaf=3;, score=0.295 total time=   0.6s\n",
      "[CV 3/5] END max_depth=5, max_features=25, min_samples_leaf=3;, score=0.295 total time=   0.6s\n",
      "[CV 4/5] END max_depth=5, max_features=25, min_samples_leaf=3;, score=0.288 total time=   0.6s\n",
      "[CV 5/5] END max_depth=5, max_features=25, min_samples_leaf=3;, score=0.303 total time=   0.6s\n",
      "[CV 1/5] END max_depth=5, max_features=25, min_samples_leaf=5;, score=0.283 total time=   0.6s\n",
      "[CV 2/5] END max_depth=5, max_features=25, min_samples_leaf=5;, score=0.295 total time=   0.6s\n",
      "[CV 3/5] END max_depth=5, max_features=25, min_samples_leaf=5;, score=0.296 total time=   0.6s\n",
      "[CV 4/5] END max_depth=5, max_features=25, min_samples_leaf=5;, score=0.289 total time=   0.6s\n",
      "[CV 5/5] END max_depth=5, max_features=25, min_samples_leaf=5;, score=0.303 total time=   0.6s\n",
      "[CV 1/5] END max_depth=10, max_features=5, min_samples_leaf=1;, score=0.332 total time=   0.3s\n",
      "[CV 2/5] END max_depth=10, max_features=5, min_samples_leaf=1;, score=0.320 total time=   0.3s\n",
      "[CV 3/5] END max_depth=10, max_features=5, min_samples_leaf=1;, score=0.326 total time=   0.3s\n",
      "[CV 4/5] END max_depth=10, max_features=5, min_samples_leaf=1;, score=0.308 total time=   0.3s\n",
      "[CV 5/5] END max_depth=10, max_features=5, min_samples_leaf=1;, score=0.315 total time=   0.3s\n",
      "[CV 1/5] END max_depth=10, max_features=5, min_samples_leaf=2;, score=0.325 total time=   0.3s\n",
      "[CV 2/5] END max_depth=10, max_features=5, min_samples_leaf=2;, score=0.321 total time=   0.3s\n",
      "[CV 3/5] END max_depth=10, max_features=5, min_samples_leaf=2;, score=0.331 total time=   0.3s\n",
      "[CV 4/5] END max_depth=10, max_features=5, min_samples_leaf=2;, score=0.305 total time=   0.3s\n",
      "[CV 5/5] END max_depth=10, max_features=5, min_samples_leaf=2;, score=0.314 total time=   0.3s\n",
      "[CV 1/5] END max_depth=10, max_features=5, min_samples_leaf=3;, score=0.326 total time=   0.3s\n",
      "[CV 2/5] END max_depth=10, max_features=5, min_samples_leaf=3;, score=0.323 total time=   0.3s\n",
      "[CV 3/5] END max_depth=10, max_features=5, min_samples_leaf=3;, score=0.333 total time=   0.3s\n"
     ]
    },
    {
     "name": "stdout",
     "output_type": "stream",
     "text": [
      "[CV 4/5] END max_depth=10, max_features=5, min_samples_leaf=3;, score=0.312 total time=   0.3s\n",
      "[CV 5/5] END max_depth=10, max_features=5, min_samples_leaf=3;, score=0.317 total time=   0.3s\n",
      "[CV 1/5] END max_depth=10, max_features=5, min_samples_leaf=5;, score=0.318 total time=   0.3s\n",
      "[CV 2/5] END max_depth=10, max_features=5, min_samples_leaf=5;, score=0.318 total time=   0.3s\n",
      "[CV 3/5] END max_depth=10, max_features=5, min_samples_leaf=5;, score=0.326 total time=   0.3s\n",
      "[CV 4/5] END max_depth=10, max_features=5, min_samples_leaf=5;, score=0.310 total time=   0.3s\n",
      "[CV 5/5] END max_depth=10, max_features=5, min_samples_leaf=5;, score=0.319 total time=   0.3s\n",
      "[CV 1/5] END max_depth=10, max_features=10, min_samples_leaf=1;, score=0.336 total time=   0.5s\n",
      "[CV 2/5] END max_depth=10, max_features=10, min_samples_leaf=1;, score=0.329 total time=   0.5s\n",
      "[CV 3/5] END max_depth=10, max_features=10, min_samples_leaf=1;, score=0.335 total time=   0.5s\n",
      "[CV 4/5] END max_depth=10, max_features=10, min_samples_leaf=1;, score=0.320 total time=   0.5s\n",
      "[CV 5/5] END max_depth=10, max_features=10, min_samples_leaf=1;, score=0.328 total time=   0.5s\n",
      "[CV 1/5] END max_depth=10, max_features=10, min_samples_leaf=2;, score=0.325 total time=   0.5s\n",
      "[CV 2/5] END max_depth=10, max_features=10, min_samples_leaf=2;, score=0.329 total time=   0.5s\n",
      "[CV 3/5] END max_depth=10, max_features=10, min_samples_leaf=2;, score=0.334 total time=   0.4s\n",
      "[CV 4/5] END max_depth=10, max_features=10, min_samples_leaf=2;, score=0.319 total time=   0.4s\n",
      "[CV 5/5] END max_depth=10, max_features=10, min_samples_leaf=2;, score=0.334 total time=   0.5s\n",
      "[CV 1/5] END max_depth=10, max_features=10, min_samples_leaf=3;, score=0.330 total time=   0.5s\n",
      "[CV 2/5] END max_depth=10, max_features=10, min_samples_leaf=3;, score=0.329 total time=   0.6s\n",
      "[CV 3/5] END max_depth=10, max_features=10, min_samples_leaf=3;, score=0.333 total time=   0.4s\n",
      "[CV 4/5] END max_depth=10, max_features=10, min_samples_leaf=3;, score=0.316 total time=   0.4s\n",
      "[CV 5/5] END max_depth=10, max_features=10, min_samples_leaf=3;, score=0.330 total time=   0.4s\n",
      "[CV 1/5] END max_depth=10, max_features=10, min_samples_leaf=5;, score=0.334 total time=   0.5s\n",
      "[CV 2/5] END max_depth=10, max_features=10, min_samples_leaf=5;, score=0.332 total time=   0.4s\n",
      "[CV 3/5] END max_depth=10, max_features=10, min_samples_leaf=5;, score=0.333 total time=   0.5s\n",
      "[CV 4/5] END max_depth=10, max_features=10, min_samples_leaf=5;, score=0.320 total time=   0.5s\n",
      "[CV 5/5] END max_depth=10, max_features=10, min_samples_leaf=5;, score=0.329 total time=   0.5s\n",
      "[CV 1/5] END max_depth=10, max_features=15, min_samples_leaf=1;, score=0.338 total time=   0.7s\n",
      "[CV 2/5] END max_depth=10, max_features=15, min_samples_leaf=1;, score=0.327 total time=   0.7s\n",
      "[CV 3/5] END max_depth=10, max_features=15, min_samples_leaf=1;, score=0.327 total time=   0.7s\n",
      "[CV 4/5] END max_depth=10, max_features=15, min_samples_leaf=1;, score=0.315 total time=   0.6s\n",
      "[CV 5/5] END max_depth=10, max_features=15, min_samples_leaf=1;, score=0.325 total time=   0.7s\n",
      "[CV 1/5] END max_depth=10, max_features=15, min_samples_leaf=2;, score=0.330 total time=   0.7s\n",
      "[CV 2/5] END max_depth=10, max_features=15, min_samples_leaf=2;, score=0.328 total time=   0.6s\n",
      "[CV 3/5] END max_depth=10, max_features=15, min_samples_leaf=2;, score=0.329 total time=   0.6s\n",
      "[CV 4/5] END max_depth=10, max_features=15, min_samples_leaf=2;, score=0.318 total time=   0.7s\n",
      "[CV 5/5] END max_depth=10, max_features=15, min_samples_leaf=2;, score=0.326 total time=   0.7s\n",
      "[CV 1/5] END max_depth=10, max_features=15, min_samples_leaf=3;, score=0.334 total time=   0.6s\n",
      "[CV 2/5] END max_depth=10, max_features=15, min_samples_leaf=3;, score=0.327 total time=   0.6s\n",
      "[CV 3/5] END max_depth=10, max_features=15, min_samples_leaf=3;, score=0.327 total time=   0.6s\n",
      "[CV 4/5] END max_depth=10, max_features=15, min_samples_leaf=3;, score=0.320 total time=   0.6s\n",
      "[CV 5/5] END max_depth=10, max_features=15, min_samples_leaf=3;, score=0.327 total time=   0.6s\n",
      "[CV 1/5] END max_depth=10, max_features=15, min_samples_leaf=5;, score=0.336 total time=   0.6s\n",
      "[CV 2/5] END max_depth=10, max_features=15, min_samples_leaf=5;, score=0.328 total time=   0.6s\n",
      "[CV 3/5] END max_depth=10, max_features=15, min_samples_leaf=5;, score=0.328 total time=   0.6s\n",
      "[CV 4/5] END max_depth=10, max_features=15, min_samples_leaf=5;, score=0.321 total time=   0.6s\n",
      "[CV 5/5] END max_depth=10, max_features=15, min_samples_leaf=5;, score=0.336 total time=   0.6s\n",
      "[CV 1/5] END max_depth=10, max_features=25, min_samples_leaf=1;, score=0.329 total time=   1.0s\n",
      "[CV 2/5] END max_depth=10, max_features=25, min_samples_leaf=1;, score=0.319 total time=   1.0s\n",
      "[CV 3/5] END max_depth=10, max_features=25, min_samples_leaf=1;, score=0.317 total time=   1.0s\n",
      "[CV 4/5] END max_depth=10, max_features=25, min_samples_leaf=1;, score=0.308 total time=   1.0s\n",
      "[CV 5/5] END max_depth=10, max_features=25, min_samples_leaf=1;, score=0.324 total time=   1.0s\n",
      "[CV 1/5] END max_depth=10, max_features=25, min_samples_leaf=2;, score=0.327 total time=   1.0s\n",
      "[CV 2/5] END max_depth=10, max_features=25, min_samples_leaf=2;, score=0.325 total time=   1.0s\n",
      "[CV 3/5] END max_depth=10, max_features=25, min_samples_leaf=2;, score=0.320 total time=   1.0s\n",
      "[CV 4/5] END max_depth=10, max_features=25, min_samples_leaf=2;, score=0.310 total time=   1.1s\n",
      "[CV 5/5] END max_depth=10, max_features=25, min_samples_leaf=2;, score=0.329 total time=   1.0s\n",
      "[CV 1/5] END max_depth=10, max_features=25, min_samples_leaf=3;, score=0.328 total time=   1.0s\n",
      "[CV 2/5] END max_depth=10, max_features=25, min_samples_leaf=3;, score=0.325 total time=   1.0s\n",
      "[CV 3/5] END max_depth=10, max_features=25, min_samples_leaf=3;, score=0.321 total time=   0.9s\n",
      "[CV 4/5] END max_depth=10, max_features=25, min_samples_leaf=3;, score=0.313 total time=   1.0s\n",
      "[CV 5/5] END max_depth=10, max_features=25, min_samples_leaf=3;, score=0.328 total time=   1.0s\n",
      "[CV 1/5] END max_depth=10, max_features=25, min_samples_leaf=5;, score=0.329 total time=   0.9s\n",
      "[CV 2/5] END max_depth=10, max_features=25, min_samples_leaf=5;, score=0.323 total time=   0.9s\n",
      "[CV 3/5] END max_depth=10, max_features=25, min_samples_leaf=5;, score=0.322 total time=   0.9s\n",
      "[CV 4/5] END max_depth=10, max_features=25, min_samples_leaf=5;, score=0.310 total time=   0.9s\n",
      "[CV 5/5] END max_depth=10, max_features=25, min_samples_leaf=5;, score=0.327 total time=   0.9s\n",
      "[CV 1/5] END max_depth=None, max_features=5, min_samples_leaf=1;, score=0.327 total time=   0.4s\n",
      "[CV 2/5] END max_depth=None, max_features=5, min_samples_leaf=1;, score=0.318 total time=   0.4s\n",
      "[CV 3/5] END max_depth=None, max_features=5, min_samples_leaf=1;, score=0.326 total time=   0.5s\n",
      "[CV 4/5] END max_depth=None, max_features=5, min_samples_leaf=1;, score=0.309 total time=   0.5s\n",
      "[CV 5/5] END max_depth=None, max_features=5, min_samples_leaf=1;, score=0.320 total time=   0.4s\n",
      "[CV 1/5] END max_depth=None, max_features=5, min_samples_leaf=2;, score=0.320 total time=   0.4s\n",
      "[CV 2/5] END max_depth=None, max_features=5, min_samples_leaf=2;, score=0.322 total time=   0.3s\n",
      "[CV 3/5] END max_depth=None, max_features=5, min_samples_leaf=2;, score=0.327 total time=   0.4s\n",
      "[CV 4/5] END max_depth=None, max_features=5, min_samples_leaf=2;, score=0.312 total time=   0.3s\n",
      "[CV 5/5] END max_depth=None, max_features=5, min_samples_leaf=2;, score=0.325 total time=   0.3s\n",
      "[CV 1/5] END max_depth=None, max_features=5, min_samples_leaf=3;, score=0.329 total time=   0.3s\n",
      "[CV 2/5] END max_depth=None, max_features=5, min_samples_leaf=3;, score=0.320 total time=   0.3s\n",
      "[CV 3/5] END max_depth=None, max_features=5, min_samples_leaf=3;, score=0.333 total time=   0.4s\n",
      "[CV 4/5] END max_depth=None, max_features=5, min_samples_leaf=3;, score=0.306 total time=   0.3s\n",
      "[CV 5/5] END max_depth=None, max_features=5, min_samples_leaf=3;, score=0.318 total time=   0.4s\n",
      "[CV 1/5] END max_depth=None, max_features=5, min_samples_leaf=5;, score=0.331 total time=   0.3s\n",
      "[CV 2/5] END max_depth=None, max_features=5, min_samples_leaf=5;, score=0.323 total time=   0.3s\n",
      "[CV 3/5] END max_depth=None, max_features=5, min_samples_leaf=5;, score=0.335 total time=   0.3s\n",
      "[CV 4/5] END max_depth=None, max_features=5, min_samples_leaf=5;, score=0.313 total time=   0.3s\n"
     ]
    },
    {
     "name": "stdout",
     "output_type": "stream",
     "text": [
      "[CV 5/5] END max_depth=None, max_features=5, min_samples_leaf=5;, score=0.320 total time=   0.3s\n",
      "[CV 1/5] END max_depth=None, max_features=10, min_samples_leaf=1;, score=0.339 total time=   0.8s\n",
      "[CV 2/5] END max_depth=None, max_features=10, min_samples_leaf=1;, score=0.332 total time=   0.7s\n",
      "[CV 3/5] END max_depth=None, max_features=10, min_samples_leaf=1;, score=0.329 total time=   0.7s\n",
      "[CV 4/5] END max_depth=None, max_features=10, min_samples_leaf=1;, score=0.315 total time=   0.7s\n",
      "[CV 5/5] END max_depth=None, max_features=10, min_samples_leaf=1;, score=0.320 total time=   0.7s\n",
      "[CV 1/5] END max_depth=None, max_features=10, min_samples_leaf=2;, score=0.331 total time=   0.6s\n",
      "[CV 2/5] END max_depth=None, max_features=10, min_samples_leaf=2;, score=0.333 total time=   0.6s\n",
      "[CV 3/5] END max_depth=None, max_features=10, min_samples_leaf=2;, score=0.331 total time=   0.6s\n",
      "[CV 4/5] END max_depth=None, max_features=10, min_samples_leaf=2;, score=0.315 total time=   0.6s\n",
      "[CV 5/5] END max_depth=None, max_features=10, min_samples_leaf=2;, score=0.330 total time=   0.6s\n",
      "[CV 1/5] END max_depth=None, max_features=10, min_samples_leaf=3;, score=0.335 total time=   0.6s\n",
      "[CV 2/5] END max_depth=None, max_features=10, min_samples_leaf=3;, score=0.324 total time=   0.6s\n",
      "[CV 3/5] END max_depth=None, max_features=10, min_samples_leaf=3;, score=0.329 total time=   0.5s\n",
      "[CV 4/5] END max_depth=None, max_features=10, min_samples_leaf=3;, score=0.320 total time=   0.6s\n",
      "[CV 5/5] END max_depth=None, max_features=10, min_samples_leaf=3;, score=0.329 total time=   0.5s\n",
      "[CV 1/5] END max_depth=None, max_features=10, min_samples_leaf=5;, score=0.334 total time=   0.5s\n",
      "[CV 2/5] END max_depth=None, max_features=10, min_samples_leaf=5;, score=0.331 total time=   0.5s\n",
      "[CV 3/5] END max_depth=None, max_features=10, min_samples_leaf=5;, score=0.335 total time=   0.5s\n",
      "[CV 4/5] END max_depth=None, max_features=10, min_samples_leaf=5;, score=0.316 total time=   0.5s\n",
      "[CV 5/5] END max_depth=None, max_features=10, min_samples_leaf=5;, score=0.331 total time=   0.5s\n",
      "[CV 1/5] END max_depth=None, max_features=15, min_samples_leaf=1;, score=0.326 total time=   0.9s\n",
      "[CV 2/5] END max_depth=None, max_features=15, min_samples_leaf=1;, score=0.323 total time=   0.9s\n",
      "[CV 3/5] END max_depth=None, max_features=15, min_samples_leaf=1;, score=0.322 total time=   1.0s\n",
      "[CV 4/5] END max_depth=None, max_features=15, min_samples_leaf=1;, score=0.320 total time=   1.0s\n",
      "[CV 5/5] END max_depth=None, max_features=15, min_samples_leaf=1;, score=0.328 total time=   1.0s\n",
      "[CV 1/5] END max_depth=None, max_features=15, min_samples_leaf=2;, score=0.339 total time=   0.8s\n",
      "[CV 2/5] END max_depth=None, max_features=15, min_samples_leaf=2;, score=0.324 total time=   0.8s\n",
      "[CV 3/5] END max_depth=None, max_features=15, min_samples_leaf=2;, score=0.325 total time=   0.8s\n",
      "[CV 4/5] END max_depth=None, max_features=15, min_samples_leaf=2;, score=0.318 total time=   0.8s\n",
      "[CV 5/5] END max_depth=None, max_features=15, min_samples_leaf=2;, score=0.335 total time=   0.8s\n",
      "[CV 1/5] END max_depth=None, max_features=15, min_samples_leaf=3;, score=0.329 total time=   0.7s\n",
      "[CV 2/5] END max_depth=None, max_features=15, min_samples_leaf=3;, score=0.330 total time=   0.8s\n",
      "[CV 3/5] END max_depth=None, max_features=15, min_samples_leaf=3;, score=0.325 total time=   0.8s\n",
      "[CV 4/5] END max_depth=None, max_features=15, min_samples_leaf=3;, score=0.322 total time=   0.7s\n",
      "[CV 5/5] END max_depth=None, max_features=15, min_samples_leaf=3;, score=0.320 total time=   0.7s\n",
      "[CV 1/5] END max_depth=None, max_features=15, min_samples_leaf=5;, score=0.332 total time=   0.7s\n",
      "[CV 2/5] END max_depth=None, max_features=15, min_samples_leaf=5;, score=0.331 total time=   0.7s\n",
      "[CV 3/5] END max_depth=None, max_features=15, min_samples_leaf=5;, score=0.334 total time=   0.7s\n",
      "[CV 4/5] END max_depth=None, max_features=15, min_samples_leaf=5;, score=0.324 total time=   0.7s\n",
      "[CV 5/5] END max_depth=None, max_features=15, min_samples_leaf=5;, score=0.329 total time=   0.8s\n",
      "[CV 1/5] END max_depth=None, max_features=25, min_samples_leaf=1;, score=0.334 total time=   1.5s\n",
      "[CV 2/5] END max_depth=None, max_features=25, min_samples_leaf=1;, score=0.318 total time=   1.4s\n",
      "[CV 3/5] END max_depth=None, max_features=25, min_samples_leaf=1;, score=0.308 total time=   1.5s\n",
      "[CV 4/5] END max_depth=None, max_features=25, min_samples_leaf=1;, score=0.313 total time=   1.5s\n",
      "[CV 5/5] END max_depth=None, max_features=25, min_samples_leaf=1;, score=0.328 total time=   1.5s\n",
      "[CV 1/5] END max_depth=None, max_features=25, min_samples_leaf=2;, score=0.334 total time=   1.2s\n",
      "[CV 2/5] END max_depth=None, max_features=25, min_samples_leaf=2;, score=0.319 total time=   1.2s\n",
      "[CV 3/5] END max_depth=None, max_features=25, min_samples_leaf=2;, score=0.315 total time=   1.3s\n",
      "[CV 4/5] END max_depth=None, max_features=25, min_samples_leaf=2;, score=0.311 total time=   1.2s\n",
      "[CV 5/5] END max_depth=None, max_features=25, min_samples_leaf=2;, score=0.333 total time=   1.2s\n",
      "[CV 1/5] END max_depth=None, max_features=25, min_samples_leaf=3;, score=0.330 total time=   1.2s\n",
      "[CV 2/5] END max_depth=None, max_features=25, min_samples_leaf=3;, score=0.322 total time=   1.2s\n",
      "[CV 3/5] END max_depth=None, max_features=25, min_samples_leaf=3;, score=0.315 total time=   1.2s\n",
      "[CV 4/5] END max_depth=None, max_features=25, min_samples_leaf=3;, score=0.312 total time=   1.2s\n",
      "[CV 5/5] END max_depth=None, max_features=25, min_samples_leaf=3;, score=0.331 total time=   1.2s\n",
      "[CV 1/5] END max_depth=None, max_features=25, min_samples_leaf=5;, score=0.330 total time=   1.1s\n",
      "[CV 2/5] END max_depth=None, max_features=25, min_samples_leaf=5;, score=0.321 total time=   1.0s\n",
      "[CV 3/5] END max_depth=None, max_features=25, min_samples_leaf=5;, score=0.317 total time=   1.1s\n",
      "[CV 4/5] END max_depth=None, max_features=25, min_samples_leaf=5;, score=0.311 total time=   1.0s\n",
      "[CV 5/5] END max_depth=None, max_features=25, min_samples_leaf=5;, score=0.327 total time=   1.1s\n"
     ]
    },
    {
     "data": {
      "text/plain": [
       "GridSearchCV(estimator=RandomForestRegressor(n_jobs=-1, random_state=1212),\n",
       "             param_grid={'max_depth': [3, 5, 10, None],\n",
       "                         'max_features': [5, 10, 15, 25],\n",
       "                         'min_samples_leaf': [1, 2, 3, 5]},\n",
       "             verbose=3)"
      ]
     },
     "execution_count": 63,
     "metadata": {},
     "output_type": "execute_result"
    }
   ],
   "source": [
    "clf.fit(rdf_X_train, rdf_y_train.values.ravel())"
   ]
  },
  {
   "cell_type": "code",
   "execution_count": 64,
   "id": "6874ea93",
   "metadata": {
    "ExecuteTime": {
     "end_time": "2022-07-14T21:51:51.222670Z",
     "start_time": "2022-07-14T21:51:51.207615Z"
    }
   },
   "outputs": [
    {
     "data": {
      "text/plain": [
       "{'max_depth': None, 'max_features': 15, 'min_samples_leaf': 5}"
      ]
     },
     "execution_count": 64,
     "metadata": {},
     "output_type": "execute_result"
    }
   ],
   "source": [
    "clf.best_params_"
   ]
  },
  {
   "cell_type": "code",
   "execution_count": 8,
   "id": "985add3f",
   "metadata": {
    "ExecuteTime": {
     "end_time": "2022-07-14T23:17:35.929524Z",
     "start_time": "2022-07-14T23:17:21.961523Z"
    }
   },
   "outputs": [
    {
     "name": "stdout",
     "output_type": "stream",
     "text": [
      "Train Score: 0.3302\n",
      "Test Score: 0.3222\n"
     ]
    }
   ],
   "source": [
    "rf_rdf = RandomForestRegressor(n_jobs=-1,\n",
    "                               n_estimators=100,\n",
    "                               random_state=1212,\n",
    "                               max_features=15,\n",
    "                               max_depth=None,\n",
    "                               min_samples_leaf=5\n",
    "                        )\n",
    "\n",
    "\n",
    "scores = cross_val_score(rf_rdf, rdf_X_train, rdf_y_train.values.ravel())\n",
    "# score\n",
    "print(f'Train Score: {scores.mean():.4f}')\n",
    "\n",
    "rf_rdf.fit(rdf_X_train, rdf_y_train.values.ravel())\n",
    "print(f'Test Score: {rf_rdf.score(rdf_X_test, rdf_y_test.values.ravel()):.4f}')"
   ]
  },
  {
   "cell_type": "code",
   "execution_count": 9,
   "id": "2453e56f",
   "metadata": {
    "ExecuteTime": {
     "end_time": "2022-07-14T23:17:37.571524Z",
     "start_time": "2022-07-14T23:17:35.932524Z"
    }
   },
   "outputs": [
    {
     "name": "stdout",
     "output_type": "stream",
     "text": [
      "Train Score: 0.9487\n",
      "Test Score: 0.9475\n"
     ]
    }
   ],
   "source": [
    "rf_ydf = RandomForestRegressor(n_jobs=-1,\n",
    "                               random_state=1212)\n",
    "\n",
    "scores = cross_val_score(rf_ydf, ydf_X_train, ydf_y_train.values.ravel())\n",
    "print(f'Train Score: {scores.mean():.4f}')\n",
    "\n",
    "\n",
    "rf_ydf.fit(ydf_X_train, ydf_y_train.values.ravel())\n",
    "print(f'Test Score: {rf_ydf.score(ydf_X_test, ydf_y_test):.4f}')"
   ]
  },
  {
   "cell_type": "code",
   "execution_count": 46,
   "id": "e6fd3c37",
   "metadata": {
    "ExecuteTime": {
     "end_time": "2022-07-14T23:55:46.062556Z",
     "start_time": "2022-07-14T23:55:45.997559Z"
    }
   },
   "outputs": [],
   "source": [
    "ydf_X_test_rf = pd.DataFrame(rf_ydf.predict(ydf_X_test),\n",
    "                              index=ydf_y_test.index)"
   ]
  },
  {
   "cell_type": "markdown",
   "id": "986f6695",
   "metadata": {},
   "source": [
    "# SVM"
   ]
  },
  {
   "cell_type": "code",
   "execution_count": 32,
   "id": "d9ce5d6c",
   "metadata": {
    "ExecuteTime": {
     "end_time": "2022-07-14T23:28:45.476132Z",
     "start_time": "2022-07-14T23:28:45.452200Z"
    }
   },
   "outputs": [
    {
     "data": {
      "text/plain": [
       "array([1.e-05, 1.e-03, 1.e-01])"
      ]
     },
     "execution_count": 32,
     "metadata": {},
     "output_type": "execute_result"
    }
   ],
   "source": [
    "np.logspace(-5,-1,3)"
   ]
  },
  {
   "cell_type": "code",
   "execution_count": 39,
   "id": "cd29f684",
   "metadata": {
    "ExecuteTime": {
     "end_time": "2022-07-14T23:45:50.286257Z",
     "start_time": "2022-07-14T23:45:50.268255Z"
    }
   },
   "outputs": [],
   "source": [
    "gamma_range = np.logspace(-4,-2,3)\n",
    "epsilon_range = np.logspace(-2,0,3)\n",
    "C_range = [.1,1,10]"
   ]
  },
  {
   "cell_type": "code",
   "execution_count": 40,
   "id": "247b25f3",
   "metadata": {
    "ExecuteTime": {
     "end_time": "2022-07-14T23:49:21.591963Z",
     "start_time": "2022-07-14T23:45:53.308177Z"
    }
   },
   "outputs": [
    {
     "name": "stdout",
     "output_type": "stream",
     "text": [
      "Fitting 5 folds for each of 27 candidates, totalling 135 fits\n",
      "[CV 1/5] END .C=0.1, epsilon=0.01, gamma=0.0001;, score=0.248 total time=   2.1s\n",
      "[CV 2/5] END .C=0.1, epsilon=0.01, gamma=0.0001;, score=0.240 total time=   2.1s\n",
      "[CV 3/5] END .C=0.1, epsilon=0.01, gamma=0.0001;, score=0.257 total time=   2.2s\n",
      "[CV 4/5] END .C=0.1, epsilon=0.01, gamma=0.0001;, score=0.242 total time=   2.1s\n",
      "[CV 5/5] END .C=0.1, epsilon=0.01, gamma=0.0001;, score=0.247 total time=   2.0s\n",
      "[CV 1/5] END ..C=0.1, epsilon=0.01, gamma=0.001;, score=0.370 total time=   2.1s\n",
      "[CV 2/5] END ..C=0.1, epsilon=0.01, gamma=0.001;, score=0.348 total time=   2.3s\n",
      "[CV 3/5] END ..C=0.1, epsilon=0.01, gamma=0.001;, score=0.348 total time=   2.2s\n",
      "[CV 4/5] END ..C=0.1, epsilon=0.01, gamma=0.001;, score=0.337 total time=   2.2s\n",
      "[CV 5/5] END ..C=0.1, epsilon=0.01, gamma=0.001;, score=0.374 total time=   2.1s\n",
      "[CV 1/5] END ...C=0.1, epsilon=0.01, gamma=0.01;, score=0.375 total time=   2.2s\n",
      "[CV 2/5] END ...C=0.1, epsilon=0.01, gamma=0.01;, score=0.338 total time=   2.2s\n",
      "[CV 3/5] END ...C=0.1, epsilon=0.01, gamma=0.01;, score=0.352 total time=   2.2s\n",
      "[CV 4/5] END ...C=0.1, epsilon=0.01, gamma=0.01;, score=0.333 total time=   2.2s\n",
      "[CV 5/5] END ...C=0.1, epsilon=0.01, gamma=0.01;, score=0.356 total time=   2.1s\n",
      "[CV 1/5] END ..C=0.1, epsilon=0.1, gamma=0.0001;, score=0.214 total time=   0.9s\n",
      "[CV 2/5] END ..C=0.1, epsilon=0.1, gamma=0.0001;, score=0.209 total time=   0.9s\n",
      "[CV 3/5] END ..C=0.1, epsilon=0.1, gamma=0.0001;, score=0.221 total time=   0.9s\n",
      "[CV 4/5] END ..C=0.1, epsilon=0.1, gamma=0.0001;, score=0.209 total time=   0.9s\n",
      "[CV 5/5] END ..C=0.1, epsilon=0.1, gamma=0.0001;, score=0.209 total time=   0.9s\n",
      "[CV 1/5] END ...C=0.1, epsilon=0.1, gamma=0.001;, score=0.364 total time=   0.8s\n",
      "[CV 2/5] END ...C=0.1, epsilon=0.1, gamma=0.001;, score=0.343 total time=   0.8s\n",
      "[CV 3/5] END ...C=0.1, epsilon=0.1, gamma=0.001;, score=0.347 total time=   0.8s\n",
      "[CV 4/5] END ...C=0.1, epsilon=0.1, gamma=0.001;, score=0.338 total time=   0.8s\n",
      "[CV 5/5] END ...C=0.1, epsilon=0.1, gamma=0.001;, score=0.359 total time=   0.8s\n",
      "[CV 1/5] END ....C=0.1, epsilon=0.1, gamma=0.01;, score=0.369 total time=   0.9s\n",
      "[CV 2/5] END ....C=0.1, epsilon=0.1, gamma=0.01;, score=0.347 total time=   0.8s\n",
      "[CV 3/5] END ....C=0.1, epsilon=0.1, gamma=0.01;, score=0.355 total time=   0.8s\n",
      "[CV 4/5] END ....C=0.1, epsilon=0.1, gamma=0.01;, score=0.338 total time=   0.9s\n",
      "[CV 5/5] END ....C=0.1, epsilon=0.1, gamma=0.01;, score=0.358 total time=   1.0s\n",
      "[CV 1/5] END .C=0.1, epsilon=1.0, gamma=0.0001;, score=-0.322 total time=   0.0s\n",
      "[CV 2/5] END .C=0.1, epsilon=1.0, gamma=0.0001;, score=-0.321 total time=   0.0s\n",
      "[CV 3/5] END .C=0.1, epsilon=1.0, gamma=0.0001;, score=-0.336 total time=   0.0s\n",
      "[CV 4/5] END .C=0.1, epsilon=1.0, gamma=0.0001;, score=-0.346 total time=   0.0s\n",
      "[CV 5/5] END .C=0.1, epsilon=1.0, gamma=0.0001;, score=-0.336 total time=   0.0s\n",
      "[CV 1/5] END ..C=0.1, epsilon=1.0, gamma=0.001;, score=-0.322 total time=   0.0s\n",
      "[CV 2/5] END ..C=0.1, epsilon=1.0, gamma=0.001;, score=-0.321 total time=   0.0s\n",
      "[CV 3/5] END ..C=0.1, epsilon=1.0, gamma=0.001;, score=-0.336 total time=   0.0s\n",
      "[CV 4/5] END ..C=0.1, epsilon=1.0, gamma=0.001;, score=-0.346 total time=   0.0s\n",
      "[CV 5/5] END ..C=0.1, epsilon=1.0, gamma=0.001;, score=-0.336 total time=   0.0s\n",
      "[CV 1/5] END ...C=0.1, epsilon=1.0, gamma=0.01;, score=-0.322 total time=   0.0s\n",
      "[CV 2/5] END ...C=0.1, epsilon=1.0, gamma=0.01;, score=-0.321 total time=   0.0s\n",
      "[CV 3/5] END ...C=0.1, epsilon=1.0, gamma=0.01;, score=-0.336 total time=   0.0s\n",
      "[CV 4/5] END ...C=0.1, epsilon=1.0, gamma=0.01;, score=-0.346 total time=   0.0s\n",
      "[CV 5/5] END ...C=0.1, epsilon=1.0, gamma=0.01;, score=-0.336 total time=   0.0s\n",
      "[CV 1/5] END ...C=1, epsilon=0.01, gamma=0.0001;, score=0.370 total time=   2.4s\n",
      "[CV 2/5] END ...C=1, epsilon=0.01, gamma=0.0001;, score=0.347 total time=   2.4s\n",
      "[CV 3/5] END ...C=1, epsilon=0.01, gamma=0.0001;, score=0.346 total time=   2.2s\n",
      "[CV 4/5] END ...C=1, epsilon=0.01, gamma=0.0001;, score=0.336 total time=   2.1s\n",
      "[CV 5/5] END ...C=1, epsilon=0.01, gamma=0.0001;, score=0.376 total time=   2.1s\n",
      "[CV 1/5] END ....C=1, epsilon=0.01, gamma=0.001;, score=0.377 total time=   2.2s\n",
      "[CV 2/5] END ....C=1, epsilon=0.01, gamma=0.001;, score=0.349 total time=   2.2s\n",
      "[CV 3/5] END ....C=1, epsilon=0.01, gamma=0.001;, score=0.348 total time=   2.2s\n",
      "[CV 4/5] END ....C=1, epsilon=0.01, gamma=0.001;, score=0.340 total time=   2.1s\n",
      "[CV 5/5] END ....C=1, epsilon=0.01, gamma=0.001;, score=0.384 total time=   2.2s\n",
      "[CV 1/5] END .....C=1, epsilon=0.01, gamma=0.01;, score=0.334 total time=   2.7s\n",
      "[CV 2/5] END .....C=1, epsilon=0.01, gamma=0.01;, score=0.286 total time=   2.9s\n",
      "[CV 3/5] END .....C=1, epsilon=0.01, gamma=0.01;, score=0.333 total time=   2.8s\n",
      "[CV 4/5] END .....C=1, epsilon=0.01, gamma=0.01;, score=0.301 total time=   2.9s\n",
      "[CV 5/5] END .....C=1, epsilon=0.01, gamma=0.01;, score=0.305 total time=   2.8s\n",
      "[CV 1/5] END ....C=1, epsilon=0.1, gamma=0.0001;, score=0.365 total time=   0.8s\n",
      "[CV 2/5] END ....C=1, epsilon=0.1, gamma=0.0001;, score=0.343 total time=   0.8s\n",
      "[CV 3/5] END ....C=1, epsilon=0.1, gamma=0.0001;, score=0.346 total time=   0.8s\n",
      "[CV 4/5] END ....C=1, epsilon=0.1, gamma=0.0001;, score=0.338 total time=   0.8s\n",
      "[CV 5/5] END ....C=1, epsilon=0.1, gamma=0.0001;, score=0.363 total time=   0.9s\n",
      "[CV 1/5] END .....C=1, epsilon=0.1, gamma=0.001;, score=0.377 total time=   0.8s\n",
      "[CV 2/5] END .....C=1, epsilon=0.1, gamma=0.001;, score=0.352 total time=   0.8s\n",
      "[CV 3/5] END .....C=1, epsilon=0.1, gamma=0.001;, score=0.354 total time=   0.9s\n",
      "[CV 4/5] END .....C=1, epsilon=0.1, gamma=0.001;, score=0.344 total time=   0.9s\n",
      "[CV 5/5] END .....C=1, epsilon=0.1, gamma=0.001;, score=0.377 total time=   0.9s\n",
      "[CV 1/5] END ......C=1, epsilon=0.1, gamma=0.01;, score=0.342 total time=   1.1s\n",
      "[CV 2/5] END ......C=1, epsilon=0.1, gamma=0.01;, score=0.306 total time=   1.1s\n",
      "[CV 3/5] END ......C=1, epsilon=0.1, gamma=0.01;, score=0.340 total time=   1.1s\n",
      "[CV 4/5] END ......C=1, epsilon=0.1, gamma=0.01;, score=0.299 total time=   1.2s\n",
      "[CV 5/5] END ......C=1, epsilon=0.1, gamma=0.01;, score=0.325 total time=   1.2s\n",
      "[CV 1/5] END ...C=1, epsilon=1.0, gamma=0.0001;, score=-0.322 total time=   0.0s\n",
      "[CV 2/5] END ...C=1, epsilon=1.0, gamma=0.0001;, score=-0.321 total time=   0.0s\n",
      "[CV 3/5] END ...C=1, epsilon=1.0, gamma=0.0001;, score=-0.336 total time=   0.0s\n",
      "[CV 4/5] END ...C=1, epsilon=1.0, gamma=0.0001;, score=-0.346 total time=   0.0s\n",
      "[CV 5/5] END ...C=1, epsilon=1.0, gamma=0.0001;, score=-0.336 total time=   0.0s\n",
      "[CV 1/5] END ....C=1, epsilon=1.0, gamma=0.001;, score=-0.322 total time=   0.0s\n",
      "[CV 2/5] END ....C=1, epsilon=1.0, gamma=0.001;, score=-0.321 total time=   0.0s\n",
      "[CV 3/5] END ....C=1, epsilon=1.0, gamma=0.001;, score=-0.336 total time=   0.0s\n",
      "[CV 4/5] END ....C=1, epsilon=1.0, gamma=0.001;, score=-0.346 total time=   0.0s\n",
      "[CV 5/5] END ....C=1, epsilon=1.0, gamma=0.001;, score=-0.336 total time=   0.0s\n",
      "[CV 1/5] END .....C=1, epsilon=1.0, gamma=0.01;, score=-0.322 total time=   0.0s\n",
      "[CV 2/5] END .....C=1, epsilon=1.0, gamma=0.01;, score=-0.321 total time=   0.0s\n",
      "[CV 3/5] END .....C=1, epsilon=1.0, gamma=0.01;, score=-0.336 total time=   0.0s\n",
      "[CV 4/5] END .....C=1, epsilon=1.0, gamma=0.01;, score=-0.346 total time=   0.0s\n",
      "[CV 5/5] END .....C=1, epsilon=1.0, gamma=0.01;, score=-0.336 total time=   0.0s\n",
      "[CV 1/5] END ..C=10, epsilon=0.01, gamma=0.0001;, score=0.377 total time=   2.2s\n",
      "[CV 2/5] END ..C=10, epsilon=0.01, gamma=0.0001;, score=0.348 total time=   2.2s\n",
      "[CV 3/5] END ..C=10, epsilon=0.01, gamma=0.0001;, score=0.345 total time=   2.2s\n",
      "[CV 4/5] END ..C=10, epsilon=0.01, gamma=0.0001;, score=0.339 total time=   2.2s\n",
      "[CV 5/5] END ..C=10, epsilon=0.01, gamma=0.0001;, score=0.384 total time=   2.2s\n",
      "[CV 1/5] END ...C=10, epsilon=0.01, gamma=0.001;, score=0.371 total time=   2.8s\n",
      "[CV 2/5] END ...C=10, epsilon=0.01, gamma=0.001;, score=0.336 total time=   2.9s\n",
      "[CV 3/5] END ...C=10, epsilon=0.01, gamma=0.001;, score=0.348 total time=   2.9s\n",
      "[CV 4/5] END ...C=10, epsilon=0.01, gamma=0.001;, score=0.327 total time=   2.8s\n",
      "[CV 5/5] END ...C=10, epsilon=0.01, gamma=0.001;, score=0.364 total time=   2.9s\n",
      "[CV 1/5] END ....C=10, epsilon=0.01, gamma=0.01;, score=0.178 total time=   9.8s\n"
     ]
    },
    {
     "name": "stdout",
     "output_type": "stream",
     "text": [
      "[CV 2/5] END ....C=10, epsilon=0.01, gamma=0.01;, score=0.147 total time=   9.9s\n",
      "[CV 3/5] END ....C=10, epsilon=0.01, gamma=0.01;, score=0.199 total time=   9.6s\n",
      "[CV 4/5] END ....C=10, epsilon=0.01, gamma=0.01;, score=0.154 total time=   9.9s\n",
      "[CV 5/5] END ....C=10, epsilon=0.01, gamma=0.01;, score=0.161 total time=   9.6s\n",
      "[CV 1/5] END ...C=10, epsilon=0.1, gamma=0.0001;, score=0.375 total time=   0.9s\n",
      "[CV 2/5] END ...C=10, epsilon=0.1, gamma=0.0001;, score=0.350 total time=   0.9s\n",
      "[CV 3/5] END ...C=10, epsilon=0.1, gamma=0.0001;, score=0.351 total time=   0.8s\n",
      "[CV 4/5] END ...C=10, epsilon=0.1, gamma=0.0001;, score=0.346 total time=   0.9s\n",
      "[CV 5/5] END ...C=10, epsilon=0.1, gamma=0.0001;, score=0.379 total time=   0.9s\n",
      "[CV 1/5] END ....C=10, epsilon=0.1, gamma=0.001;, score=0.375 total time=   1.2s\n",
      "[CV 2/5] END ....C=10, epsilon=0.1, gamma=0.001;, score=0.348 total time=   1.1s\n",
      "[CV 3/5] END ....C=10, epsilon=0.1, gamma=0.001;, score=0.354 total time=   1.2s\n",
      "[CV 4/5] END ....C=10, epsilon=0.1, gamma=0.001;, score=0.330 total time=   1.1s\n",
      "[CV 5/5] END ....C=10, epsilon=0.1, gamma=0.001;, score=0.366 total time=   1.1s\n",
      "[CV 1/5] END .....C=10, epsilon=0.1, gamma=0.01;, score=0.216 total time=   3.6s\n",
      "[CV 2/5] END .....C=10, epsilon=0.1, gamma=0.01;, score=0.173 total time=   3.6s\n",
      "[CV 3/5] END .....C=10, epsilon=0.1, gamma=0.01;, score=0.228 total time=   3.7s\n",
      "[CV 4/5] END .....C=10, epsilon=0.1, gamma=0.01;, score=0.199 total time=   3.5s\n",
      "[CV 5/5] END .....C=10, epsilon=0.1, gamma=0.01;, score=0.225 total time=   3.9s\n",
      "[CV 1/5] END ..C=10, epsilon=1.0, gamma=0.0001;, score=-0.322 total time=   0.0s\n",
      "[CV 2/5] END ..C=10, epsilon=1.0, gamma=0.0001;, score=-0.321 total time=   0.0s\n",
      "[CV 3/5] END ..C=10, epsilon=1.0, gamma=0.0001;, score=-0.336 total time=   0.0s\n",
      "[CV 4/5] END ..C=10, epsilon=1.0, gamma=0.0001;, score=-0.346 total time=   0.0s\n",
      "[CV 5/5] END ..C=10, epsilon=1.0, gamma=0.0001;, score=-0.336 total time=   0.0s\n",
      "[CV 1/5] END ...C=10, epsilon=1.0, gamma=0.001;, score=-0.322 total time=   0.0s\n",
      "[CV 2/5] END ...C=10, epsilon=1.0, gamma=0.001;, score=-0.321 total time=   0.0s\n",
      "[CV 3/5] END ...C=10, epsilon=1.0, gamma=0.001;, score=-0.336 total time=   0.0s\n",
      "[CV 4/5] END ...C=10, epsilon=1.0, gamma=0.001;, score=-0.346 total time=   0.0s\n",
      "[CV 5/5] END ...C=10, epsilon=1.0, gamma=0.001;, score=-0.336 total time=   0.0s\n",
      "[CV 1/5] END ....C=10, epsilon=1.0, gamma=0.01;, score=-0.322 total time=   0.0s\n",
      "[CV 2/5] END ....C=10, epsilon=1.0, gamma=0.01;, score=-0.321 total time=   0.0s\n",
      "[CV 3/5] END ....C=10, epsilon=1.0, gamma=0.01;, score=-0.336 total time=   0.0s\n",
      "[CV 4/5] END ....C=10, epsilon=1.0, gamma=0.01;, score=-0.346 total time=   0.0s\n",
      "[CV 5/5] END ....C=10, epsilon=1.0, gamma=0.01;, score=-0.336 total time=   0.0s\n"
     ]
    },
    {
     "data": {
      "text/plain": [
       "GridSearchCV(cv=5, estimator=SVR(),\n",
       "             param_grid={'C': [0.1, 1, 10],\n",
       "                         'epsilon': array([0.01, 0.1 , 1.  ]),\n",
       "                         'gamma': array([0.0001, 0.001 , 0.01  ])},\n",
       "             scoring='r2', verbose=3)"
      ]
     },
     "execution_count": 40,
     "metadata": {},
     "output_type": "execute_result"
    }
   ],
   "source": [
    "param_grid = dict(epsilon=epsilon_range,\n",
    "                  C=C_range,\n",
    "                  gamma=gamma_range)\n",
    "\n",
    "svr_rdf = SVR()\n",
    "\n",
    "grid = GridSearchCV(svr_rdf, param_grid,\n",
    "                    cv = 5,\n",
    "                    scoring = 'r2',\n",
    "                    verbose = 3)\n",
    "\n",
    "grid.fit(rdf_X_train, rdf_y_train.values.ravel())"
   ]
  },
  {
   "cell_type": "code",
   "execution_count": 41,
   "id": "2f07639e",
   "metadata": {
    "ExecuteTime": {
     "end_time": "2022-07-14T23:51:08.880007Z",
     "start_time": "2022-07-14T23:51:08.861007Z"
    }
   },
   "outputs": [
    {
     "data": {
      "text/plain": [
       "{'C': 1, 'epsilon': 0.1, 'gamma': 0.001}"
      ]
     },
     "execution_count": 41,
     "metadata": {},
     "output_type": "execute_result"
    }
   ],
   "source": [
    "grid.best_params_"
   ]
  },
  {
   "cell_type": "code",
   "execution_count": 42,
   "id": "66d30d57",
   "metadata": {
    "ExecuteTime": {
     "end_time": "2022-07-14T23:51:53.983955Z",
     "start_time": "2022-07-14T23:51:47.740964Z"
    }
   },
   "outputs": [
    {
     "name": "stdout",
     "output_type": "stream",
     "text": [
      "Train Score: 0.3608\n",
      "Test Score: 0.3515\n"
     ]
    }
   ],
   "source": [
    "svr_rdf = SVR(C=1, epsilon=0.1, gamma=0.001)\n",
    "\n",
    "scores = cross_val_score(svr_rdf, rdf_X_train, rdf_y_train.values.ravel())\n",
    "# score\n",
    "print(f'Train Score: {scores.mean():.4f}')\n",
    "\n",
    "svr_rdf.fit(rdf_X_train, rdf_y_train.values.ravel())\n",
    "print(f'Test Score: {svr_rdf.score(rdf_X_test, rdf_y_test.values.ravel()):.4f}')"
   ]
  },
  {
   "cell_type": "code",
   "execution_count": 44,
   "id": "b47a4960",
   "metadata": {
    "ExecuteTime": {
     "end_time": "2022-07-14T23:54:48.260988Z",
     "start_time": "2022-07-14T23:54:47.724375Z"
    }
   },
   "outputs": [],
   "source": [
    "rdf_X_test_svr = pd.DataFrame(svr_rdf.predict(rdf_X_test),\n",
    "                              index=rdf_y_test.index)"
   ]
  },
  {
   "cell_type": "code",
   "execution_count": 79,
   "id": "8a147d20",
   "metadata": {
    "ExecuteTime": {
     "end_time": "2022-07-14T22:29:18.579690Z",
     "start_time": "2022-07-14T22:29:09.561691Z"
    }
   },
   "outputs": [
    {
     "name": "stdout",
     "output_type": "stream",
     "text": [
      "Train Score: 0.8205\n",
      "Test Score: 0.8126\n"
     ]
    }
   ],
   "source": [
    "svr_ydf = SVR()\n",
    "\n",
    "scores = cross_val_score(svr_ydf, ydf_X_train, ydf_y_train.values.ravel())\n",
    "# score\n",
    "print(f'Train Score: {scores.mean():.4f}')\n",
    "\n",
    "svr_ydf.fit(ydf_X_train, ydf_y_train.values.ravel())\n",
    "print(f'Test Score: {svr_ydf.score(ydf_X_test, ydf_y_test.values.ravel()):.4f}')"
   ]
  },
  {
   "cell_type": "markdown",
   "id": "4f3ce1a6",
   "metadata": {},
   "source": [
    "# Output"
   ]
  },
  {
   "cell_type": "code",
   "execution_count": 48,
   "id": "ec8c3150",
   "metadata": {
    "ExecuteTime": {
     "end_time": "2022-07-14T23:56:08.221134Z",
     "start_time": "2022-07-14T23:56:08.196118Z"
    }
   },
   "outputs": [],
   "source": [
    "rdf_X_test_svr.to_csv('../data/rdf_X_test_svr.csv')\n",
    "ydf_X_test_rf.to_csv('../data/ydf_X_test_rf.csv')"
   ]
  }
 ],
 "metadata": {
  "kernelspec": {
   "display_name": "Python 3 (ipykernel)",
   "language": "python",
   "name": "python3"
  },
  "language_info": {
   "codemirror_mode": {
    "name": "ipython",
    "version": 3
   },
   "file_extension": ".py",
   "mimetype": "text/x-python",
   "name": "python",
   "nbconvert_exporter": "python",
   "pygments_lexer": "ipython3",
   "version": "3.9.12"
  },
  "toc": {
   "base_numbering": 1,
   "nav_menu": {},
   "number_sections": false,
   "sideBar": true,
   "skip_h1_title": false,
   "title_cell": "Table of Contents",
   "title_sidebar": "Contents",
   "toc_cell": false,
   "toc_position": {},
   "toc_section_display": true,
   "toc_window_display": false
  }
 },
 "nbformat": 4,
 "nbformat_minor": 5
}
