{
 "cells": [
  {
   "cell_type": "markdown",
   "id": "087add73",
   "metadata": {},
   "source": [
    "# Imports"
   ]
  },
  {
   "cell_type": "code",
   "execution_count": 205,
   "id": "dc99a38a",
   "metadata": {
    "ExecuteTime": {
     "end_time": "2022-07-15T03:13:27.674013Z",
     "start_time": "2022-07-15T03:13:27.657081Z"
    }
   },
   "outputs": [],
   "source": [
    "import pandas as pd\n",
    "import numpy as np\n",
    "np.random.seed(2121)\n",
    "\n",
    "from sklearn.metrics import r2_score\n",
    "from sklearn.linear_model import LinearRegression, LassoCV\n",
    "from sklearn.model_selection import GridSearchCV, cross_val_score\n",
    "from sklearn.ensemble import RandomForestRegressor, ExtraTreesRegressor\n",
    "from sklearn.svm import SVR\n",
    "\n",
    "from tensorflow.keras import utils\n",
    "from keras.layers import Dense, Conv2D, MaxPool2D, Dropout, Flatten\n",
    "from keras.models import Sequential\n",
    "from tensorflow.keras.regularizers import l2"
   ]
  },
  {
   "cell_type": "code",
   "execution_count": 206,
   "id": "777d9648",
   "metadata": {
    "ExecuteTime": {
     "end_time": "2022-07-15T03:13:28.121197Z",
     "start_time": "2022-07-15T03:13:27.890065Z"
    }
   },
   "outputs": [],
   "source": [
    "batpos = pd.read_csv('../data/batpos_feature_extracted.csv')\n",
    "\n",
    "rdf_y_train = pd.read_csv('../data/rdf_y_train_preprocessed.csv')\n",
    "rdf_X_test = pd.read_csv('../data/rdf_X_test_svr.csv')\n",
    "\n",
    "ydf_y_train = pd.read_csv('../data/ydf_y_train_preprocessed.csv')\n",
    "ydf_X_test = pd.read_csv('../data/ydf_X_test_rf.csv')"
   ]
  },
  {
   "cell_type": "markdown",
   "id": "a7d30818",
   "metadata": {},
   "source": [
    "# DF prep"
   ]
  },
  {
   "cell_type": "code",
   "execution_count": 207,
   "id": "9baad25d",
   "metadata": {
    "ExecuteTime": {
     "end_time": "2022-07-15T03:13:29.900203Z",
     "start_time": "2022-07-15T03:13:29.887182Z"
    }
   },
   "outputs": [],
   "source": [
    "# set index and clear index name\n",
    "for i in [rdf_y_train,rdf_X_test,ydf_y_train,ydf_X_test]:\n",
    "    \n",
    "    i.set_index('Unnamed: 0', inplace=True)\n",
    "    i.index.name=None"
   ]
  },
  {
   "cell_type": "code",
   "execution_count": 208,
   "id": "292a936b",
   "metadata": {
    "ExecuteTime": {
     "end_time": "2022-07-15T03:13:30.393488Z",
     "start_time": "2022-07-15T03:13:30.375489Z"
    }
   },
   "outputs": [],
   "source": [
    "rdf_X_test.rename(columns={'0':'runs_total_pg'}, inplace=True)\n",
    "ydf_X_test.rename(columns={'0':'opprpg'}, inplace=True)"
   ]
  },
  {
   "cell_type": "code",
   "execution_count": 209,
   "id": "b6ff2c9b",
   "metadata": {
    "ExecuteTime": {
     "end_time": "2022-07-15T03:13:30.762493Z",
     "start_time": "2022-07-15T03:13:30.744493Z"
    }
   },
   "outputs": [],
   "source": [
    "batpos = batpos[['waa_pg', 'player_id', 'name_common', 'age',\n",
    "                   'waa_pg_1yr','waa_pg_2yr','waa_pg_3yr']]"
   ]
  },
  {
   "cell_type": "code",
   "execution_count": 210,
   "id": "c2b52264",
   "metadata": {
    "ExecuteTime": {
     "end_time": "2022-07-15T03:13:31.558941Z",
     "start_time": "2022-07-15T03:13:31.528169Z"
    }
   },
   "outputs": [],
   "source": [
    "batpos_test=pd.merge(pd.merge(rdf_X_test, ydf_X_test,\n",
    "                              how='left', left_index=True, right_index=True,),\n",
    "                     batpos,\n",
    "                     how = 'left', left_index=True, right_index=True)\n",
    "\n",
    "batpos_train=pd.merge(pd.merge(rdf_y_train, ydf_y_train,\n",
    "                              how='left', left_index=True, right_index=True,),\n",
    "                     batpos,\n",
    "                     how = 'left', left_index=True, right_index=True)"
   ]
  },
  {
   "cell_type": "code",
   "execution_count": 211,
   "id": "46da0cf5",
   "metadata": {
    "ExecuteTime": {
     "end_time": "2022-07-15T03:13:31.944585Z",
     "start_time": "2022-07-15T03:13:31.919491Z"
    }
   },
   "outputs": [],
   "source": [
    "target = 'waa_pg'\n",
    "\n",
    "y_train = batpos_train[target]\n",
    "X_train = batpos_train[[col for col in batpos_train.columns \n",
    "                        if col not in [target, 'player_id', 'name_common']]]\n",
    "\n",
    "\n",
    "y_test = batpos_test[target]\n",
    "X_test = batpos_test[[col for col in batpos_test.columns\n",
    "                      if col not in [target, 'player_id', 'name_common']]]"
   ]
  },
  {
   "cell_type": "code",
   "execution_count": 212,
   "id": "bb2c147f",
   "metadata": {
    "ExecuteTime": {
     "end_time": "2022-07-15T03:13:32.824525Z",
     "start_time": "2022-07-15T03:13:32.808524Z"
    }
   },
   "outputs": [
    {
     "data": {
      "text/plain": [
       "((4555, 6), (1139, 6), (4555,), (1139,))"
      ]
     },
     "execution_count": 212,
     "metadata": {},
     "output_type": "execute_result"
    }
   ],
   "source": [
    "X_train.shape, X_test.shape, y_train.shape, y_test.shape"
   ]
  },
  {
   "cell_type": "markdown",
   "id": "b8dfd540",
   "metadata": {},
   "source": [
    "# Baseline"
   ]
  },
  {
   "cell_type": "code",
   "execution_count": 213,
   "id": "e4c6fdd0",
   "metadata": {
    "ExecuteTime": {
     "end_time": "2022-07-15T03:13:34.592464Z",
     "start_time": "2022-07-15T03:13:34.568463Z"
    }
   },
   "outputs": [],
   "source": [
    "baseline_train = (3*X_train['waa_pg_1yr'] + 2*X_train['waa_pg_2yr'] +\\\n",
    "                 X_train['waa_pg_3yr'])/6\n",
    "\n",
    "baseline_test = (3*X_test['waa_pg_1yr'] + 2*X_test['waa_pg_2yr'] +\\\n",
    "                X_test['waa_pg_3yr'])/6"
   ]
  },
  {
   "cell_type": "code",
   "execution_count": 214,
   "id": "7ed20c91",
   "metadata": {
    "ExecuteTime": {
     "end_time": "2022-07-15T03:13:34.929473Z",
     "start_time": "2022-07-15T03:13:34.905556Z"
    }
   },
   "outputs": [
    {
     "data": {
      "text/plain": [
       "0.2726753148207315"
      ]
     },
     "execution_count": 214,
     "metadata": {},
     "output_type": "execute_result"
    }
   ],
   "source": [
    "r2_score(pd.concat([y_train,y_test]),\n",
    "         pd.concat([baseline_train,baseline_test]))"
   ]
  },
  {
   "cell_type": "markdown",
   "id": "edd13fd3",
   "metadata": {},
   "source": [
    "# Linear Regression"
   ]
  },
  {
   "cell_type": "markdown",
   "id": "eefa6f01",
   "metadata": {},
   "source": [
    "## Linear Regression (no regularization)"
   ]
  },
  {
   "cell_type": "code",
   "execution_count": 215,
   "id": "2c900510",
   "metadata": {
    "ExecuteTime": {
     "end_time": "2022-07-15T03:13:37.563341Z",
     "start_time": "2022-07-15T03:13:37.536341Z"
    }
   },
   "outputs": [
    {
     "name": "stdout",
     "output_type": "stream",
     "text": [
      "Train Score: 0.9925\n",
      "Test Score: 0.3477\n"
     ]
    }
   ],
   "source": [
    "# initialize\n",
    "lr = LinearRegression(n_jobs=-1)\n",
    "\n",
    "# fit\n",
    "lr.fit(X_train, y_train)\n",
    "\n",
    "# score\n",
    "print(f'Train Score: {lr.score(X_train, y_train):.4f}')\n",
    "print(f'Test Score: {lr.score(X_test, y_test):.4f}')"
   ]
  },
  {
   "cell_type": "markdown",
   "id": "0b9ac00e",
   "metadata": {},
   "source": [
    "## Linear Regression (Lasso)"
   ]
  },
  {
   "cell_type": "code",
   "execution_count": 216,
   "id": "6dd57dfa",
   "metadata": {
    "ExecuteTime": {
     "end_time": "2022-07-15T03:13:39.475408Z",
     "start_time": "2022-07-15T03:13:39.321409Z"
    }
   },
   "outputs": [
    {
     "name": "stdout",
     "output_type": "stream",
     "text": [
      "Best Alpha: 0.0000\n",
      "Train Score: 0.9924\n",
      "Test Score: 0.3475\n"
     ]
    }
   ],
   "source": [
    "lasso_cv = LassoCV(n_jobs=-1,\n",
    "                       cv=5)\n",
    "\n",
    "lasso_cv.fit(X_train, y_train)\n",
    "\n",
    "print(f'Best Alpha: {lasso_cv.alpha_:.4f}')\n",
    "print(f'Train Score: {lasso_cv.score(X_train, y_train):.4f}')\n",
    "print(f'Test Score: {lasso_cv.score(X_test, y_test):.4f}')"
   ]
  },
  {
   "cell_type": "markdown",
   "id": "b9814830",
   "metadata": {},
   "source": [
    "# Random Forest"
   ]
  },
  {
   "cell_type": "code",
   "execution_count": 217,
   "id": "5d23d894",
   "metadata": {
    "ExecuteTime": {
     "end_time": "2022-07-15T03:13:51.032112Z",
     "start_time": "2022-07-15T03:13:42.154593Z"
    }
   },
   "outputs": [
    {
     "name": "stdout",
     "output_type": "stream",
     "text": [
      "Train Score: 0.9957\n",
      "Test Score: 0.3477\n"
     ]
    }
   ],
   "source": [
    "rf = RandomForestRegressor(n_jobs=-1,\n",
    "                           random_state=1212)\n",
    "\n",
    "scores = cross_val_score(rf, X_train, y_train)\n",
    "print(f'Train Score: {scores.mean():.4f}')\n",
    "\n",
    "\n",
    "rf.fit(X_train, y_train)\n",
    "print(f'Test Score: {rf.score(X_test, y_test):.4f}')"
   ]
  },
  {
   "cell_type": "code",
   "execution_count": 123,
   "id": "c89e8d1d",
   "metadata": {
    "ExecuteTime": {
     "end_time": "2022-07-15T02:24:26.241334Z",
     "start_time": "2022-07-15T02:24:26.213331Z"
    }
   },
   "outputs": [
    {
     "data": {
      "text/html": [
       "<div>\n",
       "<style scoped>\n",
       "    .dataframe tbody tr th:only-of-type {\n",
       "        vertical-align: middle;\n",
       "    }\n",
       "\n",
       "    .dataframe tbody tr th {\n",
       "        vertical-align: top;\n",
       "    }\n",
       "\n",
       "    .dataframe thead th {\n",
       "        text-align: right;\n",
       "    }\n",
       "</style>\n",
       "<table border=\"1\" class=\"dataframe\">\n",
       "  <thead>\n",
       "    <tr style=\"text-align: right;\">\n",
       "      <th></th>\n",
       "      <th>runs_total_pg</th>\n",
       "      <th>opprpg</th>\n",
       "      <th>year_id</th>\n",
       "      <th>age</th>\n",
       "      <th>waa_pg_1yr</th>\n",
       "      <th>waa_pg_2yr</th>\n",
       "      <th>waa_pg_3yr</th>\n",
       "    </tr>\n",
       "  </thead>\n",
       "  <tbody>\n",
       "    <tr>\n",
       "      <th>5416</th>\n",
       "      <td>-0.007087</td>\n",
       "      <td>4.70696</td>\n",
       "      <td>1979</td>\n",
       "      <td>28.0</td>\n",
       "      <td>0.015594</td>\n",
       "      <td>0.000724</td>\n",
       "      <td>0.006118</td>\n",
       "    </tr>\n",
       "    <tr>\n",
       "      <th>2253</th>\n",
       "      <td>-0.100000</td>\n",
       "      <td>4.96224</td>\n",
       "      <td>1997</td>\n",
       "      <td>32.0</td>\n",
       "      <td>-0.009054</td>\n",
       "      <td>0.001206</td>\n",
       "      <td>-0.005664</td>\n",
       "    </tr>\n",
       "    <tr>\n",
       "      <th>4487</th>\n",
       "      <td>0.154870</td>\n",
       "      <td>3.87468</td>\n",
       "      <td>1971</td>\n",
       "      <td>32.0</td>\n",
       "      <td>-0.015124</td>\n",
       "      <td>-0.030545</td>\n",
       "      <td>-0.015066</td>\n",
       "    </tr>\n",
       "    <tr>\n",
       "      <th>723</th>\n",
       "      <td>-0.026800</td>\n",
       "      <td>4.48127</td>\n",
       "      <td>1982</td>\n",
       "      <td>35.0</td>\n",
       "      <td>-0.004257</td>\n",
       "      <td>0.024500</td>\n",
       "      <td>0.005878</td>\n",
       "    </tr>\n",
       "    <tr>\n",
       "      <th>3970</th>\n",
       "      <td>-0.043625</td>\n",
       "      <td>4.28947</td>\n",
       "      <td>2012</td>\n",
       "      <td>29.0</td>\n",
       "      <td>0.024156</td>\n",
       "      <td>0.006538</td>\n",
       "      <td>0.012453</td>\n",
       "    </tr>\n",
       "    <tr>\n",
       "      <th>...</th>\n",
       "      <td>...</td>\n",
       "      <td>...</td>\n",
       "      <td>...</td>\n",
       "      <td>...</td>\n",
       "      <td>...</td>\n",
       "      <td>...</td>\n",
       "      <td>...</td>\n",
       "    </tr>\n",
       "    <tr>\n",
       "      <th>3213</th>\n",
       "      <td>0.349550</td>\n",
       "      <td>3.99035</td>\n",
       "      <td>2014</td>\n",
       "      <td>31.0</td>\n",
       "      <td>0.019528</td>\n",
       "      <td>0.000150</td>\n",
       "      <td>0.005520</td>\n",
       "    </tr>\n",
       "    <tr>\n",
       "      <th>1125</th>\n",
       "      <td>0.059359</td>\n",
       "      <td>4.37636</td>\n",
       "      <td>1977</td>\n",
       "      <td>29.0</td>\n",
       "      <td>0.015789</td>\n",
       "      <td>0.015143</td>\n",
       "      <td>0.021750</td>\n",
       "    </tr>\n",
       "    <tr>\n",
       "      <th>2626</th>\n",
       "      <td>-0.229900</td>\n",
       "      <td>3.86230</td>\n",
       "      <td>1992</td>\n",
       "      <td>31.0</td>\n",
       "      <td>0.008590</td>\n",
       "      <td>0.002013</td>\n",
       "      <td>0.031438</td>\n",
       "    </tr>\n",
       "    <tr>\n",
       "      <th>1690</th>\n",
       "      <td>-0.201624</td>\n",
       "      <td>4.37636</td>\n",
       "      <td>1977</td>\n",
       "      <td>26.0</td>\n",
       "      <td>-0.013893</td>\n",
       "      <td>-0.010066</td>\n",
       "      <td>0.003223</td>\n",
       "    </tr>\n",
       "    <tr>\n",
       "      <th>1160</th>\n",
       "      <td>-0.017613</td>\n",
       "      <td>5.04133</td>\n",
       "      <td>1998</td>\n",
       "      <td>33.0</td>\n",
       "      <td>0.002081</td>\n",
       "      <td>-0.007083</td>\n",
       "      <td>-0.011500</td>\n",
       "    </tr>\n",
       "  </tbody>\n",
       "</table>\n",
       "<p>4555 rows × 7 columns</p>\n",
       "</div>"
      ],
      "text/plain": [
       "      runs_total_pg   opprpg  year_id   age  waa_pg_1yr  waa_pg_2yr  \\\n",
       "5416      -0.007087  4.70696     1979  28.0    0.015594    0.000724   \n",
       "2253      -0.100000  4.96224     1997  32.0   -0.009054    0.001206   \n",
       "4487       0.154870  3.87468     1971  32.0   -0.015124   -0.030545   \n",
       "723       -0.026800  4.48127     1982  35.0   -0.004257    0.024500   \n",
       "3970      -0.043625  4.28947     2012  29.0    0.024156    0.006538   \n",
       "...             ...      ...      ...   ...         ...         ...   \n",
       "3213       0.349550  3.99035     2014  31.0    0.019528    0.000150   \n",
       "1125       0.059359  4.37636     1977  29.0    0.015789    0.015143   \n",
       "2626      -0.229900  3.86230     1992  31.0    0.008590    0.002013   \n",
       "1690      -0.201624  4.37636     1977  26.0   -0.013893   -0.010066   \n",
       "1160      -0.017613  5.04133     1998  33.0    0.002081   -0.007083   \n",
       "\n",
       "      waa_pg_3yr  \n",
       "5416    0.006118  \n",
       "2253   -0.005664  \n",
       "4487   -0.015066  \n",
       "723     0.005878  \n",
       "3970    0.012453  \n",
       "...          ...  \n",
       "3213    0.005520  \n",
       "1125    0.021750  \n",
       "2626    0.031438  \n",
       "1690    0.003223  \n",
       "1160   -0.011500  \n",
       "\n",
       "[4555 rows x 7 columns]"
      ]
     },
     "execution_count": 123,
     "metadata": {},
     "output_type": "execute_result"
    }
   ],
   "source": [
    "X_train"
   ]
  },
  {
   "cell_type": "code",
   "execution_count": 124,
   "id": "0091d9c6",
   "metadata": {
    "ExecuteTime": {
     "end_time": "2022-07-15T02:24:39.350059Z",
     "start_time": "2022-07-15T02:24:39.341057Z"
    }
   },
   "outputs": [],
   "source": [
    "param_grid = {\n",
    "    'max_features': [3,5,7],\n",
    "    'max_depth': [3,5,10,None],\n",
    "    'min_samples_leaf': [1,2,3,5]}"
   ]
  },
  {
   "cell_type": "code",
   "execution_count": 125,
   "id": "6aa2f137",
   "metadata": {
    "ExecuteTime": {
     "end_time": "2022-07-15T02:24:42.476486Z",
     "start_time": "2022-07-15T02:24:42.467415Z"
    }
   },
   "outputs": [],
   "source": [
    "rf_gs = RandomForestRegressor(n_jobs=-1,\n",
    "                           n_estimators=100,\n",
    "                           random_state=1212)"
   ]
  },
  {
   "cell_type": "code",
   "execution_count": 126,
   "id": "32b76f63",
   "metadata": {
    "ExecuteTime": {
     "end_time": "2022-07-15T02:26:14.963435Z",
     "start_time": "2022-07-15T02:24:54.411721Z"
    }
   },
   "outputs": [
    {
     "name": "stdout",
     "output_type": "stream",
     "text": [
      "Fitting 5 folds for each of 48 candidates, totalling 240 fits\n",
      "[CV 1/5] END max_depth=3, max_features=3, min_samples_leaf=1;, score=0.861 total time=   0.1s\n",
      "[CV 2/5] END max_depth=3, max_features=3, min_samples_leaf=1;, score=0.840 total time=   0.2s\n",
      "[CV 3/5] END max_depth=3, max_features=3, min_samples_leaf=1;, score=0.850 total time=   0.2s\n",
      "[CV 4/5] END max_depth=3, max_features=3, min_samples_leaf=1;, score=0.850 total time=   0.1s\n",
      "[CV 5/5] END max_depth=3, max_features=3, min_samples_leaf=1;, score=0.843 total time=   0.2s\n",
      "[CV 1/5] END max_depth=3, max_features=3, min_samples_leaf=2;, score=0.861 total time=   0.1s\n",
      "[CV 2/5] END max_depth=3, max_features=3, min_samples_leaf=2;, score=0.840 total time=   0.1s\n",
      "[CV 3/5] END max_depth=3, max_features=3, min_samples_leaf=2;, score=0.850 total time=   0.1s\n",
      "[CV 4/5] END max_depth=3, max_features=3, min_samples_leaf=2;, score=0.850 total time=   0.1s\n",
      "[CV 5/5] END max_depth=3, max_features=3, min_samples_leaf=2;, score=0.843 total time=   0.4s\n",
      "[CV 1/5] END max_depth=3, max_features=3, min_samples_leaf=3;, score=0.861 total time=   0.1s\n",
      "[CV 2/5] END max_depth=3, max_features=3, min_samples_leaf=3;, score=0.840 total time=   0.1s\n",
      "[CV 3/5] END max_depth=3, max_features=3, min_samples_leaf=3;, score=0.851 total time=   0.1s\n",
      "[CV 4/5] END max_depth=3, max_features=3, min_samples_leaf=3;, score=0.849 total time=   0.1s\n",
      "[CV 5/5] END max_depth=3, max_features=3, min_samples_leaf=3;, score=0.843 total time=   0.1s\n",
      "[CV 1/5] END max_depth=3, max_features=3, min_samples_leaf=5;, score=0.861 total time=   0.1s\n",
      "[CV 2/5] END max_depth=3, max_features=3, min_samples_leaf=5;, score=0.840 total time=   0.1s\n",
      "[CV 3/5] END max_depth=3, max_features=3, min_samples_leaf=5;, score=0.850 total time=   0.1s\n",
      "[CV 4/5] END max_depth=3, max_features=3, min_samples_leaf=5;, score=0.849 total time=   0.1s\n",
      "[CV 5/5] END max_depth=3, max_features=3, min_samples_leaf=5;, score=0.843 total time=   0.1s\n",
      "[CV 1/5] END max_depth=3, max_features=5, min_samples_leaf=1;, score=0.961 total time=   0.2s\n",
      "[CV 2/5] END max_depth=3, max_features=5, min_samples_leaf=1;, score=0.948 total time=   0.1s\n",
      "[CV 3/5] END max_depth=3, max_features=5, min_samples_leaf=1;, score=0.953 total time=   0.1s\n",
      "[CV 4/5] END max_depth=3, max_features=5, min_samples_leaf=1;, score=0.955 total time=   0.2s\n",
      "[CV 5/5] END max_depth=3, max_features=5, min_samples_leaf=1;, score=0.944 total time=   0.2s\n",
      "[CV 1/5] END max_depth=3, max_features=5, min_samples_leaf=2;, score=0.961 total time=   0.2s\n",
      "[CV 2/5] END max_depth=3, max_features=5, min_samples_leaf=2;, score=0.948 total time=   0.2s\n",
      "[CV 3/5] END max_depth=3, max_features=5, min_samples_leaf=2;, score=0.953 total time=   0.2s\n",
      "[CV 4/5] END max_depth=3, max_features=5, min_samples_leaf=2;, score=0.955 total time=   0.2s\n",
      "[CV 5/5] END max_depth=3, max_features=5, min_samples_leaf=2;, score=0.944 total time=   0.2s\n",
      "[CV 1/5] END max_depth=3, max_features=5, min_samples_leaf=3;, score=0.961 total time=   0.1s\n",
      "[CV 2/5] END max_depth=3, max_features=5, min_samples_leaf=3;, score=0.948 total time=   0.2s\n",
      "[CV 3/5] END max_depth=3, max_features=5, min_samples_leaf=3;, score=0.953 total time=   0.1s\n",
      "[CV 4/5] END max_depth=3, max_features=5, min_samples_leaf=3;, score=0.955 total time=   0.2s\n",
      "[CV 5/5] END max_depth=3, max_features=5, min_samples_leaf=3;, score=0.944 total time=   0.1s\n",
      "[CV 1/5] END max_depth=3, max_features=5, min_samples_leaf=5;, score=0.961 total time=   0.2s\n",
      "[CV 2/5] END max_depth=3, max_features=5, min_samples_leaf=5;, score=0.948 total time=   0.1s\n",
      "[CV 3/5] END max_depth=3, max_features=5, min_samples_leaf=5;, score=0.953 total time=   0.2s\n",
      "[CV 4/5] END max_depth=3, max_features=5, min_samples_leaf=5;, score=0.955 total time=   0.1s\n",
      "[CV 5/5] END max_depth=3, max_features=5, min_samples_leaf=5;, score=0.944 total time=   0.2s\n",
      "[CV 1/5] END max_depth=3, max_features=7, min_samples_leaf=1;, score=0.976 total time=   0.1s\n",
      "[CV 2/5] END max_depth=3, max_features=7, min_samples_leaf=1;, score=0.969 total time=   0.2s\n",
      "[CV 3/5] END max_depth=3, max_features=7, min_samples_leaf=1;, score=0.973 total time=   0.2s\n",
      "[CV 4/5] END max_depth=3, max_features=7, min_samples_leaf=1;, score=0.975 total time=   0.2s\n",
      "[CV 5/5] END max_depth=3, max_features=7, min_samples_leaf=1;, score=0.966 total time=   0.2s\n",
      "[CV 1/5] END max_depth=3, max_features=7, min_samples_leaf=2;, score=0.976 total time=   0.2s\n",
      "[CV 2/5] END max_depth=3, max_features=7, min_samples_leaf=2;, score=0.969 total time=   0.2s\n",
      "[CV 3/5] END max_depth=3, max_features=7, min_samples_leaf=2;, score=0.973 total time=   0.2s\n",
      "[CV 4/5] END max_depth=3, max_features=7, min_samples_leaf=2;, score=0.975 total time=   0.1s\n",
      "[CV 5/5] END max_depth=3, max_features=7, min_samples_leaf=2;, score=0.966 total time=   0.1s\n",
      "[CV 1/5] END max_depth=3, max_features=7, min_samples_leaf=3;, score=0.976 total time=   0.1s\n",
      "[CV 2/5] END max_depth=3, max_features=7, min_samples_leaf=3;, score=0.969 total time=   0.2s\n",
      "[CV 3/5] END max_depth=3, max_features=7, min_samples_leaf=3;, score=0.973 total time=   0.2s\n",
      "[CV 4/5] END max_depth=3, max_features=7, min_samples_leaf=3;, score=0.975 total time=   0.1s\n",
      "[CV 5/5] END max_depth=3, max_features=7, min_samples_leaf=3;, score=0.966 total time=   0.1s\n",
      "[CV 1/5] END max_depth=3, max_features=7, min_samples_leaf=5;, score=0.976 total time=   0.1s\n",
      "[CV 2/5] END max_depth=3, max_features=7, min_samples_leaf=5;, score=0.969 total time=   0.1s\n",
      "[CV 3/5] END max_depth=3, max_features=7, min_samples_leaf=5;, score=0.973 total time=   0.1s\n",
      "[CV 4/5] END max_depth=3, max_features=7, min_samples_leaf=5;, score=0.975 total time=   0.1s\n",
      "[CV 5/5] END max_depth=3, max_features=7, min_samples_leaf=5;, score=0.966 total time=   0.1s\n",
      "[CV 1/5] END max_depth=5, max_features=3, min_samples_leaf=1;, score=0.960 total time=   0.1s\n",
      "[CV 2/5] END max_depth=5, max_features=3, min_samples_leaf=1;, score=0.947 total time=   0.1s\n",
      "[CV 3/5] END max_depth=5, max_features=3, min_samples_leaf=1;, score=0.953 total time=   0.2s\n",
      "[CV 4/5] END max_depth=5, max_features=3, min_samples_leaf=1;, score=0.954 total time=   0.2s\n",
      "[CV 5/5] END max_depth=5, max_features=3, min_samples_leaf=1;, score=0.946 total time=   0.1s\n",
      "[CV 1/5] END max_depth=5, max_features=3, min_samples_leaf=2;, score=0.961 total time=   0.2s\n",
      "[CV 2/5] END max_depth=5, max_features=3, min_samples_leaf=2;, score=0.946 total time=   0.1s\n",
      "[CV 3/5] END max_depth=5, max_features=3, min_samples_leaf=2;, score=0.953 total time=   0.2s\n",
      "[CV 4/5] END max_depth=5, max_features=3, min_samples_leaf=2;, score=0.953 total time=   0.1s\n",
      "[CV 5/5] END max_depth=5, max_features=3, min_samples_leaf=2;, score=0.946 total time=   0.1s\n",
      "[CV 1/5] END max_depth=5, max_features=3, min_samples_leaf=3;, score=0.961 total time=   0.1s\n",
      "[CV 2/5] END max_depth=5, max_features=3, min_samples_leaf=3;, score=0.948 total time=   0.2s\n",
      "[CV 3/5] END max_depth=5, max_features=3, min_samples_leaf=3;, score=0.953 total time=   0.1s\n",
      "[CV 4/5] END max_depth=5, max_features=3, min_samples_leaf=3;, score=0.953 total time=   0.1s\n",
      "[CV 5/5] END max_depth=5, max_features=3, min_samples_leaf=3;, score=0.945 total time=   0.1s\n",
      "[CV 1/5] END max_depth=5, max_features=3, min_samples_leaf=5;, score=0.961 total time=   0.1s\n",
      "[CV 2/5] END max_depth=5, max_features=3, min_samples_leaf=5;, score=0.948 total time=   0.1s\n",
      "[CV 3/5] END max_depth=5, max_features=3, min_samples_leaf=5;, score=0.952 total time=   0.1s\n",
      "[CV 4/5] END max_depth=5, max_features=3, min_samples_leaf=5;, score=0.953 total time=   0.1s\n",
      "[CV 5/5] END max_depth=5, max_features=3, min_samples_leaf=5;, score=0.945 total time=   0.1s\n",
      "[CV 1/5] END max_depth=5, max_features=5, min_samples_leaf=1;, score=0.991 total time=   0.2s\n",
      "[CV 2/5] END max_depth=5, max_features=5, min_samples_leaf=1;, score=0.988 total time=   0.2s\n",
      "[CV 3/5] END max_depth=5, max_features=5, min_samples_leaf=1;, score=0.989 total time=   0.2s\n",
      "[CV 4/5] END max_depth=5, max_features=5, min_samples_leaf=1;, score=0.990 total time=   0.2s\n",
      "[CV 5/5] END max_depth=5, max_features=5, min_samples_leaf=1;, score=0.985 total time=   0.2s\n",
      "[CV 1/5] END max_depth=5, max_features=5, min_samples_leaf=2;, score=0.991 total time=   0.2s\n",
      "[CV 2/5] END max_depth=5, max_features=5, min_samples_leaf=2;, score=0.988 total time=   0.2s\n"
     ]
    },
    {
     "name": "stdout",
     "output_type": "stream",
     "text": [
      "[CV 3/5] END max_depth=5, max_features=5, min_samples_leaf=2;, score=0.989 total time=   0.2s\n",
      "[CV 4/5] END max_depth=5, max_features=5, min_samples_leaf=2;, score=0.991 total time=   0.2s\n",
      "[CV 5/5] END max_depth=5, max_features=5, min_samples_leaf=2;, score=0.985 total time=   0.2s\n",
      "[CV 1/5] END max_depth=5, max_features=5, min_samples_leaf=3;, score=0.991 total time=   0.2s\n",
      "[CV 2/5] END max_depth=5, max_features=5, min_samples_leaf=3;, score=0.988 total time=   0.2s\n",
      "[CV 3/5] END max_depth=5, max_features=5, min_samples_leaf=3;, score=0.989 total time=   0.2s\n",
      "[CV 4/5] END max_depth=5, max_features=5, min_samples_leaf=3;, score=0.991 total time=   0.2s\n",
      "[CV 5/5] END max_depth=5, max_features=5, min_samples_leaf=3;, score=0.985 total time=   0.2s\n",
      "[CV 1/5] END max_depth=5, max_features=5, min_samples_leaf=5;, score=0.991 total time=   0.2s\n",
      "[CV 2/5] END max_depth=5, max_features=5, min_samples_leaf=5;, score=0.988 total time=   0.2s\n",
      "[CV 3/5] END max_depth=5, max_features=5, min_samples_leaf=5;, score=0.989 total time=   0.2s\n",
      "[CV 4/5] END max_depth=5, max_features=5, min_samples_leaf=5;, score=0.991 total time=   0.2s\n",
      "[CV 5/5] END max_depth=5, max_features=5, min_samples_leaf=5;, score=0.985 total time=   0.2s\n",
      "[CV 1/5] END max_depth=5, max_features=7, min_samples_leaf=1;, score=0.992 total time=   0.2s\n",
      "[CV 2/5] END max_depth=5, max_features=7, min_samples_leaf=1;, score=0.992 total time=   0.2s\n",
      "[CV 3/5] END max_depth=5, max_features=7, min_samples_leaf=1;, score=0.992 total time=   0.2s\n",
      "[CV 4/5] END max_depth=5, max_features=7, min_samples_leaf=1;, score=0.992 total time=   0.2s\n",
      "[CV 5/5] END max_depth=5, max_features=7, min_samples_leaf=1;, score=0.992 total time=   0.2s\n",
      "[CV 1/5] END max_depth=5, max_features=7, min_samples_leaf=2;, score=0.992 total time=   0.2s\n",
      "[CV 2/5] END max_depth=5, max_features=7, min_samples_leaf=2;, score=0.992 total time=   0.2s\n",
      "[CV 3/5] END max_depth=5, max_features=7, min_samples_leaf=2;, score=0.992 total time=   0.2s\n",
      "[CV 4/5] END max_depth=5, max_features=7, min_samples_leaf=2;, score=0.992 total time=   0.3s\n",
      "[CV 5/5] END max_depth=5, max_features=7, min_samples_leaf=2;, score=0.992 total time=   0.2s\n",
      "[CV 1/5] END max_depth=5, max_features=7, min_samples_leaf=3;, score=0.992 total time=   0.3s\n",
      "[CV 2/5] END max_depth=5, max_features=7, min_samples_leaf=3;, score=0.992 total time=   0.2s\n",
      "[CV 3/5] END max_depth=5, max_features=7, min_samples_leaf=3;, score=0.992 total time=   0.3s\n",
      "[CV 4/5] END max_depth=5, max_features=7, min_samples_leaf=3;, score=0.992 total time=   0.2s\n",
      "[CV 5/5] END max_depth=5, max_features=7, min_samples_leaf=3;, score=0.991 total time=   0.2s\n",
      "[CV 1/5] END max_depth=5, max_features=7, min_samples_leaf=5;, score=0.992 total time=   0.2s\n",
      "[CV 2/5] END max_depth=5, max_features=7, min_samples_leaf=5;, score=0.992 total time=   0.2s\n",
      "[CV 3/5] END max_depth=5, max_features=7, min_samples_leaf=5;, score=0.992 total time=   0.2s\n",
      "[CV 4/5] END max_depth=5, max_features=7, min_samples_leaf=5;, score=0.992 total time=   0.2s\n",
      "[CV 5/5] END max_depth=5, max_features=7, min_samples_leaf=5;, score=0.991 total time=   0.2s\n",
      "[CV 1/5] END max_depth=10, max_features=3, min_samples_leaf=1;, score=0.991 total time=   0.2s\n",
      "[CV 2/5] END max_depth=10, max_features=3, min_samples_leaf=1;, score=0.986 total time=   0.2s\n",
      "[CV 3/5] END max_depth=10, max_features=3, min_samples_leaf=1;, score=0.989 total time=   0.2s\n",
      "[CV 4/5] END max_depth=10, max_features=3, min_samples_leaf=1;, score=0.989 total time=   0.2s\n",
      "[CV 5/5] END max_depth=10, max_features=3, min_samples_leaf=1;, score=0.985 total time=   0.2s\n",
      "[CV 1/5] END max_depth=10, max_features=3, min_samples_leaf=2;, score=0.991 total time=   0.2s\n",
      "[CV 2/5] END max_depth=10, max_features=3, min_samples_leaf=2;, score=0.984 total time=   0.2s\n",
      "[CV 3/5] END max_depth=10, max_features=3, min_samples_leaf=2;, score=0.988 total time=   0.2s\n",
      "[CV 4/5] END max_depth=10, max_features=3, min_samples_leaf=2;, score=0.988 total time=   0.2s\n",
      "[CV 5/5] END max_depth=10, max_features=3, min_samples_leaf=2;, score=0.983 total time=   0.2s\n",
      "[CV 1/5] END max_depth=10, max_features=3, min_samples_leaf=3;, score=0.990 total time=   0.2s\n",
      "[CV 2/5] END max_depth=10, max_features=3, min_samples_leaf=3;, score=0.984 total time=   0.2s\n",
      "[CV 3/5] END max_depth=10, max_features=3, min_samples_leaf=3;, score=0.987 total time=   0.2s\n",
      "[CV 4/5] END max_depth=10, max_features=3, min_samples_leaf=3;, score=0.987 total time=   0.2s\n",
      "[CV 5/5] END max_depth=10, max_features=3, min_samples_leaf=3;, score=0.982 total time=   0.2s\n",
      "[CV 1/5] END max_depth=10, max_features=3, min_samples_leaf=5;, score=0.989 total time=   0.2s\n",
      "[CV 2/5] END max_depth=10, max_features=3, min_samples_leaf=5;, score=0.982 total time=   0.2s\n",
      "[CV 3/5] END max_depth=10, max_features=3, min_samples_leaf=5;, score=0.985 total time=   0.2s\n",
      "[CV 4/5] END max_depth=10, max_features=3, min_samples_leaf=5;, score=0.987 total time=   0.2s\n",
      "[CV 5/5] END max_depth=10, max_features=3, min_samples_leaf=5;, score=0.980 total time=   0.2s\n",
      "[CV 1/5] END max_depth=10, max_features=5, min_samples_leaf=1;, score=0.996 total time=   0.3s\n",
      "[CV 2/5] END max_depth=10, max_features=5, min_samples_leaf=1;, score=0.995 total time=   0.3s\n",
      "[CV 3/5] END max_depth=10, max_features=5, min_samples_leaf=1;, score=0.995 total time=   0.3s\n",
      "[CV 4/5] END max_depth=10, max_features=5, min_samples_leaf=1;, score=0.995 total time=   0.3s\n",
      "[CV 5/5] END max_depth=10, max_features=5, min_samples_leaf=1;, score=0.994 total time=   0.3s\n",
      "[CV 1/5] END max_depth=10, max_features=5, min_samples_leaf=2;, score=0.996 total time=   0.3s\n",
      "[CV 2/5] END max_depth=10, max_features=5, min_samples_leaf=2;, score=0.995 total time=   0.3s\n",
      "[CV 3/5] END max_depth=10, max_features=5, min_samples_leaf=2;, score=0.995 total time=   0.3s\n",
      "[CV 4/5] END max_depth=10, max_features=5, min_samples_leaf=2;, score=0.995 total time=   0.3s\n",
      "[CV 5/5] END max_depth=10, max_features=5, min_samples_leaf=2;, score=0.994 total time=   0.3s\n",
      "[CV 1/5] END max_depth=10, max_features=5, min_samples_leaf=3;, score=0.996 total time=   0.3s\n",
      "[CV 2/5] END max_depth=10, max_features=5, min_samples_leaf=3;, score=0.995 total time=   0.3s\n",
      "[CV 3/5] END max_depth=10, max_features=5, min_samples_leaf=3;, score=0.995 total time=   0.3s\n",
      "[CV 4/5] END max_depth=10, max_features=5, min_samples_leaf=3;, score=0.995 total time=   0.3s\n",
      "[CV 5/5] END max_depth=10, max_features=5, min_samples_leaf=3;, score=0.993 total time=   0.3s\n",
      "[CV 1/5] END max_depth=10, max_features=5, min_samples_leaf=5;, score=0.996 total time=   0.3s\n",
      "[CV 2/5] END max_depth=10, max_features=5, min_samples_leaf=5;, score=0.994 total time=   0.3s\n",
      "[CV 3/5] END max_depth=10, max_features=5, min_samples_leaf=5;, score=0.995 total time=   0.3s\n",
      "[CV 4/5] END max_depth=10, max_features=5, min_samples_leaf=5;, score=0.995 total time=   0.2s\n",
      "[CV 5/5] END max_depth=10, max_features=5, min_samples_leaf=5;, score=0.993 total time=   0.2s\n",
      "[CV 1/5] END max_depth=10, max_features=7, min_samples_leaf=1;, score=0.996 total time=   0.4s\n",
      "[CV 2/5] END max_depth=10, max_features=7, min_samples_leaf=1;, score=0.996 total time=   0.4s\n",
      "[CV 3/5] END max_depth=10, max_features=7, min_samples_leaf=1;, score=0.996 total time=   0.4s\n",
      "[CV 4/5] END max_depth=10, max_features=7, min_samples_leaf=1;, score=0.996 total time=   0.3s\n",
      "[CV 5/5] END max_depth=10, max_features=7, min_samples_leaf=1;, score=0.995 total time=   0.4s\n",
      "[CV 1/5] END max_depth=10, max_features=7, min_samples_leaf=2;, score=0.996 total time=   0.3s\n",
      "[CV 2/5] END max_depth=10, max_features=7, min_samples_leaf=2;, score=0.996 total time=   0.3s\n",
      "[CV 3/5] END max_depth=10, max_features=7, min_samples_leaf=2;, score=0.996 total time=   0.4s\n",
      "[CV 4/5] END max_depth=10, max_features=7, min_samples_leaf=2;, score=0.996 total time=   0.3s\n",
      "[CV 5/5] END max_depth=10, max_features=7, min_samples_leaf=2;, score=0.995 total time=   0.3s\n",
      "[CV 1/5] END max_depth=10, max_features=7, min_samples_leaf=3;, score=0.996 total time=   0.3s\n",
      "[CV 2/5] END max_depth=10, max_features=7, min_samples_leaf=3;, score=0.996 total time=   0.3s\n",
      "[CV 3/5] END max_depth=10, max_features=7, min_samples_leaf=3;, score=0.996 total time=   0.3s\n",
      "[CV 4/5] END max_depth=10, max_features=7, min_samples_leaf=3;, score=0.996 total time=   0.3s\n"
     ]
    },
    {
     "name": "stdout",
     "output_type": "stream",
     "text": [
      "[CV 5/5] END max_depth=10, max_features=7, min_samples_leaf=3;, score=0.995 total time=   0.3s\n",
      "[CV 1/5] END max_depth=10, max_features=7, min_samples_leaf=5;, score=0.996 total time=   0.3s\n",
      "[CV 2/5] END max_depth=10, max_features=7, min_samples_leaf=5;, score=0.996 total time=   0.3s\n",
      "[CV 3/5] END max_depth=10, max_features=7, min_samples_leaf=5;, score=0.996 total time=   0.3s\n",
      "[CV 4/5] END max_depth=10, max_features=7, min_samples_leaf=5;, score=0.996 total time=   0.3s\n",
      "[CV 5/5] END max_depth=10, max_features=7, min_samples_leaf=5;, score=0.994 total time=   0.3s\n",
      "[CV 1/5] END max_depth=None, max_features=3, min_samples_leaf=1;, score=0.993 total time=   0.3s\n",
      "[CV 2/5] END max_depth=None, max_features=3, min_samples_leaf=1;, score=0.988 total time=   0.3s\n",
      "[CV 3/5] END max_depth=None, max_features=3, min_samples_leaf=1;, score=0.991 total time=   0.3s\n",
      "[CV 4/5] END max_depth=None, max_features=3, min_samples_leaf=1;, score=0.991 total time=   0.3s\n",
      "[CV 5/5] END max_depth=None, max_features=3, min_samples_leaf=1;, score=0.985 total time=   0.3s\n",
      "[CV 1/5] END max_depth=None, max_features=3, min_samples_leaf=2;, score=0.992 total time=   0.2s\n",
      "[CV 2/5] END max_depth=None, max_features=3, min_samples_leaf=2;, score=0.987 total time=   0.2s\n",
      "[CV 3/5] END max_depth=None, max_features=3, min_samples_leaf=2;, score=0.989 total time=   0.2s\n",
      "[CV 4/5] END max_depth=None, max_features=3, min_samples_leaf=2;, score=0.990 total time=   0.3s\n",
      "[CV 5/5] END max_depth=None, max_features=3, min_samples_leaf=2;, score=0.984 total time=   0.2s\n",
      "[CV 1/5] END max_depth=None, max_features=3, min_samples_leaf=3;, score=0.991 total time=   0.2s\n",
      "[CV 2/5] END max_depth=None, max_features=3, min_samples_leaf=3;, score=0.985 total time=   0.2s\n",
      "[CV 3/5] END max_depth=None, max_features=3, min_samples_leaf=3;, score=0.988 total time=   0.3s\n",
      "[CV 4/5] END max_depth=None, max_features=3, min_samples_leaf=3;, score=0.988 total time=   0.2s\n",
      "[CV 5/5] END max_depth=None, max_features=3, min_samples_leaf=3;, score=0.982 total time=   0.2s\n",
      "[CV 1/5] END max_depth=None, max_features=3, min_samples_leaf=5;, score=0.990 total time=   0.2s\n",
      "[CV 2/5] END max_depth=None, max_features=3, min_samples_leaf=5;, score=0.983 total time=   0.2s\n",
      "[CV 3/5] END max_depth=None, max_features=3, min_samples_leaf=5;, score=0.986 total time=   0.2s\n",
      "[CV 4/5] END max_depth=None, max_features=3, min_samples_leaf=5;, score=0.986 total time=   0.2s\n",
      "[CV 5/5] END max_depth=None, max_features=3, min_samples_leaf=5;, score=0.980 total time=   0.2s\n",
      "[CV 1/5] END max_depth=None, max_features=5, min_samples_leaf=1;, score=0.996 total time=   0.4s\n",
      "[CV 2/5] END max_depth=None, max_features=5, min_samples_leaf=1;, score=0.995 total time=   0.4s\n",
      "[CV 3/5] END max_depth=None, max_features=5, min_samples_leaf=1;, score=0.995 total time=   0.4s\n",
      "[CV 4/5] END max_depth=None, max_features=5, min_samples_leaf=1;, score=0.995 total time=   0.4s\n",
      "[CV 5/5] END max_depth=None, max_features=5, min_samples_leaf=1;, score=0.994 total time=   0.5s\n",
      "[CV 1/5] END max_depth=None, max_features=5, min_samples_leaf=2;, score=0.996 total time=   0.4s\n",
      "[CV 2/5] END max_depth=None, max_features=5, min_samples_leaf=2;, score=0.995 total time=   0.4s\n",
      "[CV 3/5] END max_depth=None, max_features=5, min_samples_leaf=2;, score=0.995 total time=   0.3s\n",
      "[CV 4/5] END max_depth=None, max_features=5, min_samples_leaf=2;, score=0.996 total time=   0.3s\n",
      "[CV 5/5] END max_depth=None, max_features=5, min_samples_leaf=2;, score=0.994 total time=   0.3s\n",
      "[CV 1/5] END max_depth=None, max_features=5, min_samples_leaf=3;, score=0.996 total time=   0.3s\n",
      "[CV 2/5] END max_depth=None, max_features=5, min_samples_leaf=3;, score=0.995 total time=   0.3s\n",
      "[CV 3/5] END max_depth=None, max_features=5, min_samples_leaf=3;, score=0.995 total time=   0.3s\n",
      "[CV 4/5] END max_depth=None, max_features=5, min_samples_leaf=3;, score=0.995 total time=   0.3s\n",
      "[CV 5/5] END max_depth=None, max_features=5, min_samples_leaf=3;, score=0.993 total time=   0.3s\n",
      "[CV 1/5] END max_depth=None, max_features=5, min_samples_leaf=5;, score=0.996 total time=   0.3s\n",
      "[CV 2/5] END max_depth=None, max_features=5, min_samples_leaf=5;, score=0.994 total time=   0.2s\n",
      "[CV 3/5] END max_depth=None, max_features=5, min_samples_leaf=5;, score=0.995 total time=   0.3s\n",
      "[CV 4/5] END max_depth=None, max_features=5, min_samples_leaf=5;, score=0.995 total time=   0.3s\n",
      "[CV 5/5] END max_depth=None, max_features=5, min_samples_leaf=5;, score=0.992 total time=   0.3s\n",
      "[CV 1/5] END max_depth=None, max_features=7, min_samples_leaf=1;, score=0.996 total time=   0.5s\n",
      "[CV 2/5] END max_depth=None, max_features=7, min_samples_leaf=1;, score=0.996 total time=   0.5s\n",
      "[CV 3/5] END max_depth=None, max_features=7, min_samples_leaf=1;, score=0.996 total time=   0.5s\n",
      "[CV 4/5] END max_depth=None, max_features=7, min_samples_leaf=1;, score=0.996 total time=   0.5s\n",
      "[CV 5/5] END max_depth=None, max_features=7, min_samples_leaf=1;, score=0.995 total time=   0.5s\n",
      "[CV 1/5] END max_depth=None, max_features=7, min_samples_leaf=2;, score=0.996 total time=   0.4s\n",
      "[CV 2/5] END max_depth=None, max_features=7, min_samples_leaf=2;, score=0.996 total time=   0.4s\n",
      "[CV 3/5] END max_depth=None, max_features=7, min_samples_leaf=2;, score=0.996 total time=   0.4s\n",
      "[CV 4/5] END max_depth=None, max_features=7, min_samples_leaf=2;, score=0.996 total time=   0.4s\n",
      "[CV 5/5] END max_depth=None, max_features=7, min_samples_leaf=2;, score=0.995 total time=   0.4s\n",
      "[CV 1/5] END max_depth=None, max_features=7, min_samples_leaf=3;, score=0.996 total time=   0.4s\n",
      "[CV 2/5] END max_depth=None, max_features=7, min_samples_leaf=3;, score=0.996 total time=   0.3s\n",
      "[CV 3/5] END max_depth=None, max_features=7, min_samples_leaf=3;, score=0.996 total time=   0.4s\n",
      "[CV 4/5] END max_depth=None, max_features=7, min_samples_leaf=3;, score=0.996 total time=   0.3s\n",
      "[CV 5/5] END max_depth=None, max_features=7, min_samples_leaf=3;, score=0.995 total time=   0.4s\n",
      "[CV 1/5] END max_depth=None, max_features=7, min_samples_leaf=5;, score=0.996 total time=   0.3s\n",
      "[CV 2/5] END max_depth=None, max_features=7, min_samples_leaf=5;, score=0.996 total time=   0.4s\n",
      "[CV 3/5] END max_depth=None, max_features=7, min_samples_leaf=5;, score=0.996 total time=   0.3s\n",
      "[CV 4/5] END max_depth=None, max_features=7, min_samples_leaf=5;, score=0.996 total time=   0.3s\n",
      "[CV 5/5] END max_depth=None, max_features=7, min_samples_leaf=5;, score=0.994 total time=   0.3s\n"
     ]
    },
    {
     "data": {
      "text/plain": [
       "GridSearchCV(estimator=RandomForestRegressor(n_jobs=-1, random_state=1212),\n",
       "             param_grid={'max_depth': [3, 5, 10, None],\n",
       "                         'max_features': [3, 5, 7],\n",
       "                         'min_samples_leaf': [1, 2, 3, 5]},\n",
       "             verbose=3)"
      ]
     },
     "execution_count": 126,
     "metadata": {},
     "output_type": "execute_result"
    }
   ],
   "source": [
    "gs = GridSearchCV(rf_gs, param_grid, verbose=3)\n",
    "gs.fit(X_train, y_train)"
   ]
  },
  {
   "cell_type": "code",
   "execution_count": 127,
   "id": "f8b6d6a7",
   "metadata": {
    "ExecuteTime": {
     "end_time": "2022-07-15T02:26:21.123101Z",
     "start_time": "2022-07-15T02:26:21.107100Z"
    }
   },
   "outputs": [
    {
     "data": {
      "text/plain": [
       "{'max_depth': None, 'max_features': 7, 'min_samples_leaf': 1}"
      ]
     },
     "execution_count": 127,
     "metadata": {},
     "output_type": "execute_result"
    }
   ],
   "source": [
    "gs.best_params_"
   ]
  },
  {
   "cell_type": "code",
   "execution_count": 129,
   "id": "16eeffb3",
   "metadata": {
    "ExecuteTime": {
     "end_time": "2022-07-15T02:26:37.959121Z",
     "start_time": "2022-07-15T02:26:37.939123Z"
    }
   },
   "outputs": [
    {
     "data": {
      "text/plain": [
       "0.9959217751871524"
      ]
     },
     "execution_count": 129,
     "metadata": {},
     "output_type": "execute_result"
    }
   ],
   "source": [
    "gs.best_score_"
   ]
  },
  {
   "cell_type": "code",
   "execution_count": 218,
   "id": "6c6be962",
   "metadata": {
    "ExecuteTime": {
     "end_time": "2022-07-15T03:14:27.821648Z",
     "start_time": "2022-07-15T03:13:54.783511Z"
    }
   },
   "outputs": [
    {
     "name": "stdout",
     "output_type": "stream",
     "text": [
      "Train Score: 0.9958\n",
      "Test Score: 0.3478\n"
     ]
    }
   ],
   "source": [
    "rf = RandomForestRegressor(n_jobs=-1,\n",
    "                           random_state=1212,\n",
    "                           n_estimators=1000)\n",
    "\n",
    "scores = cross_val_score(rf, X_train, y_train)\n",
    "print(f'Train Score: {scores.mean():.4f}')\n",
    "\n",
    "\n",
    "rf.fit(X_train, y_train)\n",
    "print(f'Test Score: {rf.score(X_test, y_test):.4f}')"
   ]
  },
  {
   "cell_type": "markdown",
   "id": "81490279",
   "metadata": {},
   "source": [
    "# Extra Trees"
   ]
  },
  {
   "cell_type": "code",
   "execution_count": 134,
   "id": "2c874927",
   "metadata": {
    "ExecuteTime": {
     "end_time": "2022-07-15T02:29:28.983225Z",
     "start_time": "2022-07-15T02:29:25.525218Z"
    }
   },
   "outputs": [
    {
     "name": "stdout",
     "output_type": "stream",
     "text": [
      "Train Score: 0.9963\n",
      "Test Score: 0.3472\n"
     ]
    }
   ],
   "source": [
    "et = ExtraTreesRegressor(n_jobs=-1,\n",
    "                           random_state=1212,\n",
    "                           n_estimators=100,)\n",
    "\n",
    "scores = cross_val_score(et, X_train, y_train)\n",
    "print(f'Train Score: {scores.mean():.4f}')\n",
    "\n",
    "\n",
    "et.fit(X_train, y_train)\n",
    "print(f'Test Score: {et.score(X_test, y_test):.4f}')"
   ]
  },
  {
   "cell_type": "code",
   "execution_count": 135,
   "id": "93561702",
   "metadata": {
    "ExecuteTime": {
     "end_time": "2022-07-15T02:31:30.513470Z",
     "start_time": "2022-07-15T02:30:23.156402Z"
    }
   },
   "outputs": [
    {
     "name": "stdout",
     "output_type": "stream",
     "text": [
      "Fitting 5 folds for each of 48 candidates, totalling 240 fits\n",
      "[CV 1/5] END max_depth=3, max_features=3, min_samples_leaf=1;, score=0.615 total time=   0.1s\n",
      "[CV 2/5] END max_depth=3, max_features=3, min_samples_leaf=1;, score=0.614 total time=   0.1s\n",
      "[CV 3/5] END max_depth=3, max_features=3, min_samples_leaf=1;, score=0.606 total time=   0.2s\n",
      "[CV 4/5] END max_depth=3, max_features=3, min_samples_leaf=1;, score=0.610 total time=   0.1s\n",
      "[CV 5/5] END max_depth=3, max_features=3, min_samples_leaf=1;, score=0.638 total time=   0.1s\n",
      "[CV 1/5] END max_depth=3, max_features=3, min_samples_leaf=2;, score=0.609 total time=   0.1s\n",
      "[CV 2/5] END max_depth=3, max_features=3, min_samples_leaf=2;, score=0.626 total time=   0.2s\n",
      "[CV 3/5] END max_depth=3, max_features=3, min_samples_leaf=2;, score=0.614 total time=   0.1s\n",
      "[CV 4/5] END max_depth=3, max_features=3, min_samples_leaf=2;, score=0.617 total time=   0.1s\n",
      "[CV 5/5] END max_depth=3, max_features=3, min_samples_leaf=2;, score=0.632 total time=   0.1s\n",
      "[CV 1/5] END max_depth=3, max_features=3, min_samples_leaf=3;, score=0.618 total time=   0.1s\n",
      "[CV 2/5] END max_depth=3, max_features=3, min_samples_leaf=3;, score=0.627 total time=   0.1s\n",
      "[CV 3/5] END max_depth=3, max_features=3, min_samples_leaf=3;, score=0.615 total time=   0.1s\n",
      "[CV 4/5] END max_depth=3, max_features=3, min_samples_leaf=3;, score=0.614 total time=   0.2s\n",
      "[CV 5/5] END max_depth=3, max_features=3, min_samples_leaf=3;, score=0.633 total time=   0.1s\n",
      "[CV 1/5] END max_depth=3, max_features=3, min_samples_leaf=5;, score=0.625 total time=   0.1s\n",
      "[CV 2/5] END max_depth=3, max_features=3, min_samples_leaf=5;, score=0.611 total time=   0.1s\n",
      "[CV 3/5] END max_depth=3, max_features=3, min_samples_leaf=5;, score=0.610 total time=   0.1s\n",
      "[CV 4/5] END max_depth=3, max_features=3, min_samples_leaf=5;, score=0.615 total time=   0.1s\n",
      "[CV 5/5] END max_depth=3, max_features=3, min_samples_leaf=5;, score=0.635 total time=   0.1s\n",
      "[CV 1/5] END max_depth=3, max_features=5, min_samples_leaf=1;, score=0.742 total time=   0.2s\n",
      "[CV 2/5] END max_depth=3, max_features=5, min_samples_leaf=1;, score=0.738 total time=   0.1s\n",
      "[CV 3/5] END max_depth=3, max_features=5, min_samples_leaf=1;, score=0.732 total time=   0.1s\n",
      "[CV 4/5] END max_depth=3, max_features=5, min_samples_leaf=1;, score=0.734 total time=   0.1s\n",
      "[CV 5/5] END max_depth=3, max_features=5, min_samples_leaf=1;, score=0.763 total time=   0.1s\n",
      "[CV 1/5] END max_depth=3, max_features=5, min_samples_leaf=2;, score=0.742 total time=   0.1s\n",
      "[CV 2/5] END max_depth=3, max_features=5, min_samples_leaf=2;, score=0.732 total time=   0.1s\n",
      "[CV 3/5] END max_depth=3, max_features=5, min_samples_leaf=2;, score=0.732 total time=   0.1s\n",
      "[CV 4/5] END max_depth=3, max_features=5, min_samples_leaf=2;, score=0.736 total time=   0.2s\n",
      "[CV 5/5] END max_depth=3, max_features=5, min_samples_leaf=2;, score=0.766 total time=   0.1s\n",
      "[CV 1/5] END max_depth=3, max_features=5, min_samples_leaf=3;, score=0.741 total time=   0.1s\n",
      "[CV 2/5] END max_depth=3, max_features=5, min_samples_leaf=3;, score=0.732 total time=   0.1s\n",
      "[CV 3/5] END max_depth=3, max_features=5, min_samples_leaf=3;, score=0.731 total time=   0.2s\n",
      "[CV 4/5] END max_depth=3, max_features=5, min_samples_leaf=3;, score=0.739 total time=   0.1s\n",
      "[CV 5/5] END max_depth=3, max_features=5, min_samples_leaf=3;, score=0.758 total time=   0.1s\n",
      "[CV 1/5] END max_depth=3, max_features=5, min_samples_leaf=5;, score=0.740 total time=   0.1s\n",
      "[CV 2/5] END max_depth=3, max_features=5, min_samples_leaf=5;, score=0.731 total time=   0.1s\n",
      "[CV 3/5] END max_depth=3, max_features=5, min_samples_leaf=5;, score=0.730 total time=   0.1s\n",
      "[CV 4/5] END max_depth=3, max_features=5, min_samples_leaf=5;, score=0.736 total time=   0.1s\n",
      "[CV 5/5] END max_depth=3, max_features=5, min_samples_leaf=5;, score=0.758 total time=   0.1s\n",
      "[CV 1/5] END max_depth=3, max_features=7, min_samples_leaf=1;, score=0.847 total time=   0.1s\n",
      "[CV 2/5] END max_depth=3, max_features=7, min_samples_leaf=1;, score=0.844 total time=   0.1s\n",
      "[CV 3/5] END max_depth=3, max_features=7, min_samples_leaf=1;, score=0.841 total time=   0.1s\n",
      "[CV 4/5] END max_depth=3, max_features=7, min_samples_leaf=1;, score=0.848 total time=   0.1s\n",
      "[CV 5/5] END max_depth=3, max_features=7, min_samples_leaf=1;, score=0.863 total time=   0.1s\n",
      "[CV 1/5] END max_depth=3, max_features=7, min_samples_leaf=2;, score=0.844 total time=   0.2s\n",
      "[CV 2/5] END max_depth=3, max_features=7, min_samples_leaf=2;, score=0.841 total time=   0.2s\n",
      "[CV 3/5] END max_depth=3, max_features=7, min_samples_leaf=2;, score=0.843 total time=   0.2s\n",
      "[CV 4/5] END max_depth=3, max_features=7, min_samples_leaf=2;, score=0.846 total time=   0.1s\n",
      "[CV 5/5] END max_depth=3, max_features=7, min_samples_leaf=2;, score=0.859 total time=   0.1s\n",
      "[CV 1/5] END max_depth=3, max_features=7, min_samples_leaf=3;, score=0.848 total time=   0.1s\n",
      "[CV 2/5] END max_depth=3, max_features=7, min_samples_leaf=3;, score=0.845 total time=   0.1s\n",
      "[CV 3/5] END max_depth=3, max_features=7, min_samples_leaf=3;, score=0.843 total time=   0.1s\n",
      "[CV 4/5] END max_depth=3, max_features=7, min_samples_leaf=3;, score=0.847 total time=   0.1s\n",
      "[CV 5/5] END max_depth=3, max_features=7, min_samples_leaf=3;, score=0.863 total time=   0.1s\n",
      "[CV 1/5] END max_depth=3, max_features=7, min_samples_leaf=5;, score=0.851 total time=   0.1s\n",
      "[CV 2/5] END max_depth=3, max_features=7, min_samples_leaf=5;, score=0.846 total time=   0.1s\n",
      "[CV 3/5] END max_depth=3, max_features=7, min_samples_leaf=5;, score=0.846 total time=   0.1s\n",
      "[CV 4/5] END max_depth=3, max_features=7, min_samples_leaf=5;, score=0.852 total time=   0.1s\n",
      "[CV 5/5] END max_depth=3, max_features=7, min_samples_leaf=5;, score=0.860 total time=   0.1s\n",
      "[CV 1/5] END max_depth=5, max_features=3, min_samples_leaf=1;, score=0.789 total time=   0.1s\n",
      "[CV 2/5] END max_depth=5, max_features=3, min_samples_leaf=1;, score=0.786 total time=   0.1s\n",
      "[CV 3/5] END max_depth=5, max_features=3, min_samples_leaf=1;, score=0.789 total time=   0.1s\n",
      "[CV 4/5] END max_depth=5, max_features=3, min_samples_leaf=1;, score=0.802 total time=   0.1s\n",
      "[CV 5/5] END max_depth=5, max_features=3, min_samples_leaf=1;, score=0.813 total time=   0.1s\n",
      "[CV 1/5] END max_depth=5, max_features=3, min_samples_leaf=2;, score=0.794 total time=   0.1s\n",
      "[CV 2/5] END max_depth=5, max_features=3, min_samples_leaf=2;, score=0.777 total time=   0.2s\n",
      "[CV 3/5] END max_depth=5, max_features=3, min_samples_leaf=2;, score=0.777 total time=   0.1s\n",
      "[CV 4/5] END max_depth=5, max_features=3, min_samples_leaf=2;, score=0.773 total time=   0.1s\n",
      "[CV 5/5] END max_depth=5, max_features=3, min_samples_leaf=2;, score=0.794 total time=   0.1s\n",
      "[CV 1/5] END max_depth=5, max_features=3, min_samples_leaf=3;, score=0.800 total time=   0.1s\n",
      "[CV 2/5] END max_depth=5, max_features=3, min_samples_leaf=3;, score=0.788 total time=   0.1s\n",
      "[CV 3/5] END max_depth=5, max_features=3, min_samples_leaf=3;, score=0.788 total time=   0.1s\n",
      "[CV 4/5] END max_depth=5, max_features=3, min_samples_leaf=3;, score=0.776 total time=   0.1s\n",
      "[CV 5/5] END max_depth=5, max_features=3, min_samples_leaf=3;, score=0.798 total time=   0.2s\n",
      "[CV 1/5] END max_depth=5, max_features=3, min_samples_leaf=5;, score=0.792 total time=   0.2s\n",
      "[CV 2/5] END max_depth=5, max_features=3, min_samples_leaf=5;, score=0.793 total time=   0.1s\n",
      "[CV 3/5] END max_depth=5, max_features=3, min_samples_leaf=5;, score=0.790 total time=   0.1s\n",
      "[CV 4/5] END max_depth=5, max_features=3, min_samples_leaf=5;, score=0.780 total time=   0.1s\n",
      "[CV 5/5] END max_depth=5, max_features=3, min_samples_leaf=5;, score=0.789 total time=   0.1s\n",
      "[CV 1/5] END max_depth=5, max_features=5, min_samples_leaf=1;, score=0.913 total time=   0.1s\n",
      "[CV 2/5] END max_depth=5, max_features=5, min_samples_leaf=1;, score=0.909 total time=   0.1s\n",
      "[CV 3/5] END max_depth=5, max_features=5, min_samples_leaf=1;, score=0.911 total time=   0.1s\n",
      "[CV 4/5] END max_depth=5, max_features=5, min_samples_leaf=1;, score=0.911 total time=   0.1s\n",
      "[CV 5/5] END max_depth=5, max_features=5, min_samples_leaf=1;, score=0.924 total time=   0.1s\n",
      "[CV 1/5] END max_depth=5, max_features=5, min_samples_leaf=2;, score=0.894 total time=   0.1s\n",
      "[CV 2/5] END max_depth=5, max_features=5, min_samples_leaf=2;, score=0.902 total time=   0.2s\n"
     ]
    },
    {
     "name": "stdout",
     "output_type": "stream",
     "text": [
      "[CV 3/5] END max_depth=5, max_features=5, min_samples_leaf=2;, score=0.896 total time=   0.1s\n",
      "[CV 4/5] END max_depth=5, max_features=5, min_samples_leaf=2;, score=0.909 total time=   0.1s\n",
      "[CV 5/5] END max_depth=5, max_features=5, min_samples_leaf=2;, score=0.906 total time=   0.1s\n",
      "[CV 1/5] END max_depth=5, max_features=5, min_samples_leaf=3;, score=0.895 total time=   0.1s\n",
      "[CV 2/5] END max_depth=5, max_features=5, min_samples_leaf=3;, score=0.908 total time=   0.1s\n",
      "[CV 3/5] END max_depth=5, max_features=5, min_samples_leaf=3;, score=0.898 total time=   0.1s\n",
      "[CV 4/5] END max_depth=5, max_features=5, min_samples_leaf=3;, score=0.900 total time=   0.1s\n",
      "[CV 5/5] END max_depth=5, max_features=5, min_samples_leaf=3;, score=0.902 total time=   0.1s\n",
      "[CV 1/5] END max_depth=5, max_features=5, min_samples_leaf=5;, score=0.894 total time=   0.1s\n",
      "[CV 2/5] END max_depth=5, max_features=5, min_samples_leaf=5;, score=0.883 total time=   0.2s\n",
      "[CV 3/5] END max_depth=5, max_features=5, min_samples_leaf=5;, score=0.893 total time=   0.2s\n",
      "[CV 4/5] END max_depth=5, max_features=5, min_samples_leaf=5;, score=0.898 total time=   0.1s\n",
      "[CV 5/5] END max_depth=5, max_features=5, min_samples_leaf=5;, score=0.909 total time=   0.1s\n",
      "[CV 1/5] END max_depth=5, max_features=7, min_samples_leaf=1;, score=0.967 total time=   0.1s\n",
      "[CV 2/5] END max_depth=5, max_features=7, min_samples_leaf=1;, score=0.968 total time=   0.1s\n",
      "[CV 3/5] END max_depth=5, max_features=7, min_samples_leaf=1;, score=0.968 total time=   0.1s\n",
      "[CV 4/5] END max_depth=5, max_features=7, min_samples_leaf=1;, score=0.964 total time=   0.1s\n",
      "[CV 5/5] END max_depth=5, max_features=7, min_samples_leaf=1;, score=0.971 total time=   0.1s\n",
      "[CV 1/5] END max_depth=5, max_features=7, min_samples_leaf=2;, score=0.971 total time=   0.1s\n",
      "[CV 2/5] END max_depth=5, max_features=7, min_samples_leaf=2;, score=0.967 total time=   0.1s\n",
      "[CV 3/5] END max_depth=5, max_features=7, min_samples_leaf=2;, score=0.967 total time=   0.1s\n",
      "[CV 4/5] END max_depth=5, max_features=7, min_samples_leaf=2;, score=0.966 total time=   0.1s\n",
      "[CV 5/5] END max_depth=5, max_features=7, min_samples_leaf=2;, score=0.970 total time=   0.1s\n",
      "[CV 1/5] END max_depth=5, max_features=7, min_samples_leaf=3;, score=0.965 total time=   0.1s\n",
      "[CV 2/5] END max_depth=5, max_features=7, min_samples_leaf=3;, score=0.968 total time=   0.1s\n",
      "[CV 3/5] END max_depth=5, max_features=7, min_samples_leaf=3;, score=0.965 total time=   0.1s\n",
      "[CV 4/5] END max_depth=5, max_features=7, min_samples_leaf=3;, score=0.964 total time=   0.1s\n",
      "[CV 5/5] END max_depth=5, max_features=7, min_samples_leaf=3;, score=0.969 total time=   0.1s\n",
      "[CV 1/5] END max_depth=5, max_features=7, min_samples_leaf=5;, score=0.967 total time=   0.1s\n",
      "[CV 2/5] END max_depth=5, max_features=7, min_samples_leaf=5;, score=0.962 total time=   0.1s\n",
      "[CV 3/5] END max_depth=5, max_features=7, min_samples_leaf=5;, score=0.965 total time=   0.1s\n",
      "[CV 4/5] END max_depth=5, max_features=7, min_samples_leaf=5;, score=0.966 total time=   0.1s\n",
      "[CV 5/5] END max_depth=5, max_features=7, min_samples_leaf=5;, score=0.963 total time=   0.1s\n",
      "[CV 1/5] END max_depth=10, max_features=3, min_samples_leaf=1;, score=0.959 total time=   0.2s\n",
      "[CV 2/5] END max_depth=10, max_features=3, min_samples_leaf=1;, score=0.947 total time=   0.2s\n",
      "[CV 3/5] END max_depth=10, max_features=3, min_samples_leaf=1;, score=0.951 total time=   0.2s\n",
      "[CV 4/5] END max_depth=10, max_features=3, min_samples_leaf=1;, score=0.953 total time=   0.2s\n",
      "[CV 5/5] END max_depth=10, max_features=3, min_samples_leaf=1;, score=0.948 total time=   0.2s\n",
      "[CV 1/5] END max_depth=10, max_features=3, min_samples_leaf=2;, score=0.954 total time=   0.2s\n",
      "[CV 2/5] END max_depth=10, max_features=3, min_samples_leaf=2;, score=0.951 total time=   0.2s\n",
      "[CV 3/5] END max_depth=10, max_features=3, min_samples_leaf=2;, score=0.943 total time=   0.1s\n",
      "[CV 4/5] END max_depth=10, max_features=3, min_samples_leaf=2;, score=0.948 total time=   0.1s\n",
      "[CV 5/5] END max_depth=10, max_features=3, min_samples_leaf=2;, score=0.948 total time=   0.1s\n",
      "[CV 1/5] END max_depth=10, max_features=3, min_samples_leaf=3;, score=0.950 total time=   0.1s\n",
      "[CV 2/5] END max_depth=10, max_features=3, min_samples_leaf=3;, score=0.945 total time=   0.1s\n",
      "[CV 3/5] END max_depth=10, max_features=3, min_samples_leaf=3;, score=0.946 total time=   0.1s\n",
      "[CV 4/5] END max_depth=10, max_features=3, min_samples_leaf=3;, score=0.946 total time=   0.1s\n",
      "[CV 5/5] END max_depth=10, max_features=3, min_samples_leaf=3;, score=0.945 total time=   0.1s\n",
      "[CV 1/5] END max_depth=10, max_features=3, min_samples_leaf=5;, score=0.942 total time=   0.1s\n",
      "[CV 2/5] END max_depth=10, max_features=3, min_samples_leaf=5;, score=0.940 total time=   0.1s\n",
      "[CV 3/5] END max_depth=10, max_features=3, min_samples_leaf=5;, score=0.939 total time=   0.1s\n",
      "[CV 4/5] END max_depth=10, max_features=3, min_samples_leaf=5;, score=0.942 total time=   0.1s\n",
      "[CV 5/5] END max_depth=10, max_features=3, min_samples_leaf=5;, score=0.937 total time=   0.1s\n",
      "[CV 1/5] END max_depth=10, max_features=5, min_samples_leaf=1;, score=0.992 total time=   0.2s\n",
      "[CV 2/5] END max_depth=10, max_features=5, min_samples_leaf=1;, score=0.992 total time=   0.2s\n",
      "[CV 3/5] END max_depth=10, max_features=5, min_samples_leaf=1;, score=0.992 total time=   0.2s\n",
      "[CV 4/5] END max_depth=10, max_features=5, min_samples_leaf=1;, score=0.992 total time=   0.2s\n",
      "[CV 5/5] END max_depth=10, max_features=5, min_samples_leaf=1;, score=0.991 total time=   0.2s\n",
      "[CV 1/5] END max_depth=10, max_features=5, min_samples_leaf=2;, score=0.992 total time=   0.2s\n",
      "[CV 2/5] END max_depth=10, max_features=5, min_samples_leaf=2;, score=0.991 total time=   0.2s\n",
      "[CV 3/5] END max_depth=10, max_features=5, min_samples_leaf=2;, score=0.991 total time=   0.2s\n",
      "[CV 4/5] END max_depth=10, max_features=5, min_samples_leaf=2;, score=0.991 total time=   0.2s\n",
      "[CV 5/5] END max_depth=10, max_features=5, min_samples_leaf=2;, score=0.990 total time=   0.2s\n",
      "[CV 1/5] END max_depth=10, max_features=5, min_samples_leaf=3;, score=0.992 total time=   0.2s\n",
      "[CV 2/5] END max_depth=10, max_features=5, min_samples_leaf=3;, score=0.989 total time=   0.2s\n",
      "[CV 3/5] END max_depth=10, max_features=5, min_samples_leaf=3;, score=0.991 total time=   0.2s\n",
      "[CV 4/5] END max_depth=10, max_features=5, min_samples_leaf=3;, score=0.991 total time=   0.1s\n",
      "[CV 5/5] END max_depth=10, max_features=5, min_samples_leaf=3;, score=0.988 total time=   0.2s\n",
      "[CV 1/5] END max_depth=10, max_features=5, min_samples_leaf=5;, score=0.991 total time=   0.1s\n",
      "[CV 2/5] END max_depth=10, max_features=5, min_samples_leaf=5;, score=0.986 total time=   0.1s\n",
      "[CV 3/5] END max_depth=10, max_features=5, min_samples_leaf=5;, score=0.988 total time=   0.1s\n",
      "[CV 4/5] END max_depth=10, max_features=5, min_samples_leaf=5;, score=0.988 total time=   0.2s\n",
      "[CV 5/5] END max_depth=10, max_features=5, min_samples_leaf=5;, score=0.985 total time=   0.2s\n",
      "[CV 1/5] END max_depth=10, max_features=7, min_samples_leaf=1;, score=0.995 total time=   0.2s\n",
      "[CV 2/5] END max_depth=10, max_features=7, min_samples_leaf=1;, score=0.995 total time=   0.2s\n",
      "[CV 3/5] END max_depth=10, max_features=7, min_samples_leaf=1;, score=0.995 total time=   0.2s\n",
      "[CV 4/5] END max_depth=10, max_features=7, min_samples_leaf=1;, score=0.995 total time=   0.2s\n",
      "[CV 5/5] END max_depth=10, max_features=7, min_samples_leaf=1;, score=0.995 total time=   0.2s\n",
      "[CV 1/5] END max_depth=10, max_features=7, min_samples_leaf=2;, score=0.995 total time=   0.2s\n",
      "[CV 2/5] END max_depth=10, max_features=7, min_samples_leaf=2;, score=0.995 total time=   0.2s\n",
      "[CV 3/5] END max_depth=10, max_features=7, min_samples_leaf=2;, score=0.995 total time=   0.2s\n",
      "[CV 4/5] END max_depth=10, max_features=7, min_samples_leaf=2;, score=0.995 total time=   0.2s\n",
      "[CV 5/5] END max_depth=10, max_features=7, min_samples_leaf=2;, score=0.994 total time=   0.2s\n",
      "[CV 1/5] END max_depth=10, max_features=7, min_samples_leaf=3;, score=0.995 total time=   0.2s\n",
      "[CV 2/5] END max_depth=10, max_features=7, min_samples_leaf=3;, score=0.994 total time=   0.2s\n",
      "[CV 3/5] END max_depth=10, max_features=7, min_samples_leaf=3;, score=0.995 total time=   0.2s\n",
      "[CV 4/5] END max_depth=10, max_features=7, min_samples_leaf=3;, score=0.995 total time=   0.2s\n"
     ]
    },
    {
     "name": "stdout",
     "output_type": "stream",
     "text": [
      "[CV 5/5] END max_depth=10, max_features=7, min_samples_leaf=3;, score=0.993 total time=   0.2s\n",
      "[CV 1/5] END max_depth=10, max_features=7, min_samples_leaf=5;, score=0.995 total time=   0.1s\n",
      "[CV 2/5] END max_depth=10, max_features=7, min_samples_leaf=5;, score=0.993 total time=   0.2s\n",
      "[CV 3/5] END max_depth=10, max_features=7, min_samples_leaf=5;, score=0.994 total time=   0.2s\n",
      "[CV 4/5] END max_depth=10, max_features=7, min_samples_leaf=5;, score=0.994 total time=   0.2s\n",
      "[CV 5/5] END max_depth=10, max_features=7, min_samples_leaf=5;, score=0.992 total time=   0.6s\n",
      "[CV 1/5] END max_depth=None, max_features=3, min_samples_leaf=1;, score=0.992 total time=   0.3s\n",
      "[CV 2/5] END max_depth=None, max_features=3, min_samples_leaf=1;, score=0.990 total time=   0.3s\n",
      "[CV 3/5] END max_depth=None, max_features=3, min_samples_leaf=1;, score=0.991 total time=   0.3s\n",
      "[CV 4/5] END max_depth=None, max_features=3, min_samples_leaf=1;, score=0.989 total time=   0.3s\n",
      "[CV 5/5] END max_depth=None, max_features=3, min_samples_leaf=1;, score=0.988 total time=   0.3s\n",
      "[CV 1/5] END max_depth=None, max_features=3, min_samples_leaf=2;, score=0.987 total time=   0.2s\n",
      "[CV 2/5] END max_depth=None, max_features=3, min_samples_leaf=2;, score=0.983 total time=   0.3s\n",
      "[CV 3/5] END max_depth=None, max_features=3, min_samples_leaf=2;, score=0.986 total time=   0.2s\n",
      "[CV 4/5] END max_depth=None, max_features=3, min_samples_leaf=2;, score=0.987 total time=   0.2s\n",
      "[CV 5/5] END max_depth=None, max_features=3, min_samples_leaf=2;, score=0.981 total time=   0.2s\n",
      "[CV 1/5] END max_depth=None, max_features=3, min_samples_leaf=3;, score=0.984 total time=   0.2s\n",
      "[CV 2/5] END max_depth=None, max_features=3, min_samples_leaf=3;, score=0.976 total time=   0.2s\n",
      "[CV 3/5] END max_depth=None, max_features=3, min_samples_leaf=3;, score=0.980 total time=   0.2s\n",
      "[CV 4/5] END max_depth=None, max_features=3, min_samples_leaf=3;, score=0.978 total time=   0.2s\n",
      "[CV 5/5] END max_depth=None, max_features=3, min_samples_leaf=3;, score=0.974 total time=   0.2s\n",
      "[CV 1/5] END max_depth=None, max_features=3, min_samples_leaf=5;, score=0.978 total time=   0.2s\n",
      "[CV 2/5] END max_depth=None, max_features=3, min_samples_leaf=5;, score=0.962 total time=   0.2s\n",
      "[CV 3/5] END max_depth=None, max_features=3, min_samples_leaf=5;, score=0.970 total time=   0.2s\n",
      "[CV 4/5] END max_depth=None, max_features=3, min_samples_leaf=5;, score=0.967 total time=   0.2s\n",
      "[CV 5/5] END max_depth=None, max_features=3, min_samples_leaf=5;, score=0.963 total time=   0.2s\n",
      "[CV 1/5] END max_depth=None, max_features=5, min_samples_leaf=1;, score=0.996 total time=   0.3s\n",
      "[CV 2/5] END max_depth=None, max_features=5, min_samples_leaf=1;, score=0.996 total time=   0.3s\n",
      "[CV 3/5] END max_depth=None, max_features=5, min_samples_leaf=1;, score=0.996 total time=   0.4s\n",
      "[CV 4/5] END max_depth=None, max_features=5, min_samples_leaf=1;, score=0.996 total time=   0.4s\n",
      "[CV 5/5] END max_depth=None, max_features=5, min_samples_leaf=1;, score=0.994 total time=   0.5s\n",
      "[CV 1/5] END max_depth=None, max_features=5, min_samples_leaf=2;, score=0.996 total time=   0.3s\n",
      "[CV 2/5] END max_depth=None, max_features=5, min_samples_leaf=2;, score=0.995 total time=   0.3s\n",
      "[CV 3/5] END max_depth=None, max_features=5, min_samples_leaf=2;, score=0.995 total time=   0.2s\n",
      "[CV 4/5] END max_depth=None, max_features=5, min_samples_leaf=2;, score=0.995 total time=   0.3s\n",
      "[CV 5/5] END max_depth=None, max_features=5, min_samples_leaf=2;, score=0.993 total time=   0.2s\n",
      "[CV 1/5] END max_depth=None, max_features=5, min_samples_leaf=3;, score=0.995 total time=   0.2s\n",
      "[CV 2/5] END max_depth=None, max_features=5, min_samples_leaf=3;, score=0.993 total time=   0.2s\n",
      "[CV 3/5] END max_depth=None, max_features=5, min_samples_leaf=3;, score=0.994 total time=   0.2s\n",
      "[CV 4/5] END max_depth=None, max_features=5, min_samples_leaf=3;, score=0.994 total time=   0.2s\n",
      "[CV 5/5] END max_depth=None, max_features=5, min_samples_leaf=3;, score=0.991 total time=   0.2s\n",
      "[CV 1/5] END max_depth=None, max_features=5, min_samples_leaf=5;, score=0.993 total time=   0.2s\n",
      "[CV 2/5] END max_depth=None, max_features=5, min_samples_leaf=5;, score=0.990 total time=   0.2s\n",
      "[CV 3/5] END max_depth=None, max_features=5, min_samples_leaf=5;, score=0.992 total time=   0.2s\n",
      "[CV 4/5] END max_depth=None, max_features=5, min_samples_leaf=5;, score=0.992 total time=   0.2s\n",
      "[CV 5/5] END max_depth=None, max_features=5, min_samples_leaf=5;, score=0.988 total time=   0.2s\n",
      "[CV 1/5] END max_depth=None, max_features=7, min_samples_leaf=1;, score=0.996 total time=   0.4s\n",
      "[CV 2/5] END max_depth=None, max_features=7, min_samples_leaf=1;, score=0.997 total time=   0.4s\n",
      "[CV 3/5] END max_depth=None, max_features=7, min_samples_leaf=1;, score=0.996 total time=   0.4s\n",
      "[CV 4/5] END max_depth=None, max_features=7, min_samples_leaf=1;, score=0.996 total time=   0.4s\n",
      "[CV 5/5] END max_depth=None, max_features=7, min_samples_leaf=1;, score=0.996 total time=   0.4s\n",
      "[CV 1/5] END max_depth=None, max_features=7, min_samples_leaf=2;, score=0.996 total time=   0.3s\n",
      "[CV 2/5] END max_depth=None, max_features=7, min_samples_leaf=2;, score=0.996 total time=   0.3s\n",
      "[CV 3/5] END max_depth=None, max_features=7, min_samples_leaf=2;, score=0.996 total time=   0.3s\n",
      "[CV 4/5] END max_depth=None, max_features=7, min_samples_leaf=2;, score=0.996 total time=   0.3s\n",
      "[CV 5/5] END max_depth=None, max_features=7, min_samples_leaf=2;, score=0.995 total time=   0.3s\n",
      "[CV 1/5] END max_depth=None, max_features=7, min_samples_leaf=3;, score=0.996 total time=   0.3s\n",
      "[CV 2/5] END max_depth=None, max_features=7, min_samples_leaf=3;, score=0.995 total time=   0.2s\n",
      "[CV 3/5] END max_depth=None, max_features=7, min_samples_leaf=3;, score=0.996 total time=   0.2s\n",
      "[CV 4/5] END max_depth=None, max_features=7, min_samples_leaf=3;, score=0.996 total time=   0.3s\n",
      "[CV 5/5] END max_depth=None, max_features=7, min_samples_leaf=3;, score=0.994 total time=   0.2s\n",
      "[CV 1/5] END max_depth=None, max_features=7, min_samples_leaf=5;, score=0.996 total time=   0.2s\n",
      "[CV 2/5] END max_depth=None, max_features=7, min_samples_leaf=5;, score=0.994 total time=   0.2s\n",
      "[CV 3/5] END max_depth=None, max_features=7, min_samples_leaf=5;, score=0.995 total time=   0.2s\n",
      "[CV 4/5] END max_depth=None, max_features=7, min_samples_leaf=5;, score=0.995 total time=   0.2s\n",
      "[CV 5/5] END max_depth=None, max_features=7, min_samples_leaf=5;, score=0.992 total time=   0.2s\n"
     ]
    },
    {
     "data": {
      "text/plain": [
       "GridSearchCV(estimator=ExtraTreesRegressor(n_jobs=-1, random_state=1212),\n",
       "             param_grid={'max_depth': [3, 5, 10, None],\n",
       "                         'max_features': [3, 5, 7],\n",
       "                         'min_samples_leaf': [1, 2, 3, 5]},\n",
       "             verbose=3)"
      ]
     },
     "execution_count": 135,
     "metadata": {},
     "output_type": "execute_result"
    }
   ],
   "source": [
    "es_gs = ExtraTreesRegressor(n_jobs=-1,\n",
    "                            n_estimators=100,\n",
    "                            random_state=1212)\n",
    "\n",
    "egs = GridSearchCV(es_gs, param_grid, verbose=3)\n",
    "egs.fit(X_train, y_train)"
   ]
  },
  {
   "cell_type": "code",
   "execution_count": 136,
   "id": "02b02cba",
   "metadata": {
    "ExecuteTime": {
     "end_time": "2022-07-15T02:31:45.402522Z",
     "start_time": "2022-07-15T02:31:45.380522Z"
    }
   },
   "outputs": [
    {
     "data": {
      "text/plain": [
       "{'max_depth': None, 'max_features': 7, 'min_samples_leaf': 1}"
      ]
     },
     "execution_count": 136,
     "metadata": {},
     "output_type": "execute_result"
    }
   ],
   "source": [
    "egs.best_params_"
   ]
  },
  {
   "cell_type": "code",
   "execution_count": 137,
   "id": "3d06284a",
   "metadata": {
    "ExecuteTime": {
     "end_time": "2022-07-15T02:31:53.931570Z",
     "start_time": "2022-07-15T02:31:53.908511Z"
    }
   },
   "outputs": [
    {
     "data": {
      "text/plain": [
       "0.9959217751871524"
      ]
     },
     "execution_count": 137,
     "metadata": {},
     "output_type": "execute_result"
    }
   ],
   "source": [
    "gs.best_score_"
   ]
  },
  {
   "cell_type": "code",
   "execution_count": 138,
   "id": "6cd0b871",
   "metadata": {
    "ExecuteTime": {
     "end_time": "2022-07-15T02:32:29.063967Z",
     "start_time": "2022-07-15T02:32:00.662431Z"
    }
   },
   "outputs": [
    {
     "name": "stdout",
     "output_type": "stream",
     "text": [
      "Train Score: 0.9963\n",
      "Test Score: 0.3473\n"
     ]
    }
   ],
   "source": [
    "et = ExtraTreesRegressor(n_jobs=-1,\n",
    "                           random_state=1212,\n",
    "                           n_estimators=1000,)\n",
    "\n",
    "scores = cross_val_score(et, X_train, y_train)\n",
    "print(f'Train Score: {scores.mean():.4f}')\n",
    "\n",
    "\n",
    "et.fit(X_train, y_train)\n",
    "print(f'Test Score: {et.score(X_test, y_test):.4f}')"
   ]
  },
  {
   "cell_type": "markdown",
   "id": "14d007ed",
   "metadata": {},
   "source": [
    "# SVM"
   ]
  },
  {
   "cell_type": "code",
   "execution_count": 139,
   "id": "ecc822e3",
   "metadata": {
    "ExecuteTime": {
     "end_time": "2022-07-15T02:34:33.460587Z",
     "start_time": "2022-07-15T02:34:33.373523Z"
    }
   },
   "outputs": [
    {
     "name": "stdout",
     "output_type": "stream",
     "text": [
      "Train Score: -0.2046\n",
      "Test Score: -0.2218\n"
     ]
    }
   ],
   "source": [
    "svr = SVR()\n",
    "\n",
    "scores = cross_val_score(svr, X_train, y_train)\n",
    "# score\n",
    "print(f'Train Score: {scores.mean():.4f}')\n",
    "\n",
    "svr.fit(X_train, y_train)\n",
    "print(f'Test Score: {svr.score(X_test,y_test):.4f}')"
   ]
  },
  {
   "cell_type": "code",
   "execution_count": 177,
   "id": "0228206e",
   "metadata": {
    "ExecuteTime": {
     "end_time": "2022-07-15T02:48:04.264663Z",
     "start_time": "2022-07-15T02:48:04.254654Z"
    }
   },
   "outputs": [],
   "source": [
    "gamma_range = [1]\n",
    "epsilon_range = [1e-5]\n",
    "C_range = np.logspace(0,5,3)"
   ]
  },
  {
   "cell_type": "code",
   "execution_count": 178,
   "id": "11dae06a",
   "metadata": {
    "ExecuteTime": {
     "end_time": "2022-07-15T02:50:10.913569Z",
     "start_time": "2022-07-15T02:48:05.037860Z"
    },
    "scrolled": false
   },
   "outputs": [
    {
     "name": "stdout",
     "output_type": "stream",
     "text": [
      "Fitting 5 folds for each of 3 candidates, totalling 15 fits\n",
      "[CV 1/5] END .....C=1.0, epsilon=1e-05, gamma=1;, score=0.940 total time=   4.7s\n",
      "[CV 2/5] END .....C=1.0, epsilon=1e-05, gamma=1;, score=0.967 total time=   4.7s\n",
      "[CV 3/5] END .....C=1.0, epsilon=1e-05, gamma=1;, score=0.935 total time=   5.0s\n",
      "[CV 4/5] END .....C=1.0, epsilon=1e-05, gamma=1;, score=0.957 total time=   4.9s\n",
      "[CV 5/5] END .....C=1.0, epsilon=1e-05, gamma=1;, score=0.932 total time=   5.0s\n",
      "[CV 1/5] END C=316.22776601683796, epsilon=1e-05, gamma=1;, score=0.939 total time=   8.9s\n",
      "[CV 2/5] END C=316.22776601683796, epsilon=1e-05, gamma=1;, score=0.966 total time=   8.4s\n",
      "[CV 3/5] END C=316.22776601683796, epsilon=1e-05, gamma=1;, score=0.929 total time=   8.0s\n",
      "[CV 4/5] END C=316.22776601683796, epsilon=1e-05, gamma=1;, score=0.951 total time=   7.6s\n",
      "[CV 5/5] END C=316.22776601683796, epsilon=1e-05, gamma=1;, score=0.929 total time=   9.8s\n",
      "[CV 1/5] END C=100000.0, epsilon=1e-05, gamma=1;, score=0.939 total time=  12.8s\n",
      "[CV 2/5] END C=100000.0, epsilon=1e-05, gamma=1;, score=0.965 total time=   9.4s\n",
      "[CV 3/5] END C=100000.0, epsilon=1e-05, gamma=1;, score=0.929 total time=   8.4s\n",
      "[CV 4/5] END C=100000.0, epsilon=1e-05, gamma=1;, score=0.951 total time=   8.1s\n",
      "[CV 5/5] END C=100000.0, epsilon=1e-05, gamma=1;, score=0.926 total time=  11.6s\n"
     ]
    },
    {
     "data": {
      "text/plain": [
       "GridSearchCV(cv=5, estimator=SVR(),\n",
       "             param_grid={'C': array([1.00000000e+00, 3.16227766e+02, 1.00000000e+05]),\n",
       "                         'epsilon': [1e-05], 'gamma': [1]},\n",
       "             scoring='r2', verbose=3)"
      ]
     },
     "execution_count": 178,
     "metadata": {},
     "output_type": "execute_result"
    }
   ],
   "source": [
    "param_grid = dict(epsilon=epsilon_range,\n",
    "                  C=C_range,\n",
    "                  gamma=gamma_range)\n",
    "\n",
    "svr_gs = SVR()\n",
    "\n",
    "svmgrid = GridSearchCV(svr_gs, param_grid,\n",
    "                        cv = 5,\n",
    "                        scoring = 'r2',\n",
    "                        verbose = 3)\n",
    "\n",
    "svmgrid.fit(X_train, y_train)"
   ]
  },
  {
   "cell_type": "code",
   "execution_count": 179,
   "id": "976adb00",
   "metadata": {
    "ExecuteTime": {
     "end_time": "2022-07-15T02:50:10.945559Z",
     "start_time": "2022-07-15T02:50:10.918597Z"
    }
   },
   "outputs": [
    {
     "data": {
      "text/plain": [
       "{'C': 1.0, 'epsilon': 1e-05, 'gamma': 1}"
      ]
     },
     "execution_count": 179,
     "metadata": {},
     "output_type": "execute_result"
    }
   ],
   "source": [
    "svmgrid.best_params_"
   ]
  },
  {
   "cell_type": "code",
   "execution_count": 180,
   "id": "75e819b1",
   "metadata": {
    "ExecuteTime": {
     "end_time": "2022-07-15T02:51:02.115981Z",
     "start_time": "2022-07-15T02:50:29.055100Z"
    }
   },
   "outputs": [
    {
     "name": "stdout",
     "output_type": "stream",
     "text": [
      "Train Score: 0.9463\n",
      "Test Score: 0.3393\n"
     ]
    }
   ],
   "source": [
    "svr = SVR(C=1, epsilon=1e-05, gamma=1)\n",
    "\n",
    "scores = cross_val_score(svr, X_train, y_train)\n",
    "# score\n",
    "print(f'Train Score: {scores.mean():.4f}')\n",
    "\n",
    "svr.fit(X_train, y_train)\n",
    "print(f'Test Score: {svr.score(X_test,y_test):.4f}')"
   ]
  },
  {
   "cell_type": "markdown",
   "id": "41a93d80",
   "metadata": {},
   "source": [
    "# Neural Network"
   ]
  },
  {
   "cell_type": "code",
   "execution_count": 182,
   "id": "2cd39e83",
   "metadata": {
    "ExecuteTime": {
     "end_time": "2022-07-15T03:03:20.175017Z",
     "start_time": "2022-07-15T03:03:20.160018Z"
    }
   },
   "outputs": [],
   "source": [
    "X_train = np.asarray(X_train)\n",
    "X_test = np.asarray(X_test)\n",
    "y_train = np.asarray(y_train)\n",
    "y_test = np.asarray(y_test)"
   ]
  },
  {
   "cell_type": "code",
   "execution_count": 198,
   "id": "c3d0a686",
   "metadata": {
    "ExecuteTime": {
     "end_time": "2022-07-15T03:05:45.174448Z",
     "start_time": "2022-07-15T03:05:45.121377Z"
    }
   },
   "outputs": [],
   "source": [
    "# initialize model\n",
    "m1 = Sequential()\n",
    "\n",
    "# hidden layer with 128 nodes\n",
    "m1.add(Dense(4,\n",
    "             activation='relu',\n",
    "             input_shape=(7,)))\n",
    "\n",
    "# dropout to prevent overfitting\n",
    "m1.add(Dropout(0.5))\n",
    "\n",
    "# output layer\n",
    "m1.add(Dense(1\n",
    "            ))"
   ]
  },
  {
   "cell_type": "code",
   "execution_count": 199,
   "id": "3caf6d6a",
   "metadata": {
    "ExecuteTime": {
     "end_time": "2022-07-15T03:05:46.212413Z",
     "start_time": "2022-07-15T03:05:46.048884Z"
    }
   },
   "outputs": [
    {
     "data": {
      "image/png": "[encoded data removed]",
      "text/plain": [
       "<IPython.core.display.Image object>"
      ]
     },
     "execution_count": 199,
     "metadata": {},
     "output_type": "execute_result"
    }
   ],
   "source": [
    "# examine structure\n",
    "utils.plot_model(m1, show_shapes=True)"
   ]
  },
  {
   "cell_type": "code",
   "execution_count": 200,
   "id": "96d4541b",
   "metadata": {
    "ExecuteTime": {
     "end_time": "2022-07-15T03:06:07.260482Z",
     "start_time": "2022-07-15T03:06:07.224447Z"
    }
   },
   "outputs": [],
   "source": [
    "m1.compile(loss='mse',\n",
    "           optimizer='adam',\n",
    "           metrics=['mae'])"
   ]
  },
  {
   "cell_type": "code",
   "execution_count": 201,
   "id": "cf4ba55d",
   "metadata": {
    "ExecuteTime": {
     "end_time": "2022-07-15T03:06:43.731307Z",
     "start_time": "2022-07-15T03:06:07.886826Z"
    }
   },
   "outputs": [
    {
     "name": "stdout",
     "output_type": "stream",
     "text": [
      "Epoch 1/100\n",
      "143/143 [==============================] - 2s 5ms/step - loss: 1309951.1250 - mae: 854.3697 - val_loss: 454314.0000 - val_mae: 674.0074\n",
      "Epoch 2/100\n",
      "143/143 [==============================] - 0s 2ms/step - loss: 562393.6250 - mae: 552.1833 - val_loss: 179014.6406 - val_mae: 423.0882\n",
      "Epoch 3/100\n",
      "143/143 [==============================] - 0s 2ms/step - loss: 250055.6875 - mae: 360.0918 - val_loss: 74319.0625 - val_mae: 272.6068\n",
      "Epoch 4/100\n",
      "143/143 [==============================] - 0s 2ms/step - loss: 127811.3438 - mae: 274.5950 - val_loss: 29976.2148 - val_mae: 173.1309\n",
      "Epoch 5/100\n",
      "143/143 [==============================] - 0s 2ms/step - loss: 71234.7734 - mae: 213.5461 - val_loss: 12399.5127 - val_mae: 111.3493\n",
      "Epoch 6/100\n",
      "143/143 [==============================] - 0s 2ms/step - loss: 45979.4727 - mae: 174.7856 - val_loss: 5868.8389 - val_mae: 76.6055\n",
      "Epoch 7/100\n",
      "143/143 [==============================] - 0s 2ms/step - loss: 33633.8203 - mae: 149.2840 - val_loss: 3167.6797 - val_mae: 56.2797\n",
      "Epoch 8/100\n",
      "143/143 [==============================] - 0s 2ms/step - loss: 24250.0840 - mae: 126.6464 - val_loss: 2216.8848 - val_mae: 47.0816\n",
      "Epoch 9/100\n",
      "143/143 [==============================] - 0s 2ms/step - loss: 18204.5703 - mae: 109.7162 - val_loss: 1617.0875 - val_mae: 40.2110\n",
      "Epoch 10/100\n",
      "143/143 [==============================] - 0s 2ms/step - loss: 13320.3486 - mae: 94.1439 - val_loss: 1263.2123 - val_mae: 35.5397\n",
      "Epoch 11/100\n",
      "143/143 [==============================] - 0s 2ms/step - loss: 10515.9912 - mae: 83.6097 - val_loss: 969.6501 - val_mae: 31.1373\n",
      "Epoch 12/100\n",
      "143/143 [==============================] - 0s 2ms/step - loss: 7900.7300 - mae: 72.8347 - val_loss: 763.9038 - val_mae: 27.6370\n",
      "Epoch 13/100\n",
      "143/143 [==============================] - 0s 2ms/step - loss: 6024.5723 - mae: 63.2157 - val_loss: 596.6962 - val_mae: 24.4255\n",
      "Epoch 14/100\n",
      "143/143 [==============================] - 0s 2ms/step - loss: 4701.9761 - mae: 55.7668 - val_loss: 460.8146 - val_mae: 21.4648\n",
      "Epoch 15/100\n",
      "143/143 [==============================] - 0s 2ms/step - loss: 3609.9351 - mae: 49.1481 - val_loss: 353.0651 - val_mae: 18.7882\n",
      "Epoch 16/100\n",
      "143/143 [==============================] - 0s 2ms/step - loss: 2727.9460 - mae: 42.4744 - val_loss: 305.3108 - val_mae: 17.4713\n",
      "Epoch 17/100\n",
      "143/143 [==============================] - 0s 2ms/step - loss: 2175.9272 - mae: 38.2240 - val_loss: 238.1533 - val_mae: 15.4303\n",
      "Epoch 18/100\n",
      "143/143 [==============================] - 0s 2ms/step - loss: 1703.5741 - mae: 33.9256 - val_loss: 180.6625 - val_mae: 13.4390\n",
      "Epoch 19/100\n",
      "143/143 [==============================] - 0s 2ms/step - loss: 1258.5820 - mae: 28.9552 - val_loss: 138.2919 - val_mae: 11.7576\n",
      "Epoch 20/100\n",
      "143/143 [==============================] - 0s 2ms/step - loss: 1012.9354 - mae: 26.0228 - val_loss: 104.1995 - val_mae: 10.2054\n",
      "Epoch 21/100\n",
      "143/143 [==============================] - 0s 2ms/step - loss: 784.4170 - mae: 23.1788 - val_loss: 80.1381 - val_mae: 8.9494\n",
      "Epoch 22/100\n",
      "143/143 [==============================] - 0s 2ms/step - loss: 580.1311 - mae: 19.8170 - val_loss: 64.1689 - val_mae: 8.0077\n",
      "Epoch 23/100\n",
      "143/143 [==============================] - 0s 2ms/step - loss: 431.9636 - mae: 17.0599 - val_loss: 52.0808 - val_mae: 7.2136\n",
      "Epoch 24/100\n",
      "143/143 [==============================] - 0s 2ms/step - loss: 329.3898 - mae: 15.0726 - val_loss: 35.4608 - val_mae: 5.9513\n",
      "Epoch 25/100\n",
      "143/143 [==============================] - 0s 2ms/step - loss: 245.3140 - mae: 13.0606 - val_loss: 27.9619 - val_mae: 5.2839\n",
      "Epoch 26/100\n",
      "143/143 [==============================] - 0s 2ms/step - loss: 174.0379 - mae: 10.9382 - val_loss: 20.4591 - val_mae: 4.5185\n",
      "Epoch 27/100\n",
      "143/143 [==============================] - 0s 2ms/step - loss: 127.5026 - mae: 9.4834 - val_loss: 13.0559 - val_mae: 3.6075\n",
      "Epoch 28/100\n",
      "143/143 [==============================] - 0s 2ms/step - loss: 87.2515 - mae: 7.8124 - val_loss: 8.2996 - val_mae: 2.8736\n",
      "Epoch 29/100\n",
      "143/143 [==============================] - 0s 2ms/step - loss: 61.5818 - mae: 6.6298 - val_loss: 5.9579 - val_mae: 2.4323\n",
      "Epoch 30/100\n",
      "143/143 [==============================] - 0s 2ms/step - loss: 41.2579 - mae: 5.4543 - val_loss: 3.4775 - val_mae: 1.8536\n",
      "Epoch 31/100\n",
      "143/143 [==============================] - 0s 2ms/step - loss: 26.3263 - mae: 4.4002 - val_loss: 1.9353 - val_mae: 1.3760\n",
      "Epoch 32/100\n",
      "143/143 [==============================] - 0s 2ms/step - loss: 17.0570 - mae: 3.5725 - val_loss: 1.2834 - val_mae: 1.1142\n",
      "Epoch 33/100\n",
      "143/143 [==============================] - 0s 2ms/step - loss: 10.7463 - mae: 2.9013 - val_loss: 0.6677 - val_mae: 0.7910\n",
      "Epoch 34/100\n",
      "143/143 [==============================] - 0s 2ms/step - loss: 6.4042 - mae: 2.2689 - val_loss: 0.2999 - val_mae: 0.5080\n",
      "Epoch 35/100\n",
      "143/143 [==============================] - 0s 2ms/step - loss: 3.6176 - mae: 1.7425 - val_loss: 0.1700 - val_mae: 0.3661\n",
      "Epoch 36/100\n",
      "143/143 [==============================] - 0s 2ms/step - loss: 2.0826 - mae: 1.3452 - val_loss: 0.0625 - val_mae: 0.2091\n",
      "Epoch 37/100\n",
      "143/143 [==============================] - 0s 2ms/step - loss: 1.2310 - mae: 1.0461 - val_loss: 0.0450 - val_mae: 0.1748\n",
      "Epoch 38/100\n",
      "143/143 [==============================] - 0s 2ms/step - loss: 0.7500 - mae: 0.8152 - val_loss: 0.0461 - val_mae: 0.1719\n",
      "Epoch 39/100\n",
      "143/143 [==============================] - 0s 2ms/step - loss: 0.5142 - mae: 0.6650 - val_loss: 0.0530 - val_mae: 0.1825\n",
      "Epoch 40/100\n",
      "143/143 [==============================] - 0s 3ms/step - loss: 0.3883 - mae: 0.5670 - val_loss: 0.0700 - val_mae: 0.2101\n",
      "Epoch 41/100\n",
      "143/143 [==============================] - 0s 2ms/step - loss: 0.3223 - mae: 0.5054 - val_loss: 0.0748 - val_mae: 0.2199\n",
      "Epoch 42/100\n",
      "143/143 [==============================] - 0s 2ms/step - loss: 0.2990 - mae: 0.4817 - val_loss: 0.0909 - val_mae: 0.2488\n",
      "Epoch 43/100\n",
      "143/143 [==============================] - 0s 2ms/step - loss: 0.2840 - mae: 0.4656 - val_loss: 0.1139 - val_mae: 0.2888\n",
      "Epoch 44/100\n",
      "143/143 [==============================] - 0s 2ms/step - loss: 0.2767 - mae: 0.4558 - val_loss: 0.1084 - val_mae: 0.2835\n",
      "Epoch 45/100\n",
      "143/143 [==============================] - 0s 2ms/step - loss: 0.2703 - mae: 0.4445 - val_loss: 0.1088 - val_mae: 0.2864\n",
      "Epoch 46/100\n",
      "143/143 [==============================] - 0s 2ms/step - loss: 0.2663 - mae: 0.4375 - val_loss: 0.1165 - val_mae: 0.3004\n",
      "Epoch 47/100\n",
      "143/143 [==============================] - 0s 2ms/step - loss: 0.2548 - mae: 0.4250 - val_loss: 0.1091 - val_mae: 0.2907\n",
      "Epoch 48/100\n",
      "143/143 [==============================] - 0s 2ms/step - loss: 0.2527 - mae: 0.4197 - val_loss: 0.1098 - val_mae: 0.2930\n",
      "Epoch 49/100\n",
      "143/143 [==============================] - 0s 2ms/step - loss: 0.2564 - mae: 0.4229 - val_loss: 0.1120 - val_mae: 0.2969\n",
      "Epoch 50/100\n",
      "143/143 [==============================] - 0s 2ms/step - loss: 0.2482 - mae: 0.4128 - val_loss: 0.1103 - val_mae: 0.2953\n",
      "Epoch 51/100\n",
      "143/143 [==============================] - 0s 2ms/step - loss: 0.2522 - mae: 0.4165 - val_loss: 0.1259 - val_mae: 0.3201\n",
      "Epoch 52/100\n",
      "143/143 [==============================] - 0s 2ms/step - loss: 0.2447 - mae: 0.4096 - val_loss: 0.1168 - val_mae: 0.3074\n",
      "Epoch 53/100\n",
      "143/143 [==============================] - 0s 2ms/step - loss: 0.2525 - mae: 0.4186 - val_loss: 0.1011 - val_mae: 0.2824\n",
      "Epoch 54/100\n",
      "143/143 [==============================] - 0s 2ms/step - loss: 0.2425 - mae: 0.4092 - val_loss: 0.1081 - val_mae: 0.2943\n",
      "Epoch 55/100\n",
      "143/143 [==============================] - 0s 2ms/step - loss: 0.2489 - mae: 0.4145 - val_loss: 0.1070 - val_mae: 0.2932\n",
      "Epoch 56/100\n",
      "143/143 [==============================] - 0s 2ms/step - loss: 0.2380 - mae: 0.4007 - val_loss: 0.1104 - val_mae: 0.2988\n",
      "Epoch 57/100\n",
      "143/143 [==============================] - 0s 2ms/step - loss: 0.2405 - mae: 0.4082 - val_loss: 0.0994 - val_mae: 0.2811\n",
      "Epoch 58/100\n",
      "143/143 [==============================] - 0s 2ms/step - loss: 0.2312 - mae: 0.3962 - val_loss: 0.1074 - val_mae: 0.2950\n",
      "Epoch 59/100\n",
      "143/143 [==============================] - 0s 2ms/step - loss: 0.2386 - mae: 0.4059 - val_loss: 0.1070 - val_mae: 0.2948\n",
      "Epoch 60/100\n"
     ]
    },
    {
     "name": "stdout",
     "output_type": "stream",
     "text": [
      "143/143 [==============================] - 0s 2ms/step - loss: 0.2377 - mae: 0.4061 - val_loss: 0.1059 - val_mae: 0.2931\n",
      "Epoch 61/100\n",
      "143/143 [==============================] - 0s 2ms/step - loss: 0.2224 - mae: 0.3880 - val_loss: 0.1047 - val_mae: 0.2920\n",
      "Epoch 62/100\n",
      "143/143 [==============================] - 0s 2ms/step - loss: 0.2147 - mae: 0.3815 - val_loss: 0.0953 - val_mae: 0.2766\n",
      "Epoch 63/100\n",
      "143/143 [==============================] - 0s 2ms/step - loss: 0.2141 - mae: 0.3791 - val_loss: 0.0838 - val_mae: 0.2575\n",
      "Epoch 64/100\n",
      "143/143 [==============================] - 0s 3ms/step - loss: 0.2144 - mae: 0.3798 - val_loss: 0.0955 - val_mae: 0.2783\n",
      "Epoch 65/100\n",
      "143/143 [==============================] - 0s 3ms/step - loss: 0.2053 - mae: 0.3693 - val_loss: 0.0917 - val_mae: 0.2732\n",
      "Epoch 66/100\n",
      "143/143 [==============================] - 0s 2ms/step - loss: 0.2055 - mae: 0.3675 - val_loss: 0.0910 - val_mae: 0.2733\n",
      "Epoch 67/100\n",
      "143/143 [==============================] - 0s 3ms/step - loss: 0.2030 - mae: 0.3693 - val_loss: 0.0987 - val_mae: 0.2867\n",
      "Epoch 68/100\n",
      "143/143 [==============================] - 0s 3ms/step - loss: 0.1997 - mae: 0.3689 - val_loss: 0.0861 - val_mae: 0.2650\n",
      "Epoch 69/100\n",
      "143/143 [==============================] - 0s 3ms/step - loss: 0.1927 - mae: 0.3618 - val_loss: 0.0838 - val_mae: 0.2624\n",
      "Epoch 70/100\n",
      "143/143 [==============================] - 0s 2ms/step - loss: 0.1847 - mae: 0.3505 - val_loss: 0.0904 - val_mae: 0.2742\n",
      "Epoch 71/100\n",
      "143/143 [==============================] - 0s 2ms/step - loss: 0.1769 - mae: 0.3403 - val_loss: 0.0835 - val_mae: 0.2636\n",
      "Epoch 72/100\n",
      "143/143 [==============================] - 0s 2ms/step - loss: 0.1732 - mae: 0.3388 - val_loss: 0.0738 - val_mae: 0.2473\n",
      "Epoch 73/100\n",
      "143/143 [==============================] - 0s 3ms/step - loss: 0.1695 - mae: 0.3365 - val_loss: 0.0771 - val_mae: 0.2553\n",
      "Epoch 74/100\n",
      "143/143 [==============================] - 0s 3ms/step - loss: 0.1596 - mae: 0.3233 - val_loss: 0.0770 - val_mae: 0.2562\n",
      "Epoch 75/100\n",
      "143/143 [==============================] - 0s 2ms/step - loss: 0.1535 - mae: 0.3149 - val_loss: 0.0681 - val_mae: 0.2400\n",
      "Epoch 76/100\n",
      "143/143 [==============================] - 0s 2ms/step - loss: 0.1418 - mae: 0.3020 - val_loss: 0.0787 - val_mae: 0.2605\n",
      "Epoch 77/100\n",
      "143/143 [==============================] - 0s 2ms/step - loss: 0.1347 - mae: 0.2928 - val_loss: 0.0555 - val_mae: 0.2168\n",
      "Epoch 78/100\n",
      "143/143 [==============================] - 0s 2ms/step - loss: 0.1287 - mae: 0.2848 - val_loss: 0.0566 - val_mae: 0.2203\n",
      "Epoch 79/100\n",
      "143/143 [==============================] - 0s 2ms/step - loss: 0.1224 - mae: 0.2775 - val_loss: 0.0645 - val_mae: 0.2391\n",
      "Epoch 80/100\n",
      "143/143 [==============================] - 0s 2ms/step - loss: 0.1147 - mae: 0.2673 - val_loss: 0.0573 - val_mae: 0.2260\n",
      "Epoch 81/100\n",
      "143/143 [==============================] - 0s 2ms/step - loss: 0.1071 - mae: 0.2573 - val_loss: 0.0506 - val_mae: 0.2118\n",
      "Epoch 82/100\n",
      "143/143 [==============================] - 0s 2ms/step - loss: 0.1007 - mae: 0.2513 - val_loss: 0.0485 - val_mae: 0.2085\n",
      "Epoch 83/100\n",
      "143/143 [==============================] - 0s 3ms/step - loss: 0.0904 - mae: 0.2358 - val_loss: 0.0508 - val_mae: 0.2124\n",
      "Epoch 84/100\n",
      "143/143 [==============================] - 0s 3ms/step - loss: 0.0805 - mae: 0.2208 - val_loss: 0.0312 - val_mae: 0.1677\n",
      "Epoch 85/100\n",
      "143/143 [==============================] - 0s 3ms/step - loss: 0.0750 - mae: 0.2124 - val_loss: 0.0347 - val_mae: 0.1792\n",
      "Epoch 86/100\n",
      "143/143 [==============================] - 0s 2ms/step - loss: 0.0663 - mae: 0.1966 - val_loss: 0.0335 - val_mae: 0.1765\n",
      "Epoch 87/100\n",
      "143/143 [==============================] - 0s 2ms/step - loss: 0.0575 - mae: 0.1812 - val_loss: 0.0354 - val_mae: 0.1828\n",
      "Epoch 88/100\n",
      "143/143 [==============================] - 0s 2ms/step - loss: 0.0518 - mae: 0.1736 - val_loss: 0.0261 - val_mae: 0.1568\n",
      "Epoch 89/100\n",
      "143/143 [==============================] - 0s 2ms/step - loss: 0.0455 - mae: 0.1642 - val_loss: 0.0229 - val_mae: 0.1472\n",
      "Epoch 90/100\n",
      "143/143 [==============================] - 0s 2ms/step - loss: 0.0381 - mae: 0.1481 - val_loss: 0.0178 - val_mae: 0.1300\n",
      "Epoch 91/100\n",
      "143/143 [==============================] - 0s 2ms/step - loss: 0.0312 - mae: 0.1323 - val_loss: 0.0143 - val_mae: 0.1171\n",
      "Epoch 92/100\n",
      "143/143 [==============================] - 0s 2ms/step - loss: 0.0264 - mae: 0.1226 - val_loss: 0.0107 - val_mae: 0.1012\n",
      "Epoch 93/100\n",
      "143/143 [==============================] - 0s 2ms/step - loss: 0.0217 - mae: 0.1108 - val_loss: 0.0101 - val_mae: 0.0984\n",
      "Epoch 94/100\n",
      "143/143 [==============================] - 0s 2ms/step - loss: 0.0176 - mae: 0.0999 - val_loss: 0.0083 - val_mae: 0.0893\n",
      "Epoch 95/100\n",
      "143/143 [==============================] - 0s 2ms/step - loss: 0.0139 - mae: 0.0895 - val_loss: 0.0055 - val_mae: 0.0722\n",
      "Epoch 96/100\n",
      "143/143 [==============================] - 0s 2ms/step - loss: 0.0105 - mae: 0.0774 - val_loss: 0.0049 - val_mae: 0.0682\n",
      "Epoch 97/100\n",
      "143/143 [==============================] - 0s 2ms/step - loss: 0.0083 - mae: 0.0697 - val_loss: 0.0039 - val_mae: 0.0606\n",
      "Epoch 98/100\n",
      "143/143 [==============================] - 0s 2ms/step - loss: 0.0063 - mae: 0.0614 - val_loss: 0.0029 - val_mae: 0.0514\n",
      "Epoch 99/100\n",
      "143/143 [==============================] - 0s 2ms/step - loss: 0.0047 - mae: 0.0535 - val_loss: 0.0019 - val_mae: 0.0414\n",
      "Epoch 100/100\n",
      "143/143 [==============================] - 0s 2ms/step - loss: 0.0033 - mae: 0.0452 - val_loss: 0.0018 - val_mae: 0.0402\n"
     ]
    }
   ],
   "source": [
    "h1 = m1.fit(X_train,\n",
    "                y_train, \n",
    "                batch_size=32,\n",
    "                validation_data=(X_test, y_test),\n",
    "                epochs=100,\n",
    "                verbose=1)"
   ]
  },
  {
   "cell_type": "code",
   "execution_count": 202,
   "id": "dc3ab2c1",
   "metadata": {
    "ExecuteTime": {
     "end_time": "2022-07-15T03:07:25.486371Z",
     "start_time": "2022-07-15T03:07:25.191732Z"
    }
   },
   "outputs": [
    {
     "name": "stdout",
     "output_type": "stream",
     "text": [
      "36/36 [==============================] - 0s 1ms/step\n"
     ]
    },
    {
     "data": {
      "text/plain": [
       "-6.968545195858738"
      ]
     },
     "execution_count": 202,
     "metadata": {},
     "output_type": "execute_result"
    }
   ],
   "source": [
    "r2_score(y_test,m1.predict(X_test).ravel())"
   ]
  },
  {
   "cell_type": "code",
   "execution_count": null,
   "id": "0ce046c1",
   "metadata": {},
   "outputs": [],
   "source": []
  }
 ],
 "metadata": {
  "kernelspec": {
   "display_name": "Python 3 (ipykernel)",
   "language": "python",
   "name": "python3"
  },
  "language_info": {
   "codemirror_mode": {
    "name": "ipython",
    "version": 3
   },
   "file_extension": ".py",
   "mimetype": "text/x-python",
   "name": "python",
   "nbconvert_exporter": "python",
   "pygments_lexer": "ipython3",
   "version": "3.9.12"
  },
  "toc": {
   "base_numbering": 1,
   "nav_menu": {},
   "number_sections": false,
   "sideBar": true,
   "skip_h1_title": false,
   "title_cell": "Table of Contents",
   "title_sidebar": "Contents",
   "toc_cell": false,
   "toc_position": {},
   "toc_section_display": true,
   "toc_window_display": false
  }
 },
 "nbformat": 4,
 "nbformat_minor": 5
}
