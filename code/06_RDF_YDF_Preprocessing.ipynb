{
 "cells": [
  {
   "cell_type": "markdown",
   "id": "474a5308",
   "metadata": {},
   "source": [
    "# Imports"
   ]
  },
  {
   "cell_type": "code",
   "execution_count": 1,
   "id": "013dfaba",
   "metadata": {
    "ExecuteTime": {
     "end_time": "2022-07-20T08:04:06.657373Z",
     "start_time": "2022-07-20T08:04:03.283451Z"
    }
   },
   "outputs": [],
   "source": [
    "import pandas as pd\n",
    "import numpy as np\n",
    "np.random.seed(2121)\n",
    "\n",
    "import matplotlib.pyplot as plt\n",
    "\n",
    "from sklearn.model_selection import train_test_split\n",
    "from sklearn.preprocessing import StandardScaler\n",
    "from sklearn.feature_selection import RFECV\n",
    "from sklearn.linear_model import BayesianRidge\n",
    "from sklearn.decomposition import PCA"
   ]
  },
  {
   "cell_type": "code",
   "execution_count": 2,
   "id": "040658af",
   "metadata": {
    "ExecuteTime": {
     "end_time": "2022-07-20T08:04:06.784310Z",
     "start_time": "2022-07-20T08:04:06.660303Z"
    }
   },
   "outputs": [],
   "source": [
    "rdf_ydf = pd.read_csv('../data/rdf_ydf_feature_extracted.csv')"
   ]
  },
  {
   "cell_type": "code",
   "execution_count": 3,
   "id": "fb927f41",
   "metadata": {
    "ExecuteTime": {
     "end_time": "2022-07-20T08:04:06.800303Z",
     "start_time": "2022-07-20T08:04:06.787305Z"
    }
   },
   "outputs": [],
   "source": [
    "rdf = rdf_ydf[['runs_bat_pg_1yr',\n",
    "       'runs_bat_pg_2yr', 'runs_bat_pg_3yr', 'runs_br_pg_1yr',\n",
    "       'runs_br_pg_2yr', 'runs_br_pg_3yr', 'runs_dp_pg_1yr', 'runs_dp_pg_2yr',\n",
    "       'runs_dp_pg_3yr', 'runs_defense_pg_1yr', 'runs_defense_pg_2yr',\n",
    "       'runs_defense_pg_3yr', 'runs_position_pg_1yr', 'runs_position_pg_2yr',\n",
    "       'runs_position_pg_3yr','runs_total_pg']]\n",
    "\n",
    "ydf = rdf_ydf[['opprpg', 'opprpg_1yr', 'opprpg_2yr', 'opprpg_3yr']]\n",
    "\n",
    "others=rdf_ydf[[c for c in rdf_ydf.columns if c not in rdf.columns\n",
    "                                  if c not in ydf.columns]]"
   ]
  },
  {
   "cell_type": "markdown",
   "id": "84e1522d",
   "metadata": {},
   "source": [
    "# Train-Test Split"
   ]
  },
  {
   "cell_type": "code",
   "execution_count": 4,
   "id": "96cfda8d",
   "metadata": {
    "ExecuteTime": {
     "end_time": "2022-07-20T08:04:06.848304Z",
     "start_time": "2022-07-20T08:04:06.803335Z"
    }
   },
   "outputs": [],
   "source": [
    "target = 'runs_total_pg'\n",
    "y_rdf = rdf[target]\n",
    "X_rdf = rdf[[col for col in rdf.columns if col != target]]\n",
    "\n",
    "X_rdf_train, X_rdf_test, y_rdf_train, y_rdf_test =\\\n",
    "    train_test_split(X_rdf, y_rdf,\n",
    "                     test_size=0.2,\n",
    "                     shuffle=True,\n",
    "                     random_state = 1212)\n",
    "\n",
    "target = 'opprpg'\n",
    "\n",
    "y_ydf = ydf[target]\n",
    "X_ydf = ydf[[col for col in ydf.columns if col != target]]\n",
    "\n",
    "X_ydf_train, X_ydf_test, y_ydf_train, y_ydf_test =\\\n",
    "    train_test_split(X_ydf, y_ydf,\n",
    "                     test_size=0.2,\n",
    "                     shuffle=True,\n",
    "                     random_state = 1212)\n",
    "\n",
    "target = 'waa_pg'\n",
    "\n",
    "y_odf = others[target]\n",
    "X_odf = others[[col for col in others.columns if col != target]]\n",
    "\n",
    "X_odf_train, X_odf_test, y_odf_train, y_odf_test =\\\n",
    "    train_test_split(X_odf, y_odf,\n",
    "                     test_size=0.2,\n",
    "                     shuffle=True,\n",
    "                     random_state = 1212)"
   ]
  },
  {
   "cell_type": "markdown",
   "id": "a05c5ea4",
   "metadata": {},
   "source": [
    "After splitting, store X_test before standard scaling, etc. for baseline calculations in the modeling workbook."
   ]
  },
  {
   "cell_type": "code",
   "execution_count": 5,
   "id": "288b0217",
   "metadata": {
    "ExecuteTime": {
     "end_time": "2022-07-20T08:04:06.928306Z",
     "start_time": "2022-07-20T08:04:06.851303Z"
    }
   },
   "outputs": [],
   "source": [
    "X_odf_test.to_csv('../data/X_test_rdf_ydf_for_baseline.csv')"
   ]
  },
  {
   "cell_type": "markdown",
   "id": "38220573",
   "metadata": {},
   "source": [
    "# RDF Preprocessing"
   ]
  },
  {
   "cell_type": "markdown",
   "id": "8bce97fd",
   "metadata": {},
   "source": [
    "## Standard Scale"
   ]
  },
  {
   "cell_type": "code",
   "execution_count": 6,
   "id": "7ce54b35",
   "metadata": {
    "ExecuteTime": {
     "end_time": "2022-07-20T08:04:06.944340Z",
     "start_time": "2022-07-20T08:04:06.931304Z"
    }
   },
   "outputs": [],
   "source": [
    "# initialize\n",
    "ss = StandardScaler()\n",
    "\n",
    "# fit on Train\n",
    "X_rdf_train_ss = pd.DataFrame(ss.fit_transform(X_rdf_train),\n",
    "                              columns = X_rdf_train.columns,\n",
    "                              index = X_rdf_train.index)\n",
    "\n",
    "# transform test\n",
    "X_rdf_test_ss = pd.DataFrame(ss.transform(X_rdf_test),\n",
    "                             columns = X_rdf_test.columns,\n",
    "                             index = X_rdf_test.index)"
   ]
  },
  {
   "cell_type": "markdown",
   "id": "3026c2fb",
   "metadata": {},
   "source": [
    "# YDF Preprocessing"
   ]
  },
  {
   "cell_type": "markdown",
   "id": "b3cf8187",
   "metadata": {},
   "source": [
    "## Standard Scale"
   ]
  },
  {
   "cell_type": "code",
   "execution_count": 7,
   "id": "ba4d7f31",
   "metadata": {
    "ExecuteTime": {
     "end_time": "2022-07-20T08:04:06.975374Z",
     "start_time": "2022-07-20T08:04:06.947305Z"
    }
   },
   "outputs": [],
   "source": [
    "# initialize\n",
    "ss = StandardScaler()\n",
    "\n",
    "# fit on Train\n",
    "X_ydf_train_ss = pd.DataFrame(ss.fit_transform(X_ydf_train),\n",
    "                              columns = X_ydf_train.columns,\n",
    "                              index = X_ydf_train.index)\n",
    "\n",
    "# transform test\n",
    "X_ydf_test_ss = pd.DataFrame(ss.transform(X_ydf_test),\n",
    "                             columns = X_ydf_test.columns,\n",
    "                             index = X_ydf_test.index)"
   ]
  },
  {
   "cell_type": "markdown",
   "id": "37701ce6",
   "metadata": {},
   "source": [
    "# Others Preprocessing"
   ]
  },
  {
   "cell_type": "markdown",
   "id": "c1232e2c",
   "metadata": {},
   "source": [
    "## Standard Scale"
   ]
  },
  {
   "cell_type": "code",
   "execution_count": 8,
   "id": "f6d8a608",
   "metadata": {
    "ExecuteTime": {
     "end_time": "2022-07-20T08:04:07.006309Z",
     "start_time": "2022-07-20T08:04:06.979304Z"
    }
   },
   "outputs": [],
   "source": [
    "# initialize\n",
    "ss = StandardScaler()\n",
    "\n",
    "# fit on Train\n",
    "X_odf_train_ss = pd.DataFrame(ss.fit_transform(X_odf_train),\n",
    "                              columns = X_odf_train.columns,\n",
    "                              index = X_odf_train.index)\n",
    "\n",
    "# transform test\n",
    "X_odf_test_ss = pd.DataFrame(ss.transform(X_odf_test),\n",
    "                             columns = X_odf_test.columns,\n",
    "                             index = X_odf_test.index)"
   ]
  },
  {
   "cell_type": "markdown",
   "id": "ac8a15ca",
   "metadata": {},
   "source": [
    "## RFE"
   ]
  },
  {
   "cell_type": "markdown",
   "id": "ae641058",
   "metadata": {},
   "source": [
    "Similar to the reason in workbook 3, want to reduce to at least the best 20 features."
   ]
  },
  {
   "cell_type": "code",
   "execution_count": 9,
   "id": "c50595f1",
   "metadata": {
    "ExecuteTime": {
     "end_time": "2022-07-20T08:04:08.517303Z",
     "start_time": "2022-07-20T08:04:07.008304Z"
    }
   },
   "outputs": [
    {
     "name": "stdout",
     "output_type": "stream",
     "text": [
      "# of Columns Kept: 20\n",
      "# of Columns Dropped: 33\n"
     ]
    }
   ],
   "source": [
    "rfecv = RFECV(\n",
    "            estimator=BayesianRidge(),\n",
    "            step = 1,\n",
    "            cv = 5,\n",
    "            scoring='r2',\n",
    "            min_features_to_select = 20)\n",
    "\n",
    "rfecv.fit(X_odf_train_ss,y_odf_train)\n",
    "\n",
    "odf_cols_to_keep = X_odf_train_ss.T[rfecv.ranking_==1].T.columns\n",
    "odf_cols_to_pc = X_odf_train_ss.T[rfecv.ranking_!=1].T.columns\n",
    "\n",
    "print(f'# of Columns Kept: {len(odf_cols_to_keep)}')\n",
    "print(f'# of Columns Dropped: {len(odf_cols_to_pc)}')"
   ]
  },
  {
   "cell_type": "code",
   "execution_count": 10,
   "id": "6454ed13",
   "metadata": {
    "ExecuteTime": {
     "end_time": "2022-07-20T08:04:08.816305Z",
     "start_time": "2022-07-20T08:04:08.522308Z"
    }
   },
   "outputs": [
    {
     "data": {
      "image/png": "[encoded data removed]",
      "text/plain": [
       "<Figure size 432x288 with 1 Axes>"
      ]
     },
     "metadata": {
      "needs_background": "light"
     },
     "output_type": "display_data"
    }
   ],
   "source": [
    "# https://scikit-learn.org/stable/auto_examples/feature_selection/plot_rfe_with_cross_validation.html#sphx-glr-auto-examples-feature-selection-plot-rfe-with-cross-validation-py\n",
    "# Plot number of features VS. cross-validation scores\n",
    "plt.figure()\n",
    "plt.xlabel(\"Number of features selected\")\n",
    "plt.ylabel(\"Cross validation score (r2)\")\n",
    "plt.plot(\n",
    "    range(20, len(rfecv.cv_results_['mean_test_score'])+20),\n",
    "    rfecv.cv_results_['mean_test_score']\n",
    ")\n",
    "plt.show()"
   ]
  },
  {
   "cell_type": "markdown",
   "id": "46eb600f",
   "metadata": {},
   "source": [
    "Cross validation scores creep back up around 40 features being selected but they never surpass the 20-feature model."
   ]
  },
  {
   "cell_type": "markdown",
   "id": "1aa8a01a",
   "metadata": {},
   "source": [
    "### Removed Features"
   ]
  },
  {
   "cell_type": "code",
   "execution_count": 11,
   "id": "8fadf5bf",
   "metadata": {
    "ExecuteTime": {
     "end_time": "2022-07-20T08:04:08.832305Z",
     "start_time": "2022-07-20T08:04:08.818311Z"
    },
    "scrolled": true
   },
   "outputs": [
    {
     "name": "stdout",
     "output_type": "stream",
     "text": [
      "g_1b_share_1yr, g_1b_share_3yr, g_1yr, g_2b_share_1yr, g_2b_share_2yr\n",
      "g_2yr, g_3b_share_1yr, g_3b_share_2yr, g_3yr, g_cf_share_2yr\n",
      "g_cf_share_3yr, g_cof_share_2yr, g_cof_share_3yr, g_dh_share_2yr, g_of_2yr\n",
      "g_ss_share_1yr, g_ss_share_2yr, inn_per_team_gp_1yr, inn_per_team_gp_2yr, inn_pg_1yr\n",
      "inn_pg_2yr, inn_pg_3yr, pa_per_team_gp_1yr, pa_per_team_gp_2yr, pa_pg_2yr\n",
      "pa_pg_3yr, percent_team_gp_1yr, percent_team_gp_2yr, percent_team_gp_3yr, team_gp_1yr\n",
      "team_gp_2yr, team_gp_3yr, year_id\n"
     ]
    }
   ],
   "source": [
    "for i in range(0,35,5):\n",
    "    print(', '.join(odf_cols_to_pc.sort_values()[i:i+5]))"
   ]
  },
  {
   "cell_type": "markdown",
   "id": "d1f4b409",
   "metadata": {},
   "source": [
    "## PCA"
   ]
  },
  {
   "cell_type": "markdown",
   "id": "dd7478a0",
   "metadata": {},
   "source": [
    "For the same reasons as workbook 3, add some of the signal back"
   ]
  },
  {
   "cell_type": "code",
   "execution_count": 12,
   "id": "320e05b1",
   "metadata": {
    "ExecuteTime": {
     "end_time": "2022-07-20T08:04:08.863303Z",
     "start_time": "2022-07-20T08:04:08.834305Z"
    }
   },
   "outputs": [
    {
     "name": "stdout",
     "output_type": "stream",
     "text": [
      "PC 0: 5.36 --> 16.24% --> 16.24%\n",
      "PC 1: 3.51 --> 10.62% --> 26.85%\n",
      "PC 2: 2.63 --> 7.95% --> 34.81%\n",
      "PC 3: 2.42 --> 7.34% --> 42.15%\n",
      "PC 4: 2.25 --> 6.82% --> 48.97%\n"
     ]
    }
   ],
   "source": [
    "pca = PCA().fit(X_odf_train_ss[odf_cols_to_pc])\n",
    "\n",
    "cum_var_exp = np.cumsum(pca.explained_variance_ratio_) * 100\n",
    "\n",
    "for i, l in enumerate(pca.explained_variance_[:5]):\n",
    "    print('PC {}: {:.2f} --> {:.2f}% --> {:.2f}%'.format(i, l,\n",
    "                                             l * 100 / sum(pca.explained_variance_),\n",
    "                                             cum_var_exp[i]))"
   ]
  },
  {
   "cell_type": "code",
   "execution_count": 13,
   "id": "a8e7d9c3",
   "metadata": {
    "ExecuteTime": {
     "end_time": "2022-07-20T08:04:09.212530Z",
     "start_time": "2022-07-20T08:04:08.866304Z"
    }
   },
   "outputs": [
    {
     "data": {
      "image/png": "[encoded data removed]",
      "text/plain": [
       "<Figure size 648x504 with 1 Axes>"
      ]
     },
     "metadata": {
      "needs_background": "light"
     },
     "output_type": "display_data"
    }
   ],
   "source": [
    "cum_var_exp = np.cumsum(pca.explained_variance_ratio_) * 100\n",
    "plt.figure(figsize=(9,7))\n",
    "component_number = range(1, len(odf_cols_to_pc)+1)\n",
    "plt.plot(component_number, cum_var_exp, lw=7)\n",
    "plt.axhline(y=0, linewidth=5, color='grey', ls='dashed')\n",
    "plt.axhline(y=100, linewidth=3, color='grey', ls='dashed')\n",
    "ax = plt.gca()\n",
    "ax.set_xlim([1,19])\n",
    "ax.set_ylim([-5,105])\n",
    "ax.set_ylabel('cumulative variance explained', fontsize=16)\n",
    "ax.set_xlabel('component #', fontsize=16)  \n",
    "ax.set_title('component vs cumulative variance explained\\n', fontsize=20)\n",
    "ax.axhline(y=np.cumsum(pca.explained_variance_ratio_)[4]*100, c='r', label='Intersection when x=5')\n",
    "ax.axvline(x=5,  c='r')\n",
    "ax.legend();"
   ]
  },
  {
   "cell_type": "code",
   "execution_count": 14,
   "id": "8bde256f",
   "metadata": {
    "ExecuteTime": {
     "end_time": "2022-07-20T08:04:09.244532Z",
     "start_time": "2022-07-20T08:04:09.214531Z"
    }
   },
   "outputs": [],
   "source": [
    "odf_pca_train = pd.DataFrame(pca.transform(X_odf_train_ss[odf_cols_to_pc])[:,:5],\n",
    "                     columns = ['pc_' + str(i) for i in range(5)],\n",
    "                     index = X_odf_train_ss.index)\n",
    "\n",
    "odf_pca_test = pd.DataFrame(pca.transform(X_odf_test_ss[odf_cols_to_pc])[:,:5],\n",
    "                     columns = ['pc_' + str(i) for i in range(5)],\n",
    "                     index = X_odf_test_ss.index)"
   ]
  },
  {
   "cell_type": "code",
   "execution_count": 15,
   "id": "7b213854",
   "metadata": {
    "ExecuteTime": {
     "end_time": "2022-07-20T08:04:09.260531Z",
     "start_time": "2022-07-20T08:04:09.247531Z"
    }
   },
   "outputs": [],
   "source": [
    "X_odf_train_ss = pd.concat([X_odf_train_ss[odf_cols_to_keep], odf_pca_train], axis=1)\n",
    "X_odf_test_ss = pd.concat([X_odf_test_ss[odf_cols_to_keep], odf_pca_test], axis=1)"
   ]
  },
  {
   "cell_type": "markdown",
   "id": "fffa9fe4",
   "metadata": {},
   "source": [
    "# Exports"
   ]
  },
  {
   "cell_type": "code",
   "execution_count": 16,
   "id": "14ebdd8e",
   "metadata": {
    "ExecuteTime": {
     "end_time": "2022-07-20T08:04:09.292529Z",
     "start_time": "2022-07-20T08:04:09.263530Z"
    }
   },
   "outputs": [],
   "source": [
    "# consolidate test and train files\n",
    "rdf_test = pd.merge(X_rdf_test_ss,y_rdf_test, left_index=True, right_index=True)\n",
    "rdf_train = pd.merge(X_rdf_train_ss,y_rdf_train, left_index=True, right_index=True)\n",
    "\n",
    "ydf_test = pd.merge(X_ydf_test_ss,y_ydf_test, left_index=True, right_index=True)\n",
    "ydf_train = pd.merge(X_ydf_train_ss,y_ydf_train, left_index=True, right_index=True)\n",
    "\n",
    "odf_test = pd.merge(X_odf_test_ss,y_odf_test, left_index=True, right_index=True)\n",
    "odf_train = pd.merge(X_odf_train_ss,y_odf_train, left_index=True, right_index=True)\n",
    "\n",
    "\n",
    "# add flag to train\n",
    "rdf_train['is_train'] = 1\n",
    "\n",
    "# concat train and test, fill is_train with 0 in test\n",
    "rdf_preprocessed = pd.concat([rdf_test,rdf_train]).fillna(0)"
   ]
  },
  {
   "cell_type": "code",
   "execution_count": 17,
   "id": "70b28dea",
   "metadata": {
    "ExecuteTime": {
     "end_time": "2022-07-20T08:04:09.308530Z",
     "start_time": "2022-07-20T08:04:09.295530Z"
    }
   },
   "outputs": [],
   "source": [
    "rdf_ydf_preprocessed=\\\n",
    "pd.merge(\n",
    "        pd.merge(rdf_preprocessed, pd.concat([ydf_test,ydf_train]),\n",
    "                 how = 'inner',\n",
    "                 left_index=True, right_index=True),\n",
    "        pd.concat([odf_test,odf_train]),\n",
    "        how = 'inner',\n",
    "        left_index=True, right_index=True)"
   ]
  },
  {
   "cell_type": "code",
   "execution_count": 18,
   "id": "19fe9be2",
   "metadata": {
    "ExecuteTime": {
     "end_time": "2022-07-20T08:04:09.672727Z",
     "start_time": "2022-07-20T08:04:09.310530Z"
    }
   },
   "outputs": [],
   "source": [
    "rdf_ydf_preprocessed.to_csv('../data/rdf_ydf_preprocessed.csv')"
   ]
  }
 ],
 "metadata": {
  "kernelspec": {
   "display_name": "Python 3 (ipykernel)",
   "language": "python",
   "name": "python3"
  },
  "language_info": {
   "codemirror_mode": {
    "name": "ipython",
    "version": 3
   },
   "file_extension": ".py",
   "mimetype": "text/x-python",
   "name": "python",
   "nbconvert_exporter": "python",
   "pygments_lexer": "ipython3",
   "version": "3.9.12"
  },
  "toc": {
   "base_numbering": 1,
   "nav_menu": {},
   "number_sections": false,
   "sideBar": true,
   "skip_h1_title": false,
   "title_cell": "Table of Contents",
   "title_sidebar": "Contents",
   "toc_cell": false,
   "toc_position": {},
   "toc_section_display": true,
   "toc_window_display": false
  }
 },
 "nbformat": 4,
 "nbformat_minor": 5
}
