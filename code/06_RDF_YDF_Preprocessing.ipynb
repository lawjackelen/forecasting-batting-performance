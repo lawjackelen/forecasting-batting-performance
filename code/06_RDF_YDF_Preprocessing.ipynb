{
 "cells": [
  {
   "cell_type": "markdown",
   "id": "474a5308",
   "metadata": {},
   "source": [
    "# Imports"
   ]
  },
  {
   "cell_type": "code",
   "execution_count": 1,
   "id": "013dfaba",
   "metadata": {
    "ExecuteTime": {
     "end_time": "2022-07-17T23:38:53.076438Z",
     "start_time": "2022-07-17T23:38:49.926311Z"
    }
   },
   "outputs": [],
   "source": [
    "import pandas as pd\n",
    "import numpy as np\n",
    "np.random.seed(2121)\n",
    "\n",
    "import matplotlib.pyplot as plt\n",
    "\n",
    "from sklearn.model_selection import train_test_split\n",
    "from sklearn.preprocessing import StandardScaler\n",
    "from sklearn.feature_selection import RFECV\n",
    "from sklearn.linear_model import BayesianRidge\n",
    "from sklearn.decomposition import PCA"
   ]
  },
  {
   "cell_type": "code",
   "execution_count": 2,
   "id": "040658af",
   "metadata": {
    "ExecuteTime": {
     "end_time": "2022-07-17T23:38:53.172439Z",
     "start_time": "2022-07-17T23:38:53.079370Z"
    }
   },
   "outputs": [],
   "source": [
    "rdf_ydf = pd.read_csv('../data/rdf_ydf_feature_extracted.csv')"
   ]
  },
  {
   "cell_type": "code",
   "execution_count": 3,
   "id": "fb927f41",
   "metadata": {
    "ExecuteTime": {
     "end_time": "2022-07-17T23:38:53.204073Z",
     "start_time": "2022-07-17T23:38:53.175372Z"
    }
   },
   "outputs": [],
   "source": [
    "rdf = rdf_ydf[['g_of', 'g_1yr', 'g_2yr', 'g_3yr', 'team_gp_1yr', 'team_gp_2yr',\n",
    "       'team_gp_3yr', 'pa_pg_1yr', 'pa_pg_2yr', 'pa_pg_3yr', 'inn_pg_1yr',\n",
    "       'inn_pg_2yr', 'inn_pg_3yr', 'runs_bat_pg_1yr', 'runs_bat_pg_2yr',\n",
    "       'runs_bat_pg_3yr', 'runs_br_pg_1yr', 'runs_br_pg_2yr', 'runs_br_pg_3yr',\n",
    "       'runs_dp_pg_1yr', 'runs_dp_pg_2yr', 'runs_dp_pg_3yr',\n",
    "       'runs_defense_pg_1yr', 'runs_defense_pg_2yr', 'runs_defense_pg_3yr',\n",
    "       'runs_position_pg_1yr', 'runs_position_pg_2yr', 'runs_position_pg_3yr',\n",
    "       'percent_team_gp_1yr', 'percent_team_gp_2yr', 'percent_team_gp_3yr',\n",
    "       'pa_per_team_gp_1yr', 'pa_per_team_gp_2yr', 'pa_per_team_gp_3yr',\n",
    "       'inn_per_team_gp_1yr', 'inn_per_team_gp_2yr', 'inn_per_team_gp_3yr',\n",
    "       'g_c_share_1yr', 'g_c_share_2yr', 'g_c_share_3yr', 'g_1b_share_1yr',\n",
    "       'g_1b_share_2yr', 'g_1b_share_3yr', 'g_2b_share_1yr', 'g_2b_share_2yr',\n",
    "       'g_2b_share_3yr', 'g_3b_share_1yr', 'g_3b_share_2yr', 'g_3b_share_3yr',\n",
    "       'g_ss_share_1yr', 'g_ss_share_2yr', 'g_ss_share_3yr', 'g_cf_share_1yr',\n",
    "       'g_cf_share_2yr', 'g_cf_share_3yr', 'g_of_1yr', 'g_of_2yr', 'g_of_3yr',\n",
    "       'g_dh_share_1yr', 'g_dh_share_2yr', 'g_dh_share_3yr', 'g_cof_share_1yr',\n",
    "       'g_cof_share_2yr', 'g_cof_share_3yr', 'runs_total_pg']]\n",
    "\n",
    "ydf = rdf_ydf[['opprpg', 'opprpg_1yr', 'opprpg_2yr', 'opprpg_3yr']]\n",
    "\n",
    "others = rdf_ydf[['waa_pg', 'waa_pg_1yr', 'waa_pg_2yr', 'waa_pg_3yr', 'year_id', 'age']]"
   ]
  },
  {
   "cell_type": "markdown",
   "id": "84e1522d",
   "metadata": {},
   "source": [
    "# Train-Test Split"
   ]
  },
  {
   "cell_type": "code",
   "execution_count": 4,
   "id": "96cfda8d",
   "metadata": {
    "ExecuteTime": {
     "end_time": "2022-07-17T23:38:53.235302Z",
     "start_time": "2022-07-17T23:38:53.208072Z"
    }
   },
   "outputs": [],
   "source": [
    "target = 'runs_total_pg'\n",
    "y_rdf = rdf[target]\n",
    "X_rdf = rdf[[col for col in rdf.columns if col != target]]\n",
    "\n",
    "X_rdf_train, X_rdf_test, y_rdf_train, y_rdf_test =\\\n",
    "    train_test_split(X_rdf, y_rdf,\n",
    "                     test_size=0.2,\n",
    "                     shuffle=True,\n",
    "                     random_state = 1212)\n",
    "\n",
    "target = 'opprpg'\n",
    "\n",
    "y_ydf = ydf[target]\n",
    "X_ydf = ydf[[col for col in ydf.columns if col != target]]\n",
    "\n",
    "X_ydf_train, X_ydf_test, y_ydf_train, y_ydf_test =\\\n",
    "    train_test_split(X_ydf, y_ydf,\n",
    "                     test_size=0.2,\n",
    "                     shuffle=True,\n",
    "                     random_state = 1212)\n",
    "\n",
    "target = 'waa_pg'\n",
    "\n",
    "y_odf = others[target]\n",
    "X_odf = others[[col for col in others.columns if col != target]]\n",
    "\n",
    "X_odf_train, X_odf_test, y_odf_train, y_odf_test =\\\n",
    "    train_test_split(X_odf, y_odf,\n",
    "                     test_size=0.2,\n",
    "                     shuffle=True,\n",
    "                     random_state = 1212)"
   ]
  },
  {
   "cell_type": "markdown",
   "id": "38220573",
   "metadata": {},
   "source": [
    "# RDF Preprocessing"
   ]
  },
  {
   "cell_type": "markdown",
   "id": "8bce97fd",
   "metadata": {},
   "source": [
    "## Standard Scale"
   ]
  },
  {
   "cell_type": "code",
   "execution_count": 5,
   "id": "7ce54b35",
   "metadata": {
    "ExecuteTime": {
     "end_time": "2022-07-17T23:38:53.266019Z",
     "start_time": "2022-07-17T23:38:53.238018Z"
    }
   },
   "outputs": [],
   "source": [
    "# initialize\n",
    "ss = StandardScaler()\n",
    "\n",
    "# fit on Train\n",
    "X_rdf_train_ss = pd.DataFrame(ss.fit_transform(X_rdf_train),\n",
    "                              columns = X_rdf_train.columns,\n",
    "                              index = X_rdf_train.index)\n",
    "\n",
    "# transform test\n",
    "X_rdf_test_ss = pd.DataFrame(ss.transform(X_rdf_test),\n",
    "                             columns = X_rdf_test.columns,\n",
    "                             index = X_rdf_test.index)"
   ]
  },
  {
   "cell_type": "markdown",
   "id": "770be2fd",
   "metadata": {},
   "source": [
    "## RFE"
   ]
  },
  {
   "cell_type": "code",
   "execution_count": 6,
   "id": "688602d3",
   "metadata": {
    "ExecuteTime": {
     "end_time": "2022-07-17T23:38:55.506026Z",
     "start_time": "2022-07-17T23:38:53.268018Z"
    }
   },
   "outputs": [
    {
     "name": "stdout",
     "output_type": "stream",
     "text": [
      "# of Columns Kept: 20\n",
      "# of Columns Dropped: 44\n"
     ]
    }
   ],
   "source": [
    "rfecv = RFECV(\n",
    "            estimator=BayesianRidge(),\n",
    "            step = 1,\n",
    "            cv = 5,\n",
    "            scoring='r2',\n",
    "            min_features_to_select = 20)\n",
    "\n",
    "rfecv.fit(X_rdf_train_ss,y_rdf_train)\n",
    "\n",
    "rdf_cols_to_keep = X_rdf_train_ss.T[rfecv.ranking_==1].T.columns\n",
    "rdf_cols_to_pc = X_rdf_train_ss.T[rfecv.ranking_!=1].T.columns\n",
    "\n",
    "print(f'# of Columns Kept: {len(rdf_cols_to_keep)}')\n",
    "print(f'# of Columns Dropped: {len(rdf_cols_to_pc)}')"
   ]
  },
  {
   "cell_type": "code",
   "execution_count": 7,
   "id": "67d27dfa",
   "metadata": {
    "ExecuteTime": {
     "end_time": "2022-07-17T23:38:55.760019Z",
     "start_time": "2022-07-17T23:38:55.509018Z"
    }
   },
   "outputs": [
    {
     "data": {
      "image/png": "[encoded data removed]",
      "text/plain": [
       "<Figure size 432x288 with 1 Axes>"
      ]
     },
     "metadata": {
      "needs_background": "light"
     },
     "output_type": "display_data"
    }
   ],
   "source": [
    "# https://scikit-learn.org/stable/auto_examples/feature_selection/plot_rfe_with_cross_validation.html#sphx-glr-auto-examples-feature-selection-plot-rfe-with-cross-validation-py\n",
    "# Plot number of features VS. cross-validation scores\n",
    "plt.figure()\n",
    "plt.xlabel(\"Number of features selected\")\n",
    "plt.ylabel(\"Cross validation score (accuracy)\")\n",
    "plt.plot(\n",
    "    range(20, len(rfecv.cv_results_['mean_test_score'])+20),\n",
    "    rfecv.cv_results_['mean_test_score']\n",
    ")\n",
    "plt.show()"
   ]
  },
  {
   "cell_type": "markdown",
   "id": "c81ec5e2",
   "metadata": {},
   "source": [
    "### Removed Features"
   ]
  },
  {
   "cell_type": "code",
   "execution_count": 8,
   "id": "6733d841",
   "metadata": {
    "ExecuteTime": {
     "end_time": "2022-07-17T23:38:55.776030Z",
     "start_time": "2022-07-17T23:38:55.764018Z"
    }
   },
   "outputs": [
    {
     "name": "stdout",
     "output_type": "stream",
     "text": [
      "g_1b_share_1yr, g_1b_share_3yr, g_1yr, g_2b_share_1yr, g_2b_share_2yr\n",
      "g_2b_share_3yr, g_2yr, g_3b_share_1yr, g_3b_share_2yr, g_3b_share_3yr\n",
      "g_3yr, g_cf_share_2yr, g_cf_share_3yr, g_cof_share_2yr, g_cof_share_3yr\n",
      "g_dh_share_2yr, g_dh_share_3yr, g_of_1yr, g_of_2yr, g_ss_share_1yr\n",
      "g_ss_share_2yr, g_ss_share_3yr, inn_per_team_gp_1yr, inn_per_team_gp_2yr, inn_per_team_gp_3yr\n",
      "inn_pg_1yr, inn_pg_2yr, inn_pg_3yr, pa_per_team_gp_1yr, pa_per_team_gp_2yr\n",
      "pa_per_team_gp_3yr, pa_pg_1yr, pa_pg_2yr, pa_pg_3yr, percent_team_gp_1yr\n",
      "percent_team_gp_2yr, percent_team_gp_3yr, runs_br_pg_2yr, runs_br_pg_3yr, runs_dp_pg_1yr\n",
      "runs_position_pg_3yr, team_gp_1yr, team_gp_2yr, team_gp_3yr\n"
     ]
    }
   ],
   "source": [
    "for i in range(0,45,5):\n",
    "    print(', '.join(rdf_cols_to_pc.sort_values()[i:i+5]))"
   ]
  },
  {
   "cell_type": "markdown",
   "id": "4f09fa08",
   "metadata": {},
   "source": [
    "## PCA"
   ]
  },
  {
   "cell_type": "code",
   "execution_count": 9,
   "id": "7fda27b7",
   "metadata": {
    "ExecuteTime": {
     "end_time": "2022-07-17T23:38:55.808019Z",
     "start_time": "2022-07-17T23:38:55.779018Z"
    }
   },
   "outputs": [
    {
     "name": "stdout",
     "output_type": "stream",
     "text": [
      "PC 0: 6.29 --> 14.30% --> 14.30%\n",
      "PC 1: 5.19 --> 11.79% --> 26.09%\n",
      "PC 2: 4.18 --> 9.50% --> 35.59%\n",
      "PC 3: 3.29 --> 7.47% --> 43.06%\n",
      "PC 4: 3.05 --> 6.93% --> 49.99%\n"
     ]
    }
   ],
   "source": [
    "pca = PCA().fit(X_rdf_train_ss[rdf_cols_to_pc])\n",
    "\n",
    "cum_var_exp = np.cumsum(pca.explained_variance_ratio_) * 100\n",
    "\n",
    "for i, l in enumerate(pca.explained_variance_[:5]):\n",
    "    print('PC {}: {:.2f} --> {:.2f}% --> {:.2f}%'.format(i, l,\n",
    "                                             l * 100 / sum(pca.explained_variance_),\n",
    "                                             cum_var_exp[i]))"
   ]
  },
  {
   "cell_type": "code",
   "execution_count": 10,
   "id": "7a91e437",
   "metadata": {
    "ExecuteTime": {
     "end_time": "2022-07-17T23:38:56.140136Z",
     "start_time": "2022-07-17T23:38:55.814020Z"
    }
   },
   "outputs": [
    {
     "data": {
      "image/png": "[encoded data removed]",
      "text/plain": [
       "<Figure size 648x504 with 1 Axes>"
      ]
     },
     "metadata": {
      "needs_background": "light"
     },
     "output_type": "display_data"
    }
   ],
   "source": [
    "cum_var_exp = np.cumsum(pca.explained_variance_ratio_) * 100\n",
    "plt.figure(figsize=(9,7))\n",
    "component_number = range(1, len(rdf_cols_to_pc)+1)\n",
    "plt.plot(component_number, cum_var_exp, lw=7)\n",
    "plt.axhline(y=0, linewidth=5, color='grey', ls='dashed')\n",
    "plt.axhline(y=100, linewidth=3, color='grey', ls='dashed')\n",
    "ax = plt.gca()\n",
    "ax.set_xlim([1,19])\n",
    "ax.set_ylim([-5,105])\n",
    "ax.set_ylabel('cumulative variance explained', fontsize=16)\n",
    "ax.set_xlabel('component #', fontsize=16)  \n",
    "ax.set_title('component vs cumulative variance explained\\n', fontsize=20)\n",
    "ax.axhline(y=np.cumsum(pca.explained_variance_ratio_)[4]*100, c='r', label='Intersection when x=5')\n",
    "ax.axvline(x=5,  c='r')\n",
    "ax.legend();"
   ]
  },
  {
   "cell_type": "code",
   "execution_count": 11,
   "id": "32126008",
   "metadata": {
    "ExecuteTime": {
     "end_time": "2022-07-17T23:38:56.172065Z",
     "start_time": "2022-07-17T23:38:56.142067Z"
    }
   },
   "outputs": [],
   "source": [
    "rdf_pca_train = pd.DataFrame(pca.transform(X_rdf_train_ss[rdf_cols_to_pc])[:,:5],\n",
    "                     columns = ['pc_' + str(i) for i in range(5)],\n",
    "                     index = X_rdf_train_ss.index)\n",
    "\n",
    "rdf_pca_test = pd.DataFrame(pca.transform(X_rdf_test_ss[rdf_cols_to_pc])[:,:5],\n",
    "                     columns = ['pc_' + str(i) for i in range(5)],\n",
    "                     index = X_rdf_test_ss.index)"
   ]
  },
  {
   "cell_type": "code",
   "execution_count": 12,
   "id": "b2632688",
   "metadata": {
    "ExecuteTime": {
     "end_time": "2022-07-17T23:38:56.188065Z",
     "start_time": "2022-07-17T23:38:56.176066Z"
    }
   },
   "outputs": [],
   "source": [
    "X_rdf_train_ss = pd.concat([X_rdf_train_ss[rdf_cols_to_keep], rdf_pca_train], axis=1)\n",
    "X_rdf_test_ss = pd.concat([X_rdf_test_ss[rdf_cols_to_keep], rdf_pca_test], axis=1)"
   ]
  },
  {
   "cell_type": "markdown",
   "id": "3026c2fb",
   "metadata": {},
   "source": [
    "# YDF Preprocessing"
   ]
  },
  {
   "cell_type": "markdown",
   "id": "b3cf8187",
   "metadata": {},
   "source": [
    "## Standard Scale"
   ]
  },
  {
   "cell_type": "code",
   "execution_count": 13,
   "id": "ba4d7f31",
   "metadata": {
    "ExecuteTime": {
     "end_time": "2022-07-17T23:38:56.220071Z",
     "start_time": "2022-07-17T23:38:56.190066Z"
    }
   },
   "outputs": [],
   "source": [
    "# initialize\n",
    "ss = StandardScaler()\n",
    "\n",
    "# fit on Train\n",
    "X_ydf_train_ss = pd.DataFrame(ss.fit_transform(X_ydf_train),\n",
    "                              columns = X_ydf_train.columns,\n",
    "                              index = X_ydf_train.index)\n",
    "\n",
    "# transform test\n",
    "X_ydf_test_ss = pd.DataFrame(ss.transform(X_ydf_test),\n",
    "                             columns = X_ydf_test.columns,\n",
    "                             index = X_ydf_test.index)"
   ]
  },
  {
   "cell_type": "markdown",
   "id": "37701ce6",
   "metadata": {},
   "source": [
    "# Others Preprocessing"
   ]
  },
  {
   "cell_type": "markdown",
   "id": "c1232e2c",
   "metadata": {},
   "source": [
    "## Standard Scale"
   ]
  },
  {
   "cell_type": "code",
   "execution_count": 14,
   "id": "f6d8a608",
   "metadata": {
    "ExecuteTime": {
     "end_time": "2022-07-17T23:38:56.251065Z",
     "start_time": "2022-07-17T23:38:56.223066Z"
    }
   },
   "outputs": [],
   "source": [
    "# initialize\n",
    "ss = StandardScaler()\n",
    "\n",
    "# fit on Train\n",
    "X_odf_train_ss = pd.DataFrame(ss.fit_transform(X_odf_train),\n",
    "                              columns = X_odf_train.columns,\n",
    "                              index = X_odf_train.index)\n",
    "\n",
    "# transform test\n",
    "X_odf_test_ss = pd.DataFrame(ss.transform(X_odf_test),\n",
    "                             columns = X_odf_test.columns,\n",
    "                             index = X_odf_test.index)"
   ]
  },
  {
   "cell_type": "markdown",
   "id": "fffa9fe4",
   "metadata": {},
   "source": [
    "# Exports"
   ]
  },
  {
   "cell_type": "code",
   "execution_count": 15,
   "id": "14ebdd8e",
   "metadata": {
    "ExecuteTime": {
     "end_time": "2022-07-17T23:38:56.282065Z",
     "start_time": "2022-07-17T23:38:56.254065Z"
    }
   },
   "outputs": [],
   "source": [
    "# consolidate test and train files\n",
    "rdf_test = pd.merge(X_rdf_test_ss,y_rdf_test, left_index=True, right_index=True)\n",
    "rdf_train = pd.merge(X_rdf_train_ss,y_rdf_train, left_index=True, right_index=True)\n",
    "\n",
    "ydf_test = pd.merge(X_ydf_test_ss,y_ydf_test, left_index=True, right_index=True)\n",
    "ydf_train = pd.merge(X_ydf_train_ss,y_ydf_train, left_index=True, right_index=True)\n",
    "\n",
    "odf_test = pd.merge(X_odf_test_ss,y_odf_test, left_index=True, right_index=True)\n",
    "odf_train = pd.merge(X_odf_train_ss,y_odf_train, left_index=True, right_index=True)\n",
    "\n",
    "\n",
    "# add flag to train\n",
    "rdf_train['is_train'] = 1\n",
    "\n",
    "# concat train and test, fill is_train with 0 in test\n",
    "rdf_preprocessed = pd.concat([rdf_test,rdf_train]).fillna(0)"
   ]
  },
  {
   "cell_type": "code",
   "execution_count": 16,
   "id": "548c563e",
   "metadata": {
    "ExecuteTime": {
     "end_time": "2022-07-17T23:38:56.298073Z",
     "start_time": "2022-07-17T23:38:56.290067Z"
    }
   },
   "outputs": [
    {
     "data": {
      "text/plain": [
       "Index(['g_of', 'runs_bat_pg_1yr', 'runs_bat_pg_2yr', 'runs_bat_pg_3yr',\n",
       "       'runs_br_pg_1yr', 'runs_dp_pg_2yr', 'runs_dp_pg_3yr',\n",
       "       'runs_defense_pg_1yr', 'runs_defense_pg_2yr', 'runs_defense_pg_3yr',\n",
       "       'runs_position_pg_1yr', 'runs_position_pg_2yr', 'g_c_share_1yr',\n",
       "       'g_c_share_2yr', 'g_c_share_3yr', 'g_1b_share_2yr', 'g_cf_share_1yr',\n",
       "       'g_of_3yr', 'g_dh_share_1yr', 'g_cof_share_1yr', 'pc_0', 'pc_1', 'pc_2',\n",
       "       'pc_3', 'pc_4', 'runs_total_pg', 'is_train'],\n",
       "      dtype='object')"
      ]
     },
     "execution_count": 16,
     "metadata": {},
     "output_type": "execute_result"
    }
   ],
   "source": [
    "rdf_preprocessed.columns"
   ]
  },
  {
   "cell_type": "code",
   "execution_count": 16,
   "id": "70b28dea",
   "metadata": {
    "ExecuteTime": {
     "end_time": "2022-07-17T23:36:23.816287Z",
     "start_time": "2022-07-17T23:36:23.802285Z"
    }
   },
   "outputs": [],
   "source": [
    "rdf_ydf_preprocessed=\\\n",
    "pd.merge(\n",
    "        pd.merge(rdf_preprocessed, pd.concat([ydf_test,ydf_train]),\n",
    "                 how = 'inner',\n",
    "                 left_index=True, right_index=True),\n",
    "        pd.concat([odf_test,odf_train]),\n",
    "        how = 'inner',\n",
    "        left_index=True, right_index=True)"
   ]
  },
  {
   "cell_type": "code",
   "execution_count": 17,
   "id": "19fe9be2",
   "metadata": {
    "ExecuteTime": {
     "end_time": "2022-07-17T23:36:24.102548Z",
     "start_time": "2022-07-17T23:36:23.818331Z"
    }
   },
   "outputs": [],
   "source": [
    "rdf_ydf_preprocessed.to_csv('../data/rdf_ydf_preprocessed.csv')"
   ]
  }
 ],
 "metadata": {
  "kernelspec": {
   "display_name": "Python 3 (ipykernel)",
   "language": "python",
   "name": "python3"
  },
  "language_info": {
   "codemirror_mode": {
    "name": "ipython",
    "version": 3
   },
   "file_extension": ".py",
   "mimetype": "text/x-python",
   "name": "python",
   "nbconvert_exporter": "python",
   "pygments_lexer": "ipython3",
   "version": "3.9.12"
  },
  "toc": {
   "base_numbering": 1,
   "nav_menu": {},
   "number_sections": false,
   "sideBar": true,
   "skip_h1_title": false,
   "title_cell": "Table of Contents",
   "title_sidebar": "Contents",
   "toc_cell": false,
   "toc_position": {},
   "toc_section_display": true,
   "toc_window_display": false
  }
 },
 "nbformat": 4,
 "nbformat_minor": 5
}
