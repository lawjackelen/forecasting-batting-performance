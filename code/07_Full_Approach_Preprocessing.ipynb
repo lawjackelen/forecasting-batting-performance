{
 "cells": [
  {
   "cell_type": "markdown",
   "id": "474a5308",
   "metadata": {},
   "source": [
    "# Imports"
   ]
  },
  {
   "cell_type": "code",
   "execution_count": 4,
   "id": "013dfaba",
   "metadata": {
    "ExecuteTime": {
     "end_time": "2022-07-15T05:18:47.487466Z",
     "start_time": "2022-07-15T05:18:47.467468Z"
    }
   },
   "outputs": [],
   "source": [
    "import pandas as pd\n",
    "import numpy as np\n",
    "np.random.seed(2121)\n",
    "\n",
    "import matplotlib.pyplot as plt\n",
    "\n",
    "from sklearn.model_selection import train_test_split\n",
    "from sklearn.preprocessing import StandardScaler\n",
    "from sklearn.feature_selection import RFECV\n",
    "from sklearn.linear_model import BayesianRidge\n",
    "from sklearn.decomposition import PCA\n",
    "from sklearn.pipeline import Pipeline"
   ]
  },
  {
   "cell_type": "code",
   "execution_count": 5,
   "id": "040658af",
   "metadata": {
    "ExecuteTime": {
     "end_time": "2022-07-15T05:18:47.930635Z",
     "start_time": "2022-07-15T05:18:47.743566Z"
    }
   },
   "outputs": [],
   "source": [
    "batpos = pd.read_csv('../data/batpos_feature_extracted.csv')\n"
   ]
  },
  {
   "cell_type": "code",
   "execution_count": 6,
   "id": "6c68ad24",
   "metadata": {
    "ExecuteTime": {
     "end_time": "2022-07-15T05:18:48.102405Z",
     "start_time": "2022-07-15T05:18:48.089320Z"
    }
   },
   "outputs": [],
   "source": [
    "batpos.drop(['name_common', 'player_id','g', 'team_gp', 'pa_pg', 'inn_pg',\n",
    "       'runs_bat_pg', 'runs_br_pg', 'runs_dp_pg', 'runs_defense_pg',\n",
    "       'runs_position_pg', 'opprpg', 'percent_team_gp', 'pa_per_team_gp',\n",
    "       'inn_per_team_gp', 'g_c_share', 'g_1b_share', 'g_2b_share',\n",
    "       'g_3b_share', 'g_ss_share', 'g_cf_share', 'g_dh_share', 'g_cof_share']\n",
    "            , axis=1, inplace=True)"
   ]
  },
  {
   "cell_type": "markdown",
   "id": "a26f005d",
   "metadata": {},
   "source": [
    "# Train-Test Split"
   ]
  },
  {
   "cell_type": "code",
   "execution_count": 18,
   "id": "13c70796",
   "metadata": {
    "ExecuteTime": {
     "end_time": "2022-07-15T05:20:24.873753Z",
     "start_time": "2022-07-15T05:20:24.855755Z"
    }
   },
   "outputs": [],
   "source": [
    "batpos_target = 'waa_pg'\n"
   ]
  },
  {
   "cell_type": "code",
   "execution_count": 19,
   "id": "9c400541",
   "metadata": {
    "ExecuteTime": {
     "end_time": "2022-07-15T05:20:25.232751Z",
     "start_time": "2022-07-15T05:20:25.215684Z"
    }
   },
   "outputs": [],
   "source": [
    "y = batpos[batpos_target]\n",
    "X = batpos[[col for col in batpos.columns if col != batpos_target]]"
   ]
  },
  {
   "cell_type": "code",
   "execution_count": 20,
   "id": "524580b2",
   "metadata": {
    "ExecuteTime": {
     "end_time": "2022-07-15T05:20:39.087372Z",
     "start_time": "2022-07-15T05:20:39.063435Z"
    }
   },
   "outputs": [],
   "source": [
    "X_train, X_test, y_train, y_test =\\\n",
    "    train_test_split(batpos_X, batpos_y,\n",
    "                     test_size=0.2,\n",
    "                     shuffle=True,\n",
    "                     random_state = 1212)"
   ]
  },
  {
   "cell_type": "markdown",
   "id": "8bce97fd",
   "metadata": {},
   "source": [
    "## Standard Scale"
   ]
  },
  {
   "cell_type": "code",
   "execution_count": 21,
   "id": "7ce54b35",
   "metadata": {
    "ExecuteTime": {
     "end_time": "2022-07-15T05:20:54.243872Z",
     "start_time": "2022-07-15T05:20:54.199716Z"
    }
   },
   "outputs": [],
   "source": [
    "# initialize\n",
    "ss = StandardScaler()\n",
    "\n",
    "# fit on Train\n",
    "X_train_ss = pd.DataFrame(ss.fit_transform(X_train),\n",
    "                              columns = X_train.columns,\n",
    "                              index = X_train.index)\n",
    "\n",
    "# transform test\n",
    "X_test_ss = pd.DataFrame(ss.transform(X_test),\n",
    "                         columns = X_test.columns,\n",
    "                         index = X_test.index)\n",
    "\n"
   ]
  },
  {
   "cell_type": "markdown",
   "id": "77940c9c",
   "metadata": {},
   "source": [
    "# RFE"
   ]
  },
  {
   "cell_type": "code",
   "execution_count": 22,
   "id": "9abf88e7",
   "metadata": {
    "ExecuteTime": {
     "end_time": "2022-07-15T05:21:04.571976Z",
     "start_time": "2022-07-15T05:20:59.319616Z"
    }
   },
   "outputs": [
    {
     "name": "stdout",
     "output_type": "stream",
     "text": [
      "# of Columns Kept: 11\n",
      "# of Columns Dropped: 57\n"
     ]
    }
   ],
   "source": [
    "rfecv = RFECV(\n",
    "            estimator=BayesianRidge(),\n",
    "            step = 1,\n",
    "            cv = 5,\n",
    "            scoring='r2',\n",
    "            min_features_to_select = 10)\n",
    "\n",
    "rfecv.fit(X_train_ss,y_train)\n",
    "\n",
    "cols_to_keep = X_train_ss.T[rfecv.ranking_==1].T.columns\n",
    "cols_to_pc = X_train_ss.T[rfecv.ranking_!=1].T.columns\n",
    "\n",
    "print(f'# of Columns Kept: {len(cols_to_keep)}')\n",
    "print(f'# of Columns Dropped: {len(cols_to_pc)}')"
   ]
  },
  {
   "cell_type": "markdown",
   "id": "3a86a6cb",
   "metadata": {},
   "source": [
    "# PCA"
   ]
  },
  {
   "cell_type": "code",
   "execution_count": 23,
   "id": "405f6c02",
   "metadata": {
    "ExecuteTime": {
     "end_time": "2022-07-15T05:21:10.942616Z",
     "start_time": "2022-07-15T05:21:10.887617Z"
    }
   },
   "outputs": [
    {
     "name": "stdout",
     "output_type": "stream",
     "text": [
      "PC 0: 8.57 --> 15.04%\n",
      "PC 1: 5.45 --> 9.56%\n",
      "PC 2: 4.28 --> 7.52%\n",
      "PC 3: 3.43 --> 6.01%\n",
      "PC 4: 3.30 --> 5.79%\n",
      "PC 5: 3.13 --> 5.50%\n"
     ]
    }
   ],
   "source": [
    "pca = PCA().fit(X_train_ss[cols_to_pc])\n",
    "\n",
    "for i, l in enumerate(pca.explained_variance_[:6]):\n",
    "    print('PC {}: {:.2f} --> {:.2f}%'.format(i, l,\n",
    "                                             l * 100 / sum(pca.explained_variance_)))"
   ]
  },
  {
   "cell_type": "code",
   "execution_count": 24,
   "id": "bc9a76ac",
   "metadata": {
    "ExecuteTime": {
     "end_time": "2022-07-15T05:21:18.038268Z",
     "start_time": "2022-07-15T05:21:17.767882Z"
    }
   },
   "outputs": [
    {
     "data": {
      "image/png": "[encoded data removed]",
      "text/plain": [
       "<Figure size 648x504 with 1 Axes>"
      ]
     },
     "metadata": {
      "needs_background": "light"
     },
     "output_type": "display_data"
    }
   ],
   "source": [
    "cum_var_exp = np.cumsum(pca.explained_variance_ratio_) * 100\n",
    "plt.figure(figsize=(9,7))\n",
    "component_number = range(1, len(cols_to_pc)+1)\n",
    "plt.plot(component_number, cum_var_exp, lw=7)\n",
    "plt.axhline(y=0, linewidth=5, color='grey', ls='dashed')\n",
    "plt.axhline(y=100, linewidth=3, color='grey', ls='dashed')\n",
    "ax = plt.gca()\n",
    "ax.set_xlim([1,19])\n",
    "ax.set_ylim([-5,105])\n",
    "ax.set_ylabel('cumulative variance explained', fontsize=16)\n",
    "ax.set_xlabel('component #', fontsize=16)  \n",
    "ax.set_title('component vs cumulative variance explained\\n', fontsize=20)\n",
    "ax.axhline(y=np.cumsum(pca.explained_variance_ratio_)[5]*100, c='r', label='Intersection when x=6')\n",
    "ax.axvline(x=6,  c='r')\n",
    "ax.legend();"
   ]
  },
  {
   "cell_type": "code",
   "execution_count": 25,
   "id": "71962c9f",
   "metadata": {
    "ExecuteTime": {
     "end_time": "2022-07-15T05:21:31.324538Z",
     "start_time": "2022-07-15T05:21:31.296538Z"
    }
   },
   "outputs": [],
   "source": [
    "pca_df_train = pd.DataFrame(pca.transform(X_train_ss[cols_to_pc])[:,:7],\n",
    "                     columns = ['pc_' + str(i) for i in range(7)],\n",
    "                     index = X_train_ss.index)\n",
    "\n",
    "pca_df_test = pd.DataFrame(pca.transform(X_test_ss[cols_to_pc])[:,:7],\n",
    "                     columns = ['pc_' + str(i) for i in range(7)],\n",
    "                     index = X_test_ss.index)"
   ]
  },
  {
   "cell_type": "code",
   "execution_count": 26,
   "id": "4f03bdf7",
   "metadata": {
    "ExecuteTime": {
     "end_time": "2022-07-15T05:21:34.385522Z",
     "start_time": "2022-07-15T05:21:34.366505Z"
    }
   },
   "outputs": [],
   "source": [
    "X_train_ss = pd.concat([X_train_ss[cols_to_keep], pca_df_train], axis=1)"
   ]
  },
  {
   "cell_type": "code",
   "execution_count": 27,
   "id": "71aac856",
   "metadata": {
    "ExecuteTime": {
     "end_time": "2022-07-15T05:21:34.853686Z",
     "start_time": "2022-07-15T05:21:34.832753Z"
    }
   },
   "outputs": [],
   "source": [
    "X_test_ss = pd.concat([X_test_ss[cols_to_keep], pca_df_test], axis=1)"
   ]
  },
  {
   "cell_type": "markdown",
   "id": "6b097065",
   "metadata": {},
   "source": [
    "# Export"
   ]
  },
  {
   "cell_type": "code",
   "execution_count": null,
   "id": "34e4710c",
   "metadata": {
    "ExecuteTime": {
     "end_time": "2022-07-10T22:34:55.656214Z",
     "start_time": "2022-07-10T22:34:54.929390Z"
    }
   },
   "outputs": [],
   "source": [
    "# X_train_ss.to_csv('../data/x_train_preprocessed.csv')\n",
    "# y_train.to_csv('../data/y_train.csv')\n",
    "\n",
    "# X_test_ss.to_csv('../data/x_test_preprocessed.csv')\n",
    "# y_test.to_csv('../data/y_test.csv')\n",
    "\n",
    "# base_train.to_csv('../data/baseline_train.csv')\n",
    "# base_test.to_csv('../data/baseline_test.csv')"
   ]
  }
 ],
 "metadata": {
  "kernelspec": {
   "display_name": "Python 3 (ipykernel)",
   "language": "python",
   "name": "python3"
  },
  "language_info": {
   "codemirror_mode": {
    "name": "ipython",
    "version": 3
   },
   "file_extension": ".py",
   "mimetype": "text/x-python",
   "name": "python",
   "nbconvert_exporter": "python",
   "pygments_lexer": "ipython3",
   "version": "3.9.12"
  },
  "toc": {
   "base_numbering": 1,
   "nav_menu": {},
   "number_sections": false,
   "sideBar": true,
   "skip_h1_title": false,
   "title_cell": "Table of Contents",
   "title_sidebar": "Contents",
   "toc_cell": false,
   "toc_position": {},
   "toc_section_display": true,
   "toc_window_display": false
  }
 },
 "nbformat": 4,
 "nbformat_minor": 5
}
