{
 "cells": [
  {
   "cell_type": "markdown",
   "id": "b677737f",
   "metadata": {},
   "source": [
    "# Imports"
   ]
  },
  {
   "cell_type": "code",
   "execution_count": 2,
   "id": "a3c062ac",
   "metadata": {
    "ExecuteTime": {
     "end_time": "2022-07-17T23:37:06.588476Z",
     "start_time": "2022-07-17T23:37:04.859278Z"
    }
   },
   "outputs": [],
   "source": [
    "import pandas as pd\n",
    "import numpy as np\n",
    "np.random.seed(2121)\n",
    "\n",
    "from sklearn.linear_model import LinearRegression, LassoCV\n",
    "from sklearn.model_selection import GridSearchCV, cross_val_score\n",
    "from sklearn.ensemble import RandomForestRegressor\n",
    "from sklearn.svm import SVR"
   ]
  },
  {
   "cell_type": "code",
   "execution_count": 3,
   "id": "ef686586",
   "metadata": {
    "ExecuteTime": {
     "end_time": "2022-07-17T23:37:06.668413Z",
     "start_time": "2022-07-17T23:37:06.591407Z"
    }
   },
   "outputs": [],
   "source": [
    "# import files\n",
    "rdf_ydf = pd.read_csv('../data/rdf_ydf_preprocessed.csv')"
   ]
  },
  {
   "cell_type": "code",
   "execution_count": 4,
   "id": "6e49cb28",
   "metadata": {
    "ExecuteTime": {
     "end_time": "2022-07-17T23:37:29.482296Z",
     "start_time": "2022-07-17T23:37:29.466296Z"
    }
   },
   "outputs": [],
   "source": [
    "rdf_ydf.set_index('Unnamed: 0', inplace=True)\n",
    "rdf_ydf.index.name = None"
   ]
  },
  {
   "cell_type": "code",
   "execution_count": 5,
   "id": "bb5e0d2b",
   "metadata": {
    "ExecuteTime": {
     "end_time": "2022-07-17T23:41:58.902589Z",
     "start_time": "2022-07-17T23:41:58.872563Z"
    }
   },
   "outputs": [],
   "source": [
    "rdf_target = 'runs_total_pg'\n",
    "rdf_cols = ['g_of', 'runs_bat_pg_1yr', 'runs_bat_pg_2yr', 'runs_bat_pg_3yr',\n",
    "       'runs_br_pg_1yr', 'runs_dp_pg_2yr', 'runs_dp_pg_3yr',\n",
    "       'runs_defense_pg_1yr', 'runs_defense_pg_2yr', 'runs_defense_pg_3yr',\n",
    "       'runs_position_pg_1yr', 'runs_position_pg_2yr', 'g_c_share_1yr',\n",
    "       'g_c_share_2yr', 'g_c_share_3yr', 'g_1b_share_2yr', 'g_cf_share_1yr',\n",
    "       'g_of_3yr', 'g_dh_share_1yr', 'g_cof_share_1yr', 'pc_0', 'pc_1', 'pc_2',\n",
    "       'pc_3', 'pc_4']\n",
    "\n",
    "y_rdf_train = rdf_ydf[rdf_ydf.is_train==1][rdf_target]\n",
    "X_rdf_train = rdf_ydf[rdf_ydf.is_train==1][rdf_cols]\n",
    "y_rdf_test = rdf_ydf[rdf_ydf.is_train==0][rdf_target]\n",
    "X_rdf_test = rdf_ydf[rdf_ydf.is_train==0][rdf_cols]\n",
    "\n",
    "\n",
    "ydf_target = 'opprpg'\n",
    "ydf_cols = ['opprpg_1yr', 'opprpg_2yr', 'opprpg_3yr']\n",
    "\n",
    "y_ydf_train = rdf_ydf[rdf_ydf.is_train==1][ydf_target]\n",
    "X_ydf_train = rdf_ydf[rdf_ydf.is_train==1][ydf_cols]\n",
    "y_ydf_test = rdf_ydf[rdf_ydf.is_train==0][ydf_target]\n",
    "X_ydf_test = rdf_ydf[rdf_ydf.is_train==0][ydf_cols]"
   ]
  },
  {
   "cell_type": "code",
   "execution_count": 83,
   "id": "2e88eee4",
   "metadata": {
    "ExecuteTime": {
     "end_time": "2022-07-18T01:25:38.184399Z",
     "start_time": "2022-07-18T01:25:38.164377Z"
    }
   },
   "outputs": [],
   "source": [
    "odf_target = 'waa_pg'\n",
    "odf_cols = [c for c in rdf_ydf.columns if c not in ydf_cols\n",
    "                    if c not in rdf_cols\n",
    "                    if c not in [rdf_target, ydf_target,odf_target,'is_train']]\n",
    "\n",
    "y_odf_train = rdf_ydf[rdf_ydf.is_train==1][odf_target]\n",
    "X_odf_train = rdf_ydf[rdf_ydf.is_train==1][odf_cols]\n",
    "y_odf_test = rdf_ydf[rdf_ydf.is_train==0][odf_target]\n",
    "X_odf_test = rdf_ydf[rdf_ydf.is_train==0][odf_cols]"
   ]
  },
  {
   "cell_type": "code",
   "execution_count": null,
   "id": "65736664",
   "metadata": {},
   "outputs": [],
   "source": []
  },
  {
   "cell_type": "markdown",
   "id": "e63884a2",
   "metadata": {},
   "source": [
    "# RDF Modeling"
   ]
  },
  {
   "cell_type": "markdown",
   "id": "17c26085",
   "metadata": {},
   "source": [
    "## Linear Regression"
   ]
  },
  {
   "cell_type": "code",
   "execution_count": 27,
   "id": "03628ae9",
   "metadata": {
    "ExecuteTime": {
     "end_time": "2022-07-18T00:49:11.690541Z",
     "start_time": "2022-07-18T00:49:11.674541Z"
    }
   },
   "outputs": [
    {
     "data": {
      "text/plain": [
       "0.3729301744261698"
      ]
     },
     "execution_count": 27,
     "metadata": {},
     "output_type": "execute_result"
    }
   ],
   "source": [
    "# initialize\n",
    "lr_rdf = LinearRegression()\n",
    "\n",
    "# fit\n",
    "lr_rdf.fit(X_rdf_train, y_rdf_train)\n",
    "\n",
    "# score\n",
    "lr_rdf.score(X_rdf_test,y_rdf_test)"
   ]
  },
  {
   "cell_type": "markdown",
   "id": "86062a18",
   "metadata": {},
   "source": [
    "### Lasso Regularization"
   ]
  },
  {
   "cell_type": "code",
   "execution_count": 9,
   "id": "dc53ea4a",
   "metadata": {
    "ExecuteTime": {
     "end_time": "2022-07-18T00:38:14.926955Z",
     "start_time": "2022-07-18T00:38:13.826391Z"
    }
   },
   "outputs": [
    {
     "name": "stdout",
     "output_type": "stream",
     "text": [
      "Best Alpha: 0.0007\n",
      "CV Score: 0.3526\n"
     ]
    }
   ],
   "source": [
    "# initialize\n",
    "lasso_cv = LassoCV()\n",
    "\n",
    "# cv\n",
    "scores = cross_val_score(lasso_cv, X_rdf_train, y_rdf_train)\n",
    "\n",
    "# fit\n",
    "lasso_cv.fit(X_rdf_train, y_rdf_train)\n",
    "\n",
    "# best attributes\n",
    "print(f'Best Alpha: {lasso_cv.alpha_:.4f}')\n",
    "print(f'CV Score: {scores.mean():.4f}')"
   ]
  },
  {
   "cell_type": "code",
   "execution_count": 10,
   "id": "ff1adbfe",
   "metadata": {
    "ExecuteTime": {
     "end_time": "2022-07-18T00:38:16.595851Z",
     "start_time": "2022-07-18T00:38:16.581830Z"
    }
   },
   "outputs": [
    {
     "data": {
      "text/plain": [
       "0.3710231633117884"
      ]
     },
     "execution_count": 10,
     "metadata": {},
     "output_type": "execute_result"
    }
   ],
   "source": [
    "# generate features to select\n",
    "lasso_cv.score(X_rdf_test, y_rdf_test)"
   ]
  },
  {
   "cell_type": "code",
   "execution_count": 11,
   "id": "8d9eb433",
   "metadata": {
    "ExecuteTime": {
     "end_time": "2022-07-18T00:38:29.876001Z",
     "start_time": "2022-07-18T00:38:29.870995Z"
    }
   },
   "outputs": [],
   "source": [
    "lasso_cols = [col for col, coef in zip(X_rdf_train.columns, lasso_cv.coef_) if coef]"
   ]
  },
  {
   "cell_type": "code",
   "execution_count": 12,
   "id": "b5d9257a",
   "metadata": {
    "ExecuteTime": {
     "end_time": "2022-07-18T00:38:40.924873Z",
     "start_time": "2022-07-18T00:38:40.903836Z"
    }
   },
   "outputs": [
    {
     "data": {
      "text/plain": [
       "LinearRegression()"
      ]
     },
     "execution_count": 12,
     "metadata": {},
     "output_type": "execute_result"
    }
   ],
   "source": [
    "lr.fit(X_rdf_train[lasso_cols], y_rdf_train)"
   ]
  },
  {
   "cell_type": "code",
   "execution_count": 13,
   "id": "fc5917cf",
   "metadata": {
    "ExecuteTime": {
     "end_time": "2022-07-18T00:38:56.075927Z",
     "start_time": "2022-07-18T00:38:56.062926Z"
    }
   },
   "outputs": [
    {
     "data": {
      "text/plain": [
       "0.37225301284549295"
      ]
     },
     "execution_count": 13,
     "metadata": {},
     "output_type": "execute_result"
    }
   ],
   "source": [
    "lr.score(X_rdf_test[lasso_cols],y_rdf_test)"
   ]
  },
  {
   "cell_type": "markdown",
   "id": "81ae0149",
   "metadata": {},
   "source": [
    "## Random Forest"
   ]
  },
  {
   "cell_type": "code",
   "execution_count": 14,
   "id": "e2363da2",
   "metadata": {
    "ExecuteTime": {
     "end_time": "2022-07-18T00:39:32.500136Z",
     "start_time": "2022-07-18T00:39:29.398771Z"
    }
   },
   "outputs": [
    {
     "data": {
      "text/plain": [
       "0.32941430249385495"
      ]
     },
     "execution_count": 14,
     "metadata": {},
     "output_type": "execute_result"
    }
   ],
   "source": [
    "# initialize\n",
    "rf = RandomForestRegressor()\n",
    "\n",
    "# fit\n",
    "rf.fit(X_rdf_train, y_rdf_train)\n",
    "\n",
    "# score\n",
    "rf.score(X_rdf_test,y_rdf_test)"
   ]
  },
  {
   "cell_type": "code",
   "execution_count": 15,
   "id": "f45121e4",
   "metadata": {
    "ExecuteTime": {
     "end_time": "2022-07-18T00:39:38.795148Z",
     "start_time": "2022-07-18T00:39:38.783149Z"
    }
   },
   "outputs": [],
   "source": [
    "from sklearn.experimental import enable_halving_search_cv  # noqa\n",
    "from sklearn.model_selection import HalvingGridSearchCV"
   ]
  },
  {
   "cell_type": "code",
   "execution_count": 16,
   "id": "ca6ab7ce",
   "metadata": {
    "ExecuteTime": {
     "end_time": "2022-07-18T00:43:19.307000Z",
     "start_time": "2022-07-18T00:39:59.991865Z"
    },
    "scrolled": true
   },
   "outputs": [
    {
     "name": "stdout",
     "output_type": "stream",
     "text": [
      "n_iterations: 4\n",
      "n_required_iterations: 4\n",
      "n_possible_iterations: 5\n",
      "min_resources_: 50\n",
      "max_resources_: 1000\n",
      "aggressive_elimination: False\n",
      "factor: 2\n",
      "----------\n",
      "iter: 0\n",
      "n_candidates: 9\n",
      "n_resources: 50\n",
      "Fitting 5 folds for each of 9 candidates, totalling 45 fits\n",
      "[CV 1/5] END max_depth=3, min_samples_split=2, n_estimators=50;, score=(train=0.312, test=0.258) total time=   0.3s\n",
      "[CV 2/5] END max_depth=3, min_samples_split=2, n_estimators=50;, score=(train=0.338, test=0.168) total time=   0.3s\n",
      "[CV 3/5] END max_depth=3, min_samples_split=2, n_estimators=50;, score=(train=0.310, test=0.281) total time=   0.4s\n",
      "[CV 4/5] END max_depth=3, min_samples_split=2, n_estimators=50;, score=(train=0.315, test=0.235) total time=   0.3s\n",
      "[CV 5/5] END max_depth=3, min_samples_split=2, n_estimators=50;, score=(train=0.315, test=0.272) total time=   0.3s\n",
      "[CV 1/5] END max_depth=3, min_samples_split=5, n_estimators=50;, score=(train=0.312, test=0.258) total time=   0.3s\n",
      "[CV 2/5] END max_depth=3, min_samples_split=5, n_estimators=50;, score=(train=0.338, test=0.168) total time=   0.3s\n",
      "[CV 3/5] END max_depth=3, min_samples_split=5, n_estimators=50;, score=(train=0.310, test=0.281) total time=   0.3s\n",
      "[CV 4/5] END max_depth=3, min_samples_split=5, n_estimators=50;, score=(train=0.315, test=0.235) total time=   0.3s\n",
      "[CV 5/5] END max_depth=3, min_samples_split=5, n_estimators=50;, score=(train=0.315, test=0.272) total time=   0.3s\n",
      "[CV 1/5] END max_depth=3, min_samples_split=10, n_estimators=50;, score=(train=0.312, test=0.258) total time=   0.3s\n",
      "[CV 2/5] END max_depth=3, min_samples_split=10, n_estimators=50;, score=(train=0.338, test=0.168) total time=   0.3s\n",
      "[CV 3/5] END max_depth=3, min_samples_split=10, n_estimators=50;, score=(train=0.310, test=0.281) total time=   0.3s\n",
      "[CV 4/5] END max_depth=3, min_samples_split=10, n_estimators=50;, score=(train=0.315, test=0.235) total time=   0.3s\n",
      "[CV 5/5] END max_depth=3, min_samples_split=10, n_estimators=50;, score=(train=0.315, test=0.272) total time=   0.3s\n",
      "[CV 1/5] END max_depth=5, min_samples_split=2, n_estimators=50;, score=(train=0.469, test=0.301) total time=   0.4s\n",
      "[CV 2/5] END max_depth=5, min_samples_split=2, n_estimators=50;, score=(train=0.496, test=0.208) total time=   0.4s\n",
      "[CV 3/5] END max_depth=5, min_samples_split=2, n_estimators=50;, score=(train=0.465, test=0.313) total time=   0.6s\n",
      "[CV 4/5] END max_depth=5, min_samples_split=2, n_estimators=50;, score=(train=0.463, test=0.311) total time=   0.5s\n",
      "[CV 5/5] END max_depth=5, min_samples_split=2, n_estimators=50;, score=(train=0.473, test=0.310) total time=   0.5s\n",
      "[CV 1/5] END max_depth=5, min_samples_split=5, n_estimators=50;, score=(train=0.468, test=0.301) total time=   0.5s\n",
      "[CV 2/5] END max_depth=5, min_samples_split=5, n_estimators=50;, score=(train=0.495, test=0.209) total time=   0.4s\n",
      "[CV 3/5] END max_depth=5, min_samples_split=5, n_estimators=50;, score=(train=0.465, test=0.313) total time=   0.4s\n",
      "[CV 4/5] END max_depth=5, min_samples_split=5, n_estimators=50;, score=(train=0.463, test=0.311) total time=   0.4s\n",
      "[CV 5/5] END max_depth=5, min_samples_split=5, n_estimators=50;, score=(train=0.473, test=0.310) total time=   0.5s\n",
      "[CV 1/5] END max_depth=5, min_samples_split=10, n_estimators=50;, score=(train=0.465, test=0.301) total time=   0.4s\n",
      "[CV 2/5] END max_depth=5, min_samples_split=10, n_estimators=50;, score=(train=0.493, test=0.210) total time=   0.4s\n",
      "[CV 3/5] END max_depth=5, min_samples_split=10, n_estimators=50;, score=(train=0.462, test=0.314) total time=   0.4s\n",
      "[CV 4/5] END max_depth=5, min_samples_split=10, n_estimators=50;, score=(train=0.460, test=0.310) total time=   0.4s\n",
      "[CV 5/5] END max_depth=5, min_samples_split=10, n_estimators=50;, score=(train=0.470, test=0.310) total time=   0.4s\n",
      "[CV 1/5] END max_depth=10, min_samples_split=2, n_estimators=50;, score=(train=0.804, test=0.312) total time=   0.9s\n",
      "[CV 2/5] END max_depth=10, min_samples_split=2, n_estimators=50;, score=(train=0.824, test=0.213) total time=   0.8s\n",
      "[CV 3/5] END max_depth=10, min_samples_split=2, n_estimators=50;, score=(train=0.806, test=0.345) total time=   0.8s\n",
      "[CV 4/5] END max_depth=10, min_samples_split=2, n_estimators=50;, score=(train=0.800, test=0.342) total time=   0.8s\n",
      "[CV 5/5] END max_depth=10, min_samples_split=2, n_estimators=50;, score=(train=0.808, test=0.311) total time=   0.8s\n",
      "[CV 1/5] END max_depth=10, min_samples_split=5, n_estimators=50;, score=(train=0.789, test=0.307) total time=   0.8s\n",
      "[CV 2/5] END max_depth=10, min_samples_split=5, n_estimators=50;, score=(train=0.810, test=0.209) total time=   0.8s\n",
      "[CV 3/5] END max_depth=10, min_samples_split=5, n_estimators=50;, score=(train=0.791, test=0.341) total time=   0.8s\n",
      "[CV 4/5] END max_depth=10, min_samples_split=5, n_estimators=50;, score=(train=0.785, test=0.334) total time=   0.8s\n",
      "[CV 5/5] END max_depth=10, min_samples_split=5, n_estimators=50;, score=(train=0.793, test=0.309) total time=   0.8s\n",
      "[CV 1/5] END max_depth=10, min_samples_split=10, n_estimators=50;, score=(train=0.748, test=0.312) total time=   0.7s\n",
      "[CV 2/5] END max_depth=10, min_samples_split=10, n_estimators=50;, score=(train=0.768, test=0.220) total time=   0.7s\n",
      "[CV 3/5] END max_depth=10, min_samples_split=10, n_estimators=50;, score=(train=0.744, test=0.343) total time=   0.8s\n",
      "[CV 4/5] END max_depth=10, min_samples_split=10, n_estimators=50;, score=(train=0.743, test=0.338) total time=   0.8s\n",
      "[CV 5/5] END max_depth=10, min_samples_split=10, n_estimators=50;, score=(train=0.752, test=0.316) total time=   0.8s\n",
      "----------\n",
      "iter: 1\n",
      "n_candidates: 5\n",
      "n_resources: 100\n",
      "Fitting 5 folds for each of 5 candidates, totalling 25 fits\n",
      "[CV 1/5] END max_depth=5, min_samples_split=5, n_estimators=100;, score=(train=0.469, test=0.301) total time=   1.0s\n",
      "[CV 2/5] END max_depth=5, min_samples_split=5, n_estimators=100;, score=(train=0.495, test=0.206) total time=   1.0s\n",
      "[CV 3/5] END max_depth=5, min_samples_split=5, n_estimators=100;, score=(train=0.466, test=0.320) total time=   1.0s\n",
      "[CV 4/5] END max_depth=5, min_samples_split=5, n_estimators=100;, score=(train=0.466, test=0.309) total time=   1.0s\n",
      "[CV 5/5] END max_depth=5, min_samples_split=5, n_estimators=100;, score=(train=0.472, test=0.307) total time=   1.1s\n",
      "[CV 1/5] END max_depth=5, min_samples_split=10, n_estimators=100;, score=(train=0.466, test=0.299) total time=   1.0s\n",
      "[CV 2/5] END max_depth=5, min_samples_split=10, n_estimators=100;, score=(train=0.493, test=0.206) total time=   1.0s\n",
      "[CV 3/5] END max_depth=5, min_samples_split=10, n_estimators=100;, score=(train=0.463, test=0.320) total time=   1.0s\n",
      "[CV 4/5] END max_depth=5, min_samples_split=10, n_estimators=100;, score=(train=0.464, test=0.309) total time=   1.0s\n",
      "[CV 5/5] END max_depth=5, min_samples_split=10, n_estimators=100;, score=(train=0.469, test=0.307) total time=   1.0s\n",
      "[CV 1/5] END max_depth=10, min_samples_split=5, n_estimators=100;, score=(train=0.790, test=0.305) total time=   1.7s\n",
      "[CV 2/5] END max_depth=10, min_samples_split=5, n_estimators=100;, score=(train=0.810, test=0.206) total time=   1.6s\n",
      "[CV 3/5] END max_depth=10, min_samples_split=5, n_estimators=100;, score=(train=0.792, test=0.352) total time=   1.7s\n",
      "[CV 4/5] END max_depth=10, min_samples_split=5, n_estimators=100;, score=(train=0.791, test=0.335) total time=   1.7s\n",
      "[CV 5/5] END max_depth=10, min_samples_split=5, n_estimators=100;, score=(train=0.795, test=0.313) total time=   1.6s\n",
      "[CV 1/5] END max_depth=10, min_samples_split=2, n_estimators=100;, score=(train=0.806, test=0.310) total time=   1.7s\n",
      "[CV 2/5] END max_depth=10, min_samples_split=2, n_estimators=100;, score=(train=0.824, test=0.211) total time=   1.7s\n",
      "[CV 3/5] END max_depth=10, min_samples_split=2, n_estimators=100;, score=(train=0.808, test=0.352) total time=   1.7s\n",
      "[CV 4/5] END max_depth=10, min_samples_split=2, n_estimators=100;, score=(train=0.806, test=0.341) total time=   1.7s\n",
      "[CV 5/5] END max_depth=10, min_samples_split=2, n_estimators=100;, score=(train=0.810, test=0.312) total time=   1.7s\n",
      "[CV 1/5] END max_depth=10, min_samples_split=10, n_estimators=100;, score=(train=0.748, test=0.308) total time=   1.6s\n",
      "[CV 2/5] END max_depth=10, min_samples_split=10, n_estimators=100;, score=(train=0.767, test=0.215) total time=   1.6s\n"
     ]
    },
    {
     "name": "stdout",
     "output_type": "stream",
     "text": [
      "[CV 3/5] END max_depth=10, min_samples_split=10, n_estimators=100;, score=(train=0.746, test=0.351) total time=   1.6s\n",
      "[CV 4/5] END max_depth=10, min_samples_split=10, n_estimators=100;, score=(train=0.750, test=0.342) total time=   1.6s\n",
      "[CV 5/5] END max_depth=10, min_samples_split=10, n_estimators=100;, score=(train=0.754, test=0.315) total time=   1.6s\n",
      "----------\n",
      "iter: 2\n",
      "n_candidates: 3\n",
      "n_resources: 200\n",
      "Fitting 5 folds for each of 3 candidates, totalling 15 fits\n",
      "[CV 1/5] END max_depth=10, min_samples_split=5, n_estimators=200;, score=(train=0.792, test=0.309) total time=   3.5s\n",
      "[CV 2/5] END max_depth=10, min_samples_split=5, n_estimators=200;, score=(train=0.813, test=0.214) total time=   3.6s\n",
      "[CV 3/5] END max_depth=10, min_samples_split=5, n_estimators=200;, score=(train=0.794, test=0.353) total time=   3.6s\n",
      "[CV 4/5] END max_depth=10, min_samples_split=5, n_estimators=200;, score=(train=0.792, test=0.337) total time=   3.3s\n",
      "[CV 5/5] END max_depth=10, min_samples_split=5, n_estimators=200;, score=(train=0.793, test=0.323) total time=   3.4s\n",
      "[CV 1/5] END max_depth=10, min_samples_split=2, n_estimators=200;, score=(train=0.808, test=0.310) total time=   3.5s\n",
      "[CV 2/5] END max_depth=10, min_samples_split=2, n_estimators=200;, score=(train=0.827, test=0.216) total time=   3.5s\n",
      "[CV 3/5] END max_depth=10, min_samples_split=2, n_estimators=200;, score=(train=0.810, test=0.353) total time=   3.6s\n",
      "[CV 4/5] END max_depth=10, min_samples_split=2, n_estimators=200;, score=(train=0.807, test=0.337) total time=   3.5s\n",
      "[CV 5/5] END max_depth=10, min_samples_split=2, n_estimators=200;, score=(train=0.808, test=0.323) total time=   3.5s\n",
      "[CV 1/5] END max_depth=10, min_samples_split=10, n_estimators=200;, score=(train=0.750, test=0.312) total time=   3.2s\n",
      "[CV 2/5] END max_depth=10, min_samples_split=10, n_estimators=200;, score=(train=0.770, test=0.221) total time=   3.2s\n",
      "[CV 3/5] END max_depth=10, min_samples_split=10, n_estimators=200;, score=(train=0.749, test=0.352) total time=   3.3s\n",
      "[CV 4/5] END max_depth=10, min_samples_split=10, n_estimators=200;, score=(train=0.750, test=0.340) total time=   3.3s\n",
      "[CV 5/5] END max_depth=10, min_samples_split=10, n_estimators=200;, score=(train=0.751, test=0.323) total time=   3.2s\n",
      "----------\n",
      "iter: 3\n",
      "n_candidates: 2\n",
      "n_resources: 400\n",
      "Fitting 5 folds for each of 2 candidates, totalling 10 fits\n",
      "[CV 1/5] END max_depth=10, min_samples_split=2, n_estimators=400;, score=(train=0.812, test=0.314) total time=   7.1s\n",
      "[CV 2/5] END max_depth=10, min_samples_split=2, n_estimators=400;, score=(train=0.829, test=0.214) total time=   7.2s\n",
      "[CV 3/5] END max_depth=10, min_samples_split=2, n_estimators=400;, score=(train=0.809, test=0.352) total time=   7.3s\n",
      "[CV 4/5] END max_depth=10, min_samples_split=2, n_estimators=400;, score=(train=0.810, test=0.336) total time=   7.1s\n",
      "[CV 5/5] END max_depth=10, min_samples_split=2, n_estimators=400;, score=(train=0.810, test=0.324) total time=   7.2s\n",
      "[CV 1/5] END max_depth=10, min_samples_split=10, n_estimators=400;, score=(train=0.753, test=0.315) total time=   6.6s\n",
      "[CV 2/5] END max_depth=10, min_samples_split=10, n_estimators=400;, score=(train=0.772, test=0.219) total time=   6.5s\n",
      "[CV 3/5] END max_depth=10, min_samples_split=10, n_estimators=400;, score=(train=0.749, test=0.350) total time=   6.6s\n",
      "[CV 4/5] END max_depth=10, min_samples_split=10, n_estimators=400;, score=(train=0.752, test=0.338) total time=   6.6s\n",
      "[CV 5/5] END max_depth=10, min_samples_split=10, n_estimators=400;, score=(train=0.752, test=0.325) total time=   6.5s\n"
     ]
    },
    {
     "data": {
      "text/plain": [
       "HalvingGridSearchCV(estimator=RandomForestRegressor(random_state=1212),\n",
       "                    factor=2, max_resources=1000, min_resources=50,\n",
       "                    param_grid={'max_depth': [3, 5, 10],\n",
       "                                'min_samples_split': [2, 5, 10]},\n",
       "                    resource='n_estimators', verbose=3)"
      ]
     },
     "execution_count": 16,
     "metadata": {},
     "output_type": "execute_result"
    }
   ],
   "source": [
    "param_grid = {'max_depth': [3,5,10],\n",
    "              'min_samples_split': [2,5,10]}\n",
    "\n",
    "rf = RandomForestRegressor(random_state=1212)\n",
    "\n",
    "sh = HalvingGridSearchCV(rf, param_grid, cv=5,\n",
    "                         factor=2, resource='n_estimators',\n",
    "                         min_resources=50,\n",
    "                         max_resources=1000, verbose=3)\n",
    "\n",
    "sh.fit(X_rdf_train, y_rdf_train)"
   ]
  },
  {
   "cell_type": "code",
   "execution_count": 17,
   "id": "572404b6",
   "metadata": {
    "ExecuteTime": {
     "end_time": "2022-07-18T00:43:26.104201Z",
     "start_time": "2022-07-18T00:43:26.095201Z"
    }
   },
   "outputs": [
    {
     "data": {
      "text/plain": [
       "{'max_depth': 10, 'min_samples_split': 10, 'n_estimators': 400}"
      ]
     },
     "execution_count": 17,
     "metadata": {},
     "output_type": "execute_result"
    }
   ],
   "source": [
    "sh.best_params_"
   ]
  },
  {
   "cell_type": "code",
   "execution_count": 18,
   "id": "5c194268",
   "metadata": {
    "ExecuteTime": {
     "end_time": "2022-07-18T00:44:08.988114Z",
     "start_time": "2022-07-18T00:44:00.451503Z"
    }
   },
   "outputs": [
    {
     "data": {
      "text/plain": [
       "0.3410445229029072"
      ]
     },
     "execution_count": 18,
     "metadata": {},
     "output_type": "execute_result"
    }
   ],
   "source": [
    "# initialize\n",
    "rf = RandomForestRegressor(n_estimators=400,\n",
    "                           max_depth=10,\n",
    "                           min_samples_split=10)\n",
    "\n",
    "# fit\n",
    "rf.fit(X_rdf_train, y_rdf_train)\n",
    "\n",
    "# score\n",
    "rf.score(X_rdf_test, y_rdf_test)"
   ]
  },
  {
   "cell_type": "code",
   "execution_count": 19,
   "id": "91e317ed",
   "metadata": {
    "ExecuteTime": {
     "end_time": "2022-07-18T00:44:24.021027Z",
     "start_time": "2022-07-18T00:44:23.945026Z"
    }
   },
   "outputs": [
    {
     "data": {
      "text/html": [
       "<div>\n",
       "<style scoped>\n",
       "    .dataframe tbody tr th:only-of-type {\n",
       "        vertical-align: middle;\n",
       "    }\n",
       "\n",
       "    .dataframe tbody tr th {\n",
       "        vertical-align: top;\n",
       "    }\n",
       "\n",
       "    .dataframe thead th {\n",
       "        text-align: right;\n",
       "    }\n",
       "</style>\n",
       "<table border=\"1\" class=\"dataframe\">\n",
       "  <thead>\n",
       "    <tr style=\"text-align: right;\">\n",
       "      <th></th>\n",
       "      <th>0</th>\n",
       "    </tr>\n",
       "  </thead>\n",
       "  <tbody>\n",
       "    <tr>\n",
       "      <th>runs_bat_pg_1yr</th>\n",
       "      <td>0.270100</td>\n",
       "    </tr>\n",
       "    <tr>\n",
       "      <th>runs_bat_pg_2yr</th>\n",
       "      <td>0.098971</td>\n",
       "    </tr>\n",
       "    <tr>\n",
       "      <th>runs_defense_pg_2yr</th>\n",
       "      <td>0.081175</td>\n",
       "    </tr>\n",
       "    <tr>\n",
       "      <th>runs_defense_pg_1yr</th>\n",
       "      <td>0.075210</td>\n",
       "    </tr>\n",
       "    <tr>\n",
       "      <th>runs_bat_pg_3yr</th>\n",
       "      <td>0.048577</td>\n",
       "    </tr>\n",
       "    <tr>\n",
       "      <th>runs_br_pg_1yr</th>\n",
       "      <td>0.045247</td>\n",
       "    </tr>\n",
       "    <tr>\n",
       "      <th>runs_position_pg_1yr</th>\n",
       "      <td>0.043583</td>\n",
       "    </tr>\n",
       "    <tr>\n",
       "      <th>runs_position_pg_2yr</th>\n",
       "      <td>0.038433</td>\n",
       "    </tr>\n",
       "    <tr>\n",
       "      <th>runs_defense_pg_3yr</th>\n",
       "      <td>0.034535</td>\n",
       "    </tr>\n",
       "    <tr>\n",
       "      <th>pc_0</th>\n",
       "      <td>0.031558</td>\n",
       "    </tr>\n",
       "  </tbody>\n",
       "</table>\n",
       "</div>"
      ],
      "text/plain": [
       "                             0\n",
       "runs_bat_pg_1yr       0.270100\n",
       "runs_bat_pg_2yr       0.098971\n",
       "runs_defense_pg_2yr   0.081175\n",
       "runs_defense_pg_1yr   0.075210\n",
       "runs_bat_pg_3yr       0.048577\n",
       "runs_br_pg_1yr        0.045247\n",
       "runs_position_pg_1yr  0.043583\n",
       "runs_position_pg_2yr  0.038433\n",
       "runs_defense_pg_3yr   0.034535\n",
       "pc_0                  0.031558"
      ]
     },
     "execution_count": 19,
     "metadata": {},
     "output_type": "execute_result"
    }
   ],
   "source": [
    "pd.DataFrame(rf.feature_importances_, index=X_rdf_train.columns).sort_values(0,ascending=False).head(10)"
   ]
  },
  {
   "cell_type": "markdown",
   "id": "986f6695",
   "metadata": {},
   "source": [
    "## SVM"
   ]
  },
  {
   "cell_type": "code",
   "execution_count": 20,
   "id": "eee5e6a1",
   "metadata": {
    "ExecuteTime": {
     "end_time": "2022-07-18T00:45:04.729434Z",
     "start_time": "2022-07-18T00:45:04.319172Z"
    }
   },
   "outputs": [
    {
     "data": {
      "text/plain": [
       "0.23794974889437492"
      ]
     },
     "execution_count": 20,
     "metadata": {},
     "output_type": "execute_result"
    }
   ],
   "source": [
    "# initialize\n",
    "svr = SVR()\n",
    "\n",
    "# fit\n",
    "svr.fit(X_rdf_train, y_rdf_train)\n",
    "\n",
    "# score\n",
    "svr.score(X_rdf_test,y_rdf_test)"
   ]
  },
  {
   "cell_type": "code",
   "execution_count": 23,
   "id": "c1f8ea6a",
   "metadata": {
    "ExecuteTime": {
     "end_time": "2022-07-18T00:47:09.557878Z",
     "start_time": "2022-07-18T00:46:48.055597Z"
    },
    "scrolled": true
   },
   "outputs": [
    {
     "name": "stdout",
     "output_type": "stream",
     "text": [
      "Fitting 5 folds for each of 18 candidates, totalling 90 fits\n",
      "[CV 1/5] END .C=0.01, epsilon=0.01, gamma=scale;, score=0.283 total time=   0.3s\n",
      "[CV 2/5] END .C=0.01, epsilon=0.01, gamma=scale;, score=0.221 total time=   0.3s\n",
      "[CV 3/5] END .C=0.01, epsilon=0.01, gamma=scale;, score=0.313 total time=   0.3s\n",
      "[CV 4/5] END .C=0.01, epsilon=0.01, gamma=scale;, score=0.283 total time=   0.3s\n",
      "[CV 5/5] END .C=0.01, epsilon=0.01, gamma=scale;, score=0.293 total time=   0.3s\n",
      "[CV 1/5] END ..C=0.01, epsilon=0.01, gamma=auto;, score=0.245 total time=   0.3s\n",
      "[CV 2/5] END ..C=0.01, epsilon=0.01, gamma=auto;, score=0.194 total time=   0.3s\n",
      "[CV 3/5] END ..C=0.01, epsilon=0.01, gamma=auto;, score=0.271 total time=   0.3s\n",
      "[CV 4/5] END ..C=0.01, epsilon=0.01, gamma=auto;, score=0.244 total time=   0.3s\n",
      "[CV 5/5] END ..C=0.01, epsilon=0.01, gamma=auto;, score=0.260 total time=   0.3s\n",
      "[CV 1/5] END ..C=0.01, epsilon=0.1, gamma=scale;, score=0.269 total time=   0.1s\n",
      "[CV 2/5] END ..C=0.01, epsilon=0.1, gamma=scale;, score=0.214 total time=   0.1s\n",
      "[CV 3/5] END ..C=0.01, epsilon=0.1, gamma=scale;, score=0.297 total time=   0.1s\n",
      "[CV 4/5] END ..C=0.01, epsilon=0.1, gamma=scale;, score=0.250 total time=   0.1s\n",
      "[CV 5/5] END ..C=0.01, epsilon=0.1, gamma=scale;, score=0.265 total time=   0.1s\n",
      "[CV 1/5] END ...C=0.01, epsilon=0.1, gamma=auto;, score=0.231 total time=   0.1s\n",
      "[CV 2/5] END ...C=0.01, epsilon=0.1, gamma=auto;, score=0.184 total time=   0.1s\n",
      "[CV 3/5] END ...C=0.01, epsilon=0.1, gamma=auto;, score=0.252 total time=   0.1s\n",
      "[CV 4/5] END ...C=0.01, epsilon=0.1, gamma=auto;, score=0.213 total time=   0.1s\n",
      "[CV 5/5] END ...C=0.01, epsilon=0.1, gamma=auto;, score=0.231 total time=   0.1s\n",
      "[CV 1/5] END .C=0.01, epsilon=1.0, gamma=scale;, score=-0.025 total time=   0.0s\n",
      "[CV 2/5] END .C=0.01, epsilon=1.0, gamma=scale;, score=-0.023 total time=   0.0s\n",
      "[CV 3/5] END .C=0.01, epsilon=1.0, gamma=scale;, score=-0.010 total time=   0.0s\n",
      "[CV 4/5] END .C=0.01, epsilon=1.0, gamma=scale;, score=-0.032 total time=   0.0s\n",
      "[CV 5/5] END .C=0.01, epsilon=1.0, gamma=scale;, score=-0.029 total time=   0.0s\n",
      "[CV 1/5] END ..C=0.01, epsilon=1.0, gamma=auto;, score=-0.025 total time=   0.0s\n",
      "[CV 2/5] END ..C=0.01, epsilon=1.0, gamma=auto;, score=-0.023 total time=   0.0s\n",
      "[CV 3/5] END ..C=0.01, epsilon=1.0, gamma=auto;, score=-0.010 total time=   0.0s\n",
      "[CV 4/5] END ..C=0.01, epsilon=1.0, gamma=auto;, score=-0.032 total time=   0.0s\n",
      "[CV 5/5] END ..C=0.01, epsilon=1.0, gamma=auto;, score=-0.029 total time=   0.0s\n",
      "[CV 1/5] END ..C=0.1, epsilon=0.01, gamma=scale;, score=0.318 total time=   0.3s\n",
      "[CV 2/5] END ..C=0.1, epsilon=0.01, gamma=scale;, score=0.210 total time=   0.3s\n",
      "[CV 3/5] END ..C=0.1, epsilon=0.01, gamma=scale;, score=0.362 total time=   0.3s\n",
      "[CV 4/5] END ..C=0.1, epsilon=0.01, gamma=scale;, score=0.318 total time=   0.3s\n",
      "[CV 5/5] END ..C=0.1, epsilon=0.01, gamma=scale;, score=0.307 total time=   0.3s\n",
      "[CV 1/5] END ...C=0.1, epsilon=0.01, gamma=auto;, score=0.293 total time=   0.3s\n",
      "[CV 2/5] END ...C=0.1, epsilon=0.01, gamma=auto;, score=0.199 total time=   0.3s\n",
      "[CV 3/5] END ...C=0.1, epsilon=0.01, gamma=auto;, score=0.345 total time=   0.3s\n",
      "[CV 4/5] END ...C=0.1, epsilon=0.01, gamma=auto;, score=0.295 total time=   0.3s\n",
      "[CV 5/5] END ...C=0.1, epsilon=0.01, gamma=auto;, score=0.285 total time=   0.3s\n",
      "[CV 1/5] END ...C=0.1, epsilon=0.1, gamma=scale;, score=0.320 total time=   0.1s\n",
      "[CV 2/5] END ...C=0.1, epsilon=0.1, gamma=scale;, score=0.243 total time=   0.1s\n",
      "[CV 3/5] END ...C=0.1, epsilon=0.1, gamma=scale;, score=0.385 total time=   0.1s\n",
      "[CV 4/5] END ...C=0.1, epsilon=0.1, gamma=scale;, score=0.317 total time=   0.1s\n",
      "[CV 5/5] END ...C=0.1, epsilon=0.1, gamma=scale;, score=0.334 total time=   0.1s\n",
      "[CV 1/5] END ....C=0.1, epsilon=0.1, gamma=auto;, score=0.299 total time=   0.1s\n",
      "[CV 2/5] END ....C=0.1, epsilon=0.1, gamma=auto;, score=0.236 total time=   0.1s\n",
      "[CV 3/5] END ....C=0.1, epsilon=0.1, gamma=auto;, score=0.361 total time=   0.1s\n",
      "[CV 4/5] END ....C=0.1, epsilon=0.1, gamma=auto;, score=0.304 total time=   0.1s\n",
      "[CV 5/5] END ....C=0.1, epsilon=0.1, gamma=auto;, score=0.317 total time=   0.1s\n",
      "[CV 1/5] END ..C=0.1, epsilon=1.0, gamma=scale;, score=-0.025 total time=   0.0s\n",
      "[CV 2/5] END ..C=0.1, epsilon=1.0, gamma=scale;, score=-0.023 total time=   0.0s\n",
      "[CV 3/5] END ..C=0.1, epsilon=1.0, gamma=scale;, score=-0.010 total time=   0.0s\n",
      "[CV 4/5] END ..C=0.1, epsilon=1.0, gamma=scale;, score=-0.032 total time=   0.0s\n",
      "[CV 5/5] END ..C=0.1, epsilon=1.0, gamma=scale;, score=-0.029 total time=   0.0s\n",
      "[CV 1/5] END ...C=0.1, epsilon=1.0, gamma=auto;, score=-0.025 total time=   0.0s\n",
      "[CV 2/5] END ...C=0.1, epsilon=1.0, gamma=auto;, score=-0.023 total time=   0.0s\n",
      "[CV 3/5] END ...C=0.1, epsilon=1.0, gamma=auto;, score=-0.010 total time=   0.0s\n",
      "[CV 4/5] END ...C=0.1, epsilon=1.0, gamma=auto;, score=-0.032 total time=   0.0s\n",
      "[CV 5/5] END ...C=0.1, epsilon=1.0, gamma=auto;, score=-0.029 total time=   0.0s\n",
      "[CV 1/5] END ..C=1.0, epsilon=0.01, gamma=scale;, score=0.170 total time=   0.6s\n",
      "[CV 2/5] END ..C=1.0, epsilon=0.01, gamma=scale;, score=0.107 total time=   0.6s\n",
      "[CV 3/5] END ..C=1.0, epsilon=0.01, gamma=scale;, score=0.237 total time=   0.6s\n",
      "[CV 4/5] END ..C=1.0, epsilon=0.01, gamma=scale;, score=0.165 total time=   0.6s\n",
      "[CV 5/5] END ..C=1.0, epsilon=0.01, gamma=scale;, score=0.138 total time=   0.7s\n",
      "[CV 1/5] END ...C=1.0, epsilon=0.01, gamma=auto;, score=0.104 total time=   0.6s\n",
      "[CV 2/5] END ...C=1.0, epsilon=0.01, gamma=auto;, score=0.062 total time=   0.6s\n",
      "[CV 3/5] END ...C=1.0, epsilon=0.01, gamma=auto;, score=0.169 total time=   0.7s\n",
      "[CV 4/5] END ...C=1.0, epsilon=0.01, gamma=auto;, score=0.111 total time=   0.7s\n",
      "[CV 5/5] END ...C=1.0, epsilon=0.01, gamma=auto;, score=0.062 total time=   0.6s\n",
      "[CV 1/5] END ...C=1.0, epsilon=0.1, gamma=scale;, score=0.236 total time=   0.2s\n",
      "[CV 2/5] END ...C=1.0, epsilon=0.1, gamma=scale;, score=0.166 total time=   0.2s\n",
      "[CV 3/5] END ...C=1.0, epsilon=0.1, gamma=scale;, score=0.308 total time=   0.2s\n",
      "[CV 4/5] END ...C=1.0, epsilon=0.1, gamma=scale;, score=0.267 total time=   0.1s\n",
      "[CV 5/5] END ...C=1.0, epsilon=0.1, gamma=scale;, score=0.241 total time=   0.1s\n",
      "[CV 1/5] END ....C=1.0, epsilon=0.1, gamma=auto;, score=0.205 total time=   0.2s\n",
      "[CV 2/5] END ....C=1.0, epsilon=0.1, gamma=auto;, score=0.164 total time=   0.1s\n",
      "[CV 3/5] END ....C=1.0, epsilon=0.1, gamma=auto;, score=0.291 total time=   0.2s\n",
      "[CV 4/5] END ....C=1.0, epsilon=0.1, gamma=auto;, score=0.233 total time=   0.1s\n",
      "[CV 5/5] END ....C=1.0, epsilon=0.1, gamma=auto;, score=0.206 total time=   0.2s\n",
      "[CV 1/5] END ..C=1.0, epsilon=1.0, gamma=scale;, score=-0.025 total time=   0.0s\n",
      "[CV 2/5] END ..C=1.0, epsilon=1.0, gamma=scale;, score=-0.023 total time=   0.0s\n",
      "[CV 3/5] END ..C=1.0, epsilon=1.0, gamma=scale;, score=-0.010 total time=   0.0s\n",
      "[CV 4/5] END ..C=1.0, epsilon=1.0, gamma=scale;, score=-0.032 total time=   0.0s\n",
      "[CV 5/5] END ..C=1.0, epsilon=1.0, gamma=scale;, score=-0.029 total time=   0.0s\n",
      "[CV 1/5] END ...C=1.0, epsilon=1.0, gamma=auto;, score=-0.025 total time=   0.0s\n",
      "[CV 2/5] END ...C=1.0, epsilon=1.0, gamma=auto;, score=-0.023 total time=   0.0s\n",
      "[CV 3/5] END ...C=1.0, epsilon=1.0, gamma=auto;, score=-0.010 total time=   0.0s\n",
      "[CV 4/5] END ...C=1.0, epsilon=1.0, gamma=auto;, score=-0.032 total time=   0.0s\n",
      "[CV 5/5] END ...C=1.0, epsilon=1.0, gamma=auto;, score=-0.029 total time=   0.0s\n"
     ]
    },
    {
     "data": {
      "text/plain": [
       "GridSearchCV(cv=5, estimator=SVR(),\n",
       "             param_grid={'C': array([0.01, 0.1 , 1.  ]),\n",
       "                         'epsilon': array([0.01, 0.1 , 1.  ]),\n",
       "                         'gamma': ['scale', 'auto']},\n",
       "             verbose=3)"
      ]
     },
     "execution_count": 23,
     "metadata": {},
     "output_type": "execute_result"
    }
   ],
   "source": [
    "param_grid = {'epsilon': np.logspace(-2,0,3),\n",
    "              'C': np.logspace(-2,0,3),\n",
    "              'gamma': ['scale','auto']}\n",
    "\n",
    "svr = SVR()\n",
    "\n",
    "gs = GridSearchCV(svr, param_grid, cv=5,\n",
    "                  verbose=3)\n",
    "\n",
    "gs.fit(X_rdf_train, y_rdf_train)"
   ]
  },
  {
   "cell_type": "code",
   "execution_count": 24,
   "id": "f23f273d",
   "metadata": {
    "ExecuteTime": {
     "end_time": "2022-07-18T00:47:14.071434Z",
     "start_time": "2022-07-18T00:47:14.054912Z"
    }
   },
   "outputs": [
    {
     "data": {
      "text/plain": [
       "{'C': 0.1, 'epsilon': 0.1, 'gamma': 'scale'}"
      ]
     },
     "execution_count": 24,
     "metadata": {},
     "output_type": "execute_result"
    }
   ],
   "source": [
    "gs.best_params_"
   ]
  },
  {
   "cell_type": "code",
   "execution_count": 25,
   "id": "0fcbb04a",
   "metadata": {
    "ExecuteTime": {
     "end_time": "2022-07-18T00:47:23.660380Z",
     "start_time": "2022-07-18T00:47:23.647309Z"
    }
   },
   "outputs": [
    {
     "data": {
      "text/plain": [
       "0.31977747172827514"
      ]
     },
     "execution_count": 25,
     "metadata": {},
     "output_type": "execute_result"
    }
   ],
   "source": [
    "gs.best_score_"
   ]
  },
  {
   "cell_type": "code",
   "execution_count": 26,
   "id": "6e4a283c",
   "metadata": {
    "ExecuteTime": {
     "end_time": "2022-07-18T00:47:52.293299Z",
     "start_time": "2022-07-18T00:47:51.975243Z"
    }
   },
   "outputs": [
    {
     "data": {
      "text/plain": [
       "0.31822964825614153"
      ]
     },
     "execution_count": 26,
     "metadata": {},
     "output_type": "execute_result"
    }
   ],
   "source": [
    "# initialize\n",
    "svr = SVR(C=0.1, epsilon = 0.1, gamma = 'scale')\n",
    "\n",
    "# fit\n",
    "svr.fit(X_rdf_train, y_rdf_train)\n",
    "\n",
    "# score\n",
    "svr.score(X_rdf_test,y_rdf_test)"
   ]
  },
  {
   "cell_type": "code",
   "execution_count": null,
   "id": "43f293e1",
   "metadata": {},
   "outputs": [],
   "source": []
  },
  {
   "cell_type": "code",
   "execution_count": null,
   "id": "614fcb1e",
   "metadata": {},
   "outputs": [],
   "source": []
  },
  {
   "cell_type": "code",
   "execution_count": null,
   "id": "fdd9cb56",
   "metadata": {},
   "outputs": [],
   "source": []
  },
  {
   "cell_type": "code",
   "execution_count": null,
   "id": "48ac9023",
   "metadata": {},
   "outputs": [],
   "source": []
  },
  {
   "cell_type": "code",
   "execution_count": null,
   "id": "b993c8c1",
   "metadata": {},
   "outputs": [],
   "source": []
  },
  {
   "cell_type": "markdown",
   "id": "3d7887c9",
   "metadata": {},
   "source": [
    "# YDF Modeling"
   ]
  },
  {
   "cell_type": "markdown",
   "id": "f4d26c9f",
   "metadata": {},
   "source": [
    "## Linear Regression"
   ]
  },
  {
   "cell_type": "code",
   "execution_count": 30,
   "id": "49a915e3",
   "metadata": {
    "ExecuteTime": {
     "end_time": "2022-07-18T00:51:41.809763Z",
     "start_time": "2022-07-18T00:51:41.794764Z"
    }
   },
   "outputs": [
    {
     "data": {
      "text/plain": [
       "0.6086594412093911"
      ]
     },
     "execution_count": 30,
     "metadata": {},
     "output_type": "execute_result"
    }
   ],
   "source": [
    "# initialize\n",
    "lr_ydf = LinearRegression()\n",
    "\n",
    "# fit\n",
    "lr_ydf.fit(X_ydf_train, y_ydf_train)\n",
    "\n",
    "# score\n",
    "lr_ydf.score(X_ydf_test,y_ydf_test)"
   ]
  },
  {
   "cell_type": "markdown",
   "id": "ea84aad8",
   "metadata": {},
   "source": [
    "### Lasso Regularization"
   ]
  },
  {
   "cell_type": "code",
   "execution_count": 31,
   "id": "f163e0b6",
   "metadata": {
    "ExecuteTime": {
     "end_time": "2022-07-18T00:52:16.141318Z",
     "start_time": "2022-07-18T00:52:15.608417Z"
    }
   },
   "outputs": [
    {
     "name": "stdout",
     "output_type": "stream",
     "text": [
      "Best Alpha: 0.0004\n",
      "CV Score: 0.6205\n"
     ]
    }
   ],
   "source": [
    "# initialize\n",
    "lasso_cv = LassoCV()\n",
    "\n",
    "# cv\n",
    "scores = cross_val_score(lasso_cv, X_ydf_train, y_ydf_train)\n",
    "\n",
    "# fit\n",
    "lasso_cv.fit(X_ydf_train, y_ydf_train)\n",
    "\n",
    "# best attributes\n",
    "print(f'Best Alpha: {lasso_cv.alpha_:.4f}')\n",
    "print(f'CV Score: {scores.mean():.4f}')"
   ]
  },
  {
   "cell_type": "code",
   "execution_count": 32,
   "id": "7a065078",
   "metadata": {
    "ExecuteTime": {
     "end_time": "2022-07-18T00:52:23.102762Z",
     "start_time": "2022-07-18T00:52:23.083762Z"
    }
   },
   "outputs": [
    {
     "data": {
      "text/plain": [
       "0.6087043647058756"
      ]
     },
     "execution_count": 32,
     "metadata": {},
     "output_type": "execute_result"
    }
   ],
   "source": [
    "# generate features to select\n",
    "lasso_cv.score(X_ydf_test, y_ydf_test)"
   ]
  },
  {
   "cell_type": "code",
   "execution_count": 33,
   "id": "176fb6fa",
   "metadata": {
    "ExecuteTime": {
     "end_time": "2022-07-18T00:52:30.612479Z",
     "start_time": "2022-07-18T00:52:30.603408Z"
    }
   },
   "outputs": [],
   "source": [
    "lasso_cols = [col for col, coef in zip(X_ydf_train.columns, lasso_cv.coef_) if coef]"
   ]
  },
  {
   "cell_type": "code",
   "execution_count": 34,
   "id": "9dbc1a7e",
   "metadata": {
    "ExecuteTime": {
     "end_time": "2022-07-18T00:52:35.144551Z",
     "start_time": "2022-07-18T00:52:35.130552Z"
    }
   },
   "outputs": [
    {
     "data": {
      "text/plain": [
       "LinearRegression()"
      ]
     },
     "execution_count": 34,
     "metadata": {},
     "output_type": "execute_result"
    }
   ],
   "source": [
    "lr.fit(X_ydf_train[lasso_cols], y_ydf_train)"
   ]
  },
  {
   "cell_type": "code",
   "execution_count": 35,
   "id": "fb19e7e6",
   "metadata": {
    "ExecuteTime": {
     "end_time": "2022-07-18T00:52:39.614413Z",
     "start_time": "2022-07-18T00:52:39.592466Z"
    }
   },
   "outputs": [
    {
     "data": {
      "text/plain": [
       "0.6086594412093911"
      ]
     },
     "execution_count": 35,
     "metadata": {},
     "output_type": "execute_result"
    }
   ],
   "source": [
    "lr.score(X_ydf_test[lasso_cols],y_ydf_test)"
   ]
  },
  {
   "cell_type": "markdown",
   "id": "5da72304",
   "metadata": {},
   "source": [
    "## Random Forest"
   ]
  },
  {
   "cell_type": "code",
   "execution_count": 37,
   "id": "0cccdf97",
   "metadata": {
    "ExecuteTime": {
     "end_time": "2022-07-18T00:53:07.600708Z",
     "start_time": "2022-07-18T00:53:07.249569Z"
    }
   },
   "outputs": [
    {
     "data": {
      "text/plain": [
       "0.9595523258778794"
      ]
     },
     "execution_count": 37,
     "metadata": {},
     "output_type": "execute_result"
    }
   ],
   "source": [
    "# initialize\n",
    "rf = RandomForestRegressor()\n",
    "\n",
    "# fit\n",
    "rf.fit(X_ydf_train, y_ydf_train)\n",
    "\n",
    "# score\n",
    "rf.score(X_ydf_test,y_ydf_test)"
   ]
  },
  {
   "cell_type": "code",
   "execution_count": 48,
   "id": "e54bb332",
   "metadata": {
    "ExecuteTime": {
     "end_time": "2022-07-18T00:58:58.304935Z",
     "start_time": "2022-07-18T00:58:02.617929Z"
    },
    "scrolled": true
   },
   "outputs": [
    {
     "name": "stdout",
     "output_type": "stream",
     "text": [
      "Fitting 5 folds for each of 36 candidates, totalling 180 fits\n",
      "[CV 1/5] END max_depth=3, min_samples_split=2, n_estimators=50;, score=0.720 total time=   0.0s\n",
      "[CV 2/5] END max_depth=3, min_samples_split=2, n_estimators=50;, score=0.750 total time=   0.0s\n",
      "[CV 3/5] END max_depth=3, min_samples_split=2, n_estimators=50;, score=0.708 total time=   0.0s\n",
      "[CV 4/5] END max_depth=3, min_samples_split=2, n_estimators=50;, score=0.709 total time=   0.0s\n",
      "[CV 5/5] END max_depth=3, min_samples_split=2, n_estimators=50;, score=0.718 total time=   0.0s\n",
      "[CV 1/5] END max_depth=3, min_samples_split=2, n_estimators=100;, score=0.722 total time=   0.1s\n",
      "[CV 2/5] END max_depth=3, min_samples_split=2, n_estimators=100;, score=0.750 total time=   0.1s\n",
      "[CV 3/5] END max_depth=3, min_samples_split=2, n_estimators=100;, score=0.711 total time=   0.1s\n",
      "[CV 4/5] END max_depth=3, min_samples_split=2, n_estimators=100;, score=0.710 total time=   0.1s\n",
      "[CV 5/5] END max_depth=3, min_samples_split=2, n_estimators=100;, score=0.718 total time=   0.1s\n",
      "[CV 1/5] END max_depth=3, min_samples_split=2, n_estimators=200;, score=0.722 total time=   0.3s\n",
      "[CV 2/5] END max_depth=3, min_samples_split=2, n_estimators=200;, score=0.751 total time=   0.3s\n",
      "[CV 3/5] END max_depth=3, min_samples_split=2, n_estimators=200;, score=0.710 total time=   0.3s\n",
      "[CV 4/5] END max_depth=3, min_samples_split=2, n_estimators=200;, score=0.710 total time=   0.3s\n",
      "[CV 5/5] END max_depth=3, min_samples_split=2, n_estimators=200;, score=0.718 total time=   0.3s\n",
      "[CV 1/5] END max_depth=3, min_samples_split=5, n_estimators=50;, score=0.720 total time=   0.0s\n",
      "[CV 2/5] END max_depth=3, min_samples_split=5, n_estimators=50;, score=0.750 total time=   0.0s\n",
      "[CV 3/5] END max_depth=3, min_samples_split=5, n_estimators=50;, score=0.708 total time=   0.0s\n",
      "[CV 4/5] END max_depth=3, min_samples_split=5, n_estimators=50;, score=0.709 total time=   0.0s\n",
      "[CV 5/5] END max_depth=3, min_samples_split=5, n_estimators=50;, score=0.718 total time=   0.0s\n",
      "[CV 1/5] END max_depth=3, min_samples_split=5, n_estimators=100;, score=0.722 total time=   0.1s\n",
      "[CV 2/5] END max_depth=3, min_samples_split=5, n_estimators=100;, score=0.750 total time=   0.1s\n",
      "[CV 3/5] END max_depth=3, min_samples_split=5, n_estimators=100;, score=0.711 total time=   0.1s\n",
      "[CV 4/5] END max_depth=3, min_samples_split=5, n_estimators=100;, score=0.710 total time=   0.1s\n",
      "[CV 5/5] END max_depth=3, min_samples_split=5, n_estimators=100;, score=0.718 total time=   0.1s\n",
      "[CV 1/5] END max_depth=3, min_samples_split=5, n_estimators=200;, score=0.722 total time=   0.3s\n",
      "[CV 2/5] END max_depth=3, min_samples_split=5, n_estimators=200;, score=0.751 total time=   0.3s\n",
      "[CV 3/5] END max_depth=3, min_samples_split=5, n_estimators=200;, score=0.710 total time=   0.3s\n",
      "[CV 4/5] END max_depth=3, min_samples_split=5, n_estimators=200;, score=0.710 total time=   0.3s\n",
      "[CV 5/5] END max_depth=3, min_samples_split=5, n_estimators=200;, score=0.718 total time=   0.3s\n",
      "[CV 1/5] END max_depth=3, min_samples_split=10, n_estimators=50;, score=0.720 total time=   0.0s\n",
      "[CV 2/5] END max_depth=3, min_samples_split=10, n_estimators=50;, score=0.750 total time=   0.0s\n",
      "[CV 3/5] END max_depth=3, min_samples_split=10, n_estimators=50;, score=0.708 total time=   0.0s\n",
      "[CV 4/5] END max_depth=3, min_samples_split=10, n_estimators=50;, score=0.709 total time=   0.0s\n",
      "[CV 5/5] END max_depth=3, min_samples_split=10, n_estimators=50;, score=0.718 total time=   0.0s\n",
      "[CV 1/5] END max_depth=3, min_samples_split=10, n_estimators=100;, score=0.722 total time=   0.1s\n",
      "[CV 2/5] END max_depth=3, min_samples_split=10, n_estimators=100;, score=0.750 total time=   0.1s\n",
      "[CV 3/5] END max_depth=3, min_samples_split=10, n_estimators=100;, score=0.711 total time=   0.1s\n",
      "[CV 4/5] END max_depth=3, min_samples_split=10, n_estimators=100;, score=0.710 total time=   0.1s\n",
      "[CV 5/5] END max_depth=3, min_samples_split=10, n_estimators=100;, score=0.718 total time=   0.1s\n",
      "[CV 1/5] END max_depth=3, min_samples_split=10, n_estimators=200;, score=0.722 total time=   0.3s\n",
      "[CV 2/5] END max_depth=3, min_samples_split=10, n_estimators=200;, score=0.751 total time=   0.3s\n",
      "[CV 3/5] END max_depth=3, min_samples_split=10, n_estimators=200;, score=0.710 total time=   0.3s\n",
      "[CV 4/5] END max_depth=3, min_samples_split=10, n_estimators=200;, score=0.710 total time=   0.3s\n",
      "[CV 5/5] END max_depth=3, min_samples_split=10, n_estimators=200;, score=0.718 total time=   0.3s\n",
      "[CV 1/5] END max_depth=5, min_samples_split=2, n_estimators=50;, score=0.860 total time=   0.0s\n",
      "[CV 2/5] END max_depth=5, min_samples_split=2, n_estimators=50;, score=0.862 total time=   0.0s\n",
      "[CV 3/5] END max_depth=5, min_samples_split=2, n_estimators=50;, score=0.839 total time=   0.0s\n",
      "[CV 4/5] END max_depth=5, min_samples_split=2, n_estimators=50;, score=0.847 total time=   0.0s\n",
      "[CV 5/5] END max_depth=5, min_samples_split=2, n_estimators=50;, score=0.835 total time=   0.0s\n",
      "[CV 1/5] END max_depth=5, min_samples_split=2, n_estimators=100;, score=0.858 total time=   0.1s\n",
      "[CV 2/5] END max_depth=5, min_samples_split=2, n_estimators=100;, score=0.862 total time=   0.1s\n",
      "[CV 3/5] END max_depth=5, min_samples_split=2, n_estimators=100;, score=0.836 total time=   0.1s\n",
      "[CV 4/5] END max_depth=5, min_samples_split=2, n_estimators=100;, score=0.846 total time=   0.1s\n",
      "[CV 5/5] END max_depth=5, min_samples_split=2, n_estimators=100;, score=0.831 total time=   0.2s\n",
      "[CV 1/5] END max_depth=5, min_samples_split=2, n_estimators=200;, score=0.859 total time=   0.4s\n",
      "[CV 2/5] END max_depth=5, min_samples_split=2, n_estimators=200;, score=0.862 total time=   0.4s\n",
      "[CV 3/5] END max_depth=5, min_samples_split=2, n_estimators=200;, score=0.837 total time=   0.4s\n",
      "[CV 4/5] END max_depth=5, min_samples_split=2, n_estimators=200;, score=0.844 total time=   0.4s\n",
      "[CV 5/5] END max_depth=5, min_samples_split=2, n_estimators=200;, score=0.830 total time=   0.4s\n",
      "[CV 1/5] END max_depth=5, min_samples_split=5, n_estimators=50;, score=0.861 total time=   0.0s\n",
      "[CV 2/5] END max_depth=5, min_samples_split=5, n_estimators=50;, score=0.862 total time=   0.0s\n",
      "[CV 3/5] END max_depth=5, min_samples_split=5, n_estimators=50;, score=0.839 total time=   0.0s\n",
      "[CV 4/5] END max_depth=5, min_samples_split=5, n_estimators=50;, score=0.847 total time=   0.0s\n",
      "[CV 5/5] END max_depth=5, min_samples_split=5, n_estimators=50;, score=0.835 total time=   0.0s\n",
      "[CV 1/5] END max_depth=5, min_samples_split=5, n_estimators=100;, score=0.859 total time=   0.1s\n",
      "[CV 2/5] END max_depth=5, min_samples_split=5, n_estimators=100;, score=0.862 total time=   0.1s\n",
      "[CV 3/5] END max_depth=5, min_samples_split=5, n_estimators=100;, score=0.836 total time=   0.1s\n",
      "[CV 4/5] END max_depth=5, min_samples_split=5, n_estimators=100;, score=0.846 total time=   0.1s\n",
      "[CV 5/5] END max_depth=5, min_samples_split=5, n_estimators=100;, score=0.831 total time=   0.1s\n",
      "[CV 1/5] END max_depth=5, min_samples_split=5, n_estimators=200;, score=0.859 total time=   0.4s\n",
      "[CV 2/5] END max_depth=5, min_samples_split=5, n_estimators=200;, score=0.862 total time=   0.4s\n",
      "[CV 3/5] END max_depth=5, min_samples_split=5, n_estimators=200;, score=0.837 total time=   0.4s\n",
      "[CV 4/5] END max_depth=5, min_samples_split=5, n_estimators=200;, score=0.844 total time=   0.4s\n",
      "[CV 5/5] END max_depth=5, min_samples_split=5, n_estimators=200;, score=0.830 total time=   0.4s\n",
      "[CV 1/5] END max_depth=5, min_samples_split=10, n_estimators=50;, score=0.861 total time=   0.0s\n",
      "[CV 2/5] END max_depth=5, min_samples_split=10, n_estimators=50;, score=0.862 total time=   0.0s\n",
      "[CV 3/5] END max_depth=5, min_samples_split=10, n_estimators=50;, score=0.838 total time=   0.0s\n",
      "[CV 4/5] END max_depth=5, min_samples_split=10, n_estimators=50;, score=0.847 total time=   0.0s\n",
      "[CV 5/5] END max_depth=5, min_samples_split=10, n_estimators=50;, score=0.835 total time=   0.0s\n",
      "[CV 1/5] END max_depth=5, min_samples_split=10, n_estimators=100;, score=0.859 total time=   0.2s\n",
      "[CV 2/5] END max_depth=5, min_samples_split=10, n_estimators=100;, score=0.862 total time=   0.1s\n",
      "[CV 3/5] END max_depth=5, min_samples_split=10, n_estimators=100;, score=0.836 total time=   0.1s\n",
      "[CV 4/5] END max_depth=5, min_samples_split=10, n_estimators=100;, score=0.846 total time=   0.2s\n"
     ]
    },
    {
     "name": "stdout",
     "output_type": "stream",
     "text": [
      "[CV 5/5] END max_depth=5, min_samples_split=10, n_estimators=100;, score=0.829 total time=   0.2s\n",
      "[CV 1/5] END max_depth=5, min_samples_split=10, n_estimators=200;, score=0.859 total time=   0.4s\n",
      "[CV 2/5] END max_depth=5, min_samples_split=10, n_estimators=200;, score=0.862 total time=   0.4s\n",
      "[CV 3/5] END max_depth=5, min_samples_split=10, n_estimators=200;, score=0.837 total time=   0.4s\n",
      "[CV 4/5] END max_depth=5, min_samples_split=10, n_estimators=200;, score=0.844 total time=   0.4s\n",
      "[CV 5/5] END max_depth=5, min_samples_split=10, n_estimators=200;, score=0.829 total time=   0.4s\n",
      "[CV 1/5] END max_depth=10, min_samples_split=2, n_estimators=50;, score=0.944 total time=   0.0s\n",
      "[CV 2/5] END max_depth=10, min_samples_split=2, n_estimators=50;, score=0.949 total time=   0.1s\n",
      "[CV 3/5] END max_depth=10, min_samples_split=2, n_estimators=50;, score=0.951 total time=   0.1s\n",
      "[CV 4/5] END max_depth=10, min_samples_split=2, n_estimators=50;, score=0.949 total time=   0.1s\n",
      "[CV 5/5] END max_depth=10, min_samples_split=2, n_estimators=50;, score=0.952 total time=   0.1s\n",
      "[CV 1/5] END max_depth=10, min_samples_split=2, n_estimators=100;, score=0.944 total time=   0.2s\n",
      "[CV 2/5] END max_depth=10, min_samples_split=2, n_estimators=100;, score=0.949 total time=   0.2s\n",
      "[CV 3/5] END max_depth=10, min_samples_split=2, n_estimators=100;, score=0.951 total time=   0.2s\n",
      "[CV 4/5] END max_depth=10, min_samples_split=2, n_estimators=100;, score=0.949 total time=   0.2s\n",
      "[CV 5/5] END max_depth=10, min_samples_split=2, n_estimators=100;, score=0.952 total time=   0.2s\n",
      "[CV 1/5] END max_depth=10, min_samples_split=2, n_estimators=200;, score=0.945 total time=   0.5s\n",
      "[CV 2/5] END max_depth=10, min_samples_split=2, n_estimators=200;, score=0.950 total time=   0.5s\n",
      "[CV 3/5] END max_depth=10, min_samples_split=2, n_estimators=200;, score=0.951 total time=   0.5s\n",
      "[CV 4/5] END max_depth=10, min_samples_split=2, n_estimators=200;, score=0.949 total time=   0.5s\n",
      "[CV 5/5] END max_depth=10, min_samples_split=2, n_estimators=200;, score=0.950 total time=   0.5s\n",
      "[CV 1/5] END max_depth=10, min_samples_split=5, n_estimators=50;, score=0.944 total time=   0.0s\n",
      "[CV 2/5] END max_depth=10, min_samples_split=5, n_estimators=50;, score=0.949 total time=   0.0s\n",
      "[CV 3/5] END max_depth=10, min_samples_split=5, n_estimators=50;, score=0.950 total time=   0.0s\n",
      "[CV 4/5] END max_depth=10, min_samples_split=5, n_estimators=50;, score=0.950 total time=   0.1s\n",
      "[CV 5/5] END max_depth=10, min_samples_split=5, n_estimators=50;, score=0.952 total time=   0.1s\n",
      "[CV 1/5] END max_depth=10, min_samples_split=5, n_estimators=100;, score=0.945 total time=   0.2s\n",
      "[CV 2/5] END max_depth=10, min_samples_split=5, n_estimators=100;, score=0.949 total time=   0.2s\n",
      "[CV 3/5] END max_depth=10, min_samples_split=5, n_estimators=100;, score=0.950 total time=   0.2s\n",
      "[CV 4/5] END max_depth=10, min_samples_split=5, n_estimators=100;, score=0.950 total time=   0.2s\n",
      "[CV 5/5] END max_depth=10, min_samples_split=5, n_estimators=100;, score=0.952 total time=   0.2s\n",
      "[CV 1/5] END max_depth=10, min_samples_split=5, n_estimators=200;, score=0.945 total time=   0.5s\n",
      "[CV 2/5] END max_depth=10, min_samples_split=5, n_estimators=200;, score=0.949 total time=   0.5s\n",
      "[CV 3/5] END max_depth=10, min_samples_split=5, n_estimators=200;, score=0.951 total time=   0.5s\n",
      "[CV 4/5] END max_depth=10, min_samples_split=5, n_estimators=200;, score=0.949 total time=   0.5s\n",
      "[CV 5/5] END max_depth=10, min_samples_split=5, n_estimators=200;, score=0.950 total time=   0.5s\n",
      "[CV 1/5] END max_depth=10, min_samples_split=10, n_estimators=50;, score=0.945 total time=   0.0s\n",
      "[CV 2/5] END max_depth=10, min_samples_split=10, n_estimators=50;, score=0.949 total time=   0.1s\n",
      "[CV 3/5] END max_depth=10, min_samples_split=10, n_estimators=50;, score=0.951 total time=   0.1s\n",
      "[CV 4/5] END max_depth=10, min_samples_split=10, n_estimators=50;, score=0.950 total time=   0.1s\n",
      "[CV 5/5] END max_depth=10, min_samples_split=10, n_estimators=50;, score=0.951 total time=   0.1s\n",
      "[CV 1/5] END max_depth=10, min_samples_split=10, n_estimators=100;, score=0.945 total time=   0.2s\n",
      "[CV 2/5] END max_depth=10, min_samples_split=10, n_estimators=100;, score=0.949 total time=   0.2s\n",
      "[CV 3/5] END max_depth=10, min_samples_split=10, n_estimators=100;, score=0.950 total time=   0.2s\n",
      "[CV 4/5] END max_depth=10, min_samples_split=10, n_estimators=100;, score=0.950 total time=   0.2s\n",
      "[CV 5/5] END max_depth=10, min_samples_split=10, n_estimators=100;, score=0.950 total time=   0.2s\n",
      "[CV 1/5] END max_depth=10, min_samples_split=10, n_estimators=200;, score=0.946 total time=   0.5s\n",
      "[CV 2/5] END max_depth=10, min_samples_split=10, n_estimators=200;, score=0.950 total time=   0.5s\n",
      "[CV 3/5] END max_depth=10, min_samples_split=10, n_estimators=200;, score=0.951 total time=   0.5s\n",
      "[CV 4/5] END max_depth=10, min_samples_split=10, n_estimators=200;, score=0.949 total time=   0.5s\n",
      "[CV 5/5] END max_depth=10, min_samples_split=10, n_estimators=200;, score=0.949 total time=   0.5s\n",
      "[CV 1/5] END max_depth=None, min_samples_split=2, n_estimators=50;, score=0.945 total time=   0.1s\n",
      "[CV 2/5] END max_depth=None, min_samples_split=2, n_estimators=50;, score=0.951 total time=   0.1s\n",
      "[CV 3/5] END max_depth=None, min_samples_split=2, n_estimators=50;, score=0.954 total time=   0.0s\n",
      "[CV 4/5] END max_depth=None, min_samples_split=2, n_estimators=50;, score=0.950 total time=   0.1s\n",
      "[CV 5/5] END max_depth=None, min_samples_split=2, n_estimators=50;, score=0.954 total time=   0.1s\n",
      "[CV 1/5] END max_depth=None, min_samples_split=2, n_estimators=100;, score=0.946 total time=   0.2s\n",
      "[CV 2/5] END max_depth=None, min_samples_split=2, n_estimators=100;, score=0.951 total time=   0.2s\n",
      "[CV 3/5] END max_depth=None, min_samples_split=2, n_estimators=100;, score=0.955 total time=   0.2s\n",
      "[CV 4/5] END max_depth=None, min_samples_split=2, n_estimators=100;, score=0.950 total time=   0.2s\n",
      "[CV 5/5] END max_depth=None, min_samples_split=2, n_estimators=100;, score=0.955 total time=   0.2s\n",
      "[CV 1/5] END max_depth=None, min_samples_split=2, n_estimators=200;, score=0.946 total time=   0.5s\n",
      "[CV 2/5] END max_depth=None, min_samples_split=2, n_estimators=200;, score=0.952 total time=   0.5s\n",
      "[CV 3/5] END max_depth=None, min_samples_split=2, n_estimators=200;, score=0.956 total time=   0.5s\n",
      "[CV 4/5] END max_depth=None, min_samples_split=2, n_estimators=200;, score=0.950 total time=   0.5s\n",
      "[CV 5/5] END max_depth=None, min_samples_split=2, n_estimators=200;, score=0.954 total time=   0.5s\n",
      "[CV 1/5] END max_depth=None, min_samples_split=5, n_estimators=50;, score=0.945 total time=   0.1s\n",
      "[CV 2/5] END max_depth=None, min_samples_split=5, n_estimators=50;, score=0.951 total time=   0.1s\n",
      "[CV 3/5] END max_depth=None, min_samples_split=5, n_estimators=50;, score=0.955 total time=   0.1s\n",
      "[CV 4/5] END max_depth=None, min_samples_split=5, n_estimators=50;, score=0.950 total time=   0.0s\n",
      "[CV 5/5] END max_depth=None, min_samples_split=5, n_estimators=50;, score=0.955 total time=   0.1s\n",
      "[CV 1/5] END max_depth=None, min_samples_split=5, n_estimators=100;, score=0.946 total time=   0.2s\n",
      "[CV 2/5] END max_depth=None, min_samples_split=5, n_estimators=100;, score=0.950 total time=   0.2s\n",
      "[CV 3/5] END max_depth=None, min_samples_split=5, n_estimators=100;, score=0.956 total time=   0.2s\n",
      "[CV 4/5] END max_depth=None, min_samples_split=5, n_estimators=100;, score=0.951 total time=   0.2s\n",
      "[CV 5/5] END max_depth=None, min_samples_split=5, n_estimators=100;, score=0.955 total time=   0.2s\n",
      "[CV 1/5] END max_depth=None, min_samples_split=5, n_estimators=200;, score=0.946 total time=   0.5s\n",
      "[CV 2/5] END max_depth=None, min_samples_split=5, n_estimators=200;, score=0.951 total time=   0.5s\n",
      "[CV 3/5] END max_depth=None, min_samples_split=5, n_estimators=200;, score=0.956 total time=   0.5s\n",
      "[CV 4/5] END max_depth=None, min_samples_split=5, n_estimators=200;, score=0.950 total time=   0.5s\n",
      "[CV 5/5] END max_depth=None, min_samples_split=5, n_estimators=200;, score=0.954 total time=   0.5s\n",
      "[CV 1/5] END max_depth=None, min_samples_split=10, n_estimators=50;, score=0.946 total time=   0.1s\n",
      "[CV 2/5] END max_depth=None, min_samples_split=10, n_estimators=50;, score=0.951 total time=   0.1s\n",
      "[CV 3/5] END max_depth=None, min_samples_split=10, n_estimators=50;, score=0.955 total time=   0.1s\n"
     ]
    },
    {
     "name": "stdout",
     "output_type": "stream",
     "text": [
      "[CV 4/5] END max_depth=None, min_samples_split=10, n_estimators=50;, score=0.952 total time=   0.1s\n",
      "[CV 5/5] END max_depth=None, min_samples_split=10, n_estimators=50;, score=0.954 total time=   0.0s\n",
      "[CV 1/5] END max_depth=None, min_samples_split=10, n_estimators=100;, score=0.947 total time=   0.2s\n",
      "[CV 2/5] END max_depth=None, min_samples_split=10, n_estimators=100;, score=0.951 total time=   0.2s\n",
      "[CV 3/5] END max_depth=None, min_samples_split=10, n_estimators=100;, score=0.955 total time=   0.2s\n",
      "[CV 4/5] END max_depth=None, min_samples_split=10, n_estimators=100;, score=0.951 total time=   0.2s\n",
      "[CV 5/5] END max_depth=None, min_samples_split=10, n_estimators=100;, score=0.954 total time=   0.2s\n",
      "[CV 1/5] END max_depth=None, min_samples_split=10, n_estimators=200;, score=0.947 total time=   0.5s\n",
      "[CV 2/5] END max_depth=None, min_samples_split=10, n_estimators=200;, score=0.951 total time=   0.5s\n",
      "[CV 3/5] END max_depth=None, min_samples_split=10, n_estimators=200;, score=0.956 total time=   0.5s\n",
      "[CV 4/5] END max_depth=None, min_samples_split=10, n_estimators=200;, score=0.951 total time=   0.5s\n",
      "[CV 5/5] END max_depth=None, min_samples_split=10, n_estimators=200;, score=0.953 total time=   0.5s\n"
     ]
    },
    {
     "data": {
      "text/plain": [
       "GridSearchCV(cv=5, estimator=RandomForestRegressor(random_state=1212),\n",
       "             param_grid={'max_depth': [3, 5, 10, None],\n",
       "                         'min_samples_split': [2, 5, 10],\n",
       "                         'n_estimators': [50, 100, 200]},\n",
       "             verbose=3)"
      ]
     },
     "execution_count": 48,
     "metadata": {},
     "output_type": "execute_result"
    }
   ],
   "source": [
    "param_grid = {'max_depth': [3,5,10, None],\n",
    "              'min_samples_split': [2,5,10],\n",
    "              'n_estimators': [50,100,200]}\n",
    "\n",
    "rf = RandomForestRegressor(random_state=1212)\n",
    "\n",
    "sh = GridSearchCV(rf, param_grid, cv=5,\n",
    "                  verbose=3)\n",
    "\n",
    "sh.fit(X_ydf_train, y_ydf_train)"
   ]
  },
  {
   "cell_type": "code",
   "execution_count": 49,
   "id": "47773645",
   "metadata": {
    "ExecuteTime": {
     "end_time": "2022-07-18T00:59:00.448880Z",
     "start_time": "2022-07-18T00:59:00.441879Z"
    }
   },
   "outputs": [
    {
     "data": {
      "text/plain": [
       "{'max_depth': None, 'min_samples_split': 10, 'n_estimators': 200}"
      ]
     },
     "execution_count": 49,
     "metadata": {},
     "output_type": "execute_result"
    }
   ],
   "source": [
    "sh.best_params_"
   ]
  },
  {
   "cell_type": "code",
   "execution_count": 50,
   "id": "3b52de98",
   "metadata": {
    "ExecuteTime": {
     "end_time": "2022-07-18T00:59:08.342060Z",
     "start_time": "2022-07-18T00:59:07.672991Z"
    }
   },
   "outputs": [
    {
     "data": {
      "text/plain": [
       "0.9594747553118195"
      ]
     },
     "execution_count": 50,
     "metadata": {},
     "output_type": "execute_result"
    }
   ],
   "source": [
    "# initialize\n",
    "rf = RandomForestRegressor(n_estimators=200,\n",
    "                           max_depth=None,\n",
    "                           min_samples_split=10)\n",
    "\n",
    "# fit\n",
    "rf.fit(X_ydf_train, y_ydf_train)\n",
    "\n",
    "# score\n",
    "rf.score(X_ydf_test, y_ydf_test)"
   ]
  },
  {
   "cell_type": "markdown",
   "id": "7890e4eb",
   "metadata": {},
   "source": [
    "## SVM"
   ]
  },
  {
   "cell_type": "code",
   "execution_count": 51,
   "id": "9fbd148d",
   "metadata": {
    "ExecuteTime": {
     "end_time": "2022-07-18T00:59:57.932917Z",
     "start_time": "2022-07-18T00:59:57.481917Z"
    }
   },
   "outputs": [
    {
     "data": {
      "text/plain": [
       "0.728590464905441"
      ]
     },
     "execution_count": 51,
     "metadata": {},
     "output_type": "execute_result"
    }
   ],
   "source": [
    "# initialize\n",
    "svr = SVR()\n",
    "\n",
    "# fit\n",
    "svr.fit(X_ydf_train, y_ydf_train)\n",
    "\n",
    "# score\n",
    "svr.score(X_ydf_test,y_ydf_test)"
   ]
  },
  {
   "cell_type": "code",
   "execution_count": 57,
   "id": "6612ee30",
   "metadata": {
    "ExecuteTime": {
     "end_time": "2022-07-18T01:17:19.729227Z",
     "start_time": "2022-07-18T01:02:51.898195Z"
    },
    "scrolled": false
   },
   "outputs": [
    {
     "name": "stdout",
     "output_type": "stream",
     "text": [
      "Fitting 5 folds for each of 18 candidates, totalling 90 fits\n",
      "[CV 1/5] END C=10.0, epsilon=0.001, gamma=scale;, score=0.726 total time=   0.6s\n",
      "[CV 2/5] END C=10.0, epsilon=0.001, gamma=scale;, score=0.771 total time=   0.7s\n",
      "[CV 3/5] END C=10.0, epsilon=0.001, gamma=scale;, score=0.725 total time=   0.8s\n",
      "[CV 4/5] END C=10.0, epsilon=0.001, gamma=scale;, score=0.721 total time=   0.7s\n",
      "[CV 5/5] END C=10.0, epsilon=0.001, gamma=scale;, score=0.766 total time=   0.8s\n",
      "[CV 1/5] END .C=10.0, epsilon=0.001, gamma=auto;, score=0.728 total time=   0.6s\n",
      "[CV 2/5] END .C=10.0, epsilon=0.001, gamma=auto;, score=0.771 total time=   0.7s\n",
      "[CV 3/5] END .C=10.0, epsilon=0.001, gamma=auto;, score=0.725 total time=   0.8s\n",
      "[CV 4/5] END .C=10.0, epsilon=0.001, gamma=auto;, score=0.721 total time=   0.7s\n",
      "[CV 5/5] END .C=10.0, epsilon=0.001, gamma=auto;, score=0.766 total time=   0.8s\n",
      "[CV 1/5] END ..C=10.0, epsilon=0.1, gamma=scale;, score=0.770 total time=   0.4s\n",
      "[CV 2/5] END ..C=10.0, epsilon=0.1, gamma=scale;, score=0.778 total time=   0.4s\n",
      "[CV 3/5] END ..C=10.0, epsilon=0.1, gamma=scale;, score=0.735 total time=   0.5s\n",
      "[CV 4/5] END ..C=10.0, epsilon=0.1, gamma=scale;, score=0.755 total time=   0.4s\n",
      "[CV 5/5] END ..C=10.0, epsilon=0.1, gamma=scale;, score=0.767 total time=   0.5s\n",
      "[CV 1/5] END ...C=10.0, epsilon=0.1, gamma=auto;, score=0.769 total time=   0.4s\n",
      "[CV 2/5] END ...C=10.0, epsilon=0.1, gamma=auto;, score=0.779 total time=   0.5s\n",
      "[CV 3/5] END ...C=10.0, epsilon=0.1, gamma=auto;, score=0.735 total time=   0.8s\n",
      "[CV 4/5] END ...C=10.0, epsilon=0.1, gamma=auto;, score=0.755 total time=   0.5s\n",
      "[CV 5/5] END ...C=10.0, epsilon=0.1, gamma=auto;, score=0.767 total time=   0.6s\n",
      "[CV 1/5] END C=10.0, epsilon=10.0, gamma=scale;, score=-0.021 total time=   0.0s\n",
      "[CV 2/5] END C=10.0, epsilon=10.0, gamma=scale;, score=-0.038 total time=   0.0s\n",
      "[CV 3/5] END C=10.0, epsilon=10.0, gamma=scale;, score=-0.050 total time=   0.0s\n",
      "[CV 4/5] END C=10.0, epsilon=10.0, gamma=scale;, score=-0.028 total time=   0.0s\n",
      "[CV 5/5] END C=10.0, epsilon=10.0, gamma=scale;, score=-0.046 total time=   0.0s\n",
      "[CV 1/5] END .C=10.0, epsilon=10.0, gamma=auto;, score=-0.021 total time=   0.0s\n",
      "[CV 2/5] END .C=10.0, epsilon=10.0, gamma=auto;, score=-0.038 total time=   0.0s\n",
      "[CV 3/5] END .C=10.0, epsilon=10.0, gamma=auto;, score=-0.050 total time=   0.0s\n",
      "[CV 4/5] END .C=10.0, epsilon=10.0, gamma=auto;, score=-0.028 total time=   0.0s\n",
      "[CV 5/5] END .C=10.0, epsilon=10.0, gamma=auto;, score=-0.046 total time=   0.0s\n",
      "[CV 1/5] END C=100.0, epsilon=0.001, gamma=scale;, score=0.790 total time=   5.1s\n",
      "[CV 2/5] END C=100.0, epsilon=0.001, gamma=scale;, score=0.756 total time=   6.5s\n",
      "[CV 3/5] END C=100.0, epsilon=0.001, gamma=scale;, score=0.776 total time=   7.1s\n",
      "[CV 4/5] END C=100.0, epsilon=0.001, gamma=scale;, score=0.727 total time=   3.7s\n",
      "[CV 5/5] END C=100.0, epsilon=0.001, gamma=scale;, score=0.773 total time=   6.2s\n",
      "[CV 1/5] END C=100.0, epsilon=0.001, gamma=auto;, score=0.790 total time=   5.1s\n",
      "[CV 2/5] END C=100.0, epsilon=0.001, gamma=auto;, score=0.756 total time=   5.2s\n",
      "[CV 3/5] END C=100.0, epsilon=0.001, gamma=auto;, score=0.776 total time=   7.0s\n",
      "[CV 4/5] END C=100.0, epsilon=0.001, gamma=auto;, score=0.728 total time=   3.6s\n",
      "[CV 5/5] END C=100.0, epsilon=0.001, gamma=auto;, score=0.774 total time=   6.5s\n",
      "[CV 1/5] END .C=100.0, epsilon=0.1, gamma=scale;, score=0.781 total time=   3.0s\n",
      "[CV 2/5] END .C=100.0, epsilon=0.1, gamma=scale;, score=0.757 total time=   2.4s\n",
      "[CV 3/5] END .C=100.0, epsilon=0.1, gamma=scale;, score=0.779 total time=   2.3s\n",
      "[CV 4/5] END .C=100.0, epsilon=0.1, gamma=scale;, score=0.752 total time=   3.1s\n",
      "[CV 5/5] END .C=100.0, epsilon=0.1, gamma=scale;, score=0.744 total time=   2.6s\n",
      "[CV 1/5] END ..C=100.0, epsilon=0.1, gamma=auto;, score=0.781 total time=   2.9s\n",
      "[CV 2/5] END ..C=100.0, epsilon=0.1, gamma=auto;, score=0.755 total time=   2.4s\n",
      "[CV 3/5] END ..C=100.0, epsilon=0.1, gamma=auto;, score=0.778 total time=   2.5s\n",
      "[CV 4/5] END ..C=100.0, epsilon=0.1, gamma=auto;, score=0.752 total time=   3.5s\n",
      "[CV 5/5] END ..C=100.0, epsilon=0.1, gamma=auto;, score=0.743 total time=   2.3s\n",
      "[CV 1/5] END C=100.0, epsilon=10.0, gamma=scale;, score=-0.021 total time=   0.0s\n",
      "[CV 2/5] END C=100.0, epsilon=10.0, gamma=scale;, score=-0.038 total time=   0.0s\n",
      "[CV 3/5] END C=100.0, epsilon=10.0, gamma=scale;, score=-0.050 total time=   0.0s\n",
      "[CV 4/5] END C=100.0, epsilon=10.0, gamma=scale;, score=-0.028 total time=   0.0s\n",
      "[CV 5/5] END C=100.0, epsilon=10.0, gamma=scale;, score=-0.046 total time=   0.0s\n",
      "[CV 1/5] END C=100.0, epsilon=10.0, gamma=auto;, score=-0.021 total time=   0.0s\n",
      "[CV 2/5] END C=100.0, epsilon=10.0, gamma=auto;, score=-0.038 total time=   0.0s\n",
      "[CV 3/5] END C=100.0, epsilon=10.0, gamma=auto;, score=-0.050 total time=   0.0s\n",
      "[CV 4/5] END C=100.0, epsilon=10.0, gamma=auto;, score=-0.028 total time=   0.0s\n",
      "[CV 5/5] END C=100.0, epsilon=10.0, gamma=auto;, score=-0.046 total time=   0.0s\n",
      "[CV 1/5] END C=1000.0, epsilon=0.001, gamma=scale;, score=0.829 total time=  53.0s\n",
      "[CV 2/5] END C=1000.0, epsilon=0.001, gamma=scale;, score=0.174 total time=  56.1s\n",
      "[CV 3/5] END C=1000.0, epsilon=0.001, gamma=scale;, score=0.835 total time=  34.1s\n",
      "[CV 4/5] END C=1000.0, epsilon=0.001, gamma=scale;, score=0.389 total time=  49.2s\n",
      "[CV 5/5] END C=1000.0, epsilon=0.001, gamma=scale;, score=0.435 total time=  43.6s\n",
      "[CV 1/5] END C=1000.0, epsilon=0.001, gamma=auto;, score=0.828 total time=  57.4s\n",
      "[CV 2/5] END C=1000.0, epsilon=0.001, gamma=auto;, score=0.156 total time=  45.9s\n",
      "[CV 3/5] END C=1000.0, epsilon=0.001, gamma=auto;, score=0.836 total time=  37.2s\n",
      "[CV 4/5] END C=1000.0, epsilon=0.001, gamma=auto;, score=0.395 total time=  48.0s\n",
      "[CV 5/5] END C=1000.0, epsilon=0.001, gamma=auto;, score=0.436 total time=  50.0s\n",
      "[CV 1/5] END C=1000.0, epsilon=0.1, gamma=scale;, score=0.791 total time=  33.8s\n",
      "[CV 2/5] END C=1000.0, epsilon=0.1, gamma=scale;, score=0.302 total time=  25.4s\n",
      "[CV 3/5] END C=1000.0, epsilon=0.1, gamma=scale;, score=0.819 total time=  25.8s\n",
      "[CV 4/5] END C=1000.0, epsilon=0.1, gamma=scale;, score=0.631 total time=  24.9s\n",
      "[CV 5/5] END C=1000.0, epsilon=0.1, gamma=scale;, score=0.615 total time=  27.6s\n",
      "[CV 1/5] END .C=1000.0, epsilon=0.1, gamma=auto;, score=0.786 total time=  35.0s\n",
      "[CV 2/5] END .C=1000.0, epsilon=0.1, gamma=auto;, score=0.295 total time=  28.0s\n",
      "[CV 3/5] END .C=1000.0, epsilon=0.1, gamma=auto;, score=0.819 total time=  25.5s\n",
      "[CV 4/5] END .C=1000.0, epsilon=0.1, gamma=auto;, score=0.632 total time=  29.5s\n",
      "[CV 5/5] END .C=1000.0, epsilon=0.1, gamma=auto;, score=0.622 total time=  29.5s\n",
      "[CV 1/5] END C=1000.0, epsilon=10.0, gamma=scale;, score=-0.021 total time=   0.0s\n",
      "[CV 2/5] END C=1000.0, epsilon=10.0, gamma=scale;, score=-0.038 total time=   0.0s\n",
      "[CV 3/5] END C=1000.0, epsilon=10.0, gamma=scale;, score=-0.050 total time=   0.0s\n",
      "[CV 4/5] END C=1000.0, epsilon=10.0, gamma=scale;, score=-0.028 total time=   0.0s\n",
      "[CV 5/5] END C=1000.0, epsilon=10.0, gamma=scale;, score=-0.046 total time=   0.0s\n",
      "[CV 1/5] END C=1000.0, epsilon=10.0, gamma=auto;, score=-0.021 total time=   0.0s\n",
      "[CV 2/5] END C=1000.0, epsilon=10.0, gamma=auto;, score=-0.038 total time=   0.0s\n",
      "[CV 3/5] END C=1000.0, epsilon=10.0, gamma=auto;, score=-0.050 total time=   0.0s\n",
      "[CV 4/5] END C=1000.0, epsilon=10.0, gamma=auto;, score=-0.028 total time=   0.0s\n",
      "[CV 5/5] END C=1000.0, epsilon=10.0, gamma=auto;, score=-0.046 total time=   0.0s\n"
     ]
    },
    {
     "data": {
      "text/plain": [
       "GridSearchCV(cv=5, estimator=SVR(),\n",
       "             param_grid={'C': array([  10.,  100., 1000.]),\n",
       "                         'epsilon': array([1.e-03, 1.e-01, 1.e+01]),\n",
       "                         'gamma': ['scale', 'auto']},\n",
       "             verbose=3)"
      ]
     },
     "execution_count": 57,
     "metadata": {},
     "output_type": "execute_result"
    }
   ],
   "source": [
    "param_grid = {'epsilon': np.logspace(-3,1,3),\n",
    "              'C': np.logspace(1,3,3),\n",
    "              'gamma': ['scale','auto']}\n",
    "\n",
    "svr = SVR()\n",
    "\n",
    "gs = GridSearchCV(svr, param_grid, cv=5,\n",
    "                  verbose=3)\n",
    "\n",
    "gs.fit(X_ydf_train, y_ydf_train)"
   ]
  },
  {
   "cell_type": "code",
   "execution_count": 58,
   "id": "46b58936",
   "metadata": {
    "ExecuteTime": {
     "end_time": "2022-07-18T01:17:27.452668Z",
     "start_time": "2022-07-18T01:17:27.435664Z"
    }
   },
   "outputs": [
    {
     "data": {
      "text/plain": [
       "{'C': 100.0, 'epsilon': 0.001, 'gamma': 'scale'}"
      ]
     },
     "execution_count": 58,
     "metadata": {},
     "output_type": "execute_result"
    }
   ],
   "source": [
    "gs.best_params_"
   ]
  },
  {
   "cell_type": "code",
   "execution_count": 59,
   "id": "07163240",
   "metadata": {
    "ExecuteTime": {
     "end_time": "2022-07-18T01:17:31.504034Z",
     "start_time": "2022-07-18T01:17:31.491037Z"
    }
   },
   "outputs": [
    {
     "data": {
      "text/plain": [
       "0.764522987906367"
      ]
     },
     "execution_count": 59,
     "metadata": {},
     "output_type": "execute_result"
    }
   ],
   "source": [
    "gs.best_score_"
   ]
  },
  {
   "cell_type": "code",
   "execution_count": 60,
   "id": "7becc274",
   "metadata": {
    "ExecuteTime": {
     "end_time": "2022-07-18T01:18:03.545351Z",
     "start_time": "2022-07-18T01:17:56.411352Z"
    }
   },
   "outputs": [
    {
     "data": {
      "text/plain": [
       "0.7899773689061964"
      ]
     },
     "execution_count": 60,
     "metadata": {},
     "output_type": "execute_result"
    }
   ],
   "source": [
    "# initialize\n",
    "svr = SVR(C=100, epsilon = 0.001, gamma = 'scale')\n",
    "\n",
    "# fit\n",
    "svr.fit(X_ydf_train, y_ydf_train)\n",
    "\n",
    "# score\n",
    "svr.score(X_ydf_test,y_ydf_test)"
   ]
  },
  {
   "cell_type": "markdown",
   "id": "76d8523e",
   "metadata": {},
   "source": [
    "# Combined Modeling"
   ]
  },
  {
   "cell_type": "code",
   "execution_count": 104,
   "id": "e5582342",
   "metadata": {
    "ExecuteTime": {
     "end_time": "2022-07-18T01:35:01.697892Z",
     "start_time": "2022-07-18T01:35:01.681889Z"
    }
   },
   "outputs": [],
   "source": [
    "y_rdf_hat = pd.Series(lr_rdf.predict(X_rdf_test),\n",
    "                      index=X_rdf_test.index,\n",
    "                      name='runs_total_pg')"
   ]
  },
  {
   "cell_type": "code",
   "execution_count": 105,
   "id": "60b43c1f",
   "metadata": {
    "ExecuteTime": {
     "end_time": "2022-07-18T01:35:02.403169Z",
     "start_time": "2022-07-18T01:35:01.967169Z"
    }
   },
   "outputs": [],
   "source": [
    "# initialize\n",
    "rf = RandomForestRegressor()\n",
    "\n",
    "# fit\n",
    "rf.fit(X_ydf_train, y_ydf_train)\n",
    "\n",
    "# score\n",
    "y_ydf_hat = pd.Series(rf.predict(X_ydf_test),\n",
    "                      index=X_ydf_test.index,\n",
    "                      name='opprpg')"
   ]
  },
  {
   "cell_type": "code",
   "execution_count": 106,
   "id": "0bca9db0",
   "metadata": {
    "ExecuteTime": {
     "end_time": "2022-07-18T01:35:02.418170Z",
     "start_time": "2022-07-18T01:35:02.406169Z"
    }
   },
   "outputs": [],
   "source": [
    "X_train =\\\n",
    "pd.merge(\n",
    "    pd.merge(X_odf_train,y_rdf_train,\n",
    "             how = 'inner',\n",
    "             left_index=True, right_index=True),\n",
    "    y_ydf_train,\n",
    "    how = 'inner',\n",
    "    left_index=True, right_index=True)"
   ]
  },
  {
   "cell_type": "code",
   "execution_count": 107,
   "id": "72ef293c",
   "metadata": {
    "ExecuteTime": {
     "end_time": "2022-07-18T01:35:03.349335Z",
     "start_time": "2022-07-18T01:35:03.325335Z"
    }
   },
   "outputs": [],
   "source": [
    "X_test =\\\n",
    "pd.merge(\n",
    "    pd.merge(X_odf_test,y_rdf_hat,\n",
    "             how = 'inner',\n",
    "             left_index=True, right_index=True),\n",
    "    y_ydf_hat,\n",
    "    how = 'inner',\n",
    "    left_index=True, right_index=True)"
   ]
  },
  {
   "cell_type": "code",
   "execution_count": 108,
   "id": "8cf65102",
   "metadata": {
    "ExecuteTime": {
     "end_time": "2022-07-18T01:35:04.280410Z",
     "start_time": "2022-07-18T01:35:04.261424Z"
    }
   },
   "outputs": [],
   "source": [
    "y_train, y_test = y_odf_train, y_odf_test"
   ]
  },
  {
   "cell_type": "markdown",
   "id": "8ccf3b77",
   "metadata": {},
   "source": [
    "## Linear Regression"
   ]
  },
  {
   "cell_type": "code",
   "execution_count": 109,
   "id": "064b5f7d",
   "metadata": {
    "ExecuteTime": {
     "end_time": "2022-07-18T01:35:05.672238Z",
     "start_time": "2022-07-18T01:35:05.645238Z"
    }
   },
   "outputs": [
    {
     "data": {
      "text/plain": [
       "0.3720853814385181"
      ]
     },
     "execution_count": 109,
     "metadata": {},
     "output_type": "execute_result"
    }
   ],
   "source": [
    "# initialize\n",
    "lr = LinearRegression()\n",
    "\n",
    "# fit\n",
    "lr.fit(X_train, y_train)\n",
    "\n",
    "# score\n",
    "lr.score(X_test,y_test)"
   ]
  },
  {
   "cell_type": "markdown",
   "id": "55388a70",
   "metadata": {},
   "source": [
    "### Lasso Regularization"
   ]
  },
  {
   "cell_type": "code",
   "execution_count": 110,
   "id": "52a67eac",
   "metadata": {
    "ExecuteTime": {
     "end_time": "2022-07-18T01:35:28.699012Z",
     "start_time": "2022-07-18T01:35:28.070015Z"
    }
   },
   "outputs": [
    {
     "name": "stdout",
     "output_type": "stream",
     "text": [
      "Best Alpha: 0.0000\n",
      "CV Score: 0.9923\n"
     ]
    }
   ],
   "source": [
    "# initialize\n",
    "lasso_cv = LassoCV()\n",
    "\n",
    "# cv\n",
    "scores = cross_val_score(lasso_cv, X_train, y_train)\n",
    "\n",
    "# fit\n",
    "lasso_cv.fit(X_train, y_train)\n",
    "\n",
    "# best attributes\n",
    "print(f'Best Alpha: {lasso_cv.alpha_:.4f}')\n",
    "print(f'CV Score: {scores.mean():.4f}')"
   ]
  },
  {
   "cell_type": "code",
   "execution_count": 112,
   "id": "77f806a3",
   "metadata": {
    "ExecuteTime": {
     "end_time": "2022-07-18T01:37:15.636499Z",
     "start_time": "2022-07-18T01:37:15.621497Z"
    }
   },
   "outputs": [
    {
     "data": {
      "text/plain": [
       "0.3726768110825699"
      ]
     },
     "execution_count": 112,
     "metadata": {},
     "output_type": "execute_result"
    }
   ],
   "source": [
    "# generate features to select\n",
    "lasso_cv.score(X_test, y_test)"
   ]
  },
  {
   "cell_type": "code",
   "execution_count": 113,
   "id": "ea17ceea",
   "metadata": {
    "ExecuteTime": {
     "end_time": "2022-07-18T01:37:22.309679Z",
     "start_time": "2022-07-18T01:37:22.293684Z"
    }
   },
   "outputs": [],
   "source": [
    "lasso_cols = [col for col, coef in zip(X_train.columns, lasso_cv.coef_) if coef]"
   ]
  },
  {
   "cell_type": "code",
   "execution_count": 114,
   "id": "3ac93989",
   "metadata": {
    "ExecuteTime": {
     "end_time": "2022-07-18T01:37:32.631510Z",
     "start_time": "2022-07-18T01:37:32.613536Z"
    }
   },
   "outputs": [
    {
     "data": {
      "text/plain": [
       "LinearRegression()"
      ]
     },
     "execution_count": 114,
     "metadata": {},
     "output_type": "execute_result"
    }
   ],
   "source": [
    "lr.fit(X_train[lasso_cols], y_train)"
   ]
  },
  {
   "cell_type": "code",
   "execution_count": 115,
   "id": "a6dd5c36",
   "metadata": {
    "ExecuteTime": {
     "end_time": "2022-07-18T01:37:33.573448Z",
     "start_time": "2022-07-18T01:37:33.557449Z"
    }
   },
   "outputs": [
    {
     "data": {
      "text/plain": [
       "0.3720853814385181"
      ]
     },
     "execution_count": 115,
     "metadata": {},
     "output_type": "execute_result"
    }
   ],
   "source": [
    "lr.score(X_test[lasso_cols],y_test)"
   ]
  },
  {
   "cell_type": "markdown",
   "id": "95ada11a",
   "metadata": {},
   "source": [
    "## Random Forest"
   ]
  },
  {
   "cell_type": "code",
   "execution_count": 116,
   "id": "6a8f551e",
   "metadata": {
    "ExecuteTime": {
     "end_time": "2022-07-18T01:37:49.999459Z",
     "start_time": "2022-07-18T01:37:48.662471Z"
    }
   },
   "outputs": [
    {
     "data": {
      "text/plain": [
       "0.37230916707983397"
      ]
     },
     "execution_count": 116,
     "metadata": {},
     "output_type": "execute_result"
    }
   ],
   "source": [
    "# initialize\n",
    "rf = RandomForestRegressor()\n",
    "\n",
    "# fit\n",
    "rf.fit(X_train, y_train)\n",
    "\n",
    "# score\n",
    "rf.score(X_test,y_test)"
   ]
  },
  {
   "cell_type": "code",
   "execution_count": 118,
   "id": "56be3d8e",
   "metadata": {
    "ExecuteTime": {
     "end_time": "2022-07-18T01:40:28.997981Z",
     "start_time": "2022-07-18T01:38:24.824607Z"
    },
    "scrolled": true
   },
   "outputs": [
    {
     "name": "stdout",
     "output_type": "stream",
     "text": [
      "n_iterations: 4\n",
      "n_required_iterations: 4\n",
      "n_possible_iterations: 5\n",
      "min_resources_: 50\n",
      "max_resources_: 1000\n",
      "aggressive_elimination: False\n",
      "factor: 2\n",
      "----------\n",
      "iter: 0\n",
      "n_candidates: 12\n",
      "n_resources: 50\n",
      "Fitting 5 folds for each of 12 candidates, totalling 60 fits\n",
      "[CV 1/5] END max_depth=3, min_samples_split=2, n_estimators=50;, score=(train=0.976, test=0.976) total time=   0.1s\n",
      "[CV 2/5] END max_depth=3, min_samples_split=2, n_estimators=50;, score=(train=0.976, test=0.968) total time=   0.1s\n",
      "[CV 3/5] END max_depth=3, min_samples_split=2, n_estimators=50;, score=(train=0.977, test=0.972) total time=   0.1s\n",
      "[CV 4/5] END max_depth=3, min_samples_split=2, n_estimators=50;, score=(train=0.975, test=0.975) total time=   0.1s\n",
      "[CV 5/5] END max_depth=3, min_samples_split=2, n_estimators=50;, score=(train=0.975, test=0.975) total time=   0.1s\n",
      "[CV 1/5] END max_depth=3, min_samples_split=5, n_estimators=50;, score=(train=0.976, test=0.976) total time=   0.1s\n",
      "[CV 2/5] END max_depth=3, min_samples_split=5, n_estimators=50;, score=(train=0.976, test=0.968) total time=   0.1s\n",
      "[CV 3/5] END max_depth=3, min_samples_split=5, n_estimators=50;, score=(train=0.977, test=0.972) total time=   0.1s\n",
      "[CV 4/5] END max_depth=3, min_samples_split=5, n_estimators=50;, score=(train=0.975, test=0.975) total time=   0.1s\n",
      "[CV 5/5] END max_depth=3, min_samples_split=5, n_estimators=50;, score=(train=0.975, test=0.975) total time=   0.1s\n",
      "[CV 1/5] END max_depth=3, min_samples_split=10, n_estimators=50;, score=(train=0.976, test=0.976) total time=   0.1s\n",
      "[CV 2/5] END max_depth=3, min_samples_split=10, n_estimators=50;, score=(train=0.976, test=0.968) total time=   0.1s\n",
      "[CV 3/5] END max_depth=3, min_samples_split=10, n_estimators=50;, score=(train=0.977, test=0.972) total time=   0.1s\n",
      "[CV 4/5] END max_depth=3, min_samples_split=10, n_estimators=50;, score=(train=0.975, test=0.975) total time=   0.1s\n",
      "[CV 5/5] END max_depth=3, min_samples_split=10, n_estimators=50;, score=(train=0.975, test=0.975) total time=   0.1s\n",
      "[CV 1/5] END max_depth=5, min_samples_split=2, n_estimators=50;, score=(train=0.995, test=0.992) total time=   0.2s\n",
      "[CV 2/5] END max_depth=5, min_samples_split=2, n_estimators=50;, score=(train=0.995, test=0.992) total time=   0.2s\n",
      "[CV 3/5] END max_depth=5, min_samples_split=2, n_estimators=50;, score=(train=0.995, test=0.993) total time=   0.2s\n",
      "[CV 4/5] END max_depth=5, min_samples_split=2, n_estimators=50;, score=(train=0.995, test=0.993) total time=   0.2s\n",
      "[CV 5/5] END max_depth=5, min_samples_split=2, n_estimators=50;, score=(train=0.995, test=0.993) total time=   0.2s\n",
      "[CV 1/5] END max_depth=5, min_samples_split=5, n_estimators=50;, score=(train=0.995, test=0.992) total time=   0.2s\n",
      "[CV 2/5] END max_depth=5, min_samples_split=5, n_estimators=50;, score=(train=0.995, test=0.992) total time=   0.2s\n",
      "[CV 3/5] END max_depth=5, min_samples_split=5, n_estimators=50;, score=(train=0.995, test=0.993) total time=   0.2s\n",
      "[CV 4/5] END max_depth=5, min_samples_split=5, n_estimators=50;, score=(train=0.995, test=0.993) total time=   0.2s\n",
      "[CV 5/5] END max_depth=5, min_samples_split=5, n_estimators=50;, score=(train=0.995, test=0.993) total time=   0.2s\n",
      "[CV 1/5] END max_depth=5, min_samples_split=10, n_estimators=50;, score=(train=0.995, test=0.992) total time=   0.2s\n",
      "[CV 2/5] END max_depth=5, min_samples_split=10, n_estimators=50;, score=(train=0.995, test=0.992) total time=   0.2s\n",
      "[CV 3/5] END max_depth=5, min_samples_split=10, n_estimators=50;, score=(train=0.995, test=0.993) total time=   0.2s\n",
      "[CV 4/5] END max_depth=5, min_samples_split=10, n_estimators=50;, score=(train=0.995, test=0.993) total time=   0.2s\n",
      "[CV 5/5] END max_depth=5, min_samples_split=10, n_estimators=50;, score=(train=0.995, test=0.993) total time=   0.2s\n",
      "[CV 1/5] END max_depth=10, min_samples_split=2, n_estimators=50;, score=(train=0.999, test=0.995) total time=   0.4s\n",
      "[CV 2/5] END max_depth=10, min_samples_split=2, n_estimators=50;, score=(train=0.999, test=0.995) total time=   0.3s\n",
      "[CV 3/5] END max_depth=10, min_samples_split=2, n_estimators=50;, score=(train=0.999, test=0.995) total time=   0.3s\n",
      "[CV 4/5] END max_depth=10, min_samples_split=2, n_estimators=50;, score=(train=0.999, test=0.995) total time=   0.3s\n",
      "[CV 5/5] END max_depth=10, min_samples_split=2, n_estimators=50;, score=(train=0.999, test=0.995) total time=   0.4s\n",
      "[CV 1/5] END max_depth=10, min_samples_split=5, n_estimators=50;, score=(train=0.999, test=0.995) total time=   0.3s\n",
      "[CV 2/5] END max_depth=10, min_samples_split=5, n_estimators=50;, score=(train=0.999, test=0.995) total time=   0.3s\n",
      "[CV 3/5] END max_depth=10, min_samples_split=5, n_estimators=50;, score=(train=0.999, test=0.995) total time=   0.3s\n",
      "[CV 4/5] END max_depth=10, min_samples_split=5, n_estimators=50;, score=(train=0.999, test=0.995) total time=   0.3s\n",
      "[CV 5/5] END max_depth=10, min_samples_split=5, n_estimators=50;, score=(train=0.999, test=0.995) total time=   0.3s\n",
      "[CV 1/5] END max_depth=10, min_samples_split=10, n_estimators=50;, score=(train=0.998, test=0.995) total time=   0.3s\n",
      "[CV 2/5] END max_depth=10, min_samples_split=10, n_estimators=50;, score=(train=0.998, test=0.995) total time=   0.3s\n",
      "[CV 3/5] END max_depth=10, min_samples_split=10, n_estimators=50;, score=(train=0.998, test=0.994) total time=   0.3s\n",
      "[CV 4/5] END max_depth=10, min_samples_split=10, n_estimators=50;, score=(train=0.998, test=0.995) total time=   0.3s\n",
      "[CV 5/5] END max_depth=10, min_samples_split=10, n_estimators=50;, score=(train=0.998, test=0.995) total time=   0.3s\n",
      "[CV 1/5] END max_depth=None, min_samples_split=2, n_estimators=50;, score=(train=0.999, test=0.995) total time=   0.4s\n",
      "[CV 2/5] END max_depth=None, min_samples_split=2, n_estimators=50;, score=(train=0.999, test=0.995) total time=   0.4s\n",
      "[CV 3/5] END max_depth=None, min_samples_split=2, n_estimators=50;, score=(train=0.999, test=0.995) total time=   0.4s\n",
      "[CV 4/5] END max_depth=None, min_samples_split=2, n_estimators=50;, score=(train=0.999, test=0.995) total time=   0.4s\n",
      "[CV 5/5] END max_depth=None, min_samples_split=2, n_estimators=50;, score=(train=0.999, test=0.995) total time=   0.4s\n",
      "[CV 1/5] END max_depth=None, min_samples_split=5, n_estimators=50;, score=(train=0.999, test=0.995) total time=   0.4s\n",
      "[CV 2/5] END max_depth=None, min_samples_split=5, n_estimators=50;, score=(train=0.999, test=0.995) total time=   0.3s\n",
      "[CV 3/5] END max_depth=None, min_samples_split=5, n_estimators=50;, score=(train=0.999, test=0.995) total time=   0.4s\n",
      "[CV 4/5] END max_depth=None, min_samples_split=5, n_estimators=50;, score=(train=0.999, test=0.995) total time=   0.4s\n",
      "[CV 5/5] END max_depth=None, min_samples_split=5, n_estimators=50;, score=(train=0.999, test=0.995) total time=   0.3s\n",
      "[CV 1/5] END max_depth=None, min_samples_split=10, n_estimators=50;, score=(train=0.998, test=0.995) total time=   0.3s\n",
      "[CV 2/5] END max_depth=None, min_samples_split=10, n_estimators=50;, score=(train=0.998, test=0.995) total time=   0.3s\n",
      "[CV 3/5] END max_depth=None, min_samples_split=10, n_estimators=50;, score=(train=0.998, test=0.994) total time=   0.3s\n",
      "[CV 4/5] END max_depth=None, min_samples_split=10, n_estimators=50;, score=(train=0.998, test=0.995) total time=   0.3s\n",
      "[CV 5/5] END max_depth=None, min_samples_split=10, n_estimators=50;, score=(train=0.998, test=0.995) total time=   0.3s\n",
      "----------\n",
      "iter: 1\n",
      "n_candidates: 6\n",
      "n_resources: 100\n",
      "Fitting 5 folds for each of 6 candidates, totalling 30 fits\n",
      "[CV 1/5] END max_depth=None, min_samples_split=10, n_estimators=100;, score=(train=0.998, test=0.995) total time=   0.7s\n",
      "[CV 2/5] END max_depth=None, min_samples_split=10, n_estimators=100;, score=(train=0.998, test=0.995) total time=   0.7s\n",
      "[CV 3/5] END max_depth=None, min_samples_split=10, n_estimators=100;, score=(train=0.998, test=0.994) total time=   0.7s\n",
      "[CV 4/5] END max_depth=None, min_samples_split=10, n_estimators=100;, score=(train=0.998, test=0.995) total time=   0.7s\n",
      "[CV 5/5] END max_depth=None, min_samples_split=10, n_estimators=100;, score=(train=0.998, test=0.995) total time=   0.7s\n",
      "[CV 1/5] END max_depth=10, min_samples_split=10, n_estimators=100;, score=(train=0.998, test=0.995) total time=   0.7s\n",
      "[CV 2/5] END max_depth=10, min_samples_split=10, n_estimators=100;, score=(train=0.998, test=0.995) total time=   0.7s\n"
     ]
    },
    {
     "name": "stdout",
     "output_type": "stream",
     "text": [
      "[CV 3/5] END max_depth=10, min_samples_split=10, n_estimators=100;, score=(train=0.998, test=0.994) total time=   0.7s\n",
      "[CV 4/5] END max_depth=10, min_samples_split=10, n_estimators=100;, score=(train=0.998, test=0.995) total time=   0.7s\n",
      "[CV 5/5] END max_depth=10, min_samples_split=10, n_estimators=100;, score=(train=0.998, test=0.995) total time=   0.7s\n",
      "[CV 1/5] END max_depth=10, min_samples_split=5, n_estimators=100;, score=(train=0.999, test=0.995) total time=   0.8s\n",
      "[CV 2/5] END max_depth=10, min_samples_split=5, n_estimators=100;, score=(train=0.999, test=0.995) total time=   0.7s\n",
      "[CV 3/5] END max_depth=10, min_samples_split=5, n_estimators=100;, score=(train=0.999, test=0.995) total time=   0.8s\n",
      "[CV 4/5] END max_depth=10, min_samples_split=5, n_estimators=100;, score=(train=0.999, test=0.995) total time=   0.8s\n",
      "[CV 5/5] END max_depth=10, min_samples_split=5, n_estimators=100;, score=(train=0.999, test=0.995) total time=   0.7s\n",
      "[CV 1/5] END max_depth=None, min_samples_split=5, n_estimators=100;, score=(train=0.999, test=0.995) total time=   0.8s\n",
      "[CV 2/5] END max_depth=None, min_samples_split=5, n_estimators=100;, score=(train=0.999, test=0.995) total time=   0.8s\n",
      "[CV 3/5] END max_depth=None, min_samples_split=5, n_estimators=100;, score=(train=0.999, test=0.995) total time=   0.8s\n",
      "[CV 4/5] END max_depth=None, min_samples_split=5, n_estimators=100;, score=(train=0.999, test=0.995) total time=   0.8s\n",
      "[CV 5/5] END max_depth=None, min_samples_split=5, n_estimators=100;, score=(train=0.999, test=0.995) total time=   0.8s\n",
      "[CV 1/5] END max_depth=None, min_samples_split=2, n_estimators=100;, score=(train=0.999, test=0.995) total time=   0.9s\n",
      "[CV 2/5] END max_depth=None, min_samples_split=2, n_estimators=100;, score=(train=0.999, test=0.995) total time=   0.9s\n",
      "[CV 3/5] END max_depth=None, min_samples_split=2, n_estimators=100;, score=(train=0.999, test=0.995) total time=   0.9s\n",
      "[CV 4/5] END max_depth=None, min_samples_split=2, n_estimators=100;, score=(train=0.999, test=0.995) total time=   0.9s\n",
      "[CV 5/5] END max_depth=None, min_samples_split=2, n_estimators=100;, score=(train=0.999, test=0.995) total time=   1.0s\n",
      "[CV 1/5] END max_depth=10, min_samples_split=2, n_estimators=100;, score=(train=0.999, test=0.995) total time=   0.8s\n",
      "[CV 2/5] END max_depth=10, min_samples_split=2, n_estimators=100;, score=(train=0.999, test=0.995) total time=   0.8s\n",
      "[CV 3/5] END max_depth=10, min_samples_split=2, n_estimators=100;, score=(train=0.999, test=0.995) total time=   0.8s\n",
      "[CV 4/5] END max_depth=10, min_samples_split=2, n_estimators=100;, score=(train=0.999, test=0.995) total time=   0.9s\n",
      "[CV 5/5] END max_depth=10, min_samples_split=2, n_estimators=100;, score=(train=0.999, test=0.995) total time=   0.8s\n",
      "----------\n",
      "iter: 2\n",
      "n_candidates: 3\n",
      "n_resources: 200\n",
      "Fitting 5 folds for each of 3 candidates, totalling 15 fits\n",
      "[CV 1/5] END max_depth=None, min_samples_split=5, n_estimators=200;, score=(train=0.999, test=0.995) total time=   1.7s\n",
      "[CV 2/5] END max_depth=None, min_samples_split=5, n_estimators=200;, score=(train=0.999, test=0.995) total time=   1.7s\n",
      "[CV 3/5] END max_depth=None, min_samples_split=5, n_estimators=200;, score=(train=0.999, test=0.995) total time=   1.7s\n",
      "[CV 4/5] END max_depth=None, min_samples_split=5, n_estimators=200;, score=(train=0.999, test=0.995) total time=   1.7s\n",
      "[CV 5/5] END max_depth=None, min_samples_split=5, n_estimators=200;, score=(train=0.999, test=0.995) total time=   1.7s\n",
      "[CV 1/5] END max_depth=None, min_samples_split=2, n_estimators=200;, score=(train=0.999, test=0.995) total time=   2.0s\n",
      "[CV 2/5] END max_depth=None, min_samples_split=2, n_estimators=200;, score=(train=0.999, test=0.995) total time=   2.0s\n",
      "[CV 3/5] END max_depth=None, min_samples_split=2, n_estimators=200;, score=(train=0.999, test=0.995) total time=   2.0s\n",
      "[CV 4/5] END max_depth=None, min_samples_split=2, n_estimators=200;, score=(train=0.999, test=0.995) total time=   2.0s\n",
      "[CV 5/5] END max_depth=None, min_samples_split=2, n_estimators=200;, score=(train=0.999, test=0.995) total time=   2.0s\n",
      "[CV 1/5] END max_depth=10, min_samples_split=2, n_estimators=200;, score=(train=0.999, test=0.995) total time=   1.7s\n",
      "[CV 2/5] END max_depth=10, min_samples_split=2, n_estimators=200;, score=(train=0.999, test=0.995) total time=   1.7s\n",
      "[CV 3/5] END max_depth=10, min_samples_split=2, n_estimators=200;, score=(train=0.999, test=0.995) total time=   1.7s\n",
      "[CV 4/5] END max_depth=10, min_samples_split=2, n_estimators=200;, score=(train=0.999, test=0.995) total time=   1.7s\n",
      "[CV 5/5] END max_depth=10, min_samples_split=2, n_estimators=200;, score=(train=0.999, test=0.995) total time=   1.8s\n",
      "----------\n",
      "iter: 3\n",
      "n_candidates: 2\n",
      "n_resources: 400\n",
      "Fitting 5 folds for each of 2 candidates, totalling 10 fits\n",
      "[CV 1/5] END max_depth=None, min_samples_split=2, n_estimators=400;, score=(train=0.999, test=0.995) total time=   4.0s\n",
      "[CV 2/5] END max_depth=None, min_samples_split=2, n_estimators=400;, score=(train=0.999, test=0.995) total time=   4.0s\n",
      "[CV 3/5] END max_depth=None, min_samples_split=2, n_estimators=400;, score=(train=0.999, test=0.995) total time=   4.2s\n",
      "[CV 4/5] END max_depth=None, min_samples_split=2, n_estimators=400;, score=(train=0.999, test=0.995) total time=   4.1s\n",
      "[CV 5/5] END max_depth=None, min_samples_split=2, n_estimators=400;, score=(train=0.999, test=0.995) total time=   3.9s\n",
      "[CV 1/5] END max_depth=10, min_samples_split=2, n_estimators=400;, score=(train=0.999, test=0.995) total time=   3.4s\n",
      "[CV 2/5] END max_depth=10, min_samples_split=2, n_estimators=400;, score=(train=0.999, test=0.995) total time=   3.4s\n",
      "[CV 3/5] END max_depth=10, min_samples_split=2, n_estimators=400;, score=(train=0.999, test=0.995) total time=   3.5s\n",
      "[CV 4/5] END max_depth=10, min_samples_split=2, n_estimators=400;, score=(train=0.999, test=0.995) total time=   3.5s\n",
      "[CV 5/5] END max_depth=10, min_samples_split=2, n_estimators=400;, score=(train=0.999, test=0.995) total time=   3.4s\n"
     ]
    },
    {
     "data": {
      "text/plain": [
       "HalvingGridSearchCV(estimator=RandomForestRegressor(random_state=1212),\n",
       "                    factor=2, max_resources=1000, min_resources=50,\n",
       "                    param_grid={'max_depth': [3, 5, 10, None],\n",
       "                                'min_samples_split': [2, 5, 10]},\n",
       "                    resource='n_estimators', verbose=3)"
      ]
     },
     "execution_count": 118,
     "metadata": {},
     "output_type": "execute_result"
    }
   ],
   "source": [
    "param_grid = {'max_depth': [3,5,10, None],\n",
    "              'min_samples_split': [2,5,10]}\n",
    "\n",
    "rf = RandomForestRegressor(random_state=1212)\n",
    "\n",
    "sh = HalvingGridSearchCV(rf, param_grid, cv=5,\n",
    "                         factor=2, resource='n_estimators',\n",
    "                         min_resources=50,\n",
    "                         max_resources=1000, verbose=3)\n",
    "\n",
    "sh.fit(X_train, y_train)"
   ]
  },
  {
   "cell_type": "code",
   "execution_count": 119,
   "id": "fa81cace",
   "metadata": {
    "ExecuteTime": {
     "end_time": "2022-07-18T01:40:33.346665Z",
     "start_time": "2022-07-18T01:40:33.334750Z"
    }
   },
   "outputs": [
    {
     "data": {
      "text/plain": [
       "{'max_depth': None, 'min_samples_split': 2, 'n_estimators': 400}"
      ]
     },
     "execution_count": 119,
     "metadata": {},
     "output_type": "execute_result"
    }
   ],
   "source": [
    "sh.best_params_"
   ]
  },
  {
   "cell_type": "code",
   "execution_count": 120,
   "id": "de21717a",
   "metadata": {
    "ExecuteTime": {
     "end_time": "2022-07-18T01:41:01.053340Z",
     "start_time": "2022-07-18T01:40:55.958799Z"
    }
   },
   "outputs": [
    {
     "data": {
      "text/plain": [
       "0.3720883744126777"
      ]
     },
     "execution_count": 120,
     "metadata": {},
     "output_type": "execute_result"
    }
   ],
   "source": [
    "# initialize\n",
    "rf = RandomForestRegressor(n_estimators=400,\n",
    "                           max_depth=None,\n",
    "                           min_samples_split=2)\n",
    "\n",
    "# fit\n",
    "rf.fit(X_train, y_train)\n",
    "\n",
    "# score\n",
    "rf.score(X_test, y_test)"
   ]
  },
  {
   "cell_type": "code",
   "execution_count": 121,
   "id": "821f8c5b",
   "metadata": {
    "ExecuteTime": {
     "end_time": "2022-07-18T01:41:17.429510Z",
     "start_time": "2022-07-18T01:41:17.318906Z"
    }
   },
   "outputs": [
    {
     "data": {
      "text/html": [
       "<div>\n",
       "<style scoped>\n",
       "    .dataframe tbody tr th:only-of-type {\n",
       "        vertical-align: middle;\n",
       "    }\n",
       "\n",
       "    .dataframe tbody tr th {\n",
       "        vertical-align: top;\n",
       "    }\n",
       "\n",
       "    .dataframe thead th {\n",
       "        text-align: right;\n",
       "    }\n",
       "</style>\n",
       "<table border=\"1\" class=\"dataframe\">\n",
       "  <thead>\n",
       "    <tr style=\"text-align: right;\">\n",
       "      <th></th>\n",
       "      <th>0</th>\n",
       "    </tr>\n",
       "  </thead>\n",
       "  <tbody>\n",
       "    <tr>\n",
       "      <th>runs_total_pg</th>\n",
       "      <td>0.993725</td>\n",
       "    </tr>\n",
       "    <tr>\n",
       "      <th>opprpg</th>\n",
       "      <td>0.003342</td>\n",
       "    </tr>\n",
       "    <tr>\n",
       "      <th>year_id</th>\n",
       "      <td>0.001081</td>\n",
       "    </tr>\n",
       "    <tr>\n",
       "      <th>waa_pg_2yr</th>\n",
       "      <td>0.000519</td>\n",
       "    </tr>\n",
       "    <tr>\n",
       "      <th>waa_pg_3yr</th>\n",
       "      <td>0.000502</td>\n",
       "    </tr>\n",
       "    <tr>\n",
       "      <th>waa_pg_1yr</th>\n",
       "      <td>0.000495</td>\n",
       "    </tr>\n",
       "    <tr>\n",
       "      <th>age</th>\n",
       "      <td>0.000336</td>\n",
       "    </tr>\n",
       "  </tbody>\n",
       "</table>\n",
       "</div>"
      ],
      "text/plain": [
       "                      0\n",
       "runs_total_pg  0.993725\n",
       "opprpg         0.003342\n",
       "year_id        0.001081\n",
       "waa_pg_2yr     0.000519\n",
       "waa_pg_3yr     0.000502\n",
       "waa_pg_1yr     0.000495\n",
       "age            0.000336"
      ]
     },
     "execution_count": 121,
     "metadata": {},
     "output_type": "execute_result"
    }
   ],
   "source": [
    "pd.DataFrame(rf.feature_importances_, index=X_train.columns).sort_values(0,ascending=False).head(10)"
   ]
  },
  {
   "cell_type": "markdown",
   "id": "41235eda",
   "metadata": {},
   "source": [
    "## SVM"
   ]
  },
  {
   "cell_type": "code",
   "execution_count": 122,
   "id": "bf4b8368",
   "metadata": {
    "ExecuteTime": {
     "end_time": "2022-07-18T01:41:53.409392Z",
     "start_time": "2022-07-18T01:41:53.383392Z"
    }
   },
   "outputs": [
    {
     "data": {
      "text/plain": [
       "-0.052946710119773366"
      ]
     },
     "execution_count": 122,
     "metadata": {},
     "output_type": "execute_result"
    }
   ],
   "source": [
    "# initialize\n",
    "svr = SVR()\n",
    "\n",
    "# fit\n",
    "svr.fit(X_train, y_train)\n",
    "\n",
    "# score\n",
    "svr.score(X_test,y_test)"
   ]
  },
  {
   "cell_type": "code",
   "execution_count": 145,
   "id": "ac452a53",
   "metadata": {
    "ExecuteTime": {
     "end_time": "2022-07-18T01:45:09.853918Z",
     "start_time": "2022-07-18T01:45:09.230919Z"
    },
    "scrolled": true
   },
   "outputs": [
    {
     "name": "stdout",
     "output_type": "stream",
     "text": [
      "Fitting 5 folds for each of 18 candidates, totalling 90 fits\n",
      "[CV 1/5] END C=1e-11, epsilon=1.0, gamma=scale;, score=-0.044 total time=   0.0s\n",
      "[CV 2/5] END C=1e-11, epsilon=1.0, gamma=scale;, score=-0.074 total time=   0.0s\n",
      "[CV 3/5] END C=1e-11, epsilon=1.0, gamma=scale;, score=-0.002 total time=   0.0s\n",
      "[CV 4/5] END C=1e-11, epsilon=1.0, gamma=scale;, score=-0.059 total time=   0.0s\n",
      "[CV 5/5] END C=1e-11, epsilon=1.0, gamma=scale;, score=-0.057 total time=   0.0s\n",
      "[CV 1/5] END .C=1e-11, epsilon=1.0, gamma=auto;, score=-0.044 total time=   0.0s\n",
      "[CV 2/5] END .C=1e-11, epsilon=1.0, gamma=auto;, score=-0.074 total time=   0.0s\n",
      "[CV 3/5] END .C=1e-11, epsilon=1.0, gamma=auto;, score=-0.002 total time=   0.0s\n",
      "[CV 4/5] END .C=1e-11, epsilon=1.0, gamma=auto;, score=-0.059 total time=   0.0s\n",
      "[CV 5/5] END .C=1e-11, epsilon=1.0, gamma=auto;, score=-0.057 total time=   0.0s\n",
      "[CV 1/5] END C=1e-11, epsilon=10.0, gamma=scale;, score=-0.044 total time=   0.0s\n",
      "[CV 2/5] END C=1e-11, epsilon=10.0, gamma=scale;, score=-0.074 total time=   0.0s\n",
      "[CV 3/5] END C=1e-11, epsilon=10.0, gamma=scale;, score=-0.002 total time=   0.0s\n",
      "[CV 4/5] END C=1e-11, epsilon=10.0, gamma=scale;, score=-0.059 total time=   0.0s\n",
      "[CV 5/5] END C=1e-11, epsilon=10.0, gamma=scale;, score=-0.057 total time=   0.0s\n",
      "[CV 1/5] END C=1e-11, epsilon=10.0, gamma=auto;, score=-0.044 total time=   0.0s\n",
      "[CV 2/5] END C=1e-11, epsilon=10.0, gamma=auto;, score=-0.074 total time=   0.0s\n",
      "[CV 3/5] END C=1e-11, epsilon=10.0, gamma=auto;, score=-0.002 total time=   0.0s\n",
      "[CV 4/5] END C=1e-11, epsilon=10.0, gamma=auto;, score=-0.059 total time=   0.0s\n",
      "[CV 5/5] END C=1e-11, epsilon=10.0, gamma=auto;, score=-0.057 total time=   0.0s\n",
      "[CV 1/5] END C=1e-11, epsilon=100.0, gamma=scale;, score=-0.044 total time=   0.0s\n",
      "[CV 2/5] END C=1e-11, epsilon=100.0, gamma=scale;, score=-0.074 total time=   0.0s\n",
      "[CV 3/5] END C=1e-11, epsilon=100.0, gamma=scale;, score=-0.002 total time=   0.0s\n",
      "[CV 4/5] END C=1e-11, epsilon=100.0, gamma=scale;, score=-0.059 total time=   0.0s\n",
      "[CV 5/5] END C=1e-11, epsilon=100.0, gamma=scale;, score=-0.057 total time=   0.0s\n",
      "[CV 1/5] END C=1e-11, epsilon=100.0, gamma=auto;, score=-0.044 total time=   0.0s\n",
      "[CV 2/5] END C=1e-11, epsilon=100.0, gamma=auto;, score=-0.074 total time=   0.0s\n",
      "[CV 3/5] END C=1e-11, epsilon=100.0, gamma=auto;, score=-0.002 total time=   0.0s\n",
      "[CV 4/5] END C=1e-11, epsilon=100.0, gamma=auto;, score=-0.059 total time=   0.0s\n",
      "[CV 5/5] END C=1e-11, epsilon=100.0, gamma=auto;, score=-0.057 total time=   0.0s\n",
      "[CV 1/5] END C=1e-10, epsilon=1.0, gamma=scale;, score=-0.044 total time=   0.0s\n",
      "[CV 2/5] END C=1e-10, epsilon=1.0, gamma=scale;, score=-0.074 total time=   0.0s\n",
      "[CV 3/5] END C=1e-10, epsilon=1.0, gamma=scale;, score=-0.002 total time=   0.0s\n",
      "[CV 4/5] END C=1e-10, epsilon=1.0, gamma=scale;, score=-0.059 total time=   0.0s\n",
      "[CV 5/5] END C=1e-10, epsilon=1.0, gamma=scale;, score=-0.057 total time=   0.0s\n",
      "[CV 1/5] END .C=1e-10, epsilon=1.0, gamma=auto;, score=-0.044 total time=   0.0s\n",
      "[CV 2/5] END .C=1e-10, epsilon=1.0, gamma=auto;, score=-0.074 total time=   0.0s\n",
      "[CV 3/5] END .C=1e-10, epsilon=1.0, gamma=auto;, score=-0.002 total time=   0.0s\n",
      "[CV 4/5] END .C=1e-10, epsilon=1.0, gamma=auto;, score=-0.059 total time=   0.0s\n",
      "[CV 5/5] END .C=1e-10, epsilon=1.0, gamma=auto;, score=-0.057 total time=   0.0s\n",
      "[CV 1/5] END C=1e-10, epsilon=10.0, gamma=scale;, score=-0.044 total time=   0.0s\n",
      "[CV 2/5] END C=1e-10, epsilon=10.0, gamma=scale;, score=-0.074 total time=   0.0s\n",
      "[CV 3/5] END C=1e-10, epsilon=10.0, gamma=scale;, score=-0.002 total time=   0.0s\n",
      "[CV 4/5] END C=1e-10, epsilon=10.0, gamma=scale;, score=-0.059 total time=   0.0s\n",
      "[CV 5/5] END C=1e-10, epsilon=10.0, gamma=scale;, score=-0.057 total time=   0.0s\n",
      "[CV 1/5] END C=1e-10, epsilon=10.0, gamma=auto;, score=-0.044 total time=   0.0s\n",
      "[CV 2/5] END C=1e-10, epsilon=10.0, gamma=auto;, score=-0.074 total time=   0.0s\n",
      "[CV 3/5] END C=1e-10, epsilon=10.0, gamma=auto;, score=-0.002 total time=   0.0s\n",
      "[CV 4/5] END C=1e-10, epsilon=10.0, gamma=auto;, score=-0.059 total time=   0.0s\n",
      "[CV 5/5] END C=1e-10, epsilon=10.0, gamma=auto;, score=-0.057 total time=   0.0s\n",
      "[CV 1/5] END C=1e-10, epsilon=100.0, gamma=scale;, score=-0.044 total time=   0.0s\n",
      "[CV 2/5] END C=1e-10, epsilon=100.0, gamma=scale;, score=-0.074 total time=   0.0s\n",
      "[CV 3/5] END C=1e-10, epsilon=100.0, gamma=scale;, score=-0.002 total time=   0.0s\n",
      "[CV 4/5] END C=1e-10, epsilon=100.0, gamma=scale;, score=-0.059 total time=   0.0s\n",
      "[CV 5/5] END C=1e-10, epsilon=100.0, gamma=scale;, score=-0.057 total time=   0.0s\n",
      "[CV 1/5] END C=1e-10, epsilon=100.0, gamma=auto;, score=-0.044 total time=   0.0s\n",
      "[CV 2/5] END C=1e-10, epsilon=100.0, gamma=auto;, score=-0.074 total time=   0.0s\n",
      "[CV 3/5] END C=1e-10, epsilon=100.0, gamma=auto;, score=-0.002 total time=   0.0s\n",
      "[CV 4/5] END C=1e-10, epsilon=100.0, gamma=auto;, score=-0.059 total time=   0.0s\n",
      "[CV 5/5] END C=1e-10, epsilon=100.0, gamma=auto;, score=-0.057 total time=   0.0s\n",
      "[CV 1/5] END C=1e-09, epsilon=1.0, gamma=scale;, score=-0.044 total time=   0.0s\n",
      "[CV 2/5] END C=1e-09, epsilon=1.0, gamma=scale;, score=-0.074 total time=   0.0s\n",
      "[CV 3/5] END C=1e-09, epsilon=1.0, gamma=scale;, score=-0.002 total time=   0.0s\n",
      "[CV 4/5] END C=1e-09, epsilon=1.0, gamma=scale;, score=-0.059 total time=   0.0s\n",
      "[CV 5/5] END C=1e-09, epsilon=1.0, gamma=scale;, score=-0.057 total time=   0.0s\n",
      "[CV 1/5] END .C=1e-09, epsilon=1.0, gamma=auto;, score=-0.044 total time=   0.0s\n",
      "[CV 2/5] END .C=1e-09, epsilon=1.0, gamma=auto;, score=-0.074 total time=   0.0s\n",
      "[CV 3/5] END .C=1e-09, epsilon=1.0, gamma=auto;, score=-0.002 total time=   0.0s\n",
      "[CV 4/5] END .C=1e-09, epsilon=1.0, gamma=auto;, score=-0.059 total time=   0.0s\n",
      "[CV 5/5] END .C=1e-09, epsilon=1.0, gamma=auto;, score=-0.057 total time=   0.0s\n",
      "[CV 1/5] END C=1e-09, epsilon=10.0, gamma=scale;, score=-0.044 total time=   0.0s\n",
      "[CV 2/5] END C=1e-09, epsilon=10.0, gamma=scale;, score=-0.074 total time=   0.0s\n",
      "[CV 3/5] END C=1e-09, epsilon=10.0, gamma=scale;, score=-0.002 total time=   0.0s\n",
      "[CV 4/5] END C=1e-09, epsilon=10.0, gamma=scale;, score=-0.059 total time=   0.0s\n",
      "[CV 5/5] END C=1e-09, epsilon=10.0, gamma=scale;, score=-0.057 total time=   0.0s\n",
      "[CV 1/5] END C=1e-09, epsilon=10.0, gamma=auto;, score=-0.044 total time=   0.0s\n",
      "[CV 2/5] END C=1e-09, epsilon=10.0, gamma=auto;, score=-0.074 total time=   0.0s\n",
      "[CV 3/5] END C=1e-09, epsilon=10.0, gamma=auto;, score=-0.002 total time=   0.0s\n",
      "[CV 4/5] END C=1e-09, epsilon=10.0, gamma=auto;, score=-0.059 total time=   0.0s\n",
      "[CV 5/5] END C=1e-09, epsilon=10.0, gamma=auto;, score=-0.057 total time=   0.0s\n",
      "[CV 1/5] END C=1e-09, epsilon=100.0, gamma=scale;, score=-0.044 total time=   0.0s\n",
      "[CV 2/5] END C=1e-09, epsilon=100.0, gamma=scale;, score=-0.074 total time=   0.0s\n",
      "[CV 3/5] END C=1e-09, epsilon=100.0, gamma=scale;, score=-0.002 total time=   0.0s\n",
      "[CV 4/5] END C=1e-09, epsilon=100.0, gamma=scale;, score=-0.059 total time=   0.0s\n",
      "[CV 5/5] END C=1e-09, epsilon=100.0, gamma=scale;, score=-0.057 total time=   0.0s\n",
      "[CV 1/5] END C=1e-09, epsilon=100.0, gamma=auto;, score=-0.044 total time=   0.0s\n",
      "[CV 2/5] END C=1e-09, epsilon=100.0, gamma=auto;, score=-0.074 total time=   0.0s\n",
      "[CV 3/5] END C=1e-09, epsilon=100.0, gamma=auto;, score=-0.002 total time=   0.0s\n",
      "[CV 4/5] END C=1e-09, epsilon=100.0, gamma=auto;, score=-0.059 total time=   0.0s\n",
      "[CV 5/5] END C=1e-09, epsilon=100.0, gamma=auto;, score=-0.057 total time=   0.0s\n"
     ]
    },
    {
     "data": {
      "text/plain": [
       "GridSearchCV(cv=5, estimator=SVR(),\n",
       "             param_grid={'C': array([1.e-11, 1.e-10, 1.e-09]),\n",
       "                         'epsilon': array([  1.,  10., 100.]),\n",
       "                         'gamma': ['scale', 'auto']},\n",
       "             verbose=3)"
      ]
     },
     "execution_count": 145,
     "metadata": {},
     "output_type": "execute_result"
    }
   ],
   "source": [
    "param_grid = {'epsilon': np.logspace(0,2,3),\n",
    "              'C': np.logspace(-11,-9,3),\n",
    "              'gamma': ['scale','auto']}\n",
    "\n",
    "svr = SVR()\n",
    "\n",
    "gs = GridSearchCV(svr, param_grid, cv=5,\n",
    "                  verbose=3)\n",
    "\n",
    "gs.fit(X_train, y_train)"
   ]
  },
  {
   "cell_type": "code",
   "execution_count": 144,
   "id": "77530b97",
   "metadata": {
    "ExecuteTime": {
     "end_time": "2022-07-18T01:45:01.835121Z",
     "start_time": "2022-07-18T01:45:01.823123Z"
    }
   },
   "outputs": [
    {
     "data": {
      "text/plain": [
       "{'C': 1e-10, 'epsilon': 10.0, 'gamma': 'scale'}"
      ]
     },
     "execution_count": 144,
     "metadata": {},
     "output_type": "execute_result"
    }
   ],
   "source": [
    "gs.best_params_"
   ]
  },
  {
   "cell_type": "code",
   "execution_count": 147,
   "id": "8327d5b9",
   "metadata": {
    "ExecuteTime": {
     "end_time": "2022-07-18T01:45:30.079603Z",
     "start_time": "2022-07-18T01:45:30.069604Z"
    }
   },
   "outputs": [
    {
     "data": {
      "text/plain": [
       "-0.04709369427739065"
      ]
     },
     "execution_count": 147,
     "metadata": {},
     "output_type": "execute_result"
    }
   ],
   "source": [
    "gs.best_score_"
   ]
  },
  {
   "cell_type": "code",
   "execution_count": 146,
   "id": "093c876b",
   "metadata": {
    "ExecuteTime": {
     "end_time": "2022-07-18T01:45:25.316036Z",
     "start_time": "2022-07-18T01:45:25.288096Z"
    }
   },
   "outputs": [
    {
     "data": {
      "text/plain": [
       "-0.05294671011975538"
      ]
     },
     "execution_count": 146,
     "metadata": {},
     "output_type": "execute_result"
    }
   ],
   "source": [
    "# initialize\n",
    "svr = SVR(C=1e-10, epsilon = 10, gamma = 'scale')\n",
    "\n",
    "# fit\n",
    "svr.fit(X_train, y_train)\n",
    "\n",
    "# score\n",
    "svr.score(X_test,y_test)"
   ]
  }
 ],
 "metadata": {
  "kernelspec": {
   "display_name": "Python 3 (ipykernel)",
   "language": "python",
   "name": "python3"
  },
  "language_info": {
   "codemirror_mode": {
    "name": "ipython",
    "version": 3
   },
   "file_extension": ".py",
   "mimetype": "text/x-python",
   "name": "python",
   "nbconvert_exporter": "python",
   "pygments_lexer": "ipython3",
   "version": "3.9.12"
  },
  "toc": {
   "base_numbering": 1,
   "nav_menu": {},
   "number_sections": true,
   "sideBar": true,
   "skip_h1_title": false,
   "title_cell": "Table of Contents",
   "title_sidebar": "Contents",
   "toc_cell": false,
   "toc_position": {
    "height": "calc(100% - 180px)",
    "left": "10px",
    "top": "150px",
    "width": "349.091px"
   },
   "toc_section_display": true,
   "toc_window_display": true
  }
 },
 "nbformat": 4,
 "nbformat_minor": 5
}
