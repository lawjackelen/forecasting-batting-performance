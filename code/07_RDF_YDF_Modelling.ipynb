{
 "cells": [
  {
   "cell_type": "markdown",
   "id": "b677737f",
   "metadata": {},
   "source": [
    "# Imports"
   ]
  },
  {
   "cell_type": "code",
   "execution_count": 1,
   "id": "a3c062ac",
   "metadata": {
    "ExecuteTime": {
     "end_time": "2022-07-20T08:11:59.141601Z",
     "start_time": "2022-07-20T08:11:57.096593Z"
    }
   },
   "outputs": [],
   "source": [
    "import pandas as pd\n",
    "import numpy as np\n",
    "np.random.seed(2121)\n",
    "\n",
    "from sklearn.linear_model import LinearRegression, LassoCV\n",
    "from sklearn.model_selection import GridSearchCV, cross_val_score\n",
    "from sklearn.ensemble import RandomForestRegressor\n",
    "from sklearn.svm import SVR\n",
    "from sklearn.metrics import r2_score\n",
    "\n",
    "from sklearn.experimental import enable_halving_search_cv  # noqa\n",
    "from sklearn.model_selection import HalvingGridSearchCV"
   ]
  },
  {
   "cell_type": "code",
   "execution_count": 2,
   "id": "ef686586",
   "metadata": {
    "ExecuteTime": {
     "end_time": "2022-07-20T08:11:59.237597Z",
     "start_time": "2022-07-20T08:11:59.145593Z"
    }
   },
   "outputs": [],
   "source": [
    "# import files\n",
    "rdf_ydf = pd.read_csv('../data/rdf_ydf_preprocessed.csv')\n",
    "baseline = pd.read_csv('../data/X_test_rdf_ydf_for_baseline.csv')"
   ]
  },
  {
   "cell_type": "code",
   "execution_count": 3,
   "id": "6e49cb28",
   "metadata": {
    "ExecuteTime": {
     "end_time": "2022-07-20T08:11:59.253613Z",
     "start_time": "2022-07-20T08:11:59.239592Z"
    }
   },
   "outputs": [],
   "source": [
    "rdf_ydf.set_index('Unnamed: 0', inplace=True)\n",
    "rdf_ydf.index.name = None\n",
    "\n",
    "baseline.set_index('Unnamed: 0', inplace=True)\n",
    "baseline.index.name = None"
   ]
  },
  {
   "cell_type": "code",
   "execution_count": 4,
   "id": "bb5e0d2b",
   "metadata": {
    "ExecuteTime": {
     "end_time": "2022-07-20T08:11:59.285592Z",
     "start_time": "2022-07-20T08:11:59.257593Z"
    }
   },
   "outputs": [],
   "source": [
    "rdf_target = 'runs_total_pg'\n",
    "rdf_cols = ['runs_bat_pg_1yr',\n",
    "       'runs_bat_pg_2yr', 'runs_bat_pg_3yr', 'runs_br_pg_1yr',\n",
    "       'runs_br_pg_2yr', 'runs_br_pg_3yr', 'runs_dp_pg_1yr', 'runs_dp_pg_2yr',\n",
    "       'runs_dp_pg_3yr', 'runs_defense_pg_1yr', 'runs_defense_pg_2yr',\n",
    "       'runs_defense_pg_3yr', 'runs_position_pg_1yr', 'runs_position_pg_2yr',\n",
    "       'runs_position_pg_3yr']\n",
    "\n",
    "y_rdf_train = rdf_ydf[rdf_ydf.is_train==1][rdf_target]\n",
    "X_rdf_train = rdf_ydf[rdf_ydf.is_train==1][rdf_cols]\n",
    "y_rdf_test = rdf_ydf[rdf_ydf.is_train==0][rdf_target]\n",
    "X_rdf_test = rdf_ydf[rdf_ydf.is_train==0][rdf_cols]\n",
    "\n",
    "\n",
    "ydf_target = 'opprpg'\n",
    "ydf_cols = ['opprpg_1yr', 'opprpg_2yr', 'opprpg_3yr']\n",
    "\n",
    "y_ydf_train = rdf_ydf[rdf_ydf.is_train==1][ydf_target]\n",
    "X_ydf_train = rdf_ydf[rdf_ydf.is_train==1][ydf_cols]\n",
    "y_ydf_test = rdf_ydf[rdf_ydf.is_train==0][ydf_target]\n",
    "X_ydf_test = rdf_ydf[rdf_ydf.is_train==0][ydf_cols]"
   ]
  },
  {
   "cell_type": "code",
   "execution_count": 5,
   "id": "2e88eee4",
   "metadata": {
    "ExecuteTime": {
     "end_time": "2022-07-20T08:11:59.317592Z",
     "start_time": "2022-07-20T08:11:59.287591Z"
    }
   },
   "outputs": [],
   "source": [
    "odf_target = 'waa_pg'\n",
    "odf_cols = [c for c in rdf_ydf.columns if c not in ydf_cols\n",
    "                    if c not in rdf_cols\n",
    "                    if c not in [rdf_target, ydf_target,odf_target,'is_train']]\n",
    "\n",
    "y_odf_train = rdf_ydf[rdf_ydf.is_train==1][odf_target]\n",
    "X_odf_train = rdf_ydf[rdf_ydf.is_train==1][odf_cols]\n",
    "y_odf_test = rdf_ydf[rdf_ydf.is_train==0][odf_target]\n",
    "X_odf_test = rdf_ydf[rdf_ydf.is_train==0][odf_cols]"
   ]
  },
  {
   "cell_type": "markdown",
   "id": "e63884a2",
   "metadata": {},
   "source": [
    "# RDF Modeling"
   ]
  },
  {
   "cell_type": "markdown",
   "id": "17c26085",
   "metadata": {},
   "source": [
    "## Linear Regression"
   ]
  },
  {
   "cell_type": "code",
   "execution_count": 6,
   "id": "03628ae9",
   "metadata": {
    "ExecuteTime": {
     "end_time": "2022-07-20T08:11:59.365592Z",
     "start_time": "2022-07-20T08:11:59.320592Z"
    }
   },
   "outputs": [
    {
     "data": {
      "text/plain": [
       "0.3703784439562483"
      ]
     },
     "execution_count": 6,
     "metadata": {},
     "output_type": "execute_result"
    }
   ],
   "source": [
    "# initialize\n",
    "lr_rdf = LinearRegression()\n",
    "\n",
    "# fit\n",
    "lr_rdf.fit(X_rdf_train, y_rdf_train)\n",
    "\n",
    "# score\n",
    "lr_rdf.score(X_rdf_test,y_rdf_test)"
   ]
  },
  {
   "cell_type": "markdown",
   "id": "86062a18",
   "metadata": {},
   "source": [
    "### Lasso Regularization"
   ]
  },
  {
   "cell_type": "code",
   "execution_count": 7,
   "id": "dc53ea4a",
   "metadata": {
    "ExecuteTime": {
     "end_time": "2022-07-20T08:12:00.065593Z",
     "start_time": "2022-07-20T08:11:59.368593Z"
    }
   },
   "outputs": [
    {
     "name": "stdout",
     "output_type": "stream",
     "text": [
      "Best Alpha: 0.0004\n",
      "CV Score: 0.3533\n"
     ]
    }
   ],
   "source": [
    "# initialize\n",
    "lasso_cv = LassoCV()\n",
    "\n",
    "# cv\n",
    "scores = cross_val_score(lasso_cv, X_rdf_train, y_rdf_train)\n",
    "\n",
    "# fit\n",
    "lasso_cv.fit(X_rdf_train, y_rdf_train)\n",
    "\n",
    "# best attributes\n",
    "print(f'Best Alpha: {lasso_cv.alpha_:.4f}')\n",
    "print(f'CV Score: {scores.mean():.4f}')"
   ]
  },
  {
   "cell_type": "code",
   "execution_count": 8,
   "id": "8d9eb433",
   "metadata": {
    "ExecuteTime": {
     "end_time": "2022-07-20T08:12:00.081592Z",
     "start_time": "2022-07-20T08:12:00.068592Z"
    }
   },
   "outputs": [],
   "source": [
    "rdf_lasso_cols = [col for col, coef in zip(X_rdf_train.columns, lasso_cv.coef_) if coef]"
   ]
  },
  {
   "cell_type": "code",
   "execution_count": 9,
   "id": "fc5917cf",
   "metadata": {
    "ExecuteTime": {
     "end_time": "2022-07-20T08:12:00.113592Z",
     "start_time": "2022-07-20T08:12:00.083592Z"
    }
   },
   "outputs": [
    {
     "data": {
      "text/plain": [
       "0.37106854317360527"
      ]
     },
     "execution_count": 9,
     "metadata": {},
     "output_type": "execute_result"
    }
   ],
   "source": [
    "lr_rdf_lasso = LinearRegression()\n",
    "\n",
    "lr_rdf_lasso.fit(X_rdf_train[rdf_lasso_cols], y_rdf_train)\n",
    "\n",
    "lr_rdf_lasso.score(X_rdf_test[rdf_lasso_cols],y_rdf_test)"
   ]
  },
  {
   "cell_type": "markdown",
   "id": "7b21f825",
   "metadata": {},
   "source": [
    "Lasso feature selection does improve the models score slightly!"
   ]
  },
  {
   "cell_type": "markdown",
   "id": "81ae0149",
   "metadata": {},
   "source": [
    "## Random Forest"
   ]
  },
  {
   "cell_type": "code",
   "execution_count": 10,
   "id": "e2363da2",
   "metadata": {
    "ExecuteTime": {
     "end_time": "2022-07-20T08:12:03.162593Z",
     "start_time": "2022-07-20T08:12:00.120591Z"
    }
   },
   "outputs": [
    {
     "data": {
      "text/plain": [
       "0.32037187447786997"
      ]
     },
     "execution_count": 10,
     "metadata": {},
     "output_type": "execute_result"
    }
   ],
   "source": [
    "# initialize\n",
    "rf_rdf = RandomForestRegressor()\n",
    "\n",
    "# fit\n",
    "rf_rdf.fit(X_rdf_train, y_rdf_train)\n",
    "\n",
    "# score\n",
    "rf_rdf.score(X_rdf_test,y_rdf_test)"
   ]
  },
  {
   "cell_type": "markdown",
   "id": "38ec5e01",
   "metadata": {},
   "source": [
    "**Run this only if you want to wait**"
   ]
  },
  {
   "cell_type": "code",
   "execution_count": 11,
   "id": "ca6ab7ce",
   "metadata": {
    "ExecuteTime": {
     "end_time": "2022-07-20T08:12:03.178593Z",
     "start_time": "2022-07-20T08:12:03.165592Z"
    },
    "scrolled": true
   },
   "outputs": [],
   "source": [
    "# param_grid = {'max_depth': [3,5,10],\n",
    "#               'min_samples_split': [2,5,10]}\n",
    "\n",
    "# rf = RandomForestRegressor(random_state=1212)\n",
    "\n",
    "# sh = HalvingGridSearchCV(rf, param_grid, cv=5,\n",
    "#                          factor=2, resource='n_estimators',\n",
    "#                          min_resources=50,\n",
    "#                          max_resources=1000, verbose=3)\n",
    "\n",
    "# sh.fit(X_rdf_train, y_rdf_train)"
   ]
  },
  {
   "cell_type": "code",
   "execution_count": 12,
   "id": "572404b6",
   "metadata": {
    "ExecuteTime": {
     "end_time": "2022-07-20T08:12:03.194592Z",
     "start_time": "2022-07-20T08:12:03.184593Z"
    }
   },
   "outputs": [],
   "source": [
    "# sh.best_params_"
   ]
  },
  {
   "cell_type": "markdown",
   "id": "d28768b5",
   "metadata": {},
   "source": [
    "Best params were {'max_depth': 10, 'min_samples_split': 10, 'n_estimators': 400}"
   ]
  },
  {
   "cell_type": "code",
   "execution_count": 13,
   "id": "5c194268",
   "metadata": {
    "ExecuteTime": {
     "end_time": "2022-07-20T08:12:11.606593Z",
     "start_time": "2022-07-20T08:12:03.199647Z"
    }
   },
   "outputs": [
    {
     "data": {
      "text/plain": [
       "0.33135872990804993"
      ]
     },
     "execution_count": 13,
     "metadata": {},
     "output_type": "execute_result"
    }
   ],
   "source": [
    "# initialize\n",
    "rf_rdf = RandomForestRegressor(n_estimators=400,\n",
    "                           max_depth=10,\n",
    "                           min_samples_split=10)\n",
    "\n",
    "# fit\n",
    "rf_rdf.fit(X_rdf_train, y_rdf_train)\n",
    "\n",
    "# score\n",
    "rf_rdf.score(X_rdf_test, y_rdf_test)"
   ]
  },
  {
   "cell_type": "markdown",
   "id": "db6db458",
   "metadata": {},
   "source": [
    "Halving grid search improved the model score!"
   ]
  },
  {
   "cell_type": "markdown",
   "id": "986f6695",
   "metadata": {},
   "source": [
    "## SVM"
   ]
  },
  {
   "cell_type": "code",
   "execution_count": 14,
   "id": "eee5e6a1",
   "metadata": {
    "ExecuteTime": {
     "end_time": "2022-07-20T08:12:12.176603Z",
     "start_time": "2022-07-20T08:12:11.609593Z"
    }
   },
   "outputs": [
    {
     "data": {
      "text/plain": [
       "0.22743572519738087"
      ]
     },
     "execution_count": 14,
     "metadata": {},
     "output_type": "execute_result"
    }
   ],
   "source": [
    "# initialize\n",
    "svr_rdf = SVR()\n",
    "\n",
    "# fit\n",
    "svr_rdf.fit(X_rdf_train, y_rdf_train)\n",
    "\n",
    "# score\n",
    "svr_rdf.score(X_rdf_test,y_rdf_test)"
   ]
  },
  {
   "cell_type": "markdown",
   "id": "828034ef",
   "metadata": {},
   "source": [
    "**Only runs this if you want to wait**"
   ]
  },
  {
   "cell_type": "code",
   "execution_count": 15,
   "id": "c1f8ea6a",
   "metadata": {
    "ExecuteTime": {
     "end_time": "2022-07-20T08:12:12.192593Z",
     "start_time": "2022-07-20T08:12:12.180592Z"
    },
    "scrolled": true
   },
   "outputs": [],
   "source": [
    "# param_grid = {'epsilon': np.logspace(-2,0,3),\n",
    "#               'C': np.logspace(-2,0,3),\n",
    "#               'gamma': ['scale','auto']}\n",
    "\n",
    "# svr = SVR()\n",
    "\n",
    "# gs = GridSearchCV(svr, param_grid, cv=5,\n",
    "#                   verbose=3)\n",
    "\n",
    "# gs.fit(X_rdf_train, y_rdf_train)"
   ]
  },
  {
   "cell_type": "code",
   "execution_count": 16,
   "id": "f23f273d",
   "metadata": {
    "ExecuteTime": {
     "end_time": "2022-07-20T08:12:12.208592Z",
     "start_time": "2022-07-20T08:12:12.195592Z"
    }
   },
   "outputs": [],
   "source": [
    "# gs.best_params_"
   ]
  },
  {
   "cell_type": "markdown",
   "id": "b9ec669b",
   "metadata": {},
   "source": [
    "Best Params were {'C': 0.1, 'epsilon': 0.1, 'gamma': 'scale'}"
   ]
  },
  {
   "cell_type": "code",
   "execution_count": 17,
   "id": "6e4a283c",
   "metadata": {
    "ExecuteTime": {
     "end_time": "2022-07-20T08:12:12.590621Z",
     "start_time": "2022-07-20T08:12:12.211593Z"
    }
   },
   "outputs": [
    {
     "data": {
      "text/plain": [
       "0.3282935992204479"
      ]
     },
     "execution_count": 17,
     "metadata": {},
     "output_type": "execute_result"
    }
   ],
   "source": [
    "# initialize\n",
    "svr_rdf = SVR(C=0.1, epsilon = 0.1, gamma = 'scale')\n",
    "\n",
    "# fit\n",
    "svr_rdf.fit(X_rdf_train, y_rdf_train)\n",
    "\n",
    "# score\n",
    "svr_rdf.score(X_rdf_test,y_rdf_test)"
   ]
  },
  {
   "cell_type": "markdown",
   "id": "52a86988",
   "metadata": {},
   "source": [
    "Grid search improved our model score!"
   ]
  },
  {
   "cell_type": "markdown",
   "id": "3d7887c9",
   "metadata": {},
   "source": [
    "# YDF Modeling"
   ]
  },
  {
   "cell_type": "markdown",
   "id": "f4d26c9f",
   "metadata": {},
   "source": [
    "## Linear Regression"
   ]
  },
  {
   "cell_type": "code",
   "execution_count": 18,
   "id": "49a915e3",
   "metadata": {
    "ExecuteTime": {
     "end_time": "2022-07-20T08:12:12.621591Z",
     "start_time": "2022-07-20T08:12:12.593593Z"
    }
   },
   "outputs": [
    {
     "data": {
      "text/plain": [
       "0.6086594412093911"
      ]
     },
     "execution_count": 18,
     "metadata": {},
     "output_type": "execute_result"
    }
   ],
   "source": [
    "# initialize\n",
    "lr_ydf = LinearRegression()\n",
    "\n",
    "# fit\n",
    "lr_ydf.fit(X_ydf_train, y_ydf_train)\n",
    "\n",
    "# score\n",
    "lr_ydf.score(X_ydf_test,y_ydf_test)"
   ]
  },
  {
   "cell_type": "markdown",
   "id": "ea84aad8",
   "metadata": {},
   "source": [
    "### Lasso Regularization"
   ]
  },
  {
   "cell_type": "code",
   "execution_count": 19,
   "id": "f163e0b6",
   "metadata": {
    "ExecuteTime": {
     "end_time": "2022-07-20T08:12:13.413591Z",
     "start_time": "2022-07-20T08:12:12.625594Z"
    }
   },
   "outputs": [
    {
     "name": "stdout",
     "output_type": "stream",
     "text": [
      "Best Alpha: 0.0004\n",
      "CV Score: 0.6205\n"
     ]
    }
   ],
   "source": [
    "# initialize\n",
    "lasso_cv = LassoCV()\n",
    "\n",
    "# cv\n",
    "scores = cross_val_score(lasso_cv, X_ydf_train, y_ydf_train)\n",
    "\n",
    "# fit\n",
    "lasso_cv.fit(X_ydf_train, y_ydf_train)\n",
    "\n",
    "# best attributes\n",
    "print(f'Best Alpha: {lasso_cv.alpha_:.4f}')\n",
    "print(f'CV Score: {scores.mean():.4f}')"
   ]
  },
  {
   "cell_type": "code",
   "execution_count": 20,
   "id": "176fb6fa",
   "metadata": {
    "ExecuteTime": {
     "end_time": "2022-07-20T08:12:13.429591Z",
     "start_time": "2022-07-20T08:12:13.416592Z"
    }
   },
   "outputs": [],
   "source": [
    "ydf_lasso_cols = [col for col, coef in zip(X_ydf_train.columns, lasso_cv.coef_) if coef]"
   ]
  },
  {
   "cell_type": "code",
   "execution_count": 21,
   "id": "fb19e7e6",
   "metadata": {
    "ExecuteTime": {
     "end_time": "2022-07-20T08:12:13.460592Z",
     "start_time": "2022-07-20T08:12:13.433592Z"
    }
   },
   "outputs": [
    {
     "data": {
      "text/plain": [
       "0.6086594412093911"
      ]
     },
     "execution_count": 21,
     "metadata": {},
     "output_type": "execute_result"
    }
   ],
   "source": [
    "lr_ydf.fit(X_ydf_train[ydf_lasso_cols], y_ydf_train)\n",
    "\n",
    "lr_ydf.score(X_ydf_test[ydf_lasso_cols],y_ydf_test)"
   ]
  },
  {
   "cell_type": "markdown",
   "id": "86a4dfcf",
   "metadata": {},
   "source": [
    "Lasso feature selection has no effect because it keeps all of the columns originally in the set"
   ]
  },
  {
   "cell_type": "markdown",
   "id": "5da72304",
   "metadata": {},
   "source": [
    "## Random Forest"
   ]
  },
  {
   "cell_type": "code",
   "execution_count": 22,
   "id": "0cccdf97",
   "metadata": {
    "ExecuteTime": {
     "end_time": "2022-07-20T08:12:13.983614Z",
     "start_time": "2022-07-20T08:12:13.464592Z"
    }
   },
   "outputs": [
    {
     "data": {
      "text/plain": [
       "0.9603664051660922"
      ]
     },
     "execution_count": 22,
     "metadata": {},
     "output_type": "execute_result"
    }
   ],
   "source": [
    "# initialize\n",
    "rf_ydf = RandomForestRegressor()\n",
    "\n",
    "# fit\n",
    "rf_ydf.fit(X_ydf_train, y_ydf_train)\n",
    "\n",
    "# score\n",
    "rf_ydf.score(X_ydf_test,y_ydf_test)"
   ]
  },
  {
   "cell_type": "markdown",
   "id": "895a8545",
   "metadata": {},
   "source": [
    "**Run this if you want to wait**"
   ]
  },
  {
   "cell_type": "code",
   "execution_count": 23,
   "id": "e54bb332",
   "metadata": {
    "ExecuteTime": {
     "end_time": "2022-07-20T08:12:13.998592Z",
     "start_time": "2022-07-20T08:12:13.986593Z"
    },
    "scrolled": true
   },
   "outputs": [],
   "source": [
    "# param_grid = {'max_depth': [3,5,10, None],\n",
    "#               'min_samples_split': [2,5,10],\n",
    "#               'n_estimators': [50,100,200]}\n",
    "\n",
    "# rf = RandomForestRegressor(random_state=1212)\n",
    "\n",
    "# sh = GridSearchCV(rf, param_grid, cv=5,\n",
    "#                   verbose=3)\n",
    "\n",
    "# sh.fit(X_ydf_train, y_ydf_train)"
   ]
  },
  {
   "cell_type": "code",
   "execution_count": 24,
   "id": "47773645",
   "metadata": {
    "ExecuteTime": {
     "end_time": "2022-07-20T08:12:14.014593Z",
     "start_time": "2022-07-20T08:12:14.002594Z"
    }
   },
   "outputs": [],
   "source": [
    "# sh.best_params_"
   ]
  },
  {
   "cell_type": "markdown",
   "id": "2c4e1ea6",
   "metadata": {},
   "source": [
    "Best params were {'max_depth': None, 'min_samples_split': 10, 'n_estimators': 200}"
   ]
  },
  {
   "cell_type": "code",
   "execution_count": 25,
   "id": "3b52de98",
   "metadata": {
    "ExecuteTime": {
     "end_time": "2022-07-20T08:12:14.996592Z",
     "start_time": "2022-07-20T08:12:14.018594Z"
    }
   },
   "outputs": [
    {
     "data": {
      "text/plain": [
       "0.9592851494756717"
      ]
     },
     "execution_count": 25,
     "metadata": {},
     "output_type": "execute_result"
    }
   ],
   "source": [
    "# initialize\n",
    "rf_ydf = RandomForestRegressor(n_estimators=200,\n",
    "                           max_depth=None,\n",
    "                           min_samples_split=10)\n",
    "\n",
    "# fit\n",
    "rf_ydf.fit(X_ydf_train, y_ydf_train)\n",
    "\n",
    "# score\n",
    "rf_ydf.score(X_ydf_test, y_ydf_test)"
   ]
  },
  {
   "cell_type": "markdown",
   "id": "601f3789",
   "metadata": {},
   "source": [
    "Halving grid Search improved the model score!"
   ]
  },
  {
   "cell_type": "markdown",
   "id": "7890e4eb",
   "metadata": {},
   "source": [
    "## SVM"
   ]
  },
  {
   "cell_type": "code",
   "execution_count": 26,
   "id": "9fbd148d",
   "metadata": {
    "ExecuteTime": {
     "end_time": "2022-07-20T08:12:15.646593Z",
     "start_time": "2022-07-20T08:12:14.999594Z"
    }
   },
   "outputs": [
    {
     "data": {
      "text/plain": [
       "0.728590464905441"
      ]
     },
     "execution_count": 26,
     "metadata": {},
     "output_type": "execute_result"
    }
   ],
   "source": [
    "# initialize\n",
    "svr_ydf = SVR()\n",
    "\n",
    "# fit\n",
    "svr_ydf.fit(X_ydf_train, y_ydf_train)\n",
    "\n",
    "# score\n",
    "svr_ydf.score(X_ydf_test,y_ydf_test)"
   ]
  },
  {
   "cell_type": "markdown",
   "id": "62687f47",
   "metadata": {},
   "source": [
    "**Run this if you want to wait**"
   ]
  },
  {
   "cell_type": "code",
   "execution_count": 27,
   "id": "6612ee30",
   "metadata": {
    "ExecuteTime": {
     "end_time": "2022-07-20T08:12:15.662593Z",
     "start_time": "2022-07-20T08:12:15.650593Z"
    },
    "scrolled": false
   },
   "outputs": [],
   "source": [
    "# param_grid = {'epsilon': np.logspace(-3,1,3),\n",
    "#               'C': np.logspace(1,3,3),\n",
    "#               'gamma': ['scale','auto']}\n",
    "\n",
    "# svr = SVR()\n",
    "\n",
    "# gs = GridSearchCV(svr, param_grid, cv=5,\n",
    "#                   verbose=3)\n",
    "\n",
    "# gs.fit(X_ydf_train, y_ydf_train)"
   ]
  },
  {
   "cell_type": "code",
   "execution_count": 28,
   "id": "46b58936",
   "metadata": {
    "ExecuteTime": {
     "end_time": "2022-07-20T08:12:15.678593Z",
     "start_time": "2022-07-20T08:12:15.673594Z"
    }
   },
   "outputs": [],
   "source": [
    "# gs.best_params_"
   ]
  },
  {
   "cell_type": "markdown",
   "id": "75fa326f",
   "metadata": {},
   "source": [
    "Best params were {'C': 100.0, 'epsilon': 0.001, 'gamma': 'scale'}"
   ]
  },
  {
   "cell_type": "code",
   "execution_count": 29,
   "id": "7becc274",
   "metadata": {
    "ExecuteTime": {
     "end_time": "2022-07-20T08:12:23.774591Z",
     "start_time": "2022-07-20T08:12:15.682593Z"
    }
   },
   "outputs": [
    {
     "data": {
      "text/plain": [
       "0.7899773689061964"
      ]
     },
     "execution_count": 29,
     "metadata": {},
     "output_type": "execute_result"
    }
   ],
   "source": [
    "# initialize\n",
    "svr_ydf = SVR(C=100, epsilon = 0.001, gamma = 'scale')\n",
    "\n",
    "# fit\n",
    "svr_ydf.fit(X_ydf_train, y_ydf_train)\n",
    "\n",
    "# score\n",
    "svr_ydf.score(X_ydf_test,y_ydf_test)"
   ]
  },
  {
   "cell_type": "markdown",
   "id": "b7c8f898",
   "metadata": {},
   "source": [
    "Grid search improved the model!"
   ]
  },
  {
   "cell_type": "markdown",
   "id": "76d8523e",
   "metadata": {},
   "source": [
    "# Combined Modeling"
   ]
  },
  {
   "cell_type": "markdown",
   "id": "e76079ee",
   "metadata": {},
   "source": [
    "## Baseline"
   ]
  },
  {
   "cell_type": "code",
   "execution_count": 30,
   "id": "aeba7d87",
   "metadata": {
    "ExecuteTime": {
     "end_time": "2022-07-20T08:12:23.790601Z",
     "start_time": "2022-07-20T08:12:23.777592Z"
    }
   },
   "outputs": [],
   "source": [
    "baseline = (baseline['waa_pg_1yr']*3 + baseline['waa_pg_2yr']*2\\\n",
    "                + baseline['waa_pg_3yr'])/6"
   ]
  },
  {
   "cell_type": "code",
   "execution_count": 31,
   "id": "3b23dcd9",
   "metadata": {
    "ExecuteTime": {
     "end_time": "2022-07-20T08:12:23.822626Z",
     "start_time": "2022-07-20T08:12:23.794593Z"
    }
   },
   "outputs": [
    {
     "data": {
      "text/plain": [
       "0.3094563793548818"
      ]
     },
     "execution_count": 31,
     "metadata": {},
     "output_type": "execute_result"
    }
   ],
   "source": [
    "r2_score(y_odf_test, baseline)"
   ]
  },
  {
   "cell_type": "markdown",
   "id": "8e9efc25",
   "metadata": {},
   "source": [
    "An interesting note here is that the baseline is actually higher for this approach. Full approach's baseline was 29%"
   ]
  },
  {
   "cell_type": "markdown",
   "id": "9372d3c5",
   "metadata": {},
   "source": [
    "## Modeling"
   ]
  },
  {
   "cell_type": "markdown",
   "id": "b94ed7b5",
   "metadata": {},
   "source": [
    "Now combine our predictions from rdf and ydf's respective best model predictions with our remaining features to get a model for waa_pg"
   ]
  },
  {
   "cell_type": "code",
   "execution_count": 32,
   "id": "e5582342",
   "metadata": {
    "ExecuteTime": {
     "end_time": "2022-07-20T08:12:23.838591Z",
     "start_time": "2022-07-20T08:12:23.827592Z"
    }
   },
   "outputs": [],
   "source": [
    "\n",
    "y_rdf_hat = pd.Series(lr_rdf_lasso.predict(X_rdf_test[rdf_lasso_cols]),\n",
    "                      index=X_rdf_test.index,\n",
    "                      name='runs_total_pg')"
   ]
  },
  {
   "cell_type": "code",
   "execution_count": 33,
   "id": "60b43c1f",
   "metadata": {
    "ExecuteTime": {
     "end_time": "2022-07-20T08:12:23.918591Z",
     "start_time": "2022-07-20T08:12:23.841593Z"
    }
   },
   "outputs": [],
   "source": [
    "# score\n",
    "y_ydf_hat = pd.Series(rf_ydf.predict(X_ydf_test),\n",
    "                      index=X_ydf_test.index,\n",
    "                      name='opprpg')"
   ]
  },
  {
   "cell_type": "code",
   "execution_count": 34,
   "id": "0bca9db0",
   "metadata": {
    "ExecuteTime": {
     "end_time": "2022-07-20T08:12:23.934592Z",
     "start_time": "2022-07-20T08:12:23.921592Z"
    }
   },
   "outputs": [],
   "source": [
    "# create x_train from rdf and ydf targets\n",
    "X_train =\\\n",
    "pd.merge(\n",
    "    pd.merge(X_odf_train,y_rdf_train,\n",
    "             how = 'inner',\n",
    "             left_index=True, right_index=True),\n",
    "    y_ydf_train,\n",
    "    how = 'inner',\n",
    "    left_index=True, right_index=True)"
   ]
  },
  {
   "cell_type": "code",
   "execution_count": 35,
   "id": "72ef293c",
   "metadata": {
    "ExecuteTime": {
     "end_time": "2022-07-20T08:12:23.950591Z",
     "start_time": "2022-07-20T08:12:23.937592Z"
    }
   },
   "outputs": [],
   "source": [
    "# create x_test from rdf and ydf model predictions\n",
    "X_test =\\\n",
    "pd.merge(\n",
    "    pd.merge(X_odf_test,y_rdf_hat,\n",
    "             how = 'inner',\n",
    "             left_index=True, right_index=True),\n",
    "    y_ydf_hat,\n",
    "    how = 'inner',\n",
    "    left_index=True, right_index=True)"
   ]
  },
  {
   "cell_type": "code",
   "execution_count": 36,
   "id": "8cf65102",
   "metadata": {
    "ExecuteTime": {
     "end_time": "2022-07-20T08:12:23.966593Z",
     "start_time": "2022-07-20T08:12:23.953592Z"
    }
   },
   "outputs": [],
   "source": [
    "y_train, y_test = y_odf_train, y_odf_test"
   ]
  },
  {
   "cell_type": "markdown",
   "id": "8ccf3b77",
   "metadata": {},
   "source": [
    "## Linear Regression"
   ]
  },
  {
   "cell_type": "code",
   "execution_count": 37,
   "id": "064b5f7d",
   "metadata": {
    "ExecuteTime": {
     "end_time": "2022-07-20T08:12:23.998591Z",
     "start_time": "2022-07-20T08:12:23.969592Z"
    }
   },
   "outputs": [
    {
     "data": {
      "text/plain": [
       "0.3696392923964582"
      ]
     },
     "execution_count": 37,
     "metadata": {},
     "output_type": "execute_result"
    }
   ],
   "source": [
    "# initialize\n",
    "lr = LinearRegression()\n",
    "\n",
    "# fit\n",
    "lr.fit(X_train, y_train)\n",
    "\n",
    "# score\n",
    "lr.score(X_test,y_test)"
   ]
  },
  {
   "cell_type": "markdown",
   "id": "55388a70",
   "metadata": {},
   "source": [
    "### Lasso Regularization"
   ]
  },
  {
   "cell_type": "code",
   "execution_count": 38,
   "id": "52a67eac",
   "metadata": {
    "ExecuteTime": {
     "end_time": "2022-07-20T08:12:24.907592Z",
     "start_time": "2022-07-20T08:12:24.001592Z"
    }
   },
   "outputs": [
    {
     "name": "stdout",
     "output_type": "stream",
     "text": [
      "Best Alpha: 0.0000\n",
      "CV Score: 0.9923\n"
     ]
    }
   ],
   "source": [
    "# initialize\n",
    "lasso_cv = LassoCV()\n",
    "\n",
    "# cv\n",
    "scores = cross_val_score(lasso_cv, X_train, y_train)\n",
    "\n",
    "# fit\n",
    "lasso_cv.fit(X_train, y_train)\n",
    "\n",
    "# best attributes\n",
    "print(f'Best Alpha: {lasso_cv.alpha_:.4f}')\n",
    "print(f'CV Score: {scores.mean():.4f}')"
   ]
  },
  {
   "cell_type": "code",
   "execution_count": 39,
   "id": "77f806a3",
   "metadata": {
    "ExecuteTime": {
     "end_time": "2022-07-20T08:12:24.938591Z",
     "start_time": "2022-07-20T08:12:24.911622Z"
    }
   },
   "outputs": [
    {
     "data": {
      "text/plain": [
       "0.3704104155015663"
      ]
     },
     "execution_count": 39,
     "metadata": {},
     "output_type": "execute_result"
    }
   ],
   "source": [
    "# generate features to select\n",
    "lasso_cv.score(X_test, y_test)"
   ]
  },
  {
   "cell_type": "code",
   "execution_count": 40,
   "id": "ea17ceea",
   "metadata": {
    "ExecuteTime": {
     "end_time": "2022-07-20T08:12:24.954592Z",
     "start_time": "2022-07-20T08:12:24.941592Z"
    }
   },
   "outputs": [],
   "source": [
    "lasso_cols = [col for col, coef in zip(X_train.columns, lasso_cv.coef_) if coef]"
   ]
  },
  {
   "cell_type": "code",
   "execution_count": 41,
   "id": "3ac93989",
   "metadata": {
    "ExecuteTime": {
     "end_time": "2022-07-20T08:12:24.986591Z",
     "start_time": "2022-07-20T08:12:24.958593Z"
    }
   },
   "outputs": [
    {
     "data": {
      "text/plain": [
       "0.37049818472316887"
      ]
     },
     "execution_count": 41,
     "metadata": {},
     "output_type": "execute_result"
    }
   ],
   "source": [
    "lr.fit(X_train[lasso_cols], y_train)\n",
    "\n",
    "lr.score(X_test[lasso_cols],y_test)"
   ]
  },
  {
   "cell_type": "markdown",
   "id": "3806d83e",
   "metadata": {},
   "source": [
    "Lasso feature selection helped our model!"
   ]
  },
  {
   "cell_type": "markdown",
   "id": "95ada11a",
   "metadata": {},
   "source": [
    "## Random Forest"
   ]
  },
  {
   "cell_type": "code",
   "execution_count": 42,
   "id": "6a8f551e",
   "metadata": {
    "ExecuteTime": {
     "end_time": "2022-07-20T08:12:28.241592Z",
     "start_time": "2022-07-20T08:12:24.991618Z"
    }
   },
   "outputs": [
    {
     "data": {
      "text/plain": [
       "0.37353619621445855"
      ]
     },
     "execution_count": 42,
     "metadata": {},
     "output_type": "execute_result"
    }
   ],
   "source": [
    "# initialize\n",
    "rf = RandomForestRegressor()\n",
    "\n",
    "# fit\n",
    "rf.fit(X_train, y_train)\n",
    "\n",
    "# score\n",
    "rf.score(X_test,y_test)"
   ]
  },
  {
   "cell_type": "markdown",
   "id": "fa899476",
   "metadata": {},
   "source": [
    "**Run if you want to wait**"
   ]
  },
  {
   "cell_type": "code",
   "execution_count": 43,
   "id": "56be3d8e",
   "metadata": {
    "ExecuteTime": {
     "end_time": "2022-07-20T08:12:28.257592Z",
     "start_time": "2022-07-20T08:12:28.244591Z"
    },
    "scrolled": true
   },
   "outputs": [],
   "source": [
    "# param_grid = {'max_depth': [3,5,10, None],\n",
    "#               'min_samples_split': [2,5,10]}\n",
    "\n",
    "# rf = RandomForestRegressor(random_state=1212)\n",
    "\n",
    "# sh = HalvingGridSearchCV(rf, param_grid, cv=5,\n",
    "#                          factor=2, resource='n_estimators',\n",
    "#                          min_resources=50,\n",
    "#                          max_resources=1000, verbose=3)\n",
    "\n",
    "# sh.fit(X_train, y_train)"
   ]
  },
  {
   "cell_type": "code",
   "execution_count": 44,
   "id": "fa81cace",
   "metadata": {
    "ExecuteTime": {
     "end_time": "2022-07-20T08:12:28.272606Z",
     "start_time": "2022-07-20T08:12:28.263593Z"
    }
   },
   "outputs": [],
   "source": [
    "# sh.best_params_"
   ]
  },
  {
   "cell_type": "markdown",
   "id": "3ce7ca1b",
   "metadata": {},
   "source": [
    "best params were {'max_depth': None, 'min_samples_split': 2, 'n_estimators': 400}"
   ]
  },
  {
   "cell_type": "code",
   "execution_count": 45,
   "id": "de21717a",
   "metadata": {
    "ExecuteTime": {
     "end_time": "2022-07-20T08:12:39.650815Z",
     "start_time": "2022-07-20T08:12:28.276592Z"
    }
   },
   "outputs": [
    {
     "data": {
      "text/plain": [
       "0.3729312763020318"
      ]
     },
     "execution_count": 45,
     "metadata": {},
     "output_type": "execute_result"
    }
   ],
   "source": [
    "# initialize\n",
    "rf = RandomForestRegressor(n_estimators=400,\n",
    "                           max_depth=None,\n",
    "                           min_samples_split=2)\n",
    "\n",
    "# fit\n",
    "rf.fit(X_train, y_train)\n",
    "\n",
    "# score\n",
    "rf.score(X_test, y_test)"
   ]
  },
  {
   "cell_type": "markdown",
   "id": "9282b1b6",
   "metadata": {},
   "source": [
    "Halving grid search improved our model score!"
   ]
  },
  {
   "cell_type": "markdown",
   "id": "41235eda",
   "metadata": {},
   "source": [
    "## SVM"
   ]
  },
  {
   "cell_type": "code",
   "execution_count": 46,
   "id": "bf4b8368",
   "metadata": {
    "ExecuteTime": {
     "end_time": "2022-07-20T08:12:39.714744Z",
     "start_time": "2022-07-20T08:12:39.656814Z"
    }
   },
   "outputs": [
    {
     "data": {
      "text/plain": [
       "-0.052946710119773366"
      ]
     },
     "execution_count": 46,
     "metadata": {},
     "output_type": "execute_result"
    }
   ],
   "source": [
    "# initialize\n",
    "svr = SVR()\n",
    "\n",
    "# fit\n",
    "svr.fit(X_train, y_train)\n",
    "\n",
    "# score\n",
    "svr.score(X_test,y_test)"
   ]
  },
  {
   "cell_type": "markdown",
   "id": "b1849916",
   "metadata": {},
   "source": [
    "**Run if you want to wait**"
   ]
  },
  {
   "cell_type": "code",
   "execution_count": 47,
   "id": "ac452a53",
   "metadata": {
    "ExecuteTime": {
     "end_time": "2022-07-20T08:12:39.730745Z",
     "start_time": "2022-07-20T08:12:39.716772Z"
    },
    "scrolled": true
   },
   "outputs": [],
   "source": [
    "# param_grid = {'epsilon': np.logspace(0,2,3),\n",
    "#               'C': np.logspace(0,2,3),\n",
    "#               'gamma': ['scale','auto']}\n",
    "\n",
    "# svr = SVR()\n",
    "\n",
    "# gs = GridSearchCV(svr, param_grid, cv=5,\n",
    "#                   verbose=3)\n",
    "\n",
    "# gs.fit(X_train, y_train)"
   ]
  },
  {
   "cell_type": "code",
   "execution_count": 48,
   "id": "77530b97",
   "metadata": {
    "ExecuteTime": {
     "end_time": "2022-07-20T08:12:39.746745Z",
     "start_time": "2022-07-20T08:12:39.736745Z"
    }
   },
   "outputs": [],
   "source": [
    "# gs.best_params_"
   ]
  },
  {
   "cell_type": "markdown",
   "id": "3b9576aa",
   "metadata": {},
   "source": [
    "Best params were {'C': 1.0, 'epsilon': 10.0, 'gamma': 'scale'}"
   ]
  },
  {
   "cell_type": "code",
   "execution_count": 49,
   "id": "093c876b",
   "metadata": {
    "ExecuteTime": {
     "end_time": "2022-07-20T08:12:39.778744Z",
     "start_time": "2022-07-20T08:12:39.749744Z"
    }
   },
   "outputs": [
    {
     "data": {
      "text/plain": [
       "-0.05294671011975538"
      ]
     },
     "execution_count": 49,
     "metadata": {},
     "output_type": "execute_result"
    }
   ],
   "source": [
    "# initialize\n",
    "svr = SVR(C=1, epsilon = 10, gamma = 'scale')\n",
    "\n",
    "# fit\n",
    "svr.fit(X_train, y_train)\n",
    "\n",
    "# score\n",
    "svr.score(X_test,y_test)"
   ]
  },
  {
   "cell_type": "markdown",
   "id": "e1e47338",
   "metadata": {},
   "source": [
    "SVR terrible no matter how you slice it."
   ]
  },
  {
   "cell_type": "markdown",
   "id": "87ce3961",
   "metadata": {},
   "source": [
    "# Results"
   ]
  },
  {
   "cell_type": "markdown",
   "id": "02ab9fc9",
   "metadata": {},
   "source": [
    "None of the models outperformed the Full Approach model. If the models were closer to outperforming the production model, then more tuning would be done and analysis could be completed. That for now is out of scope."
   ]
  }
 ],
 "metadata": {
  "kernelspec": {
   "display_name": "Python 3 (ipykernel)",
   "language": "python",
   "name": "python3"
  },
  "language_info": {
   "codemirror_mode": {
    "name": "ipython",
    "version": 3
   },
   "file_extension": ".py",
   "mimetype": "text/x-python",
   "name": "python",
   "nbconvert_exporter": "python",
   "pygments_lexer": "ipython3",
   "version": "3.9.12"
  },
  "toc": {
   "base_numbering": 1,
   "nav_menu": {},
   "number_sections": true,
   "sideBar": true,
   "skip_h1_title": false,
   "title_cell": "Table of Contents",
   "title_sidebar": "Contents",
   "toc_cell": false,
   "toc_position": {
    "height": "calc(100% - 180px)",
    "left": "10px",
    "top": "150px",
    "width": "349.091px"
   },
   "toc_section_display": true,
   "toc_window_display": true
  }
 },
 "nbformat": 4,
 "nbformat_minor": 5
}
