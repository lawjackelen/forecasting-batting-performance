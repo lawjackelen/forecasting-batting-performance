{
 "cells": [
  {
   "cell_type": "code",
   "execution_count": 3,
   "id": "cb04d650",
   "metadata": {
    "ExecuteTime": {
     "end_time": "2022-07-15T03:11:16.120103Z",
     "start_time": "2022-07-15T03:11:16.103105Z"
    }
   },
   "outputs": [],
   "source": [
    "import numpy as np\n",
    "import pandas as pd\n",
    "np.random.seed(2121)\n",
    "\n",
    "from sklearn.model_selection import GridSearchCV\n",
    "from sklearn.linear_model import LinearRegression\n",
    "from sklearn.metrics import r2_score\n",
    "from sklearn.ensemble import RandomForestRegressor\n",
    "from sklearn.svm import SVR"
   ]
  },
  {
   "cell_type": "code",
   "execution_count": 5,
   "id": "c1f38dc8",
   "metadata": {
    "ExecuteTime": {
     "end_time": "2022-07-15T03:11:53.300265Z",
     "start_time": "2022-07-15T03:11:53.090540Z"
    }
   },
   "outputs": [],
   "source": [
    "X_train = pd.read_csv('../../data/x_train_preprocessed.csv').set_index('Unnamed: 0')\n",
    "X_test = pd.read_csv('../../data/x_test_preprocessed.csv').set_index('Unnamed: 0')\n",
    "y_train = pd.read_csv('../../data/y_train.csv').set_index('Unnamed: 0')\n",
    "y_test = pd.read_csv('../../data/y_test.csv').set_index('Unnamed: 0')\n",
    "base_train = pd.read_csv('../../data/baseline_train.csv').set_index('Unnamed: 0')\n",
    "base_test = pd.read_csv('../../data/baseline_test.csv').set_index('Unnamed: 0')"
   ]
  },
  {
   "cell_type": "code",
   "execution_count": 6,
   "id": "c202b476",
   "metadata": {
    "ExecuteTime": {
     "end_time": "2022-07-15T03:11:54.550360Z",
     "start_time": "2022-07-15T03:11:54.543360Z"
    }
   },
   "outputs": [],
   "source": [
    "X_train.index.name = None\n",
    "X_test.index.name = None\n",
    "y_train.index.name = None\n",
    "y_test.index.name = None\n",
    "base_train.index.name = None\n",
    "base_test.index.name = None"
   ]
  },
  {
   "cell_type": "code",
   "execution_count": 7,
   "id": "875bb9d0",
   "metadata": {
    "ExecuteTime": {
     "end_time": "2022-07-15T03:11:55.124672Z",
     "start_time": "2022-07-15T03:11:55.095671Z"
    }
   },
   "outputs": [
    {
     "data": {
      "text/plain": [
       "0.2998481414188715"
      ]
     },
     "execution_count": 7,
     "metadata": {},
     "output_type": "execute_result"
    }
   ],
   "source": [
    "r2_score(y_test, base_test)"
   ]
  },
  {
   "cell_type": "code",
   "execution_count": 8,
   "id": "df9ad123",
   "metadata": {
    "ExecuteTime": {
     "end_time": "2022-07-15T03:11:58.684346Z",
     "start_time": "2022-07-15T03:11:58.630345Z"
    }
   },
   "outputs": [
    {
     "data": {
      "text/html": [
       "<div>\n",
       "<style scoped>\n",
       "    .dataframe tbody tr th:only-of-type {\n",
       "        vertical-align: middle;\n",
       "    }\n",
       "\n",
       "    .dataframe tbody tr th {\n",
       "        vertical-align: top;\n",
       "    }\n",
       "\n",
       "    .dataframe thead th {\n",
       "        text-align: right;\n",
       "    }\n",
       "</style>\n",
       "<table border=\"1\" class=\"dataframe\">\n",
       "  <thead>\n",
       "    <tr style=\"text-align: right;\">\n",
       "      <th></th>\n",
       "      <th>year_id</th>\n",
       "      <th>age</th>\n",
       "      <th>waa_pg_1yr</th>\n",
       "      <th>waa_pg_2yr</th>\n",
       "      <th>waa_pg_3yr</th>\n",
       "      <th>team_gp_3yr</th>\n",
       "      <th>inn_pg_1yr</th>\n",
       "      <th>runs_bat_pg_1yr</th>\n",
       "      <th>runs_bat_pg_2yr</th>\n",
       "      <th>runs_bat_pg_3yr</th>\n",
       "      <th>...</th>\n",
       "      <th>g_dh_share_1yr</th>\n",
       "      <th>g_dh_share_2yr</th>\n",
       "      <th>g_dh_share_3yr</th>\n",
       "      <th>pc_0</th>\n",
       "      <th>pc_1</th>\n",
       "      <th>pc_2</th>\n",
       "      <th>pc_3</th>\n",
       "      <th>pc_4</th>\n",
       "      <th>pc_5</th>\n",
       "      <th>pc_6</th>\n",
       "    </tr>\n",
       "  </thead>\n",
       "  <tbody>\n",
       "    <tr>\n",
       "      <th>2021</th>\n",
       "      <td>-1.673800</td>\n",
       "      <td>0.170476</td>\n",
       "      <td>1.036871</td>\n",
       "      <td>0.033849</td>\n",
       "      <td>-0.204624</td>\n",
       "      <td>0.251271</td>\n",
       "      <td>-1.283726</td>\n",
       "      <td>0.801821</td>\n",
       "      <td>-0.050087</td>\n",
       "      <td>0.702537</td>\n",
       "      <td>...</td>\n",
       "      <td>-0.306257</td>\n",
       "      <td>-0.281748</td>\n",
       "      <td>-0.269488</td>\n",
       "      <td>5.831705</td>\n",
       "      <td>-1.794716</td>\n",
       "      <td>2.350115</td>\n",
       "      <td>0.961168</td>\n",
       "      <td>1.428859</td>\n",
       "      <td>-1.651573</td>\n",
       "      <td>-0.184321</td>\n",
       "    </tr>\n",
       "    <tr>\n",
       "      <th>2334</th>\n",
       "      <td>-1.870756</td>\n",
       "      <td>0.750317</td>\n",
       "      <td>-0.583988</td>\n",
       "      <td>0.123513</td>\n",
       "      <td>0.433228</td>\n",
       "      <td>0.251271</td>\n",
       "      <td>-1.365044</td>\n",
       "      <td>-0.241208</td>\n",
       "      <td>0.016080</td>\n",
       "      <td>0.196966</td>\n",
       "      <td>...</td>\n",
       "      <td>-0.306257</td>\n",
       "      <td>-0.281748</td>\n",
       "      <td>-0.269488</td>\n",
       "      <td>2.891187</td>\n",
       "      <td>-1.163036</td>\n",
       "      <td>-1.544370</td>\n",
       "      <td>-1.411330</td>\n",
       "      <td>-0.918092</td>\n",
       "      <td>1.019907</td>\n",
       "      <td>-1.150856</td>\n",
       "    </tr>\n",
       "    <tr>\n",
       "      <th>167</th>\n",
       "      <td>0.952289</td>\n",
       "      <td>-0.699287</td>\n",
       "      <td>-1.228515</td>\n",
       "      <td>0.704435</td>\n",
       "      <td>-0.328919</td>\n",
       "      <td>0.251271</td>\n",
       "      <td>0.487675</td>\n",
       "      <td>-0.043979</td>\n",
       "      <td>1.145227</td>\n",
       "      <td>-0.537878</td>\n",
       "      <td>...</td>\n",
       "      <td>-0.306257</td>\n",
       "      <td>-0.281748</td>\n",
       "      <td>-0.269488</td>\n",
       "      <td>-2.651506</td>\n",
       "      <td>1.967115</td>\n",
       "      <td>-0.622855</td>\n",
       "      <td>1.771594</td>\n",
       "      <td>-1.704079</td>\n",
       "      <td>-0.365019</td>\n",
       "      <td>0.319205</td>\n",
       "    </tr>\n",
       "    <tr>\n",
       "      <th>1070</th>\n",
       "      <td>-1.870756</td>\n",
       "      <td>0.460397</td>\n",
       "      <td>-1.400310</td>\n",
       "      <td>-0.607957</td>\n",
       "      <td>0.817766</td>\n",
       "      <td>0.251271</td>\n",
       "      <td>0.523218</td>\n",
       "      <td>-0.774254</td>\n",
       "      <td>-0.643920</td>\n",
       "      <td>0.320787</td>\n",
       "      <td>...</td>\n",
       "      <td>-0.306257</td>\n",
       "      <td>-0.281748</td>\n",
       "      <td>-0.269488</td>\n",
       "      <td>-1.680922</td>\n",
       "      <td>-2.048990</td>\n",
       "      <td>-0.810785</td>\n",
       "      <td>1.133113</td>\n",
       "      <td>-1.537679</td>\n",
       "      <td>0.193505</td>\n",
       "      <td>0.043850</td>\n",
       "    </tr>\n",
       "    <tr>\n",
       "      <th>4349</th>\n",
       "      <td>0.558375</td>\n",
       "      <td>0.460397</td>\n",
       "      <td>-0.993270</td>\n",
       "      <td>-0.458138</td>\n",
       "      <td>-0.413009</td>\n",
       "      <td>0.155255</td>\n",
       "      <td>0.834774</td>\n",
       "      <td>-1.359065</td>\n",
       "      <td>-0.646386</td>\n",
       "      <td>-0.015492</td>\n",
       "      <td>...</td>\n",
       "      <td>0.274963</td>\n",
       "      <td>-0.237298</td>\n",
       "      <td>-0.269488</td>\n",
       "      <td>-3.783996</td>\n",
       "      <td>3.978561</td>\n",
       "      <td>-0.760553</td>\n",
       "      <td>-0.407349</td>\n",
       "      <td>-1.821573</td>\n",
       "      <td>0.242835</td>\n",
       "      <td>-0.350231</td>\n",
       "    </tr>\n",
       "    <tr>\n",
       "      <th>...</th>\n",
       "      <td>...</td>\n",
       "      <td>...</td>\n",
       "      <td>...</td>\n",
       "      <td>...</td>\n",
       "      <td>...</td>\n",
       "      <td>...</td>\n",
       "      <td>...</td>\n",
       "      <td>...</td>\n",
       "      <td>...</td>\n",
       "      <td>...</td>\n",
       "      <td>...</td>\n",
       "      <td>...</td>\n",
       "      <td>...</td>\n",
       "      <td>...</td>\n",
       "      <td>...</td>\n",
       "      <td>...</td>\n",
       "      <td>...</td>\n",
       "      <td>...</td>\n",
       "      <td>...</td>\n",
       "      <td>...</td>\n",
       "      <td>...</td>\n",
       "    </tr>\n",
       "    <tr>\n",
       "      <th>3213</th>\n",
       "      <td>-1.017278</td>\n",
       "      <td>-0.989208</td>\n",
       "      <td>-0.875004</td>\n",
       "      <td>0.643226</td>\n",
       "      <td>1.088266</td>\n",
       "      <td>0.251271</td>\n",
       "      <td>-0.442153</td>\n",
       "      <td>-0.037916</td>\n",
       "      <td>1.319862</td>\n",
       "      <td>1.423243</td>\n",
       "      <td>...</td>\n",
       "      <td>-0.306257</td>\n",
       "      <td>-0.281748</td>\n",
       "      <td>-0.269488</td>\n",
       "      <td>0.582370</td>\n",
       "      <td>-1.298605</td>\n",
       "      <td>-0.907015</td>\n",
       "      <td>0.354861</td>\n",
       "      <td>-1.380179</td>\n",
       "      <td>-0.281663</td>\n",
       "      <td>0.529179</td>\n",
       "    </tr>\n",
       "    <tr>\n",
       "      <th>1125</th>\n",
       "      <td>-1.870756</td>\n",
       "      <td>-0.119445</td>\n",
       "      <td>1.599090</td>\n",
       "      <td>0.668580</td>\n",
       "      <td>0.251219</td>\n",
       "      <td>0.155255</td>\n",
       "      <td>0.846228</td>\n",
       "      <td>1.246760</td>\n",
       "      <td>0.865330</td>\n",
       "      <td>-0.217631</td>\n",
       "      <td>...</td>\n",
       "      <td>-0.306257</td>\n",
       "      <td>-0.281748</td>\n",
       "      <td>-0.269488</td>\n",
       "      <td>-1.320241</td>\n",
       "      <td>-2.727891</td>\n",
       "      <td>3.369144</td>\n",
       "      <td>0.775558</td>\n",
       "      <td>0.610927</td>\n",
       "      <td>-0.853164</td>\n",
       "      <td>-0.352463</td>\n",
       "    </tr>\n",
       "    <tr>\n",
       "      <th>2626</th>\n",
       "      <td>-0.492060</td>\n",
       "      <td>2.779763</td>\n",
       "      <td>-0.818940</td>\n",
       "      <td>-1.565914</td>\n",
       "      <td>-2.559286</td>\n",
       "      <td>0.251271</td>\n",
       "      <td>-1.461607</td>\n",
       "      <td>0.437881</td>\n",
       "      <td>-0.954095</td>\n",
       "      <td>-1.581492</td>\n",
       "      <td>...</td>\n",
       "      <td>2.160961</td>\n",
       "      <td>6.544147</td>\n",
       "      <td>4.084106</td>\n",
       "      <td>1.566285</td>\n",
       "      <td>1.107926</td>\n",
       "      <td>1.735406</td>\n",
       "      <td>1.872444</td>\n",
       "      <td>-0.808249</td>\n",
       "      <td>0.150345</td>\n",
       "      <td>0.206176</td>\n",
       "    </tr>\n",
       "    <tr>\n",
       "      <th>1690</th>\n",
       "      <td>0.033158</td>\n",
       "      <td>-0.409366</td>\n",
       "      <td>-0.040957</td>\n",
       "      <td>0.995936</td>\n",
       "      <td>0.755840</td>\n",
       "      <td>0.251271</td>\n",
       "      <td>-0.322957</td>\n",
       "      <td>-1.103126</td>\n",
       "      <td>0.207144</td>\n",
       "      <td>0.025843</td>\n",
       "      <td>...</td>\n",
       "      <td>-0.306257</td>\n",
       "      <td>-0.281748</td>\n",
       "      <td>-0.269488</td>\n",
       "      <td>-1.735564</td>\n",
       "      <td>-2.149114</td>\n",
       "      <td>-0.112767</td>\n",
       "      <td>0.527561</td>\n",
       "      <td>2.639416</td>\n",
       "      <td>1.166603</td>\n",
       "      <td>-0.565456</td>\n",
       "    </tr>\n",
       "    <tr>\n",
       "      <th>1160</th>\n",
       "      <td>-0.754669</td>\n",
       "      <td>1.040238</td>\n",
       "      <td>0.938268</td>\n",
       "      <td>-0.844945</td>\n",
       "      <td>0.746964</td>\n",
       "      <td>0.155255</td>\n",
       "      <td>0.822929</td>\n",
       "      <td>0.124974</td>\n",
       "      <td>-1.080573</td>\n",
       "      <td>0.017889</td>\n",
       "      <td>...</td>\n",
       "      <td>-0.306257</td>\n",
       "      <td>-0.281748</td>\n",
       "      <td>-0.269488</td>\n",
       "      <td>-1.802235</td>\n",
       "      <td>-4.126726</td>\n",
       "      <td>-2.837618</td>\n",
       "      <td>0.105742</td>\n",
       "      <td>-0.408569</td>\n",
       "      <td>1.295896</td>\n",
       "      <td>-2.458205</td>\n",
       "    </tr>\n",
       "  </tbody>\n",
       "</table>\n",
       "<p>4653 rows × 39 columns</p>\n",
       "</div>"
      ],
      "text/plain": [
       "       year_id       age  waa_pg_1yr  waa_pg_2yr  waa_pg_3yr  team_gp_3yr  \\\n",
       "2021 -1.673800  0.170476    1.036871    0.033849   -0.204624     0.251271   \n",
       "2334 -1.870756  0.750317   -0.583988    0.123513    0.433228     0.251271   \n",
       "167   0.952289 -0.699287   -1.228515    0.704435   -0.328919     0.251271   \n",
       "1070 -1.870756  0.460397   -1.400310   -0.607957    0.817766     0.251271   \n",
       "4349  0.558375  0.460397   -0.993270   -0.458138   -0.413009     0.155255   \n",
       "...        ...       ...         ...         ...         ...          ...   \n",
       "3213 -1.017278 -0.989208   -0.875004    0.643226    1.088266     0.251271   \n",
       "1125 -1.870756 -0.119445    1.599090    0.668580    0.251219     0.155255   \n",
       "2626 -0.492060  2.779763   -0.818940   -1.565914   -2.559286     0.251271   \n",
       "1690  0.033158 -0.409366   -0.040957    0.995936    0.755840     0.251271   \n",
       "1160 -0.754669  1.040238    0.938268   -0.844945    0.746964     0.155255   \n",
       "\n",
       "      inn_pg_1yr  runs_bat_pg_1yr  runs_bat_pg_2yr  runs_bat_pg_3yr  ...  \\\n",
       "2021   -1.283726         0.801821        -0.050087         0.702537  ...   \n",
       "2334   -1.365044        -0.241208         0.016080         0.196966  ...   \n",
       "167     0.487675        -0.043979         1.145227        -0.537878  ...   \n",
       "1070    0.523218        -0.774254        -0.643920         0.320787  ...   \n",
       "4349    0.834774        -1.359065        -0.646386        -0.015492  ...   \n",
       "...          ...              ...              ...              ...  ...   \n",
       "3213   -0.442153        -0.037916         1.319862         1.423243  ...   \n",
       "1125    0.846228         1.246760         0.865330        -0.217631  ...   \n",
       "2626   -1.461607         0.437881        -0.954095        -1.581492  ...   \n",
       "1690   -0.322957        -1.103126         0.207144         0.025843  ...   \n",
       "1160    0.822929         0.124974        -1.080573         0.017889  ...   \n",
       "\n",
       "      g_dh_share_1yr  g_dh_share_2yr  g_dh_share_3yr      pc_0      pc_1  \\\n",
       "2021       -0.306257       -0.281748       -0.269488  5.831705 -1.794716   \n",
       "2334       -0.306257       -0.281748       -0.269488  2.891187 -1.163036   \n",
       "167        -0.306257       -0.281748       -0.269488 -2.651506  1.967115   \n",
       "1070       -0.306257       -0.281748       -0.269488 -1.680922 -2.048990   \n",
       "4349        0.274963       -0.237298       -0.269488 -3.783996  3.978561   \n",
       "...              ...             ...             ...       ...       ...   \n",
       "3213       -0.306257       -0.281748       -0.269488  0.582370 -1.298605   \n",
       "1125       -0.306257       -0.281748       -0.269488 -1.320241 -2.727891   \n",
       "2626        2.160961        6.544147        4.084106  1.566285  1.107926   \n",
       "1690       -0.306257       -0.281748       -0.269488 -1.735564 -2.149114   \n",
       "1160       -0.306257       -0.281748       -0.269488 -1.802235 -4.126726   \n",
       "\n",
       "          pc_2      pc_3      pc_4      pc_5      pc_6  \n",
       "2021  2.350115  0.961168  1.428859 -1.651573 -0.184321  \n",
       "2334 -1.544370 -1.411330 -0.918092  1.019907 -1.150856  \n",
       "167  -0.622855  1.771594 -1.704079 -0.365019  0.319205  \n",
       "1070 -0.810785  1.133113 -1.537679  0.193505  0.043850  \n",
       "4349 -0.760553 -0.407349 -1.821573  0.242835 -0.350231  \n",
       "...        ...       ...       ...       ...       ...  \n",
       "3213 -0.907015  0.354861 -1.380179 -0.281663  0.529179  \n",
       "1125  3.369144  0.775558  0.610927 -0.853164 -0.352463  \n",
       "2626  1.735406  1.872444 -0.808249  0.150345  0.206176  \n",
       "1690 -0.112767  0.527561  2.639416  1.166603 -0.565456  \n",
       "1160 -2.837618  0.105742 -0.408569  1.295896 -2.458205  \n",
       "\n",
       "[4653 rows x 39 columns]"
      ]
     },
     "execution_count": 8,
     "metadata": {},
     "output_type": "execute_result"
    }
   ],
   "source": [
    "X_train"
   ]
  },
  {
   "cell_type": "markdown",
   "id": "b65f15b6",
   "metadata": {},
   "source": [
    "# Linear Regression"
   ]
  },
  {
   "cell_type": "code",
   "execution_count": 9,
   "id": "c15b50ab",
   "metadata": {
    "ExecuteTime": {
     "end_time": "2022-07-15T03:12:16.170366Z",
     "start_time": "2022-07-15T03:12:16.151367Z"
    }
   },
   "outputs": [],
   "source": [
    "lr = LinearRegression()"
   ]
  },
  {
   "cell_type": "code",
   "execution_count": 10,
   "id": "38ee206e",
   "metadata": {
    "ExecuteTime": {
     "end_time": "2022-07-15T03:12:16.360232Z",
     "start_time": "2022-07-15T03:12:16.297187Z"
    }
   },
   "outputs": [
    {
     "data": {
      "text/plain": [
       "LinearRegression()"
      ]
     },
     "execution_count": 10,
     "metadata": {},
     "output_type": "execute_result"
    }
   ],
   "source": [
    "lr.fit(X_train, y_train)"
   ]
  },
  {
   "cell_type": "code",
   "execution_count": 11,
   "id": "22b30419",
   "metadata": {
    "ExecuteTime": {
     "end_time": "2022-07-15T03:12:16.884687Z",
     "start_time": "2022-07-15T03:12:16.862667Z"
    }
   },
   "outputs": [],
   "source": [
    "y_hat = lr.predict(X_test)"
   ]
  },
  {
   "cell_type": "code",
   "execution_count": 12,
   "id": "b4d6d774",
   "metadata": {
    "ExecuteTime": {
     "end_time": "2022-07-15T03:12:17.728053Z",
     "start_time": "2022-07-15T03:12:17.703054Z"
    }
   },
   "outputs": [
    {
     "data": {
      "text/plain": [
       "0.36503329044763344"
      ]
     },
     "execution_count": 12,
     "metadata": {},
     "output_type": "execute_result"
    }
   ],
   "source": [
    "lr.score(X_test,y_test)"
   ]
  },
  {
   "cell_type": "markdown",
   "id": "4d842d63",
   "metadata": {
    "ExecuteTime": {
     "end_time": "2022-07-09T18:56:18.207747Z",
     "start_time": "2022-07-09T18:56:18.194747Z"
    }
   },
   "source": [
    "# Random Forest"
   ]
  },
  {
   "cell_type": "code",
   "execution_count": 9,
   "id": "7882139f",
   "metadata": {
    "ExecuteTime": {
     "end_time": "2022-07-10T23:36:22.598267Z",
     "start_time": "2022-07-10T23:36:22.582633Z"
    }
   },
   "outputs": [],
   "source": [
    "rf = RandomForestRegressor()"
   ]
  },
  {
   "cell_type": "code",
   "execution_count": 10,
   "id": "0e1064e8",
   "metadata": {
    "ExecuteTime": {
     "end_time": "2022-07-10T23:36:41.171565Z",
     "start_time": "2022-07-10T23:36:23.457525Z"
    }
   },
   "outputs": [
    {
     "name": "stderr",
     "output_type": "stream",
     "text": [
      "C:\\Users\\Larry\\AppData\\Local\\Temp\\ipykernel_6588\\1593328843.py:1: DataConversionWarning: A column-vector y was passed when a 1d array was expected. Please change the shape of y to (n_samples,), for example using ravel().\n",
      "  rf.fit(X_train,y_train)\n"
     ]
    },
    {
     "data": {
      "text/plain": [
       "RandomForestRegressor()"
      ]
     },
     "execution_count": 10,
     "metadata": {},
     "output_type": "execute_result"
    }
   ],
   "source": [
    "rf.fit(X_train,y_train)"
   ]
  },
  {
   "cell_type": "code",
   "execution_count": 11,
   "id": "2c6ddb5f",
   "metadata": {
    "ExecuteTime": {
     "end_time": "2022-07-10T23:36:41.293080Z",
     "start_time": "2022-07-10T23:36:41.189200Z"
    }
   },
   "outputs": [],
   "source": [
    "y_hat_rf = rf.predict(X_test)"
   ]
  },
  {
   "cell_type": "code",
   "execution_count": 12,
   "id": "7b0b6b76",
   "metadata": {
    "ExecuteTime": {
     "end_time": "2022-07-10T23:36:41.308078Z",
     "start_time": "2022-07-10T23:36:41.296079Z"
    }
   },
   "outputs": [
    {
     "data": {
      "text/plain": [
       "0.3623127255317514"
      ]
     },
     "execution_count": 12,
     "metadata": {},
     "output_type": "execute_result"
    }
   ],
   "source": [
    "r2_score(y_test, y_hat_rf)"
   ]
  },
  {
   "cell_type": "code",
   "execution_count": 13,
   "id": "1355cf49",
   "metadata": {
    "ExecuteTime": {
     "end_time": "2022-07-10T23:36:41.388093Z",
     "start_time": "2022-07-10T23:36:41.312080Z"
    }
   },
   "outputs": [
    {
     "data": {
      "text/html": [
       "<div>\n",
       "<style scoped>\n",
       "    .dataframe tbody tr th:only-of-type {\n",
       "        vertical-align: middle;\n",
       "    }\n",
       "\n",
       "    .dataframe tbody tr th {\n",
       "        vertical-align: top;\n",
       "    }\n",
       "\n",
       "    .dataframe thead th {\n",
       "        text-align: right;\n",
       "    }\n",
       "</style>\n",
       "<table border=\"1\" class=\"dataframe\">\n",
       "  <thead>\n",
       "    <tr style=\"text-align: right;\">\n",
       "      <th></th>\n",
       "      <th>0</th>\n",
       "    </tr>\n",
       "  </thead>\n",
       "  <tbody>\n",
       "    <tr>\n",
       "      <th>waa_pg_1yr</th>\n",
       "      <td>0.270876</td>\n",
       "    </tr>\n",
       "    <tr>\n",
       "      <th>waa_pg_2yr</th>\n",
       "      <td>0.113211</td>\n",
       "    </tr>\n",
       "    <tr>\n",
       "      <th>waa_pg_3yr</th>\n",
       "      <td>0.044219</td>\n",
       "    </tr>\n",
       "    <tr>\n",
       "      <th>age</th>\n",
       "      <td>0.036384</td>\n",
       "    </tr>\n",
       "    <tr>\n",
       "      <th>runs_defense_pg_3yr</th>\n",
       "      <td>0.027269</td>\n",
       "    </tr>\n",
       "    <tr>\n",
       "      <th>runs_defense_pg_2yr</th>\n",
       "      <td>0.025231</td>\n",
       "    </tr>\n",
       "    <tr>\n",
       "      <th>pc_5</th>\n",
       "      <td>0.024990</td>\n",
       "    </tr>\n",
       "    <tr>\n",
       "      <th>runs_br_pg_1yr</th>\n",
       "      <td>0.024581</td>\n",
       "    </tr>\n",
       "    <tr>\n",
       "      <th>runs_br_pg_3yr</th>\n",
       "      <td>0.024423</td>\n",
       "    </tr>\n",
       "    <tr>\n",
       "      <th>runs_defense_pg_1yr</th>\n",
       "      <td>0.024376</td>\n",
       "    </tr>\n",
       "  </tbody>\n",
       "</table>\n",
       "</div>"
      ],
      "text/plain": [
       "                            0\n",
       "waa_pg_1yr           0.270876\n",
       "waa_pg_2yr           0.113211\n",
       "waa_pg_3yr           0.044219\n",
       "age                  0.036384\n",
       "runs_defense_pg_3yr  0.027269\n",
       "runs_defense_pg_2yr  0.025231\n",
       "pc_5                 0.024990\n",
       "runs_br_pg_1yr       0.024581\n",
       "runs_br_pg_3yr       0.024423\n",
       "runs_defense_pg_1yr  0.024376"
      ]
     },
     "execution_count": 13,
     "metadata": {},
     "output_type": "execute_result"
    }
   ],
   "source": [
    "pd.DataFrame(rf.feature_importances_, index=X_train.columns).sort_values(0,ascending=False).head(10)"
   ]
  },
  {
   "cell_type": "markdown",
   "id": "0316406b",
   "metadata": {},
   "source": [
    "# SVM"
   ]
  },
  {
   "cell_type": "code",
   "execution_count": 19,
   "id": "0b89559e",
   "metadata": {
    "ExecuteTime": {
     "end_time": "2022-07-12T03:17:33.140643Z",
     "start_time": "2022-07-12T03:17:33.128642Z"
    }
   },
   "outputs": [
    {
     "data": {
      "text/plain": [
       "array([1.e-06, 1.e-05, 1.e-04])"
      ]
     },
     "execution_count": 19,
     "metadata": {},
     "output_type": "execute_result"
    }
   ],
   "source": [
    "np.logspace(-6,-4,3)"
   ]
  },
  {
   "cell_type": "code",
   "execution_count": 30,
   "id": "84c4ea26",
   "metadata": {
    "ExecuteTime": {
     "end_time": "2022-07-12T03:31:03.778244Z",
     "start_time": "2022-07-12T03:27:00.387197Z"
    },
    "scrolled": true
   },
   "outputs": [
    {
     "name": "stdout",
     "output_type": "stream",
     "text": [
      "Fitting 5 folds for each of 27 candidates, totalling 135 fits\n",
      "[CV 1/5] END .C=0.1, epsilon=0.001, gamma=1e-05;, score=0.322 total time=   2.2s\n",
      "[CV 2/5] END .C=0.1, epsilon=0.001, gamma=1e-05;, score=0.285 total time=   2.2s\n",
      "[CV 3/5] END .C=0.1, epsilon=0.001, gamma=1e-05;, score=0.305 total time=   2.2s\n",
      "[CV 4/5] END .C=0.1, epsilon=0.001, gamma=1e-05;, score=0.300 total time=   2.4s\n",
      "[CV 5/5] END .C=0.1, epsilon=0.001, gamma=1e-05;, score=0.295 total time=   2.3s\n",
      "[CV 1/5] END C=0.1, epsilon=0.001, gamma=0.0001;, score=0.382 total time=   2.2s\n",
      "[CV 2/5] END C=0.1, epsilon=0.001, gamma=0.0001;, score=0.328 total time=   2.3s\n",
      "[CV 3/5] END C=0.1, epsilon=0.001, gamma=0.0001;, score=0.362 total time=   2.3s\n",
      "[CV 4/5] END C=0.1, epsilon=0.001, gamma=0.0001;, score=0.359 total time=   2.4s\n",
      "[CV 5/5] END C=0.1, epsilon=0.001, gamma=0.0001;, score=0.348 total time=   2.6s\n",
      "[CV 1/5] END .C=0.1, epsilon=0.001, gamma=0.001;, score=0.377 total time=   2.6s\n",
      "[CV 2/5] END .C=0.1, epsilon=0.001, gamma=0.001;, score=0.314 total time=   2.4s\n",
      "[CV 3/5] END .C=0.1, epsilon=0.001, gamma=0.001;, score=0.357 total time=   2.4s\n",
      "[CV 4/5] END .C=0.1, epsilon=0.001, gamma=0.001;, score=0.356 total time=   2.3s\n",
      "[CV 5/5] END .C=0.1, epsilon=0.001, gamma=0.001;, score=0.340 total time=   2.4s\n",
      "[CV 1/5] END ..C=0.1, epsilon=0.01, gamma=1e-05;, score=0.287 total time=   0.9s\n",
      "[CV 2/5] END ..C=0.1, epsilon=0.01, gamma=1e-05;, score=0.261 total time=   0.9s\n",
      "[CV 3/5] END ..C=0.1, epsilon=0.01, gamma=1e-05;, score=0.283 total time=   0.9s\n",
      "[CV 4/5] END ..C=0.1, epsilon=0.01, gamma=1e-05;, score=0.270 total time=   0.9s\n",
      "[CV 5/5] END ..C=0.1, epsilon=0.01, gamma=1e-05;, score=0.270 total time=   1.0s\n",
      "[CV 1/5] END .C=0.1, epsilon=0.01, gamma=0.0001;, score=0.378 total time=   0.9s\n",
      "[CV 2/5] END .C=0.1, epsilon=0.01, gamma=0.0001;, score=0.329 total time=   0.9s\n",
      "[CV 3/5] END .C=0.1, epsilon=0.01, gamma=0.0001;, score=0.365 total time=   0.9s\n",
      "[CV 4/5] END .C=0.1, epsilon=0.01, gamma=0.0001;, score=0.355 total time=   0.9s\n",
      "[CV 5/5] END .C=0.1, epsilon=0.01, gamma=0.0001;, score=0.350 total time=   0.8s\n",
      "[CV 1/5] END ..C=0.1, epsilon=0.01, gamma=0.001;, score=0.379 total time=   0.9s\n",
      "[CV 2/5] END ..C=0.1, epsilon=0.01, gamma=0.001;, score=0.322 total time=   0.9s\n",
      "[CV 3/5] END ..C=0.1, epsilon=0.01, gamma=0.001;, score=0.362 total time=   1.0s\n",
      "[CV 4/5] END ..C=0.1, epsilon=0.01, gamma=0.001;, score=0.357 total time=   1.1s\n",
      "[CV 5/5] END ..C=0.1, epsilon=0.01, gamma=0.001;, score=0.352 total time=   0.9s\n",
      "[CV 1/5] END ..C=0.1, epsilon=0.1, gamma=1e-05;, score=-0.082 total time=   0.0s\n",
      "[CV 2/5] END ..C=0.1, epsilon=0.1, gamma=1e-05;, score=-0.058 total time=   0.0s\n",
      "[CV 3/5] END ..C=0.1, epsilon=0.1, gamma=1e-05;, score=-0.063 total time=   0.0s\n",
      "[CV 4/5] END ..C=0.1, epsilon=0.1, gamma=1e-05;, score=-0.085 total time=   0.0s\n",
      "[CV 5/5] END ..C=0.1, epsilon=0.1, gamma=1e-05;, score=-0.208 total time=   0.0s\n",
      "[CV 1/5] END .C=0.1, epsilon=0.1, gamma=0.0001;, score=-0.082 total time=   0.0s\n",
      "[CV 2/5] END .C=0.1, epsilon=0.1, gamma=0.0001;, score=-0.058 total time=   0.0s\n",
      "[CV 3/5] END .C=0.1, epsilon=0.1, gamma=0.0001;, score=-0.063 total time=   0.0s\n",
      "[CV 4/5] END .C=0.1, epsilon=0.1, gamma=0.0001;, score=-0.085 total time=   0.0s\n",
      "[CV 5/5] END .C=0.1, epsilon=0.1, gamma=0.0001;, score=-0.208 total time=   0.0s\n",
      "[CV 1/5] END ..C=0.1, epsilon=0.1, gamma=0.001;, score=-0.082 total time=   0.0s\n",
      "[CV 2/5] END ..C=0.1, epsilon=0.1, gamma=0.001;, score=-0.058 total time=   0.0s\n",
      "[CV 3/5] END ..C=0.1, epsilon=0.1, gamma=0.001;, score=-0.063 total time=   0.0s\n",
      "[CV 4/5] END ..C=0.1, epsilon=0.1, gamma=0.001;, score=-0.085 total time=   0.0s\n",
      "[CV 5/5] END ..C=0.1, epsilon=0.1, gamma=0.001;, score=-0.208 total time=   0.0s\n",
      "[CV 1/5] END .C=1.0, epsilon=0.001, gamma=1e-05;, score=0.383 total time=   2.2s\n",
      "[CV 2/5] END .C=1.0, epsilon=0.001, gamma=1e-05;, score=0.328 total time=   2.2s\n",
      "[CV 3/5] END .C=1.0, epsilon=0.001, gamma=1e-05;, score=0.361 total time=   2.3s\n",
      "[CV 4/5] END .C=1.0, epsilon=0.001, gamma=1e-05;, score=0.358 total time=   2.3s\n",
      "[CV 5/5] END .C=1.0, epsilon=0.001, gamma=1e-05;, score=0.348 total time=   2.3s\n",
      "[CV 1/5] END C=1.0, epsilon=0.001, gamma=0.0001;, score=0.383 total time=   2.3s\n",
      "[CV 2/5] END C=1.0, epsilon=0.001, gamma=0.0001;, score=0.327 total time=   2.4s\n",
      "[CV 3/5] END C=1.0, epsilon=0.001, gamma=0.0001;, score=0.359 total time=   2.4s\n",
      "[CV 4/5] END C=1.0, epsilon=0.001, gamma=0.0001;, score=0.360 total time=   2.3s\n",
      "[CV 5/5] END C=1.0, epsilon=0.001, gamma=0.0001;, score=0.345 total time=   2.3s\n",
      "[CV 1/5] END .C=1.0, epsilon=0.001, gamma=0.001;, score=0.339 total time=   3.3s\n",
      "[CV 2/5] END .C=1.0, epsilon=0.001, gamma=0.001;, score=0.263 total time=   3.3s\n",
      "[CV 3/5] END .C=1.0, epsilon=0.001, gamma=0.001;, score=0.329 total time=   3.3s\n",
      "[CV 4/5] END .C=1.0, epsilon=0.001, gamma=0.001;, score=0.316 total time=   3.4s\n",
      "[CV 5/5] END .C=1.0, epsilon=0.001, gamma=0.001;, score=0.308 total time=   3.3s\n",
      "[CV 1/5] END ..C=1.0, epsilon=0.01, gamma=1e-05;, score=0.378 total time=   0.9s\n",
      "[CV 2/5] END ..C=1.0, epsilon=0.01, gamma=1e-05;, score=0.329 total time=   0.9s\n",
      "[CV 3/5] END ..C=1.0, epsilon=0.01, gamma=1e-05;, score=0.364 total time=   0.9s\n",
      "[CV 4/5] END ..C=1.0, epsilon=0.01, gamma=1e-05;, score=0.355 total time=   0.9s\n",
      "[CV 5/5] END ..C=1.0, epsilon=0.01, gamma=1e-05;, score=0.350 total time=   0.9s\n",
      "[CV 1/5] END .C=1.0, epsilon=0.01, gamma=0.0001;, score=0.384 total time=   1.0s\n",
      "[CV 2/5] END .C=1.0, epsilon=0.01, gamma=0.0001;, score=0.330 total time=   1.0s\n",
      "[CV 3/5] END .C=1.0, epsilon=0.01, gamma=0.0001;, score=0.366 total time=   1.0s\n",
      "[CV 4/5] END .C=1.0, epsilon=0.01, gamma=0.0001;, score=0.361 total time=   1.0s\n",
      "[CV 5/5] END .C=1.0, epsilon=0.01, gamma=0.0001;, score=0.352 total time=   1.3s\n",
      "[CV 1/5] END ..C=1.0, epsilon=0.01, gamma=0.001;, score=0.352 total time=   1.6s\n",
      "[CV 2/5] END ..C=1.0, epsilon=0.01, gamma=0.001;, score=0.285 total time=   1.4s\n",
      "[CV 3/5] END ..C=1.0, epsilon=0.01, gamma=0.001;, score=0.350 total time=   1.4s\n",
      "[CV 4/5] END ..C=1.0, epsilon=0.01, gamma=0.001;, score=0.334 total time=   1.4s\n",
      "[CV 5/5] END ..C=1.0, epsilon=0.01, gamma=0.001;, score=0.333 total time=   1.4s\n",
      "[CV 1/5] END ..C=1.0, epsilon=0.1, gamma=1e-05;, score=-0.082 total time=   0.0s\n",
      "[CV 2/5] END ..C=1.0, epsilon=0.1, gamma=1e-05;, score=-0.058 total time=   0.0s\n",
      "[CV 3/5] END ..C=1.0, epsilon=0.1, gamma=1e-05;, score=-0.063 total time=   0.0s\n",
      "[CV 4/5] END ..C=1.0, epsilon=0.1, gamma=1e-05;, score=-0.085 total time=   0.0s\n",
      "[CV 5/5] END ..C=1.0, epsilon=0.1, gamma=1e-05;, score=-0.208 total time=   0.0s\n",
      "[CV 1/5] END .C=1.0, epsilon=0.1, gamma=0.0001;, score=-0.082 total time=   0.0s\n",
      "[CV 2/5] END .C=1.0, epsilon=0.1, gamma=0.0001;, score=-0.058 total time=   0.0s\n",
      "[CV 3/5] END .C=1.0, epsilon=0.1, gamma=0.0001;, score=-0.063 total time=   0.0s\n",
      "[CV 4/5] END .C=1.0, epsilon=0.1, gamma=0.0001;, score=-0.085 total time=   0.0s\n",
      "[CV 5/5] END .C=1.0, epsilon=0.1, gamma=0.0001;, score=-0.208 total time=   0.0s\n",
      "[CV 1/5] END ..C=1.0, epsilon=0.1, gamma=0.001;, score=-0.082 total time=   0.0s\n",
      "[CV 2/5] END ..C=1.0, epsilon=0.1, gamma=0.001;, score=-0.058 total time=   0.0s\n",
      "[CV 3/5] END ..C=1.0, epsilon=0.1, gamma=0.001;, score=-0.063 total time=   0.0s\n",
      "[CV 4/5] END ..C=1.0, epsilon=0.1, gamma=0.001;, score=-0.085 total time=   0.0s\n",
      "[CV 5/5] END ..C=1.0, epsilon=0.1, gamma=0.001;, score=-0.208 total time=   0.0s\n",
      "[CV 1/5] END C=10.0, epsilon=0.001, gamma=1e-05;, score=0.383 total time=   2.4s\n",
      "[CV 2/5] END C=10.0, epsilon=0.001, gamma=1e-05;, score=0.327 total time=   2.4s\n",
      "[CV 3/5] END C=10.0, epsilon=0.001, gamma=1e-05;, score=0.359 total time=   2.4s\n",
      "[CV 4/5] END C=10.0, epsilon=0.001, gamma=1e-05;, score=0.360 total time=   2.4s\n",
      "[CV 5/5] END C=10.0, epsilon=0.001, gamma=1e-05;, score=0.344 total time=   2.4s\n",
      "[CV 1/5] END C=10.0, epsilon=0.001, gamma=0.0001;, score=0.371 total time=   3.3s\n",
      "[CV 2/5] END C=10.0, epsilon=0.001, gamma=0.0001;, score=0.313 total time=   3.4s\n",
      "[CV 3/5] END C=10.0, epsilon=0.001, gamma=0.0001;, score=0.355 total time=   3.4s\n",
      "[CV 4/5] END C=10.0, epsilon=0.001, gamma=0.0001;, score=0.353 total time=   3.4s\n",
      "[CV 5/5] END C=10.0, epsilon=0.001, gamma=0.0001;, score=0.336 total time=   3.4s\n",
      "[CV 1/5] END C=10.0, epsilon=0.001, gamma=0.001;, score=0.266 total time=  12.2s\n"
     ]
    },
    {
     "name": "stdout",
     "output_type": "stream",
     "text": [
      "[CV 2/5] END C=10.0, epsilon=0.001, gamma=0.001;, score=0.188 total time=  12.2s\n",
      "[CV 3/5] END C=10.0, epsilon=0.001, gamma=0.001;, score=0.250 total time=  12.4s\n",
      "[CV 4/5] END C=10.0, epsilon=0.001, gamma=0.001;, score=0.256 total time=  12.3s\n",
      "[CV 5/5] END C=10.0, epsilon=0.001, gamma=0.001;, score=0.257 total time=  13.0s\n",
      "[CV 1/5] END .C=10.0, epsilon=0.01, gamma=1e-05;, score=0.384 total time=   0.9s\n",
      "[CV 2/5] END .C=10.0, epsilon=0.01, gamma=1e-05;, score=0.329 total time=   1.0s\n",
      "[CV 3/5] END .C=10.0, epsilon=0.01, gamma=1e-05;, score=0.365 total time=   0.9s\n",
      "[CV 4/5] END .C=10.0, epsilon=0.01, gamma=1e-05;, score=0.360 total time=   0.9s\n",
      "[CV 5/5] END .C=10.0, epsilon=0.01, gamma=1e-05;, score=0.351 total time=   0.9s\n",
      "[CV 1/5] END C=10.0, epsilon=0.01, gamma=0.0001;, score=0.380 total time=   1.3s\n",
      "[CV 2/5] END C=10.0, epsilon=0.01, gamma=0.0001;, score=0.318 total time=   1.3s\n",
      "[CV 3/5] END C=10.0, epsilon=0.01, gamma=0.0001;, score=0.362 total time=   1.3s\n",
      "[CV 4/5] END C=10.0, epsilon=0.01, gamma=0.0001;, score=0.357 total time=   1.3s\n",
      "[CV 5/5] END C=10.0, epsilon=0.01, gamma=0.0001;, score=0.350 total time=   1.3s\n",
      "[CV 1/5] END .C=10.0, epsilon=0.01, gamma=0.001;, score=0.286 total time=   4.9s\n",
      "[CV 2/5] END .C=10.0, epsilon=0.01, gamma=0.001;, score=0.212 total time=   5.0s\n",
      "[CV 3/5] END .C=10.0, epsilon=0.01, gamma=0.001;, score=0.302 total time=   4.9s\n",
      "[CV 4/5] END .C=10.0, epsilon=0.01, gamma=0.001;, score=0.271 total time=   5.0s\n",
      "[CV 5/5] END .C=10.0, epsilon=0.01, gamma=0.001;, score=0.284 total time=   4.8s\n",
      "[CV 1/5] END .C=10.0, epsilon=0.1, gamma=1e-05;, score=-0.082 total time=   0.0s\n",
      "[CV 2/5] END .C=10.0, epsilon=0.1, gamma=1e-05;, score=-0.058 total time=   0.0s\n",
      "[CV 3/5] END .C=10.0, epsilon=0.1, gamma=1e-05;, score=-0.063 total time=   0.0s\n",
      "[CV 4/5] END .C=10.0, epsilon=0.1, gamma=1e-05;, score=-0.085 total time=   0.0s\n",
      "[CV 5/5] END .C=10.0, epsilon=0.1, gamma=1e-05;, score=-0.208 total time=   0.0s\n",
      "[CV 1/5] END C=10.0, epsilon=0.1, gamma=0.0001;, score=-0.082 total time=   0.0s\n",
      "[CV 2/5] END C=10.0, epsilon=0.1, gamma=0.0001;, score=-0.058 total time=   0.0s\n",
      "[CV 3/5] END C=10.0, epsilon=0.1, gamma=0.0001;, score=-0.063 total time=   0.0s\n",
      "[CV 4/5] END C=10.0, epsilon=0.1, gamma=0.0001;, score=-0.085 total time=   0.0s\n",
      "[CV 5/5] END C=10.0, epsilon=0.1, gamma=0.0001;, score=-0.208 total time=   0.0s\n",
      "[CV 1/5] END .C=10.0, epsilon=0.1, gamma=0.001;, score=-0.082 total time=   0.0s\n",
      "[CV 2/5] END .C=10.0, epsilon=0.1, gamma=0.001;, score=-0.058 total time=   0.0s\n",
      "[CV 3/5] END .C=10.0, epsilon=0.1, gamma=0.001;, score=-0.063 total time=   0.0s\n",
      "[CV 4/5] END .C=10.0, epsilon=0.1, gamma=0.001;, score=-0.085 total time=   0.0s\n",
      "[CV 5/5] END .C=10.0, epsilon=0.1, gamma=0.001;, score=-0.208 total time=   0.0s\n"
     ]
    },
    {
     "data": {
      "text/plain": [
       "GridSearchCV(cv=5, estimator=SVR(),\n",
       "             param_grid={'C': array([ 0.1,  1. , 10. ]),\n",
       "                         'epsilon': array([0.001, 0.01 , 0.1  ]),\n",
       "                         'gamma': array([1.e-05, 1.e-04, 1.e-03])},\n",
       "             scoring='r2', verbose=3)"
      ]
     },
     "execution_count": 30,
     "metadata": {},
     "output_type": "execute_result"
    }
   ],
   "source": [
    "reg = SVR()\n",
    "\n",
    "gamma_range = np.logspace(-5,-3,3)\n",
    "epsilon_range = np.logspace(-3,-1,3)\n",
    "C_range = np.logspace(-1,1,3)\n",
    "\n",
    "\n",
    "param_grid = dict(epsilon=epsilon_range,\n",
    "                  C=C_range,\n",
    "                  gamma=gamma_range)\n",
    "\n",
    "grid = GridSearchCV(reg, param_grid,\n",
    "                    cv = 5,\n",
    "                    scoring = 'r2',\n",
    "                    verbose = 3)\n",
    "\n",
    "grid.fit(X_train,y_train.values.ravel())"
   ]
  },
  {
   "cell_type": "code",
   "execution_count": 31,
   "id": "665f3795",
   "metadata": {
    "ExecuteTime": {
     "end_time": "2022-07-12T03:31:06.805081Z",
     "start_time": "2022-07-12T03:31:06.785063Z"
    }
   },
   "outputs": [
    {
     "data": {
      "text/plain": [
       "{'C': 1.0, 'epsilon': 0.01, 'gamma': 0.0001}"
      ]
     },
     "execution_count": 31,
     "metadata": {},
     "output_type": "execute_result"
    }
   ],
   "source": [
    "grid.best_params_"
   ]
  },
  {
   "cell_type": "code",
   "execution_count": 32,
   "id": "e919aa5c",
   "metadata": {
    "ExecuteTime": {
     "end_time": "2022-07-12T03:31:31.074900Z",
     "start_time": "2022-07-12T03:31:31.056832Z"
    }
   },
   "outputs": [
    {
     "data": {
      "text/plain": [
       "0.3586030193497778"
      ]
     },
     "execution_count": 32,
     "metadata": {},
     "output_type": "execute_result"
    }
   ],
   "source": [
    "grid.best_score_"
   ]
  },
  {
   "cell_type": "code",
   "execution_count": 54,
   "id": "739f25bc",
   "metadata": {
    "ExecuteTime": {
     "end_time": "2022-07-10T22:58:48.040166Z",
     "start_time": "2022-07-10T22:58:48.025165Z"
    }
   },
   "outputs": [],
   "source": [
    "reg = SVR(gamma=gamma_range[0],\n",
    "          C=C_range[0],\n",
    "          kernel=kernel_range[0])"
   ]
  },
  {
   "cell_type": "code",
   "execution_count": 55,
   "id": "6f460f88",
   "metadata": {
    "ExecuteTime": {
     "end_time": "2022-07-10T22:58:54.015695Z",
     "start_time": "2022-07-10T22:58:54.000673Z"
    }
   },
   "outputs": [
    {
     "data": {
      "text/plain": [
       "SVR(C=0.001, gamma=1e-05, kernel='linear')"
      ]
     },
     "execution_count": 55,
     "metadata": {},
     "output_type": "execute_result"
    }
   ],
   "source": [
    "reg.fit(X_train,y_train.values.ravel())"
   ]
  },
  {
   "cell_type": "code",
   "execution_count": 56,
   "id": "9023c86e",
   "metadata": {
    "ExecuteTime": {
     "end_time": "2022-07-10T22:59:13.977193Z",
     "start_time": "2022-07-10T22:59:13.953166Z"
    }
   },
   "outputs": [
    {
     "data": {
      "text/plain": [
       "-0.10666975517075472"
      ]
     },
     "execution_count": 56,
     "metadata": {},
     "output_type": "execute_result"
    }
   ],
   "source": [
    "reg.score(X_test, y_test.values.ravel())"
   ]
  },
  {
   "cell_type": "code",
   "execution_count": 46,
   "id": "15eea9c1",
   "metadata": {
    "ExecuteTime": {
     "end_time": "2022-07-10T22:55:28.993367Z",
     "start_time": "2022-07-10T22:55:28.985338Z"
    }
   },
   "outputs": [
    {
     "data": {
      "text/plain": [
       "array([-0.01900826, -0.0045082 , -0.01458065, ..., -0.00318182,\n",
       "        0.01425532,  0.01054422])"
      ]
     },
     "execution_count": 46,
     "metadata": {},
     "output_type": "execute_result"
    }
   ],
   "source": [
    "y_train.values.ravel()"
   ]
  },
  {
   "cell_type": "code",
   "execution_count": 48,
   "id": "9c969ff6",
   "metadata": {
    "ExecuteTime": {
     "end_time": "2022-07-10T22:55:59.254215Z",
     "start_time": "2022-07-10T22:55:59.232215Z"
    }
   },
   "outputs": [
    {
     "data": {
      "text/plain": [
       "-0.07090936700738926"
      ]
     },
     "execution_count": 48,
     "metadata": {},
     "output_type": "execute_result"
    }
   ],
   "source": [
    "reg.score(X_train, y_train)"
   ]
  },
  {
   "cell_type": "code",
   "execution_count": null,
   "id": "a0aade55",
   "metadata": {},
   "outputs": [],
   "source": []
  }
 ],
 "metadata": {
  "kernelspec": {
   "display_name": "Python 3 (ipykernel)",
   "language": "python",
   "name": "python3"
  },
  "language_info": {
   "codemirror_mode": {
    "name": "ipython",
    "version": 3
   },
   "file_extension": ".py",
   "mimetype": "text/x-python",
   "name": "python",
   "nbconvert_exporter": "python",
   "pygments_lexer": "ipython3",
   "version": "3.9.12"
  },
  "toc": {
   "base_numbering": 1,
   "nav_menu": {},
   "number_sections": false,
   "sideBar": true,
   "skip_h1_title": false,
   "title_cell": "Table of Contents",
   "title_sidebar": "Contents",
   "toc_cell": false,
   "toc_position": {},
   "toc_section_display": true,
   "toc_window_display": false
  }
 },
 "nbformat": 4,
 "nbformat_minor": 5
}
