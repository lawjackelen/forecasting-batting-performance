{
 "cells": [
  {
   "cell_type": "markdown",
   "id": "753d97e9",
   "metadata": {},
   "source": [
    "### Imports"
   ]
  },
  {
   "cell_type": "code",
   "execution_count": 46,
   "id": "e8e85f96",
   "metadata": {
    "ExecuteTime": {
     "end_time": "2022-06-21T15:03:53.706952Z",
     "start_time": "2022-06-21T15:03:53.694952Z"
    }
   },
   "outputs": [
    {
     "data": {
      "text/html": [
       "<style>table {align:left;display:block} </style>"
      ],
      "text/plain": [
       "<IPython.core.display.HTML object>"
      ]
     },
     "execution_count": 46,
     "metadata": {},
     "output_type": "execute_result"
    }
   ],
   "source": [
    "import pandas as pd\n",
    "import numpy as np\n",
    "import matplotlib.pyplot as plt\n",
    "# import seaborn as sns\n",
    "\n",
    "pd.set_option('display.max_columns',99)\n",
    "from IPython.core.display import HTML\n",
    "table_css = 'table {align:left;display:block} '\n",
    "HTML('<style>{}</style>'.format(table_css))"
   ]
  },
  {
   "cell_type": "code",
   "execution_count": 2,
   "id": "75b88f99",
   "metadata": {
    "ExecuteTime": {
     "end_time": "2022-06-21T14:43:16.189794Z",
     "start_time": "2022-06-21T14:43:14.381398Z"
    }
   },
   "outputs": [],
   "source": [
    "batting = pd.read_csv('../data/war_daily_bat.txt')\n",
    "pitching = pd.read_csv('../data/war_daily_pitch.txt')\n",
    "positions = pd.read_csv('../data/majors_appearances.csv')\n",
    "\n",
    "# https://github.com/chadwickbureau/register/tree/master/data\n",
    "# countries = pd.read_csv('../data/countries.csv')\n",
    "# people = pd.read_csv('../data/people.csv')\n",
    "# names =  pd.read_csv('../data/names.csv')"
   ]
  },
  {
   "cell_type": "code",
   "execution_count": 3,
   "id": "9054ebc4",
   "metadata": {
    "ExecuteTime": {
     "end_time": "2022-06-21T14:43:16.205484Z",
     "start_time": "2022-06-21T14:43:16.189794Z"
    }
   },
   "outputs": [],
   "source": [
    "# pythonize columns\n",
    "batting.columns = [col.lower() for col in batting.columns]\n",
    "pitching.columns = [col.lower() for col in pitching.columns]\n",
    "positions.columns = [col.lower() for col in positions.columns]"
   ]
  },
  {
   "cell_type": "code",
   "execution_count": 4,
   "id": "b67fbd03",
   "metadata": {
    "ExecuteTime": {
     "end_time": "2022-06-21T14:43:16.347919Z",
     "start_time": "2022-06-21T14:43:16.213483Z"
    }
   },
   "outputs": [],
   "source": [
    "# drop columns not needed for this analysis\n",
    "batting.drop(['salary'], axis=1, inplace=True)\n",
    "pitching.drop(['salary'], axis=1, inplace=True)\n",
    "positions.drop(['how_acquired','total_season','total_league'], axis=1, inplace=True)"
   ]
  },
  {
   "cell_type": "markdown",
   "id": "6e3eb3da",
   "metadata": {},
   "source": [
    "\n",
    "|Dataset| # Records | # of Columns|  \n",
    "| ---------------------------------- | ----------- |---|\n",
    "|**batting**| 119,681       |49|\n",
    "| **pitching**   | 53,635        |43|\n",
    "|**positions**|120,131|26|"
   ]
  },
  {
   "cell_type": "markdown",
   "id": "be8288bd",
   "metadata": {},
   "source": [
    "### Data Dictionary\n",
    "#### Player variables\n",
    "| Column | *dtype* | Description |\n",
    "| :-- | :-- | :-- |\n",
    "| name_common | *str* | Name of player |\n",
    "| age | *float* | Player’s age at midnight of June 30th of that year |\n",
    "| mlb_id | *float* | UID for player in baseball-reference database |\n",
    "| player_id | *str* | String-based UID generated as a function of name_common in baseball-reference database |\n",
    "| year_id | *int* | Year the season took place |\n",
    "| team_ID | *str* | Abbreviation for the team the season was played for, each team will get a different record if multiple teams were played for within the same year |\n",
    "| stint_ID | *int* | Order of team played for. 1 for first team, 2 for second, etc. |\n",
    "| lg_ID | *str* | Abbreviation for the league the team played for was in |\n",
    "| G | *int* | This includes all times that the player appeared on the lineup card. Pitchers in non-DH games that appeared on the lineup card but didn't bat will still have a game in this column. |\n",
    "| GS | *int* | Games started |\n",
    "| pitcher | *bool* | Indicator for player is a pitcher. |\n",
    "| experience | *int* | Number of seasons played including the record's season |\n",
    "\n",
    "\n",
    "--------------------\n",
    "\n",
    "\n",
    "#### Batter-side variables\n",
    "| Column | *dtype* | Description |\n",
    "| :-- | :-- | :-- |\n",
    "| PA | *float* | When available, we use actual plate appearances from play-by-play game accounts. Otherwise estimated using AB + BB + HBP + SF + SH, which excludes catcher interferences. |\n",
    "| Inn | *float* | Innings played |\n",
    "| OPS_plus | *float* | 100*[OBP/lg OBP + SLG/lg SLG - 1] Adjusted to the player’s ballpark(s) |\n",
    "| TOB_lg | *float* | League average for Times on Base. The cumulative total number of times a batter has reached base as a result of hits, walks and hit by pitches. |\n",
    "| TB_lg | *float* | League average for Total Bases. The number of bases a player has gained with hits. It is a weighted sum for which the weight value is 1 for a single, 2 for a double, 3 for a triple and 4 for a home run |\n",
    "\n",
    "\n",
    "--------------------\n",
    "\n",
    "\n",
    "#### Pitcher-side variables\n",
    "| Column | *dtype* | Description |\n",
    "| :-- | :-- | :-- |\n",
    "| IPouts | *int* | Innings pitched expressed as outs |\n",
    "| IPouts_start | *float* | Innings pitched expressed as outs in a start |\n",
    "| IPouts_relief | *float* | Innings pitched expressed as outs in relief |\n",
    "| RA | *int* | Runs Allowed |\n",
    "| xRA | *float* | The pitcher's expected runs allowed is then the sum of his opposition's run scoring weighted by the innings he faced each team. |\n",
    "| xRA_sprp_adj | *float* | xRA adjusted such that a SP is expected to give up .1125 runs/game |\n",
    "| xRA_extras_adj | *float* | Adjustment for placed runner in extra innings |\n",
    "| xRA_def_pitcher | *float* |  BIP_perc * RS_def_total |\n",
    "| PPF | *int* | Half home-stadium, half league average |\n",
    "| PPF_custom | *float* | Custom Park Factors - customized value considering the park factors of the park the pitcher played in. |\n",
    "| xRA_final | *float* | PPF_custom * (xRA - xRA_def + xRA_sprp_adj) |\n",
    "| BIP | *float* | Balls in Play |\n",
    "| BIP_perc | *float* | % of pitcher's team bip for the season that were from that pitcher. (BIP_pitcher)/(BIP_team) |\n",
    "| RS_def_total | *float* | Total amount runs saved by defense |\n",
    "| RpO_replacement | *float* | Runs per Out recorded expected by a replacement level pitcher |\n",
    "| GR_leverage_index_avg | *float* | Solely for relief appearances, this is the average of each appearances opening leverage index weighted by the batters faced in that outing. The average pressure the pitcher or batter saw in this game or season. 1.0 is average pressure, below 1.0 is low pressure and above 1.0 is high pressure.\" |\n",
    "| ERA_plus | *float* | 100*[lgERA/ERA] Adjusted to the player’s ballpark(s).|\n",
    "| ER_lg | *float* | League average for Earned Runs. |\n",
    "\n",
    "\n",
    "-------------------\n",
    "\n",
    "\n",
    "#### Position variables\n",
    "| Column | *dtype* | Description |\n",
    "| :-- | :-- | :-- |\n",
    "| G_all | *int* | Total Games |\n",
    "| G_batting | *int* | Games which a PA position occurred |\n",
    "| GS_defense | *float* | Games started in which a position was played |\n",
    "| G_defense | *float* | Games in which a position was played |\n",
    "| G_p | *int* | Games in which the pitcher position was played |\n",
    "| G_c | *int* | Games in which the catcger position was played |\n",
    "| G_1b | *int* | Games in which the first base position was played |\n",
    "| G_2b | *int* | Games in which the second base position was played |\n",
    "| G_3b | *int* | Games in which the third base position was played |\n",
    "| G_ss | *int* | Games in which the short stop position was played |\n",
    "| G_lf | *int* | Games in which the left field position was played |\n",
    "| G_cf | *int* | Games in which the center field position was played |\n",
    "| G_rf | *int* | Games in which the right field position was played |\n",
    "| G_of | *int* | Games in which any outfield position was played |\n",
    "| G_dh | *int* | Games in which the designated hitter position was played |\n",
    "| G_ph | *int* | Games in which the player was a pinch hitter |\n",
    "| G_pr | *int* | Games in which the player was a pinch runner |\n",
    "\n",
    "\n",
    "--------------------\n",
    "\n",
    "\n",
    "#### Runs variables\n",
    "| Column | *dtype* | Description |\n",
    "| :-- | :-- | :-- |\n",
    "| runs_bat | *float* | Number of runs better or worse than average the player was as a hitter. This is based on a modified version of wRAA. |\n",
    "| runs_br | *float* | Number of runs better or worse than average the player was for all baserunning events. SB, CS, PB, WP, Defensive Indifference. |\n",
    "| runs_dp | *float* | Number of runs better or worse than average the player was at avoiding grounding into double plays. |\n",
    "| runs_field | *float* | Fielding Range Plus/Minus Runs Saved based on BIS-trained scorer observations and batted ball timing to determine the velocity of each batted ball. |\n",
    "| runs_infield | *float* | double plays and bunts |\n",
    "| runs_outfield | *float* | outfield arms |\n",
    "| runs_catcher | *float* | catcher defense |\n",
    "| runs_good_plays | *float* | home run saving catches |\n",
    "| runs_defense | *float* | Number of runs better or worse than average the player was for all fielding. Fielding of balls in play, turning double plays, outfield arms and catcher defense are all included. |\n",
    "| runs_position | *float* | Number of runs above or below average due to positional differences. Positions like C, SS, and 2B get a bonus. Positions like 1B, DH, LF get a penalty. |\n",
    "| runs_position_p | *float* | Positional adjustment for pitchers because they bat as well and need a fielding adjustment |\n",
    "| runs_replacement | *float* | Number of runs of a replacement player. Replacement is set for a .294 team winning percentage. |\n",
    "| runs_above_rep | *float* | Runs above Replacement Level - Total of other columns It is the number of runs this player is better than a replacement player. Replacement is set for a .294 team winning percentage. |\n",
    "| runs_above_avg | *float* | Runs from Replacement Level - Number of runs an average player is better than a replacement player. Replacement is set for a .294 team winning percentage. |\n",
    "| runs_above_avg_off | *float* | Number of batting runs an average player is better than the batting runs of a replacement player. (no runs defense) |\n",
    "| runs_above_avg_def | *float* | Number of fielding runs an average player is better than the fielding runs of a replacement player. (runs defense AND runs position) ... adding off and def does double count runs position FYI |\n",
    "| runs_above_avg_adj | *float* | Recentering runs_above_avg around zero. So summing runs_above_avg = 0. |\n",
    "\n",
    "\n",
    "--------------------\n",
    "\n",
    "\n",
    "#### WAR variables\n",
    "| Column | *dtype* | Description |\n",
    "| :-- | :-- | :-- |\n",
    "| WAA | *float* | Wins Above Avg - This is the wins added by this player above that of an average player. We compute the waaW-L% using a PythagenPat conversion and then subtract .500 and multiply by the number of games |\n",
    "| WAA_off | *float* | Offensive Wins Above Average |\n",
    "| WAA_def | *float* | Defensive Wins Above Average |\n",
    "| WAA_adj | *float* | Recentering waa around zero, similar to runs_above_avg_adj |\n",
    "| WAR | *float* | A single number that presents the number of wins the player added to the team above what a replacement player (think AAA or AAAA) would add. Scale for a single-season: 8+ MVP Quality, 5+ All-Star Quality, |\n",
    "| WAR_def | *float* | Defensive Wins Above Replacement for position players - A defensive measure of wins above replacement, but given only the defensive stats of the player and his position adjustment. For this calculation, we use a replacement level on defense is the league average. |\n",
    "| WAR_off | *float* | Offensive Wins Above Replacement (everything but Fielding) The same statistic as Wins Above Replacement for Position Players (WAR), but with the fielding value excluded. |\n",
    "| WAR_rep | *float* | The difference between WAR and WAA. The gap between replacement and average players |\n",
    "| WAR_bat | *float* | Batting War |\n",
    "| WAR_pitch | *float* | Pitching War |\n",
    "\n",
    "\n",
    "--------------------\n",
    "\n",
    "\n",
    "#### Pythagorean\n",
    "| Column | *dtype* | Description |\n",
    "| :-- | :-- | :-- |\n",
    "| teamRpG | *float* | an avg team runs scored with this player |\n",
    "| oppRpG | *float* |  an avg team runs allowed with this player |\n",
    "| oppRpPA_rep | *float* | an avg team runs allowed per pa by a replacement player |\n",
    "| oppRpG_rep | *float* | an avg team runs allowed per g by a replacement player |\n",
    "| pyth_exponent | *float* |  pythagenpat exponent based on run environment for avg teams where pythagenpat = ((rs + ra)/g)^.285 |\n",
    "| pyth_exponent_rep | *float* | pythagenpat exponent based on a run environment for a replacement player |\n",
    "| waa_win_perc | *float* | Win-Loss% w/ Avg. Team - This is the win-loss of an otherwise average team in ONLY the games this player played in. For example, for a pitcher this would only consider the games the pitcher threw |\n",
    "| waa_win_perc_off | *float* | just for offense |\n",
    "| waa_win_perc_def | *float* |  just for defense |\n",
    "| waa_win_perc_rep | *float* | how a replacent player would do. |\n"
   ]
  },
  {
   "cell_type": "markdown",
   "id": "4d0c5d97",
   "metadata": {},
   "source": [
    "The amount of data, as well as the amount of variables, will allow us to proceed with our project. The breakout of WAR, WAA, and runs by their respective portions should give be able to give us a deeper dive into modeling WAR against a baseline of the player's career average war.\n",
    "\n",
    "The nature of the batting, pitching, and positions tables will make trending across years simple since each row represents one or part of one season. There will be little unpacking to create a year-by-year trend line for a players WAR or other stats.\n",
    "\n",
    "The process for what's next:\n",
    "  1.  Maintain separation between **Batters** and **Pitchers** by utilizing `pitcher` bool in **Batters**.<br><br>\n",
    "  2.  Identify appropriate positional designations based on distributions within **Positions**\n",
    "*  A certain example would be to identify solo-position players by year based on a threshold of X% being played at that one position<br><br>\n",
    "  3.  Add the positional designation to **Batters** to have an additional variable for grouping and finding similar players<br><br>\n",
    "  4.  Create look-back values for the previous year's WAR values, two year's values, third year's values, etc.\n"
   ]
  },
  {
   "cell_type": "markdown",
   "id": "6726d789",
   "metadata": {},
   "source": [
    "### Data Munge"
   ]
  },
  {
   "cell_type": "markdown",
   "id": "6118e9a6",
   "metadata": {},
   "source": [
    "Baseball fans, reporters, historians, and statisticians tend to agree that there are different eras for baseball. They have names like \"dead-ball era\", \"live-ball era\", \"post-war\", \"steroid era\", etc. The lively debate online is not whether they exist but the lines of demarcation between the eras.\n",
    "\n",
    "For this analysis, we will examine the league starting in the \"expansion era\" which is commonly described as starting in 1962 due to the increase in the number of teams in the league. This will have a few benefits:\n",
    "  1.  The number of teams will be at least 20\n",
    "  2.  It excludes years with sparse game information, allowing for better data completeness\n",
    "  3.  The schedule was standardized to 162 games by this point\n",
    "  \n",
    "On the other side, the data will end in 2019 due to a shortened season in 2020 because of the COVID-19 pandemic."
   ]
  },
  {
   "cell_type": "code",
   "execution_count": 5,
   "id": "30eed7d2",
   "metadata": {
    "ExecuteTime": {
     "end_time": "2022-06-21T14:43:16.458261Z",
     "start_time": "2022-06-21T14:43:16.349851Z"
    }
   },
   "outputs": [],
   "source": [
    "# remove pre-1962 and post-2019 data\n",
    "batting = batting[(batting.year_id > 1961) & (batting.year_id < 2020)]\n",
    "pitching = pitching[(pitching.year_id > 1961) & (pitching.year_id < 2020)]\n",
    "positions = positions[(positions.year_id > 1961) & (positions.year_id < 2020)]"
   ]
  },
  {
   "cell_type": "markdown",
   "id": "09b9c690",
   "metadata": {},
   "source": [
    "\n",
    "|Dataset| # Records | # of Columns|  \n",
    "| ---------------------------------- | ----------- |---|\n",
    "|**batting**| 65,444       |49|\n",
    "| **pitching**   | 31,171        |43|\n",
    "|**positions**|65,445|26|"
   ]
  },
  {
   "cell_type": "markdown",
   "id": "f4f07ae1",
   "metadata": {},
   "source": [
    "#### Null Values"
   ]
  },
  {
   "cell_type": "code",
   "execution_count": 22,
   "id": "de5b1d3e",
   "metadata": {
    "ExecuteTime": {
     "end_time": "2022-06-21T14:50:39.725792Z",
     "start_time": "2022-06-21T14:50:39.653745Z"
    }
   },
   "outputs": [
    {
     "data": {
      "text/html": [
       "<div>\n",
       "<style scoped>\n",
       "    .dataframe tbody tr th:only-of-type {\n",
       "        vertical-align: middle;\n",
       "    }\n",
       "\n",
       "    .dataframe tbody tr th {\n",
       "        vertical-align: top;\n",
       "    }\n",
       "\n",
       "    .dataframe thead th {\n",
       "        text-align: right;\n",
       "    }\n",
       "</style>\n",
       "<table border=\"1\" class=\"dataframe\">\n",
       "  <thead>\n",
       "    <tr style=\"text-align: right;\">\n",
       "      <th></th>\n",
       "      <th># of Nulls</th>\n",
       "    </tr>\n",
       "  </thead>\n",
       "  <tbody>\n",
       "    <tr>\n",
       "      <th>runs_good_plays</th>\n",
       "      <td>41336</td>\n",
       "    </tr>\n",
       "    <tr>\n",
       "      <th>waa</th>\n",
       "      <td>7799</td>\n",
       "    </tr>\n",
       "    <tr>\n",
       "      <th>waa_off</th>\n",
       "      <td>7799</td>\n",
       "    </tr>\n",
       "    <tr>\n",
       "      <th>waa_def</th>\n",
       "      <td>7799</td>\n",
       "    </tr>\n",
       "    <tr>\n",
       "      <th>war</th>\n",
       "      <td>8234</td>\n",
       "    </tr>\n",
       "    <tr>\n",
       "      <th>war_def</th>\n",
       "      <td>7799</td>\n",
       "    </tr>\n",
       "    <tr>\n",
       "      <th>war_off</th>\n",
       "      <td>8234</td>\n",
       "    </tr>\n",
       "    <tr>\n",
       "      <th>war_rep</th>\n",
       "      <td>8234</td>\n",
       "    </tr>\n",
       "    <tr>\n",
       "      <th>pitcher</th>\n",
       "      <td>435</td>\n",
       "    </tr>\n",
       "    <tr>\n",
       "      <th>teamrpg</th>\n",
       "      <td>7799</td>\n",
       "    </tr>\n",
       "    <tr>\n",
       "      <th>opprpg_rep</th>\n",
       "      <td>7799</td>\n",
       "    </tr>\n",
       "    <tr>\n",
       "      <th>pyth_exponent</th>\n",
       "      <td>7799</td>\n",
       "    </tr>\n",
       "    <tr>\n",
       "      <th>pyth_exponent_rep</th>\n",
       "      <td>7799</td>\n",
       "    </tr>\n",
       "    <tr>\n",
       "      <th>waa_win_perc</th>\n",
       "      <td>7799</td>\n",
       "    </tr>\n",
       "    <tr>\n",
       "      <th>waa_win_perc_off</th>\n",
       "      <td>7799</td>\n",
       "    </tr>\n",
       "    <tr>\n",
       "      <th>waa_win_perc_def</th>\n",
       "      <td>7799</td>\n",
       "    </tr>\n",
       "    <tr>\n",
       "      <th>waa_win_perc_rep</th>\n",
       "      <td>7799</td>\n",
       "    </tr>\n",
       "    <tr>\n",
       "      <th>ops_plus</th>\n",
       "      <td>15406</td>\n",
       "    </tr>\n",
       "  </tbody>\n",
       "</table>\n",
       "</div>"
      ],
      "text/plain": [
       "                   # of Nulls\n",
       "runs_good_plays         41336\n",
       "waa                      7799\n",
       "waa_off                  7799\n",
       "waa_def                  7799\n",
       "war                      8234\n",
       "war_def                  7799\n",
       "war_off                  8234\n",
       "war_rep                  8234\n",
       "pitcher                   435\n",
       "teamrpg                  7799\n",
       "opprpg_rep               7799\n",
       "pyth_exponent            7799\n",
       "pyth_exponent_rep        7799\n",
       "waa_win_perc             7799\n",
       "waa_win_perc_off         7799\n",
       "waa_win_perc_def         7799\n",
       "waa_win_perc_rep         7799\n",
       "ops_plus                15406"
      ]
     },
     "execution_count": 22,
     "metadata": {},
     "output_type": "execute_result"
    }
   ],
   "source": [
    "batting[batting.columns[batting.isnull().any()]].isnull().sum()\\\n",
    "                                                    .to_frame(\"# of Nulls\")"
   ]
  },
  {
   "cell_type": "markdown",
   "id": "94cf3db3",
   "metadata": {},
   "source": [
    "`runs_good_plays` nulls"
   ]
  },
  {
   "cell_type": "code",
   "execution_count": 37,
   "id": "95d0e85b",
   "metadata": {
    "ExecuteTime": {
     "end_time": "2022-06-21T14:57:56.286697Z",
     "start_time": "2022-06-21T14:57:55.998125Z"
    }
   },
   "outputs": [
    {
     "data": {
      "image/png": "[encoded data removed]",
      "text/plain": [
       "<Figure size 460.8x345.6 with 1 Axes>"
      ]
     },
     "metadata": {
      "needs_background": "light"
     },
     "output_type": "display_data"
    }
   ],
   "source": [
    "fig, ax = plt.subplots(1, 1, figsize = (6.4,4.8))\n",
    "ax.plot(batting.isnull().groupby(batting['year_id']).sum().runs_good_plays)\n",
    "ax.set_title('Count of Nulls for runs_good_plays')\n",
    "ax.set_ylabel('# of Nulls')\n",
    "ax.set_xlabel('year_id');"
   ]
  },
  {
   "cell_type": "markdown",
   "id": "c7d8dc0c",
   "metadata": {},
   "source": [
    "`runs_good_plays` only has values from 2003 onward. Baseball-Reference changed their fielding/defense runs values from TZR (total zone rating) to DRS (defensive runs saved) in 2003. `runs_good_plays` is a variable only present in DRS."
   ]
  }
 ],
 "metadata": {
  "kernelspec": {
   "display_name": "Python 3 (ipykernel)",
   "language": "python",
   "name": "python3"
  },
  "language_info": {
   "codemirror_mode": {
    "name": "ipython",
    "version": 3
   },
   "file_extension": ".py",
   "mimetype": "text/x-python",
   "name": "python",
   "nbconvert_exporter": "python",
   "pygments_lexer": "ipython3",
   "version": "3.9.7"
  },
  "toc": {
   "base_numbering": 1,
   "nav_menu": {},
   "number_sections": false,
   "sideBar": true,
   "skip_h1_title": false,
   "title_cell": "Table of Contents",
   "title_sidebar": "Contents",
   "toc_cell": false,
   "toc_position": {
    "height": "calc(100% - 180px)",
    "left": "10px",
    "top": "150px",
    "width": "426.667px"
   },
   "toc_section_display": true,
   "toc_window_display": true
  }
 },
 "nbformat": 4,
 "nbformat_minor": 5
}
